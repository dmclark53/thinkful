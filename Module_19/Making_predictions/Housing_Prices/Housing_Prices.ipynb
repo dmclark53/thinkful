{
 "cells": [
  {
   "cell_type": "markdown",
   "metadata": {},
   "source": [
    "# Housing Prices"
   ]
  },
  {
   "cell_type": "code",
   "execution_count": 1,
   "metadata": {},
   "outputs": [],
   "source": [
    "import matplotlib.pyplot as plt\n",
    "import numpy as np\n",
    "import pandas as pd\n",
    "import seaborn as sns\n",
    "from scipy.stats import boxcox\n",
    "from scipy.stats import normaltest\n",
    "from sklearn import linear_model\n",
    "from sklearn.metrics import mean_absolute_error\n",
    "from sklearn.model_selection import train_test_split\n",
    "from sklearn.preprocessing import StandardScaler\n",
    "from sqlalchemy import create_engine\n",
    "import statsmodels.api as sm\n",
    "from statsmodels.tools.eval_measures import mse, rmse\n",
    "\n",
    "import warnings\n",
    "warnings.filterwarnings(action=\"ignore\")\n",
    "\n",
    "from config import usr, pwd, url, port, db\n",
    "import helpers as hp\n",
    "\n",
    "%matplotlib inline"
   ]
  },
  {
   "cell_type": "markdown",
   "metadata": {},
   "source": [
    "## Load Data\n",
    "Load dataset used to create previously developed housing prices model."
   ]
  },
  {
   "cell_type": "code",
   "execution_count": 2,
   "metadata": {},
   "outputs": [],
   "source": [
    "df_model = pd.read_csv('housing_prices_pvalue_cut.csv')"
   ]
  },
  {
   "cell_type": "code",
   "execution_count": 3,
   "metadata": {},
   "outputs": [
    {
     "data": {
      "text/html": [
       "<div>\n",
       "<style scoped>\n",
       "    .dataframe tbody tr th:only-of-type {\n",
       "        vertical-align: middle;\n",
       "    }\n",
       "\n",
       "    .dataframe tbody tr th {\n",
       "        vertical-align: top;\n",
       "    }\n",
       "\n",
       "    .dataframe thead th {\n",
       "        text-align: right;\n",
       "    }\n",
       "</style>\n",
       "<table border=\"1\" class=\"dataframe\">\n",
       "  <thead>\n",
       "    <tr style=\"text-align: right;\">\n",
       "      <th></th>\n",
       "      <th>lotshape_IR2_oh</th>\n",
       "      <th>lotconfig_CulDSac_oh</th>\n",
       "      <th>lotconfig_FR2_oh</th>\n",
       "      <th>neighborhood_Blueste_oh</th>\n",
       "      <th>neighborhood_BrDale_oh</th>\n",
       "      <th>neighborhood_BrkSide_oh</th>\n",
       "      <th>neighborhood_Crawfor_oh</th>\n",
       "      <th>neighborhood_Edwards_oh</th>\n",
       "      <th>neighborhood_Gilbert_oh</th>\n",
       "      <th>neighborhood_IDOTRR_oh</th>\n",
       "      <th>...</th>\n",
       "      <th>centralair_Y_oh</th>\n",
       "      <th>fireplacequ_None_oh</th>\n",
       "      <th>garagefinish_Unf_oh</th>\n",
       "      <th>saletype_WD_oh</th>\n",
       "      <th>salecondition_Normal_oh</th>\n",
       "      <th>totalbsmtsf_sd_bc_tk</th>\n",
       "      <th>grlivarea_sd_bc_tk</th>\n",
       "      <th>overallqual_sd_bc_tk</th>\n",
       "      <th>garage_car_area</th>\n",
       "      <th>saleprice_sd_bc_tk</th>\n",
       "    </tr>\n",
       "  </thead>\n",
       "  <tbody>\n",
       "    <tr>\n",
       "      <th>0</th>\n",
       "      <td>0</td>\n",
       "      <td>0</td>\n",
       "      <td>0</td>\n",
       "      <td>0</td>\n",
       "      <td>0</td>\n",
       "      <td>0</td>\n",
       "      <td>0</td>\n",
       "      <td>0</td>\n",
       "      <td>0</td>\n",
       "      <td>0</td>\n",
       "      <td>...</td>\n",
       "      <td>1</td>\n",
       "      <td>1</td>\n",
       "      <td>0</td>\n",
       "      <td>1</td>\n",
       "      <td>1</td>\n",
       "      <td>-1.940823</td>\n",
       "      <td>-2.067985</td>\n",
       "      <td>-1.380554</td>\n",
       "      <td>-0.029387</td>\n",
       "      <td>-1.916145</td>\n",
       "    </tr>\n",
       "    <tr>\n",
       "      <th>1</th>\n",
       "      <td>0</td>\n",
       "      <td>0</td>\n",
       "      <td>1</td>\n",
       "      <td>0</td>\n",
       "      <td>0</td>\n",
       "      <td>0</td>\n",
       "      <td>0</td>\n",
       "      <td>0</td>\n",
       "      <td>0</td>\n",
       "      <td>0</td>\n",
       "      <td>...</td>\n",
       "      <td>1</td>\n",
       "      <td>0</td>\n",
       "      <td>0</td>\n",
       "      <td>1</td>\n",
       "      <td>1</td>\n",
       "      <td>-1.414143</td>\n",
       "      <td>-2.297888</td>\n",
       "      <td>-1.854980</td>\n",
       "      <td>-0.042709</td>\n",
       "      <td>-1.987917</td>\n",
       "    </tr>\n",
       "    <tr>\n",
       "      <th>2</th>\n",
       "      <td>0</td>\n",
       "      <td>0</td>\n",
       "      <td>0</td>\n",
       "      <td>0</td>\n",
       "      <td>0</td>\n",
       "      <td>0</td>\n",
       "      <td>0</td>\n",
       "      <td>0</td>\n",
       "      <td>0</td>\n",
       "      <td>0</td>\n",
       "      <td>...</td>\n",
       "      <td>1</td>\n",
       "      <td>0</td>\n",
       "      <td>0</td>\n",
       "      <td>1</td>\n",
       "      <td>1</td>\n",
       "      <td>-1.853206</td>\n",
       "      <td>-2.035142</td>\n",
       "      <td>-1.380554</td>\n",
       "      <td>-0.020383</td>\n",
       "      <td>-1.880777</td>\n",
       "    </tr>\n",
       "    <tr>\n",
       "      <th>3</th>\n",
       "      <td>0</td>\n",
       "      <td>0</td>\n",
       "      <td>0</td>\n",
       "      <td>0</td>\n",
       "      <td>0</td>\n",
       "      <td>0</td>\n",
       "      <td>1</td>\n",
       "      <td>0</td>\n",
       "      <td>0</td>\n",
       "      <td>0</td>\n",
       "      <td>...</td>\n",
       "      <td>1</td>\n",
       "      <td>0</td>\n",
       "      <td>1</td>\n",
       "      <td>1</td>\n",
       "      <td>0</td>\n",
       "      <td>-2.081825</td>\n",
       "      <td>-2.064898</td>\n",
       "      <td>-1.380554</td>\n",
       "      <td>-0.893866</td>\n",
       "      <td>-2.125607</td>\n",
       "    </tr>\n",
       "    <tr>\n",
       "      <th>4</th>\n",
       "      <td>0</td>\n",
       "      <td>0</td>\n",
       "      <td>1</td>\n",
       "      <td>0</td>\n",
       "      <td>0</td>\n",
       "      <td>0</td>\n",
       "      <td>0</td>\n",
       "      <td>0</td>\n",
       "      <td>0</td>\n",
       "      <td>0</td>\n",
       "      <td>...</td>\n",
       "      <td>1</td>\n",
       "      <td>0</td>\n",
       "      <td>0</td>\n",
       "      <td>1</td>\n",
       "      <td>1</td>\n",
       "      <td>-1.559332</td>\n",
       "      <td>-1.878974</td>\n",
       "      <td>-0.922772</td>\n",
       "      <td>0.778936</td>\n",
       "      <td>-1.824650</td>\n",
       "    </tr>\n",
       "  </tbody>\n",
       "</table>\n",
       "<p>5 rows × 41 columns</p>\n",
       "</div>"
      ],
      "text/plain": [
       "   lotshape_IR2_oh  lotconfig_CulDSac_oh  lotconfig_FR2_oh  \\\n",
       "0                0                     0                 0   \n",
       "1                0                     0                 1   \n",
       "2                0                     0                 0   \n",
       "3                0                     0                 0   \n",
       "4                0                     0                 1   \n",
       "\n",
       "   neighborhood_Blueste_oh  neighborhood_BrDale_oh  neighborhood_BrkSide_oh  \\\n",
       "0                        0                       0                        0   \n",
       "1                        0                       0                        0   \n",
       "2                        0                       0                        0   \n",
       "3                        0                       0                        0   \n",
       "4                        0                       0                        0   \n",
       "\n",
       "   neighborhood_Crawfor_oh  neighborhood_Edwards_oh  neighborhood_Gilbert_oh  \\\n",
       "0                        0                        0                        0   \n",
       "1                        0                        0                        0   \n",
       "2                        0                        0                        0   \n",
       "3                        1                        0                        0   \n",
       "4                        0                        0                        0   \n",
       "\n",
       "   neighborhood_IDOTRR_oh  ...  centralair_Y_oh  fireplacequ_None_oh  \\\n",
       "0                       0  ...                1                    1   \n",
       "1                       0  ...                1                    0   \n",
       "2                       0  ...                1                    0   \n",
       "3                       0  ...                1                    0   \n",
       "4                       0  ...                1                    0   \n",
       "\n",
       "   garagefinish_Unf_oh  saletype_WD_oh  salecondition_Normal_oh  \\\n",
       "0                    0               1                        1   \n",
       "1                    0               1                        1   \n",
       "2                    0               1                        1   \n",
       "3                    1               1                        0   \n",
       "4                    0               1                        1   \n",
       "\n",
       "   totalbsmtsf_sd_bc_tk  grlivarea_sd_bc_tk  overallqual_sd_bc_tk  \\\n",
       "0             -1.940823           -2.067985             -1.380554   \n",
       "1             -1.414143           -2.297888             -1.854980   \n",
       "2             -1.853206           -2.035142             -1.380554   \n",
       "3             -2.081825           -2.064898             -1.380554   \n",
       "4             -1.559332           -1.878974             -0.922772   \n",
       "\n",
       "   garage_car_area  saleprice_sd_bc_tk  \n",
       "0        -0.029387           -1.916145  \n",
       "1        -0.042709           -1.987917  \n",
       "2        -0.020383           -1.880777  \n",
       "3        -0.893866           -2.125607  \n",
       "4         0.778936           -1.824650  \n",
       "\n",
       "[5 rows x 41 columns]"
      ]
     },
     "execution_count": 3,
     "metadata": {},
     "output_type": "execute_result"
    }
   ],
   "source": [
    "df_model.head()"
   ]
  },
  {
   "cell_type": "markdown",
   "metadata": {},
   "source": [
    "## Model 1"
   ]
  },
  {
   "cell_type": "code",
   "execution_count": 4,
   "metadata": {
    "scrolled": false
   },
   "outputs": [],
   "source": [
    "features = df_model.columns.tolist()\n",
    "features.remove('saleprice_sd_bc_tk')\n",
    "X = df_model.loc[:, features]\n",
    "y = df_model['saleprice_sd_bc_tk']\n",
    "\n",
    "X_train, X_test, y_train, y_test = train_test_split(X, y, test_size=0.2, random_state=42)\n",
    "\n",
    "X_train = sm.add_constant(X_train)\n",
    "\n",
    "results_1 = sm.OLS(y_train, X_train).fit()"
   ]
  },
  {
   "cell_type": "code",
   "execution_count": 5,
   "metadata": {
    "scrolled": false
   },
   "outputs": [
    {
     "data": {
      "text/html": [
       "<table class=\"simpletable\">\n",
       "<caption>OLS Regression Results</caption>\n",
       "<tr>\n",
       "  <th>Dep. Variable:</th>    <td>saleprice_sd_bc_tk</td> <th>  R-squared:         </th> <td>   0.881</td>\n",
       "</tr>\n",
       "<tr>\n",
       "  <th>Model:</th>                    <td>OLS</td>        <th>  Adj. R-squared:    </th> <td>   0.877</td>\n",
       "</tr>\n",
       "<tr>\n",
       "  <th>Method:</th>              <td>Least Squares</td>   <th>  F-statistic:       </th> <td>   209.1</td>\n",
       "</tr>\n",
       "<tr>\n",
       "  <th>Date:</th>              <td>Fri, 16 Aug 2019</td>  <th>  Prob (F-statistic):</th>  <td>  0.00</td> \n",
       "</tr>\n",
       "<tr>\n",
       "  <th>Time:</th>                  <td>12:49:36</td>      <th>  Log-Likelihood:    </th> <td>  1480.0</td>\n",
       "</tr>\n",
       "<tr>\n",
       "  <th>No. Observations:</th>       <td>  1168</td>       <th>  AIC:               </th> <td>  -2878.</td>\n",
       "</tr>\n",
       "<tr>\n",
       "  <th>Df Residuals:</th>           <td>  1127</td>       <th>  BIC:               </th> <td>  -2670.</td>\n",
       "</tr>\n",
       "<tr>\n",
       "  <th>Df Model:</th>               <td>    40</td>       <th>                     </th>     <td> </td>   \n",
       "</tr>\n",
       "<tr>\n",
       "  <th>Covariance Type:</th>       <td>nonrobust</td>     <th>                     </th>     <td> </td>   \n",
       "</tr>\n",
       "</table>\n",
       "<table class=\"simpletable\">\n",
       "<tr>\n",
       "             <td></td>                <th>coef</th>     <th>std err</th>      <th>t</th>      <th>P>|t|</th>  <th>[0.025</th>    <th>0.975]</th>  \n",
       "</tr>\n",
       "<tr>\n",
       "  <th>const</th>                   <td>   -1.2372</td> <td>    0.027</td> <td>  -45.852</td> <td> 0.000</td> <td>   -1.290</td> <td>   -1.184</td>\n",
       "</tr>\n",
       "<tr>\n",
       "  <th>lotshape_IR2_oh</th>         <td>    0.0381</td> <td>    0.013</td> <td>    3.022</td> <td> 0.003</td> <td>    0.013</td> <td>    0.063</td>\n",
       "</tr>\n",
       "<tr>\n",
       "  <th>lotconfig_CulDSac_oh</th>    <td>    0.0269</td> <td>    0.008</td> <td>    3.242</td> <td> 0.001</td> <td>    0.011</td> <td>    0.043</td>\n",
       "</tr>\n",
       "<tr>\n",
       "  <th>lotconfig_FR2_oh</th>        <td>   -0.0214</td> <td>    0.012</td> <td>   -1.730</td> <td> 0.084</td> <td>   -0.046</td> <td>    0.003</td>\n",
       "</tr>\n",
       "<tr>\n",
       "  <th>neighborhood_Blueste_oh</th> <td>   -0.1383</td> <td>    0.070</td> <td>   -1.976</td> <td> 0.048</td> <td>   -0.276</td> <td>   -0.001</td>\n",
       "</tr>\n",
       "<tr>\n",
       "  <th>neighborhood_BrDale_oh</th>  <td>   -0.1407</td> <td>    0.021</td> <td>   -6.568</td> <td> 0.000</td> <td>   -0.183</td> <td>   -0.099</td>\n",
       "</tr>\n",
       "<tr>\n",
       "  <th>neighborhood_BrkSide_oh</th> <td>   -0.0321</td> <td>    0.013</td> <td>   -2.433</td> <td> 0.015</td> <td>   -0.058</td> <td>   -0.006</td>\n",
       "</tr>\n",
       "<tr>\n",
       "  <th>neighborhood_Crawfor_oh</th> <td>    0.0406</td> <td>    0.012</td> <td>    3.259</td> <td> 0.001</td> <td>    0.016</td> <td>    0.065</td>\n",
       "</tr>\n",
       "<tr>\n",
       "  <th>neighborhood_Edwards_oh</th> <td>   -0.0665</td> <td>    0.010</td> <td>   -6.505</td> <td> 0.000</td> <td>   -0.087</td> <td>   -0.046</td>\n",
       "</tr>\n",
       "<tr>\n",
       "  <th>neighborhood_Gilbert_oh</th> <td>   -0.0208</td> <td>    0.010</td> <td>   -2.117</td> <td> 0.034</td> <td>   -0.040</td> <td>   -0.002</td>\n",
       "</tr>\n",
       "<tr>\n",
       "  <th>neighborhood_IDOTRR_oh</th>  <td>   -0.0828</td> <td>    0.016</td> <td>   -5.168</td> <td> 0.000</td> <td>   -0.114</td> <td>   -0.051</td>\n",
       "</tr>\n",
       "<tr>\n",
       "  <th>neighborhood_MeadowV_oh</th> <td>   -0.1578</td> <td>    0.023</td> <td>   -6.752</td> <td> 0.000</td> <td>   -0.204</td> <td>   -0.112</td>\n",
       "</tr>\n",
       "<tr>\n",
       "  <th>neighborhood_Mitchel_oh</th> <td>   -0.0391</td> <td>    0.013</td> <td>   -3.064</td> <td> 0.002</td> <td>   -0.064</td> <td>   -0.014</td>\n",
       "</tr>\n",
       "<tr>\n",
       "  <th>neighborhood_NAmes_oh</th>   <td>   -0.0448</td> <td>    0.009</td> <td>   -5.047</td> <td> 0.000</td> <td>   -0.062</td> <td>   -0.027</td>\n",
       "</tr>\n",
       "<tr>\n",
       "  <th>neighborhood_NPkVill_oh</th> <td>   -0.0647</td> <td>    0.029</td> <td>   -2.213</td> <td> 0.027</td> <td>   -0.122</td> <td>   -0.007</td>\n",
       "</tr>\n",
       "<tr>\n",
       "  <th>neighborhood_NWAmes_oh</th>  <td>   -0.0407</td> <td>    0.011</td> <td>   -3.720</td> <td> 0.000</td> <td>   -0.062</td> <td>   -0.019</td>\n",
       "</tr>\n",
       "<tr>\n",
       "  <th>neighborhood_NoRidge_oh</th> <td>    0.0442</td> <td>    0.013</td> <td>    3.396</td> <td> 0.001</td> <td>    0.019</td> <td>    0.070</td>\n",
       "</tr>\n",
       "<tr>\n",
       "  <th>neighborhood_NridgHt_oh</th> <td>    0.0350</td> <td>    0.011</td> <td>    3.143</td> <td> 0.002</td> <td>    0.013</td> <td>    0.057</td>\n",
       "</tr>\n",
       "<tr>\n",
       "  <th>neighborhood_OldTown_oh</th> <td>   -0.0775</td> <td>    0.011</td> <td>   -6.932</td> <td> 0.000</td> <td>   -0.099</td> <td>   -0.056</td>\n",
       "</tr>\n",
       "<tr>\n",
       "  <th>neighborhood_SWISU_oh</th>   <td>   -0.0343</td> <td>    0.017</td> <td>   -1.992</td> <td> 0.047</td> <td>   -0.068</td> <td>   -0.001</td>\n",
       "</tr>\n",
       "<tr>\n",
       "  <th>neighborhood_Sawyer_oh</th>  <td>   -0.0423</td> <td>    0.012</td> <td>   -3.661</td> <td> 0.000</td> <td>   -0.065</td> <td>   -0.020</td>\n",
       "</tr>\n",
       "<tr>\n",
       "  <th>extercond_Fa_oh</th>         <td>   -0.0371</td> <td>    0.016</td> <td>   -2.359</td> <td> 0.019</td> <td>   -0.068</td> <td>   -0.006</td>\n",
       "</tr>\n",
       "<tr>\n",
       "  <th>extercond_Po_oh</th>         <td>   -0.1799</td> <td>    0.071</td> <td>   -2.535</td> <td> 0.011</td> <td>   -0.319</td> <td>   -0.041</td>\n",
       "</tr>\n",
       "<tr>\n",
       "  <th>foundation_CBlock_oh</th>    <td>    0.0210</td> <td>    0.009</td> <td>    2.465</td> <td> 0.014</td> <td>    0.004</td> <td>    0.038</td>\n",
       "</tr>\n",
       "<tr>\n",
       "  <th>foundation_PConc_oh</th>     <td>    0.0241</td> <td>    0.009</td> <td>    2.677</td> <td> 0.008</td> <td>    0.006</td> <td>    0.042</td>\n",
       "</tr>\n",
       "<tr>\n",
       "  <th>bsmtqual_Fa_oh</th>          <td>   -0.0730</td> <td>    0.016</td> <td>   -4.567</td> <td> 0.000</td> <td>   -0.104</td> <td>   -0.042</td>\n",
       "</tr>\n",
       "<tr>\n",
       "  <th>bsmtqual_Gd_oh</th>          <td>   -0.0453</td> <td>    0.008</td> <td>   -5.362</td> <td> 0.000</td> <td>   -0.062</td> <td>   -0.029</td>\n",
       "</tr>\n",
       "<tr>\n",
       "  <th>bsmtqual_TA_oh</th>          <td>   -0.0521</td> <td>    0.010</td> <td>   -5.232</td> <td> 0.000</td> <td>   -0.072</td> <td>   -0.033</td>\n",
       "</tr>\n",
       "<tr>\n",
       "  <th>bsmtcond_Gd_oh</th>          <td>    0.0710</td> <td>    0.015</td> <td>    4.896</td> <td> 0.000</td> <td>    0.043</td> <td>    0.099</td>\n",
       "</tr>\n",
       "<tr>\n",
       "  <th>bsmtcond_TA_oh</th>          <td>    0.0569</td> <td>    0.011</td> <td>    5.145</td> <td> 0.000</td> <td>    0.035</td> <td>    0.079</td>\n",
       "</tr>\n",
       "<tr>\n",
       "  <th>bsmtexposure_Gd_oh</th>      <td>    0.0261</td> <td>    0.008</td> <td>    3.216</td> <td> 0.001</td> <td>    0.010</td> <td>    0.042</td>\n",
       "</tr>\n",
       "<tr>\n",
       "  <th>bsmtexposure_No_oh</th>      <td>   -0.0203</td> <td>    0.005</td> <td>   -3.922</td> <td> 0.000</td> <td>   -0.030</td> <td>   -0.010</td>\n",
       "</tr>\n",
       "<tr>\n",
       "  <th>centralair_Y_oh</th>         <td>    0.0635</td> <td>    0.009</td> <td>    6.733</td> <td> 0.000</td> <td>    0.045</td> <td>    0.082</td>\n",
       "</tr>\n",
       "<tr>\n",
       "  <th>fireplacequ_None_oh</th>     <td>   -0.0175</td> <td>    0.005</td> <td>   -3.400</td> <td> 0.001</td> <td>   -0.028</td> <td>   -0.007</td>\n",
       "</tr>\n",
       "<tr>\n",
       "  <th>garagefinish_Unf_oh</th>     <td>   -0.0216</td> <td>    0.005</td> <td>   -4.012</td> <td> 0.000</td> <td>   -0.032</td> <td>   -0.011</td>\n",
       "</tr>\n",
       "<tr>\n",
       "  <th>saletype_WD_oh</th>          <td>   -0.0297</td> <td>    0.008</td> <td>   -3.531</td> <td> 0.000</td> <td>   -0.046</td> <td>   -0.013</td>\n",
       "</tr>\n",
       "<tr>\n",
       "  <th>salecondition_Normal_oh</th> <td>    0.0244</td> <td>    0.007</td> <td>    3.361</td> <td> 0.001</td> <td>    0.010</td> <td>    0.039</td>\n",
       "</tr>\n",
       "<tr>\n",
       "  <th>totalbsmtsf_sd_bc_tk</th>    <td>    0.0531</td> <td>    0.005</td> <td>    9.690</td> <td> 0.000</td> <td>    0.042</td> <td>    0.064</td>\n",
       "</tr>\n",
       "<tr>\n",
       "  <th>grlivarea_sd_bc_tk</th>      <td>    0.2709</td> <td>    0.012</td> <td>   22.431</td> <td> 0.000</td> <td>    0.247</td> <td>    0.295</td>\n",
       "</tr>\n",
       "<tr>\n",
       "  <th>overallqual_sd_bc_tk</th>    <td>    0.0714</td> <td>    0.006</td> <td>   12.844</td> <td> 0.000</td> <td>    0.060</td> <td>    0.082</td>\n",
       "</tr>\n",
       "<tr>\n",
       "  <th>garage_car_area</th>         <td>   -0.0070</td> <td>    0.001</td> <td>   -7.072</td> <td> 0.000</td> <td>   -0.009</td> <td>   -0.005</td>\n",
       "</tr>\n",
       "</table>\n",
       "<table class=\"simpletable\">\n",
       "<tr>\n",
       "  <th>Omnibus:</th>       <td>258.858</td> <th>  Durbin-Watson:     </th> <td>   2.081</td>\n",
       "</tr>\n",
       "<tr>\n",
       "  <th>Prob(Omnibus):</th> <td> 0.000</td>  <th>  Jarque-Bera (JB):  </th> <td>1511.976</td>\n",
       "</tr>\n",
       "<tr>\n",
       "  <th>Skew:</th>          <td>-0.888</td>  <th>  Prob(JB):          </th> <td>    0.00</td>\n",
       "</tr>\n",
       "<tr>\n",
       "  <th>Kurtosis:</th>      <td> 8.283</td>  <th>  Cond. No.          </th> <td>    159.</td>\n",
       "</tr>\n",
       "</table><br/><br/>Warnings:<br/>[1] Standard Errors assume that the covariance matrix of the errors is correctly specified."
      ],
      "text/plain": [
       "<class 'statsmodels.iolib.summary.Summary'>\n",
       "\"\"\"\n",
       "                            OLS Regression Results                            \n",
       "==============================================================================\n",
       "Dep. Variable:     saleprice_sd_bc_tk   R-squared:                       0.881\n",
       "Model:                            OLS   Adj. R-squared:                  0.877\n",
       "Method:                 Least Squares   F-statistic:                     209.1\n",
       "Date:                Fri, 16 Aug 2019   Prob (F-statistic):               0.00\n",
       "Time:                        12:49:36   Log-Likelihood:                 1480.0\n",
       "No. Observations:                1168   AIC:                            -2878.\n",
       "Df Residuals:                    1127   BIC:                            -2670.\n",
       "Df Model:                          40                                         \n",
       "Covariance Type:            nonrobust                                         \n",
       "===========================================================================================\n",
       "                              coef    std err          t      P>|t|      [0.025      0.975]\n",
       "-------------------------------------------------------------------------------------------\n",
       "const                      -1.2372      0.027    -45.852      0.000      -1.290      -1.184\n",
       "lotshape_IR2_oh             0.0381      0.013      3.022      0.003       0.013       0.063\n",
       "lotconfig_CulDSac_oh        0.0269      0.008      3.242      0.001       0.011       0.043\n",
       "lotconfig_FR2_oh           -0.0214      0.012     -1.730      0.084      -0.046       0.003\n",
       "neighborhood_Blueste_oh    -0.1383      0.070     -1.976      0.048      -0.276      -0.001\n",
       "neighborhood_BrDale_oh     -0.1407      0.021     -6.568      0.000      -0.183      -0.099\n",
       "neighborhood_BrkSide_oh    -0.0321      0.013     -2.433      0.015      -0.058      -0.006\n",
       "neighborhood_Crawfor_oh     0.0406      0.012      3.259      0.001       0.016       0.065\n",
       "neighborhood_Edwards_oh    -0.0665      0.010     -6.505      0.000      -0.087      -0.046\n",
       "neighborhood_Gilbert_oh    -0.0208      0.010     -2.117      0.034      -0.040      -0.002\n",
       "neighborhood_IDOTRR_oh     -0.0828      0.016     -5.168      0.000      -0.114      -0.051\n",
       "neighborhood_MeadowV_oh    -0.1578      0.023     -6.752      0.000      -0.204      -0.112\n",
       "neighborhood_Mitchel_oh    -0.0391      0.013     -3.064      0.002      -0.064      -0.014\n",
       "neighborhood_NAmes_oh      -0.0448      0.009     -5.047      0.000      -0.062      -0.027\n",
       "neighborhood_NPkVill_oh    -0.0647      0.029     -2.213      0.027      -0.122      -0.007\n",
       "neighborhood_NWAmes_oh     -0.0407      0.011     -3.720      0.000      -0.062      -0.019\n",
       "neighborhood_NoRidge_oh     0.0442      0.013      3.396      0.001       0.019       0.070\n",
       "neighborhood_NridgHt_oh     0.0350      0.011      3.143      0.002       0.013       0.057\n",
       "neighborhood_OldTown_oh    -0.0775      0.011     -6.932      0.000      -0.099      -0.056\n",
       "neighborhood_SWISU_oh      -0.0343      0.017     -1.992      0.047      -0.068      -0.001\n",
       "neighborhood_Sawyer_oh     -0.0423      0.012     -3.661      0.000      -0.065      -0.020\n",
       "extercond_Fa_oh            -0.0371      0.016     -2.359      0.019      -0.068      -0.006\n",
       "extercond_Po_oh            -0.1799      0.071     -2.535      0.011      -0.319      -0.041\n",
       "foundation_CBlock_oh        0.0210      0.009      2.465      0.014       0.004       0.038\n",
       "foundation_PConc_oh         0.0241      0.009      2.677      0.008       0.006       0.042\n",
       "bsmtqual_Fa_oh             -0.0730      0.016     -4.567      0.000      -0.104      -0.042\n",
       "bsmtqual_Gd_oh             -0.0453      0.008     -5.362      0.000      -0.062      -0.029\n",
       "bsmtqual_TA_oh             -0.0521      0.010     -5.232      0.000      -0.072      -0.033\n",
       "bsmtcond_Gd_oh              0.0710      0.015      4.896      0.000       0.043       0.099\n",
       "bsmtcond_TA_oh              0.0569      0.011      5.145      0.000       0.035       0.079\n",
       "bsmtexposure_Gd_oh          0.0261      0.008      3.216      0.001       0.010       0.042\n",
       "bsmtexposure_No_oh         -0.0203      0.005     -3.922      0.000      -0.030      -0.010\n",
       "centralair_Y_oh             0.0635      0.009      6.733      0.000       0.045       0.082\n",
       "fireplacequ_None_oh        -0.0175      0.005     -3.400      0.001      -0.028      -0.007\n",
       "garagefinish_Unf_oh        -0.0216      0.005     -4.012      0.000      -0.032      -0.011\n",
       "saletype_WD_oh             -0.0297      0.008     -3.531      0.000      -0.046      -0.013\n",
       "salecondition_Normal_oh     0.0244      0.007      3.361      0.001       0.010       0.039\n",
       "totalbsmtsf_sd_bc_tk        0.0531      0.005      9.690      0.000       0.042       0.064\n",
       "grlivarea_sd_bc_tk          0.2709      0.012     22.431      0.000       0.247       0.295\n",
       "overallqual_sd_bc_tk        0.0714      0.006     12.844      0.000       0.060       0.082\n",
       "garage_car_area            -0.0070      0.001     -7.072      0.000      -0.009      -0.005\n",
       "==============================================================================\n",
       "Omnibus:                      258.858   Durbin-Watson:                   2.081\n",
       "Prob(Omnibus):                  0.000   Jarque-Bera (JB):             1511.976\n",
       "Skew:                          -0.888   Prob(JB):                         0.00\n",
       "Kurtosis:                       8.283   Cond. No.                         159.\n",
       "==============================================================================\n",
       "\n",
       "Warnings:\n",
       "[1] Standard Errors assume that the covariance matrix of the errors is correctly specified.\n",
       "\"\"\""
      ]
     },
     "execution_count": 5,
     "metadata": {},
     "output_type": "execute_result"
    }
   ],
   "source": [
    "results_1.summary()"
   ]
  },
  {
   "cell_type": "code",
   "execution_count": 6,
   "metadata": {},
   "outputs": [],
   "source": [
    "df_model_stats = hp.append_model_stats(results_1, 1)"
   ]
  },
  {
   "cell_type": "code",
   "execution_count": 7,
   "metadata": {},
   "outputs": [
    {
     "data": {
      "text/html": [
       "<div>\n",
       "<style scoped>\n",
       "    .dataframe tbody tr th:only-of-type {\n",
       "        vertical-align: middle;\n",
       "    }\n",
       "\n",
       "    .dataframe tbody tr th {\n",
       "        vertical-align: top;\n",
       "    }\n",
       "\n",
       "    .dataframe thead th {\n",
       "        text-align: right;\n",
       "    }\n",
       "</style>\n",
       "<table border=\"1\" class=\"dataframe\">\n",
       "  <thead>\n",
       "    <tr style=\"text-align: right;\">\n",
       "      <th></th>\n",
       "      <th>model</th>\n",
       "      <th>fvalue</th>\n",
       "      <th>f_pvalue</th>\n",
       "      <th>rsquared</th>\n",
       "      <th>rsquared_adj</th>\n",
       "      <th>aic</th>\n",
       "      <th>bic</th>\n",
       "    </tr>\n",
       "  </thead>\n",
       "  <tbody>\n",
       "    <tr>\n",
       "      <th>0</th>\n",
       "      <td>model_1</td>\n",
       "      <td>209.118008</td>\n",
       "      <td>0.0</td>\n",
       "      <td>0.881265</td>\n",
       "      <td>0.877051</td>\n",
       "      <td>-2877.912872</td>\n",
       "      <td>-2670.327898</td>\n",
       "    </tr>\n",
       "  </tbody>\n",
       "</table>\n",
       "</div>"
      ],
      "text/plain": [
       "     model      fvalue  f_pvalue  rsquared  rsquared_adj          aic  \\\n",
       "0  model_1  209.118008       0.0  0.881265      0.877051 -2877.912872   \n",
       "\n",
       "           bic  \n",
       "0 -2670.327898  "
      ]
     },
     "execution_count": 7,
     "metadata": {},
     "output_type": "execute_result"
    }
   ],
   "source": [
    "df_model_stats"
   ]
  },
  {
   "cell_type": "markdown",
   "metadata": {},
   "source": [
    "**Observations:** The large adjusted R<sup>2</sup> value and small AIC and BIC values indicate that this model does a good job of explaining the target variable, housing prices."
   ]
  },
  {
   "cell_type": "markdown",
   "metadata": {},
   "source": [
    "### Evaluate Predictions"
   ]
  },
  {
   "cell_type": "code",
   "execution_count": 8,
   "metadata": {},
   "outputs": [],
   "source": [
    "X_test = sm.add_constant(X_test)\n",
    "\n",
    "y_pred = results_1.predict(X_test)"
   ]
  },
  {
   "cell_type": "code",
   "execution_count": 9,
   "metadata": {},
   "outputs": [
    {
     "data": {
      "image/png": "[encoded data removed]",
      "text/plain": [
       "<Figure size 864x576 with 1 Axes>"
      ]
     },
     "metadata": {
      "needs_background": "light"
     },
     "output_type": "display_data"
    }
   ],
   "source": [
    "plt.figure(figsize=(12, 8))\n",
    "plt.plot(y_test, y_test, color='red')\n",
    "plt.scatter(y_test, y_pred)\n",
    "plt.xlabel('Actual Values')\n",
    "plt.ylabel('Predictions')\n",
    "plt.title('Comparing Predictions and Actual Values for Transformed Housing Prices')\n",
    "plt.show()"
   ]
  },
  {
   "cell_type": "code",
   "execution_count": 10,
   "metadata": {},
   "outputs": [
    {
     "name": "stdout",
     "output_type": "stream",
     "text": [
      "Prediction Metrics:\n",
      "* MAE = 0.054\n",
      "* MSE = 0.005\n",
      "* RMSE = 0.072\n",
      "* MAPE = 2.608%\n"
     ]
    }
   ],
   "source": [
    "hp.print_prediction_metrics(y_test, y_pred)"
   ]
  },
  {
   "cell_type": "markdown",
   "metadata": {},
   "source": [
    "## Model 2\n",
    "Remove features with coefficient values < 0.05."
   ]
  },
  {
   "cell_type": "code",
   "execution_count": 11,
   "metadata": {},
   "outputs": [],
   "source": [
    "df_results_1 = hp.store_results(results_1) "
   ]
  },
  {
   "cell_type": "code",
   "execution_count": 12,
   "metadata": {},
   "outputs": [],
   "source": [
    "features_2 = df_results_1.loc[df_results_1['abs_coeff'] > 0.05, 'feature'].tolist()"
   ]
  },
  {
   "cell_type": "code",
   "execution_count": 13,
   "metadata": {},
   "outputs": [],
   "source": [
    "X = df_model.loc[:, features_2]\n",
    "y = df_model['saleprice_sd_bc_tk']\n",
    "\n",
    "X_train, X_test, y_train, y_test = train_test_split(X, y, test_size=0.2, random_state=42)\n",
    "\n",
    "X_train = sm.add_constant(X_train)\n",
    "\n",
    "results_2 = sm.OLS(y_train, X_train).fit()"
   ]
  },
  {
   "cell_type": "code",
   "execution_count": 14,
   "metadata": {},
   "outputs": [],
   "source": [
    "df_model_stats = hp.append_model_stats(results_2, 1)"
   ]
  },
  {
   "cell_type": "markdown",
   "metadata": {},
   "source": [
    "### Evaluate Predictions"
   ]
  },
  {
   "cell_type": "code",
   "execution_count": 15,
   "metadata": {},
   "outputs": [],
   "source": [
    "X_test = sm.add_constant(X_test)\n",
    "\n",
    "y_pred = results_2.predict(X_test)"
   ]
  },
  {
   "cell_type": "code",
   "execution_count": 16,
   "metadata": {},
   "outputs": [
    {
     "data": {
      "image/png": "[encoded data removed]",
      "text/plain": [
       "<Figure size 864x576 with 1 Axes>"
      ]
     },
     "metadata": {
      "needs_background": "light"
     },
     "output_type": "display_data"
    }
   ],
   "source": [
    "plt.figure(figsize=(12, 8))\n",
    "plt.plot(y_test, y_test, color='red')\n",
    "plt.scatter(y_test, y_pred)\n",
    "plt.xlabel('Actual Values')\n",
    "plt.ylabel('Predictions')\n",
    "plt.title('Comparing Predictions and Actual Values for Transformed Housing Prices')\n",
    "plt.show()"
   ]
  },
  {
   "cell_type": "code",
   "execution_count": 17,
   "metadata": {},
   "outputs": [
    {
     "name": "stdout",
     "output_type": "stream",
     "text": [
      "Prediction Metrics:\n",
      "* MAE = 0.059\n",
      "* MSE = 0.006\n",
      "* RMSE = 0.079\n",
      "* MAPE = 2.903%\n"
     ]
    }
   ],
   "source": [
    "hp.print_prediction_metrics(y_test, y_pred)"
   ]
  },
  {
   "cell_type": "markdown",
   "metadata": {},
   "source": [
    "**Observations:** After removing features with smaller coefficients, the predictive power decreased only very slightly. The MAE, MSE, and RMSE becoming only 0.001 larger. Therefore, a smaller model does just as good a job at predicting housing prices as a larger model."
   ]
  },
  {
   "cell_type": "code",
   "execution_count": null,
   "metadata": {},
   "outputs": [],
   "source": []
  }
 ],
 "metadata": {
  "kernelspec": {
   "display_name": "Python 3",
   "language": "python",
   "name": "python3"
  },
  "language_info": {
   "codemirror_mode": {
    "name": "ipython",
    "version": 3
   },
   "file_extension": ".py",
   "mimetype": "text/x-python",
   "name": "python",
   "nbconvert_exporter": "python",
   "pygments_lexer": "ipython3",
   "version": "3.6.8"
  }
 },
 "nbformat": 4,
 "nbformat_minor": 2
}
