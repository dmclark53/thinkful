{
 "cells": [
  {
   "cell_type": "markdown",
   "metadata": {},
   "source": [
    "# Weather"
   ]
  },
  {
   "cell_type": "code",
   "execution_count": 1,
   "metadata": {},
   "outputs": [],
   "source": [
    "import helpers as hp\n",
    "import matplotlib.pyplot as plt\n",
    "import numpy as np\n",
    "import pandas as pd\n",
    "import seaborn as sns\n",
    "from scipy.stats import boxcox\n",
    "from scipy.stats import normaltest\n",
    "from sklearn import linear_model\n",
    "from sklearn.preprocessing import StandardScaler\n",
    "from sqlalchemy import create_engine\n",
    "\n",
    "from config import usr, pwd, url, port, db\n",
    "\n",
    "%matplotlib inline"
   ]
  },
  {
   "cell_type": "markdown",
   "metadata": {},
   "source": [
    "## Load Data\n",
    "Load the dataset and inspect it's contents."
   ]
  },
  {
   "cell_type": "code",
   "execution_count": 2,
   "metadata": {},
   "outputs": [],
   "source": [
    "engine = create_engine(f\"postgresql+psycopg2://{usr}:{pwd}@{url}:{port}/{db}\")"
   ]
  },
  {
   "cell_type": "code",
   "execution_count": 3,
   "metadata": {},
   "outputs": [],
   "source": [
    "query = f'''\n",
    "SELECT\n",
    "    *\n",
    "FROM\n",
    "    {db};\n",
    "'''"
   ]
  },
  {
   "cell_type": "code",
   "execution_count": 4,
   "metadata": {},
   "outputs": [],
   "source": [
    "df = pd.read_sql_query(query, con=engine)"
   ]
  },
  {
   "cell_type": "code",
   "execution_count": 5,
   "metadata": {},
   "outputs": [],
   "source": [
    "engine.dispose()"
   ]
  },
  {
   "cell_type": "code",
   "execution_count": 6,
   "metadata": {},
   "outputs": [
    {
     "name": "stdout",
     "output_type": "stream",
     "text": [
      "<class 'pandas.core.frame.DataFrame'>\n",
      "RangeIndex: 96453 entries, 0 to 96452\n",
      "Data columns (total 12 columns):\n",
      "date                   96453 non-null datetime64[ns, UTC]\n",
      "summary                96453 non-null object\n",
      "preciptype             96453 non-null object\n",
      "temperature            96453 non-null float64\n",
      "apparenttemperature    96453 non-null float64\n",
      "humidity               96453 non-null float64\n",
      "windspeed              96453 non-null float64\n",
      "windbearing            96453 non-null float64\n",
      "visibility             96453 non-null float64\n",
      "loudcover              96453 non-null float64\n",
      "pressure               96453 non-null float64\n",
      "dailysummary           96453 non-null object\n",
      "dtypes: datetime64[ns, UTC](1), float64(8), object(3)\n",
      "memory usage: 8.8+ MB\n"
     ]
    }
   ],
   "source": [
    "df.info()"
   ]
  },
  {
   "cell_type": "markdown",
   "metadata": {},
   "source": [
    "Only consider the following columns for this analysis."
   ]
  },
  {
   "cell_type": "code",
   "execution_count": 7,
   "metadata": {},
   "outputs": [],
   "source": [
    "columns = ['humidity', 'windspeed', 'windbearing', 'pressure', 'temperature']"
   ]
  },
  {
   "cell_type": "code",
   "execution_count": 8,
   "metadata": {},
   "outputs": [],
   "source": [
    "df_subset = df.loc[:, columns].copy()"
   ]
  },
  {
   "cell_type": "code",
   "execution_count": 9,
   "metadata": {},
   "outputs": [
    {
     "data": {
      "text/html": [
       "<div>\n",
       "<style scoped>\n",
       "    .dataframe tbody tr th:only-of-type {\n",
       "        vertical-align: middle;\n",
       "    }\n",
       "\n",
       "    .dataframe tbody tr th {\n",
       "        vertical-align: top;\n",
       "    }\n",
       "\n",
       "    .dataframe thead th {\n",
       "        text-align: right;\n",
       "    }\n",
       "</style>\n",
       "<table border=\"1\" class=\"dataframe\">\n",
       "  <thead>\n",
       "    <tr style=\"text-align: right;\">\n",
       "      <th></th>\n",
       "      <th>count</th>\n",
       "      <th>mean</th>\n",
       "      <th>std</th>\n",
       "      <th>min</th>\n",
       "      <th>25%</th>\n",
       "      <th>50%</th>\n",
       "      <th>75%</th>\n",
       "      <th>max</th>\n",
       "    </tr>\n",
       "  </thead>\n",
       "  <tbody>\n",
       "    <tr>\n",
       "      <th>humidity</th>\n",
       "      <td>96453.0</td>\n",
       "      <td>0.734899</td>\n",
       "      <td>0.195473</td>\n",
       "      <td>0.000000</td>\n",
       "      <td>0.600000</td>\n",
       "      <td>0.7800</td>\n",
       "      <td>0.890000</td>\n",
       "      <td>1.000000</td>\n",
       "    </tr>\n",
       "    <tr>\n",
       "      <th>windspeed</th>\n",
       "      <td>96453.0</td>\n",
       "      <td>10.810640</td>\n",
       "      <td>6.913571</td>\n",
       "      <td>0.000000</td>\n",
       "      <td>5.828200</td>\n",
       "      <td>9.9659</td>\n",
       "      <td>14.135800</td>\n",
       "      <td>63.852600</td>\n",
       "    </tr>\n",
       "    <tr>\n",
       "      <th>windbearing</th>\n",
       "      <td>96453.0</td>\n",
       "      <td>187.509232</td>\n",
       "      <td>107.383428</td>\n",
       "      <td>0.000000</td>\n",
       "      <td>116.000000</td>\n",
       "      <td>180.0000</td>\n",
       "      <td>290.000000</td>\n",
       "      <td>359.000000</td>\n",
       "    </tr>\n",
       "    <tr>\n",
       "      <th>pressure</th>\n",
       "      <td>96453.0</td>\n",
       "      <td>1003.235956</td>\n",
       "      <td>116.969906</td>\n",
       "      <td>0.000000</td>\n",
       "      <td>1011.900000</td>\n",
       "      <td>1016.4500</td>\n",
       "      <td>1021.090000</td>\n",
       "      <td>1046.380000</td>\n",
       "    </tr>\n",
       "    <tr>\n",
       "      <th>temperature</th>\n",
       "      <td>96453.0</td>\n",
       "      <td>11.932678</td>\n",
       "      <td>9.551546</td>\n",
       "      <td>-21.822222</td>\n",
       "      <td>4.688889</td>\n",
       "      <td>12.0000</td>\n",
       "      <td>18.838889</td>\n",
       "      <td>39.905556</td>\n",
       "    </tr>\n",
       "  </tbody>\n",
       "</table>\n",
       "</div>"
      ],
      "text/plain": [
       "               count         mean         std        min          25%  \\\n",
       "humidity     96453.0     0.734899    0.195473   0.000000     0.600000   \n",
       "windspeed    96453.0    10.810640    6.913571   0.000000     5.828200   \n",
       "windbearing  96453.0   187.509232  107.383428   0.000000   116.000000   \n",
       "pressure     96453.0  1003.235956  116.969906   0.000000  1011.900000   \n",
       "temperature  96453.0    11.932678    9.551546 -21.822222     4.688889   \n",
       "\n",
       "                   50%          75%          max  \n",
       "humidity        0.7800     0.890000     1.000000  \n",
       "windspeed       9.9659    14.135800    63.852600  \n",
       "windbearing   180.0000   290.000000   359.000000  \n",
       "pressure     1016.4500  1021.090000  1046.380000  \n",
       "temperature    12.0000    18.838889    39.905556  "
      ]
     },
     "execution_count": 9,
     "metadata": {},
     "output_type": "execute_result"
    }
   ],
   "source": [
    "df_subset.describe().T"
   ]
  },
  {
   "cell_type": "code",
   "execution_count": 10,
   "metadata": {},
   "outputs": [
    {
     "name": "stdout",
     "output_type": "stream",
     "text": [
      "<class 'pandas.core.frame.DataFrame'>\n",
      "RangeIndex: 96453 entries, 0 to 96452\n",
      "Data columns (total 5 columns):\n",
      "humidity       96453 non-null float64\n",
      "windspeed      96453 non-null float64\n",
      "windbearing    96453 non-null float64\n",
      "pressure       96453 non-null float64\n",
      "temperature    96453 non-null float64\n",
      "dtypes: float64(5)\n",
      "memory usage: 3.7 MB\n"
     ]
    }
   ],
   "source": [
    "df_subset.info()"
   ]
  },
  {
   "cell_type": "code",
   "execution_count": 11,
   "metadata": {},
   "outputs": [
    {
     "data": {
      "text/html": [
       "<div>\n",
       "<style scoped>\n",
       "    .dataframe tbody tr th:only-of-type {\n",
       "        vertical-align: middle;\n",
       "    }\n",
       "\n",
       "    .dataframe tbody tr th {\n",
       "        vertical-align: top;\n",
       "    }\n",
       "\n",
       "    .dataframe thead th {\n",
       "        text-align: right;\n",
       "    }\n",
       "</style>\n",
       "<table border=\"1\" class=\"dataframe\">\n",
       "  <thead>\n",
       "    <tr style=\"text-align: right;\">\n",
       "      <th></th>\n",
       "      <th>humidity</th>\n",
       "      <th>windspeed</th>\n",
       "      <th>windbearing</th>\n",
       "      <th>pressure</th>\n",
       "      <th>temperature</th>\n",
       "    </tr>\n",
       "  </thead>\n",
       "  <tbody>\n",
       "    <tr>\n",
       "      <th>humidity</th>\n",
       "      <td>1.000000</td>\n",
       "      <td>-0.224951</td>\n",
       "      <td>0.000735</td>\n",
       "      <td>0.005454</td>\n",
       "      <td>-0.632255</td>\n",
       "    </tr>\n",
       "    <tr>\n",
       "      <th>windspeed</th>\n",
       "      <td>-0.224951</td>\n",
       "      <td>1.000000</td>\n",
       "      <td>0.103822</td>\n",
       "      <td>-0.049263</td>\n",
       "      <td>0.008957</td>\n",
       "    </tr>\n",
       "    <tr>\n",
       "      <th>windbearing</th>\n",
       "      <td>0.000735</td>\n",
       "      <td>0.103822</td>\n",
       "      <td>1.000000</td>\n",
       "      <td>-0.011651</td>\n",
       "      <td>0.029988</td>\n",
       "    </tr>\n",
       "    <tr>\n",
       "      <th>pressure</th>\n",
       "      <td>0.005454</td>\n",
       "      <td>-0.049263</td>\n",
       "      <td>-0.011651</td>\n",
       "      <td>1.000000</td>\n",
       "      <td>-0.005447</td>\n",
       "    </tr>\n",
       "    <tr>\n",
       "      <th>temperature</th>\n",
       "      <td>-0.632255</td>\n",
       "      <td>0.008957</td>\n",
       "      <td>0.029988</td>\n",
       "      <td>-0.005447</td>\n",
       "      <td>1.000000</td>\n",
       "    </tr>\n",
       "  </tbody>\n",
       "</table>\n",
       "</div>"
      ],
      "text/plain": [
       "             humidity  windspeed  windbearing  pressure  temperature\n",
       "humidity     1.000000  -0.224951     0.000735  0.005454    -0.632255\n",
       "windspeed   -0.224951   1.000000     0.103822 -0.049263     0.008957\n",
       "windbearing  0.000735   0.103822     1.000000 -0.011651     0.029988\n",
       "pressure     0.005454  -0.049263    -0.011651  1.000000    -0.005447\n",
       "temperature -0.632255   0.008957     0.029988 -0.005447     1.000000"
      ]
     },
     "execution_count": 11,
     "metadata": {},
     "output_type": "execute_result"
    }
   ],
   "source": [
    "df_subset.corr()"
   ]
  },
  {
   "cell_type": "markdown",
   "metadata": {},
   "source": [
    "## Data Cleaning\n",
    "### Missting values\n",
    "There are not missing values\n",
    "\n",
    "### Outliers\n",
    "#### Standardize dataset"
   ]
  },
  {
   "cell_type": "code",
   "execution_count": 12,
   "metadata": {},
   "outputs": [],
   "source": [
    "scaler = StandardScaler()\n",
    "standardized = scaler.fit_transform(df_subset)"
   ]
  },
  {
   "cell_type": "code",
   "execution_count": 13,
   "metadata": {},
   "outputs": [],
   "source": [
    "df_standardized = pd.DataFrame(standardized)\n",
    "df_standardized.columns = df_subset.columns"
   ]
  },
  {
   "cell_type": "code",
   "execution_count": 14,
   "metadata": {},
   "outputs": [
    {
     "data": {
      "text/html": [
       "<div>\n",
       "<style scoped>\n",
       "    .dataframe tbody tr th:only-of-type {\n",
       "        vertical-align: middle;\n",
       "    }\n",
       "\n",
       "    .dataframe tbody tr th {\n",
       "        vertical-align: top;\n",
       "    }\n",
       "\n",
       "    .dataframe thead th {\n",
       "        text-align: right;\n",
       "    }\n",
       "</style>\n",
       "<table border=\"1\" class=\"dataframe\">\n",
       "  <thead>\n",
       "    <tr style=\"text-align: right;\">\n",
       "      <th></th>\n",
       "      <th>count</th>\n",
       "      <th>mean</th>\n",
       "      <th>std</th>\n",
       "      <th>min</th>\n",
       "      <th>25%</th>\n",
       "      <th>50%</th>\n",
       "      <th>75%</th>\n",
       "      <th>max</th>\n",
       "    </tr>\n",
       "  </thead>\n",
       "  <tbody>\n",
       "    <tr>\n",
       "      <th>humidity</th>\n",
       "      <td>96453.0</td>\n",
       "      <td>-8.368600e-17</td>\n",
       "      <td>1.000005</td>\n",
       "      <td>-3.759618</td>\n",
       "      <td>-0.690120</td>\n",
       "      <td>0.230729</td>\n",
       "      <td>0.793470</td>\n",
       "      <td>1.356212</td>\n",
       "    </tr>\n",
       "    <tr>\n",
       "      <th>windspeed</th>\n",
       "      <td>96453.0</td>\n",
       "      <td>4.249127e-16</td>\n",
       "      <td>1.000005</td>\n",
       "      <td>-1.563692</td>\n",
       "      <td>-0.720679</td>\n",
       "      <td>-0.122186</td>\n",
       "      <td>0.480964</td>\n",
       "      <td>7.672191</td>\n",
       "    </tr>\n",
       "    <tr>\n",
       "      <th>windbearing</th>\n",
       "      <td>96453.0</td>\n",
       "      <td>-9.517809e-17</td>\n",
       "      <td>1.000005</td>\n",
       "      <td>-1.746175</td>\n",
       "      <td>-0.665928</td>\n",
       "      <td>-0.069930</td>\n",
       "      <td>0.954442</td>\n",
       "      <td>1.597003</td>\n",
       "    </tr>\n",
       "    <tr>\n",
       "      <th>pressure</th>\n",
       "      <td>96453.0</td>\n",
       "      <td>-1.390838e-16</td>\n",
       "      <td>1.000005</td>\n",
       "      <td>-8.576917</td>\n",
       "      <td>0.074071</td>\n",
       "      <td>0.112970</td>\n",
       "      <td>0.152639</td>\n",
       "      <td>0.368849</td>\n",
       "    </tr>\n",
       "    <tr>\n",
       "      <th>temperature</th>\n",
       "      <td>96453.0</td>\n",
       "      <td>-2.251271e-16</td>\n",
       "      <td>1.000005</td>\n",
       "      <td>-3.533991</td>\n",
       "      <td>-0.758393</td>\n",
       "      <td>0.007048</td>\n",
       "      <td>0.723050</td>\n",
       "      <td>2.928638</td>\n",
       "    </tr>\n",
       "  </tbody>\n",
       "</table>\n",
       "</div>"
      ],
      "text/plain": [
       "               count          mean       std       min       25%       50%  \\\n",
       "humidity     96453.0 -8.368600e-17  1.000005 -3.759618 -0.690120  0.230729   \n",
       "windspeed    96453.0  4.249127e-16  1.000005 -1.563692 -0.720679 -0.122186   \n",
       "windbearing  96453.0 -9.517809e-17  1.000005 -1.746175 -0.665928 -0.069930   \n",
       "pressure     96453.0 -1.390838e-16  1.000005 -8.576917  0.074071  0.112970   \n",
       "temperature  96453.0 -2.251271e-16  1.000005 -3.533991 -0.758393  0.007048   \n",
       "\n",
       "                  75%       max  \n",
       "humidity     0.793470  1.356212  \n",
       "windspeed    0.480964  7.672191  \n",
       "windbearing  0.954442  1.597003  \n",
       "pressure     0.152639  0.368849  \n",
       "temperature  0.723050  2.928638  "
      ]
     },
     "execution_count": 14,
     "metadata": {},
     "output_type": "execute_result"
    }
   ],
   "source": [
    "df_standardized.describe().T"
   ]
  },
  {
   "cell_type": "markdown",
   "metadata": {},
   "source": [
    "#### Look for outliers"
   ]
  },
  {
   "cell_type": "code",
   "execution_count": 15,
   "metadata": {},
   "outputs": [
    {
     "data": {
      "image/png": "[encoded data removed]",
      "text/plain": [
       "<Figure size 864x432 with 1 Axes>"
      ]
     },
     "metadata": {
      "needs_background": "light"
     },
     "output_type": "display_data"
    }
   ],
   "source": [
    "hp.look_for_outliers(df_standardized, df_standardized.columns.tolist())"
   ]
  },
  {
   "cell_type": "markdown",
   "metadata": {},
   "source": [
    "Correct for outliers using Tukey."
   ]
  },
  {
   "cell_type": "code",
   "execution_count": 16,
   "metadata": {},
   "outputs": [],
   "source": [
    "columns = df_standardized.columns.tolist()\n",
    "tukey_columns = [f'{x}_tk' for x in columns]\n",
    "df_standardized = hp.correct_outliers(df_standardized, columns)"
   ]
  },
  {
   "cell_type": "code",
   "execution_count": 17,
   "metadata": {},
   "outputs": [
    {
     "data": {
      "image/png": "[encoded data removed]",
      "text/plain": [
       "<Figure size 864x432 with 1 Axes>"
      ]
     },
     "metadata": {
      "needs_background": "light"
     },
     "output_type": "display_data"
    }
   ],
   "source": [
    "hp.look_for_outliers(df_standardized, tukey_columns)"
   ]
  },
  {
   "cell_type": "markdown",
   "metadata": {},
   "source": [
    "## Data Exploration\n",
    "### Correlations\n",
    "Inspect correlations between features and target variable."
   ]
  },
  {
   "cell_type": "code",
   "execution_count": 18,
   "metadata": {},
   "outputs": [
    {
     "data": {
      "text/html": [
       "<div>\n",
       "<style scoped>\n",
       "    .dataframe tbody tr th:only-of-type {\n",
       "        vertical-align: middle;\n",
       "    }\n",
       "\n",
       "    .dataframe tbody tr th {\n",
       "        vertical-align: top;\n",
       "    }\n",
       "\n",
       "    .dataframe thead th {\n",
       "        text-align: right;\n",
       "    }\n",
       "</style>\n",
       "<table border=\"1\" class=\"dataframe\">\n",
       "  <thead>\n",
       "    <tr style=\"text-align: right;\">\n",
       "      <th></th>\n",
       "      <th>humidity_tk</th>\n",
       "      <th>windspeed_tk</th>\n",
       "      <th>windbearing_tk</th>\n",
       "      <th>pressure_tk</th>\n",
       "      <th>temperature_tk</th>\n",
       "    </tr>\n",
       "  </thead>\n",
       "  <tbody>\n",
       "    <tr>\n",
       "      <th>humidity_tk</th>\n",
       "      <td>1.000000</td>\n",
       "      <td>-0.230558</td>\n",
       "      <td>0.000591</td>\n",
       "      <td>0.039712</td>\n",
       "      <td>-0.633371</td>\n",
       "    </tr>\n",
       "    <tr>\n",
       "      <th>windspeed_tk</th>\n",
       "      <td>-0.230558</td>\n",
       "      <td>1.000000</td>\n",
       "      <td>0.099996</td>\n",
       "      <td>-0.247397</td>\n",
       "      <td>0.015327</td>\n",
       "    </tr>\n",
       "    <tr>\n",
       "      <th>windbearing_tk</th>\n",
       "      <td>0.000591</td>\n",
       "      <td>0.099996</td>\n",
       "      <td>1.000000</td>\n",
       "      <td>-0.079058</td>\n",
       "      <td>0.029996</td>\n",
       "    </tr>\n",
       "    <tr>\n",
       "      <th>pressure_tk</th>\n",
       "      <td>0.039712</td>\n",
       "      <td>-0.247397</td>\n",
       "      <td>-0.079058</td>\n",
       "      <td>1.000000</td>\n",
       "      <td>-0.295976</td>\n",
       "    </tr>\n",
       "    <tr>\n",
       "      <th>temperature_tk</th>\n",
       "      <td>-0.633371</td>\n",
       "      <td>0.015327</td>\n",
       "      <td>0.029996</td>\n",
       "      <td>-0.295976</td>\n",
       "      <td>1.000000</td>\n",
       "    </tr>\n",
       "  </tbody>\n",
       "</table>\n",
       "</div>"
      ],
      "text/plain": [
       "                humidity_tk  windspeed_tk  windbearing_tk  pressure_tk  \\\n",
       "humidity_tk        1.000000     -0.230558        0.000591     0.039712   \n",
       "windspeed_tk      -0.230558      1.000000        0.099996    -0.247397   \n",
       "windbearing_tk     0.000591      0.099996        1.000000    -0.079058   \n",
       "pressure_tk        0.039712     -0.247397       -0.079058     1.000000   \n",
       "temperature_tk    -0.633371      0.015327        0.029996    -0.295976   \n",
       "\n",
       "                temperature_tk  \n",
       "humidity_tk          -0.633371  \n",
       "windspeed_tk          0.015327  \n",
       "windbearing_tk        0.029996  \n",
       "pressure_tk          -0.295976  \n",
       "temperature_tk        1.000000  "
      ]
     },
     "execution_count": 18,
     "metadata": {},
     "output_type": "execute_result"
    }
   ],
   "source": [
    "df_standardized.loc[:, tukey_columns].corr()"
   ]
  },
  {
   "cell_type": "code",
   "execution_count": 19,
   "metadata": {},
   "outputs": [],
   "source": [
    "df_correlations = df_standardized.loc[:, tukey_columns].corr().copy()"
   ]
  },
  {
   "cell_type": "code",
   "execution_count": 20,
   "metadata": {},
   "outputs": [
    {
     "data": {
      "image/png": "[encoded data removed]",
      "text/plain": [
       "<Figure size 576x432 with 2 Axes>"
      ]
     },
     "metadata": {
      "needs_background": "light"
     },
     "output_type": "display_data"
    }
   ],
   "source": [
    "f, axes = plt.subplots(1, 1, figsize=(8, 6))\n",
    "sns.heatmap(df_correlations, ax=axes)\n",
    "plt.show()"
   ]
  },
  {
   "cell_type": "markdown",
   "metadata": {},
   "source": [
    "**Observations:**  Humidity and temperature are highly correlated."
   ]
  },
  {
   "cell_type": "markdown",
   "metadata": {},
   "source": [
    "## Modeling"
   ]
  },
  {
   "cell_type": "code",
   "execution_count": 21,
   "metadata": {},
   "outputs": [],
   "source": [
    "df_model = df_standardized.loc[:, tukey_columns].copy()"
   ]
  },
  {
   "cell_type": "code",
   "execution_count": 22,
   "metadata": {},
   "outputs": [
    {
     "data": {
      "text/plain": [
       "['humidity_tk',\n",
       " 'windspeed_tk',\n",
       " 'windbearing_tk',\n",
       " 'pressure_tk',\n",
       " 'temperature_tk']"
      ]
     },
     "execution_count": 22,
     "metadata": {},
     "output_type": "execute_result"
    }
   ],
   "source": [
    "tukey_columns"
   ]
  },
  {
   "cell_type": "code",
   "execution_count": 23,
   "metadata": {},
   "outputs": [
    {
     "name": "stdout",
     "output_type": "stream",
     "text": [
      "Coefficients: [-0.67202523 -0.23806103  0.02711614 -4.87500124]\n",
      "Intercept: 0.5502004128715433\n"
     ]
    }
   ],
   "source": [
    "features = ['humidity_tk', 'windspeed_tk', 'windbearing_tk', 'pressure_tk']\n",
    "X = df_model.loc[:, features]\n",
    "y = df_model['temperature_tk']\n",
    "\n",
    "lrm = linear_model.LinearRegression()\n",
    "\n",
    "lrm.fit(X, y)\n",
    "\n",
    "print(f'Coefficients: {lrm.coef_}')\n",
    "print(f'Intercept: {lrm.intercept_}')\n",
    "\n",
    "# Make predictions\n",
    "y_pred = lrm.predict(X)\n",
    "\n",
    "# Compute errors between actual values and predictions\n",
    "errors = y - y_pred"
   ]
  },
  {
   "cell_type": "markdown",
   "metadata": {},
   "source": [
    "## Model Evaluation\n",
    "### Linearity of model coefficients"
   ]
  },
  {
   "cell_type": "code",
   "execution_count": 24,
   "metadata": {},
   "outputs": [
    {
     "data": {
      "image/png": "[encoded data removed]",
      "text/plain": [
       "<Figure size 432x288 with 1 Axes>"
      ]
     },
     "metadata": {
      "needs_background": "light"
     },
     "output_type": "display_data"
    },
    {
     "data": {
      "image/png": "[encoded data removed]",
      "text/plain": [
       "<Figure size 432x288 with 1 Axes>"
      ]
     },
     "metadata": {
      "needs_background": "light"
     },
     "output_type": "display_data"
    },
    {
     "data": {
      "image/png": "[encoded data removed]",
      "text/plain": [
       "<Figure size 432x288 with 1 Axes>"
      ]
     },
     "metadata": {
      "needs_background": "light"
     },
     "output_type": "display_data"
    },
    {
     "data": {
      "image/png": "[encoded data removed]",
      "text/plain": [
       "<Figure size 432x288 with 1 Axes>"
      ]
     },
     "metadata": {
      "needs_background": "light"
     },
     "output_type": "display_data"
    }
   ],
   "source": [
    "hp.check_feature_linearity(df_model, features, y_pred)"
   ]
  },
  {
   "cell_type": "markdown",
   "metadata": {},
   "source": [
    "**Observations** The relationships between the features and the predictions do look linear."
   ]
  },
  {
   "cell_type": "markdown",
   "metadata": {},
   "source": [
    "### Average errors"
   ]
  },
  {
   "cell_type": "code",
   "execution_count": 25,
   "metadata": {},
   "outputs": [
    {
     "name": "stdout",
     "output_type": "stream",
     "text": [
      "The average error is 5.1861744681358853e-17.\n"
     ]
    }
   ],
   "source": [
    "print(f'The average error is {errors.mean()}.')"
   ]
  },
  {
   "cell_type": "markdown",
   "metadata": {},
   "source": [
    "**Observations:** The average error is zero."
   ]
  },
  {
   "cell_type": "markdown",
   "metadata": {},
   "source": [
    "### Homoscedasticity"
   ]
  },
  {
   "cell_type": "code",
   "execution_count": 26,
   "metadata": {},
   "outputs": [
    {
     "data": {
      "image/png": "[encoded data removed]",
      "text/plain": [
       "<Figure size 432x288 with 1 Axes>"
      ]
     },
     "metadata": {
      "needs_background": "light"
     },
     "output_type": "display_data"
    },
    {
     "name": "stdout",
     "output_type": "stream",
     "text": [
      "The Bartlett test is 128.0603517145497, with a p-value of 1.0888125744733136e-29.\n",
      "The Levine test is 98.15445051216022, with a p-value of 3.919497574632673e-23.\n"
     ]
    }
   ],
   "source": [
    "hp.check_homoscedasticity(y_pred, errors)"
   ]
  },
  {
   "cell_type": "markdown",
   "metadata": {},
   "source": [
    "**Observation:** Both the Bartlett test and the Levine test indicate that there is a large amount of heteroscedacity in the model.\n",
    "\n",
    "### Multicolinearity"
   ]
  },
  {
   "cell_type": "code",
   "execution_count": 27,
   "metadata": {},
   "outputs": [
    {
     "data": {
      "text/html": [
       "<div>\n",
       "<style scoped>\n",
       "    .dataframe tbody tr th:only-of-type {\n",
       "        vertical-align: middle;\n",
       "    }\n",
       "\n",
       "    .dataframe tbody tr th {\n",
       "        vertical-align: top;\n",
       "    }\n",
       "\n",
       "    .dataframe thead th {\n",
       "        text-align: right;\n",
       "    }\n",
       "</style>\n",
       "<table border=\"1\" class=\"dataframe\">\n",
       "  <thead>\n",
       "    <tr style=\"text-align: right;\">\n",
       "      <th></th>\n",
       "      <th>humidity_tk</th>\n",
       "      <th>windspeed_tk</th>\n",
       "      <th>windbearing_tk</th>\n",
       "      <th>pressure_tk</th>\n",
       "    </tr>\n",
       "  </thead>\n",
       "  <tbody>\n",
       "    <tr>\n",
       "      <th>humidity_tk</th>\n",
       "      <td>1.000000</td>\n",
       "      <td>-0.230558</td>\n",
       "      <td>0.000591</td>\n",
       "      <td>0.039712</td>\n",
       "    </tr>\n",
       "    <tr>\n",
       "      <th>windspeed_tk</th>\n",
       "      <td>-0.230558</td>\n",
       "      <td>1.000000</td>\n",
       "      <td>0.099996</td>\n",
       "      <td>-0.247397</td>\n",
       "    </tr>\n",
       "    <tr>\n",
       "      <th>windbearing_tk</th>\n",
       "      <td>0.000591</td>\n",
       "      <td>0.099996</td>\n",
       "      <td>1.000000</td>\n",
       "      <td>-0.079058</td>\n",
       "    </tr>\n",
       "    <tr>\n",
       "      <th>pressure_tk</th>\n",
       "      <td>0.039712</td>\n",
       "      <td>-0.247397</td>\n",
       "      <td>-0.079058</td>\n",
       "      <td>1.000000</td>\n",
       "    </tr>\n",
       "  </tbody>\n",
       "</table>\n",
       "</div>"
      ],
      "text/plain": [
       "                humidity_tk  windspeed_tk  windbearing_tk  pressure_tk\n",
       "humidity_tk        1.000000     -0.230558        0.000591     0.039712\n",
       "windspeed_tk      -0.230558      1.000000        0.099996    -0.247397\n",
       "windbearing_tk     0.000591      0.099996        1.000000    -0.079058\n",
       "pressure_tk        0.039712     -0.247397       -0.079058     1.000000"
      ]
     },
     "execution_count": 27,
     "metadata": {},
     "output_type": "execute_result"
    }
   ],
   "source": [
    "df_model.loc[:, features].corr()"
   ]
  },
  {
   "cell_type": "markdown",
   "metadata": {},
   "source": [
    "**Observations:** All features have low correlations with eachother. Therefore, colinearity is not an issue.\n",
    "\n",
    "### Error correlations"
   ]
  },
  {
   "cell_type": "code",
   "execution_count": 28,
   "metadata": {},
   "outputs": [
    {
     "data": {
      "image/png": "[encoded data removed]",
      "text/plain": [
       "<Figure size 432x288 with 1 Axes>"
      ]
     },
     "metadata": {
      "needs_background": "light"
     },
     "output_type": "display_data"
    },
    {
     "name": "stdout",
     "output_type": "stream",
     "text": [
      "Max autocorrelation: 0.948\n",
      "Min autocorrelation: 0.649\n"
     ]
    }
   ],
   "source": [
    "hp.check_error_autocorrelation(errors)"
   ]
  },
  {
   "cell_type": "markdown",
   "metadata": {},
   "source": [
    "**Observations:** There is a high degree of autocorrelation in the model.\n",
    "\n",
    "### Error and feature correlations"
   ]
  },
  {
   "cell_type": "code",
   "execution_count": 29,
   "metadata": {},
   "outputs": [],
   "source": [
    "df_model['errors'] = errors"
   ]
  },
  {
   "cell_type": "code",
   "execution_count": 30,
   "metadata": {},
   "outputs": [
    {
     "data": {
      "text/plain": [
       "humidity_tk      -6.501297e-16\n",
       "windspeed_tk      1.814675e-16\n",
       "windbearing_tk   -4.442382e-17\n",
       "pressure_tk       5.278224e-16\n",
       "temperature_tk    6.941089e-01\n",
       "errors            1.000000e+00\n",
       "Name: errors, dtype: float64"
      ]
     },
     "execution_count": 30,
     "metadata": {},
     "output_type": "execute_result"
    }
   ],
   "source": [
    "df_model.corr()['errors']"
   ]
  },
  {
   "cell_type": "markdown",
   "metadata": {},
   "source": [
    "**Observations:** The correlations are almost zero between the errors and the features."
   ]
  },
  {
   "cell_type": "code",
   "execution_count": null,
   "metadata": {},
   "outputs": [],
   "source": []
  }
 ],
 "metadata": {
  "kernelspec": {
   "display_name": "Python 3",
   "language": "python",
   "name": "python3"
  },
  "language_info": {
   "codemirror_mode": {
    "name": "ipython",
    "version": 3
   },
   "file_extension": ".py",
   "mimetype": "text/x-python",
   "name": "python",
   "nbconvert_exporter": "python",
   "pygments_lexer": "ipython3",
   "version": "3.6.8"
  }
 },
 "nbformat": 4,
 "nbformat_minor": 2
}
