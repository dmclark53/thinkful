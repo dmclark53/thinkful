{
 "cells": [
  {
   "cell_type": "markdown",
   "metadata": {},
   "source": [
    "# Interpretation and Significance\n",
    "Interpret the following model."
   ]
  },
  {
   "cell_type": "markdown",
   "metadata": {},
   "source": [
    "$$expenditure = 873 + 0.0012annual\\_income + 0.00002annual\\_income^2 - 223.57have\\_kids$$"
   ]
  },
  {
   "cell_type": "markdown",
   "metadata": {},
   "source": [
    "## Observations\n",
    "1. There is a large bias term, 873.\n",
    "\n",
    "2. The largest coefficient is for _having\\__kids_. This means that having kids has a significant impact on expenditures.\n",
    "\n",
    "3. The smallest coefficient is the interaction term, _anual\\__income_<sup>2</sup>. Annual income does not appear to be as important a factor in predicting expenditures.\n",
    "\n",
    "4. _anual\\__income_ increase quadratically.\n",
    "\n",
    "5. It would be useful to obtain the p-value between the features and target variable to understand their statistical significance."
   ]
  },
  {
   "cell_type": "code",
   "execution_count": null,
   "metadata": {},
   "outputs": [],
   "source": []
  }
 ],
 "metadata": {
  "kernelspec": {
   "display_name": "Python 3",
   "language": "python",
   "name": "python3"
  },
  "language_info": {
   "codemirror_mode": {
    "name": "ipython",
    "version": 3
   },
   "file_extension": ".py",
   "mimetype": "text/x-python",
   "name": "python",
   "nbconvert_exporter": "python",
   "pygments_lexer": "ipython3",
   "version": "3.6.8"
  }
 },
 "nbformat": 4,
 "nbformat_minor": 2
}
