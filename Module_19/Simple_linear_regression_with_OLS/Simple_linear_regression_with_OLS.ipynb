{
 "cells": [
  {
   "cell_type": "markdown",
   "metadata": {},
   "source": [
    "# Simple Linear Regression With OLS"
   ]
  },
  {
   "cell_type": "code",
   "execution_count": 1,
   "metadata": {},
   "outputs": [],
   "source": [
    "import helpers as hp\n",
    "import matplotlib.pyplot as plt\n",
    "import numpy as np\n",
    "import pandas as pd\n",
    "import seaborn as sns\n",
    "from scipy.stats import boxcox\n",
    "from scipy.stats import normaltest\n",
    "from sklearn import linear_model\n",
    "from sklearn.preprocessing import StandardScaler\n",
    "from sqlalchemy import create_engine\n",
    "\n",
    "from config import usr, pwd, url, port, db\n",
    "\n",
    "%matplotlib inline"
   ]
  },
  {
   "cell_type": "markdown",
   "metadata": {},
   "source": [
    "## Load Data\n",
    "Load the dataset and inspect it's contents."
   ]
  },
  {
   "cell_type": "code",
   "execution_count": 2,
   "metadata": {},
   "outputs": [],
   "source": [
    "engine = create_engine(f\"postgresql+psycopg2://{usr}:{pwd}@{url}:{port}/{db}\")"
   ]
  },
  {
   "cell_type": "code",
   "execution_count": 3,
   "metadata": {},
   "outputs": [],
   "source": [
    "query = f'''\n",
    "SELECT\n",
    "    *\n",
    "FROM\n",
    "    {db};\n",
    "'''"
   ]
  },
  {
   "cell_type": "code",
   "execution_count": 4,
   "metadata": {},
   "outputs": [],
   "source": [
    "df = pd.read_sql_query(query, con=engine)"
   ]
  },
  {
   "cell_type": "code",
   "execution_count": 5,
   "metadata": {},
   "outputs": [],
   "source": [
    "engine.dispose()"
   ]
  },
  {
   "cell_type": "code",
   "execution_count": 6,
   "metadata": {},
   "outputs": [
    {
     "name": "stdout",
     "output_type": "stream",
     "text": [
      "<class 'pandas.core.frame.DataFrame'>\n",
      "RangeIndex: 1460 entries, 0 to 1459\n",
      "Data columns (total 81 columns):\n",
      "id               1460 non-null int64\n",
      "mssubclass       1460 non-null int64\n",
      "mszoning         1460 non-null object\n",
      "lotfrontage      1201 non-null float64\n",
      "lotarea          1460 non-null int64\n",
      "street           1460 non-null object\n",
      "alley            91 non-null object\n",
      "lotshape         1460 non-null object\n",
      "landcontour      1460 non-null object\n",
      "utilities        1460 non-null object\n",
      "lotconfig        1460 non-null object\n",
      "landslope        1460 non-null object\n",
      "neighborhood     1460 non-null object\n",
      "condition1       1460 non-null object\n",
      "condition2       1460 non-null object\n",
      "bldgtype         1460 non-null object\n",
      "housestyle       1460 non-null object\n",
      "overallqual      1460 non-null int64\n",
      "overallcond      1460 non-null int64\n",
      "yearbuilt        1460 non-null int64\n",
      "yearremodadd     1460 non-null int64\n",
      "roofstyle        1460 non-null object\n",
      "roofmatl         1460 non-null object\n",
      "exterior1st      1460 non-null object\n",
      "exterior2nd      1460 non-null object\n",
      "masvnrtype       1452 non-null object\n",
      "masvnrarea       1452 non-null float64\n",
      "exterqual        1460 non-null object\n",
      "extercond        1460 non-null object\n",
      "foundation       1460 non-null object\n",
      "bsmtqual         1423 non-null object\n",
      "bsmtcond         1423 non-null object\n",
      "bsmtexposure     1422 non-null object\n",
      "bsmtfintype1     1423 non-null object\n",
      "bsmtfinsf1       1460 non-null int64\n",
      "bsmtfintype2     1422 non-null object\n",
      "bsmtfinsf2       1460 non-null int64\n",
      "bsmtunfsf        1460 non-null int64\n",
      "totalbsmtsf      1460 non-null int64\n",
      "heating          1460 non-null object\n",
      "heatingqc        1460 non-null object\n",
      "centralair       1460 non-null object\n",
      "electrical       1459 non-null object\n",
      "firstflrsf       1460 non-null int64\n",
      "secondflrsf      1460 non-null int64\n",
      "lowqualfinsf     1460 non-null int64\n",
      "grlivarea        1460 non-null int64\n",
      "bsmtfullbath     1460 non-null int64\n",
      "bsmthalfbath     1460 non-null int64\n",
      "fullbath         1460 non-null int64\n",
      "halfbath         1460 non-null int64\n",
      "bedroomabvgr     1460 non-null int64\n",
      "kitchenabvgr     1460 non-null int64\n",
      "kitchenqual      1460 non-null object\n",
      "totrmsabvgrd     1460 non-null int64\n",
      "functional       1460 non-null object\n",
      "fireplaces       1460 non-null int64\n",
      "fireplacequ      770 non-null object\n",
      "garagetype       1379 non-null object\n",
      "garageyrblt      1379 non-null float64\n",
      "garagefinish     1379 non-null object\n",
      "garagecars       1460 non-null int64\n",
      "garagearea       1460 non-null int64\n",
      "garagequal       1379 non-null object\n",
      "garagecond       1379 non-null object\n",
      "paveddrive       1460 non-null object\n",
      "wooddecksf       1460 non-null int64\n",
      "openporchsf      1460 non-null int64\n",
      "enclosedporch    1460 non-null int64\n",
      "threessnporch    1460 non-null int64\n",
      "screenporch      1460 non-null int64\n",
      "poolarea         1460 non-null int64\n",
      "poolqc           7 non-null object\n",
      "fence            281 non-null object\n",
      "miscfeature      54 non-null object\n",
      "miscval          1460 non-null int64\n",
      "mosold           1460 non-null int64\n",
      "yrsold           1460 non-null int64\n",
      "saletype         1460 non-null object\n",
      "salecondition    1460 non-null object\n",
      "saleprice        1460 non-null int64\n",
      "dtypes: float64(3), int64(35), object(43)\n",
      "memory usage: 924.0+ KB\n"
     ]
    }
   ],
   "source": [
    "df.info()"
   ]
  },
  {
   "cell_type": "markdown",
   "metadata": {},
   "source": [
    "## Missing Values\n",
    "### Variable types\n",
    "Create lists of continuous and categorical data."
   ]
  },
  {
   "cell_type": "code",
   "execution_count": 7,
   "metadata": {},
   "outputs": [],
   "source": [
    "cont_variables, cat_variables = hp.find_variable_types(df)"
   ]
  },
  {
   "cell_type": "code",
   "execution_count": 8,
   "metadata": {},
   "outputs": [
    {
     "name": "stdout",
     "output_type": "stream",
     "text": [
      "Continuous variables:\n",
      "['id', 'mssubclass', 'lotfrontage', 'lotarea', 'overallqual', 'overallcond', 'yearbuilt', 'yearremodadd', 'masvnrarea', 'bsmtfinsf1', 'bsmtfinsf2', 'bsmtunfsf', 'totalbsmtsf', 'firstflrsf', 'secondflrsf', 'lowqualfinsf', 'grlivarea', 'bsmtfullbath', 'bsmthalfbath', 'fullbath', 'halfbath', 'bedroomabvgr', 'kitchenabvgr', 'totrmsabvgrd', 'fireplaces', 'garageyrblt', 'garagecars', 'garagearea', 'wooddecksf', 'openporchsf', 'enclosedporch', 'threessnporch', 'screenporch', 'poolarea', 'miscval', 'mosold', 'yrsold', 'saleprice']\n",
      "\n",
      "Categorical variables:\n",
      "['mszoning', 'street', 'alley', 'lotshape', 'landcontour', 'utilities', 'lotconfig', 'landslope', 'neighborhood', 'condition1', 'condition2', 'bldgtype', 'housestyle', 'roofstyle', 'roofmatl', 'exterior1st', 'exterior2nd', 'masvnrtype', 'exterqual', 'extercond', 'foundation', 'bsmtqual', 'bsmtcond', 'bsmtexposure', 'bsmtfintype1', 'bsmtfintype2', 'heating', 'heatingqc', 'centralair', 'electrical', 'kitchenqual', 'functional', 'fireplacequ', 'garagetype', 'garagefinish', 'garagequal', 'garagecond', 'paveddrive', 'poolqc', 'fence', 'miscfeature', 'saletype', 'salecondition']\n"
     ]
    }
   ],
   "source": [
    "print(f'Continuous variables:\\n{cont_variables}\\n')\n",
    "print(f'Categorical variables:\\n{cat_variables}')"
   ]
  },
  {
   "cell_type": "markdown",
   "metadata": {},
   "source": [
    "Remove `'id'` column from `cont_variables` since this column isn't a variable."
   ]
  },
  {
   "cell_type": "code",
   "execution_count": 9,
   "metadata": {},
   "outputs": [],
   "source": [
    "cont_variables.remove('id')"
   ]
  },
  {
   "cell_type": "code",
   "execution_count": 10,
   "metadata": {},
   "outputs": [
    {
     "name": "stdout",
     "output_type": "stream",
     "text": [
      "['mssubclass', 'lotfrontage', 'lotarea', 'overallqual', 'overallcond', 'yearbuilt', 'yearremodadd', 'masvnrarea', 'bsmtfinsf1', 'bsmtfinsf2', 'bsmtunfsf', 'totalbsmtsf', 'firstflrsf', 'secondflrsf', 'lowqualfinsf', 'grlivarea', 'bsmtfullbath', 'bsmthalfbath', 'fullbath', 'halfbath', 'bedroomabvgr', 'kitchenabvgr', 'totrmsabvgrd', 'fireplaces', 'garageyrblt', 'garagecars', 'garagearea', 'wooddecksf', 'openporchsf', 'enclosedporch', 'threessnporch', 'screenporch', 'poolarea', 'miscval', 'mosold', 'yrsold', 'saleprice']\n"
     ]
    }
   ],
   "source": [
    "print(cont_variables)"
   ]
  },
  {
   "cell_type": "markdown",
   "metadata": {},
   "source": [
    "### Unique categories\n",
    "Print unique categories."
   ]
  },
  {
   "cell_type": "code",
   "execution_count": 11,
   "metadata": {},
   "outputs": [
    {
     "name": "stdout",
     "output_type": "stream",
     "text": [
      "mszoning: ['RL' 'RM' 'C (all)' 'FV' 'RH']\n",
      "street: ['Pave' 'Grvl']\n",
      "alley: [None 'Grvl' 'Pave']\n",
      "lotshape: ['Reg' 'IR1' 'IR2' 'IR3']\n",
      "landcontour: ['Lvl' 'Bnk' 'Low' 'HLS']\n",
      "utilities: ['AllPub' 'NoSeWa']\n",
      "lotconfig: ['Inside' 'FR2' 'Corner' 'CulDSac' 'FR3']\n",
      "landslope: ['Gtl' 'Mod' 'Sev']\n",
      "neighborhood: ['CollgCr' 'Veenker' 'Crawfor' 'NoRidge' 'Mitchel' 'Somerst' 'NWAmes'\n",
      " 'OldTown' 'BrkSide' 'Sawyer' 'NridgHt' 'NAmes' 'SawyerW' 'IDOTRR'\n",
      " 'MeadowV' 'Edwards' 'Timber' 'Gilbert' 'StoneBr' 'ClearCr' 'NPkVill'\n",
      " 'Blmngtn' 'BrDale' 'SWISU' 'Blueste']\n",
      "condition1: ['Norm' 'Feedr' 'PosN' 'Artery' 'RRAe' 'RRNn' 'RRAn' 'PosA' 'RRNe']\n",
      "condition2: ['Norm' 'Artery' 'RRNn' 'Feedr' 'PosN' 'PosA' 'RRAn' 'RRAe']\n",
      "bldgtype: ['1Fam' '2fmCon' 'Duplex' 'TwnhsE' 'Twnhs']\n",
      "housestyle: ['2Story' '1Story' '1.5Fin' '1.5Unf' 'SFoyer' 'SLvl' '2.5Unf' '2.5Fin']\n",
      "roofstyle: ['Gable' 'Hip' 'Gambrel' 'Mansard' 'Flat' 'Shed']\n",
      "roofmatl: ['CompShg' 'WdShngl' 'Metal' 'WdShake' 'Membran' 'Tar&Grv' 'Roll'\n",
      " 'ClyTile']\n",
      "exterior1st: ['VinylSd' 'MetalSd' 'Wd Sdng' 'HdBoard' 'BrkFace' 'WdShing' 'CemntBd'\n",
      " 'Plywood' 'AsbShng' 'Stucco' 'BrkComm' 'AsphShn' 'Stone' 'ImStucc'\n",
      " 'CBlock']\n",
      "exterior2nd: ['VinylSd' 'MetalSd' 'Wd Shng' 'HdBoard' 'Plywood' 'Wd Sdng' 'CmentBd'\n",
      " 'BrkFace' 'Stucco' 'AsbShng' 'Brk Cmn' 'ImStucc' 'AsphShn' 'Stone'\n",
      " 'Other' 'CBlock']\n",
      "masvnrtype: ['BrkFace' 'None' 'Stone' 'BrkCmn' None]\n",
      "exterqual: ['Gd' 'TA' 'Ex' 'Fa']\n",
      "extercond: ['TA' 'Gd' 'Fa' 'Po' 'Ex']\n",
      "foundation: ['PConc' 'CBlock' 'BrkTil' 'Wood' 'Slab' 'Stone']\n",
      "bsmtqual: ['Gd' 'TA' 'Ex' None 'Fa']\n",
      "bsmtcond: ['TA' 'Gd' None 'Fa' 'Po']\n",
      "bsmtexposure: ['No' 'Gd' 'Mn' 'Av' None]\n",
      "bsmtfintype1: ['GLQ' 'ALQ' 'Unf' 'Rec' 'BLQ' None 'LwQ']\n",
      "bsmtfintype2: ['Unf' 'BLQ' None 'ALQ' 'Rec' 'LwQ' 'GLQ']\n",
      "heating: ['GasA' 'GasW' 'Grav' 'Wall' 'OthW' 'Floor']\n",
      "heatingqc: ['Ex' 'Gd' 'TA' 'Fa' 'Po']\n",
      "centralair: ['Y' 'N']\n",
      "electrical: ['SBrkr' 'FuseF' 'FuseA' 'FuseP' 'Mix' None]\n",
      "kitchenqual: ['Gd' 'TA' 'Ex' 'Fa']\n",
      "functional: ['Typ' 'Min1' 'Maj1' 'Min2' 'Mod' 'Maj2' 'Sev']\n",
      "fireplacequ: [None 'TA' 'Gd' 'Fa' 'Ex' 'Po']\n",
      "garagetype: ['Attchd' 'Detchd' 'BuiltIn' 'CarPort' None 'Basment' '2Types']\n",
      "garagefinish: ['RFn' 'Unf' 'Fin' None]\n",
      "garagequal: ['TA' 'Fa' 'Gd' None 'Ex' 'Po']\n",
      "garagecond: ['TA' 'Fa' None 'Gd' 'Po' 'Ex']\n",
      "paveddrive: ['Y' 'N' 'P']\n",
      "poolqc: [None 'Ex' 'Fa' 'Gd']\n",
      "fence: [None 'MnPrv' 'GdWo' 'GdPrv' 'MnWw']\n",
      "miscfeature: [None 'Shed' 'Gar2' 'Othr' 'TenC']\n",
      "saletype: ['WD' 'New' 'COD' 'ConLD' 'ConLI' 'CWD' 'ConLw' 'Con' 'Oth']\n",
      "salecondition: ['Normal' 'Abnorml' 'Partial' 'AdjLand' 'Alloca' 'Family']\n"
     ]
    }
   ],
   "source": [
    "hp.print_unique_categories(df, cat_variables)"
   ]
  },
  {
   "cell_type": "markdown",
   "metadata": {},
   "source": [
    "### Missing categories\n",
    "The missing category columns are labeled at `None`. I will replace these with `\"None\"`."
   ]
  },
  {
   "cell_type": "code",
   "execution_count": 12,
   "metadata": {},
   "outputs": [],
   "source": [
    "df_clean = hp.fill_missing_categories(df, cat_variables)"
   ]
  },
  {
   "cell_type": "code",
   "execution_count": 13,
   "metadata": {},
   "outputs": [
    {
     "name": "stdout",
     "output_type": "stream",
     "text": [
      "<class 'pandas.core.frame.DataFrame'>\n",
      "RangeIndex: 1460 entries, 0 to 1459\n",
      "Data columns (total 43 columns):\n",
      "mszoning         1460 non-null object\n",
      "street           1460 non-null object\n",
      "alley            1460 non-null object\n",
      "lotshape         1460 non-null object\n",
      "landcontour      1460 non-null object\n",
      "utilities        1460 non-null object\n",
      "lotconfig        1460 non-null object\n",
      "landslope        1460 non-null object\n",
      "neighborhood     1460 non-null object\n",
      "condition1       1460 non-null object\n",
      "condition2       1460 non-null object\n",
      "bldgtype         1460 non-null object\n",
      "housestyle       1460 non-null object\n",
      "roofstyle        1460 non-null object\n",
      "roofmatl         1460 non-null object\n",
      "exterior1st      1460 non-null object\n",
      "exterior2nd      1460 non-null object\n",
      "masvnrtype       1460 non-null object\n",
      "exterqual        1460 non-null object\n",
      "extercond        1460 non-null object\n",
      "foundation       1460 non-null object\n",
      "bsmtqual         1460 non-null object\n",
      "bsmtcond         1460 non-null object\n",
      "bsmtexposure     1460 non-null object\n",
      "bsmtfintype1     1460 non-null object\n",
      "bsmtfintype2     1460 non-null object\n",
      "heating          1460 non-null object\n",
      "heatingqc        1460 non-null object\n",
      "centralair       1460 non-null object\n",
      "electrical       1460 non-null object\n",
      "kitchenqual      1460 non-null object\n",
      "functional       1460 non-null object\n",
      "fireplacequ      1460 non-null object\n",
      "garagetype       1460 non-null object\n",
      "garagefinish     1460 non-null object\n",
      "garagequal       1460 non-null object\n",
      "garagecond       1460 non-null object\n",
      "paveddrive       1460 non-null object\n",
      "poolqc           1460 non-null object\n",
      "fence            1460 non-null object\n",
      "miscfeature      1460 non-null object\n",
      "saletype         1460 non-null object\n",
      "salecondition    1460 non-null object\n",
      "dtypes: object(43)\n",
      "memory usage: 490.5+ KB\n"
     ]
    }
   ],
   "source": [
    "df_clean.loc[:, cat_variables].info()"
   ]
  },
  {
   "cell_type": "markdown",
   "metadata": {},
   "source": [
    "### Missing value fractions"
   ]
  },
  {
   "cell_type": "code",
   "execution_count": 14,
   "metadata": {},
   "outputs": [
    {
     "name": "stdout",
     "output_type": "stream",
     "text": [
      "lotfrontage    17.739726\n",
      "masvnrarea      0.547945\n",
      "garageyrblt     5.547945\n",
      "dtype: float64\n"
     ]
    }
   ],
   "source": [
    "hp.find_na_columns(df_clean, display_fractions=True)"
   ]
  },
  {
   "cell_type": "code",
   "execution_count": 15,
   "metadata": {},
   "outputs": [],
   "source": [
    "na_fractions = hp.find_na_columns(df_clean)"
   ]
  },
  {
   "cell_type": "code",
   "execution_count": 16,
   "metadata": {},
   "outputs": [
    {
     "data": {
      "text/html": [
       "<div>\n",
       "<style scoped>\n",
       "    .dataframe tbody tr th:only-of-type {\n",
       "        vertical-align: middle;\n",
       "    }\n",
       "\n",
       "    .dataframe tbody tr th {\n",
       "        vertical-align: top;\n",
       "    }\n",
       "\n",
       "    .dataframe thead th {\n",
       "        text-align: right;\n",
       "    }\n",
       "</style>\n",
       "<table border=\"1\" class=\"dataframe\">\n",
       "  <thead>\n",
       "    <tr style=\"text-align: right;\">\n",
       "      <th></th>\n",
       "      <th>count</th>\n",
       "      <th>mean</th>\n",
       "      <th>std</th>\n",
       "      <th>min</th>\n",
       "      <th>25%</th>\n",
       "      <th>50%</th>\n",
       "      <th>75%</th>\n",
       "      <th>max</th>\n",
       "    </tr>\n",
       "  </thead>\n",
       "  <tbody>\n",
       "    <tr>\n",
       "      <th>lotfrontage</th>\n",
       "      <td>1201.0</td>\n",
       "      <td>70.049958</td>\n",
       "      <td>24.284752</td>\n",
       "      <td>21.0</td>\n",
       "      <td>59.0</td>\n",
       "      <td>69.0</td>\n",
       "      <td>80.0</td>\n",
       "      <td>313.0</td>\n",
       "    </tr>\n",
       "    <tr>\n",
       "      <th>masvnrarea</th>\n",
       "      <td>1452.0</td>\n",
       "      <td>103.685262</td>\n",
       "      <td>181.066207</td>\n",
       "      <td>0.0</td>\n",
       "      <td>0.0</td>\n",
       "      <td>0.0</td>\n",
       "      <td>166.0</td>\n",
       "      <td>1600.0</td>\n",
       "    </tr>\n",
       "    <tr>\n",
       "      <th>garageyrblt</th>\n",
       "      <td>1379.0</td>\n",
       "      <td>1978.506164</td>\n",
       "      <td>24.689725</td>\n",
       "      <td>1900.0</td>\n",
       "      <td>1961.0</td>\n",
       "      <td>1980.0</td>\n",
       "      <td>2002.0</td>\n",
       "      <td>2010.0</td>\n",
       "    </tr>\n",
       "  </tbody>\n",
       "</table>\n",
       "</div>"
      ],
      "text/plain": [
       "              count         mean         std     min     25%     50%     75%  \\\n",
       "lotfrontage  1201.0    70.049958   24.284752    21.0    59.0    69.0    80.0   \n",
       "masvnrarea   1452.0   103.685262  181.066207     0.0     0.0     0.0   166.0   \n",
       "garageyrblt  1379.0  1978.506164   24.689725  1900.0  1961.0  1980.0  2002.0   \n",
       "\n",
       "                max  \n",
       "lotfrontage   313.0  \n",
       "masvnrarea   1600.0  \n",
       "garageyrblt  2010.0  "
      ]
     },
     "execution_count": 16,
     "metadata": {},
     "output_type": "execute_result"
    }
   ],
   "source": [
    "df_clean.loc[:, na_fractions.index].describe().T"
   ]
  },
  {
   "cell_type": "markdown",
   "metadata": {},
   "source": [
    "Handling each case separately.\n",
    "\n",
    "#### `'lotfrontage'`\n",
    "* Fill missing values with zeros."
   ]
  },
  {
   "cell_type": "code",
   "execution_count": 17,
   "metadata": {},
   "outputs": [],
   "source": [
    "df_clean['lotfrontage'].fillna(value=0, inplace=True)"
   ]
  },
  {
   "cell_type": "markdown",
   "metadata": {},
   "source": [
    "#### `'masvnarea'`\n",
    "* Fill missing values with zeros."
   ]
  },
  {
   "cell_type": "code",
   "execution_count": 18,
   "metadata": {},
   "outputs": [],
   "source": [
    "df_clean['masvnrarea'].fillna(value=0, inplace=True)"
   ]
  },
  {
   "cell_type": "markdown",
   "metadata": {},
   "source": [
    "#### `'garageyrblt'`\n",
    "* Drop all properties that do not have a garage.\n",
    "    \n",
    "    Note: This will remove roughly 5% of the values."
   ]
  },
  {
   "cell_type": "code",
   "execution_count": 19,
   "metadata": {},
   "outputs": [
    {
     "data": {
      "text/plain": [
       "array([nan])"
      ]
     },
     "execution_count": 19,
     "metadata": {},
     "output_type": "execute_result"
    }
   ],
   "source": [
    "df_clean.loc[df['garagetype'] == 'None', 'garageyrblt'].unique()"
   ]
  },
  {
   "cell_type": "code",
   "execution_count": 20,
   "metadata": {},
   "outputs": [],
   "source": [
    "df_clean.dropna(inplace=True)\n",
    "df_clean.index = np.arange(len(df_clean))"
   ]
  },
  {
   "cell_type": "code",
   "execution_count": 21,
   "metadata": {},
   "outputs": [
    {
     "name": "stdout",
     "output_type": "stream",
     "text": [
      "Series([], dtype: float64)\n"
     ]
    }
   ],
   "source": [
    "hp.find_na_columns(df_clean, display_fractions=True)"
   ]
  },
  {
   "cell_type": "markdown",
   "metadata": {},
   "source": [
    "All missing values have now been dealt with."
   ]
  },
  {
   "cell_type": "code",
   "execution_count": 22,
   "metadata": {},
   "outputs": [
    {
     "name": "stdout",
     "output_type": "stream",
     "text": [
      "The dataset size is now 1379.\n"
     ]
    }
   ],
   "source": [
    "print(f'The dataset size is now {len(df_clean)}.')"
   ]
  },
  {
   "cell_type": "code",
   "execution_count": 23,
   "metadata": {},
   "outputs": [
    {
     "data": {
      "text/html": [
       "<div>\n",
       "<style scoped>\n",
       "    .dataframe tbody tr th:only-of-type {\n",
       "        vertical-align: middle;\n",
       "    }\n",
       "\n",
       "    .dataframe tbody tr th {\n",
       "        vertical-align: top;\n",
       "    }\n",
       "\n",
       "    .dataframe thead th {\n",
       "        text-align: right;\n",
       "    }\n",
       "</style>\n",
       "<table border=\"1\" class=\"dataframe\">\n",
       "  <thead>\n",
       "    <tr style=\"text-align: right;\">\n",
       "      <th></th>\n",
       "      <th>count</th>\n",
       "      <th>mean</th>\n",
       "      <th>std</th>\n",
       "      <th>min</th>\n",
       "      <th>25%</th>\n",
       "      <th>50%</th>\n",
       "      <th>75%</th>\n",
       "      <th>max</th>\n",
       "    </tr>\n",
       "  </thead>\n",
       "  <tbody>\n",
       "    <tr>\n",
       "      <th>id</th>\n",
       "      <td>1379.0</td>\n",
       "      <td>731.879623</td>\n",
       "      <td>421.059059</td>\n",
       "      <td>1.0</td>\n",
       "      <td>366.5</td>\n",
       "      <td>734.0</td>\n",
       "      <td>1094.5</td>\n",
       "      <td>1460.0</td>\n",
       "    </tr>\n",
       "    <tr>\n",
       "      <th>mssubclass</th>\n",
       "      <td>1379.0</td>\n",
       "      <td>56.022480</td>\n",
       "      <td>41.026897</td>\n",
       "      <td>20.0</td>\n",
       "      <td>20.0</td>\n",
       "      <td>50.0</td>\n",
       "      <td>70.0</td>\n",
       "      <td>190.0</td>\n",
       "    </tr>\n",
       "    <tr>\n",
       "      <th>lotfrontage</th>\n",
       "      <td>1379.0</td>\n",
       "      <td>57.766497</td>\n",
       "      <td>35.038221</td>\n",
       "      <td>0.0</td>\n",
       "      <td>41.5</td>\n",
       "      <td>64.0</td>\n",
       "      <td>79.0</td>\n",
       "      <td>313.0</td>\n",
       "    </tr>\n",
       "    <tr>\n",
       "      <th>lotarea</th>\n",
       "      <td>1379.0</td>\n",
       "      <td>10695.812183</td>\n",
       "      <td>10214.702133</td>\n",
       "      <td>1300.0</td>\n",
       "      <td>7741.0</td>\n",
       "      <td>9591.0</td>\n",
       "      <td>11708.5</td>\n",
       "      <td>215245.0</td>\n",
       "    </tr>\n",
       "    <tr>\n",
       "      <th>overallqual</th>\n",
       "      <td>1379.0</td>\n",
       "      <td>6.187092</td>\n",
       "      <td>1.345780</td>\n",
       "      <td>2.0</td>\n",
       "      <td>5.0</td>\n",
       "      <td>6.0</td>\n",
       "      <td>7.0</td>\n",
       "      <td>10.0</td>\n",
       "    </tr>\n",
       "    <tr>\n",
       "      <th>overallcond</th>\n",
       "      <td>1379.0</td>\n",
       "      <td>5.577955</td>\n",
       "      <td>1.081031</td>\n",
       "      <td>2.0</td>\n",
       "      <td>5.0</td>\n",
       "      <td>5.0</td>\n",
       "      <td>6.0</td>\n",
       "      <td>9.0</td>\n",
       "    </tr>\n",
       "    <tr>\n",
       "      <th>yearbuilt</th>\n",
       "      <td>1379.0</td>\n",
       "      <td>1972.958666</td>\n",
       "      <td>29.379883</td>\n",
       "      <td>1880.0</td>\n",
       "      <td>1955.0</td>\n",
       "      <td>1976.0</td>\n",
       "      <td>2001.0</td>\n",
       "      <td>2010.0</td>\n",
       "    </tr>\n",
       "    <tr>\n",
       "      <th>yearremodadd</th>\n",
       "      <td>1379.0</td>\n",
       "      <td>1985.435098</td>\n",
       "      <td>20.444852</td>\n",
       "      <td>1950.0</td>\n",
       "      <td>1968.0</td>\n",
       "      <td>1994.0</td>\n",
       "      <td>2004.0</td>\n",
       "      <td>2010.0</td>\n",
       "    </tr>\n",
       "    <tr>\n",
       "      <th>masvnrarea</th>\n",
       "      <td>1379.0</td>\n",
       "      <td>108.364757</td>\n",
       "      <td>184.195220</td>\n",
       "      <td>0.0</td>\n",
       "      <td>0.0</td>\n",
       "      <td>0.0</td>\n",
       "      <td>170.5</td>\n",
       "      <td>1600.0</td>\n",
       "    </tr>\n",
       "    <tr>\n",
       "      <th>bsmtfinsf1</th>\n",
       "      <td>1379.0</td>\n",
       "      <td>455.578680</td>\n",
       "      <td>459.691379</td>\n",
       "      <td>0.0</td>\n",
       "      <td>0.0</td>\n",
       "      <td>400.0</td>\n",
       "      <td>732.0</td>\n",
       "      <td>5644.0</td>\n",
       "    </tr>\n",
       "    <tr>\n",
       "      <th>bsmtfinsf2</th>\n",
       "      <td>1379.0</td>\n",
       "      <td>48.102248</td>\n",
       "      <td>164.324665</td>\n",
       "      <td>0.0</td>\n",
       "      <td>0.0</td>\n",
       "      <td>0.0</td>\n",
       "      <td>0.0</td>\n",
       "      <td>1474.0</td>\n",
       "    </tr>\n",
       "    <tr>\n",
       "      <th>bsmtunfsf</th>\n",
       "      <td>1379.0</td>\n",
       "      <td>570.765047</td>\n",
       "      <td>443.677845</td>\n",
       "      <td>0.0</td>\n",
       "      <td>228.0</td>\n",
       "      <td>476.0</td>\n",
       "      <td>811.0</td>\n",
       "      <td>2336.0</td>\n",
       "    </tr>\n",
       "    <tr>\n",
       "      <th>totalbsmtsf</th>\n",
       "      <td>1379.0</td>\n",
       "      <td>1074.445975</td>\n",
       "      <td>436.371874</td>\n",
       "      <td>0.0</td>\n",
       "      <td>810.0</td>\n",
       "      <td>1008.0</td>\n",
       "      <td>1314.0</td>\n",
       "      <td>6110.0</td>\n",
       "    </tr>\n",
       "    <tr>\n",
       "      <th>firstflrsf</th>\n",
       "      <td>1379.0</td>\n",
       "      <td>1177.129804</td>\n",
       "      <td>387.014961</td>\n",
       "      <td>438.0</td>\n",
       "      <td>894.0</td>\n",
       "      <td>1098.0</td>\n",
       "      <td>1414.0</td>\n",
       "      <td>4692.0</td>\n",
       "    </tr>\n",
       "    <tr>\n",
       "      <th>secondflrsf</th>\n",
       "      <td>1379.0</td>\n",
       "      <td>353.424946</td>\n",
       "      <td>439.553171</td>\n",
       "      <td>0.0</td>\n",
       "      <td>0.0</td>\n",
       "      <td>0.0</td>\n",
       "      <td>738.5</td>\n",
       "      <td>2065.0</td>\n",
       "    </tr>\n",
       "    <tr>\n",
       "      <th>lowqualfinsf</th>\n",
       "      <td>1379.0</td>\n",
       "      <td>4.134880</td>\n",
       "      <td>40.130546</td>\n",
       "      <td>0.0</td>\n",
       "      <td>0.0</td>\n",
       "      <td>0.0</td>\n",
       "      <td>0.0</td>\n",
       "      <td>572.0</td>\n",
       "    </tr>\n",
       "    <tr>\n",
       "      <th>grlivarea</th>\n",
       "      <td>1379.0</td>\n",
       "      <td>1534.689630</td>\n",
       "      <td>519.140514</td>\n",
       "      <td>438.0</td>\n",
       "      <td>1154.0</td>\n",
       "      <td>1479.0</td>\n",
       "      <td>1790.0</td>\n",
       "      <td>5642.0</td>\n",
       "    </tr>\n",
       "    <tr>\n",
       "      <th>bsmtfullbath</th>\n",
       "      <td>1379.0</td>\n",
       "      <td>0.430747</td>\n",
       "      <td>0.514052</td>\n",
       "      <td>0.0</td>\n",
       "      <td>0.0</td>\n",
       "      <td>0.0</td>\n",
       "      <td>1.0</td>\n",
       "      <td>2.0</td>\n",
       "    </tr>\n",
       "    <tr>\n",
       "      <th>bsmthalfbath</th>\n",
       "      <td>1379.0</td>\n",
       "      <td>0.058738</td>\n",
       "      <td>0.238285</td>\n",
       "      <td>0.0</td>\n",
       "      <td>0.0</td>\n",
       "      <td>0.0</td>\n",
       "      <td>0.0</td>\n",
       "      <td>2.0</td>\n",
       "    </tr>\n",
       "    <tr>\n",
       "      <th>fullbath</th>\n",
       "      <td>1379.0</td>\n",
       "      <td>1.580131</td>\n",
       "      <td>0.548051</td>\n",
       "      <td>0.0</td>\n",
       "      <td>1.0</td>\n",
       "      <td>2.0</td>\n",
       "      <td>2.0</td>\n",
       "      <td>3.0</td>\n",
       "    </tr>\n",
       "    <tr>\n",
       "      <th>halfbath</th>\n",
       "      <td>1379.0</td>\n",
       "      <td>0.395939</td>\n",
       "      <td>0.502402</td>\n",
       "      <td>0.0</td>\n",
       "      <td>0.0</td>\n",
       "      <td>0.0</td>\n",
       "      <td>1.0</td>\n",
       "      <td>2.0</td>\n",
       "    </tr>\n",
       "    <tr>\n",
       "      <th>bedroomabvgr</th>\n",
       "      <td>1379.0</td>\n",
       "      <td>2.865120</td>\n",
       "      <td>0.783961</td>\n",
       "      <td>0.0</td>\n",
       "      <td>2.0</td>\n",
       "      <td>3.0</td>\n",
       "      <td>3.0</td>\n",
       "      <td>6.0</td>\n",
       "    </tr>\n",
       "    <tr>\n",
       "      <th>kitchenabvgr</th>\n",
       "      <td>1379.0</td>\n",
       "      <td>1.038434</td>\n",
       "      <td>0.196048</td>\n",
       "      <td>1.0</td>\n",
       "      <td>1.0</td>\n",
       "      <td>1.0</td>\n",
       "      <td>1.0</td>\n",
       "      <td>3.0</td>\n",
       "    </tr>\n",
       "    <tr>\n",
       "      <th>totrmsabvgrd</th>\n",
       "      <td>1379.0</td>\n",
       "      <td>6.552574</td>\n",
       "      <td>1.589821</td>\n",
       "      <td>3.0</td>\n",
       "      <td>5.0</td>\n",
       "      <td>6.0</td>\n",
       "      <td>7.0</td>\n",
       "      <td>12.0</td>\n",
       "    </tr>\n",
       "    <tr>\n",
       "      <th>fireplaces</th>\n",
       "      <td>1379.0</td>\n",
       "      <td>0.641769</td>\n",
       "      <td>0.645985</td>\n",
       "      <td>0.0</td>\n",
       "      <td>0.0</td>\n",
       "      <td>1.0</td>\n",
       "      <td>1.0</td>\n",
       "      <td>3.0</td>\n",
       "    </tr>\n",
       "    <tr>\n",
       "      <th>garageyrblt</th>\n",
       "      <td>1379.0</td>\n",
       "      <td>1978.506164</td>\n",
       "      <td>24.689725</td>\n",
       "      <td>1900.0</td>\n",
       "      <td>1961.0</td>\n",
       "      <td>1980.0</td>\n",
       "      <td>2002.0</td>\n",
       "      <td>2010.0</td>\n",
       "    </tr>\n",
       "    <tr>\n",
       "      <th>garagecars</th>\n",
       "      <td>1379.0</td>\n",
       "      <td>1.870921</td>\n",
       "      <td>0.630055</td>\n",
       "      <td>1.0</td>\n",
       "      <td>1.0</td>\n",
       "      <td>2.0</td>\n",
       "      <td>2.0</td>\n",
       "      <td>4.0</td>\n",
       "    </tr>\n",
       "    <tr>\n",
       "      <th>garagearea</th>\n",
       "      <td>1379.0</td>\n",
       "      <td>500.762146</td>\n",
       "      <td>185.680520</td>\n",
       "      <td>160.0</td>\n",
       "      <td>380.0</td>\n",
       "      <td>484.0</td>\n",
       "      <td>580.0</td>\n",
       "      <td>1418.0</td>\n",
       "    </tr>\n",
       "    <tr>\n",
       "      <th>wooddecksf</th>\n",
       "      <td>1379.0</td>\n",
       "      <td>97.456853</td>\n",
       "      <td>126.699192</td>\n",
       "      <td>0.0</td>\n",
       "      <td>0.0</td>\n",
       "      <td>0.0</td>\n",
       "      <td>171.0</td>\n",
       "      <td>857.0</td>\n",
       "    </tr>\n",
       "    <tr>\n",
       "      <th>openporchsf</th>\n",
       "      <td>1379.0</td>\n",
       "      <td>47.276287</td>\n",
       "      <td>65.210465</td>\n",
       "      <td>0.0</td>\n",
       "      <td>0.0</td>\n",
       "      <td>27.0</td>\n",
       "      <td>69.5</td>\n",
       "      <td>547.0</td>\n",
       "    </tr>\n",
       "    <tr>\n",
       "      <th>enclosedporch</th>\n",
       "      <td>1379.0</td>\n",
       "      <td>21.039159</td>\n",
       "      <td>60.535107</td>\n",
       "      <td>0.0</td>\n",
       "      <td>0.0</td>\n",
       "      <td>0.0</td>\n",
       "      <td>0.0</td>\n",
       "      <td>552.0</td>\n",
       "    </tr>\n",
       "    <tr>\n",
       "      <th>threessnporch</th>\n",
       "      <td>1379.0</td>\n",
       "      <td>3.609862</td>\n",
       "      <td>30.154682</td>\n",
       "      <td>0.0</td>\n",
       "      <td>0.0</td>\n",
       "      <td>0.0</td>\n",
       "      <td>0.0</td>\n",
       "      <td>508.0</td>\n",
       "    </tr>\n",
       "    <tr>\n",
       "      <th>screenporch</th>\n",
       "      <td>1379.0</td>\n",
       "      <td>15.945613</td>\n",
       "      <td>57.249593</td>\n",
       "      <td>0.0</td>\n",
       "      <td>0.0</td>\n",
       "      <td>0.0</td>\n",
       "      <td>0.0</td>\n",
       "      <td>480.0</td>\n",
       "    </tr>\n",
       "    <tr>\n",
       "      <th>poolarea</th>\n",
       "      <td>1379.0</td>\n",
       "      <td>2.920957</td>\n",
       "      <td>41.335545</td>\n",
       "      <td>0.0</td>\n",
       "      <td>0.0</td>\n",
       "      <td>0.0</td>\n",
       "      <td>0.0</td>\n",
       "      <td>738.0</td>\n",
       "    </tr>\n",
       "    <tr>\n",
       "      <th>miscval</th>\n",
       "      <td>1379.0</td>\n",
       "      <td>42.889050</td>\n",
       "      <td>501.613931</td>\n",
       "      <td>0.0</td>\n",
       "      <td>0.0</td>\n",
       "      <td>0.0</td>\n",
       "      <td>0.0</td>\n",
       "      <td>15500.0</td>\n",
       "    </tr>\n",
       "    <tr>\n",
       "      <th>mosold</th>\n",
       "      <td>1379.0</td>\n",
       "      <td>6.334300</td>\n",
       "      <td>2.696674</td>\n",
       "      <td>1.0</td>\n",
       "      <td>5.0</td>\n",
       "      <td>6.0</td>\n",
       "      <td>8.0</td>\n",
       "      <td>12.0</td>\n",
       "    </tr>\n",
       "    <tr>\n",
       "      <th>yrsold</th>\n",
       "      <td>1379.0</td>\n",
       "      <td>2007.812183</td>\n",
       "      <td>1.330221</td>\n",
       "      <td>2006.0</td>\n",
       "      <td>2007.0</td>\n",
       "      <td>2008.0</td>\n",
       "      <td>2009.0</td>\n",
       "      <td>2010.0</td>\n",
       "    </tr>\n",
       "    <tr>\n",
       "      <th>saleprice</th>\n",
       "      <td>1379.0</td>\n",
       "      <td>185479.511240</td>\n",
       "      <td>79023.890600</td>\n",
       "      <td>35311.0</td>\n",
       "      <td>134000.0</td>\n",
       "      <td>167500.0</td>\n",
       "      <td>217750.0</td>\n",
       "      <td>755000.0</td>\n",
       "    </tr>\n",
       "  </tbody>\n",
       "</table>\n",
       "</div>"
      ],
      "text/plain": [
       "                count           mean           std      min       25%  \\\n",
       "id             1379.0     731.879623    421.059059      1.0     366.5   \n",
       "mssubclass     1379.0      56.022480     41.026897     20.0      20.0   \n",
       "lotfrontage    1379.0      57.766497     35.038221      0.0      41.5   \n",
       "lotarea        1379.0   10695.812183  10214.702133   1300.0    7741.0   \n",
       "overallqual    1379.0       6.187092      1.345780      2.0       5.0   \n",
       "overallcond    1379.0       5.577955      1.081031      2.0       5.0   \n",
       "yearbuilt      1379.0    1972.958666     29.379883   1880.0    1955.0   \n",
       "yearremodadd   1379.0    1985.435098     20.444852   1950.0    1968.0   \n",
       "masvnrarea     1379.0     108.364757    184.195220      0.0       0.0   \n",
       "bsmtfinsf1     1379.0     455.578680    459.691379      0.0       0.0   \n",
       "bsmtfinsf2     1379.0      48.102248    164.324665      0.0       0.0   \n",
       "bsmtunfsf      1379.0     570.765047    443.677845      0.0     228.0   \n",
       "totalbsmtsf    1379.0    1074.445975    436.371874      0.0     810.0   \n",
       "firstflrsf     1379.0    1177.129804    387.014961    438.0     894.0   \n",
       "secondflrsf    1379.0     353.424946    439.553171      0.0       0.0   \n",
       "lowqualfinsf   1379.0       4.134880     40.130546      0.0       0.0   \n",
       "grlivarea      1379.0    1534.689630    519.140514    438.0    1154.0   \n",
       "bsmtfullbath   1379.0       0.430747      0.514052      0.0       0.0   \n",
       "bsmthalfbath   1379.0       0.058738      0.238285      0.0       0.0   \n",
       "fullbath       1379.0       1.580131      0.548051      0.0       1.0   \n",
       "halfbath       1379.0       0.395939      0.502402      0.0       0.0   \n",
       "bedroomabvgr   1379.0       2.865120      0.783961      0.0       2.0   \n",
       "kitchenabvgr   1379.0       1.038434      0.196048      1.0       1.0   \n",
       "totrmsabvgrd   1379.0       6.552574      1.589821      3.0       5.0   \n",
       "fireplaces     1379.0       0.641769      0.645985      0.0       0.0   \n",
       "garageyrblt    1379.0    1978.506164     24.689725   1900.0    1961.0   \n",
       "garagecars     1379.0       1.870921      0.630055      1.0       1.0   \n",
       "garagearea     1379.0     500.762146    185.680520    160.0     380.0   \n",
       "wooddecksf     1379.0      97.456853    126.699192      0.0       0.0   \n",
       "openporchsf    1379.0      47.276287     65.210465      0.0       0.0   \n",
       "enclosedporch  1379.0      21.039159     60.535107      0.0       0.0   \n",
       "threessnporch  1379.0       3.609862     30.154682      0.0       0.0   \n",
       "screenporch    1379.0      15.945613     57.249593      0.0       0.0   \n",
       "poolarea       1379.0       2.920957     41.335545      0.0       0.0   \n",
       "miscval        1379.0      42.889050    501.613931      0.0       0.0   \n",
       "mosold         1379.0       6.334300      2.696674      1.0       5.0   \n",
       "yrsold         1379.0    2007.812183      1.330221   2006.0    2007.0   \n",
       "saleprice      1379.0  185479.511240  79023.890600  35311.0  134000.0   \n",
       "\n",
       "                    50%       75%       max  \n",
       "id                734.0    1094.5    1460.0  \n",
       "mssubclass         50.0      70.0     190.0  \n",
       "lotfrontage        64.0      79.0     313.0  \n",
       "lotarea          9591.0   11708.5  215245.0  \n",
       "overallqual         6.0       7.0      10.0  \n",
       "overallcond         5.0       6.0       9.0  \n",
       "yearbuilt        1976.0    2001.0    2010.0  \n",
       "yearremodadd     1994.0    2004.0    2010.0  \n",
       "masvnrarea          0.0     170.5    1600.0  \n",
       "bsmtfinsf1        400.0     732.0    5644.0  \n",
       "bsmtfinsf2          0.0       0.0    1474.0  \n",
       "bsmtunfsf         476.0     811.0    2336.0  \n",
       "totalbsmtsf      1008.0    1314.0    6110.0  \n",
       "firstflrsf       1098.0    1414.0    4692.0  \n",
       "secondflrsf         0.0     738.5    2065.0  \n",
       "lowqualfinsf        0.0       0.0     572.0  \n",
       "grlivarea        1479.0    1790.0    5642.0  \n",
       "bsmtfullbath        0.0       1.0       2.0  \n",
       "bsmthalfbath        0.0       0.0       2.0  \n",
       "fullbath            2.0       2.0       3.0  \n",
       "halfbath            0.0       1.0       2.0  \n",
       "bedroomabvgr        3.0       3.0       6.0  \n",
       "kitchenabvgr        1.0       1.0       3.0  \n",
       "totrmsabvgrd        6.0       7.0      12.0  \n",
       "fireplaces          1.0       1.0       3.0  \n",
       "garageyrblt      1980.0    2002.0    2010.0  \n",
       "garagecars          2.0       2.0       4.0  \n",
       "garagearea        484.0     580.0    1418.0  \n",
       "wooddecksf          0.0     171.0     857.0  \n",
       "openporchsf        27.0      69.5     547.0  \n",
       "enclosedporch       0.0       0.0     552.0  \n",
       "threessnporch       0.0       0.0     508.0  \n",
       "screenporch         0.0       0.0     480.0  \n",
       "poolarea            0.0       0.0     738.0  \n",
       "miscval             0.0       0.0   15500.0  \n",
       "mosold              6.0       8.0      12.0  \n",
       "yrsold           2008.0    2009.0    2010.0  \n",
       "saleprice      167500.0  217750.0  755000.0  "
      ]
     },
     "execution_count": 23,
     "metadata": {},
     "output_type": "execute_result"
    }
   ],
   "source": [
    "df_clean.describe().T"
   ]
  },
  {
   "cell_type": "code",
   "execution_count": 74,
   "metadata": {},
   "outputs": [
    {
     "data": {
      "text/plain": [
       "kitchenabvgr_sd       -0.159965\n",
       "kitchenabvgr          -0.159965\n",
       "overallcond_tk        -0.089710\n",
       "overallcond_tk_sd     -0.089710\n",
       "mssubclass            -0.069786\n",
       "overallcond           -0.064014\n",
       "yrsold                -0.036097\n",
       "id                    -0.026351\n",
       "mssubclass_bc         -0.005622\n",
       "mssubclass_bc_sd      -0.005622\n",
       "mosold_sd              0.058573\n",
       "mosold                 0.058573\n",
       "secondflrsf_bc         0.162788\n",
       "secondflrsf_bc_sd      0.162788\n",
       "lotfrontage_tk         0.178699\n",
       "lotfrontage_tk_sd      0.178699\n",
       "lotfrontage            0.179069\n",
       "bedroomabvgr           0.199387\n",
       "bsmtunfsf_bc           0.213329\n",
       "bsmtunfsf_bc_sd        0.213329\n",
       "bedroomabvgr_tk_sd     0.213683\n",
       "bedroomabvgr_tk        0.213683\n",
       "bsmtunfsf              0.224229\n",
       "bsmtfinsf1_bc          0.228944\n",
       "bsmtfullbath           0.238419\n",
       "bsmtfullbath_sd        0.238419\n",
       "lotarea                0.245425\n",
       "halfbath_sd            0.303914\n",
       "halfbath               0.303914\n",
       "secondflrsf            0.310446\n",
       "                         ...   \n",
       "totrmsabvgrd_tk        0.539419\n",
       "totrmsabvgrd_tk_sd     0.539419\n",
       "garageyrblt            0.548287\n",
       "firstflrsf             0.579661\n",
       "yearremodadd           0.579732\n",
       "yearbuilt              0.585538\n",
       "firstflrsf_bc_sd       0.587466\n",
       "firstflrsf_bc          0.587466\n",
       "totalbsmtsf            0.597276\n",
       "fullbath               0.597385\n",
       "fullbath_sd            0.597385\n",
       "garagearea             0.608766\n",
       "garagearea_bc          0.615643\n",
       "garagearea_bc_tk       0.620166\n",
       "garagearea_bc_tk_sd    0.620166\n",
       "totalbsmtsf_tk         0.634140\n",
       "totalbsmtsf_tk_sd      0.634140\n",
       "garagecars             0.652968\n",
       "garagecars_tk_sd       0.657956\n",
       "garagecars_tk          0.657956\n",
       "grlivarea              0.693173\n",
       "grlivarea_bc           0.725346\n",
       "grlivarea_bc_tk_sd     0.728134\n",
       "grlivarea_bc_tk        0.728134\n",
       "overallqual            0.810725\n",
       "overallqual_sd         0.810725\n",
       "saleprice              0.933429\n",
       "saleprice_bc           0.995638\n",
       "saleprice_bc_tk_sd     1.000000\n",
       "saleprice_bc_tk        1.000000\n",
       "Name: saleprice_bc_tk, Length: 78, dtype: float64"
      ]
     },
     "execution_count": 74,
     "metadata": {},
     "output_type": "execute_result"
    }
   ],
   "source": [
    "df_clean.corr()['saleprice_bc_tk'].sort_values()"
   ]
  },
  {
   "cell_type": "markdown",
   "metadata": {},
   "source": [
    "#### Mostly Zeros\n",
    "If 75% of the variables values are zero, remove that variable. That variable would add too little information to the model."
   ]
  },
  {
   "cell_type": "code",
   "execution_count": 24,
   "metadata": {},
   "outputs": [],
   "source": [
    "df_described = df_clean.describe().T"
   ]
  },
  {
   "cell_type": "code",
   "execution_count": 25,
   "metadata": {},
   "outputs": [],
   "source": [
    "mostly_zeros = df_described[df_described['75%'] == 0.0].index.tolist()"
   ]
  },
  {
   "cell_type": "code",
   "execution_count": 26,
   "metadata": {},
   "outputs": [
    {
     "name": "stdout",
     "output_type": "stream",
     "text": [
      "The columns that contain mostly zero values are:\n",
      "['bsmtfinsf2', 'lowqualfinsf', 'bsmthalfbath', 'enclosedporch', 'threessnporch', 'screenporch', 'poolarea', 'miscval']\n"
     ]
    }
   ],
   "source": [
    "print(f'The columns that contain mostly zero values are:\\n{mostly_zeros}')"
   ]
  },
  {
   "cell_type": "markdown",
   "metadata": {},
   "source": [
    "Drop mostly zero columns."
   ]
  },
  {
   "cell_type": "code",
   "execution_count": 27,
   "metadata": {},
   "outputs": [],
   "source": [
    "df_clean.drop(columns=mostly_zeros, inplace=True)"
   ]
  },
  {
   "cell_type": "code",
   "execution_count": 28,
   "metadata": {},
   "outputs": [
    {
     "name": "stdout",
     "output_type": "stream",
     "text": [
      "The dataset now contains 73 columns.\n"
     ]
    }
   ],
   "source": [
    "print(f'The dataset now contains {len(df_clean.columns)} columns.')"
   ]
  },
  {
   "cell_type": "markdown",
   "metadata": {},
   "source": [
    "Update `cont_variables` list."
   ]
  },
  {
   "cell_type": "code",
   "execution_count": 29,
   "metadata": {},
   "outputs": [],
   "source": [
    "cont_variables = [x for x in cont_variables if x not in mostly_zeros]"
   ]
  },
  {
   "cell_type": "markdown",
   "metadata": {},
   "source": [
    "### Outliers\n",
    "#### Year columns\n",
    "Split continous variables into year variables and other continous variables."
   ]
  },
  {
   "cell_type": "code",
   "execution_count": 76,
   "metadata": {},
   "outputs": [
    {
     "data": {
      "text/html": [
       "<div>\n",
       "<style scoped>\n",
       "    .dataframe tbody tr th:only-of-type {\n",
       "        vertical-align: middle;\n",
       "    }\n",
       "\n",
       "    .dataframe tbody tr th {\n",
       "        vertical-align: top;\n",
       "    }\n",
       "\n",
       "    .dataframe thead th {\n",
       "        text-align: right;\n",
       "    }\n",
       "</style>\n",
       "<table border=\"1\" class=\"dataframe\">\n",
       "  <thead>\n",
       "    <tr style=\"text-align: right;\">\n",
       "      <th></th>\n",
       "      <th>count</th>\n",
       "      <th>mean</th>\n",
       "      <th>std</th>\n",
       "      <th>min</th>\n",
       "      <th>25%</th>\n",
       "      <th>50%</th>\n",
       "      <th>75%</th>\n",
       "      <th>max</th>\n",
       "    </tr>\n",
       "  </thead>\n",
       "  <tbody>\n",
       "    <tr>\n",
       "      <th>garageyrblt</th>\n",
       "      <td>1379.0</td>\n",
       "      <td>1978.506164</td>\n",
       "      <td>24.689725</td>\n",
       "      <td>1900.0</td>\n",
       "      <td>1961.0</td>\n",
       "      <td>1980.0</td>\n",
       "      <td>2002.0</td>\n",
       "      <td>2010.0</td>\n",
       "    </tr>\n",
       "    <tr>\n",
       "      <th>yearremodadd</th>\n",
       "      <td>1379.0</td>\n",
       "      <td>1985.435098</td>\n",
       "      <td>20.444852</td>\n",
       "      <td>1950.0</td>\n",
       "      <td>1968.0</td>\n",
       "      <td>1994.0</td>\n",
       "      <td>2004.0</td>\n",
       "      <td>2010.0</td>\n",
       "    </tr>\n",
       "    <tr>\n",
       "      <th>yearbuilt</th>\n",
       "      <td>1379.0</td>\n",
       "      <td>1972.958666</td>\n",
       "      <td>29.379883</td>\n",
       "      <td>1880.0</td>\n",
       "      <td>1955.0</td>\n",
       "      <td>1976.0</td>\n",
       "      <td>2001.0</td>\n",
       "      <td>2010.0</td>\n",
       "    </tr>\n",
       "    <tr>\n",
       "      <th>yrsold</th>\n",
       "      <td>1379.0</td>\n",
       "      <td>2007.812183</td>\n",
       "      <td>1.330221</td>\n",
       "      <td>2006.0</td>\n",
       "      <td>2007.0</td>\n",
       "      <td>2008.0</td>\n",
       "      <td>2009.0</td>\n",
       "      <td>2010.0</td>\n",
       "    </tr>\n",
       "  </tbody>\n",
       "</table>\n",
       "</div>"
      ],
      "text/plain": [
       "               count         mean        std     min     25%     50%     75%  \\\n",
       "garageyrblt   1379.0  1978.506164  24.689725  1900.0  1961.0  1980.0  2002.0   \n",
       "yearremodadd  1379.0  1985.435098  20.444852  1950.0  1968.0  1994.0  2004.0   \n",
       "yearbuilt     1379.0  1972.958666  29.379883  1880.0  1955.0  1976.0  2001.0   \n",
       "yrsold        1379.0  2007.812183   1.330221  2006.0  2007.0  2008.0  2009.0   \n",
       "\n",
       "                 max  \n",
       "garageyrblt   2010.0  \n",
       "yearremodadd  2010.0  \n",
       "yearbuilt     2010.0  \n",
       "yrsold        2010.0  "
      ]
     },
     "execution_count": 76,
     "metadata": {},
     "output_type": "execute_result"
    }
   ],
   "source": [
    "df_clean.loc[:, year_columns].describe().T\n",
    "# Convert years into dummies if it can be\n",
    "# Chi-squared test on years built"
   ]
  },
  {
   "cell_type": "code",
   "execution_count": 30,
   "metadata": {},
   "outputs": [],
   "source": [
    "year_columns = ['garageyrblt', 'yearremodadd', 'yearbuilt', 'yrsold']\n",
    "cont_variables = [x for x in cont_variables if x not in year_columns]"
   ]
  },
  {
   "cell_type": "code",
   "execution_count": 31,
   "metadata": {},
   "outputs": [
    {
     "data": {
      "text/html": [
       "<div>\n",
       "<style scoped>\n",
       "    .dataframe tbody tr th:only-of-type {\n",
       "        vertical-align: middle;\n",
       "    }\n",
       "\n",
       "    .dataframe tbody tr th {\n",
       "        vertical-align: top;\n",
       "    }\n",
       "\n",
       "    .dataframe thead th {\n",
       "        text-align: right;\n",
       "    }\n",
       "</style>\n",
       "<table border=\"1\" class=\"dataframe\">\n",
       "  <thead>\n",
       "    <tr style=\"text-align: right;\">\n",
       "      <th></th>\n",
       "      <th>count</th>\n",
       "      <th>mean</th>\n",
       "      <th>std</th>\n",
       "      <th>min</th>\n",
       "      <th>25%</th>\n",
       "      <th>50%</th>\n",
       "      <th>75%</th>\n",
       "      <th>max</th>\n",
       "    </tr>\n",
       "  </thead>\n",
       "  <tbody>\n",
       "    <tr>\n",
       "      <th>bsmtfullbath</th>\n",
       "      <td>1379.0</td>\n",
       "      <td>0.430747</td>\n",
       "      <td>0.514052</td>\n",
       "      <td>0.0</td>\n",
       "      <td>0.0</td>\n",
       "      <td>0.0</td>\n",
       "      <td>1.0</td>\n",
       "      <td>2.0</td>\n",
       "    </tr>\n",
       "    <tr>\n",
       "      <th>halfbath</th>\n",
       "      <td>1379.0</td>\n",
       "      <td>0.395939</td>\n",
       "      <td>0.502402</td>\n",
       "      <td>0.0</td>\n",
       "      <td>0.0</td>\n",
       "      <td>0.0</td>\n",
       "      <td>1.0</td>\n",
       "      <td>2.0</td>\n",
       "    </tr>\n",
       "    <tr>\n",
       "      <th>fireplaces</th>\n",
       "      <td>1379.0</td>\n",
       "      <td>0.641769</td>\n",
       "      <td>0.645985</td>\n",
       "      <td>0.0</td>\n",
       "      <td>0.0</td>\n",
       "      <td>1.0</td>\n",
       "      <td>1.0</td>\n",
       "      <td>3.0</td>\n",
       "    </tr>\n",
       "    <tr>\n",
       "      <th>kitchenabvgr</th>\n",
       "      <td>1379.0</td>\n",
       "      <td>1.038434</td>\n",
       "      <td>0.196048</td>\n",
       "      <td>1.0</td>\n",
       "      <td>1.0</td>\n",
       "      <td>1.0</td>\n",
       "      <td>1.0</td>\n",
       "      <td>3.0</td>\n",
       "    </tr>\n",
       "    <tr>\n",
       "      <th>fullbath</th>\n",
       "      <td>1379.0</td>\n",
       "      <td>1.580131</td>\n",
       "      <td>0.548051</td>\n",
       "      <td>0.0</td>\n",
       "      <td>1.0</td>\n",
       "      <td>2.0</td>\n",
       "      <td>2.0</td>\n",
       "      <td>3.0</td>\n",
       "    </tr>\n",
       "    <tr>\n",
       "      <th>garagecars</th>\n",
       "      <td>1379.0</td>\n",
       "      <td>1.870921</td>\n",
       "      <td>0.630055</td>\n",
       "      <td>1.0</td>\n",
       "      <td>1.0</td>\n",
       "      <td>2.0</td>\n",
       "      <td>2.0</td>\n",
       "      <td>4.0</td>\n",
       "    </tr>\n",
       "    <tr>\n",
       "      <th>bedroomabvgr</th>\n",
       "      <td>1379.0</td>\n",
       "      <td>2.865120</td>\n",
       "      <td>0.783961</td>\n",
       "      <td>0.0</td>\n",
       "      <td>2.0</td>\n",
       "      <td>3.0</td>\n",
       "      <td>3.0</td>\n",
       "      <td>6.0</td>\n",
       "    </tr>\n",
       "    <tr>\n",
       "      <th>overallcond</th>\n",
       "      <td>1379.0</td>\n",
       "      <td>5.577955</td>\n",
       "      <td>1.081031</td>\n",
       "      <td>2.0</td>\n",
       "      <td>5.0</td>\n",
       "      <td>5.0</td>\n",
       "      <td>6.0</td>\n",
       "      <td>9.0</td>\n",
       "    </tr>\n",
       "    <tr>\n",
       "      <th>overallqual</th>\n",
       "      <td>1379.0</td>\n",
       "      <td>6.187092</td>\n",
       "      <td>1.345780</td>\n",
       "      <td>2.0</td>\n",
       "      <td>5.0</td>\n",
       "      <td>6.0</td>\n",
       "      <td>7.0</td>\n",
       "      <td>10.0</td>\n",
       "    </tr>\n",
       "    <tr>\n",
       "      <th>totrmsabvgrd</th>\n",
       "      <td>1379.0</td>\n",
       "      <td>6.552574</td>\n",
       "      <td>1.589821</td>\n",
       "      <td>3.0</td>\n",
       "      <td>5.0</td>\n",
       "      <td>6.0</td>\n",
       "      <td>7.0</td>\n",
       "      <td>12.0</td>\n",
       "    </tr>\n",
       "    <tr>\n",
       "      <th>mosold</th>\n",
       "      <td>1379.0</td>\n",
       "      <td>6.334300</td>\n",
       "      <td>2.696674</td>\n",
       "      <td>1.0</td>\n",
       "      <td>5.0</td>\n",
       "      <td>6.0</td>\n",
       "      <td>8.0</td>\n",
       "      <td>12.0</td>\n",
       "    </tr>\n",
       "    <tr>\n",
       "      <th>mssubclass</th>\n",
       "      <td>1379.0</td>\n",
       "      <td>56.022480</td>\n",
       "      <td>41.026897</td>\n",
       "      <td>20.0</td>\n",
       "      <td>20.0</td>\n",
       "      <td>50.0</td>\n",
       "      <td>70.0</td>\n",
       "      <td>190.0</td>\n",
       "    </tr>\n",
       "    <tr>\n",
       "      <th>lotfrontage</th>\n",
       "      <td>1379.0</td>\n",
       "      <td>57.766497</td>\n",
       "      <td>35.038221</td>\n",
       "      <td>0.0</td>\n",
       "      <td>41.5</td>\n",
       "      <td>64.0</td>\n",
       "      <td>79.0</td>\n",
       "      <td>313.0</td>\n",
       "    </tr>\n",
       "    <tr>\n",
       "      <th>openporchsf</th>\n",
       "      <td>1379.0</td>\n",
       "      <td>47.276287</td>\n",
       "      <td>65.210465</td>\n",
       "      <td>0.0</td>\n",
       "      <td>0.0</td>\n",
       "      <td>27.0</td>\n",
       "      <td>69.5</td>\n",
       "      <td>547.0</td>\n",
       "    </tr>\n",
       "    <tr>\n",
       "      <th>wooddecksf</th>\n",
       "      <td>1379.0</td>\n",
       "      <td>97.456853</td>\n",
       "      <td>126.699192</td>\n",
       "      <td>0.0</td>\n",
       "      <td>0.0</td>\n",
       "      <td>0.0</td>\n",
       "      <td>171.0</td>\n",
       "      <td>857.0</td>\n",
       "    </tr>\n",
       "    <tr>\n",
       "      <th>garagearea</th>\n",
       "      <td>1379.0</td>\n",
       "      <td>500.762146</td>\n",
       "      <td>185.680520</td>\n",
       "      <td>160.0</td>\n",
       "      <td>380.0</td>\n",
       "      <td>484.0</td>\n",
       "      <td>580.0</td>\n",
       "      <td>1418.0</td>\n",
       "    </tr>\n",
       "    <tr>\n",
       "      <th>masvnrarea</th>\n",
       "      <td>1379.0</td>\n",
       "      <td>108.364757</td>\n",
       "      <td>184.195220</td>\n",
       "      <td>0.0</td>\n",
       "      <td>0.0</td>\n",
       "      <td>0.0</td>\n",
       "      <td>170.5</td>\n",
       "      <td>1600.0</td>\n",
       "    </tr>\n",
       "    <tr>\n",
       "      <th>secondflrsf</th>\n",
       "      <td>1379.0</td>\n",
       "      <td>353.424946</td>\n",
       "      <td>439.553171</td>\n",
       "      <td>0.0</td>\n",
       "      <td>0.0</td>\n",
       "      <td>0.0</td>\n",
       "      <td>738.5</td>\n",
       "      <td>2065.0</td>\n",
       "    </tr>\n",
       "    <tr>\n",
       "      <th>bsmtunfsf</th>\n",
       "      <td>1379.0</td>\n",
       "      <td>570.765047</td>\n",
       "      <td>443.677845</td>\n",
       "      <td>0.0</td>\n",
       "      <td>228.0</td>\n",
       "      <td>476.0</td>\n",
       "      <td>811.0</td>\n",
       "      <td>2336.0</td>\n",
       "    </tr>\n",
       "    <tr>\n",
       "      <th>firstflrsf</th>\n",
       "      <td>1379.0</td>\n",
       "      <td>1177.129804</td>\n",
       "      <td>387.014961</td>\n",
       "      <td>438.0</td>\n",
       "      <td>894.0</td>\n",
       "      <td>1098.0</td>\n",
       "      <td>1414.0</td>\n",
       "      <td>4692.0</td>\n",
       "    </tr>\n",
       "    <tr>\n",
       "      <th>grlivarea</th>\n",
       "      <td>1379.0</td>\n",
       "      <td>1534.689630</td>\n",
       "      <td>519.140514</td>\n",
       "      <td>438.0</td>\n",
       "      <td>1154.0</td>\n",
       "      <td>1479.0</td>\n",
       "      <td>1790.0</td>\n",
       "      <td>5642.0</td>\n",
       "    </tr>\n",
       "    <tr>\n",
       "      <th>bsmtfinsf1</th>\n",
       "      <td>1379.0</td>\n",
       "      <td>455.578680</td>\n",
       "      <td>459.691379</td>\n",
       "      <td>0.0</td>\n",
       "      <td>0.0</td>\n",
       "      <td>400.0</td>\n",
       "      <td>732.0</td>\n",
       "      <td>5644.0</td>\n",
       "    </tr>\n",
       "    <tr>\n",
       "      <th>totalbsmtsf</th>\n",
       "      <td>1379.0</td>\n",
       "      <td>1074.445975</td>\n",
       "      <td>436.371874</td>\n",
       "      <td>0.0</td>\n",
       "      <td>810.0</td>\n",
       "      <td>1008.0</td>\n",
       "      <td>1314.0</td>\n",
       "      <td>6110.0</td>\n",
       "    </tr>\n",
       "    <tr>\n",
       "      <th>lotarea</th>\n",
       "      <td>1379.0</td>\n",
       "      <td>10695.812183</td>\n",
       "      <td>10214.702133</td>\n",
       "      <td>1300.0</td>\n",
       "      <td>7741.0</td>\n",
       "      <td>9591.0</td>\n",
       "      <td>11708.5</td>\n",
       "      <td>215245.0</td>\n",
       "    </tr>\n",
       "    <tr>\n",
       "      <th>saleprice</th>\n",
       "      <td>1379.0</td>\n",
       "      <td>185479.511240</td>\n",
       "      <td>79023.890600</td>\n",
       "      <td>35311.0</td>\n",
       "      <td>134000.0</td>\n",
       "      <td>167500.0</td>\n",
       "      <td>217750.0</td>\n",
       "      <td>755000.0</td>\n",
       "    </tr>\n",
       "  </tbody>\n",
       "</table>\n",
       "</div>"
      ],
      "text/plain": [
       "               count           mean           std      min       25%  \\\n",
       "bsmtfullbath  1379.0       0.430747      0.514052      0.0       0.0   \n",
       "halfbath      1379.0       0.395939      0.502402      0.0       0.0   \n",
       "fireplaces    1379.0       0.641769      0.645985      0.0       0.0   \n",
       "kitchenabvgr  1379.0       1.038434      0.196048      1.0       1.0   \n",
       "fullbath      1379.0       1.580131      0.548051      0.0       1.0   \n",
       "garagecars    1379.0       1.870921      0.630055      1.0       1.0   \n",
       "bedroomabvgr  1379.0       2.865120      0.783961      0.0       2.0   \n",
       "overallcond   1379.0       5.577955      1.081031      2.0       5.0   \n",
       "overallqual   1379.0       6.187092      1.345780      2.0       5.0   \n",
       "totrmsabvgrd  1379.0       6.552574      1.589821      3.0       5.0   \n",
       "mosold        1379.0       6.334300      2.696674      1.0       5.0   \n",
       "mssubclass    1379.0      56.022480     41.026897     20.0      20.0   \n",
       "lotfrontage   1379.0      57.766497     35.038221      0.0      41.5   \n",
       "openporchsf   1379.0      47.276287     65.210465      0.0       0.0   \n",
       "wooddecksf    1379.0      97.456853    126.699192      0.0       0.0   \n",
       "garagearea    1379.0     500.762146    185.680520    160.0     380.0   \n",
       "masvnrarea    1379.0     108.364757    184.195220      0.0       0.0   \n",
       "secondflrsf   1379.0     353.424946    439.553171      0.0       0.0   \n",
       "bsmtunfsf     1379.0     570.765047    443.677845      0.0     228.0   \n",
       "firstflrsf    1379.0    1177.129804    387.014961    438.0     894.0   \n",
       "grlivarea     1379.0    1534.689630    519.140514    438.0    1154.0   \n",
       "bsmtfinsf1    1379.0     455.578680    459.691379      0.0       0.0   \n",
       "totalbsmtsf   1379.0    1074.445975    436.371874      0.0     810.0   \n",
       "lotarea       1379.0   10695.812183  10214.702133   1300.0    7741.0   \n",
       "saleprice     1379.0  185479.511240  79023.890600  35311.0  134000.0   \n",
       "\n",
       "                   50%       75%       max  \n",
       "bsmtfullbath       0.0       1.0       2.0  \n",
       "halfbath           0.0       1.0       2.0  \n",
       "fireplaces         1.0       1.0       3.0  \n",
       "kitchenabvgr       1.0       1.0       3.0  \n",
       "fullbath           2.0       2.0       3.0  \n",
       "garagecars         2.0       2.0       4.0  \n",
       "bedroomabvgr       3.0       3.0       6.0  \n",
       "overallcond        5.0       6.0       9.0  \n",
       "overallqual        6.0       7.0      10.0  \n",
       "totrmsabvgrd       6.0       7.0      12.0  \n",
       "mosold             6.0       8.0      12.0  \n",
       "mssubclass        50.0      70.0     190.0  \n",
       "lotfrontage       64.0      79.0     313.0  \n",
       "openporchsf       27.0      69.5     547.0  \n",
       "wooddecksf         0.0     171.0     857.0  \n",
       "garagearea       484.0     580.0    1418.0  \n",
       "masvnrarea         0.0     170.5    1600.0  \n",
       "secondflrsf        0.0     738.5    2065.0  \n",
       "bsmtunfsf        476.0     811.0    2336.0  \n",
       "firstflrsf      1098.0    1414.0    4692.0  \n",
       "grlivarea       1479.0    1790.0    5642.0  \n",
       "bsmtfinsf1       400.0     732.0    5644.0  \n",
       "totalbsmtsf     1008.0    1314.0    6110.0  \n",
       "lotarea         9591.0   11708.5  215245.0  \n",
       "saleprice     167500.0  217750.0  755000.0  "
      ]
     },
     "execution_count": 31,
     "metadata": {},
     "output_type": "execute_result"
    }
   ],
   "source": [
    "df_clean.loc[:, cont_variables].describe().T.sort_values(by='max')"
   ]
  },
  {
   "cell_type": "markdown",
   "metadata": {},
   "source": [
    "Because of the large spread in values for the different variables, it will be hard to look at all variables at once to determine how to handle their outliers. Therefore, I will split that `DataFrame` into three parts, split by their max values."
   ]
  },
  {
   "cell_type": "code",
   "execution_count": 32,
   "metadata": {},
   "outputs": [],
   "source": [
    "df_described = df_clean.loc[:, cont_variables].describe().T"
   ]
  },
  {
   "cell_type": "code",
   "execution_count": 33,
   "metadata": {},
   "outputs": [],
   "source": [
    "df_described_small = df_described.loc[df_described['max'] < 100, :].copy()\n",
    "df_described_medium = df_described.loc[(df_described['max'] > 100) & (df_described['max'] < 10000), :].copy()\n",
    "df_described_large = df_described.loc[df_described['max'] > 10000, :].copy()"
   ]
  },
  {
   "cell_type": "markdown",
   "metadata": {},
   "source": [
    "##### Small max values"
   ]
  },
  {
   "cell_type": "code",
   "execution_count": 34,
   "metadata": {
    "scrolled": false
   },
   "outputs": [
    {
     "data": {
      "image/png": "[encoded data removed]",
      "text/plain": [
       "<Figure size 864x432 with 1 Axes>"
      ]
     },
     "metadata": {
      "needs_background": "light"
     },
     "output_type": "display_data"
    },
    {
     "data": {
      "image/png": "[encoded data removed]",
      "text/plain": [
       "<Figure size 864x432 with 1 Axes>"
      ]
     },
     "metadata": {
      "needs_background": "light"
     },
     "output_type": "display_data"
    },
    {
     "data": {
      "image/png": "[encoded data removed]",
      "text/plain": [
       "<Figure size 864x432 with 1 Axes>"
      ]
     },
     "metadata": {
      "needs_background": "light"
     },
     "output_type": "display_data"
    }
   ],
   "source": [
    "hp.look_for_outliers(df_clean, df_described_small.index.tolist(), max_boxes=5)"
   ]
  },
  {
   "cell_type": "code",
   "execution_count": 35,
   "metadata": {},
   "outputs": [
    {
     "data": {
      "text/plain": [
       "['overallqual',\n",
       " 'overallcond',\n",
       " 'bsmtfullbath',\n",
       " 'fullbath',\n",
       " 'halfbath',\n",
       " 'bedroomabvgr',\n",
       " 'kitchenabvgr',\n",
       " 'totrmsabvgrd',\n",
       " 'fireplaces',\n",
       " 'garagecars',\n",
       " 'mosold']"
      ]
     },
     "execution_count": 35,
     "metadata": {},
     "output_type": "execute_result"
    }
   ],
   "source": [
    "df_described_small.index.tolist()"
   ]
  },
  {
   "cell_type": "code",
   "execution_count": 36,
   "metadata": {},
   "outputs": [],
   "source": [
    "# Correct outliers using Tukey method\n",
    "tukey_vars_small = ['overallcond', 'bedroomabvgr', 'fireplaces', 'garagecars', 'totrmsabvgrd']\n",
    "tk_corrected_small = [f'{x}_tk' for x in tukey_vars_small]\n",
    "df_clean = hp.correct_outliers(df_clean, tukey_vars_small)"
   ]
  },
  {
   "cell_type": "code",
   "execution_count": 37,
   "metadata": {},
   "outputs": [
    {
     "data": {
      "image/png": "[encoded data removed]",
      "text/plain": [
       "<Figure size 864x432 with 1 Axes>"
      ]
     },
     "metadata": {
      "needs_background": "light"
     },
     "output_type": "display_data"
    }
   ],
   "source": [
    "hp.look_for_outliers(df_clean, tk_corrected_small, max_boxes=5)"
   ]
  },
  {
   "cell_type": "markdown",
   "metadata": {},
   "source": [
    "##### Medium max values"
   ]
  },
  {
   "cell_type": "code",
   "execution_count": 38,
   "metadata": {
    "scrolled": false
   },
   "outputs": [
    {
     "data": {
      "image/png": "[encoded data removed]",
      "text/plain": [
       "<Figure size 864x432 with 1 Axes>"
      ]
     },
     "metadata": {
      "needs_background": "light"
     },
     "output_type": "display_data"
    },
    {
     "data": {
      "image/png": "[encoded data removed]",
      "text/plain": [
       "<Figure size 864x432 with 1 Axes>"
      ]
     },
     "metadata": {
      "needs_background": "light"
     },
     "output_type": "display_data"
    },
    {
     "data": {
      "image/png": "[encoded data removed]",
      "text/plain": [
       "<Figure size 864x432 with 1 Axes>"
      ]
     },
     "metadata": {
      "needs_background": "light"
     },
     "output_type": "display_data"
    }
   ],
   "source": [
    "hp.look_for_outliers(df_clean, df_described_medium.index.tolist(), max_boxes=5)"
   ]
  },
  {
   "cell_type": "code",
   "execution_count": 39,
   "metadata": {},
   "outputs": [
    {
     "data": {
      "text/plain": [
       "['mssubclass',\n",
       " 'lotfrontage',\n",
       " 'masvnrarea',\n",
       " 'bsmtfinsf1',\n",
       " 'bsmtunfsf',\n",
       " 'totalbsmtsf',\n",
       " 'firstflrsf',\n",
       " 'secondflrsf',\n",
       " 'grlivarea',\n",
       " 'garagearea',\n",
       " 'wooddecksf',\n",
       " 'openporchsf']"
      ]
     },
     "execution_count": 39,
     "metadata": {},
     "output_type": "execute_result"
    }
   ],
   "source": [
    "df_described_medium.index.tolist()"
   ]
  },
  {
   "cell_type": "code",
   "execution_count": 40,
   "metadata": {},
   "outputs": [],
   "source": [
    "# Transform non-normal variables using Box-Cox to make them more normal\n",
    "boxcox_vars_medium = ['bsmtfinsf1', 'bsmtunfsf', 'masvnrarea', 'mssubclass', 'firstflrsf', 'secondflrsf', 'grlivarea', \n",
    "                      'garagearea', 'wooddecksf', 'openporchsf']\n",
    "bc_vars_transformed_medium = [f'{x}_bc' for x in boxcox_vars_medium]"
   ]
  },
  {
   "cell_type": "code",
   "execution_count": 41,
   "metadata": {},
   "outputs": [],
   "source": [
    "df_clean = hp.apply_boxcox_transform(df_clean, boxcox_vars_medium)"
   ]
  },
  {
   "cell_type": "code",
   "execution_count": 42,
   "metadata": {},
   "outputs": [
    {
     "data": {
      "image/png": "[encoded data removed]",
      "text/plain": [
       "<Figure size 864x432 with 1 Axes>"
      ]
     },
     "metadata": {
      "needs_background": "light"
     },
     "output_type": "display_data"
    },
    {
     "data": {
      "image/png": "[encoded data removed]",
      "text/plain": [
       "<Figure size 864x432 with 1 Axes>"
      ]
     },
     "metadata": {
      "needs_background": "light"
     },
     "output_type": "display_data"
    }
   ],
   "source": [
    "hp.look_for_outliers(df_clean, bc_vars_transformed_medium, max_boxes=5)"
   ]
  },
  {
   "cell_type": "code",
   "execution_count": 43,
   "metadata": {},
   "outputs": [],
   "source": [
    "# Correct for outliers using Tukey method\n",
    "tukey_vars_medium = ['lotfrontage', 'garagearea_bc', 'grlivarea_bc', 'totalbsmtsf']\n",
    "tk_corrected_medium = [f'{x}_tk' for x in tukey_vars_medium]\n",
    "df_clean = hp.correct_outliers(df_clean, tukey_vars_medium)"
   ]
  },
  {
   "cell_type": "code",
   "execution_count": 44,
   "metadata": {},
   "outputs": [
    {
     "data": {
      "image/png": "[encoded data removed]",
      "text/plain": [
       "<Figure size 864x432 with 1 Axes>"
      ]
     },
     "metadata": {
      "needs_background": "light"
     },
     "output_type": "display_data"
    }
   ],
   "source": [
    "hp.look_for_outliers(df_clean, tk_corrected_medium, max_boxes=5)"
   ]
  },
  {
   "cell_type": "markdown",
   "metadata": {},
   "source": [
    "##### Large max values"
   ]
  },
  {
   "cell_type": "code",
   "execution_count": 45,
   "metadata": {
    "scrolled": false
   },
   "outputs": [
    {
     "data": {
      "image/png": "[encoded data removed]",
      "text/plain": [
       "<Figure size 864x432 with 1 Axes>"
      ]
     },
     "metadata": {
      "needs_background": "light"
     },
     "output_type": "display_data"
    }
   ],
   "source": [
    "hp.look_for_outliers(df_clean, df_described_large.index.tolist(), max_boxes=5)"
   ]
  },
  {
   "cell_type": "code",
   "execution_count": 46,
   "metadata": {},
   "outputs": [],
   "source": [
    "# Transform non-normal variables using Box-Cox to make them more normal\n",
    "boxcox_vars_large = ['lotarea', 'saleprice']\n",
    "bc_vars_transformed_large = ['lotarea_bc', 'saleprice_bc']"
   ]
  },
  {
   "cell_type": "code",
   "execution_count": 47,
   "metadata": {},
   "outputs": [],
   "source": [
    "df_clean = hp.apply_boxcox_transform(df_clean, boxcox_vars_large)"
   ]
  },
  {
   "cell_type": "code",
   "execution_count": 48,
   "metadata": {},
   "outputs": [
    {
     "data": {
      "image/png": "[encoded data removed]",
      "text/plain": [
       "<Figure size 864x432 with 1 Axes>"
      ]
     },
     "metadata": {
      "needs_background": "light"
     },
     "output_type": "display_data"
    }
   ],
   "source": [
    "hp.look_for_outliers(df_clean, bc_vars_transformed_large, max_boxes=5)"
   ]
  },
  {
   "cell_type": "code",
   "execution_count": 49,
   "metadata": {},
   "outputs": [],
   "source": [
    "# Correct for outliers using Tukey method\n",
    "tukey_vars_large = ['lotarea_bc', 'saleprice_bc']\n",
    "tk_corrected_large = [f'{x}_tk' for x in tukey_vars_large]\n",
    "df_clean = hp.correct_outliers(df_clean, tukey_vars_large)"
   ]
  },
  {
   "cell_type": "code",
   "execution_count": 50,
   "metadata": {},
   "outputs": [
    {
     "data": {
      "image/png": "[encoded data removed]",
      "text/plain": [
       "<Figure size 864x432 with 1 Axes>"
      ]
     },
     "metadata": {
      "needs_background": "light"
     },
     "output_type": "display_data"
    }
   ],
   "source": [
    "hp.look_for_outliers(df_clean, tk_corrected_large, max_boxes=5)"
   ]
  },
  {
   "cell_type": "code",
   "execution_count": 51,
   "metadata": {},
   "outputs": [
    {
     "name": "stdout",
     "output_type": "stream",
     "text": [
      "['bedroomabvgr', 'bsmtfinsf1', 'bsmtfullbath', 'bsmtunfsf', 'fireplaces', 'firstflrsf', 'fullbath', 'garagearea', 'garagecars', 'grlivarea', 'halfbath', 'kitchenabvgr', 'lotarea', 'lotfrontage', 'masvnrarea', 'mosold', 'mssubclass', 'openporchsf', 'overallcond', 'overallqual', 'saleprice', 'secondflrsf', 'totalbsmtsf', 'totrmsabvgrd', 'wooddecksf']\n"
     ]
    }
   ],
   "source": [
    "cont_variables.sort()\n",
    "print(cont_variables)"
   ]
  },
  {
   "cell_type": "code",
   "execution_count": 52,
   "metadata": {},
   "outputs": [
    {
     "name": "stdout",
     "output_type": "stream",
     "text": [
      "['alley', 'bedroomabvgr', 'bedroomabvgr_tk', 'bldgtype', 'bsmtcond', 'bsmtexposure', 'bsmtfinsf1', 'bsmtfinsf1_bc', 'bsmtfintype1', 'bsmtfintype2', 'bsmtfullbath', 'bsmtqual', 'bsmtunfsf', 'bsmtunfsf_bc', 'centralair', 'condition1', 'condition2', 'electrical', 'extercond', 'exterior1st', 'exterior2nd', 'exterqual', 'fence', 'fireplacequ', 'fireplaces', 'fireplaces_tk', 'firstflrsf', 'firstflrsf_bc', 'foundation', 'fullbath', 'functional', 'garagearea', 'garagearea_bc', 'garagearea_bc_tk', 'garagecars', 'garagecars_tk', 'garagecond', 'garagefinish', 'garagequal', 'garagetype', 'garageyrblt', 'grlivarea', 'grlivarea_bc', 'grlivarea_bc_tk', 'halfbath', 'heating', 'heatingqc', 'housestyle', 'id', 'kitchenabvgr', 'kitchenqual', 'landcontour', 'landslope', 'lotarea', 'lotarea_bc', 'lotarea_bc_tk', 'lotconfig', 'lotfrontage', 'lotfrontage_tk', 'lotshape', 'masvnrarea', 'masvnrarea_bc', 'masvnrtype', 'miscfeature', 'mosold', 'mssubclass', 'mssubclass_bc', 'mszoning', 'neighborhood', 'openporchsf', 'openporchsf_bc', 'overallcond', 'overallcond_tk', 'overallqual', 'paveddrive', 'poolqc', 'roofmatl', 'roofstyle', 'salecondition', 'saleprice', 'saleprice_bc', 'saleprice_bc_tk', 'saletype', 'secondflrsf', 'secondflrsf_bc', 'street', 'totalbsmtsf', 'totalbsmtsf_tk', 'totrmsabvgrd', 'totrmsabvgrd_tk', 'utilities', 'wooddecksf', 'wooddecksf_bc', 'yearbuilt', 'yearremodadd', 'yrsold']\n"
     ]
    }
   ],
   "source": [
    "all_variables = df_clean.columns.tolist()\n",
    "all_variables.sort()\n",
    "print(all_variables)"
   ]
  },
  {
   "cell_type": "markdown",
   "metadata": {},
   "source": [
    "Select the columns to use as features going foward."
   ]
  },
  {
   "cell_type": "code",
   "execution_count": 53,
   "metadata": {},
   "outputs": [],
   "source": [
    "cont_variables_transformed = ['bedroomabvgr_tk', 'bsmtfinsf1', 'bsmtfullbath', 'bsmtunfsf_bc', 'fireplaces_tk', 'firstflrsf_bc', \n",
    "                              'fullbath', 'garagearea_bc_tk', 'garagecars_tk', 'grlivarea_bc_tk', 'halfbath', 'kitchenabvgr', \n",
    "                              'lotarea_bc_tk', 'lotfrontage_tk', 'masvnrarea_bc', 'mosold', 'mssubclass_bc', 'openporchsf_bc', \n",
    "                              'overallcond_tk', 'overallqual', 'secondflrsf_bc', 'totalbsmtsf_tk', 'totrmsabvgrd_tk', \n",
    "                              'wooddecksf_bc', 'saleprice_bc_tk']"
   ]
  },
  {
   "cell_type": "markdown",
   "metadata": {},
   "source": [
    "### Standardization\n",
    "Standardize continous variables."
   ]
  },
  {
   "cell_type": "code",
   "execution_count": 54,
   "metadata": {},
   "outputs": [],
   "source": [
    "standardized_variables = [f'{x}_sd' for x in cont_variables_transformed]\n",
    "df_clean = hp.standardize(df_clean, cont_variables_transformed)"
   ]
  },
  {
   "cell_type": "code",
   "execution_count": 55,
   "metadata": {},
   "outputs": [
    {
     "data": {
      "text/html": [
       "<div>\n",
       "<style scoped>\n",
       "    .dataframe tbody tr th:only-of-type {\n",
       "        vertical-align: middle;\n",
       "    }\n",
       "\n",
       "    .dataframe tbody tr th {\n",
       "        vertical-align: top;\n",
       "    }\n",
       "\n",
       "    .dataframe thead th {\n",
       "        text-align: right;\n",
       "    }\n",
       "</style>\n",
       "<table border=\"1\" class=\"dataframe\">\n",
       "  <thead>\n",
       "    <tr style=\"text-align: right;\">\n",
       "      <th></th>\n",
       "      <th>count</th>\n",
       "      <th>mean</th>\n",
       "      <th>std</th>\n",
       "      <th>min</th>\n",
       "      <th>25%</th>\n",
       "      <th>50%</th>\n",
       "      <th>75%</th>\n",
       "      <th>max</th>\n",
       "    </tr>\n",
       "  </thead>\n",
       "  <tbody>\n",
       "    <tr>\n",
       "      <th>bedroomabvgr_tk_sd</th>\n",
       "      <td>1379.0</td>\n",
       "      <td>8.244151e-17</td>\n",
       "      <td>1.0</td>\n",
       "      <td>-3.168643</td>\n",
       "      <td>-1.150682</td>\n",
       "      <td>0.194626</td>\n",
       "      <td>0.194626</td>\n",
       "      <td>2.212587</td>\n",
       "    </tr>\n",
       "    <tr>\n",
       "      <th>bsmtfinsf1_sd</th>\n",
       "      <td>1379.0</td>\n",
       "      <td>1.545778e-17</td>\n",
       "      <td>1.0</td>\n",
       "      <td>-0.991053</td>\n",
       "      <td>-0.991053</td>\n",
       "      <td>-0.120904</td>\n",
       "      <td>0.601319</td>\n",
       "      <td>11.286749</td>\n",
       "    </tr>\n",
       "    <tr>\n",
       "      <th>bsmtfullbath_sd</th>\n",
       "      <td>1379.0</td>\n",
       "      <td>3.735631e-17</td>\n",
       "      <td>1.0</td>\n",
       "      <td>-0.837944</td>\n",
       "      <td>-0.837944</td>\n",
       "      <td>-0.837944</td>\n",
       "      <td>1.107383</td>\n",
       "      <td>3.052710</td>\n",
       "    </tr>\n",
       "    <tr>\n",
       "      <th>bsmtunfsf_bc_sd</th>\n",
       "      <td>1379.0</td>\n",
       "      <td>1.030519e-16</td>\n",
       "      <td>1.0</td>\n",
       "      <td>-2.092571</td>\n",
       "      <td>-0.621587</td>\n",
       "      <td>0.036026</td>\n",
       "      <td>0.676647</td>\n",
       "      <td>2.541014</td>\n",
       "    </tr>\n",
       "    <tr>\n",
       "      <th>fireplaces_tk_sd</th>\n",
       "      <td>1379.0</td>\n",
       "      <td>-1.030519e-16</td>\n",
       "      <td>1.0</td>\n",
       "      <td>-0.999879</td>\n",
       "      <td>-0.999879</td>\n",
       "      <td>0.562538</td>\n",
       "      <td>0.562538</td>\n",
       "      <td>2.906165</td>\n",
       "    </tr>\n",
       "    <tr>\n",
       "      <th>firstflrsf_bc_sd</th>\n",
       "      <td>1379.0</td>\n",
       "      <td>5.075305e-16</td>\n",
       "      <td>1.0</td>\n",
       "      <td>-3.139541</td>\n",
       "      <td>-0.711553</td>\n",
       "      <td>-0.046439</td>\n",
       "      <td>0.751746</td>\n",
       "      <td>4.248829</td>\n",
       "    </tr>\n",
       "    <tr>\n",
       "      <th>fullbath_sd</th>\n",
       "      <td>1379.0</td>\n",
       "      <td>-1.822730e-16</td>\n",
       "      <td>1.0</td>\n",
       "      <td>-2.883183</td>\n",
       "      <td>-1.058534</td>\n",
       "      <td>0.766114</td>\n",
       "      <td>0.766114</td>\n",
       "      <td>2.590763</td>\n",
       "    </tr>\n",
       "    <tr>\n",
       "      <th>garagearea_bc_tk_sd</th>\n",
       "      <td>1379.0</td>\n",
       "      <td>-6.704813e-16</td>\n",
       "      <td>1.0</td>\n",
       "      <td>-2.298849</td>\n",
       "      <td>-0.587125</td>\n",
       "      <td>0.051133</td>\n",
       "      <td>0.554024</td>\n",
       "      <td>2.265747</td>\n",
       "    </tr>\n",
       "    <tr>\n",
       "      <th>garagecars_tk_sd</th>\n",
       "      <td>1379.0</td>\n",
       "      <td>3.284779e-17</td>\n",
       "      <td>1.0</td>\n",
       "      <td>-1.391423</td>\n",
       "      <td>-1.391423</td>\n",
       "      <td>0.209555</td>\n",
       "      <td>0.209555</td>\n",
       "      <td>2.611022</td>\n",
       "    </tr>\n",
       "    <tr>\n",
       "      <th>grlivarea_bc_tk_sd</th>\n",
       "      <td>1379.0</td>\n",
       "      <td>4.553605e-16</td>\n",
       "      <td>1.0</td>\n",
       "      <td>-2.796024</td>\n",
       "      <td>-0.725146</td>\n",
       "      <td>0.059822</td>\n",
       "      <td>0.655439</td>\n",
       "      <td>2.726316</td>\n",
       "    </tr>\n",
       "    <tr>\n",
       "      <th>halfbath_sd</th>\n",
       "      <td>1379.0</td>\n",
       "      <td>-7.149224e-17</td>\n",
       "      <td>1.0</td>\n",
       "      <td>-0.788093</td>\n",
       "      <td>-0.788093</td>\n",
       "      <td>-0.788093</td>\n",
       "      <td>1.202347</td>\n",
       "      <td>3.192787</td>\n",
       "    </tr>\n",
       "    <tr>\n",
       "      <th>kitchenabvgr_sd</th>\n",
       "      <td>1379.0</td>\n",
       "      <td>-1.623067e-16</td>\n",
       "      <td>1.0</td>\n",
       "      <td>-0.196042</td>\n",
       "      <td>-0.196042</td>\n",
       "      <td>-0.196042</td>\n",
       "      <td>-0.196042</td>\n",
       "      <td>10.005557</td>\n",
       "    </tr>\n",
       "    <tr>\n",
       "      <th>lotarea_bc_tk_sd</th>\n",
       "      <td>1379.0</td>\n",
       "      <td>3.735631e-17</td>\n",
       "      <td>1.0</td>\n",
       "      <td>-2.100577</td>\n",
       "      <td>-0.487556</td>\n",
       "      <td>0.068536</td>\n",
       "      <td>0.587792</td>\n",
       "      <td>2.200813</td>\n",
       "    </tr>\n",
       "    <tr>\n",
       "      <th>lotfrontage_tk_sd</th>\n",
       "      <td>1379.0</td>\n",
       "      <td>-8.244151e-17</td>\n",
       "      <td>1.0</td>\n",
       "      <td>-1.722142</td>\n",
       "      <td>-0.475494</td>\n",
       "      <td>0.200399</td>\n",
       "      <td>0.650995</td>\n",
       "      <td>2.340728</td>\n",
       "    </tr>\n",
       "    <tr>\n",
       "      <th>masvnrarea_bc_sd</th>\n",
       "      <td>1379.0</td>\n",
       "      <td>-2.576297e-17</td>\n",
       "      <td>1.0</td>\n",
       "      <td>-0.850003</td>\n",
       "      <td>-0.850003</td>\n",
       "      <td>-0.850003</td>\n",
       "      <td>1.150460</td>\n",
       "      <td>1.545398</td>\n",
       "    </tr>\n",
       "    <tr>\n",
       "      <th>mosold_sd</th>\n",
       "      <td>1379.0</td>\n",
       "      <td>1.288149e-17</td>\n",
       "      <td>1.0</td>\n",
       "      <td>-1.978103</td>\n",
       "      <td>-0.494795</td>\n",
       "      <td>-0.123968</td>\n",
       "      <td>0.617687</td>\n",
       "      <td>2.100995</td>\n",
       "    </tr>\n",
       "    <tr>\n",
       "      <th>mssubclass_bc_sd</th>\n",
       "      <td>1379.0</td>\n",
       "      <td>-1.177046e-15</td>\n",
       "      <td>1.0</td>\n",
       "      <td>-1.152088</td>\n",
       "      <td>-1.152088</td>\n",
       "      <td>0.254339</td>\n",
       "      <td>0.713022</td>\n",
       "      <td>1.903315</td>\n",
       "    </tr>\n",
       "    <tr>\n",
       "      <th>openporchsf_bc_sd</th>\n",
       "      <td>1379.0</td>\n",
       "      <td>-2.086801e-16</td>\n",
       "      <td>1.0</td>\n",
       "      <td>-1.096424</td>\n",
       "      <td>-1.096424</td>\n",
       "      <td>0.420705</td>\n",
       "      <td>0.876143</td>\n",
       "      <td>1.946454</td>\n",
       "    </tr>\n",
       "    <tr>\n",
       "      <th>overallcond_tk_sd</th>\n",
       "      <td>1379.0</td>\n",
       "      <td>-3.078675e-16</td>\n",
       "      <td>1.0</td>\n",
       "      <td>-2.160294</td>\n",
       "      <td>-0.573163</td>\n",
       "      <td>-0.573163</td>\n",
       "      <td>0.484925</td>\n",
       "      <td>2.072056</td>\n",
       "    </tr>\n",
       "    <tr>\n",
       "      <th>overallqual_sd</th>\n",
       "      <td>1379.0</td>\n",
       "      <td>7.213632e-17</td>\n",
       "      <td>1.0</td>\n",
       "      <td>-3.111274</td>\n",
       "      <td>-0.882085</td>\n",
       "      <td>-0.139021</td>\n",
       "      <td>0.604042</td>\n",
       "      <td>2.833232</td>\n",
       "    </tr>\n",
       "    <tr>\n",
       "      <th>secondflrsf_bc_sd</th>\n",
       "      <td>1379.0</td>\n",
       "      <td>2.318667e-17</td>\n",
       "      <td>1.0</td>\n",
       "      <td>-0.878924</td>\n",
       "      <td>-0.878924</td>\n",
       "      <td>-0.878924</td>\n",
       "      <td>1.129090</td>\n",
       "      <td>1.322499</td>\n",
       "    </tr>\n",
       "    <tr>\n",
       "      <th>totalbsmtsf_tk_sd</th>\n",
       "      <td>1379.0</td>\n",
       "      <td>-2.009512e-16</td>\n",
       "      <td>1.0</td>\n",
       "      <td>-2.572726</td>\n",
       "      <td>-0.653105</td>\n",
       "      <td>-0.150347</td>\n",
       "      <td>0.626642</td>\n",
       "      <td>2.546262</td>\n",
       "    </tr>\n",
       "    <tr>\n",
       "      <th>totrmsabvgrd_tk_sd</th>\n",
       "      <td>1379.0</td>\n",
       "      <td>2.705112e-17</td>\n",
       "      <td>1.0</td>\n",
       "      <td>-2.327088</td>\n",
       "      <td>-1.006761</td>\n",
       "      <td>-0.346598</td>\n",
       "      <td>0.313566</td>\n",
       "      <td>2.294056</td>\n",
       "    </tr>\n",
       "    <tr>\n",
       "      <th>wooddecksf_bc_sd</th>\n",
       "      <td>1379.0</td>\n",
       "      <td>-2.061038e-17</td>\n",
       "      <td>1.0</td>\n",
       "      <td>-0.973651</td>\n",
       "      <td>-0.973651</td>\n",
       "      <td>-0.973651</td>\n",
       "      <td>1.011663</td>\n",
       "      <td>1.530368</td>\n",
       "    </tr>\n",
       "    <tr>\n",
       "      <th>saleprice_bc_tk_sd</th>\n",
       "      <td>1379.0</td>\n",
       "      <td>2.347007e-14</td>\n",
       "      <td>1.0</td>\n",
       "      <td>-2.639513</td>\n",
       "      <td>-0.658839</td>\n",
       "      <td>-0.035698</td>\n",
       "      <td>0.661610</td>\n",
       "      <td>2.642284</td>\n",
       "    </tr>\n",
       "  </tbody>\n",
       "</table>\n",
       "</div>"
      ],
      "text/plain": [
       "                      count          mean  std       min       25%       50%  \\\n",
       "bedroomabvgr_tk_sd   1379.0  8.244151e-17  1.0 -3.168643 -1.150682  0.194626   \n",
       "bsmtfinsf1_sd        1379.0  1.545778e-17  1.0 -0.991053 -0.991053 -0.120904   \n",
       "bsmtfullbath_sd      1379.0  3.735631e-17  1.0 -0.837944 -0.837944 -0.837944   \n",
       "bsmtunfsf_bc_sd      1379.0  1.030519e-16  1.0 -2.092571 -0.621587  0.036026   \n",
       "fireplaces_tk_sd     1379.0 -1.030519e-16  1.0 -0.999879 -0.999879  0.562538   \n",
       "firstflrsf_bc_sd     1379.0  5.075305e-16  1.0 -3.139541 -0.711553 -0.046439   \n",
       "fullbath_sd          1379.0 -1.822730e-16  1.0 -2.883183 -1.058534  0.766114   \n",
       "garagearea_bc_tk_sd  1379.0 -6.704813e-16  1.0 -2.298849 -0.587125  0.051133   \n",
       "garagecars_tk_sd     1379.0  3.284779e-17  1.0 -1.391423 -1.391423  0.209555   \n",
       "grlivarea_bc_tk_sd   1379.0  4.553605e-16  1.0 -2.796024 -0.725146  0.059822   \n",
       "halfbath_sd          1379.0 -7.149224e-17  1.0 -0.788093 -0.788093 -0.788093   \n",
       "kitchenabvgr_sd      1379.0 -1.623067e-16  1.0 -0.196042 -0.196042 -0.196042   \n",
       "lotarea_bc_tk_sd     1379.0  3.735631e-17  1.0 -2.100577 -0.487556  0.068536   \n",
       "lotfrontage_tk_sd    1379.0 -8.244151e-17  1.0 -1.722142 -0.475494  0.200399   \n",
       "masvnrarea_bc_sd     1379.0 -2.576297e-17  1.0 -0.850003 -0.850003 -0.850003   \n",
       "mosold_sd            1379.0  1.288149e-17  1.0 -1.978103 -0.494795 -0.123968   \n",
       "mssubclass_bc_sd     1379.0 -1.177046e-15  1.0 -1.152088 -1.152088  0.254339   \n",
       "openporchsf_bc_sd    1379.0 -2.086801e-16  1.0 -1.096424 -1.096424  0.420705   \n",
       "overallcond_tk_sd    1379.0 -3.078675e-16  1.0 -2.160294 -0.573163 -0.573163   \n",
       "overallqual_sd       1379.0  7.213632e-17  1.0 -3.111274 -0.882085 -0.139021   \n",
       "secondflrsf_bc_sd    1379.0  2.318667e-17  1.0 -0.878924 -0.878924 -0.878924   \n",
       "totalbsmtsf_tk_sd    1379.0 -2.009512e-16  1.0 -2.572726 -0.653105 -0.150347   \n",
       "totrmsabvgrd_tk_sd   1379.0  2.705112e-17  1.0 -2.327088 -1.006761 -0.346598   \n",
       "wooddecksf_bc_sd     1379.0 -2.061038e-17  1.0 -0.973651 -0.973651 -0.973651   \n",
       "saleprice_bc_tk_sd   1379.0  2.347007e-14  1.0 -2.639513 -0.658839 -0.035698   \n",
       "\n",
       "                          75%        max  \n",
       "bedroomabvgr_tk_sd   0.194626   2.212587  \n",
       "bsmtfinsf1_sd        0.601319  11.286749  \n",
       "bsmtfullbath_sd      1.107383   3.052710  \n",
       "bsmtunfsf_bc_sd      0.676647   2.541014  \n",
       "fireplaces_tk_sd     0.562538   2.906165  \n",
       "firstflrsf_bc_sd     0.751746   4.248829  \n",
       "fullbath_sd          0.766114   2.590763  \n",
       "garagearea_bc_tk_sd  0.554024   2.265747  \n",
       "garagecars_tk_sd     0.209555   2.611022  \n",
       "grlivarea_bc_tk_sd   0.655439   2.726316  \n",
       "halfbath_sd          1.202347   3.192787  \n",
       "kitchenabvgr_sd     -0.196042  10.005557  \n",
       "lotarea_bc_tk_sd     0.587792   2.200813  \n",
       "lotfrontage_tk_sd    0.650995   2.340728  \n",
       "masvnrarea_bc_sd     1.150460   1.545398  \n",
       "mosold_sd            0.617687   2.100995  \n",
       "mssubclass_bc_sd     0.713022   1.903315  \n",
       "openporchsf_bc_sd    0.876143   1.946454  \n",
       "overallcond_tk_sd    0.484925   2.072056  \n",
       "overallqual_sd       0.604042   2.833232  \n",
       "secondflrsf_bc_sd    1.129090   1.322499  \n",
       "totalbsmtsf_tk_sd    0.626642   2.546262  \n",
       "totrmsabvgrd_tk_sd   0.313566   2.294056  \n",
       "wooddecksf_bc_sd     1.011663   1.530368  \n",
       "saleprice_bc_tk_sd   0.661610   2.642284  "
      ]
     },
     "execution_count": 55,
     "metadata": {},
     "output_type": "execute_result"
    }
   ],
   "source": [
    "df_clean.loc[:, standardized_variables].describe().T"
   ]
  },
  {
   "cell_type": "code",
   "execution_count": 56,
   "metadata": {},
   "outputs": [],
   "source": [
    "df_standardized = df_clean.loc[:, standardized_variables].copy()"
   ]
  },
  {
   "cell_type": "markdown",
   "metadata": {},
   "source": [
    "### Categorical Variables\n",
    "One-hot-encode categorical variables."
   ]
  },
  {
   "cell_type": "code",
   "execution_count": 57,
   "metadata": {},
   "outputs": [
    {
     "name": "stdout",
     "output_type": "stream",
     "text": [
      "There are 43 categorical variables.\n"
     ]
    }
   ],
   "source": [
    "print(f'There are {len(cat_variables)} categorical variables.')"
   ]
  },
  {
   "cell_type": "markdown",
   "metadata": {},
   "source": [
    "If I consider the catergorical variables and one-hot encode them, there will be TOO MANY variables for the model. Therefore, to keep the model simpler, I will only consider the continuous variables."
   ]
  },
  {
   "cell_type": "markdown",
   "metadata": {},
   "source": [
    "## Data Exploration\n",
    "Compare correlations between features."
   ]
  },
  {
   "cell_type": "code",
   "execution_count": 58,
   "metadata": {},
   "outputs": [],
   "source": [
    "only_features = df_standardized.columns.tolist()\n",
    "only_features.remove('saleprice_bc_tk_sd')"
   ]
  },
  {
   "cell_type": "code",
   "execution_count": 59,
   "metadata": {},
   "outputs": [],
   "source": [
    "df_correlated_features = df_standardized.loc[:, only_features].corr()"
   ]
  },
  {
   "cell_type": "code",
   "execution_count": 60,
   "metadata": {},
   "outputs": [
    {
     "data": {
      "image/png": "[encoded data removed]",
      "text/plain": [
       "<Figure size 576x504 with 2 Axes>"
      ]
     },
     "metadata": {
      "needs_background": "light"
     },
     "output_type": "display_data"
    }
   ],
   "source": [
    "f, axes = plt.subplots(1, 1, figsize=(8, 7))\n",
    "sns.heatmap(df_correlated_features, ax=axes)\n",
    "plt.show()"
   ]
  },
  {
   "cell_type": "code",
   "execution_count": 61,
   "metadata": {},
   "outputs": [
    {
     "data": {
      "text/html": [
       "<div>\n",
       "<style scoped>\n",
       "    .dataframe tbody tr th:only-of-type {\n",
       "        vertical-align: middle;\n",
       "    }\n",
       "\n",
       "    .dataframe tbody tr th {\n",
       "        vertical-align: top;\n",
       "    }\n",
       "\n",
       "    .dataframe thead th {\n",
       "        text-align: right;\n",
       "    }\n",
       "</style>\n",
       "<table border=\"1\" class=\"dataframe\">\n",
       "  <thead>\n",
       "    <tr style=\"text-align: right;\">\n",
       "      <th></th>\n",
       "      <th>count</th>\n",
       "      <th>mean</th>\n",
       "      <th>std</th>\n",
       "      <th>min</th>\n",
       "      <th>25%</th>\n",
       "      <th>50%</th>\n",
       "      <th>75%</th>\n",
       "      <th>max</th>\n",
       "    </tr>\n",
       "  </thead>\n",
       "  <tbody>\n",
       "    <tr>\n",
       "      <th>overallcond_tk_sd</th>\n",
       "      <td>24.0</td>\n",
       "      <td>-0.060264</td>\n",
       "      <td>0.239867</td>\n",
       "      <td>-0.272565</td>\n",
       "      <td>-0.156656</td>\n",
       "      <td>-0.083168</td>\n",
       "      <td>-0.046754</td>\n",
       "      <td>1.0</td>\n",
       "    </tr>\n",
       "    <tr>\n",
       "      <th>kitchenabvgr_sd</th>\n",
       "      <td>24.0</td>\n",
       "      <td>0.046953</td>\n",
       "      <td>0.228115</td>\n",
       "      <td>-0.173051</td>\n",
       "      <td>-0.071444</td>\n",
       "      <td>0.011716</td>\n",
       "      <td>0.091011</td>\n",
       "      <td>1.0</td>\n",
       "    </tr>\n",
       "    <tr>\n",
       "      <th>mosold_sd</th>\n",
       "      <td>24.0</td>\n",
       "      <td>0.067269</td>\n",
       "      <td>0.200357</td>\n",
       "      <td>-0.020717</td>\n",
       "      <td>0.014108</td>\n",
       "      <td>0.029114</td>\n",
       "      <td>0.051546</td>\n",
       "      <td>1.0</td>\n",
       "    </tr>\n",
       "    <tr>\n",
       "      <th>secondflrsf_bc_sd</th>\n",
       "      <td>24.0</td>\n",
       "      <td>0.141562</td>\n",
       "      <td>0.329298</td>\n",
       "      <td>-0.385486</td>\n",
       "      <td>-0.013695</td>\n",
       "      <td>0.030415</td>\n",
       "      <td>0.344585</td>\n",
       "      <td>1.0</td>\n",
       "    </tr>\n",
       "    <tr>\n",
       "      <th>mssubclass_bc_sd</th>\n",
       "      <td>24.0</td>\n",
       "      <td>0.058151</td>\n",
       "      <td>0.290207</td>\n",
       "      <td>-0.339507</td>\n",
       "      <td>-0.087876</td>\n",
       "      <td>0.032257</td>\n",
       "      <td>0.167697</td>\n",
       "      <td>1.0</td>\n",
       "    </tr>\n",
       "    <tr>\n",
       "      <th>bsmtfullbath_sd</th>\n",
       "      <td>24.0</td>\n",
       "      <td>0.087929</td>\n",
       "      <td>0.279292</td>\n",
       "      <td>-0.407657</td>\n",
       "      <td>-0.057064</td>\n",
       "      <td>0.053148</td>\n",
       "      <td>0.143657</td>\n",
       "      <td>1.0</td>\n",
       "    </tr>\n",
       "    <tr>\n",
       "      <th>lotfrontage_tk_sd</th>\n",
       "      <td>24.0</td>\n",
       "      <td>0.123040</td>\n",
       "      <td>0.216552</td>\n",
       "      <td>-0.192306</td>\n",
       "      <td>0.014490</td>\n",
       "      <td>0.090491</td>\n",
       "      <td>0.198864</td>\n",
       "      <td>1.0</td>\n",
       "    </tr>\n",
       "    <tr>\n",
       "      <th>bsmtunfsf_bc_sd</th>\n",
       "      <td>24.0</td>\n",
       "      <td>0.113315</td>\n",
       "      <td>0.277325</td>\n",
       "      <td>-0.453010</td>\n",
       "      <td>0.004062</td>\n",
       "      <td>0.118361</td>\n",
       "      <td>0.239527</td>\n",
       "      <td>1.0</td>\n",
       "    </tr>\n",
       "    <tr>\n",
       "      <th>bedroomabvgr_tk_sd</th>\n",
       "      <td>24.0</td>\n",
       "      <td>0.193372</td>\n",
       "      <td>0.257756</td>\n",
       "      <td>-0.158706</td>\n",
       "      <td>0.048532</td>\n",
       "      <td>0.119615</td>\n",
       "      <td>0.271295</td>\n",
       "      <td>1.0</td>\n",
       "    </tr>\n",
       "    <tr>\n",
       "      <th>bsmtfinsf1_sd</th>\n",
       "      <td>24.0</td>\n",
       "      <td>0.139978</td>\n",
       "      <td>0.293977</td>\n",
       "      <td>-0.453010</td>\n",
       "      <td>-0.025617</td>\n",
       "      <td>0.125372</td>\n",
       "      <td>0.234877</td>\n",
       "      <td>1.0</td>\n",
       "    </tr>\n",
       "    <tr>\n",
       "      <th>halfbath_sd</th>\n",
       "      <td>24.0</td>\n",
       "      <td>0.163695</td>\n",
       "      <td>0.257374</td>\n",
       "      <td>-0.173355</td>\n",
       "      <td>-0.015178</td>\n",
       "      <td>0.128090</td>\n",
       "      <td>0.259490</td>\n",
       "      <td>1.0</td>\n",
       "    </tr>\n",
       "    <tr>\n",
       "      <th>wooddecksf_bc_sd</th>\n",
       "      <td>24.0</td>\n",
       "      <td>0.153205</td>\n",
       "      <td>0.205963</td>\n",
       "      <td>-0.101385</td>\n",
       "      <td>0.041752</td>\n",
       "      <td>0.151612</td>\n",
       "      <td>0.208620</td>\n",
       "      <td>1.0</td>\n",
       "    </tr>\n",
       "    <tr>\n",
       "      <th>masvnrarea_bc_sd</th>\n",
       "      <td>24.0</td>\n",
       "      <td>0.191367</td>\n",
       "      <td>0.224221</td>\n",
       "      <td>-0.174536</td>\n",
       "      <td>0.068153</td>\n",
       "      <td>0.176321</td>\n",
       "      <td>0.284997</td>\n",
       "      <td>1.0</td>\n",
       "    </tr>\n",
       "    <tr>\n",
       "      <th>lotarea_bc_tk_sd</th>\n",
       "      <td>24.0</td>\n",
       "      <td>0.202317</td>\n",
       "      <td>0.243421</td>\n",
       "      <td>-0.339507</td>\n",
       "      <td>0.072829</td>\n",
       "      <td>0.178793</td>\n",
       "      <td>0.324043</td>\n",
       "      <td>1.0</td>\n",
       "    </tr>\n",
       "    <tr>\n",
       "      <th>openporchsf_bc_sd</th>\n",
       "      <td>24.0</td>\n",
       "      <td>0.215850</td>\n",
       "      <td>0.224990</td>\n",
       "      <td>-0.153196</td>\n",
       "      <td>0.085710</td>\n",
       "      <td>0.195770</td>\n",
       "      <td>0.310348</td>\n",
       "      <td>1.0</td>\n",
       "    </tr>\n",
       "    <tr>\n",
       "      <th>fireplaces_tk_sd</th>\n",
       "      <td>24.0</td>\n",
       "      <td>0.224064</td>\n",
       "      <td>0.217064</td>\n",
       "      <td>-0.103626</td>\n",
       "      <td>0.113365</td>\n",
       "      <td>0.200254</td>\n",
       "      <td>0.321349</td>\n",
       "      <td>1.0</td>\n",
       "    </tr>\n",
       "    <tr>\n",
       "      <th>garagearea_bc_tk_sd</th>\n",
       "      <td>24.0</td>\n",
       "      <td>0.284272</td>\n",
       "      <td>0.274565</td>\n",
       "      <td>-0.229933</td>\n",
       "      <td>0.126957</td>\n",
       "      <td>0.242302</td>\n",
       "      <td>0.457109</td>\n",
       "      <td>1.0</td>\n",
       "    </tr>\n",
       "    <tr>\n",
       "      <th>garagecars_tk_sd</th>\n",
       "      <td>24.0</td>\n",
       "      <td>0.299629</td>\n",
       "      <td>0.274479</td>\n",
       "      <td>-0.272565</td>\n",
       "      <td>0.131031</td>\n",
       "      <td>0.243420</td>\n",
       "      <td>0.446746</td>\n",
       "      <td>1.0</td>\n",
       "    </tr>\n",
       "    <tr>\n",
       "      <th>fullbath_sd</th>\n",
       "      <td>24.0</td>\n",
       "      <td>0.289095</td>\n",
       "      <td>0.258260</td>\n",
       "      <td>-0.244282</td>\n",
       "      <td>0.124794</td>\n",
       "      <td>0.267346</td>\n",
       "      <td>0.409130</td>\n",
       "      <td>1.0</td>\n",
       "    </tr>\n",
       "    <tr>\n",
       "      <th>firstflrsf_bc_sd</th>\n",
       "      <td>24.0</td>\n",
       "      <td>0.262025</td>\n",
       "      <td>0.318231</td>\n",
       "      <td>-0.385486</td>\n",
       "      <td>0.111985</td>\n",
       "      <td>0.280091</td>\n",
       "      <td>0.436830</td>\n",
       "      <td>1.0</td>\n",
       "    </tr>\n",
       "    <tr>\n",
       "      <th>overallqual_sd</th>\n",
       "      <td>24.0</td>\n",
       "      <td>0.312274</td>\n",
       "      <td>0.261489</td>\n",
       "      <td>-0.173051</td>\n",
       "      <td>0.156890</td>\n",
       "      <td>0.288867</td>\n",
       "      <td>0.460845</td>\n",
       "      <td>1.0</td>\n",
       "    </tr>\n",
       "    <tr>\n",
       "      <th>totrmsabvgrd_tk_sd</th>\n",
       "      <td>24.0</td>\n",
       "      <td>0.326513</td>\n",
       "      <td>0.257056</td>\n",
       "      <td>-0.088803</td>\n",
       "      <td>0.195598</td>\n",
       "      <td>0.298657</td>\n",
       "      <td>0.410619</td>\n",
       "      <td>1.0</td>\n",
       "    </tr>\n",
       "    <tr>\n",
       "      <th>totalbsmtsf_tk_sd</th>\n",
       "      <td>24.0</td>\n",
       "      <td>0.255319</td>\n",
       "      <td>0.321320</td>\n",
       "      <td>-0.351808</td>\n",
       "      <td>0.023228</td>\n",
       "      <td>0.313075</td>\n",
       "      <td>0.420040</td>\n",
       "      <td>1.0</td>\n",
       "    </tr>\n",
       "    <tr>\n",
       "      <th>grlivarea_bc_tk_sd</th>\n",
       "      <td>24.0</td>\n",
       "      <td>0.377643</td>\n",
       "      <td>0.261828</td>\n",
       "      <td>-0.143601</td>\n",
       "      <td>0.198099</td>\n",
       "      <td>0.403081</td>\n",
       "      <td>0.519606</td>\n",
       "      <td>1.0</td>\n",
       "    </tr>\n",
       "  </tbody>\n",
       "</table>\n",
       "</div>"
      ],
      "text/plain": [
       "                     count      mean       std       min       25%       50%  \\\n",
       "overallcond_tk_sd     24.0 -0.060264  0.239867 -0.272565 -0.156656 -0.083168   \n",
       "kitchenabvgr_sd       24.0  0.046953  0.228115 -0.173051 -0.071444  0.011716   \n",
       "mosold_sd             24.0  0.067269  0.200357 -0.020717  0.014108  0.029114   \n",
       "secondflrsf_bc_sd     24.0  0.141562  0.329298 -0.385486 -0.013695  0.030415   \n",
       "mssubclass_bc_sd      24.0  0.058151  0.290207 -0.339507 -0.087876  0.032257   \n",
       "bsmtfullbath_sd       24.0  0.087929  0.279292 -0.407657 -0.057064  0.053148   \n",
       "lotfrontage_tk_sd     24.0  0.123040  0.216552 -0.192306  0.014490  0.090491   \n",
       "bsmtunfsf_bc_sd       24.0  0.113315  0.277325 -0.453010  0.004062  0.118361   \n",
       "bedroomabvgr_tk_sd    24.0  0.193372  0.257756 -0.158706  0.048532  0.119615   \n",
       "bsmtfinsf1_sd         24.0  0.139978  0.293977 -0.453010 -0.025617  0.125372   \n",
       "halfbath_sd           24.0  0.163695  0.257374 -0.173355 -0.015178  0.128090   \n",
       "wooddecksf_bc_sd      24.0  0.153205  0.205963 -0.101385  0.041752  0.151612   \n",
       "masvnrarea_bc_sd      24.0  0.191367  0.224221 -0.174536  0.068153  0.176321   \n",
       "lotarea_bc_tk_sd      24.0  0.202317  0.243421 -0.339507  0.072829  0.178793   \n",
       "openporchsf_bc_sd     24.0  0.215850  0.224990 -0.153196  0.085710  0.195770   \n",
       "fireplaces_tk_sd      24.0  0.224064  0.217064 -0.103626  0.113365  0.200254   \n",
       "garagearea_bc_tk_sd   24.0  0.284272  0.274565 -0.229933  0.126957  0.242302   \n",
       "garagecars_tk_sd      24.0  0.299629  0.274479 -0.272565  0.131031  0.243420   \n",
       "fullbath_sd           24.0  0.289095  0.258260 -0.244282  0.124794  0.267346   \n",
       "firstflrsf_bc_sd      24.0  0.262025  0.318231 -0.385486  0.111985  0.280091   \n",
       "overallqual_sd        24.0  0.312274  0.261489 -0.173051  0.156890  0.288867   \n",
       "totrmsabvgrd_tk_sd    24.0  0.326513  0.257056 -0.088803  0.195598  0.298657   \n",
       "totalbsmtsf_tk_sd     24.0  0.255319  0.321320 -0.351808  0.023228  0.313075   \n",
       "grlivarea_bc_tk_sd    24.0  0.377643  0.261828 -0.143601  0.198099  0.403081   \n",
       "\n",
       "                          75%  max  \n",
       "overallcond_tk_sd   -0.046754  1.0  \n",
       "kitchenabvgr_sd      0.091011  1.0  \n",
       "mosold_sd            0.051546  1.0  \n",
       "secondflrsf_bc_sd    0.344585  1.0  \n",
       "mssubclass_bc_sd     0.167697  1.0  \n",
       "bsmtfullbath_sd      0.143657  1.0  \n",
       "lotfrontage_tk_sd    0.198864  1.0  \n",
       "bsmtunfsf_bc_sd      0.239527  1.0  \n",
       "bedroomabvgr_tk_sd   0.271295  1.0  \n",
       "bsmtfinsf1_sd        0.234877  1.0  \n",
       "halfbath_sd          0.259490  1.0  \n",
       "wooddecksf_bc_sd     0.208620  1.0  \n",
       "masvnrarea_bc_sd     0.284997  1.0  \n",
       "lotarea_bc_tk_sd     0.324043  1.0  \n",
       "openporchsf_bc_sd    0.310348  1.0  \n",
       "fireplaces_tk_sd     0.321349  1.0  \n",
       "garagearea_bc_tk_sd  0.457109  1.0  \n",
       "garagecars_tk_sd     0.446746  1.0  \n",
       "fullbath_sd          0.409130  1.0  \n",
       "firstflrsf_bc_sd     0.436830  1.0  \n",
       "overallqual_sd       0.460845  1.0  \n",
       "totrmsabvgrd_tk_sd   0.410619  1.0  \n",
       "totalbsmtsf_tk_sd    0.420040  1.0  \n",
       "grlivarea_bc_tk_sd   0.519606  1.0  "
      ]
     },
     "execution_count": 61,
     "metadata": {},
     "output_type": "execute_result"
    }
   ],
   "source": [
    "df_correlated_features.describe().T.sort_values(by='50%')"
   ]
  },
  {
   "cell_type": "markdown",
   "metadata": {},
   "source": [
    "**Observations:** No values seem that highly correlated with each. The highest mean correlation is below 0.4 and the highest 75%-tile correlation is 0.52."
   ]
  },
  {
   "cell_type": "markdown",
   "metadata": {},
   "source": [
    "Inspect variables that are correlated with `'saleprice'`."
   ]
  },
  {
   "cell_type": "code",
   "execution_count": 62,
   "metadata": {},
   "outputs": [],
   "source": [
    "df_correlated = df_standardized.corr()"
   ]
  },
  {
   "cell_type": "code",
   "execution_count": 63,
   "metadata": {},
   "outputs": [
    {
     "data": {
      "image/png": "[encoded data removed]",
      "text/plain": [
       "<Figure size 576x504 with 2 Axes>"
      ]
     },
     "metadata": {
      "needs_background": "light"
     },
     "output_type": "display_data"
    }
   ],
   "source": [
    "f, axes = plt.subplots(1, 1, figsize=(8, 7))\n",
    "sns.heatmap(df_correlated, ax=axes)\n",
    "plt.show()"
   ]
  },
  {
   "cell_type": "code",
   "execution_count": 64,
   "metadata": {},
   "outputs": [
    {
     "data": {
      "text/plain": [
       "kitchenabvgr_sd       -0.159965\n",
       "overallcond_tk_sd     -0.089710\n",
       "mssubclass_bc_sd      -0.005622\n",
       "mosold_sd              0.058573\n",
       "secondflrsf_bc_sd      0.162788\n",
       "lotfrontage_tk_sd      0.178699\n",
       "bsmtunfsf_bc_sd        0.213329\n",
       "bedroomabvgr_tk_sd     0.213683\n",
       "bsmtfullbath_sd        0.238419\n",
       "halfbath_sd            0.303914\n",
       "wooddecksf_bc_sd       0.331066\n",
       "bsmtfinsf1_sd          0.353713\n",
       "masvnrarea_bc_sd       0.381278\n",
       "lotarea_bc_tk_sd       0.399406\n",
       "fireplaces_tk_sd       0.479832\n",
       "openporchsf_bc_sd      0.480807\n",
       "totrmsabvgrd_tk_sd     0.539419\n",
       "firstflrsf_bc_sd       0.587466\n",
       "fullbath_sd            0.597385\n",
       "garagearea_bc_tk_sd    0.620166\n",
       "totalbsmtsf_tk_sd      0.634140\n",
       "garagecars_tk_sd       0.657956\n",
       "grlivarea_bc_tk_sd     0.728134\n",
       "overallqual_sd         0.810725\n",
       "saleprice_bc_tk_sd     1.000000\n",
       "Name: saleprice_bc_tk_sd, dtype: float64"
      ]
     },
     "execution_count": 64,
     "metadata": {},
     "output_type": "execute_result"
    }
   ],
   "source": [
    "df_correlated['saleprice_bc_tk_sd'].sort_values()"
   ]
  },
  {
   "cell_type": "code",
   "execution_count": 65,
   "metadata": {},
   "outputs": [],
   "source": [
    "correlated_with_saleprice = df_correlated['saleprice_bc_tk_sd'].sort_values()"
   ]
  },
  {
   "cell_type": "code",
   "execution_count": 66,
   "metadata": {},
   "outputs": [],
   "source": [
    "correlated_features = correlated_with_saleprice[correlated_with_saleprice > 0.6].index.tolist()\n",
    "correlated_features.remove('saleprice_bc_tk_sd')"
   ]
  },
  {
   "cell_type": "code",
   "execution_count": 67,
   "metadata": {},
   "outputs": [
    {
     "name": "stdout",
     "output_type": "stream",
     "text": [
      "Features that have at least a 0.6 correlations with sale price are:\n",
      "['garagearea_bc_tk_sd', 'totalbsmtsf_tk_sd', 'garagecars_tk_sd', 'grlivarea_bc_tk_sd', 'overallqual_sd']\n"
     ]
    }
   ],
   "source": [
    "print(f'Features that have at least a 0.6 correlations with sale price are:\\n{correlated_features}')"
   ]
  },
  {
   "cell_type": "markdown",
   "metadata": {},
   "source": [
    "## Model\n",
    "Now that I have selected the best features, I will create a linear regression model using Scikit-Learn."
   ]
  },
  {
   "cell_type": "code",
   "execution_count": 68,
   "metadata": {},
   "outputs": [],
   "source": [
    "model_columns = correlated_features + ['saleprice_bc_tk_sd']\n",
    "df_model = df_standardized.loc[:, model_columns].copy()"
   ]
  },
  {
   "cell_type": "code",
   "execution_count": 69,
   "metadata": {},
   "outputs": [
    {
     "name": "stdout",
     "output_type": "stream",
     "text": [
      "<class 'pandas.core.frame.DataFrame'>\n",
      "Int64Index: 1379 entries, 0 to 1378\n",
      "Data columns (total 6 columns):\n",
      "garagearea_bc_tk_sd    1379 non-null float64\n",
      "totalbsmtsf_tk_sd      1379 non-null float64\n",
      "garagecars_tk_sd       1379 non-null float64\n",
      "grlivarea_bc_tk_sd     1379 non-null float64\n",
      "overallqual_sd         1379 non-null float64\n",
      "saleprice_bc_tk_sd     1379 non-null float64\n",
      "dtypes: float64(6)\n",
      "memory usage: 75.4 KB\n"
     ]
    }
   ],
   "source": [
    "df_model.info()"
   ]
  },
  {
   "cell_type": "code",
   "execution_count": 70,
   "metadata": {},
   "outputs": [
    {
     "name": "stdout",
     "output_type": "stream",
     "text": [
      "Coefficients: [0.07647727 0.20583181 0.09628892 0.31119974 0.41619647]\n",
      "Intercept: 2.338781133213957e-14\n"
     ]
    }
   ],
   "source": [
    "X = df_model.loc[:, correlated_features]\n",
    "y = df_model['saleprice_bc_tk_sd']\n",
    "\n",
    "lrm = linear_model.LinearRegression()\n",
    "\n",
    "lrm.fit(X, y)\n",
    "\n",
    "print(f'Coefficients: {lrm.coef_}')\n",
    "print(f'Intercept: {lrm.intercept_}')"
   ]
  },
  {
   "cell_type": "markdown",
   "metadata": {},
   "source": [
    "**Observation:** The intercept is close to zero. The coefficients are between 0.05 and 0.5.\n",
    "\n",
    "#### Save model dataset\n",
    "Save the dataset use to create the housing price model to a .csv file."
   ]
  },
  {
   "cell_type": "code",
   "execution_count": 80,
   "metadata": {
    "scrolled": false
   },
   "outputs": [],
   "source": [
    "df_model.to_csv('./housing_price_model.csv')"
   ]
  },
  {
   "cell_type": "code",
   "execution_count": 77,
   "metadata": {},
   "outputs": [
    {
     "data": {
      "text/html": [
       "<div>\n",
       "<style scoped>\n",
       "    .dataframe tbody tr th:only-of-type {\n",
       "        vertical-align: middle;\n",
       "    }\n",
       "\n",
       "    .dataframe tbody tr th {\n",
       "        vertical-align: top;\n",
       "    }\n",
       "\n",
       "    .dataframe thead th {\n",
       "        text-align: right;\n",
       "    }\n",
       "</style>\n",
       "<table border=\"1\" class=\"dataframe\">\n",
       "  <thead>\n",
       "    <tr style=\"text-align: right;\">\n",
       "      <th></th>\n",
       "      <th>garagearea_bc_tk_sd</th>\n",
       "      <th>totalbsmtsf_tk_sd</th>\n",
       "      <th>garagecars_tk_sd</th>\n",
       "      <th>grlivarea_bc_tk_sd</th>\n",
       "      <th>overallqual_sd</th>\n",
       "      <th>saleprice_bc_tk_sd</th>\n",
       "    </tr>\n",
       "  </thead>\n",
       "  <tbody>\n",
       "    <tr>\n",
       "      <th>garagearea_bc_tk_sd</th>\n",
       "      <td>1.000000</td>\n",
       "      <td>0.476442</td>\n",
       "      <td>0.855861</td>\n",
       "      <td>0.463766</td>\n",
       "      <td>0.525924</td>\n",
       "      <td>0.620166</td>\n",
       "    </tr>\n",
       "    <tr>\n",
       "      <th>totalbsmtsf_tk_sd</th>\n",
       "      <td>0.476442</td>\n",
       "      <td>1.000000</td>\n",
       "      <td>0.461542</td>\n",
       "      <td>0.400205</td>\n",
       "      <td>0.535530</td>\n",
       "      <td>0.634140</td>\n",
       "    </tr>\n",
       "    <tr>\n",
       "      <th>garagecars_tk_sd</th>\n",
       "      <td>0.855861</td>\n",
       "      <td>0.461542</td>\n",
       "      <td>1.000000</td>\n",
       "      <td>0.502672</td>\n",
       "      <td>0.588141</td>\n",
       "      <td>0.657956</td>\n",
       "    </tr>\n",
       "    <tr>\n",
       "      <th>grlivarea_bc_tk_sd</th>\n",
       "      <td>0.463766</td>\n",
       "      <td>0.400205</td>\n",
       "      <td>0.502672</td>\n",
       "      <td>1.000000</td>\n",
       "      <td>0.602336</td>\n",
       "      <td>0.728134</td>\n",
       "    </tr>\n",
       "    <tr>\n",
       "      <th>overallqual_sd</th>\n",
       "      <td>0.525924</td>\n",
       "      <td>0.535530</td>\n",
       "      <td>0.588141</td>\n",
       "      <td>0.602336</td>\n",
       "      <td>1.000000</td>\n",
       "      <td>0.810725</td>\n",
       "    </tr>\n",
       "    <tr>\n",
       "      <th>saleprice_bc_tk_sd</th>\n",
       "      <td>0.620166</td>\n",
       "      <td>0.634140</td>\n",
       "      <td>0.657956</td>\n",
       "      <td>0.728134</td>\n",
       "      <td>0.810725</td>\n",
       "      <td>1.000000</td>\n",
       "    </tr>\n",
       "  </tbody>\n",
       "</table>\n",
       "</div>"
      ],
      "text/plain": [
       "                     garagearea_bc_tk_sd  totalbsmtsf_tk_sd  garagecars_tk_sd  \\\n",
       "garagearea_bc_tk_sd             1.000000           0.476442          0.855861   \n",
       "totalbsmtsf_tk_sd               0.476442           1.000000          0.461542   \n",
       "garagecars_tk_sd                0.855861           0.461542          1.000000   \n",
       "grlivarea_bc_tk_sd              0.463766           0.400205          0.502672   \n",
       "overallqual_sd                  0.525924           0.535530          0.588141   \n",
       "saleprice_bc_tk_sd              0.620166           0.634140          0.657956   \n",
       "\n",
       "                     grlivarea_bc_tk_sd  overallqual_sd  saleprice_bc_tk_sd  \n",
       "garagearea_bc_tk_sd            0.463766        0.525924            0.620166  \n",
       "totalbsmtsf_tk_sd              0.400205        0.535530            0.634140  \n",
       "garagecars_tk_sd               0.502672        0.588141            0.657956  \n",
       "grlivarea_bc_tk_sd             1.000000        0.602336            0.728134  \n",
       "overallqual_sd                 0.602336        1.000000            0.810725  \n",
       "saleprice_bc_tk_sd             0.728134        0.810725            1.000000  "
      ]
     },
     "execution_count": 77,
     "metadata": {},
     "output_type": "execute_result"
    }
   ],
   "source": [
    "df_model.corr()"
   ]
  },
  {
   "cell_type": "code",
   "execution_count": 78,
   "metadata": {},
   "outputs": [
    {
     "data": {
      "text/plain": [
       "1.1059942185645495"
      ]
     },
     "execution_count": 78,
     "metadata": {},
     "output_type": "execute_result"
    }
   ],
   "source": [
    "lrm.coef_.sum()"
   ]
  },
  {
   "cell_type": "code",
   "execution_count": null,
   "metadata": {},
   "outputs": [],
   "source": []
  }
 ],
 "metadata": {
  "kernelspec": {
   "display_name": "Python 3",
   "language": "python",
   "name": "python3"
  },
  "language_info": {
   "codemirror_mode": {
    "name": "ipython",
    "version": 3
   },
   "file_extension": ".py",
   "mimetype": "text/x-python",
   "name": "python",
   "nbconvert_exporter": "python",
   "pygments_lexer": "ipython3",
   "version": "3.6.8"
  }
 },
 "nbformat": 4,
 "nbformat_minor": 2
}
