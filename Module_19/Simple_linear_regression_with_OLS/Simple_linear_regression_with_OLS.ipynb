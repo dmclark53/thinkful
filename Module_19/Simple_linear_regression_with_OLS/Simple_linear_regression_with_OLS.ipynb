{
 "cells": [
  {
   "cell_type": "markdown",
   "metadata": {},
   "source": [
    "# Simple Linear Regression With OLS"
   ]
  },
  {
   "cell_type": "code",
   "execution_count": 1,
   "metadata": {},
   "outputs": [],
   "source": [
    "import helpers as hp\n",
    "import matplotlib.pyplot as plt\n",
    "import numpy as np\n",
    "import pandas as pd\n",
    "import seaborn as sns\n",
    "from scipy.stats import boxcox\n",
    "from scipy.stats import normaltest\n",
    "from sklearn import linear_model\n",
    "from sklearn.preprocessing import StandardScaler\n",
    "from sqlalchemy import create_engine\n",
    "\n",
    "from config import usr, pwd, url, port, db\n",
    "\n",
    "%matplotlib inline"
   ]
  },
  {
   "cell_type": "markdown",
   "metadata": {},
   "source": [
    "## Load Data\n",
    "Load the dataset and inspect it's contents."
   ]
  },
  {
   "cell_type": "code",
   "execution_count": 2,
   "metadata": {},
   "outputs": [],
   "source": [
    "engine = create_engine(f\"postgresql+psycopg2://{usr}:{pwd}@{url}:{port}/{db}\")"
   ]
  },
  {
   "cell_type": "code",
   "execution_count": 3,
   "metadata": {},
   "outputs": [],
   "source": [
    "query = f'''\n",
    "SELECT\n",
    "    *\n",
    "FROM\n",
    "    {db};\n",
    "'''"
   ]
  },
  {
   "cell_type": "code",
   "execution_count": 4,
   "metadata": {},
   "outputs": [],
   "source": [
    "df = pd.read_sql_query(query, con=engine)"
   ]
  },
  {
   "cell_type": "code",
   "execution_count": 5,
   "metadata": {},
   "outputs": [],
   "source": [
    "engine.dispose()"
   ]
  },
  {
   "cell_type": "code",
   "execution_count": 6,
   "metadata": {},
   "outputs": [
    {
     "name": "stdout",
     "output_type": "stream",
     "text": [
      "<class 'pandas.core.frame.DataFrame'>\n",
      "RangeIndex: 1460 entries, 0 to 1459\n",
      "Data columns (total 81 columns):\n",
      "id               1460 non-null int64\n",
      "mssubclass       1460 non-null int64\n",
      "mszoning         1460 non-null object\n",
      "lotfrontage      1201 non-null float64\n",
      "lotarea          1460 non-null int64\n",
      "street           1460 non-null object\n",
      "alley            91 non-null object\n",
      "lotshape         1460 non-null object\n",
      "landcontour      1460 non-null object\n",
      "utilities        1460 non-null object\n",
      "lotconfig        1460 non-null object\n",
      "landslope        1460 non-null object\n",
      "neighborhood     1460 non-null object\n",
      "condition1       1460 non-null object\n",
      "condition2       1460 non-null object\n",
      "bldgtype         1460 non-null object\n",
      "housestyle       1460 non-null object\n",
      "overallqual      1460 non-null int64\n",
      "overallcond      1460 non-null int64\n",
      "yearbuilt        1460 non-null int64\n",
      "yearremodadd     1460 non-null int64\n",
      "roofstyle        1460 non-null object\n",
      "roofmatl         1460 non-null object\n",
      "exterior1st      1460 non-null object\n",
      "exterior2nd      1460 non-null object\n",
      "masvnrtype       1452 non-null object\n",
      "masvnrarea       1452 non-null float64\n",
      "exterqual        1460 non-null object\n",
      "extercond        1460 non-null object\n",
      "foundation       1460 non-null object\n",
      "bsmtqual         1423 non-null object\n",
      "bsmtcond         1423 non-null object\n",
      "bsmtexposure     1422 non-null object\n",
      "bsmtfintype1     1423 non-null object\n",
      "bsmtfinsf1       1460 non-null int64\n",
      "bsmtfintype2     1422 non-null object\n",
      "bsmtfinsf2       1460 non-null int64\n",
      "bsmtunfsf        1460 non-null int64\n",
      "totalbsmtsf      1460 non-null int64\n",
      "heating          1460 non-null object\n",
      "heatingqc        1460 non-null object\n",
      "centralair       1460 non-null object\n",
      "electrical       1459 non-null object\n",
      "firstflrsf       1460 non-null int64\n",
      "secondflrsf      1460 non-null int64\n",
      "lowqualfinsf     1460 non-null int64\n",
      "grlivarea        1460 non-null int64\n",
      "bsmtfullbath     1460 non-null int64\n",
      "bsmthalfbath     1460 non-null int64\n",
      "fullbath         1460 non-null int64\n",
      "halfbath         1460 non-null int64\n",
      "bedroomabvgr     1460 non-null int64\n",
      "kitchenabvgr     1460 non-null int64\n",
      "kitchenqual      1460 non-null object\n",
      "totrmsabvgrd     1460 non-null int64\n",
      "functional       1460 non-null object\n",
      "fireplaces       1460 non-null int64\n",
      "fireplacequ      770 non-null object\n",
      "garagetype       1379 non-null object\n",
      "garageyrblt      1379 non-null float64\n",
      "garagefinish     1379 non-null object\n",
      "garagecars       1460 non-null int64\n",
      "garagearea       1460 non-null int64\n",
      "garagequal       1379 non-null object\n",
      "garagecond       1379 non-null object\n",
      "paveddrive       1460 non-null object\n",
      "wooddecksf       1460 non-null int64\n",
      "openporchsf      1460 non-null int64\n",
      "enclosedporch    1460 non-null int64\n",
      "threessnporch    1460 non-null int64\n",
      "screenporch      1460 non-null int64\n",
      "poolarea         1460 non-null int64\n",
      "poolqc           7 non-null object\n",
      "fence            281 non-null object\n",
      "miscfeature      54 non-null object\n",
      "miscval          1460 non-null int64\n",
      "mosold           1460 non-null int64\n",
      "yrsold           1460 non-null int64\n",
      "saletype         1460 non-null object\n",
      "salecondition    1460 non-null object\n",
      "saleprice        1460 non-null int64\n",
      "dtypes: float64(3), int64(35), object(43)\n",
      "memory usage: 924.0+ KB\n"
     ]
    }
   ],
   "source": [
    "df.info()"
   ]
  },
  {
   "cell_type": "markdown",
   "metadata": {},
   "source": [
    "## Missing Values\n",
    "### Variable types\n",
    "Create lists of continuous and categorical data."
   ]
  },
  {
   "cell_type": "code",
   "execution_count": 7,
   "metadata": {},
   "outputs": [],
   "source": [
    "cont_variables, cat_variables = hp.find_variable_types(df)"
   ]
  },
  {
   "cell_type": "code",
   "execution_count": 8,
   "metadata": {},
   "outputs": [
    {
     "name": "stdout",
     "output_type": "stream",
     "text": [
      "Continuous variables:\n",
      "['id', 'mssubclass', 'lotfrontage', 'lotarea', 'overallqual', 'overallcond', 'yearbuilt', 'yearremodadd', 'masvnrarea', 'bsmtfinsf1', 'bsmtfinsf2', 'bsmtunfsf', 'totalbsmtsf', 'firstflrsf', 'secondflrsf', 'lowqualfinsf', 'grlivarea', 'bsmtfullbath', 'bsmthalfbath', 'fullbath', 'halfbath', 'bedroomabvgr', 'kitchenabvgr', 'totrmsabvgrd', 'fireplaces', 'garageyrblt', 'garagecars', 'garagearea', 'wooddecksf', 'openporchsf', 'enclosedporch', 'threessnporch', 'screenporch', 'poolarea', 'miscval', 'mosold', 'yrsold', 'saleprice']\n",
      "\n",
      "Categorical variables:\n",
      "['mszoning', 'street', 'alley', 'lotshape', 'landcontour', 'utilities', 'lotconfig', 'landslope', 'neighborhood', 'condition1', 'condition2', 'bldgtype', 'housestyle', 'roofstyle', 'roofmatl', 'exterior1st', 'exterior2nd', 'masvnrtype', 'exterqual', 'extercond', 'foundation', 'bsmtqual', 'bsmtcond', 'bsmtexposure', 'bsmtfintype1', 'bsmtfintype2', 'heating', 'heatingqc', 'centralair', 'electrical', 'kitchenqual', 'functional', 'fireplacequ', 'garagetype', 'garagefinish', 'garagequal', 'garagecond', 'paveddrive', 'poolqc', 'fence', 'miscfeature', 'saletype', 'salecondition']\n"
     ]
    }
   ],
   "source": [
    "print(f'Continuous variables:\\n{cont_variables}\\n')\n",
    "print(f'Categorical variables:\\n{cat_variables}')"
   ]
  },
  {
   "cell_type": "markdown",
   "metadata": {},
   "source": [
    "Remove `'id'` column from `cont_variables` since this column isn't a variable."
   ]
  },
  {
   "cell_type": "code",
   "execution_count": 9,
   "metadata": {},
   "outputs": [],
   "source": [
    "cont_variables.remove('id')"
   ]
  },
  {
   "cell_type": "code",
   "execution_count": 10,
   "metadata": {},
   "outputs": [
    {
     "name": "stdout",
     "output_type": "stream",
     "text": [
      "['mssubclass', 'lotfrontage', 'lotarea', 'overallqual', 'overallcond', 'yearbuilt', 'yearremodadd', 'masvnrarea', 'bsmtfinsf1', 'bsmtfinsf2', 'bsmtunfsf', 'totalbsmtsf', 'firstflrsf', 'secondflrsf', 'lowqualfinsf', 'grlivarea', 'bsmtfullbath', 'bsmthalfbath', 'fullbath', 'halfbath', 'bedroomabvgr', 'kitchenabvgr', 'totrmsabvgrd', 'fireplaces', 'garageyrblt', 'garagecars', 'garagearea', 'wooddecksf', 'openporchsf', 'enclosedporch', 'threessnporch', 'screenporch', 'poolarea', 'miscval', 'mosold', 'yrsold', 'saleprice']\n"
     ]
    }
   ],
   "source": [
    "print(cont_variables)"
   ]
  },
  {
   "cell_type": "markdown",
   "metadata": {},
   "source": [
    "### Year variables\n",
    "Convert year variables into durations (ages)."
   ]
  },
  {
   "cell_type": "code",
   "execution_count": 11,
   "metadata": {},
   "outputs": [],
   "source": [
    "year_columns = ['garageyrblt', 'yearremodadd', 'yearbuilt', 'yrsold']\n",
    "age_columns = ['garageage', 'remodage', 'age', 'yrsoffmk']"
   ]
  },
  {
   "cell_type": "code",
   "execution_count": 12,
   "metadata": {},
   "outputs": [],
   "source": [
    "df_clean = df.copy()"
   ]
  },
  {
   "cell_type": "code",
   "execution_count": 13,
   "metadata": {},
   "outputs": [],
   "source": [
    "df_clean['garageyrblt'].fillna(value=2019, inplace=True)\n",
    "df_clean = df_clean.astype({'garageyrblt': 'int64'})"
   ]
  },
  {
   "cell_type": "code",
   "execution_count": 14,
   "metadata": {},
   "outputs": [],
   "source": [
    "for i, year_type in enumerate(year_columns):\n",
    "    \n",
    "    df_clean[age_columns[i]] = 2019 - df_clean[year_type]"
   ]
  },
  {
   "cell_type": "code",
   "execution_count": 15,
   "metadata": {},
   "outputs": [
    {
     "name": "stdout",
     "output_type": "stream",
     "text": [
      "<class 'pandas.core.frame.DataFrame'>\n",
      "RangeIndex: 1460 entries, 0 to 1459\n",
      "Data columns (total 4 columns):\n",
      "garageage    1460 non-null int64\n",
      "remodage     1460 non-null int64\n",
      "age          1460 non-null int64\n",
      "yrsoffmk     1460 non-null int64\n",
      "dtypes: int64(4)\n",
      "memory usage: 45.7 KB\n"
     ]
    }
   ],
   "source": [
    "df_clean.loc[:, age_columns].info()"
   ]
  },
  {
   "cell_type": "code",
   "execution_count": 16,
   "metadata": {},
   "outputs": [
    {
     "data": {
      "text/html": [
       "<div>\n",
       "<style scoped>\n",
       "    .dataframe tbody tr th:only-of-type {\n",
       "        vertical-align: middle;\n",
       "    }\n",
       "\n",
       "    .dataframe tbody tr th {\n",
       "        vertical-align: top;\n",
       "    }\n",
       "\n",
       "    .dataframe thead th {\n",
       "        text-align: right;\n",
       "    }\n",
       "</style>\n",
       "<table border=\"1\" class=\"dataframe\">\n",
       "  <thead>\n",
       "    <tr style=\"text-align: right;\">\n",
       "      <th></th>\n",
       "      <th>count</th>\n",
       "      <th>mean</th>\n",
       "      <th>std</th>\n",
       "      <th>min</th>\n",
       "      <th>25%</th>\n",
       "      <th>50%</th>\n",
       "      <th>75%</th>\n",
       "      <th>max</th>\n",
       "    </tr>\n",
       "  </thead>\n",
       "  <tbody>\n",
       "    <tr>\n",
       "      <th>garageage</th>\n",
       "      <td>1460.0</td>\n",
       "      <td>38.247260</td>\n",
       "      <td>25.724002</td>\n",
       "      <td>0.0</td>\n",
       "      <td>16.0</td>\n",
       "      <td>34.5</td>\n",
       "      <td>57.0</td>\n",
       "      <td>119.0</td>\n",
       "    </tr>\n",
       "    <tr>\n",
       "      <th>remodage</th>\n",
       "      <td>1460.0</td>\n",
       "      <td>34.134247</td>\n",
       "      <td>20.645407</td>\n",
       "      <td>9.0</td>\n",
       "      <td>15.0</td>\n",
       "      <td>25.0</td>\n",
       "      <td>52.0</td>\n",
       "      <td>69.0</td>\n",
       "    </tr>\n",
       "    <tr>\n",
       "      <th>age</th>\n",
       "      <td>1460.0</td>\n",
       "      <td>47.732192</td>\n",
       "      <td>30.202904</td>\n",
       "      <td>9.0</td>\n",
       "      <td>19.0</td>\n",
       "      <td>46.0</td>\n",
       "      <td>65.0</td>\n",
       "      <td>147.0</td>\n",
       "    </tr>\n",
       "    <tr>\n",
       "      <th>yrsoffmk</th>\n",
       "      <td>1460.0</td>\n",
       "      <td>11.184247</td>\n",
       "      <td>1.328095</td>\n",
       "      <td>9.0</td>\n",
       "      <td>10.0</td>\n",
       "      <td>11.0</td>\n",
       "      <td>12.0</td>\n",
       "      <td>13.0</td>\n",
       "    </tr>\n",
       "  </tbody>\n",
       "</table>\n",
       "</div>"
      ],
      "text/plain": [
       "            count       mean        std  min   25%   50%   75%    max\n",
       "garageage  1460.0  38.247260  25.724002  0.0  16.0  34.5  57.0  119.0\n",
       "remodage   1460.0  34.134247  20.645407  9.0  15.0  25.0  52.0   69.0\n",
       "age        1460.0  47.732192  30.202904  9.0  19.0  46.0  65.0  147.0\n",
       "yrsoffmk   1460.0  11.184247   1.328095  9.0  10.0  11.0  12.0   13.0"
      ]
     },
     "execution_count": 16,
     "metadata": {},
     "output_type": "execute_result"
    }
   ],
   "source": [
    "df_clean.loc[:, age_columns].describe().T"
   ]
  },
  {
   "cell_type": "markdown",
   "metadata": {},
   "source": [
    "Drop year columns, keeping only the age columns."
   ]
  },
  {
   "cell_type": "code",
   "execution_count": 17,
   "metadata": {},
   "outputs": [],
   "source": [
    "df_clean.drop(year_columns, axis=1, inplace=True)"
   ]
  },
  {
   "cell_type": "markdown",
   "metadata": {},
   "source": [
    "Update continuous variables list."
   ]
  },
  {
   "cell_type": "code",
   "execution_count": 18,
   "metadata": {},
   "outputs": [],
   "source": [
    "cont_variables = [x for x in cont_variables if x not in year_columns]\n",
    "cont_variables += age_columns"
   ]
  },
  {
   "cell_type": "markdown",
   "metadata": {},
   "source": [
    "### Unique categories\n",
    "Print unique categories."
   ]
  },
  {
   "cell_type": "code",
   "execution_count": 19,
   "metadata": {},
   "outputs": [
    {
     "name": "stdout",
     "output_type": "stream",
     "text": [
      "mszoning: ['RL' 'RM' 'C (all)' 'FV' 'RH']\n",
      "street: ['Pave' 'Grvl']\n",
      "alley: [None 'Grvl' 'Pave']\n",
      "lotshape: ['Reg' 'IR1' 'IR2' 'IR3']\n",
      "landcontour: ['Lvl' 'Bnk' 'Low' 'HLS']\n",
      "utilities: ['AllPub' 'NoSeWa']\n",
      "lotconfig: ['Inside' 'FR2' 'Corner' 'CulDSac' 'FR3']\n",
      "landslope: ['Gtl' 'Mod' 'Sev']\n",
      "neighborhood: ['CollgCr' 'Veenker' 'Crawfor' 'NoRidge' 'Mitchel' 'Somerst' 'NWAmes'\n",
      " 'OldTown' 'BrkSide' 'Sawyer' 'NridgHt' 'NAmes' 'SawyerW' 'IDOTRR'\n",
      " 'MeadowV' 'Edwards' 'Timber' 'Gilbert' 'StoneBr' 'ClearCr' 'NPkVill'\n",
      " 'Blmngtn' 'BrDale' 'SWISU' 'Blueste']\n",
      "condition1: ['Norm' 'Feedr' 'PosN' 'Artery' 'RRAe' 'RRNn' 'RRAn' 'PosA' 'RRNe']\n",
      "condition2: ['Norm' 'Artery' 'RRNn' 'Feedr' 'PosN' 'PosA' 'RRAn' 'RRAe']\n",
      "bldgtype: ['1Fam' '2fmCon' 'Duplex' 'TwnhsE' 'Twnhs']\n",
      "housestyle: ['2Story' '1Story' '1.5Fin' '1.5Unf' 'SFoyer' 'SLvl' '2.5Unf' '2.5Fin']\n",
      "roofstyle: ['Gable' 'Hip' 'Gambrel' 'Mansard' 'Flat' 'Shed']\n",
      "roofmatl: ['CompShg' 'WdShngl' 'Metal' 'WdShake' 'Membran' 'Tar&Grv' 'Roll'\n",
      " 'ClyTile']\n",
      "exterior1st: ['VinylSd' 'MetalSd' 'Wd Sdng' 'HdBoard' 'BrkFace' 'WdShing' 'CemntBd'\n",
      " 'Plywood' 'AsbShng' 'Stucco' 'BrkComm' 'AsphShn' 'Stone' 'ImStucc'\n",
      " 'CBlock']\n",
      "exterior2nd: ['VinylSd' 'MetalSd' 'Wd Shng' 'HdBoard' 'Plywood' 'Wd Sdng' 'CmentBd'\n",
      " 'BrkFace' 'Stucco' 'AsbShng' 'Brk Cmn' 'ImStucc' 'AsphShn' 'Stone'\n",
      " 'Other' 'CBlock']\n",
      "masvnrtype: ['BrkFace' 'None' 'Stone' 'BrkCmn' None]\n",
      "exterqual: ['Gd' 'TA' 'Ex' 'Fa']\n",
      "extercond: ['TA' 'Gd' 'Fa' 'Po' 'Ex']\n",
      "foundation: ['PConc' 'CBlock' 'BrkTil' 'Wood' 'Slab' 'Stone']\n",
      "bsmtqual: ['Gd' 'TA' 'Ex' None 'Fa']\n",
      "bsmtcond: ['TA' 'Gd' None 'Fa' 'Po']\n",
      "bsmtexposure: ['No' 'Gd' 'Mn' 'Av' None]\n",
      "bsmtfintype1: ['GLQ' 'ALQ' 'Unf' 'Rec' 'BLQ' None 'LwQ']\n",
      "bsmtfintype2: ['Unf' 'BLQ' None 'ALQ' 'Rec' 'LwQ' 'GLQ']\n",
      "heating: ['GasA' 'GasW' 'Grav' 'Wall' 'OthW' 'Floor']\n",
      "heatingqc: ['Ex' 'Gd' 'TA' 'Fa' 'Po']\n",
      "centralair: ['Y' 'N']\n",
      "electrical: ['SBrkr' 'FuseF' 'FuseA' 'FuseP' 'Mix' None]\n",
      "kitchenqual: ['Gd' 'TA' 'Ex' 'Fa']\n",
      "functional: ['Typ' 'Min1' 'Maj1' 'Min2' 'Mod' 'Maj2' 'Sev']\n",
      "fireplacequ: [None 'TA' 'Gd' 'Fa' 'Ex' 'Po']\n",
      "garagetype: ['Attchd' 'Detchd' 'BuiltIn' 'CarPort' None 'Basment' '2Types']\n",
      "garagefinish: ['RFn' 'Unf' 'Fin' None]\n",
      "garagequal: ['TA' 'Fa' 'Gd' None 'Ex' 'Po']\n",
      "garagecond: ['TA' 'Fa' None 'Gd' 'Po' 'Ex']\n",
      "paveddrive: ['Y' 'N' 'P']\n",
      "poolqc: [None 'Ex' 'Fa' 'Gd']\n",
      "fence: [None 'MnPrv' 'GdWo' 'GdPrv' 'MnWw']\n",
      "miscfeature: [None 'Shed' 'Gar2' 'Othr' 'TenC']\n",
      "saletype: ['WD' 'New' 'COD' 'ConLD' 'ConLI' 'CWD' 'ConLw' 'Con' 'Oth']\n",
      "salecondition: ['Normal' 'Abnorml' 'Partial' 'AdjLand' 'Alloca' 'Family']\n"
     ]
    }
   ],
   "source": [
    "hp.print_unique_categories(df, cat_variables)"
   ]
  },
  {
   "cell_type": "markdown",
   "metadata": {},
   "source": [
    "### Missing categories\n",
    "The missing category columns are labeled at `None`. I will replace these with `\"None\"`."
   ]
  },
  {
   "cell_type": "code",
   "execution_count": 20,
   "metadata": {},
   "outputs": [],
   "source": [
    "df_clean = hp.fill_missing_categories(df_clean, cat_variables)"
   ]
  },
  {
   "cell_type": "code",
   "execution_count": 21,
   "metadata": {},
   "outputs": [
    {
     "name": "stdout",
     "output_type": "stream",
     "text": [
      "<class 'pandas.core.frame.DataFrame'>\n",
      "RangeIndex: 1460 entries, 0 to 1459\n",
      "Data columns (total 43 columns):\n",
      "mszoning         1460 non-null object\n",
      "street           1460 non-null object\n",
      "alley            1460 non-null object\n",
      "lotshape         1460 non-null object\n",
      "landcontour      1460 non-null object\n",
      "utilities        1460 non-null object\n",
      "lotconfig        1460 non-null object\n",
      "landslope        1460 non-null object\n",
      "neighborhood     1460 non-null object\n",
      "condition1       1460 non-null object\n",
      "condition2       1460 non-null object\n",
      "bldgtype         1460 non-null object\n",
      "housestyle       1460 non-null object\n",
      "roofstyle        1460 non-null object\n",
      "roofmatl         1460 non-null object\n",
      "exterior1st      1460 non-null object\n",
      "exterior2nd      1460 non-null object\n",
      "masvnrtype       1460 non-null object\n",
      "exterqual        1460 non-null object\n",
      "extercond        1460 non-null object\n",
      "foundation       1460 non-null object\n",
      "bsmtqual         1460 non-null object\n",
      "bsmtcond         1460 non-null object\n",
      "bsmtexposure     1460 non-null object\n",
      "bsmtfintype1     1460 non-null object\n",
      "bsmtfintype2     1460 non-null object\n",
      "heating          1460 non-null object\n",
      "heatingqc        1460 non-null object\n",
      "centralair       1460 non-null object\n",
      "electrical       1460 non-null object\n",
      "kitchenqual      1460 non-null object\n",
      "functional       1460 non-null object\n",
      "fireplacequ      1460 non-null object\n",
      "garagetype       1460 non-null object\n",
      "garagefinish     1460 non-null object\n",
      "garagequal       1460 non-null object\n",
      "garagecond       1460 non-null object\n",
      "paveddrive       1460 non-null object\n",
      "poolqc           1460 non-null object\n",
      "fence            1460 non-null object\n",
      "miscfeature      1460 non-null object\n",
      "saletype         1460 non-null object\n",
      "salecondition    1460 non-null object\n",
      "dtypes: object(43)\n",
      "memory usage: 490.5+ KB\n"
     ]
    }
   ],
   "source": [
    "df_clean.loc[:, cat_variables].info()"
   ]
  },
  {
   "cell_type": "markdown",
   "metadata": {},
   "source": [
    "### Missing value fractions"
   ]
  },
  {
   "cell_type": "code",
   "execution_count": 22,
   "metadata": {},
   "outputs": [
    {
     "name": "stdout",
     "output_type": "stream",
     "text": [
      "lotfrontage    17.739726\n",
      "masvnrarea      0.547945\n",
      "dtype: float64\n"
     ]
    }
   ],
   "source": [
    "hp.find_na_columns(df_clean, display_fractions=True)"
   ]
  },
  {
   "cell_type": "code",
   "execution_count": 23,
   "metadata": {},
   "outputs": [],
   "source": [
    "na_fractions = hp.find_na_columns(df_clean)"
   ]
  },
  {
   "cell_type": "code",
   "execution_count": 24,
   "metadata": {},
   "outputs": [
    {
     "data": {
      "text/html": [
       "<div>\n",
       "<style scoped>\n",
       "    .dataframe tbody tr th:only-of-type {\n",
       "        vertical-align: middle;\n",
       "    }\n",
       "\n",
       "    .dataframe tbody tr th {\n",
       "        vertical-align: top;\n",
       "    }\n",
       "\n",
       "    .dataframe thead th {\n",
       "        text-align: right;\n",
       "    }\n",
       "</style>\n",
       "<table border=\"1\" class=\"dataframe\">\n",
       "  <thead>\n",
       "    <tr style=\"text-align: right;\">\n",
       "      <th></th>\n",
       "      <th>count</th>\n",
       "      <th>mean</th>\n",
       "      <th>std</th>\n",
       "      <th>min</th>\n",
       "      <th>25%</th>\n",
       "      <th>50%</th>\n",
       "      <th>75%</th>\n",
       "      <th>max</th>\n",
       "    </tr>\n",
       "  </thead>\n",
       "  <tbody>\n",
       "    <tr>\n",
       "      <th>lotfrontage</th>\n",
       "      <td>1201.0</td>\n",
       "      <td>70.049958</td>\n",
       "      <td>24.284752</td>\n",
       "      <td>21.0</td>\n",
       "      <td>59.0</td>\n",
       "      <td>69.0</td>\n",
       "      <td>80.0</td>\n",
       "      <td>313.0</td>\n",
       "    </tr>\n",
       "    <tr>\n",
       "      <th>masvnrarea</th>\n",
       "      <td>1452.0</td>\n",
       "      <td>103.685262</td>\n",
       "      <td>181.066207</td>\n",
       "      <td>0.0</td>\n",
       "      <td>0.0</td>\n",
       "      <td>0.0</td>\n",
       "      <td>166.0</td>\n",
       "      <td>1600.0</td>\n",
       "    </tr>\n",
       "  </tbody>\n",
       "</table>\n",
       "</div>"
      ],
      "text/plain": [
       "              count        mean         std   min   25%   50%    75%     max\n",
       "lotfrontage  1201.0   70.049958   24.284752  21.0  59.0  69.0   80.0   313.0\n",
       "masvnrarea   1452.0  103.685262  181.066207   0.0   0.0   0.0  166.0  1600.0"
      ]
     },
     "execution_count": 24,
     "metadata": {},
     "output_type": "execute_result"
    }
   ],
   "source": [
    "df_clean.loc[:, na_fractions.index].describe().T"
   ]
  },
  {
   "cell_type": "markdown",
   "metadata": {},
   "source": [
    "Handling each case separately.\n",
    "\n",
    "#### `'lotfrontage'`\n",
    "* Fill missing values with zeros."
   ]
  },
  {
   "cell_type": "code",
   "execution_count": 25,
   "metadata": {},
   "outputs": [],
   "source": [
    "df_clean['lotfrontage'].fillna(value=0, inplace=True)"
   ]
  },
  {
   "cell_type": "markdown",
   "metadata": {},
   "source": [
    "#### `'masvnarea'`\n",
    "* Fill missing values with zeros."
   ]
  },
  {
   "cell_type": "code",
   "execution_count": 26,
   "metadata": {},
   "outputs": [],
   "source": [
    "df_clean['masvnrarea'].fillna(value=0, inplace=True)"
   ]
  },
  {
   "cell_type": "code",
   "execution_count": 27,
   "metadata": {},
   "outputs": [
    {
     "name": "stdout",
     "output_type": "stream",
     "text": [
      "Series([], dtype: float64)\n"
     ]
    }
   ],
   "source": [
    "hp.find_na_columns(df_clean, display_fractions=True)"
   ]
  },
  {
   "cell_type": "markdown",
   "metadata": {},
   "source": [
    "All missing values have now been dealt with."
   ]
  },
  {
   "cell_type": "code",
   "execution_count": 28,
   "metadata": {},
   "outputs": [
    {
     "name": "stdout",
     "output_type": "stream",
     "text": [
      "The dataset size is still 1460.\n"
     ]
    }
   ],
   "source": [
    "print(f'The dataset size is still {len(df_clean)}.')"
   ]
  },
  {
   "cell_type": "code",
   "execution_count": 29,
   "metadata": {},
   "outputs": [
    {
     "data": {
      "text/html": [
       "<div>\n",
       "<style scoped>\n",
       "    .dataframe tbody tr th:only-of-type {\n",
       "        vertical-align: middle;\n",
       "    }\n",
       "\n",
       "    .dataframe tbody tr th {\n",
       "        vertical-align: top;\n",
       "    }\n",
       "\n",
       "    .dataframe thead th {\n",
       "        text-align: right;\n",
       "    }\n",
       "</style>\n",
       "<table border=\"1\" class=\"dataframe\">\n",
       "  <thead>\n",
       "    <tr style=\"text-align: right;\">\n",
       "      <th></th>\n",
       "      <th>count</th>\n",
       "      <th>mean</th>\n",
       "      <th>std</th>\n",
       "      <th>min</th>\n",
       "      <th>25%</th>\n",
       "      <th>50%</th>\n",
       "      <th>75%</th>\n",
       "      <th>max</th>\n",
       "    </tr>\n",
       "  </thead>\n",
       "  <tbody>\n",
       "    <tr>\n",
       "      <th>id</th>\n",
       "      <td>1460.0</td>\n",
       "      <td>730.500000</td>\n",
       "      <td>421.610009</td>\n",
       "      <td>1.0</td>\n",
       "      <td>365.75</td>\n",
       "      <td>730.5</td>\n",
       "      <td>1095.25</td>\n",
       "      <td>1460.0</td>\n",
       "    </tr>\n",
       "    <tr>\n",
       "      <th>mssubclass</th>\n",
       "      <td>1460.0</td>\n",
       "      <td>56.897260</td>\n",
       "      <td>42.300571</td>\n",
       "      <td>20.0</td>\n",
       "      <td>20.00</td>\n",
       "      <td>50.0</td>\n",
       "      <td>70.00</td>\n",
       "      <td>190.0</td>\n",
       "    </tr>\n",
       "    <tr>\n",
       "      <th>lotfrontage</th>\n",
       "      <td>1460.0</td>\n",
       "      <td>57.623288</td>\n",
       "      <td>34.664304</td>\n",
       "      <td>0.0</td>\n",
       "      <td>42.00</td>\n",
       "      <td>63.0</td>\n",
       "      <td>79.00</td>\n",
       "      <td>313.0</td>\n",
       "    </tr>\n",
       "    <tr>\n",
       "      <th>lotarea</th>\n",
       "      <td>1460.0</td>\n",
       "      <td>10516.828082</td>\n",
       "      <td>9981.264932</td>\n",
       "      <td>1300.0</td>\n",
       "      <td>7553.50</td>\n",
       "      <td>9478.5</td>\n",
       "      <td>11601.50</td>\n",
       "      <td>215245.0</td>\n",
       "    </tr>\n",
       "    <tr>\n",
       "      <th>overallqual</th>\n",
       "      <td>1460.0</td>\n",
       "      <td>6.099315</td>\n",
       "      <td>1.382997</td>\n",
       "      <td>1.0</td>\n",
       "      <td>5.00</td>\n",
       "      <td>6.0</td>\n",
       "      <td>7.00</td>\n",
       "      <td>10.0</td>\n",
       "    </tr>\n",
       "    <tr>\n",
       "      <th>overallcond</th>\n",
       "      <td>1460.0</td>\n",
       "      <td>5.575342</td>\n",
       "      <td>1.112799</td>\n",
       "      <td>1.0</td>\n",
       "      <td>5.00</td>\n",
       "      <td>5.0</td>\n",
       "      <td>6.00</td>\n",
       "      <td>9.0</td>\n",
       "    </tr>\n",
       "    <tr>\n",
       "      <th>masvnrarea</th>\n",
       "      <td>1460.0</td>\n",
       "      <td>103.117123</td>\n",
       "      <td>180.731373</td>\n",
       "      <td>0.0</td>\n",
       "      <td>0.00</td>\n",
       "      <td>0.0</td>\n",
       "      <td>164.25</td>\n",
       "      <td>1600.0</td>\n",
       "    </tr>\n",
       "    <tr>\n",
       "      <th>bsmtfinsf1</th>\n",
       "      <td>1460.0</td>\n",
       "      <td>443.639726</td>\n",
       "      <td>456.098091</td>\n",
       "      <td>0.0</td>\n",
       "      <td>0.00</td>\n",
       "      <td>383.5</td>\n",
       "      <td>712.25</td>\n",
       "      <td>5644.0</td>\n",
       "    </tr>\n",
       "    <tr>\n",
       "      <th>bsmtfinsf2</th>\n",
       "      <td>1460.0</td>\n",
       "      <td>46.549315</td>\n",
       "      <td>161.319273</td>\n",
       "      <td>0.0</td>\n",
       "      <td>0.00</td>\n",
       "      <td>0.0</td>\n",
       "      <td>0.00</td>\n",
       "      <td>1474.0</td>\n",
       "    </tr>\n",
       "    <tr>\n",
       "      <th>bsmtunfsf</th>\n",
       "      <td>1460.0</td>\n",
       "      <td>567.240411</td>\n",
       "      <td>441.866955</td>\n",
       "      <td>0.0</td>\n",
       "      <td>223.00</td>\n",
       "      <td>477.5</td>\n",
       "      <td>808.00</td>\n",
       "      <td>2336.0</td>\n",
       "    </tr>\n",
       "    <tr>\n",
       "      <th>totalbsmtsf</th>\n",
       "      <td>1460.0</td>\n",
       "      <td>1057.429452</td>\n",
       "      <td>438.705324</td>\n",
       "      <td>0.0</td>\n",
       "      <td>795.75</td>\n",
       "      <td>991.5</td>\n",
       "      <td>1298.25</td>\n",
       "      <td>6110.0</td>\n",
       "    </tr>\n",
       "    <tr>\n",
       "      <th>firstflrsf</th>\n",
       "      <td>1460.0</td>\n",
       "      <td>1162.626712</td>\n",
       "      <td>386.587738</td>\n",
       "      <td>334.0</td>\n",
       "      <td>882.00</td>\n",
       "      <td>1087.0</td>\n",
       "      <td>1391.25</td>\n",
       "      <td>4692.0</td>\n",
       "    </tr>\n",
       "    <tr>\n",
       "      <th>secondflrsf</th>\n",
       "      <td>1460.0</td>\n",
       "      <td>346.992466</td>\n",
       "      <td>436.528436</td>\n",
       "      <td>0.0</td>\n",
       "      <td>0.00</td>\n",
       "      <td>0.0</td>\n",
       "      <td>728.00</td>\n",
       "      <td>2065.0</td>\n",
       "    </tr>\n",
       "    <tr>\n",
       "      <th>lowqualfinsf</th>\n",
       "      <td>1460.0</td>\n",
       "      <td>5.844521</td>\n",
       "      <td>48.623081</td>\n",
       "      <td>0.0</td>\n",
       "      <td>0.00</td>\n",
       "      <td>0.0</td>\n",
       "      <td>0.00</td>\n",
       "      <td>572.0</td>\n",
       "    </tr>\n",
       "    <tr>\n",
       "      <th>grlivarea</th>\n",
       "      <td>1460.0</td>\n",
       "      <td>1515.463699</td>\n",
       "      <td>525.480383</td>\n",
       "      <td>334.0</td>\n",
       "      <td>1129.50</td>\n",
       "      <td>1464.0</td>\n",
       "      <td>1776.75</td>\n",
       "      <td>5642.0</td>\n",
       "    </tr>\n",
       "    <tr>\n",
       "      <th>bsmtfullbath</th>\n",
       "      <td>1460.0</td>\n",
       "      <td>0.425342</td>\n",
       "      <td>0.518911</td>\n",
       "      <td>0.0</td>\n",
       "      <td>0.00</td>\n",
       "      <td>0.0</td>\n",
       "      <td>1.00</td>\n",
       "      <td>3.0</td>\n",
       "    </tr>\n",
       "    <tr>\n",
       "      <th>bsmthalfbath</th>\n",
       "      <td>1460.0</td>\n",
       "      <td>0.057534</td>\n",
       "      <td>0.238753</td>\n",
       "      <td>0.0</td>\n",
       "      <td>0.00</td>\n",
       "      <td>0.0</td>\n",
       "      <td>0.00</td>\n",
       "      <td>2.0</td>\n",
       "    </tr>\n",
       "    <tr>\n",
       "      <th>fullbath</th>\n",
       "      <td>1460.0</td>\n",
       "      <td>1.565068</td>\n",
       "      <td>0.550916</td>\n",
       "      <td>0.0</td>\n",
       "      <td>1.00</td>\n",
       "      <td>2.0</td>\n",
       "      <td>2.00</td>\n",
       "      <td>3.0</td>\n",
       "    </tr>\n",
       "    <tr>\n",
       "      <th>halfbath</th>\n",
       "      <td>1460.0</td>\n",
       "      <td>0.382877</td>\n",
       "      <td>0.502885</td>\n",
       "      <td>0.0</td>\n",
       "      <td>0.00</td>\n",
       "      <td>0.0</td>\n",
       "      <td>1.00</td>\n",
       "      <td>2.0</td>\n",
       "    </tr>\n",
       "    <tr>\n",
       "      <th>bedroomabvgr</th>\n",
       "      <td>1460.0</td>\n",
       "      <td>2.866438</td>\n",
       "      <td>0.815778</td>\n",
       "      <td>0.0</td>\n",
       "      <td>2.00</td>\n",
       "      <td>3.0</td>\n",
       "      <td>3.00</td>\n",
       "      <td>8.0</td>\n",
       "    </tr>\n",
       "    <tr>\n",
       "      <th>kitchenabvgr</th>\n",
       "      <td>1460.0</td>\n",
       "      <td>1.046575</td>\n",
       "      <td>0.220338</td>\n",
       "      <td>0.0</td>\n",
       "      <td>1.00</td>\n",
       "      <td>1.0</td>\n",
       "      <td>1.00</td>\n",
       "      <td>3.0</td>\n",
       "    </tr>\n",
       "    <tr>\n",
       "      <th>totrmsabvgrd</th>\n",
       "      <td>1460.0</td>\n",
       "      <td>6.517808</td>\n",
       "      <td>1.625393</td>\n",
       "      <td>2.0</td>\n",
       "      <td>5.00</td>\n",
       "      <td>6.0</td>\n",
       "      <td>7.00</td>\n",
       "      <td>14.0</td>\n",
       "    </tr>\n",
       "    <tr>\n",
       "      <th>fireplaces</th>\n",
       "      <td>1460.0</td>\n",
       "      <td>0.613014</td>\n",
       "      <td>0.644666</td>\n",
       "      <td>0.0</td>\n",
       "      <td>0.00</td>\n",
       "      <td>1.0</td>\n",
       "      <td>1.00</td>\n",
       "      <td>3.0</td>\n",
       "    </tr>\n",
       "    <tr>\n",
       "      <th>garagecars</th>\n",
       "      <td>1460.0</td>\n",
       "      <td>1.767123</td>\n",
       "      <td>0.747315</td>\n",
       "      <td>0.0</td>\n",
       "      <td>1.00</td>\n",
       "      <td>2.0</td>\n",
       "      <td>2.00</td>\n",
       "      <td>4.0</td>\n",
       "    </tr>\n",
       "    <tr>\n",
       "      <th>garagearea</th>\n",
       "      <td>1460.0</td>\n",
       "      <td>472.980137</td>\n",
       "      <td>213.804841</td>\n",
       "      <td>0.0</td>\n",
       "      <td>334.50</td>\n",
       "      <td>480.0</td>\n",
       "      <td>576.00</td>\n",
       "      <td>1418.0</td>\n",
       "    </tr>\n",
       "    <tr>\n",
       "      <th>wooddecksf</th>\n",
       "      <td>1460.0</td>\n",
       "      <td>94.244521</td>\n",
       "      <td>125.338794</td>\n",
       "      <td>0.0</td>\n",
       "      <td>0.00</td>\n",
       "      <td>0.0</td>\n",
       "      <td>168.00</td>\n",
       "      <td>857.0</td>\n",
       "    </tr>\n",
       "    <tr>\n",
       "      <th>openporchsf</th>\n",
       "      <td>1460.0</td>\n",
       "      <td>46.660274</td>\n",
       "      <td>66.256028</td>\n",
       "      <td>0.0</td>\n",
       "      <td>0.00</td>\n",
       "      <td>25.0</td>\n",
       "      <td>68.00</td>\n",
       "      <td>547.0</td>\n",
       "    </tr>\n",
       "    <tr>\n",
       "      <th>enclosedporch</th>\n",
       "      <td>1460.0</td>\n",
       "      <td>21.954110</td>\n",
       "      <td>61.119149</td>\n",
       "      <td>0.0</td>\n",
       "      <td>0.00</td>\n",
       "      <td>0.0</td>\n",
       "      <td>0.00</td>\n",
       "      <td>552.0</td>\n",
       "    </tr>\n",
       "    <tr>\n",
       "      <th>threessnporch</th>\n",
       "      <td>1460.0</td>\n",
       "      <td>3.409589</td>\n",
       "      <td>29.317331</td>\n",
       "      <td>0.0</td>\n",
       "      <td>0.00</td>\n",
       "      <td>0.0</td>\n",
       "      <td>0.00</td>\n",
       "      <td>508.0</td>\n",
       "    </tr>\n",
       "    <tr>\n",
       "      <th>screenporch</th>\n",
       "      <td>1460.0</td>\n",
       "      <td>15.060959</td>\n",
       "      <td>55.757415</td>\n",
       "      <td>0.0</td>\n",
       "      <td>0.00</td>\n",
       "      <td>0.0</td>\n",
       "      <td>0.00</td>\n",
       "      <td>480.0</td>\n",
       "    </tr>\n",
       "    <tr>\n",
       "      <th>poolarea</th>\n",
       "      <td>1460.0</td>\n",
       "      <td>2.758904</td>\n",
       "      <td>40.177307</td>\n",
       "      <td>0.0</td>\n",
       "      <td>0.00</td>\n",
       "      <td>0.0</td>\n",
       "      <td>0.00</td>\n",
       "      <td>738.0</td>\n",
       "    </tr>\n",
       "    <tr>\n",
       "      <th>miscval</th>\n",
       "      <td>1460.0</td>\n",
       "      <td>43.489041</td>\n",
       "      <td>496.123024</td>\n",
       "      <td>0.0</td>\n",
       "      <td>0.00</td>\n",
       "      <td>0.0</td>\n",
       "      <td>0.00</td>\n",
       "      <td>15500.0</td>\n",
       "    </tr>\n",
       "    <tr>\n",
       "      <th>mosold</th>\n",
       "      <td>1460.0</td>\n",
       "      <td>6.321918</td>\n",
       "      <td>2.703626</td>\n",
       "      <td>1.0</td>\n",
       "      <td>5.00</td>\n",
       "      <td>6.0</td>\n",
       "      <td>8.00</td>\n",
       "      <td>12.0</td>\n",
       "    </tr>\n",
       "    <tr>\n",
       "      <th>saleprice</th>\n",
       "      <td>1460.0</td>\n",
       "      <td>180921.195890</td>\n",
       "      <td>79442.502883</td>\n",
       "      <td>34900.0</td>\n",
       "      <td>129975.00</td>\n",
       "      <td>163000.0</td>\n",
       "      <td>214000.00</td>\n",
       "      <td>755000.0</td>\n",
       "    </tr>\n",
       "    <tr>\n",
       "      <th>garageage</th>\n",
       "      <td>1460.0</td>\n",
       "      <td>38.247260</td>\n",
       "      <td>25.724002</td>\n",
       "      <td>0.0</td>\n",
       "      <td>16.00</td>\n",
       "      <td>34.5</td>\n",
       "      <td>57.00</td>\n",
       "      <td>119.0</td>\n",
       "    </tr>\n",
       "    <tr>\n",
       "      <th>remodage</th>\n",
       "      <td>1460.0</td>\n",
       "      <td>34.134247</td>\n",
       "      <td>20.645407</td>\n",
       "      <td>9.0</td>\n",
       "      <td>15.00</td>\n",
       "      <td>25.0</td>\n",
       "      <td>52.00</td>\n",
       "      <td>69.0</td>\n",
       "    </tr>\n",
       "    <tr>\n",
       "      <th>age</th>\n",
       "      <td>1460.0</td>\n",
       "      <td>47.732192</td>\n",
       "      <td>30.202904</td>\n",
       "      <td>9.0</td>\n",
       "      <td>19.00</td>\n",
       "      <td>46.0</td>\n",
       "      <td>65.00</td>\n",
       "      <td>147.0</td>\n",
       "    </tr>\n",
       "    <tr>\n",
       "      <th>yrsoffmk</th>\n",
       "      <td>1460.0</td>\n",
       "      <td>11.184247</td>\n",
       "      <td>1.328095</td>\n",
       "      <td>9.0</td>\n",
       "      <td>10.00</td>\n",
       "      <td>11.0</td>\n",
       "      <td>12.00</td>\n",
       "      <td>13.0</td>\n",
       "    </tr>\n",
       "  </tbody>\n",
       "</table>\n",
       "</div>"
      ],
      "text/plain": [
       "                count           mean           std      min        25%  \\\n",
       "id             1460.0     730.500000    421.610009      1.0     365.75   \n",
       "mssubclass     1460.0      56.897260     42.300571     20.0      20.00   \n",
       "lotfrontage    1460.0      57.623288     34.664304      0.0      42.00   \n",
       "lotarea        1460.0   10516.828082   9981.264932   1300.0    7553.50   \n",
       "overallqual    1460.0       6.099315      1.382997      1.0       5.00   \n",
       "overallcond    1460.0       5.575342      1.112799      1.0       5.00   \n",
       "masvnrarea     1460.0     103.117123    180.731373      0.0       0.00   \n",
       "bsmtfinsf1     1460.0     443.639726    456.098091      0.0       0.00   \n",
       "bsmtfinsf2     1460.0      46.549315    161.319273      0.0       0.00   \n",
       "bsmtunfsf      1460.0     567.240411    441.866955      0.0     223.00   \n",
       "totalbsmtsf    1460.0    1057.429452    438.705324      0.0     795.75   \n",
       "firstflrsf     1460.0    1162.626712    386.587738    334.0     882.00   \n",
       "secondflrsf    1460.0     346.992466    436.528436      0.0       0.00   \n",
       "lowqualfinsf   1460.0       5.844521     48.623081      0.0       0.00   \n",
       "grlivarea      1460.0    1515.463699    525.480383    334.0    1129.50   \n",
       "bsmtfullbath   1460.0       0.425342      0.518911      0.0       0.00   \n",
       "bsmthalfbath   1460.0       0.057534      0.238753      0.0       0.00   \n",
       "fullbath       1460.0       1.565068      0.550916      0.0       1.00   \n",
       "halfbath       1460.0       0.382877      0.502885      0.0       0.00   \n",
       "bedroomabvgr   1460.0       2.866438      0.815778      0.0       2.00   \n",
       "kitchenabvgr   1460.0       1.046575      0.220338      0.0       1.00   \n",
       "totrmsabvgrd   1460.0       6.517808      1.625393      2.0       5.00   \n",
       "fireplaces     1460.0       0.613014      0.644666      0.0       0.00   \n",
       "garagecars     1460.0       1.767123      0.747315      0.0       1.00   \n",
       "garagearea     1460.0     472.980137    213.804841      0.0     334.50   \n",
       "wooddecksf     1460.0      94.244521    125.338794      0.0       0.00   \n",
       "openporchsf    1460.0      46.660274     66.256028      0.0       0.00   \n",
       "enclosedporch  1460.0      21.954110     61.119149      0.0       0.00   \n",
       "threessnporch  1460.0       3.409589     29.317331      0.0       0.00   \n",
       "screenporch    1460.0      15.060959     55.757415      0.0       0.00   \n",
       "poolarea       1460.0       2.758904     40.177307      0.0       0.00   \n",
       "miscval        1460.0      43.489041    496.123024      0.0       0.00   \n",
       "mosold         1460.0       6.321918      2.703626      1.0       5.00   \n",
       "saleprice      1460.0  180921.195890  79442.502883  34900.0  129975.00   \n",
       "garageage      1460.0      38.247260     25.724002      0.0      16.00   \n",
       "remodage       1460.0      34.134247     20.645407      9.0      15.00   \n",
       "age            1460.0      47.732192     30.202904      9.0      19.00   \n",
       "yrsoffmk       1460.0      11.184247      1.328095      9.0      10.00   \n",
       "\n",
       "                    50%        75%       max  \n",
       "id                730.5    1095.25    1460.0  \n",
       "mssubclass         50.0      70.00     190.0  \n",
       "lotfrontage        63.0      79.00     313.0  \n",
       "lotarea          9478.5   11601.50  215245.0  \n",
       "overallqual         6.0       7.00      10.0  \n",
       "overallcond         5.0       6.00       9.0  \n",
       "masvnrarea          0.0     164.25    1600.0  \n",
       "bsmtfinsf1        383.5     712.25    5644.0  \n",
       "bsmtfinsf2          0.0       0.00    1474.0  \n",
       "bsmtunfsf         477.5     808.00    2336.0  \n",
       "totalbsmtsf       991.5    1298.25    6110.0  \n",
       "firstflrsf       1087.0    1391.25    4692.0  \n",
       "secondflrsf         0.0     728.00    2065.0  \n",
       "lowqualfinsf        0.0       0.00     572.0  \n",
       "grlivarea        1464.0    1776.75    5642.0  \n",
       "bsmtfullbath        0.0       1.00       3.0  \n",
       "bsmthalfbath        0.0       0.00       2.0  \n",
       "fullbath            2.0       2.00       3.0  \n",
       "halfbath            0.0       1.00       2.0  \n",
       "bedroomabvgr        3.0       3.00       8.0  \n",
       "kitchenabvgr        1.0       1.00       3.0  \n",
       "totrmsabvgrd        6.0       7.00      14.0  \n",
       "fireplaces          1.0       1.00       3.0  \n",
       "garagecars          2.0       2.00       4.0  \n",
       "garagearea        480.0     576.00    1418.0  \n",
       "wooddecksf          0.0     168.00     857.0  \n",
       "openporchsf        25.0      68.00     547.0  \n",
       "enclosedporch       0.0       0.00     552.0  \n",
       "threessnporch       0.0       0.00     508.0  \n",
       "screenporch         0.0       0.00     480.0  \n",
       "poolarea            0.0       0.00     738.0  \n",
       "miscval             0.0       0.00   15500.0  \n",
       "mosold              6.0       8.00      12.0  \n",
       "saleprice      163000.0  214000.00  755000.0  \n",
       "garageage          34.5      57.00     119.0  \n",
       "remodage           25.0      52.00      69.0  \n",
       "age                46.0      65.00     147.0  \n",
       "yrsoffmk           11.0      12.00      13.0  "
      ]
     },
     "execution_count": 29,
     "metadata": {},
     "output_type": "execute_result"
    }
   ],
   "source": [
    "df_clean.describe().T"
   ]
  },
  {
   "cell_type": "markdown",
   "metadata": {},
   "source": [
    "### Standardize\n",
    "Standarize all continous variables."
   ]
  },
  {
   "cell_type": "code",
   "execution_count": 30,
   "metadata": {},
   "outputs": [
    {
     "data": {
      "text/plain": [
       "['mssubclass',\n",
       " 'lotfrontage',\n",
       " 'lotarea',\n",
       " 'overallqual',\n",
       " 'overallcond',\n",
       " 'masvnrarea',\n",
       " 'bsmtfinsf1',\n",
       " 'bsmtfinsf2',\n",
       " 'bsmtunfsf',\n",
       " 'totalbsmtsf',\n",
       " 'firstflrsf',\n",
       " 'secondflrsf',\n",
       " 'lowqualfinsf',\n",
       " 'grlivarea',\n",
       " 'bsmtfullbath',\n",
       " 'bsmthalfbath',\n",
       " 'fullbath',\n",
       " 'halfbath',\n",
       " 'bedroomabvgr',\n",
       " 'kitchenabvgr',\n",
       " 'totrmsabvgrd',\n",
       " 'fireplaces',\n",
       " 'garagecars',\n",
       " 'garagearea',\n",
       " 'wooddecksf',\n",
       " 'openporchsf',\n",
       " 'enclosedporch',\n",
       " 'threessnporch',\n",
       " 'screenporch',\n",
       " 'poolarea',\n",
       " 'miscval',\n",
       " 'mosold',\n",
       " 'saleprice',\n",
       " 'garageage',\n",
       " 'remodage',\n",
       " 'age',\n",
       " 'yrsoffmk']"
      ]
     },
     "execution_count": 30,
     "metadata": {},
     "output_type": "execute_result"
    }
   ],
   "source": [
    "cont_variables"
   ]
  },
  {
   "cell_type": "code",
   "execution_count": 31,
   "metadata": {},
   "outputs": [],
   "source": [
    "stand_variables = [f'{x}_sd' for x in cont_variables]\n",
    "df_clean = hp.standardize(df_clean, cont_variables)"
   ]
  },
  {
   "cell_type": "markdown",
   "metadata": {},
   "source": [
    "### Feature Selection\n",
    "#### Continous Variables\n",
    "Select variables that are correlated with saleprice."
   ]
  },
  {
   "cell_type": "code",
   "execution_count": 32,
   "metadata": {},
   "outputs": [],
   "source": [
    "df_correlated = df_clean.loc[:, stand_variables].corr()\n",
    "correlated_with_saleprice = df_correlated['saleprice_sd'].sort_values()"
   ]
  },
  {
   "cell_type": "code",
   "execution_count": 33,
   "metadata": {},
   "outputs": [
    {
     "data": {
      "text/plain": [
       "age_sd             -0.522897\n",
       "remodage_sd        -0.507101\n",
       "garageage_sd       -0.353196\n",
       "kitchenabvgr_sd    -0.135907\n",
       "enclosedporch_sd   -0.128578\n",
       "mssubclass_sd      -0.084284\n",
       "overallcond_sd     -0.077856\n",
       "lowqualfinsf_sd    -0.025606\n",
       "miscval_sd         -0.021190\n",
       "bsmthalfbath_sd    -0.016844\n",
       "bsmtfinsf2_sd      -0.011378\n",
       "yrsoffmk_sd         0.028923\n",
       "threessnporch_sd    0.044584\n",
       "mosold_sd           0.046432\n",
       "poolarea_sd         0.092404\n",
       "screenporch_sd      0.111447\n",
       "bedroomabvgr_sd     0.168213\n",
       "lotfrontage_sd      0.209624\n",
       "bsmtunfsf_sd        0.214479\n",
       "bsmtfullbath_sd     0.227122\n",
       "lotarea_sd          0.263843\n",
       "halfbath_sd         0.284108\n",
       "openporchsf_sd      0.315856\n",
       "secondflrsf_sd      0.319334\n",
       "wooddecksf_sd       0.324413\n",
       "bsmtfinsf1_sd       0.386420\n",
       "fireplaces_sd       0.466929\n",
       "masvnrarea_sd       0.472614\n",
       "totrmsabvgrd_sd     0.533723\n",
       "fullbath_sd         0.560664\n",
       "firstflrsf_sd       0.605852\n",
       "totalbsmtsf_sd      0.613581\n",
       "garagearea_sd       0.623431\n",
       "garagecars_sd       0.640409\n",
       "grlivarea_sd        0.708624\n",
       "overallqual_sd      0.790982\n",
       "saleprice_sd        1.000000\n",
       "Name: saleprice_sd, dtype: float64"
      ]
     },
     "execution_count": 33,
     "metadata": {},
     "output_type": "execute_result"
    }
   ],
   "source": [
    "correlated_with_saleprice"
   ]
  },
  {
   "cell_type": "code",
   "execution_count": 34,
   "metadata": {},
   "outputs": [],
   "source": [
    "correlated_features = correlated_with_saleprice[correlated_with_saleprice > 0.6].index.tolist()\n",
    "correlated_features.remove('saleprice_sd')"
   ]
  },
  {
   "cell_type": "code",
   "execution_count": 35,
   "metadata": {},
   "outputs": [
    {
     "name": "stdout",
     "output_type": "stream",
     "text": [
      "Features that have at least a 0.6 correlations with sale price are:\n",
      "['firstflrsf_sd', 'totalbsmtsf_sd', 'garagearea_sd', 'garagecars_sd', 'grlivarea_sd', 'overallqual_sd']\n"
     ]
    }
   ],
   "source": [
    "print(f'Features that have at least a 0.6 correlations with sale price are:\\n{correlated_features}')"
   ]
  },
  {
   "cell_type": "markdown",
   "metadata": {},
   "source": [
    "Create list of continous variables that includes the selected continous variable features as well as `'saleprice_sd'`."
   ]
  },
  {
   "cell_type": "code",
   "execution_count": 36,
   "metadata": {},
   "outputs": [],
   "source": [
    "correlated_variables = correlated_features\n",
    "correlated_variables.append('saleprice_sd')"
   ]
  },
  {
   "cell_type": "code",
   "execution_count": 37,
   "metadata": {},
   "outputs": [
    {
     "data": {
      "text/html": [
       "<div>\n",
       "<style scoped>\n",
       "    .dataframe tbody tr th:only-of-type {\n",
       "        vertical-align: middle;\n",
       "    }\n",
       "\n",
       "    .dataframe tbody tr th {\n",
       "        vertical-align: top;\n",
       "    }\n",
       "\n",
       "    .dataframe thead th {\n",
       "        text-align: right;\n",
       "    }\n",
       "</style>\n",
       "<table border=\"1\" class=\"dataframe\">\n",
       "  <thead>\n",
       "    <tr style=\"text-align: right;\">\n",
       "      <th></th>\n",
       "      <th>count</th>\n",
       "      <th>mean</th>\n",
       "      <th>std</th>\n",
       "      <th>min</th>\n",
       "      <th>25%</th>\n",
       "      <th>50%</th>\n",
       "      <th>75%</th>\n",
       "      <th>max</th>\n",
       "    </tr>\n",
       "  </thead>\n",
       "  <tbody>\n",
       "    <tr>\n",
       "      <th>firstflrsf_sd</th>\n",
       "      <td>1460.0</td>\n",
       "      <td>6.205082e-17</td>\n",
       "      <td>1.0</td>\n",
       "      <td>-2.143438</td>\n",
       "      <td>-0.725907</td>\n",
       "      <td>-0.195626</td>\n",
       "      <td>0.591388</td>\n",
       "      <td>9.129553</td>\n",
       "    </tr>\n",
       "    <tr>\n",
       "      <th>totalbsmtsf_sd</th>\n",
       "      <td>1460.0</td>\n",
       "      <td>2.555034e-16</td>\n",
       "      <td>1.0</td>\n",
       "      <td>-2.410341</td>\n",
       "      <td>-0.596481</td>\n",
       "      <td>-0.150282</td>\n",
       "      <td>0.548935</td>\n",
       "      <td>11.517003</td>\n",
       "    </tr>\n",
       "    <tr>\n",
       "      <th>garagearea_sd</th>\n",
       "      <td>1460.0</td>\n",
       "      <td>-9.733462e-18</td>\n",
       "      <td>1.0</td>\n",
       "      <td>-2.212205</td>\n",
       "      <td>-0.647694</td>\n",
       "      <td>0.032833</td>\n",
       "      <td>0.481841</td>\n",
       "      <td>4.420012</td>\n",
       "    </tr>\n",
       "    <tr>\n",
       "      <th>garagecars_sd</th>\n",
       "      <td>1460.0</td>\n",
       "      <td>5.353404e-17</td>\n",
       "      <td>1.0</td>\n",
       "      <td>-2.364630</td>\n",
       "      <td>-1.026506</td>\n",
       "      <td>0.311618</td>\n",
       "      <td>0.311618</td>\n",
       "      <td>2.987865</td>\n",
       "    </tr>\n",
       "    <tr>\n",
       "      <th>grlivarea_sd</th>\n",
       "      <td>1460.0</td>\n",
       "      <td>-1.411352e-16</td>\n",
       "      <td>1.0</td>\n",
       "      <td>-2.248350</td>\n",
       "      <td>-0.734497</td>\n",
       "      <td>-0.097936</td>\n",
       "      <td>0.497233</td>\n",
       "      <td>7.852884</td>\n",
       "    </tr>\n",
       "    <tr>\n",
       "      <th>overallqual_sd</th>\n",
       "      <td>1460.0</td>\n",
       "      <td>1.143682e-16</td>\n",
       "      <td>1.0</td>\n",
       "      <td>-3.687150</td>\n",
       "      <td>-0.794879</td>\n",
       "      <td>-0.071812</td>\n",
       "      <td>0.651256</td>\n",
       "      <td>2.820459</td>\n",
       "    </tr>\n",
       "    <tr>\n",
       "      <th>saleprice_sd</th>\n",
       "      <td>1460.0</td>\n",
       "      <td>1.387018e-16</td>\n",
       "      <td>1.0</td>\n",
       "      <td>-1.838074</td>\n",
       "      <td>-0.641296</td>\n",
       "      <td>-0.225587</td>\n",
       "      <td>0.416387</td>\n",
       "      <td>7.226343</td>\n",
       "    </tr>\n",
       "  </tbody>\n",
       "</table>\n",
       "</div>"
      ],
      "text/plain": [
       "                 count          mean  std       min       25%       50%  \\\n",
       "firstflrsf_sd   1460.0  6.205082e-17  1.0 -2.143438 -0.725907 -0.195626   \n",
       "totalbsmtsf_sd  1460.0  2.555034e-16  1.0 -2.410341 -0.596481 -0.150282   \n",
       "garagearea_sd   1460.0 -9.733462e-18  1.0 -2.212205 -0.647694  0.032833   \n",
       "garagecars_sd   1460.0  5.353404e-17  1.0 -2.364630 -1.026506  0.311618   \n",
       "grlivarea_sd    1460.0 -1.411352e-16  1.0 -2.248350 -0.734497 -0.097936   \n",
       "overallqual_sd  1460.0  1.143682e-16  1.0 -3.687150 -0.794879 -0.071812   \n",
       "saleprice_sd    1460.0  1.387018e-16  1.0 -1.838074 -0.641296 -0.225587   \n",
       "\n",
       "                     75%        max  \n",
       "firstflrsf_sd   0.591388   9.129553  \n",
       "totalbsmtsf_sd  0.548935  11.517003  \n",
       "garagearea_sd   0.481841   4.420012  \n",
       "garagecars_sd   0.311618   2.987865  \n",
       "grlivarea_sd    0.497233   7.852884  \n",
       "overallqual_sd  0.651256   2.820459  \n",
       "saleprice_sd    0.416387   7.226343  "
      ]
     },
     "execution_count": 37,
     "metadata": {},
     "output_type": "execute_result"
    }
   ],
   "source": [
    "df_clean.loc[:, correlated_variables].describe().T"
   ]
  },
  {
   "cell_type": "markdown",
   "metadata": {},
   "source": [
    "#### Catagorical variables\n",
    "Use chi-squared technique to remove categorical variables that are not correlated with `'saleprice'`."
   ]
  },
  {
   "cell_type": "code",
   "execution_count": 38,
   "metadata": {
    "scrolled": false
   },
   "outputs": [
    {
     "name": "stdout",
     "output_type": "stream",
     "text": [
      "Chi-squared Statistics:\n",
      "* mszoning: chi2 = 3147.891, p-value = 4.348e-11, dof = 2648\n",
      "* street: chi2 = 888.313, p-value = 8.339e-09, dof = 662\n",
      "* lotshape: chi2 = 2446.235, p-value = 4.725e-12, dof = 1986\n",
      "* lotconfig: chi2 = 2771.985, p-value = 4.581e-02, dof = 2648\n",
      "* neighborhood: chi2 = 16898.756, p-value = 1.365e-08, dof = 15888\n",
      "* masvnrtype: chi2 = 2293.470, p-value = 1.598e-06, dof = 1986\n",
      "* exterqual: chi2 = 2849.767, p-value = 4.250e-34, dof = 1986\n",
      "* extercond: chi2 = 3192.840, p-value = 9.870e-13, dof = 2648\n",
      "* foundation: chi2 = 3669.192, p-value = 9.665e-06, dof = 3310\n",
      "* bsmtqual: chi2 = 3552.151, p-value = 1.192e-29, dof = 2648\n",
      "* bsmtcond: chi2 = 3386.500, p-value = 4.710e-21, dof = 2648\n",
      "* bsmtexposure: chi2 = 3230.188, p-value = 3.496e-14, dof = 2648\n",
      "* heating: chi2 = 4201.388, p-value = 2.478e-24, dof = 3310\n",
      "* centralair: chi2 = 826.857, p-value = 1.226e-05, dof = 662\n",
      "* kitchenqual: chi2 = 2811.800, p-value = 1.282e-31, dof = 1986\n",
      "* fireplacequ: chi2 = 3763.900, p-value = 4.388e-08, dof = 3310\n",
      "* garagefinish: chi2 = 2405.203, p-value = 2.129e-10, dof = 1986\n",
      "* saletype: chi2 = 6099.794, p-value = 4.561e-14, dof = 5296\n",
      "* salecondition: chi2 = 3950.739, p-value = 5.613e-14, dof = 3310\n"
     ]
    }
   ],
   "source": [
    "cat_features = hp.select_cat_variables(df_clean, 'saleprice', cat_variables, alpha=0.05)"
   ]
  },
  {
   "cell_type": "code",
   "execution_count": 39,
   "metadata": {},
   "outputs": [
    {
     "data": {
      "text/plain": [
       "['mszoning',\n",
       " 'street',\n",
       " 'lotshape',\n",
       " 'lotconfig',\n",
       " 'neighborhood',\n",
       " 'masvnrtype',\n",
       " 'exterqual',\n",
       " 'extercond',\n",
       " 'foundation',\n",
       " 'bsmtqual',\n",
       " 'bsmtcond',\n",
       " 'bsmtexposure',\n",
       " 'heating',\n",
       " 'centralair',\n",
       " 'kitchenqual',\n",
       " 'fireplacequ',\n",
       " 'garagefinish',\n",
       " 'saletype',\n",
       " 'salecondition']"
      ]
     },
     "execution_count": 39,
     "metadata": {},
     "output_type": "execute_result"
    }
   ],
   "source": [
    "cat_features"
   ]
  },
  {
   "cell_type": "code",
   "execution_count": 40,
   "metadata": {},
   "outputs": [
    {
     "name": "stdout",
     "output_type": "stream",
     "text": [
      "mszoning: ['RL' 'RM' 'C (all)' 'FV' 'RH']\n",
      "street: ['Pave' 'Grvl']\n",
      "lotshape: ['Reg' 'IR1' 'IR2' 'IR3']\n",
      "lotconfig: ['Inside' 'FR2' 'Corner' 'CulDSac' 'FR3']\n",
      "neighborhood: ['CollgCr' 'Veenker' 'Crawfor' 'NoRidge' 'Mitchel' 'Somerst' 'NWAmes'\n",
      " 'OldTown' 'BrkSide' 'Sawyer' 'NridgHt' 'NAmes' 'SawyerW' 'IDOTRR'\n",
      " 'MeadowV' 'Edwards' 'Timber' 'Gilbert' 'StoneBr' 'ClearCr' 'NPkVill'\n",
      " 'Blmngtn' 'BrDale' 'SWISU' 'Blueste']\n",
      "masvnrtype: ['BrkFace' 'None' 'Stone' 'BrkCmn']\n",
      "exterqual: ['Gd' 'TA' 'Ex' 'Fa']\n",
      "extercond: ['TA' 'Gd' 'Fa' 'Po' 'Ex']\n",
      "foundation: ['PConc' 'CBlock' 'BrkTil' 'Wood' 'Slab' 'Stone']\n",
      "bsmtqual: ['Gd' 'TA' 'Ex' 'None' 'Fa']\n",
      "bsmtcond: ['TA' 'Gd' 'None' 'Fa' 'Po']\n",
      "bsmtexposure: ['No' 'Gd' 'Mn' 'Av' 'None']\n",
      "heating: ['GasA' 'GasW' 'Grav' 'Wall' 'OthW' 'Floor']\n",
      "centralair: ['Y' 'N']\n",
      "kitchenqual: ['Gd' 'TA' 'Ex' 'Fa']\n",
      "fireplacequ: ['None' 'TA' 'Gd' 'Fa' 'Ex' 'Po']\n",
      "garagefinish: ['RFn' 'Unf' 'Fin' 'None']\n",
      "saletype: ['WD' 'New' 'COD' 'ConLD' 'ConLI' 'CWD' 'ConLw' 'Con' 'Oth']\n",
      "salecondition: ['Normal' 'Abnorml' 'Partial' 'AdjLand' 'Alloca' 'Family']\n"
     ]
    }
   ],
   "source": [
    "hp.print_unique_categories(df_clean, cat_features)"
   ]
  },
  {
   "cell_type": "markdown",
   "metadata": {},
   "source": [
    "Convert categorical features into dummy, one-hot-encoded variables."
   ]
  },
  {
   "cell_type": "code",
   "execution_count": 41,
   "metadata": {},
   "outputs": [],
   "source": [
    "df_clean = hp.dummyify(df_clean, cat_features)"
   ]
  },
  {
   "cell_type": "markdown",
   "metadata": {},
   "source": [
    "#### Correlated categorical features\n",
    "Inspect correlated dummy features and remove them."
   ]
  },
  {
   "cell_type": "code",
   "execution_count": 42,
   "metadata": {},
   "outputs": [],
   "source": [
    "dummy_features = [x for x in df_clean.columns.tolist() if x[-3:] == '_oh']\n",
    "df_cat_correalated = df_clean.loc[:, dummy_features].corr().copy()"
   ]
  },
  {
   "cell_type": "code",
   "execution_count": 43,
   "metadata": {},
   "outputs": [
    {
     "data": {
      "text/html": [
       "<div>\n",
       "<style scoped>\n",
       "    .dataframe tbody tr th:only-of-type {\n",
       "        vertical-align: middle;\n",
       "    }\n",
       "\n",
       "    .dataframe tbody tr th {\n",
       "        vertical-align: top;\n",
       "    }\n",
       "\n",
       "    .dataframe thead th {\n",
       "        text-align: right;\n",
       "    }\n",
       "</style>\n",
       "<table border=\"1\" class=\"dataframe\">\n",
       "  <thead>\n",
       "    <tr style=\"text-align: right;\">\n",
       "      <th></th>\n",
       "      <th>mszoning_RL_oh</th>\n",
       "      <th>mszoning_RM_oh</th>\n",
       "      <th>masvnrtype_BrkFace_oh</th>\n",
       "      <th>masvnrtype_None_oh</th>\n",
       "      <th>exterqual_Gd_oh</th>\n",
       "      <th>exterqual_TA_oh</th>\n",
       "      <th>extercond_Gd_oh</th>\n",
       "      <th>extercond_TA_oh</th>\n",
       "      <th>kitchenqual_Gd_oh</th>\n",
       "      <th>kitchenqual_TA_oh</th>\n",
       "    </tr>\n",
       "  </thead>\n",
       "  <tbody>\n",
       "    <tr>\n",
       "      <th>mszoning_RL_oh</th>\n",
       "      <td>NaN</td>\n",
       "      <td>-0.808585</td>\n",
       "      <td>NaN</td>\n",
       "      <td>NaN</td>\n",
       "      <td>NaN</td>\n",
       "      <td>NaN</td>\n",
       "      <td>NaN</td>\n",
       "      <td>NaN</td>\n",
       "      <td>NaN</td>\n",
       "      <td>NaN</td>\n",
       "    </tr>\n",
       "    <tr>\n",
       "      <th>mszoning_RM_oh</th>\n",
       "      <td>-0.808585</td>\n",
       "      <td>NaN</td>\n",
       "      <td>NaN</td>\n",
       "      <td>NaN</td>\n",
       "      <td>NaN</td>\n",
       "      <td>NaN</td>\n",
       "      <td>NaN</td>\n",
       "      <td>NaN</td>\n",
       "      <td>NaN</td>\n",
       "      <td>NaN</td>\n",
       "    </tr>\n",
       "    <tr>\n",
       "      <th>masvnrtype_BrkFace_oh</th>\n",
       "      <td>NaN</td>\n",
       "      <td>NaN</td>\n",
       "      <td>NaN</td>\n",
       "      <td>-0.806337</td>\n",
       "      <td>NaN</td>\n",
       "      <td>NaN</td>\n",
       "      <td>NaN</td>\n",
       "      <td>NaN</td>\n",
       "      <td>NaN</td>\n",
       "      <td>NaN</td>\n",
       "    </tr>\n",
       "    <tr>\n",
       "      <th>masvnrtype_None_oh</th>\n",
       "      <td>NaN</td>\n",
       "      <td>NaN</td>\n",
       "      <td>-0.806337</td>\n",
       "      <td>NaN</td>\n",
       "      <td>NaN</td>\n",
       "      <td>NaN</td>\n",
       "      <td>NaN</td>\n",
       "      <td>NaN</td>\n",
       "      <td>NaN</td>\n",
       "      <td>NaN</td>\n",
       "    </tr>\n",
       "    <tr>\n",
       "      <th>exterqual_Gd_oh</th>\n",
       "      <td>NaN</td>\n",
       "      <td>NaN</td>\n",
       "      <td>NaN</td>\n",
       "      <td>NaN</td>\n",
       "      <td>NaN</td>\n",
       "      <td>-0.906121</td>\n",
       "      <td>NaN</td>\n",
       "      <td>NaN</td>\n",
       "      <td>NaN</td>\n",
       "      <td>NaN</td>\n",
       "    </tr>\n",
       "    <tr>\n",
       "      <th>exterqual_TA_oh</th>\n",
       "      <td>NaN</td>\n",
       "      <td>NaN</td>\n",
       "      <td>NaN</td>\n",
       "      <td>NaN</td>\n",
       "      <td>-0.906121</td>\n",
       "      <td>NaN</td>\n",
       "      <td>NaN</td>\n",
       "      <td>NaN</td>\n",
       "      <td>NaN</td>\n",
       "      <td>NaN</td>\n",
       "    </tr>\n",
       "    <tr>\n",
       "      <th>extercond_Gd_oh</th>\n",
       "      <td>NaN</td>\n",
       "      <td>NaN</td>\n",
       "      <td>NaN</td>\n",
       "      <td>NaN</td>\n",
       "      <td>NaN</td>\n",
       "      <td>NaN</td>\n",
       "      <td>NaN</td>\n",
       "      <td>-0.894567</td>\n",
       "      <td>NaN</td>\n",
       "      <td>NaN</td>\n",
       "    </tr>\n",
       "    <tr>\n",
       "      <th>extercond_TA_oh</th>\n",
       "      <td>NaN</td>\n",
       "      <td>NaN</td>\n",
       "      <td>NaN</td>\n",
       "      <td>NaN</td>\n",
       "      <td>NaN</td>\n",
       "      <td>NaN</td>\n",
       "      <td>-0.894567</td>\n",
       "      <td>NaN</td>\n",
       "      <td>NaN</td>\n",
       "      <td>NaN</td>\n",
       "    </tr>\n",
       "    <tr>\n",
       "      <th>kitchenqual_Gd_oh</th>\n",
       "      <td>NaN</td>\n",
       "      <td>NaN</td>\n",
       "      <td>NaN</td>\n",
       "      <td>NaN</td>\n",
       "      <td>NaN</td>\n",
       "      <td>NaN</td>\n",
       "      <td>NaN</td>\n",
       "      <td>NaN</td>\n",
       "      <td>NaN</td>\n",
       "      <td>-0.824457</td>\n",
       "    </tr>\n",
       "    <tr>\n",
       "      <th>kitchenqual_TA_oh</th>\n",
       "      <td>NaN</td>\n",
       "      <td>NaN</td>\n",
       "      <td>NaN</td>\n",
       "      <td>NaN</td>\n",
       "      <td>NaN</td>\n",
       "      <td>NaN</td>\n",
       "      <td>NaN</td>\n",
       "      <td>NaN</td>\n",
       "      <td>-0.824457</td>\n",
       "      <td>NaN</td>\n",
       "    </tr>\n",
       "  </tbody>\n",
       "</table>\n",
       "</div>"
      ],
      "text/plain": [
       "                       mszoning_RL_oh  mszoning_RM_oh  masvnrtype_BrkFace_oh  \\\n",
       "mszoning_RL_oh                    NaN       -0.808585                    NaN   \n",
       "mszoning_RM_oh              -0.808585             NaN                    NaN   \n",
       "masvnrtype_BrkFace_oh             NaN             NaN                    NaN   \n",
       "masvnrtype_None_oh                NaN             NaN              -0.806337   \n",
       "exterqual_Gd_oh                   NaN             NaN                    NaN   \n",
       "exterqual_TA_oh                   NaN             NaN                    NaN   \n",
       "extercond_Gd_oh                   NaN             NaN                    NaN   \n",
       "extercond_TA_oh                   NaN             NaN                    NaN   \n",
       "kitchenqual_Gd_oh                 NaN             NaN                    NaN   \n",
       "kitchenqual_TA_oh                 NaN             NaN                    NaN   \n",
       "\n",
       "                       masvnrtype_None_oh  exterqual_Gd_oh  exterqual_TA_oh  \\\n",
       "mszoning_RL_oh                        NaN              NaN              NaN   \n",
       "mszoning_RM_oh                        NaN              NaN              NaN   \n",
       "masvnrtype_BrkFace_oh           -0.806337              NaN              NaN   \n",
       "masvnrtype_None_oh                    NaN              NaN              NaN   \n",
       "exterqual_Gd_oh                       NaN              NaN        -0.906121   \n",
       "exterqual_TA_oh                       NaN        -0.906121              NaN   \n",
       "extercond_Gd_oh                       NaN              NaN              NaN   \n",
       "extercond_TA_oh                       NaN              NaN              NaN   \n",
       "kitchenqual_Gd_oh                     NaN              NaN              NaN   \n",
       "kitchenqual_TA_oh                     NaN              NaN              NaN   \n",
       "\n",
       "                       extercond_Gd_oh  extercond_TA_oh  kitchenqual_Gd_oh  \\\n",
       "mszoning_RL_oh                     NaN              NaN                NaN   \n",
       "mszoning_RM_oh                     NaN              NaN                NaN   \n",
       "masvnrtype_BrkFace_oh              NaN              NaN                NaN   \n",
       "masvnrtype_None_oh                 NaN              NaN                NaN   \n",
       "exterqual_Gd_oh                    NaN              NaN                NaN   \n",
       "exterqual_TA_oh                    NaN              NaN                NaN   \n",
       "extercond_Gd_oh                    NaN        -0.894567                NaN   \n",
       "extercond_TA_oh              -0.894567              NaN                NaN   \n",
       "kitchenqual_Gd_oh                  NaN              NaN                NaN   \n",
       "kitchenqual_TA_oh                  NaN              NaN          -0.824457   \n",
       "\n",
       "                       kitchenqual_TA_oh  \n",
       "mszoning_RL_oh                       NaN  \n",
       "mszoning_RM_oh                       NaN  \n",
       "masvnrtype_BrkFace_oh                NaN  \n",
       "masvnrtype_None_oh                   NaN  \n",
       "exterqual_Gd_oh                      NaN  \n",
       "exterqual_TA_oh                      NaN  \n",
       "extercond_Gd_oh                      NaN  \n",
       "extercond_TA_oh                      NaN  \n",
       "kitchenqual_Gd_oh              -0.824457  \n",
       "kitchenqual_TA_oh                    NaN  "
      ]
     },
     "execution_count": 43,
     "metadata": {},
     "output_type": "execute_result"
    }
   ],
   "source": [
    "df_cat_correalated[df_cat_correalated < -0.8].dropna(how='all').dropna(how='all', axis=1)"
   ]
  },
  {
   "cell_type": "code",
   "execution_count": 44,
   "metadata": {},
   "outputs": [],
   "source": [
    "df_positive_corr_cats = df_cat_correalated[df_cat_correalated < -0.8].dropna(how='all').dropna(how='all',\n",
    "                                                                                               axis=1).copy()"
   ]
  },
  {
   "cell_type": "code",
   "execution_count": 45,
   "metadata": {},
   "outputs": [
    {
     "data": {
      "text/html": [
       "<div>\n",
       "<style scoped>\n",
       "    .dataframe tbody tr th:only-of-type {\n",
       "        vertical-align: middle;\n",
       "    }\n",
       "\n",
       "    .dataframe tbody tr th {\n",
       "        vertical-align: top;\n",
       "    }\n",
       "\n",
       "    .dataframe thead th {\n",
       "        text-align: right;\n",
       "    }\n",
       "</style>\n",
       "<table border=\"1\" class=\"dataframe\">\n",
       "  <thead>\n",
       "    <tr style=\"text-align: right;\">\n",
       "      <th></th>\n",
       "      <th>mszoning_FV_oh</th>\n",
       "      <th>neighborhood_Somerst_oh</th>\n",
       "      <th>foundation_Slab_oh</th>\n",
       "      <th>bsmtqual_None_oh</th>\n",
       "      <th>bsmtcond_None_oh</th>\n",
       "      <th>bsmtexposure_None_oh</th>\n",
       "      <th>saletype_New_oh</th>\n",
       "      <th>salecondition_Partial_oh</th>\n",
       "    </tr>\n",
       "  </thead>\n",
       "  <tbody>\n",
       "    <tr>\n",
       "      <th>mszoning_FV_oh</th>\n",
       "      <td>NaN</td>\n",
       "      <td>0.862807</td>\n",
       "      <td>NaN</td>\n",
       "      <td>NaN</td>\n",
       "      <td>NaN</td>\n",
       "      <td>NaN</td>\n",
       "      <td>NaN</td>\n",
       "      <td>NaN</td>\n",
       "    </tr>\n",
       "    <tr>\n",
       "      <th>neighborhood_Somerst_oh</th>\n",
       "      <td>0.862807</td>\n",
       "      <td>NaN</td>\n",
       "      <td>NaN</td>\n",
       "      <td>NaN</td>\n",
       "      <td>NaN</td>\n",
       "      <td>NaN</td>\n",
       "      <td>NaN</td>\n",
       "      <td>NaN</td>\n",
       "    </tr>\n",
       "    <tr>\n",
       "      <th>foundation_Slab_oh</th>\n",
       "      <td>NaN</td>\n",
       "      <td>NaN</td>\n",
       "      <td>NaN</td>\n",
       "      <td>0.801733</td>\n",
       "      <td>0.801733</td>\n",
       "      <td>NaN</td>\n",
       "      <td>NaN</td>\n",
       "      <td>NaN</td>\n",
       "    </tr>\n",
       "    <tr>\n",
       "      <th>bsmtqual_None_oh</th>\n",
       "      <td>NaN</td>\n",
       "      <td>NaN</td>\n",
       "      <td>0.801733</td>\n",
       "      <td>NaN</td>\n",
       "      <td>NaN</td>\n",
       "      <td>0.986408</td>\n",
       "      <td>NaN</td>\n",
       "      <td>NaN</td>\n",
       "    </tr>\n",
       "    <tr>\n",
       "      <th>bsmtcond_None_oh</th>\n",
       "      <td>NaN</td>\n",
       "      <td>NaN</td>\n",
       "      <td>0.801733</td>\n",
       "      <td>NaN</td>\n",
       "      <td>NaN</td>\n",
       "      <td>0.986408</td>\n",
       "      <td>NaN</td>\n",
       "      <td>NaN</td>\n",
       "    </tr>\n",
       "    <tr>\n",
       "      <th>bsmtexposure_None_oh</th>\n",
       "      <td>NaN</td>\n",
       "      <td>NaN</td>\n",
       "      <td>NaN</td>\n",
       "      <td>0.986408</td>\n",
       "      <td>0.986408</td>\n",
       "      <td>NaN</td>\n",
       "      <td>NaN</td>\n",
       "      <td>NaN</td>\n",
       "    </tr>\n",
       "    <tr>\n",
       "      <th>saletype_New_oh</th>\n",
       "      <td>NaN</td>\n",
       "      <td>NaN</td>\n",
       "      <td>NaN</td>\n",
       "      <td>NaN</td>\n",
       "      <td>NaN</td>\n",
       "      <td>NaN</td>\n",
       "      <td>NaN</td>\n",
       "      <td>0.986819</td>\n",
       "    </tr>\n",
       "    <tr>\n",
       "      <th>salecondition_Partial_oh</th>\n",
       "      <td>NaN</td>\n",
       "      <td>NaN</td>\n",
       "      <td>NaN</td>\n",
       "      <td>NaN</td>\n",
       "      <td>NaN</td>\n",
       "      <td>NaN</td>\n",
       "      <td>0.986819</td>\n",
       "      <td>NaN</td>\n",
       "    </tr>\n",
       "  </tbody>\n",
       "</table>\n",
       "</div>"
      ],
      "text/plain": [
       "                          mszoning_FV_oh  neighborhood_Somerst_oh  \\\n",
       "mszoning_FV_oh                       NaN                 0.862807   \n",
       "neighborhood_Somerst_oh         0.862807                      NaN   \n",
       "foundation_Slab_oh                   NaN                      NaN   \n",
       "bsmtqual_None_oh                     NaN                      NaN   \n",
       "bsmtcond_None_oh                     NaN                      NaN   \n",
       "bsmtexposure_None_oh                 NaN                      NaN   \n",
       "saletype_New_oh                      NaN                      NaN   \n",
       "salecondition_Partial_oh             NaN                      NaN   \n",
       "\n",
       "                          foundation_Slab_oh  bsmtqual_None_oh  \\\n",
       "mszoning_FV_oh                           NaN               NaN   \n",
       "neighborhood_Somerst_oh                  NaN               NaN   \n",
       "foundation_Slab_oh                       NaN          0.801733   \n",
       "bsmtqual_None_oh                    0.801733               NaN   \n",
       "bsmtcond_None_oh                    0.801733               NaN   \n",
       "bsmtexposure_None_oh                     NaN          0.986408   \n",
       "saletype_New_oh                          NaN               NaN   \n",
       "salecondition_Partial_oh                 NaN               NaN   \n",
       "\n",
       "                          bsmtcond_None_oh  bsmtexposure_None_oh  \\\n",
       "mszoning_FV_oh                         NaN                   NaN   \n",
       "neighborhood_Somerst_oh                NaN                   NaN   \n",
       "foundation_Slab_oh                0.801733                   NaN   \n",
       "bsmtqual_None_oh                       NaN              0.986408   \n",
       "bsmtcond_None_oh                       NaN              0.986408   \n",
       "bsmtexposure_None_oh              0.986408                   NaN   \n",
       "saletype_New_oh                        NaN                   NaN   \n",
       "salecondition_Partial_oh               NaN                   NaN   \n",
       "\n",
       "                          saletype_New_oh  salecondition_Partial_oh  \n",
       "mszoning_FV_oh                        NaN                       NaN  \n",
       "neighborhood_Somerst_oh               NaN                       NaN  \n",
       "foundation_Slab_oh                    NaN                       NaN  \n",
       "bsmtqual_None_oh                      NaN                       NaN  \n",
       "bsmtcond_None_oh                      NaN                       NaN  \n",
       "bsmtexposure_None_oh                  NaN                       NaN  \n",
       "saletype_New_oh                       NaN                  0.986819  \n",
       "salecondition_Partial_oh         0.986819                       NaN  "
      ]
     },
     "execution_count": 45,
     "metadata": {},
     "output_type": "execute_result"
    }
   ],
   "source": [
    "df_cat_correalated[(df_cat_correalated > 0.8) & (df_cat_correalated < 1.0)].dropna(how='all').dropna(how='all', axis=1)"
   ]
  },
  {
   "cell_type": "code",
   "execution_count": 46,
   "metadata": {},
   "outputs": [],
   "source": [
    "df_negative_corr_cats = df_cat_correalated[(df_cat_correalated > 0.8) & \n",
    "                                       (df_cat_correalated < 1.0)].dropna(how='all').dropna(how='all', \n",
    "                                                                                            axis=1).copy()"
   ]
  },
  {
   "cell_type": "code",
   "execution_count": 47,
   "metadata": {},
   "outputs": [],
   "source": [
    "correlated_cats = df_positive_corr_cats.columns.tolist() + df_negative_corr_cats.columns.tolist()\n",
    "dummy_features = [x for x in dummy_features if x not in correlated_cats]"
   ]
  },
  {
   "cell_type": "markdown",
   "metadata": {},
   "source": [
    "### Normality\n",
    "Check standardized continous variable for normality. Correct normality using Box-Cox transformation."
   ]
  },
  {
   "cell_type": "code",
   "execution_count": 48,
   "metadata": {},
   "outputs": [
    {
     "data": {
      "image/png": "[encoded data removed]",
      "text/plain": [
       "<Figure size 864x432 with 1 Axes>"
      ]
     },
     "metadata": {
      "needs_background": "light"
     },
     "output_type": "display_data"
    }
   ],
   "source": [
    "hp.look_for_outliers(df_clean, correlated_variables)"
   ]
  },
  {
   "cell_type": "code",
   "execution_count": 49,
   "metadata": {},
   "outputs": [
    {
     "name": "stdout",
     "output_type": "stream",
     "text": [
      "Normal test results:\n",
      "* firstflrsf_sd: normal_stat = 461.007, p-value = 0.0000.\n",
      "* totalbsmtsf_sd: normal_stat = 622.895, p-value = 0.0000.\n",
      "* garagearea_sd: normal_stat = 34.041, p-value = 0.0000.\n",
      "* garagecars_sd: normal_stat = 29.925, p-value = 0.0000.\n",
      "* grlivarea_sd: normal_stat = 437.120, p-value = 0.0000.\n",
      "* overallqual_sd: normal_stat = 11.905, p-value = 0.0026.\n",
      "* saleprice_sd: normal_stat = 610.836, p-value = 0.0000.\n"
     ]
    }
   ],
   "source": [
    "hp.check_for_normality(df_clean, correlated_variables)"
   ]
  },
  {
   "cell_type": "markdown",
   "metadata": {},
   "source": [
    "**Observation:** All continous variables are not normal."
   ]
  },
  {
   "cell_type": "code",
   "execution_count": 50,
   "metadata": {},
   "outputs": [],
   "source": [
    "bc_variables = [f'{x}_bc' for x in correlated_variables]\n",
    "df_clean = hp.apply_boxcox_transform(df_clean, correlated_variables)"
   ]
  },
  {
   "cell_type": "code",
   "execution_count": 51,
   "metadata": {},
   "outputs": [
    {
     "data": {
      "image/png": "[encoded data removed]",
      "text/plain": [
       "<Figure size 864x432 with 1 Axes>"
      ]
     },
     "metadata": {
      "needs_background": "light"
     },
     "output_type": "display_data"
    }
   ],
   "source": [
    "hp.look_for_outliers(df_clean, bc_variables)"
   ]
  },
  {
   "cell_type": "code",
   "execution_count": 52,
   "metadata": {},
   "outputs": [
    {
     "name": "stdout",
     "output_type": "stream",
     "text": [
      "Normal test results:\n",
      "* firstflrsf_sd_bc: normal_stat = 0.702, p-value = 0.7039.\n",
      "* totalbsmtsf_sd_bc: normal_stat = 145.808, p-value = 0.0000.\n",
      "* garagearea_sd_bc: normal_stat = 24.068, p-value = 0.0000.\n",
      "* garagecars_sd_bc: normal_stat = 1.357, p-value = 0.5073.\n",
      "* grlivarea_sd_bc: normal_stat = 1.865, p-value = 0.3935.\n",
      "* overallqual_sd_bc: normal_stat = 3.444, p-value = 0.1787.\n",
      "* saleprice_sd_bc: normal_stat = 13.180, p-value = 0.0014.\n"
     ]
    }
   ],
   "source": [
    "hp.check_for_normality(df_clean, bc_variables)"
   ]
  },
  {
   "cell_type": "markdown",
   "metadata": {},
   "source": [
    "**Observations:** Now only three continous variables are not normal: `'totalbsmtsf_sd_bc'`, `'garagearea_sd_bc'`, `'saleprice_sd_bc'`. The outlier haven't been removed. I will remove them and see if that helps."
   ]
  },
  {
   "cell_type": "markdown",
   "metadata": {},
   "source": [
    "### Outliers"
   ]
  },
  {
   "cell_type": "code",
   "execution_count": 53,
   "metadata": {},
   "outputs": [],
   "source": [
    "# Correct outliers using Tukey method\n",
    "tk_corrected = [f'{x}_tk' for x in bc_variables]\n",
    "df_clean = hp.correct_outliers(df_clean, bc_variables)"
   ]
  },
  {
   "cell_type": "code",
   "execution_count": 54,
   "metadata": {},
   "outputs": [
    {
     "data": {
      "image/png": "[encoded data removed]",
      "text/plain": [
       "<Figure size 864x432 with 1 Axes>"
      ]
     },
     "metadata": {
      "needs_background": "light"
     },
     "output_type": "display_data"
    }
   ],
   "source": [
    "hp.look_for_outliers(df_clean, tk_corrected)"
   ]
  },
  {
   "cell_type": "markdown",
   "metadata": {},
   "source": [
    "Check for normality again."
   ]
  },
  {
   "cell_type": "code",
   "execution_count": 55,
   "metadata": {},
   "outputs": [
    {
     "name": "stdout",
     "output_type": "stream",
     "text": [
      "Normal test results:\n",
      "* firstflrsf_sd_bc_tk: normal_stat = 3.188, p-value = 0.2032.\n",
      "* totalbsmtsf_sd_bc_tk: normal_stat = 4.687, p-value = 0.0960.\n",
      "* garagearea_sd_bc_tk: normal_stat = 9.270, p-value = 0.0097.\n",
      "* garagecars_sd_bc_tk: normal_stat = 4.061, p-value = 0.1312.\n",
      "* grlivarea_sd_bc_tk: normal_stat = 5.014, p-value = 0.0815.\n",
      "* overallqual_sd_bc_tk: normal_stat = 3.420, p-value = 0.1808.\n",
      "* saleprice_sd_bc_tk: normal_stat = 1.433, p-value = 0.4884.\n"
     ]
    }
   ],
   "source": [
    "hp.check_for_normality(df_clean, tk_corrected)"
   ]
  },
  {
   "cell_type": "markdown",
   "metadata": {},
   "source": [
    "**Observations:** Now only `'garagearea_sd_bc_tk'` is not normal."
   ]
  },
  {
   "cell_type": "markdown",
   "metadata": {},
   "source": [
    "## Data Exploration\n",
    "Collect categorical features and contious variables."
   ]
  },
  {
   "cell_type": "code",
   "execution_count": 56,
   "metadata": {},
   "outputs": [],
   "source": [
    "cont_corrected_features = ['firstflrsf_sd_bc_tk', 'totalbsmtsf_sd_bc_tk', 'garagearea_sd_bc_tk', \n",
    "                           'garagecars_sd_bc_tk', 'grlivarea_sd_bc_tk', 'overallqual_sd_bc_tk']"
   ]
  },
  {
   "cell_type": "code",
   "execution_count": 57,
   "metadata": {},
   "outputs": [
    {
     "data": {
      "text/html": [
       "<div>\n",
       "<style scoped>\n",
       "    .dataframe tbody tr th:only-of-type {\n",
       "        vertical-align: middle;\n",
       "    }\n",
       "\n",
       "    .dataframe tbody tr th {\n",
       "        vertical-align: top;\n",
       "    }\n",
       "\n",
       "    .dataframe thead th {\n",
       "        text-align: right;\n",
       "    }\n",
       "</style>\n",
       "<table border=\"1\" class=\"dataframe\">\n",
       "  <thead>\n",
       "    <tr style=\"text-align: right;\">\n",
       "      <th></th>\n",
       "      <th>firstflrsf_sd_bc_tk</th>\n",
       "      <th>totalbsmtsf_sd_bc_tk</th>\n",
       "      <th>garagearea_sd_bc_tk</th>\n",
       "      <th>garagecars_sd_bc_tk</th>\n",
       "      <th>grlivarea_sd_bc_tk</th>\n",
       "      <th>overallqual_sd_bc_tk</th>\n",
       "    </tr>\n",
       "  </thead>\n",
       "  <tbody>\n",
       "    <tr>\n",
       "      <th>firstflrsf_sd_bc_tk</th>\n",
       "      <td>1.000000</td>\n",
       "      <td>0.789215</td>\n",
       "      <td>0.479357</td>\n",
       "      <td>0.457413</td>\n",
       "      <td>0.535177</td>\n",
       "      <td>0.444495</td>\n",
       "    </tr>\n",
       "    <tr>\n",
       "      <th>totalbsmtsf_sd_bc_tk</th>\n",
       "      <td>0.789215</td>\n",
       "      <td>1.000000</td>\n",
       "      <td>0.479922</td>\n",
       "      <td>0.466705</td>\n",
       "      <td>0.416480</td>\n",
       "      <td>0.530761</td>\n",
       "    </tr>\n",
       "    <tr>\n",
       "      <th>garagearea_sd_bc_tk</th>\n",
       "      <td>0.479357</td>\n",
       "      <td>0.479922</td>\n",
       "      <td>1.000000</td>\n",
       "      <td>0.893855</td>\n",
       "      <td>0.474322</td>\n",
       "      <td>0.562538</td>\n",
       "    </tr>\n",
       "    <tr>\n",
       "      <th>garagecars_sd_bc_tk</th>\n",
       "      <td>0.457413</td>\n",
       "      <td>0.466705</td>\n",
       "      <td>0.893855</td>\n",
       "      <td>1.000000</td>\n",
       "      <td>0.506500</td>\n",
       "      <td>0.611141</td>\n",
       "    </tr>\n",
       "    <tr>\n",
       "      <th>grlivarea_sd_bc_tk</th>\n",
       "      <td>0.535177</td>\n",
       "      <td>0.416480</td>\n",
       "      <td>0.474322</td>\n",
       "      <td>0.506500</td>\n",
       "      <td>1.000000</td>\n",
       "      <td>0.608304</td>\n",
       "    </tr>\n",
       "    <tr>\n",
       "      <th>overallqual_sd_bc_tk</th>\n",
       "      <td>0.444495</td>\n",
       "      <td>0.530761</td>\n",
       "      <td>0.562538</td>\n",
       "      <td>0.611141</td>\n",
       "      <td>0.608304</td>\n",
       "      <td>1.000000</td>\n",
       "    </tr>\n",
       "  </tbody>\n",
       "</table>\n",
       "</div>"
      ],
      "text/plain": [
       "                      firstflrsf_sd_bc_tk  totalbsmtsf_sd_bc_tk  \\\n",
       "firstflrsf_sd_bc_tk              1.000000              0.789215   \n",
       "totalbsmtsf_sd_bc_tk             0.789215              1.000000   \n",
       "garagearea_sd_bc_tk              0.479357              0.479922   \n",
       "garagecars_sd_bc_tk              0.457413              0.466705   \n",
       "grlivarea_sd_bc_tk               0.535177              0.416480   \n",
       "overallqual_sd_bc_tk             0.444495              0.530761   \n",
       "\n",
       "                      garagearea_sd_bc_tk  garagecars_sd_bc_tk  \\\n",
       "firstflrsf_sd_bc_tk              0.479357             0.457413   \n",
       "totalbsmtsf_sd_bc_tk             0.479922             0.466705   \n",
       "garagearea_sd_bc_tk              1.000000             0.893855   \n",
       "garagecars_sd_bc_tk              0.893855             1.000000   \n",
       "grlivarea_sd_bc_tk               0.474322             0.506500   \n",
       "overallqual_sd_bc_tk             0.562538             0.611141   \n",
       "\n",
       "                      grlivarea_sd_bc_tk  overallqual_sd_bc_tk  \n",
       "firstflrsf_sd_bc_tk             0.535177              0.444495  \n",
       "totalbsmtsf_sd_bc_tk            0.416480              0.530761  \n",
       "garagearea_sd_bc_tk             0.474322              0.562538  \n",
       "garagecars_sd_bc_tk             0.506500              0.611141  \n",
       "grlivarea_sd_bc_tk              1.000000              0.608304  \n",
       "overallqual_sd_bc_tk            0.608304              1.000000  "
      ]
     },
     "execution_count": 57,
     "metadata": {},
     "output_type": "execute_result"
    }
   ],
   "source": [
    "df_clean.loc[:, cont_corrected_features].corr()"
   ]
  },
  {
   "cell_type": "code",
   "execution_count": 58,
   "metadata": {},
   "outputs": [
    {
     "data": {
      "image/png": "[encoded data removed]",
      "text/plain": [
       "<Figure size 576x504 with 2 Axes>"
      ]
     },
     "metadata": {
      "needs_background": "light"
     },
     "output_type": "display_data"
    }
   ],
   "source": [
    "f, axes = plt.subplots(1, 1, figsize=(8, 7))\n",
    "sns.heatmap(df_clean.loc[:, cont_corrected_features].corr(), ax=axes)\n",
    "plt.show()"
   ]
  },
  {
   "cell_type": "markdown",
   "metadata": {},
   "source": [
    "**Observations:** `'garagearea_sd_bc_tk'` and `'garagecars_sd_bc_tk'` have a high correlation. I will create a new variable, `'garage_car_area'` by multiplying these two variables."
   ]
  },
  {
   "cell_type": "code",
   "execution_count": 59,
   "metadata": {},
   "outputs": [],
   "source": [
    "df_clean['garage_car_area'] = df_clean['garagearea_sd_bc_tk']*df_clean['garagecars_sd_bc_tk']"
   ]
  },
  {
   "cell_type": "code",
   "execution_count": 60,
   "metadata": {},
   "outputs": [],
   "source": [
    "# Add the new feature\n",
    "cont_corrected_features.append('garage_car_area')\n",
    "\n",
    "# # Drop garagearea_sd_bc_tk and garagecars_sd_bc_tk\n",
    "cont_corrected_features.remove('garagearea_sd_bc_tk')\n",
    "cont_corrected_features.remove('garagecars_sd_bc_tk')"
   ]
  },
  {
   "cell_type": "code",
   "execution_count": 61,
   "metadata": {},
   "outputs": [
    {
     "data": {
      "text/html": [
       "<div>\n",
       "<style scoped>\n",
       "    .dataframe tbody tr th:only-of-type {\n",
       "        vertical-align: middle;\n",
       "    }\n",
       "\n",
       "    .dataframe tbody tr th {\n",
       "        vertical-align: top;\n",
       "    }\n",
       "\n",
       "    .dataframe thead th {\n",
       "        text-align: right;\n",
       "    }\n",
       "</style>\n",
       "<table border=\"1\" class=\"dataframe\">\n",
       "  <thead>\n",
       "    <tr style=\"text-align: right;\">\n",
       "      <th></th>\n",
       "      <th>firstflrsf_sd_bc_tk</th>\n",
       "      <th>totalbsmtsf_sd_bc_tk</th>\n",
       "      <th>grlivarea_sd_bc_tk</th>\n",
       "      <th>overallqual_sd_bc_tk</th>\n",
       "      <th>garage_car_area</th>\n",
       "    </tr>\n",
       "  </thead>\n",
       "  <tbody>\n",
       "    <tr>\n",
       "      <th>firstflrsf_sd_bc_tk</th>\n",
       "      <td>1.000000</td>\n",
       "      <td>0.789215</td>\n",
       "      <td>0.535177</td>\n",
       "      <td>0.444495</td>\n",
       "      <td>-0.301979</td>\n",
       "    </tr>\n",
       "    <tr>\n",
       "      <th>totalbsmtsf_sd_bc_tk</th>\n",
       "      <td>0.789215</td>\n",
       "      <td>1.000000</td>\n",
       "      <td>0.416480</td>\n",
       "      <td>0.530761</td>\n",
       "      <td>-0.279925</td>\n",
       "    </tr>\n",
       "    <tr>\n",
       "      <th>grlivarea_sd_bc_tk</th>\n",
       "      <td>0.535177</td>\n",
       "      <td>0.416480</td>\n",
       "      <td>1.000000</td>\n",
       "      <td>0.608304</td>\n",
       "      <td>-0.341120</td>\n",
       "    </tr>\n",
       "    <tr>\n",
       "      <th>overallqual_sd_bc_tk</th>\n",
       "      <td>0.444495</td>\n",
       "      <td>0.530761</td>\n",
       "      <td>0.608304</td>\n",
       "      <td>1.000000</td>\n",
       "      <td>-0.417907</td>\n",
       "    </tr>\n",
       "    <tr>\n",
       "      <th>garage_car_area</th>\n",
       "      <td>-0.301979</td>\n",
       "      <td>-0.279925</td>\n",
       "      <td>-0.341120</td>\n",
       "      <td>-0.417907</td>\n",
       "      <td>1.000000</td>\n",
       "    </tr>\n",
       "  </tbody>\n",
       "</table>\n",
       "</div>"
      ],
      "text/plain": [
       "                      firstflrsf_sd_bc_tk  totalbsmtsf_sd_bc_tk  \\\n",
       "firstflrsf_sd_bc_tk              1.000000              0.789215   \n",
       "totalbsmtsf_sd_bc_tk             0.789215              1.000000   \n",
       "grlivarea_sd_bc_tk               0.535177              0.416480   \n",
       "overallqual_sd_bc_tk             0.444495              0.530761   \n",
       "garage_car_area                 -0.301979             -0.279925   \n",
       "\n",
       "                      grlivarea_sd_bc_tk  overallqual_sd_bc_tk  \\\n",
       "firstflrsf_sd_bc_tk             0.535177              0.444495   \n",
       "totalbsmtsf_sd_bc_tk            0.416480              0.530761   \n",
       "grlivarea_sd_bc_tk              1.000000              0.608304   \n",
       "overallqual_sd_bc_tk            0.608304              1.000000   \n",
       "garage_car_area                -0.341120             -0.417907   \n",
       "\n",
       "                      garage_car_area  \n",
       "firstflrsf_sd_bc_tk         -0.301979  \n",
       "totalbsmtsf_sd_bc_tk        -0.279925  \n",
       "grlivarea_sd_bc_tk          -0.341120  \n",
       "overallqual_sd_bc_tk        -0.417907  \n",
       "garage_car_area              1.000000  "
      ]
     },
     "execution_count": 61,
     "metadata": {},
     "output_type": "execute_result"
    }
   ],
   "source": [
    "df_clean.loc[:, cont_corrected_features].corr()"
   ]
  },
  {
   "cell_type": "code",
   "execution_count": 62,
   "metadata": {},
   "outputs": [
    {
     "data": {
      "image/png": "[encoded data removed]",
      "text/plain": [
       "<Figure size 576x504 with 2 Axes>"
      ]
     },
     "metadata": {
      "needs_background": "light"
     },
     "output_type": "display_data"
    }
   ],
   "source": [
    "f, axes = plt.subplots(1, 1, figsize=(8, 7))\n",
    "sns.heatmap(df_clean.loc[:, cont_corrected_features].corr(), ax=axes)\n",
    "plt.show()"
   ]
  },
  {
   "cell_type": "markdown",
   "metadata": {},
   "source": [
    "## Model\n",
    "Now that I have selected the best features, I will create a linear regression model using Scikit-Learn."
   ]
  },
  {
   "cell_type": "code",
   "execution_count": 63,
   "metadata": {},
   "outputs": [],
   "source": [
    "all_features = dummy_features + cont_corrected_features\n",
    "df_model_features = df_clean.loc[:, all_features].copy()\n",
    "df_model = df_clean.loc[:, all_features + ['saleprice_sd_bc_tk']].copy()"
   ]
  },
  {
   "cell_type": "code",
   "execution_count": 64,
   "metadata": {},
   "outputs": [
    {
     "name": "stdout",
     "output_type": "stream",
     "text": [
      "Coefficients: [-0.00896926  0.0375263   0.02989304 -0.03631259 -0.00426042  0.01904487\n",
      " -0.02390866 -0.0279888  -0.00305205 -0.13793035 -0.14594395 -0.04689444\n",
      " -0.006472   -0.01195875  0.03522094 -0.08654385 -0.02875031 -0.10954214\n",
      " -0.15260512 -0.04746214 -0.05039418 -0.07810896 -0.03665632  0.04314475\n",
      "  0.03461302 -0.09502197 -0.05383704 -0.04910695 -0.02221503  0.02777357\n",
      " -0.0060088   0.0205591   0.01340986 -0.01385042 -0.04179373 -0.17707022\n",
      "  0.02006231  0.02616991  0.0438275  -0.01730083 -0.05126884 -0.03468624\n",
      " -0.04393062  0.06988064 -0.060113    0.0519118   0.02776413 -0.0055151\n",
      " -0.01945235  0.03413152  0.07576803  0.0040602  -0.00604595  0.04490775\n",
      "  0.05979872 -0.01299435 -0.01479754 -0.02235261 -0.04156735 -0.03615536\n",
      " -0.02809284 -0.01422396 -0.00956244 -0.02612484 -0.00989877  0.02566863\n",
      " -0.00423056 -0.03650851 -0.02090187 -0.01030069 -0.02610248  0.02399444\n",
      "  0.00760844 -0.02096014  0.03117512 -0.00931097  0.05617538  0.26927629\n",
      "  0.06548743 -0.00518558]\n",
      "Intercept: -1.308119536888619\n"
     ]
    }
   ],
   "source": [
    "X = df_model.loc[:, all_features]\n",
    "y = df_model['saleprice_sd_bc_tk']\n",
    "\n",
    "lrm = linear_model.LinearRegression()\n",
    "\n",
    "lrm.fit(X, y)\n",
    "\n",
    "print(f'Coefficients: {lrm.coef_}')\n",
    "print(f'Intercept: {lrm.intercept_}')"
   ]
  },
  {
   "cell_type": "code",
   "execution_count": 65,
   "metadata": {},
   "outputs": [],
   "source": [
    "results_dict = {'features': all_features,\n",
    "               'coefficients': lrm.coef_}\n",
    "df_results = pd.DataFrame(results_dict)"
   ]
  },
  {
   "cell_type": "code",
   "execution_count": 66,
   "metadata": {},
   "outputs": [
    {
     "data": {
      "text/html": [
       "<div>\n",
       "<style scoped>\n",
       "    .dataframe tbody tr th:only-of-type {\n",
       "        vertical-align: middle;\n",
       "    }\n",
       "\n",
       "    .dataframe tbody tr th {\n",
       "        vertical-align: top;\n",
       "    }\n",
       "\n",
       "    .dataframe thead th {\n",
       "        text-align: right;\n",
       "    }\n",
       "</style>\n",
       "<table border=\"1\" class=\"dataframe\">\n",
       "  <thead>\n",
       "    <tr style=\"text-align: right;\">\n",
       "      <th></th>\n",
       "      <th>count</th>\n",
       "      <th>mean</th>\n",
       "      <th>std</th>\n",
       "      <th>min</th>\n",
       "      <th>25%</th>\n",
       "      <th>50%</th>\n",
       "      <th>75%</th>\n",
       "      <th>max</th>\n",
       "    </tr>\n",
       "  </thead>\n",
       "  <tbody>\n",
       "    <tr>\n",
       "      <th>coefficients</th>\n",
       "      <td>80.0</td>\n",
       "      <td>-0.011142</td>\n",
       "      <td>0.058788</td>\n",
       "      <td>-0.17707</td>\n",
       "      <td>-0.036362</td>\n",
       "      <td>-0.01113</td>\n",
       "      <td>0.024413</td>\n",
       "      <td>0.269276</td>\n",
       "    </tr>\n",
       "  </tbody>\n",
       "</table>\n",
       "</div>"
      ],
      "text/plain": [
       "              count      mean       std      min       25%      50%       75%  \\\n",
       "coefficients   80.0 -0.011142  0.058788 -0.17707 -0.036362 -0.01113  0.024413   \n",
       "\n",
       "                   max  \n",
       "coefficients  0.269276  "
      ]
     },
     "execution_count": 66,
     "metadata": {},
     "output_type": "execute_result"
    }
   ],
   "source": [
    "df_results.describe().T"
   ]
  },
  {
   "cell_type": "markdown",
   "metadata": {},
   "source": [
    "**Observations:** The intercept is -1.3. The coefficients are between -0.17 and 0.27.\n",
    "\n",
    "#### Save model dataset\n",
    "Save the dataset use to create the housing price model to a .csv file."
   ]
  },
  {
   "cell_type": "code",
   "execution_count": 67,
   "metadata": {
    "scrolled": false
   },
   "outputs": [],
   "source": [
    "df_model.to_csv('./housing_price_model.csv')"
   ]
  }
 ],
 "metadata": {
  "kernelspec": {
   "display_name": "Python 3",
   "language": "python",
   "name": "python3"
  },
  "language_info": {
   "codemirror_mode": {
    "name": "ipython",
    "version": 3
   },
   "file_extension": ".py",
   "mimetype": "text/x-python",
   "name": "python",
   "nbconvert_exporter": "python",
   "pygments_lexer": "ipython3",
   "version": "3.6.8"
  }
 },
 "nbformat": 4,
 "nbformat_minor": 2
}
