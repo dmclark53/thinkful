{
 "cells": [
  {
   "cell_type": "markdown",
   "metadata": {},
   "source": [
    "# Challege: Housing Prices\n",
    "In this project I will create models to predict housing prices using the [Housing Prices](https://www.kaggle.com/c/house-prices-advanced-regression-techniques/data) dataset from Kaggle. All models will be created using linear regression. Three regularization techniques, Ridge, Lasso, and Elastic Net, will be considered as I explore which model does the best job at predicting housing prices."
   ]
  },
  {
   "cell_type": "code",
   "execution_count": 1,
   "metadata": {},
   "outputs": [],
   "source": [
    "import matplotlib.pyplot as plt\n",
    "import numpy as np\n",
    "import pandas as pd\n",
    "import seaborn as sns\n",
    "from sklearn.linear_model import LinearRegression\n",
    "from sklearn.linear_model import Ridge\n",
    "from sklearn.linear_model import Lasso\n",
    "from sklearn.linear_model import ElasticNet\n",
    "from sklearn.model_selection import train_test_split\n",
    "from sqlalchemy import create_engine\n",
    "\n",
    "import helpers as hp\n",
    "from config import usr, pwd, url, port, db\n",
    "\n",
    "%matplotlib inline"
   ]
  },
  {
   "cell_type": "markdown",
   "metadata": {},
   "source": [
    "## Load Data\n",
    "Load the dataset and inspect it's contents."
   ]
  },
  {
   "cell_type": "code",
   "execution_count": 2,
   "metadata": {},
   "outputs": [],
   "source": [
    "engine = create_engine(f\"postgresql+psycopg2://{usr}:{pwd}@{url}:{port}/{db}\")"
   ]
  },
  {
   "cell_type": "code",
   "execution_count": 3,
   "metadata": {},
   "outputs": [],
   "source": [
    "query = f'''\n",
    "SELECT\n",
    "    *\n",
    "FROM\n",
    "    {db};\n",
    "'''"
   ]
  },
  {
   "cell_type": "code",
   "execution_count": 4,
   "metadata": {},
   "outputs": [],
   "source": [
    "df = pd.read_sql_query(query, con=engine)"
   ]
  },
  {
   "cell_type": "code",
   "execution_count": 5,
   "metadata": {},
   "outputs": [],
   "source": [
    "engine.dispose()"
   ]
  },
  {
   "cell_type": "code",
   "execution_count": 6,
   "metadata": {},
   "outputs": [
    {
     "name": "stdout",
     "output_type": "stream",
     "text": [
      "<class 'pandas.core.frame.DataFrame'>\n",
      "RangeIndex: 1460 entries, 0 to 1459\n",
      "Data columns (total 81 columns):\n",
      "id               1460 non-null int64\n",
      "mssubclass       1460 non-null int64\n",
      "mszoning         1460 non-null object\n",
      "lotfrontage      1201 non-null float64\n",
      "lotarea          1460 non-null int64\n",
      "street           1460 non-null object\n",
      "alley            91 non-null object\n",
      "lotshape         1460 non-null object\n",
      "landcontour      1460 non-null object\n",
      "utilities        1460 non-null object\n",
      "lotconfig        1460 non-null object\n",
      "landslope        1460 non-null object\n",
      "neighborhood     1460 non-null object\n",
      "condition1       1460 non-null object\n",
      "condition2       1460 non-null object\n",
      "bldgtype         1460 non-null object\n",
      "housestyle       1460 non-null object\n",
      "overallqual      1460 non-null int64\n",
      "overallcond      1460 non-null int64\n",
      "yearbuilt        1460 non-null int64\n",
      "yearremodadd     1460 non-null int64\n",
      "roofstyle        1460 non-null object\n",
      "roofmatl         1460 non-null object\n",
      "exterior1st      1460 non-null object\n",
      "exterior2nd      1460 non-null object\n",
      "masvnrtype       1452 non-null object\n",
      "masvnrarea       1452 non-null float64\n",
      "exterqual        1460 non-null object\n",
      "extercond        1460 non-null object\n",
      "foundation       1460 non-null object\n",
      "bsmtqual         1423 non-null object\n",
      "bsmtcond         1423 non-null object\n",
      "bsmtexposure     1422 non-null object\n",
      "bsmtfintype1     1423 non-null object\n",
      "bsmtfinsf1       1460 non-null int64\n",
      "bsmtfintype2     1422 non-null object\n",
      "bsmtfinsf2       1460 non-null int64\n",
      "bsmtunfsf        1460 non-null int64\n",
      "totalbsmtsf      1460 non-null int64\n",
      "heating          1460 non-null object\n",
      "heatingqc        1460 non-null object\n",
      "centralair       1460 non-null object\n",
      "electrical       1459 non-null object\n",
      "firstflrsf       1460 non-null int64\n",
      "secondflrsf      1460 non-null int64\n",
      "lowqualfinsf     1460 non-null int64\n",
      "grlivarea        1460 non-null int64\n",
      "bsmtfullbath     1460 non-null int64\n",
      "bsmthalfbath     1460 non-null int64\n",
      "fullbath         1460 non-null int64\n",
      "halfbath         1460 non-null int64\n",
      "bedroomabvgr     1460 non-null int64\n",
      "kitchenabvgr     1460 non-null int64\n",
      "kitchenqual      1460 non-null object\n",
      "totrmsabvgrd     1460 non-null int64\n",
      "functional       1460 non-null object\n",
      "fireplaces       1460 non-null int64\n",
      "fireplacequ      770 non-null object\n",
      "garagetype       1379 non-null object\n",
      "garageyrblt      1379 non-null float64\n",
      "garagefinish     1379 non-null object\n",
      "garagecars       1460 non-null int64\n",
      "garagearea       1460 non-null int64\n",
      "garagequal       1379 non-null object\n",
      "garagecond       1379 non-null object\n",
      "paveddrive       1460 non-null object\n",
      "wooddecksf       1460 non-null int64\n",
      "openporchsf      1460 non-null int64\n",
      "enclosedporch    1460 non-null int64\n",
      "threessnporch    1460 non-null int64\n",
      "screenporch      1460 non-null int64\n",
      "poolarea         1460 non-null int64\n",
      "poolqc           7 non-null object\n",
      "fence            281 non-null object\n",
      "miscfeature      54 non-null object\n",
      "miscval          1460 non-null int64\n",
      "mosold           1460 non-null int64\n",
      "yrsold           1460 non-null int64\n",
      "saletype         1460 non-null object\n",
      "salecondition    1460 non-null object\n",
      "saleprice        1460 non-null int64\n",
      "dtypes: float64(3), int64(35), object(43)\n",
      "memory usage: 924.0+ KB\n"
     ]
    }
   ],
   "source": [
    "df.info()"
   ]
  },
  {
   "cell_type": "markdown",
   "metadata": {},
   "source": [
    "## Data Cleaning 1\n",
    "### Variable types\n",
    "Create lists of continuous and categorical variables. I will handle this different types of variables separately during the data cleaning and feature engineering stages."
   ]
  },
  {
   "cell_type": "code",
   "execution_count": 7,
   "metadata": {},
   "outputs": [],
   "source": [
    "cont_variables, cat_variables = hp.find_variable_types(df)"
   ]
  },
  {
   "cell_type": "code",
   "execution_count": 8,
   "metadata": {},
   "outputs": [
    {
     "name": "stdout",
     "output_type": "stream",
     "text": [
      "Continuous variables:\n",
      "['id', 'mssubclass', 'lotfrontage', 'lotarea', 'overallqual', 'overallcond', 'yearbuilt', 'yearremodadd', 'masvnrarea', 'bsmtfinsf1', 'bsmtfinsf2', 'bsmtunfsf', 'totalbsmtsf', 'firstflrsf', 'secondflrsf', 'lowqualfinsf', 'grlivarea', 'bsmtfullbath', 'bsmthalfbath', 'fullbath', 'halfbath', 'bedroomabvgr', 'kitchenabvgr', 'totrmsabvgrd', 'fireplaces', 'garageyrblt', 'garagecars', 'garagearea', 'wooddecksf', 'openporchsf', 'enclosedporch', 'threessnporch', 'screenporch', 'poolarea', 'miscval', 'mosold', 'yrsold', 'saleprice']\n",
      "\n",
      "Categorical variables:\n",
      "['mszoning', 'street', 'alley', 'lotshape', 'landcontour', 'utilities', 'lotconfig', 'landslope', 'neighborhood', 'condition1', 'condition2', 'bldgtype', 'housestyle', 'roofstyle', 'roofmatl', 'exterior1st', 'exterior2nd', 'masvnrtype', 'exterqual', 'extercond', 'foundation', 'bsmtqual', 'bsmtcond', 'bsmtexposure', 'bsmtfintype1', 'bsmtfintype2', 'heating', 'heatingqc', 'centralair', 'electrical', 'kitchenqual', 'functional', 'fireplacequ', 'garagetype', 'garagefinish', 'garagequal', 'garagecond', 'paveddrive', 'poolqc', 'fence', 'miscfeature', 'saletype', 'salecondition']\n"
     ]
    }
   ],
   "source": [
    "print(f'Continuous variables:\\n{cont_variables}\\n')\n",
    "print(f'Categorical variables:\\n{cat_variables}')"
   ]
  },
  {
   "cell_type": "markdown",
   "metadata": {},
   "source": [
    "Remove `'id'` column from `cont_variables` since this column isn't a variable."
   ]
  },
  {
   "cell_type": "code",
   "execution_count": 9,
   "metadata": {},
   "outputs": [],
   "source": [
    "cont_variables.remove('id')"
   ]
  },
  {
   "cell_type": "markdown",
   "metadata": {},
   "source": [
    "### Year variables\n",
    "Convert year variables into durations (ages). This way I can treat these features an continous variables."
   ]
  },
  {
   "cell_type": "code",
   "execution_count": 10,
   "metadata": {},
   "outputs": [],
   "source": [
    "year_columns = ['garageyrblt', 'yearremodadd', 'yearbuilt', 'yrsold']\n",
    "age_columns = ['garageage', 'remodage', 'age', 'yrsoffmk']"
   ]
  },
  {
   "cell_type": "markdown",
   "metadata": {},
   "source": [
    "Before continuing, I will copy the intial `DataFrame` to a new `DataFrame` so that I can preserve the initial, raw dataset."
   ]
  },
  {
   "cell_type": "code",
   "execution_count": 11,
   "metadata": {},
   "outputs": [],
   "source": [
    "df_clean = df.copy()"
   ]
  },
  {
   "cell_type": "markdown",
   "metadata": {},
   "source": [
    "Fill missing values with the current year. When the year built is calculated, it will be zero, consistant with no garage on the property."
   ]
  },
  {
   "cell_type": "code",
   "execution_count": 12,
   "metadata": {},
   "outputs": [],
   "source": [
    "df_clean['garageyrblt'].fillna(value=2019, inplace=True)\n",
    "df_clean = df_clean.astype({'garageyrblt': 'int64'})"
   ]
  },
  {
   "cell_type": "code",
   "execution_count": 13,
   "metadata": {},
   "outputs": [],
   "source": [
    "for i, year_type in enumerate(year_columns):\n",
    "    df_clean[age_columns[i]] = 2019 - df_clean[year_type]"
   ]
  },
  {
   "cell_type": "code",
   "execution_count": 14,
   "metadata": {},
   "outputs": [
    {
     "name": "stdout",
     "output_type": "stream",
     "text": [
      "<class 'pandas.core.frame.DataFrame'>\n",
      "RangeIndex: 1460 entries, 0 to 1459\n",
      "Data columns (total 4 columns):\n",
      "garageage    1460 non-null int64\n",
      "remodage     1460 non-null int64\n",
      "age          1460 non-null int64\n",
      "yrsoffmk     1460 non-null int64\n",
      "dtypes: int64(4)\n",
      "memory usage: 45.7 KB\n"
     ]
    }
   ],
   "source": [
    "df_clean.loc[:, age_columns].info()"
   ]
  },
  {
   "cell_type": "code",
   "execution_count": 15,
   "metadata": {},
   "outputs": [
    {
     "data": {
      "text/html": [
       "<div>\n",
       "<style scoped>\n",
       "    .dataframe tbody tr th:only-of-type {\n",
       "        vertical-align: middle;\n",
       "    }\n",
       "\n",
       "    .dataframe tbody tr th {\n",
       "        vertical-align: top;\n",
       "    }\n",
       "\n",
       "    .dataframe thead th {\n",
       "        text-align: right;\n",
       "    }\n",
       "</style>\n",
       "<table border=\"1\" class=\"dataframe\">\n",
       "  <thead>\n",
       "    <tr style=\"text-align: right;\">\n",
       "      <th></th>\n",
       "      <th>count</th>\n",
       "      <th>mean</th>\n",
       "      <th>std</th>\n",
       "      <th>min</th>\n",
       "      <th>25%</th>\n",
       "      <th>50%</th>\n",
       "      <th>75%</th>\n",
       "      <th>max</th>\n",
       "    </tr>\n",
       "  </thead>\n",
       "  <tbody>\n",
       "    <tr>\n",
       "      <th>garageage</th>\n",
       "      <td>1460.0</td>\n",
       "      <td>38.247260</td>\n",
       "      <td>25.724002</td>\n",
       "      <td>0.0</td>\n",
       "      <td>16.0</td>\n",
       "      <td>34.5</td>\n",
       "      <td>57.0</td>\n",
       "      <td>119.0</td>\n",
       "    </tr>\n",
       "    <tr>\n",
       "      <th>remodage</th>\n",
       "      <td>1460.0</td>\n",
       "      <td>34.134247</td>\n",
       "      <td>20.645407</td>\n",
       "      <td>9.0</td>\n",
       "      <td>15.0</td>\n",
       "      <td>25.0</td>\n",
       "      <td>52.0</td>\n",
       "      <td>69.0</td>\n",
       "    </tr>\n",
       "    <tr>\n",
       "      <th>age</th>\n",
       "      <td>1460.0</td>\n",
       "      <td>47.732192</td>\n",
       "      <td>30.202904</td>\n",
       "      <td>9.0</td>\n",
       "      <td>19.0</td>\n",
       "      <td>46.0</td>\n",
       "      <td>65.0</td>\n",
       "      <td>147.0</td>\n",
       "    </tr>\n",
       "    <tr>\n",
       "      <th>yrsoffmk</th>\n",
       "      <td>1460.0</td>\n",
       "      <td>11.184247</td>\n",
       "      <td>1.328095</td>\n",
       "      <td>9.0</td>\n",
       "      <td>10.0</td>\n",
       "      <td>11.0</td>\n",
       "      <td>12.0</td>\n",
       "      <td>13.0</td>\n",
       "    </tr>\n",
       "  </tbody>\n",
       "</table>\n",
       "</div>"
      ],
      "text/plain": [
       "            count       mean        std  min   25%   50%   75%    max\n",
       "garageage  1460.0  38.247260  25.724002  0.0  16.0  34.5  57.0  119.0\n",
       "remodage   1460.0  34.134247  20.645407  9.0  15.0  25.0  52.0   69.0\n",
       "age        1460.0  47.732192  30.202904  9.0  19.0  46.0  65.0  147.0\n",
       "yrsoffmk   1460.0  11.184247   1.328095  9.0  10.0  11.0  12.0   13.0"
      ]
     },
     "execution_count": 15,
     "metadata": {},
     "output_type": "execute_result"
    }
   ],
   "source": [
    "df_clean.loc[:, age_columns].describe().T"
   ]
  },
  {
   "cell_type": "markdown",
   "metadata": {},
   "source": [
    "Update continuous variables list."
   ]
  },
  {
   "cell_type": "code",
   "execution_count": 16,
   "metadata": {},
   "outputs": [],
   "source": [
    "cont_variables = [x for x in cont_variables if x not in year_columns]\n",
    "cont_variables += age_columns"
   ]
  },
  {
   "cell_type": "markdown",
   "metadata": {},
   "source": [
    "### Unique categories\n",
    "Let's see what the categories are for each categorical variable by printing the unique categories for each value."
   ]
  },
  {
   "cell_type": "code",
   "execution_count": 17,
   "metadata": {},
   "outputs": [
    {
     "name": "stdout",
     "output_type": "stream",
     "text": [
      "mszoning: ['RL' 'RM' 'C (all)' 'FV' 'RH']\n",
      "street: ['Pave' 'Grvl']\n",
      "alley: [None 'Grvl' 'Pave']\n",
      "lotshape: ['Reg' 'IR1' 'IR2' 'IR3']\n",
      "landcontour: ['Lvl' 'Bnk' 'Low' 'HLS']\n",
      "utilities: ['AllPub' 'NoSeWa']\n",
      "lotconfig: ['Inside' 'FR2' 'Corner' 'CulDSac' 'FR3']\n",
      "landslope: ['Gtl' 'Mod' 'Sev']\n",
      "neighborhood: ['CollgCr' 'Veenker' 'Crawfor' 'NoRidge' 'Mitchel' 'Somerst' 'NWAmes'\n",
      " 'OldTown' 'BrkSide' 'Sawyer' 'NridgHt' 'NAmes' 'SawyerW' 'IDOTRR'\n",
      " 'MeadowV' 'Edwards' 'Timber' 'Gilbert' 'StoneBr' 'ClearCr' 'NPkVill'\n",
      " 'Blmngtn' 'BrDale' 'SWISU' 'Blueste']\n",
      "condition1: ['Norm' 'Feedr' 'PosN' 'Artery' 'RRAe' 'RRNn' 'RRAn' 'PosA' 'RRNe']\n",
      "condition2: ['Norm' 'Artery' 'RRNn' 'Feedr' 'PosN' 'PosA' 'RRAn' 'RRAe']\n",
      "bldgtype: ['1Fam' '2fmCon' 'Duplex' 'TwnhsE' 'Twnhs']\n",
      "housestyle: ['2Story' '1Story' '1.5Fin' '1.5Unf' 'SFoyer' 'SLvl' '2.5Unf' '2.5Fin']\n",
      "roofstyle: ['Gable' 'Hip' 'Gambrel' 'Mansard' 'Flat' 'Shed']\n",
      "roofmatl: ['CompShg' 'WdShngl' 'Metal' 'WdShake' 'Membran' 'Tar&Grv' 'Roll'\n",
      " 'ClyTile']\n",
      "exterior1st: ['VinylSd' 'MetalSd' 'Wd Sdng' 'HdBoard' 'BrkFace' 'WdShing' 'CemntBd'\n",
      " 'Plywood' 'AsbShng' 'Stucco' 'BrkComm' 'AsphShn' 'Stone' 'ImStucc'\n",
      " 'CBlock']\n",
      "exterior2nd: ['VinylSd' 'MetalSd' 'Wd Shng' 'HdBoard' 'Plywood' 'Wd Sdng' 'CmentBd'\n",
      " 'BrkFace' 'Stucco' 'AsbShng' 'Brk Cmn' 'ImStucc' 'AsphShn' 'Stone'\n",
      " 'Other' 'CBlock']\n",
      "masvnrtype: ['BrkFace' 'None' 'Stone' 'BrkCmn' None]\n",
      "exterqual: ['Gd' 'TA' 'Ex' 'Fa']\n",
      "extercond: ['TA' 'Gd' 'Fa' 'Po' 'Ex']\n",
      "foundation: ['PConc' 'CBlock' 'BrkTil' 'Wood' 'Slab' 'Stone']\n",
      "bsmtqual: ['Gd' 'TA' 'Ex' None 'Fa']\n",
      "bsmtcond: ['TA' 'Gd' None 'Fa' 'Po']\n",
      "bsmtexposure: ['No' 'Gd' 'Mn' 'Av' None]\n",
      "bsmtfintype1: ['GLQ' 'ALQ' 'Unf' 'Rec' 'BLQ' None 'LwQ']\n",
      "bsmtfintype2: ['Unf' 'BLQ' None 'ALQ' 'Rec' 'LwQ' 'GLQ']\n",
      "heating: ['GasA' 'GasW' 'Grav' 'Wall' 'OthW' 'Floor']\n",
      "heatingqc: ['Ex' 'Gd' 'TA' 'Fa' 'Po']\n",
      "centralair: ['Y' 'N']\n",
      "electrical: ['SBrkr' 'FuseF' 'FuseA' 'FuseP' 'Mix' None]\n",
      "kitchenqual: ['Gd' 'TA' 'Ex' 'Fa']\n",
      "functional: ['Typ' 'Min1' 'Maj1' 'Min2' 'Mod' 'Maj2' 'Sev']\n",
      "fireplacequ: [None 'TA' 'Gd' 'Fa' 'Ex' 'Po']\n",
      "garagetype: ['Attchd' 'Detchd' 'BuiltIn' 'CarPort' None 'Basment' '2Types']\n",
      "garagefinish: ['RFn' 'Unf' 'Fin' None]\n",
      "garagequal: ['TA' 'Fa' 'Gd' None 'Ex' 'Po']\n",
      "garagecond: ['TA' 'Fa' None 'Gd' 'Po' 'Ex']\n",
      "paveddrive: ['Y' 'N' 'P']\n",
      "poolqc: [None 'Ex' 'Fa' 'Gd']\n",
      "fence: [None 'MnPrv' 'GdWo' 'GdPrv' 'MnWw']\n",
      "miscfeature: [None 'Shed' 'Gar2' 'Othr' 'TenC']\n",
      "saletype: ['WD' 'New' 'COD' 'ConLD' 'ConLI' 'CWD' 'ConLw' 'Con' 'Oth']\n",
      "salecondition: ['Normal' 'Abnorml' 'Partial' 'AdjLand' 'Alloca' 'Family']\n"
     ]
    }
   ],
   "source": [
    "hp.print_unique_categories(df, cat_variables)"
   ]
  },
  {
   "cell_type": "markdown",
   "metadata": {},
   "source": [
    "### Missing Values\n",
    "I will deal with missing values in the dataset.\n",
    "\n",
    "#### Missing categories\n",
    "The missing values in the category columns are labeled as `None`. I will replace these with the string `\"None\"`. Thus, `\"None\"` will be an additional category for each categorical variable."
   ]
  },
  {
   "cell_type": "code",
   "execution_count": 18,
   "metadata": {},
   "outputs": [],
   "source": [
    "df_clean = hp.fill_missing_categories(df_clean, cat_variables)"
   ]
  },
  {
   "cell_type": "markdown",
   "metadata": {},
   "source": [
    "#### Missing value fractions\n",
    "Now let's see which variable are still missing values."
   ]
  },
  {
   "cell_type": "code",
   "execution_count": 19,
   "metadata": {},
   "outputs": [
    {
     "name": "stdout",
     "output_type": "stream",
     "text": [
      "Variables and their fraction of missing values:\n",
      "lotfrontage    17.739726\n",
      "masvnrarea      0.547945\n",
      "dtype: float64\n"
     ]
    }
   ],
   "source": [
    "hp.find_na_columns(df_clean, display_fractions=True)"
   ]
  },
  {
   "cell_type": "code",
   "execution_count": 20,
   "metadata": {},
   "outputs": [],
   "source": [
    "na_fractions = hp.find_na_columns(df_clean)"
   ]
  },
  {
   "cell_type": "code",
   "execution_count": 21,
   "metadata": {},
   "outputs": [
    {
     "data": {
      "text/html": [
       "<div>\n",
       "<style scoped>\n",
       "    .dataframe tbody tr th:only-of-type {\n",
       "        vertical-align: middle;\n",
       "    }\n",
       "\n",
       "    .dataframe tbody tr th {\n",
       "        vertical-align: top;\n",
       "    }\n",
       "\n",
       "    .dataframe thead th {\n",
       "        text-align: right;\n",
       "    }\n",
       "</style>\n",
       "<table border=\"1\" class=\"dataframe\">\n",
       "  <thead>\n",
       "    <tr style=\"text-align: right;\">\n",
       "      <th></th>\n",
       "      <th>count</th>\n",
       "      <th>mean</th>\n",
       "      <th>std</th>\n",
       "      <th>min</th>\n",
       "      <th>25%</th>\n",
       "      <th>50%</th>\n",
       "      <th>75%</th>\n",
       "      <th>max</th>\n",
       "    </tr>\n",
       "  </thead>\n",
       "  <tbody>\n",
       "    <tr>\n",
       "      <th>lotfrontage</th>\n",
       "      <td>1201.0</td>\n",
       "      <td>70.049958</td>\n",
       "      <td>24.284752</td>\n",
       "      <td>21.0</td>\n",
       "      <td>59.0</td>\n",
       "      <td>69.0</td>\n",
       "      <td>80.0</td>\n",
       "      <td>313.0</td>\n",
       "    </tr>\n",
       "    <tr>\n",
       "      <th>masvnrarea</th>\n",
       "      <td>1452.0</td>\n",
       "      <td>103.685262</td>\n",
       "      <td>181.066207</td>\n",
       "      <td>0.0</td>\n",
       "      <td>0.0</td>\n",
       "      <td>0.0</td>\n",
       "      <td>166.0</td>\n",
       "      <td>1600.0</td>\n",
       "    </tr>\n",
       "  </tbody>\n",
       "</table>\n",
       "</div>"
      ],
      "text/plain": [
       "              count        mean         std   min   25%   50%    75%     max\n",
       "lotfrontage  1201.0   70.049958   24.284752  21.0  59.0  69.0   80.0   313.0\n",
       "masvnrarea   1452.0  103.685262  181.066207   0.0   0.0   0.0  166.0  1600.0"
      ]
     },
     "execution_count": 21,
     "metadata": {},
     "output_type": "execute_result"
    }
   ],
   "source": [
    "df_clean.loc[:, na_fractions.index].describe().T"
   ]
  },
  {
   "cell_type": "markdown",
   "metadata": {},
   "source": [
    "I will fill the missing values for these variables with zeros."
   ]
  },
  {
   "cell_type": "code",
   "execution_count": 22,
   "metadata": {},
   "outputs": [],
   "source": [
    "df_clean['lotfrontage'].fillna(value=0, inplace=True)\n",
    "df_clean['masvnrarea'].fillna(value=0, inplace=True)"
   ]
  },
  {
   "cell_type": "code",
   "execution_count": 23,
   "metadata": {},
   "outputs": [
    {
     "name": "stdout",
     "output_type": "stream",
     "text": [
      "Variables and their fraction of missing values:\n",
      "Series([], dtype: float64)\n"
     ]
    }
   ],
   "source": [
    "hp.find_na_columns(df_clean, display_fractions=True)"
   ]
  },
  {
   "cell_type": "markdown",
   "metadata": {},
   "source": [
    "All missing values have now been dealt with."
   ]
  },
  {
   "cell_type": "code",
   "execution_count": 24,
   "metadata": {},
   "outputs": [
    {
     "name": "stdout",
     "output_type": "stream",
     "text": [
      "The dataset size is still 1460 rows long.\n"
     ]
    }
   ],
   "source": [
    "print(f'The dataset size is still {len(df_clean)} rows long.')"
   ]
  },
  {
   "cell_type": "markdown",
   "metadata": {},
   "source": [
    "## Feature Selection\n",
    "Before dealing with outliers and normalizing the data, I will make the dataset smaller by removing some unimportant features. I will only select continous variables that have at least a 0.6 correlation with _salesprice_. I will use $\\chi$<sup>2</sup> to select categorical variables that are relavent to predicting _saleprice_.\n",
    "\n",
    "\n",
    "### Continous Variables\n",
    "Select variables that are correlated with saleprice."
   ]
  },
  {
   "cell_type": "code",
   "execution_count": 25,
   "metadata": {},
   "outputs": [],
   "source": [
    "df_correlated = df_clean.loc[:, cont_variables].corr()\n",
    "correlated_with_saleprice = df_correlated['saleprice'].sort_values()"
   ]
  },
  {
   "cell_type": "code",
   "execution_count": 26,
   "metadata": {},
   "outputs": [
    {
     "data": {
      "text/plain": [
       "age             -0.522897\n",
       "remodage        -0.507101\n",
       "garageage       -0.353196\n",
       "kitchenabvgr    -0.135907\n",
       "enclosedporch   -0.128578\n",
       "mssubclass      -0.084284\n",
       "overallcond     -0.077856\n",
       "lowqualfinsf    -0.025606\n",
       "miscval         -0.021190\n",
       "bsmthalfbath    -0.016844\n",
       "bsmtfinsf2      -0.011378\n",
       "yrsoffmk         0.028923\n",
       "threessnporch    0.044584\n",
       "mosold           0.046432\n",
       "poolarea         0.092404\n",
       "screenporch      0.111447\n",
       "bedroomabvgr     0.168213\n",
       "lotfrontage      0.209624\n",
       "bsmtunfsf        0.214479\n",
       "bsmtfullbath     0.227122\n",
       "lotarea          0.263843\n",
       "halfbath         0.284108\n",
       "openporchsf      0.315856\n",
       "secondflrsf      0.319334\n",
       "wooddecksf       0.324413\n",
       "bsmtfinsf1       0.386420\n",
       "fireplaces       0.466929\n",
       "masvnrarea       0.472614\n",
       "totrmsabvgrd     0.533723\n",
       "fullbath         0.560664\n",
       "firstflrsf       0.605852\n",
       "totalbsmtsf      0.613581\n",
       "garagearea       0.623431\n",
       "garagecars       0.640409\n",
       "grlivarea        0.708624\n",
       "overallqual      0.790982\n",
       "saleprice        1.000000\n",
       "Name: saleprice, dtype: float64"
      ]
     },
     "execution_count": 26,
     "metadata": {},
     "output_type": "execute_result"
    }
   ],
   "source": [
    "correlated_with_saleprice"
   ]
  },
  {
   "cell_type": "code",
   "execution_count": 27,
   "metadata": {},
   "outputs": [],
   "source": [
    "correlated_features = correlated_with_saleprice[correlated_with_saleprice > 0.6].index.tolist()\n",
    "\n",
    "# Remove the target variable since it is not a feature\n",
    "correlated_features.remove('saleprice')"
   ]
  },
  {
   "cell_type": "code",
   "execution_count": 28,
   "metadata": {},
   "outputs": [
    {
     "name": "stdout",
     "output_type": "stream",
     "text": [
      "Features that have at least a 0.6 correlations with sale price are:\n",
      "['firstflrsf', 'totalbsmtsf', 'garagearea', 'garagecars', 'grlivarea', 'overallqual']\n"
     ]
    }
   ],
   "source": [
    "print(f'Features that have at least a 0.6 correlations with sale price are:\\n{correlated_features}')"
   ]
  },
  {
   "cell_type": "markdown",
   "metadata": {},
   "source": [
    "Create list of continous variables that includes the selected continous variable features as well as `'saleprice_sd'`."
   ]
  },
  {
   "cell_type": "code",
   "execution_count": 29,
   "metadata": {},
   "outputs": [],
   "source": [
    "correlated_variables = correlated_features\n",
    "correlated_variables.append('saleprice')"
   ]
  },
  {
   "cell_type": "markdown",
   "metadata": {},
   "source": [
    "### Catagorical variables\n",
    "Use $\\chi$<sup>2</sup> technique to remove categorical variables that are not correlated with `'saleprice'`. Only select features with a p-value less than 0.05."
   ]
  },
  {
   "cell_type": "code",
   "execution_count": 30,
   "metadata": {
    "scrolled": false
   },
   "outputs": [
    {
     "name": "stdout",
     "output_type": "stream",
     "text": [
      "Feature Chi-squared Statistics: (p-value < 0.05)\n",
      "* mszoning: chi2 = 3147.891, p-value = 4.348e-11, dof = 2648\n",
      "* street: chi2 = 888.313, p-value = 8.339e-09, dof = 662\n",
      "* lotshape: chi2 = 2446.235, p-value = 4.725e-12, dof = 1986\n",
      "* lotconfig: chi2 = 2771.985, p-value = 4.581e-02, dof = 2648\n",
      "* neighborhood: chi2 = 16898.756, p-value = 1.365e-08, dof = 15888\n",
      "* masvnrtype: chi2 = 2293.470, p-value = 1.598e-06, dof = 1986\n",
      "* exterqual: chi2 = 2849.767, p-value = 4.250e-34, dof = 1986\n",
      "* extercond: chi2 = 3192.840, p-value = 9.870e-13, dof = 2648\n",
      "* foundation: chi2 = 3669.192, p-value = 9.665e-06, dof = 3310\n",
      "* bsmtqual: chi2 = 3552.151, p-value = 1.192e-29, dof = 2648\n",
      "* bsmtcond: chi2 = 3386.500, p-value = 4.710e-21, dof = 2648\n",
      "* bsmtexposure: chi2 = 3230.188, p-value = 3.496e-14, dof = 2648\n",
      "* heating: chi2 = 4201.388, p-value = 2.478e-24, dof = 3310\n",
      "* centralair: chi2 = 826.857, p-value = 1.226e-05, dof = 662\n",
      "* kitchenqual: chi2 = 2811.800, p-value = 1.282e-31, dof = 1986\n",
      "* fireplacequ: chi2 = 3763.900, p-value = 4.388e-08, dof = 3310\n",
      "* garagefinish: chi2 = 2405.203, p-value = 2.129e-10, dof = 1986\n",
      "* saletype: chi2 = 6099.794, p-value = 4.561e-14, dof = 5296\n",
      "* salecondition: chi2 = 3950.739, p-value = 5.613e-14, dof = 3310\n"
     ]
    }
   ],
   "source": [
    "cat_features = hp.select_cat_variables(df_clean, 'saleprice', cat_variables, alpha=0.05)"
   ]
  },
  {
   "cell_type": "markdown",
   "metadata": {},
   "source": [
    "Convert categorical features into dummy, one-hot-encoded variables."
   ]
  },
  {
   "cell_type": "code",
   "execution_count": 31,
   "metadata": {},
   "outputs": [],
   "source": [
    "df_clean = hp.dummyify(df_clean, cat_features)"
   ]
  },
  {
   "cell_type": "markdown",
   "metadata": {},
   "source": [
    "## Data Cleaning 2\n",
    "### Outliers\n",
    "Inspect continous variables and correct outlier using the Tukey method."
   ]
  },
  {
   "cell_type": "code",
   "execution_count": 32,
   "metadata": {},
   "outputs": [
    {
     "data": {
      "image/png": "[encoded data removed]",
      "text/plain": [
       "<Figure size 1008x432 with 1 Axes>"
      ]
     },
     "metadata": {
      "needs_background": "light"
     },
     "output_type": "display_data"
    }
   ],
   "source": [
    "hp.look_for_outliers(df_clean, correlated_variables, log_scale=True)"
   ]
  },
  {
   "cell_type": "markdown",
   "metadata": {},
   "source": [
    "**Observations:** Several features show outliers. I will correct for these using the Tukey method."
   ]
  },
  {
   "cell_type": "code",
   "execution_count": 33,
   "metadata": {},
   "outputs": [],
   "source": [
    "# Correct outliers using Tukey method\n",
    "hp.thresholds['tukey'] = 2.0\n",
    "tk_corrected = [f'{x}_tk' for x in correlated_variables]\n",
    "df_clean = hp.correct_outliers(df_clean, correlated_variables)"
   ]
  },
  {
   "cell_type": "code",
   "execution_count": 34,
   "metadata": {},
   "outputs": [
    {
     "data": {
      "image/png": "[encoded data removed]",
      "text/plain": [
       "<Figure size 1008x432 with 1 Axes>"
      ]
     },
     "metadata": {
      "needs_background": "light"
     },
     "output_type": "display_data"
    }
   ],
   "source": [
    "hp.look_for_outliers(df_clean, tk_corrected, log_scale=True)"
   ]
  },
  {
   "cell_type": "markdown",
   "metadata": {},
   "source": [
    "**Observations:** The number of outliers has been reduced. Now, I will standardize the dataset.\n",
    "\n",
    "### Standardize\n",
    "I will standarize all continous variables."
   ]
  },
  {
   "cell_type": "code",
   "execution_count": 35,
   "metadata": {},
   "outputs": [],
   "source": [
    "stand_variables = [f'{x}_sd' for x in tk_corrected]\n",
    "df_clean = hp.standardize(df_clean, tk_corrected)"
   ]
  },
  {
   "cell_type": "markdown",
   "metadata": {},
   "source": [
    "### Normality\n",
    "I will check the standardized continous variables for normality. If they aren't normal, I will correct them using using a Box-Cox transformation."
   ]
  },
  {
   "cell_type": "code",
   "execution_count": 36,
   "metadata": {},
   "outputs": [
    {
     "data": {
      "image/png": "[encoded data removed]",
      "text/plain": [
       "<Figure size 1008x432 with 1 Axes>"
      ]
     },
     "metadata": {
      "needs_background": "light"
     },
     "output_type": "display_data"
    }
   ],
   "source": [
    "hp.look_for_outliers(df_clean, stand_variables)"
   ]
  },
  {
   "cell_type": "code",
   "execution_count": 37,
   "metadata": {},
   "outputs": [
    {
     "name": "stdout",
     "output_type": "stream",
     "text": [
      "Normal test results:\n",
      "* firstflrsf_tk_sd: normal_stat = 125.529, p-value = 0.0000.\n",
      "* totalbsmtsf_tk_sd: normal_stat = 38.780, p-value = 0.0000.\n",
      "* garagearea_tk_sd: normal_stat = 5.965, p-value = 0.0507.\n",
      "* garagecars_tk_sd: normal_stat = 29.925, p-value = 0.0000.\n",
      "* grlivarea_tk_sd: normal_stat = 121.423, p-value = 0.0000.\n",
      "* overallqual_tk_sd: normal_stat = 11.905, p-value = 0.0026.\n",
      "* saleprice_tk_sd: normal_stat = 203.174, p-value = 0.0000.\n"
     ]
    }
   ],
   "source": [
    "hp.check_for_normality(df_clean, stand_variables)"
   ]
  },
  {
   "cell_type": "markdown",
   "metadata": {},
   "source": [
    "**Observation:** All continous variables except _garagarea_ are not normal. The non-normal variables have very low p-values. I will try transforming the data using a Box-Cox transform and see if that improve things."
   ]
  },
  {
   "cell_type": "code",
   "execution_count": 38,
   "metadata": {},
   "outputs": [],
   "source": [
    "bc_variables = [f'{x}_bc' for x in stand_variables]\n",
    "df_clean = hp.apply_boxcox_transform(df_clean, stand_variables)"
   ]
  },
  {
   "cell_type": "code",
   "execution_count": 39,
   "metadata": {},
   "outputs": [
    {
     "data": {
      "image/png": "[encoded data removed]",
      "text/plain": [
       "<Figure size 1008x432 with 1 Axes>"
      ]
     },
     "metadata": {
      "needs_background": "light"
     },
     "output_type": "display_data"
    }
   ],
   "source": [
    "hp.look_for_outliers(df_clean, bc_variables)"
   ]
  },
  {
   "cell_type": "code",
   "execution_count": 40,
   "metadata": {},
   "outputs": [
    {
     "name": "stdout",
     "output_type": "stream",
     "text": [
      "Normal test results:\n",
      "* firstflrsf_tk_sd_bc: normal_stat = 2.902, p-value = 0.2344.\n",
      "* totalbsmtsf_tk_sd_bc: normal_stat = 23.056, p-value = 0.0000.\n",
      "* garagearea_tk_sd_bc: normal_stat = 5.939, p-value = 0.0513.\n",
      "* garagecars_tk_sd_bc: normal_stat = 1.357, p-value = 0.5073.\n",
      "* grlivarea_tk_sd_bc: normal_stat = 2.743, p-value = 0.2537.\n",
      "* overallqual_tk_sd_bc: normal_stat = 3.444, p-value = 0.1787.\n",
      "* saleprice_tk_sd_bc: normal_stat = 1.403, p-value = 0.4959.\n"
     ]
    }
   ],
   "source": [
    "hp.check_for_normality(df_clean, bc_variables)"
   ]
  },
  {
   "cell_type": "markdown",
   "metadata": {},
   "source": [
    "**Observations:** Now, the only feature that is not normal is `'totalbsmtsf_tk_sd_bc'`."
   ]
  },
  {
   "cell_type": "markdown",
   "metadata": {},
   "source": [
    "## Data Exploration\n",
    "Here, I will focus on the correlations between the continous variables and the one-hot-encoded categorical features.\n",
    "### Correlated continous features\n",
    "Let's see how these variables are correlated."
   ]
  },
  {
   "cell_type": "code",
   "execution_count": 41,
   "metadata": {},
   "outputs": [],
   "source": [
    "cont_corrected_features = ['firstflrsf_tk_sd_bc', 'totalbsmtsf_tk_sd_bc', 'garagearea_tk_sd_bc', \n",
    "                           'garagecars_tk_sd_bc', 'grlivarea_tk_sd_bc', 'overallqual_tk_sd_bc']"
   ]
  },
  {
   "cell_type": "code",
   "execution_count": 42,
   "metadata": {},
   "outputs": [
    {
     "data": {
      "text/html": [
       "<div>\n",
       "<style scoped>\n",
       "    .dataframe tbody tr th:only-of-type {\n",
       "        vertical-align: middle;\n",
       "    }\n",
       "\n",
       "    .dataframe tbody tr th {\n",
       "        vertical-align: top;\n",
       "    }\n",
       "\n",
       "    .dataframe thead th {\n",
       "        text-align: right;\n",
       "    }\n",
       "</style>\n",
       "<table border=\"1\" class=\"dataframe\">\n",
       "  <thead>\n",
       "    <tr style=\"text-align: right;\">\n",
       "      <th></th>\n",
       "      <th>firstflrsf_tk_sd_bc</th>\n",
       "      <th>totalbsmtsf_tk_sd_bc</th>\n",
       "      <th>garagearea_tk_sd_bc</th>\n",
       "      <th>garagecars_tk_sd_bc</th>\n",
       "      <th>grlivarea_tk_sd_bc</th>\n",
       "      <th>overallqual_tk_sd_bc</th>\n",
       "    </tr>\n",
       "  </thead>\n",
       "  <tbody>\n",
       "    <tr>\n",
       "      <th>firstflrsf_tk_sd_bc</th>\n",
       "      <td>1.000000</td>\n",
       "      <td>0.776878</td>\n",
       "      <td>0.482988</td>\n",
       "      <td>0.457391</td>\n",
       "      <td>0.535647</td>\n",
       "      <td>0.449070</td>\n",
       "    </tr>\n",
       "    <tr>\n",
       "      <th>totalbsmtsf_tk_sd_bc</th>\n",
       "      <td>0.776878</td>\n",
       "      <td>1.000000</td>\n",
       "      <td>0.478354</td>\n",
       "      <td>0.459307</td>\n",
       "      <td>0.414689</td>\n",
       "      <td>0.536235</td>\n",
       "    </tr>\n",
       "    <tr>\n",
       "      <th>garagearea_tk_sd_bc</th>\n",
       "      <td>0.482988</td>\n",
       "      <td>0.478354</td>\n",
       "      <td>1.000000</td>\n",
       "      <td>0.886557</td>\n",
       "      <td>0.475227</td>\n",
       "      <td>0.562317</td>\n",
       "    </tr>\n",
       "    <tr>\n",
       "      <th>garagecars_tk_sd_bc</th>\n",
       "      <td>0.457391</td>\n",
       "      <td>0.459307</td>\n",
       "      <td>0.886557</td>\n",
       "      <td>1.000000</td>\n",
       "      <td>0.502433</td>\n",
       "      <td>0.602338</td>\n",
       "    </tr>\n",
       "    <tr>\n",
       "      <th>grlivarea_tk_sd_bc</th>\n",
       "      <td>0.535647</td>\n",
       "      <td>0.414689</td>\n",
       "      <td>0.475227</td>\n",
       "      <td>0.502433</td>\n",
       "      <td>1.000000</td>\n",
       "      <td>0.609463</td>\n",
       "    </tr>\n",
       "    <tr>\n",
       "      <th>overallqual_tk_sd_bc</th>\n",
       "      <td>0.449070</td>\n",
       "      <td>0.536235</td>\n",
       "      <td>0.562317</td>\n",
       "      <td>0.602338</td>\n",
       "      <td>0.609463</td>\n",
       "      <td>1.000000</td>\n",
       "    </tr>\n",
       "  </tbody>\n",
       "</table>\n",
       "</div>"
      ],
      "text/plain": [
       "                      firstflrsf_tk_sd_bc  totalbsmtsf_tk_sd_bc  \\\n",
       "firstflrsf_tk_sd_bc              1.000000              0.776878   \n",
       "totalbsmtsf_tk_sd_bc             0.776878              1.000000   \n",
       "garagearea_tk_sd_bc              0.482988              0.478354   \n",
       "garagecars_tk_sd_bc              0.457391              0.459307   \n",
       "grlivarea_tk_sd_bc               0.535647              0.414689   \n",
       "overallqual_tk_sd_bc             0.449070              0.536235   \n",
       "\n",
       "                      garagearea_tk_sd_bc  garagecars_tk_sd_bc  \\\n",
       "firstflrsf_tk_sd_bc              0.482988             0.457391   \n",
       "totalbsmtsf_tk_sd_bc             0.478354             0.459307   \n",
       "garagearea_tk_sd_bc              1.000000             0.886557   \n",
       "garagecars_tk_sd_bc              0.886557             1.000000   \n",
       "grlivarea_tk_sd_bc               0.475227             0.502433   \n",
       "overallqual_tk_sd_bc             0.562317             0.602338   \n",
       "\n",
       "                      grlivarea_tk_sd_bc  overallqual_tk_sd_bc  \n",
       "firstflrsf_tk_sd_bc             0.535647              0.449070  \n",
       "totalbsmtsf_tk_sd_bc            0.414689              0.536235  \n",
       "garagearea_tk_sd_bc             0.475227              0.562317  \n",
       "garagecars_tk_sd_bc             0.502433              0.602338  \n",
       "grlivarea_tk_sd_bc              1.000000              0.609463  \n",
       "overallqual_tk_sd_bc            0.609463              1.000000  "
      ]
     },
     "execution_count": 42,
     "metadata": {},
     "output_type": "execute_result"
    }
   ],
   "source": [
    "df_clean.loc[:, cont_corrected_features].corr()"
   ]
  },
  {
   "cell_type": "code",
   "execution_count": 43,
   "metadata": {},
   "outputs": [
    {
     "data": {
      "image/png": "[encoded data removed]",
      "text/plain": [
       "<Figure size 576x504 with 2 Axes>"
      ]
     },
     "metadata": {
      "needs_background": "light"
     },
     "output_type": "display_data"
    }
   ],
   "source": [
    "f, axes = plt.subplots(1, 1, figsize=(8, 7))\n",
    "sns.heatmap(df_clean.loc[:, cont_corrected_features].corr(), ax=axes)\n",
    "plt.show()"
   ]
  },
  {
   "cell_type": "markdown",
   "metadata": {},
   "source": [
    "**Observations:** `'garagearea_tk_sd_bc'` and `'garagecars_tk_sd_bc'` have a high correlation. I will address this issue by creating a new variable, `'garage_car_area'`, by multiplying these two variables together."
   ]
  },
  {
   "cell_type": "code",
   "execution_count": 44,
   "metadata": {},
   "outputs": [],
   "source": [
    "df_clean['garage_car_area'] = df_clean['garagearea_tk_sd_bc']*df_clean['garagecars_tk_sd_bc']"
   ]
  },
  {
   "cell_type": "code",
   "execution_count": 45,
   "metadata": {},
   "outputs": [],
   "source": [
    "# Add the new feature\n",
    "cont_corrected_features.append('garage_car_area')\n",
    "\n",
    "# Drop garagearea_sd_bc_tk and garagecars_sd_bc_tk\n",
    "cont_corrected_features.remove('garagearea_tk_sd_bc')\n",
    "cont_corrected_features.remove('garagecars_tk_sd_bc')"
   ]
  },
  {
   "cell_type": "markdown",
   "metadata": {},
   "source": [
    "**Observations:** `'totalbsmtsf_tk_sd_bc'` has a high correlation with `'firstflrsf_tk_sd_bc'`. Since the `'totalbsmtsf_tk_sd_bc'` is already problematic because it shows a high degree of non-normality, I will remove it."
   ]
  },
  {
   "cell_type": "code",
   "execution_count": 46,
   "metadata": {},
   "outputs": [],
   "source": [
    "cont_corrected_features.remove('totalbsmtsf_tk_sd_bc')"
   ]
  },
  {
   "cell_type": "code",
   "execution_count": 47,
   "metadata": {},
   "outputs": [
    {
     "data": {
      "text/html": [
       "<div>\n",
       "<style scoped>\n",
       "    .dataframe tbody tr th:only-of-type {\n",
       "        vertical-align: middle;\n",
       "    }\n",
       "\n",
       "    .dataframe tbody tr th {\n",
       "        vertical-align: top;\n",
       "    }\n",
       "\n",
       "    .dataframe thead th {\n",
       "        text-align: right;\n",
       "    }\n",
       "</style>\n",
       "<table border=\"1\" class=\"dataframe\">\n",
       "  <thead>\n",
       "    <tr style=\"text-align: right;\">\n",
       "      <th></th>\n",
       "      <th>firstflrsf_tk_sd_bc</th>\n",
       "      <th>grlivarea_tk_sd_bc</th>\n",
       "      <th>overallqual_tk_sd_bc</th>\n",
       "      <th>garage_car_area</th>\n",
       "    </tr>\n",
       "  </thead>\n",
       "  <tbody>\n",
       "    <tr>\n",
       "      <th>firstflrsf_tk_sd_bc</th>\n",
       "      <td>1.000000</td>\n",
       "      <td>0.535647</td>\n",
       "      <td>0.449070</td>\n",
       "      <td>0.488147</td>\n",
       "    </tr>\n",
       "    <tr>\n",
       "      <th>grlivarea_tk_sd_bc</th>\n",
       "      <td>0.535647</td>\n",
       "      <td>1.000000</td>\n",
       "      <td>0.609463</td>\n",
       "      <td>0.502488</td>\n",
       "    </tr>\n",
       "    <tr>\n",
       "      <th>overallqual_tk_sd_bc</th>\n",
       "      <td>0.449070</td>\n",
       "      <td>0.609463</td>\n",
       "      <td>1.000000</td>\n",
       "      <td>0.590025</td>\n",
       "    </tr>\n",
       "    <tr>\n",
       "      <th>garage_car_area</th>\n",
       "      <td>0.488147</td>\n",
       "      <td>0.502488</td>\n",
       "      <td>0.590025</td>\n",
       "      <td>1.000000</td>\n",
       "    </tr>\n",
       "  </tbody>\n",
       "</table>\n",
       "</div>"
      ],
      "text/plain": [
       "                      firstflrsf_tk_sd_bc  grlivarea_tk_sd_bc  \\\n",
       "firstflrsf_tk_sd_bc              1.000000            0.535647   \n",
       "grlivarea_tk_sd_bc               0.535647            1.000000   \n",
       "overallqual_tk_sd_bc             0.449070            0.609463   \n",
       "garage_car_area                  0.488147            0.502488   \n",
       "\n",
       "                      overallqual_tk_sd_bc  garage_car_area  \n",
       "firstflrsf_tk_sd_bc               0.449070         0.488147  \n",
       "grlivarea_tk_sd_bc                0.609463         0.502488  \n",
       "overallqual_tk_sd_bc              1.000000         0.590025  \n",
       "garage_car_area                   0.590025         1.000000  "
      ]
     },
     "execution_count": 47,
     "metadata": {},
     "output_type": "execute_result"
    }
   ],
   "source": [
    "df_clean.loc[:, cont_corrected_features].corr()"
   ]
  },
  {
   "cell_type": "code",
   "execution_count": 48,
   "metadata": {},
   "outputs": [
    {
     "data": {
      "image/png": "[encoded data removed]",
      "text/plain": [
       "<Figure size 504x360 with 2 Axes>"
      ]
     },
     "metadata": {
      "needs_background": "light"
     },
     "output_type": "display_data"
    }
   ],
   "source": [
    "f, axes = plt.subplots(1, 1, figsize=(7, 5))\n",
    "sns.heatmap(df_clean.loc[:, cont_corrected_features].corr(), ax=axes)\n",
    "plt.show()"
   ]
  },
  {
   "cell_type": "markdown",
   "metadata": {},
   "source": [
    "### Correlated categorical features\n",
    "Look for correlated dummy features and remove them. I will use a cutoff of $\\pm$0.8 in correlation."
   ]
  },
  {
   "cell_type": "code",
   "execution_count": 49,
   "metadata": {},
   "outputs": [],
   "source": [
    "dummy_features = [x for x in df_clean.columns.tolist() if x[-3:] == '_oh']\n",
    "df_cat_correalated = df_clean.loc[:, dummy_features].corr().copy()"
   ]
  },
  {
   "cell_type": "code",
   "execution_count": 50,
   "metadata": {},
   "outputs": [
    {
     "data": {
      "text/html": [
       "<div>\n",
       "<style scoped>\n",
       "    .dataframe tbody tr th:only-of-type {\n",
       "        vertical-align: middle;\n",
       "    }\n",
       "\n",
       "    .dataframe tbody tr th {\n",
       "        vertical-align: top;\n",
       "    }\n",
       "\n",
       "    .dataframe thead th {\n",
       "        text-align: right;\n",
       "    }\n",
       "</style>\n",
       "<table border=\"1\" class=\"dataframe\">\n",
       "  <thead>\n",
       "    <tr style=\"text-align: right;\">\n",
       "      <th></th>\n",
       "      <th>mszoning_RL_oh</th>\n",
       "      <th>mszoning_RM_oh</th>\n",
       "      <th>masvnrtype_BrkFace_oh</th>\n",
       "      <th>masvnrtype_None_oh</th>\n",
       "      <th>exterqual_Gd_oh</th>\n",
       "      <th>exterqual_TA_oh</th>\n",
       "      <th>extercond_Gd_oh</th>\n",
       "      <th>extercond_TA_oh</th>\n",
       "      <th>kitchenqual_Gd_oh</th>\n",
       "      <th>kitchenqual_TA_oh</th>\n",
       "    </tr>\n",
       "  </thead>\n",
       "  <tbody>\n",
       "    <tr>\n",
       "      <th>mszoning_RL_oh</th>\n",
       "      <td>NaN</td>\n",
       "      <td>-0.808585</td>\n",
       "      <td>NaN</td>\n",
       "      <td>NaN</td>\n",
       "      <td>NaN</td>\n",
       "      <td>NaN</td>\n",
       "      <td>NaN</td>\n",
       "      <td>NaN</td>\n",
       "      <td>NaN</td>\n",
       "      <td>NaN</td>\n",
       "    </tr>\n",
       "    <tr>\n",
       "      <th>mszoning_RM_oh</th>\n",
       "      <td>-0.808585</td>\n",
       "      <td>NaN</td>\n",
       "      <td>NaN</td>\n",
       "      <td>NaN</td>\n",
       "      <td>NaN</td>\n",
       "      <td>NaN</td>\n",
       "      <td>NaN</td>\n",
       "      <td>NaN</td>\n",
       "      <td>NaN</td>\n",
       "      <td>NaN</td>\n",
       "    </tr>\n",
       "    <tr>\n",
       "      <th>masvnrtype_BrkFace_oh</th>\n",
       "      <td>NaN</td>\n",
       "      <td>NaN</td>\n",
       "      <td>NaN</td>\n",
       "      <td>-0.806337</td>\n",
       "      <td>NaN</td>\n",
       "      <td>NaN</td>\n",
       "      <td>NaN</td>\n",
       "      <td>NaN</td>\n",
       "      <td>NaN</td>\n",
       "      <td>NaN</td>\n",
       "    </tr>\n",
       "    <tr>\n",
       "      <th>masvnrtype_None_oh</th>\n",
       "      <td>NaN</td>\n",
       "      <td>NaN</td>\n",
       "      <td>-0.806337</td>\n",
       "      <td>NaN</td>\n",
       "      <td>NaN</td>\n",
       "      <td>NaN</td>\n",
       "      <td>NaN</td>\n",
       "      <td>NaN</td>\n",
       "      <td>NaN</td>\n",
       "      <td>NaN</td>\n",
       "    </tr>\n",
       "    <tr>\n",
       "      <th>exterqual_Gd_oh</th>\n",
       "      <td>NaN</td>\n",
       "      <td>NaN</td>\n",
       "      <td>NaN</td>\n",
       "      <td>NaN</td>\n",
       "      <td>NaN</td>\n",
       "      <td>-0.906121</td>\n",
       "      <td>NaN</td>\n",
       "      <td>NaN</td>\n",
       "      <td>NaN</td>\n",
       "      <td>NaN</td>\n",
       "    </tr>\n",
       "    <tr>\n",
       "      <th>exterqual_TA_oh</th>\n",
       "      <td>NaN</td>\n",
       "      <td>NaN</td>\n",
       "      <td>NaN</td>\n",
       "      <td>NaN</td>\n",
       "      <td>-0.906121</td>\n",
       "      <td>NaN</td>\n",
       "      <td>NaN</td>\n",
       "      <td>NaN</td>\n",
       "      <td>NaN</td>\n",
       "      <td>NaN</td>\n",
       "    </tr>\n",
       "    <tr>\n",
       "      <th>extercond_Gd_oh</th>\n",
       "      <td>NaN</td>\n",
       "      <td>NaN</td>\n",
       "      <td>NaN</td>\n",
       "      <td>NaN</td>\n",
       "      <td>NaN</td>\n",
       "      <td>NaN</td>\n",
       "      <td>NaN</td>\n",
       "      <td>-0.894567</td>\n",
       "      <td>NaN</td>\n",
       "      <td>NaN</td>\n",
       "    </tr>\n",
       "    <tr>\n",
       "      <th>extercond_TA_oh</th>\n",
       "      <td>NaN</td>\n",
       "      <td>NaN</td>\n",
       "      <td>NaN</td>\n",
       "      <td>NaN</td>\n",
       "      <td>NaN</td>\n",
       "      <td>NaN</td>\n",
       "      <td>-0.894567</td>\n",
       "      <td>NaN</td>\n",
       "      <td>NaN</td>\n",
       "      <td>NaN</td>\n",
       "    </tr>\n",
       "    <tr>\n",
       "      <th>kitchenqual_Gd_oh</th>\n",
       "      <td>NaN</td>\n",
       "      <td>NaN</td>\n",
       "      <td>NaN</td>\n",
       "      <td>NaN</td>\n",
       "      <td>NaN</td>\n",
       "      <td>NaN</td>\n",
       "      <td>NaN</td>\n",
       "      <td>NaN</td>\n",
       "      <td>NaN</td>\n",
       "      <td>-0.824457</td>\n",
       "    </tr>\n",
       "    <tr>\n",
       "      <th>kitchenqual_TA_oh</th>\n",
       "      <td>NaN</td>\n",
       "      <td>NaN</td>\n",
       "      <td>NaN</td>\n",
       "      <td>NaN</td>\n",
       "      <td>NaN</td>\n",
       "      <td>NaN</td>\n",
       "      <td>NaN</td>\n",
       "      <td>NaN</td>\n",
       "      <td>-0.824457</td>\n",
       "      <td>NaN</td>\n",
       "    </tr>\n",
       "  </tbody>\n",
       "</table>\n",
       "</div>"
      ],
      "text/plain": [
       "                       mszoning_RL_oh  mszoning_RM_oh  masvnrtype_BrkFace_oh  \\\n",
       "mszoning_RL_oh                    NaN       -0.808585                    NaN   \n",
       "mszoning_RM_oh              -0.808585             NaN                    NaN   \n",
       "masvnrtype_BrkFace_oh             NaN             NaN                    NaN   \n",
       "masvnrtype_None_oh                NaN             NaN              -0.806337   \n",
       "exterqual_Gd_oh                   NaN             NaN                    NaN   \n",
       "exterqual_TA_oh                   NaN             NaN                    NaN   \n",
       "extercond_Gd_oh                   NaN             NaN                    NaN   \n",
       "extercond_TA_oh                   NaN             NaN                    NaN   \n",
       "kitchenqual_Gd_oh                 NaN             NaN                    NaN   \n",
       "kitchenqual_TA_oh                 NaN             NaN                    NaN   \n",
       "\n",
       "                       masvnrtype_None_oh  exterqual_Gd_oh  exterqual_TA_oh  \\\n",
       "mszoning_RL_oh                        NaN              NaN              NaN   \n",
       "mszoning_RM_oh                        NaN              NaN              NaN   \n",
       "masvnrtype_BrkFace_oh           -0.806337              NaN              NaN   \n",
       "masvnrtype_None_oh                    NaN              NaN              NaN   \n",
       "exterqual_Gd_oh                       NaN              NaN        -0.906121   \n",
       "exterqual_TA_oh                       NaN        -0.906121              NaN   \n",
       "extercond_Gd_oh                       NaN              NaN              NaN   \n",
       "extercond_TA_oh                       NaN              NaN              NaN   \n",
       "kitchenqual_Gd_oh                     NaN              NaN              NaN   \n",
       "kitchenqual_TA_oh                     NaN              NaN              NaN   \n",
       "\n",
       "                       extercond_Gd_oh  extercond_TA_oh  kitchenqual_Gd_oh  \\\n",
       "mszoning_RL_oh                     NaN              NaN                NaN   \n",
       "mszoning_RM_oh                     NaN              NaN                NaN   \n",
       "masvnrtype_BrkFace_oh              NaN              NaN                NaN   \n",
       "masvnrtype_None_oh                 NaN              NaN                NaN   \n",
       "exterqual_Gd_oh                    NaN              NaN                NaN   \n",
       "exterqual_TA_oh                    NaN              NaN                NaN   \n",
       "extercond_Gd_oh                    NaN        -0.894567                NaN   \n",
       "extercond_TA_oh              -0.894567              NaN                NaN   \n",
       "kitchenqual_Gd_oh                  NaN              NaN                NaN   \n",
       "kitchenqual_TA_oh                  NaN              NaN          -0.824457   \n",
       "\n",
       "                       kitchenqual_TA_oh  \n",
       "mszoning_RL_oh                       NaN  \n",
       "mszoning_RM_oh                       NaN  \n",
       "masvnrtype_BrkFace_oh                NaN  \n",
       "masvnrtype_None_oh                   NaN  \n",
       "exterqual_Gd_oh                      NaN  \n",
       "exterqual_TA_oh                      NaN  \n",
       "extercond_Gd_oh                      NaN  \n",
       "extercond_TA_oh                      NaN  \n",
       "kitchenqual_Gd_oh              -0.824457  \n",
       "kitchenqual_TA_oh                    NaN  "
      ]
     },
     "execution_count": 50,
     "metadata": {},
     "output_type": "execute_result"
    }
   ],
   "source": [
    "df_cat_correalated[df_cat_correalated < -0.8].dropna(how='all').dropna(how='all', axis=1)"
   ]
  },
  {
   "cell_type": "code",
   "execution_count": 51,
   "metadata": {},
   "outputs": [],
   "source": [
    "df_positive_corr_cats = df_cat_correalated[df_cat_correalated < -0.8].dropna(how='all').dropna(how='all',\n",
    "                                                                                               axis=1).copy()"
   ]
  },
  {
   "cell_type": "code",
   "execution_count": 52,
   "metadata": {},
   "outputs": [
    {
     "data": {
      "text/html": [
       "<div>\n",
       "<style scoped>\n",
       "    .dataframe tbody tr th:only-of-type {\n",
       "        vertical-align: middle;\n",
       "    }\n",
       "\n",
       "    .dataframe tbody tr th {\n",
       "        vertical-align: top;\n",
       "    }\n",
       "\n",
       "    .dataframe thead th {\n",
       "        text-align: right;\n",
       "    }\n",
       "</style>\n",
       "<table border=\"1\" class=\"dataframe\">\n",
       "  <thead>\n",
       "    <tr style=\"text-align: right;\">\n",
       "      <th></th>\n",
       "      <th>mszoning_FV_oh</th>\n",
       "      <th>neighborhood_Somerst_oh</th>\n",
       "      <th>foundation_Slab_oh</th>\n",
       "      <th>bsmtqual_None_oh</th>\n",
       "      <th>bsmtcond_None_oh</th>\n",
       "      <th>bsmtexposure_None_oh</th>\n",
       "      <th>saletype_New_oh</th>\n",
       "      <th>salecondition_Partial_oh</th>\n",
       "    </tr>\n",
       "  </thead>\n",
       "  <tbody>\n",
       "    <tr>\n",
       "      <th>mszoning_FV_oh</th>\n",
       "      <td>NaN</td>\n",
       "      <td>0.862807</td>\n",
       "      <td>NaN</td>\n",
       "      <td>NaN</td>\n",
       "      <td>NaN</td>\n",
       "      <td>NaN</td>\n",
       "      <td>NaN</td>\n",
       "      <td>NaN</td>\n",
       "    </tr>\n",
       "    <tr>\n",
       "      <th>neighborhood_Somerst_oh</th>\n",
       "      <td>0.862807</td>\n",
       "      <td>NaN</td>\n",
       "      <td>NaN</td>\n",
       "      <td>NaN</td>\n",
       "      <td>NaN</td>\n",
       "      <td>NaN</td>\n",
       "      <td>NaN</td>\n",
       "      <td>NaN</td>\n",
       "    </tr>\n",
       "    <tr>\n",
       "      <th>foundation_Slab_oh</th>\n",
       "      <td>NaN</td>\n",
       "      <td>NaN</td>\n",
       "      <td>NaN</td>\n",
       "      <td>0.801733</td>\n",
       "      <td>0.801733</td>\n",
       "      <td>NaN</td>\n",
       "      <td>NaN</td>\n",
       "      <td>NaN</td>\n",
       "    </tr>\n",
       "    <tr>\n",
       "      <th>bsmtqual_None_oh</th>\n",
       "      <td>NaN</td>\n",
       "      <td>NaN</td>\n",
       "      <td>0.801733</td>\n",
       "      <td>NaN</td>\n",
       "      <td>NaN</td>\n",
       "      <td>0.986408</td>\n",
       "      <td>NaN</td>\n",
       "      <td>NaN</td>\n",
       "    </tr>\n",
       "    <tr>\n",
       "      <th>bsmtcond_None_oh</th>\n",
       "      <td>NaN</td>\n",
       "      <td>NaN</td>\n",
       "      <td>0.801733</td>\n",
       "      <td>NaN</td>\n",
       "      <td>NaN</td>\n",
       "      <td>0.986408</td>\n",
       "      <td>NaN</td>\n",
       "      <td>NaN</td>\n",
       "    </tr>\n",
       "    <tr>\n",
       "      <th>bsmtexposure_None_oh</th>\n",
       "      <td>NaN</td>\n",
       "      <td>NaN</td>\n",
       "      <td>NaN</td>\n",
       "      <td>0.986408</td>\n",
       "      <td>0.986408</td>\n",
       "      <td>NaN</td>\n",
       "      <td>NaN</td>\n",
       "      <td>NaN</td>\n",
       "    </tr>\n",
       "    <tr>\n",
       "      <th>saletype_New_oh</th>\n",
       "      <td>NaN</td>\n",
       "      <td>NaN</td>\n",
       "      <td>NaN</td>\n",
       "      <td>NaN</td>\n",
       "      <td>NaN</td>\n",
       "      <td>NaN</td>\n",
       "      <td>NaN</td>\n",
       "      <td>0.986819</td>\n",
       "    </tr>\n",
       "    <tr>\n",
       "      <th>salecondition_Partial_oh</th>\n",
       "      <td>NaN</td>\n",
       "      <td>NaN</td>\n",
       "      <td>NaN</td>\n",
       "      <td>NaN</td>\n",
       "      <td>NaN</td>\n",
       "      <td>NaN</td>\n",
       "      <td>0.986819</td>\n",
       "      <td>NaN</td>\n",
       "    </tr>\n",
       "  </tbody>\n",
       "</table>\n",
       "</div>"
      ],
      "text/plain": [
       "                          mszoning_FV_oh  neighborhood_Somerst_oh  \\\n",
       "mszoning_FV_oh                       NaN                 0.862807   \n",
       "neighborhood_Somerst_oh         0.862807                      NaN   \n",
       "foundation_Slab_oh                   NaN                      NaN   \n",
       "bsmtqual_None_oh                     NaN                      NaN   \n",
       "bsmtcond_None_oh                     NaN                      NaN   \n",
       "bsmtexposure_None_oh                 NaN                      NaN   \n",
       "saletype_New_oh                      NaN                      NaN   \n",
       "salecondition_Partial_oh             NaN                      NaN   \n",
       "\n",
       "                          foundation_Slab_oh  bsmtqual_None_oh  \\\n",
       "mszoning_FV_oh                           NaN               NaN   \n",
       "neighborhood_Somerst_oh                  NaN               NaN   \n",
       "foundation_Slab_oh                       NaN          0.801733   \n",
       "bsmtqual_None_oh                    0.801733               NaN   \n",
       "bsmtcond_None_oh                    0.801733               NaN   \n",
       "bsmtexposure_None_oh                     NaN          0.986408   \n",
       "saletype_New_oh                          NaN               NaN   \n",
       "salecondition_Partial_oh                 NaN               NaN   \n",
       "\n",
       "                          bsmtcond_None_oh  bsmtexposure_None_oh  \\\n",
       "mszoning_FV_oh                         NaN                   NaN   \n",
       "neighborhood_Somerst_oh                NaN                   NaN   \n",
       "foundation_Slab_oh                0.801733                   NaN   \n",
       "bsmtqual_None_oh                       NaN              0.986408   \n",
       "bsmtcond_None_oh                       NaN              0.986408   \n",
       "bsmtexposure_None_oh              0.986408                   NaN   \n",
       "saletype_New_oh                        NaN                   NaN   \n",
       "salecondition_Partial_oh               NaN                   NaN   \n",
       "\n",
       "                          saletype_New_oh  salecondition_Partial_oh  \n",
       "mszoning_FV_oh                        NaN                       NaN  \n",
       "neighborhood_Somerst_oh               NaN                       NaN  \n",
       "foundation_Slab_oh                    NaN                       NaN  \n",
       "bsmtqual_None_oh                      NaN                       NaN  \n",
       "bsmtcond_None_oh                      NaN                       NaN  \n",
       "bsmtexposure_None_oh                  NaN                       NaN  \n",
       "saletype_New_oh                       NaN                  0.986819  \n",
       "salecondition_Partial_oh         0.986819                       NaN  "
      ]
     },
     "execution_count": 52,
     "metadata": {},
     "output_type": "execute_result"
    }
   ],
   "source": [
    "df_cat_correalated[(df_cat_correalated > 0.8) & (df_cat_correalated < 1.0)].dropna(how='all').dropna(how='all', axis=1)"
   ]
  },
  {
   "cell_type": "code",
   "execution_count": 53,
   "metadata": {},
   "outputs": [],
   "source": [
    "df_negative_corr_cats = df_cat_correalated[(df_cat_correalated > 0.8) & \n",
    "                                       (df_cat_correalated < 1.0)].dropna(how='all').dropna(how='all', \n",
    "                                                                                            axis=1).copy()"
   ]
  },
  {
   "cell_type": "code",
   "execution_count": 54,
   "metadata": {},
   "outputs": [],
   "source": [
    "# Gather the positively correlated features and the negatively correlated features\n",
    "correlated_cats = df_positive_corr_cats.columns.tolist() + df_negative_corr_cats.columns.tolist()\n",
    "\n",
    "# Remove the correlated features from the list of dummy features\n",
    "dummy_features = [x for x in dummy_features if x not in correlated_cats]"
   ]
  },
  {
   "cell_type": "markdown",
   "metadata": {},
   "source": [
    "## Modeling\n",
    "Now that I have selected the best features, I can begin the modeling process.\n",
    "\n",
    "### Model 1\n",
    "In my first model, I will create an ordinary linear regression model using Scikit-Learn."
   ]
  },
  {
   "cell_type": "code",
   "execution_count": 55,
   "metadata": {},
   "outputs": [],
   "source": [
    "all_features = dummy_features + cont_corrected_features\n",
    "df_model_1 = df_clean.loc[:, all_features + ['saleprice_tk_sd_bc']].copy()"
   ]
  },
  {
   "cell_type": "code",
   "execution_count": 56,
   "metadata": {},
   "outputs": [],
   "source": [
    "X = df_model_1.loc[:, all_features]\n",
    "y = df_model_1['saleprice_tk_sd_bc']"
   ]
  },
  {
   "cell_type": "code",
   "execution_count": 57,
   "metadata": {},
   "outputs": [
    {
     "name": "stdout",
     "output_type": "stream",
     "text": [
      "Prediction Metrics:\n",
      "* R-squared: 0.871\n",
      "* MAE = 0.070\n",
      "* MSE = 0.010\n",
      "* RMSE = 0.098\n",
      "* MAPE = 9.957%\n"
     ]
    }
   ],
   "source": [
    "hp.run_linear_model(LinearRegression, X, y, print_results=True)"
   ]
  },
  {
   "cell_type": "code",
   "execution_count": 58,
   "metadata": {},
   "outputs": [
    {
     "name": "stdout",
     "output_type": "stream",
     "text": [
      "Comparing Scores:\n",
      " * train: 0.885\n",
      " * test: 0.871\n"
     ]
    }
   ],
   "source": [
    "hp.compare_scores()"
   ]
  },
  {
   "cell_type": "code",
   "execution_count": 59,
   "metadata": {},
   "outputs": [
    {
     "data": {
      "image/png": "[encoded data removed]",
      "text/plain": [
       "<Figure size 1008x432 with 1 Axes>"
      ]
     },
     "metadata": {
      "needs_background": "light"
     },
     "output_type": "display_data"
    }
   ],
   "source": [
    "hp.plot_predictions(df_clean, 'saleprice_tk_sd_bc')"
   ]
  },
  {
   "cell_type": "markdown",
   "metadata": {},
   "source": [
    "**Observations:** The high train and test scores indicate that this model is performing well already.\n",
    "\n",
    "### Model 2\n",
    "Using the results from Model 1, I will select only those features with an F-statistic p-value less than 0.05. These are the features that contribute most to the model. I will then rerun the model and see if the prediction metrics improve."
   ]
  },
  {
   "cell_type": "code",
   "execution_count": 60,
   "metadata": {},
   "outputs": [],
   "source": [
    "df_ftest = hp.ftest_feature_selection()"
   ]
  },
  {
   "cell_type": "code",
   "execution_count": 61,
   "metadata": {},
   "outputs": [
    {
     "data": {
      "text/html": [
       "<div>\n",
       "<style scoped>\n",
       "    .dataframe tbody tr th:only-of-type {\n",
       "        vertical-align: middle;\n",
       "    }\n",
       "\n",
       "    .dataframe tbody tr th {\n",
       "        vertical-align: top;\n",
       "    }\n",
       "\n",
       "    .dataframe thead th {\n",
       "        text-align: right;\n",
       "    }\n",
       "</style>\n",
       "<table border=\"1\" class=\"dataframe\">\n",
       "  <thead>\n",
       "    <tr style=\"text-align: right;\">\n",
       "      <th></th>\n",
       "      <th>feature</th>\n",
       "      <th>F</th>\n",
       "      <th>pval</th>\n",
       "      <th>coeffs</th>\n",
       "    </tr>\n",
       "  </thead>\n",
       "  <tbody>\n",
       "    <tr>\n",
       "      <th>77</th>\n",
       "      <td>overallqual_tk_sd_bc</td>\n",
       "      <td>2206.402797</td>\n",
       "      <td>3.605700e-271</td>\n",
       "      <td>0.091874</td>\n",
       "    </tr>\n",
       "    <tr>\n",
       "      <th>76</th>\n",
       "      <td>grlivarea_tk_sd_bc</td>\n",
       "      <td>1294.758881</td>\n",
       "      <td>2.509549e-191</td>\n",
       "      <td>0.252556</td>\n",
       "    </tr>\n",
       "    <tr>\n",
       "      <th>78</th>\n",
       "      <td>garage_car_area</td>\n",
       "      <td>947.789232</td>\n",
       "      <td>8.251086e-153</td>\n",
       "      <td>0.004453</td>\n",
       "    </tr>\n",
       "    <tr>\n",
       "      <th>75</th>\n",
       "      <td>firstflrsf_tk_sd_bc</td>\n",
       "      <td>643.723175</td>\n",
       "      <td>1.948300e-113</td>\n",
       "      <td>0.071251</td>\n",
       "    </tr>\n",
       "    <tr>\n",
       "      <th>58</th>\n",
       "      <td>fireplacequ_None_oh</td>\n",
       "      <td>437.508156</td>\n",
       "      <td>9.512959e-83</td>\n",
       "      <td>-0.062335</td>\n",
       "    </tr>\n",
       "    <tr>\n",
       "      <th>37</th>\n",
       "      <td>foundation_PConc_oh</td>\n",
       "      <td>413.279827</td>\n",
       "      <td>6.952948e-79</td>\n",
       "      <td>0.039241</td>\n",
       "    </tr>\n",
       "    <tr>\n",
       "      <th>42</th>\n",
       "      <td>bsmtqual_TA_oh</td>\n",
       "      <td>336.450606</td>\n",
       "      <td>3.183423e-66</td>\n",
       "      <td>-0.037035</td>\n",
       "    </tr>\n",
       "    <tr>\n",
       "      <th>63</th>\n",
       "      <td>garagefinish_Unf_oh</td>\n",
       "      <td>273.363912</td>\n",
       "      <td>2.508592e-55</td>\n",
       "      <td>-0.033977</td>\n",
       "    </tr>\n",
       "    <tr>\n",
       "      <th>41</th>\n",
       "      <td>bsmtqual_Gd_oh</td>\n",
       "      <td>175.457670</td>\n",
       "      <td>2.068440e-37</td>\n",
       "      <td>-0.024515</td>\n",
       "    </tr>\n",
       "    <tr>\n",
       "      <th>54</th>\n",
       "      <td>centralair_Y_oh</td>\n",
       "      <td>173.758186</td>\n",
       "      <td>4.349410e-37</td>\n",
       "      <td>0.088434</td>\n",
       "    </tr>\n",
       "    <tr>\n",
       "      <th>61</th>\n",
       "      <td>garagefinish_None_oh</td>\n",
       "      <td>150.175965</td>\n",
       "      <td>1.452889e-32</td>\n",
       "      <td>-0.070177</td>\n",
       "    </tr>\n",
       "    <tr>\n",
       "      <th>57</th>\n",
       "      <td>fireplacequ_Gd_oh</td>\n",
       "      <td>149.538390</td>\n",
       "      <td>1.930722e-32</td>\n",
       "      <td>-0.037656</td>\n",
       "    </tr>\n",
       "    <tr>\n",
       "      <th>36</th>\n",
       "      <td>foundation_CBlock_oh</td>\n",
       "      <td>139.261009</td>\n",
       "      <td>1.927806e-30</td>\n",
       "      <td>0.030211</td>\n",
       "    </tr>\n",
       "    <tr>\n",
       "      <th>24</th>\n",
       "      <td>neighborhood_NridgHt_oh</td>\n",
       "      <td>138.237732</td>\n",
       "      <td>3.055235e-30</td>\n",
       "      <td>0.032182</td>\n",
       "    </tr>\n",
       "    <tr>\n",
       "      <th>32</th>\n",
       "      <td>masvnrtype_Stone_oh</td>\n",
       "      <td>118.396765</td>\n",
       "      <td>2.490055e-26</td>\n",
       "      <td>0.008973</td>\n",
       "    </tr>\n",
       "    <tr>\n",
       "      <th>4</th>\n",
       "      <td>lotshape_Reg_oh</td>\n",
       "      <td>102.515611</td>\n",
       "      <td>3.753302e-23</td>\n",
       "      <td>-0.007647</td>\n",
       "    </tr>\n",
       "    <tr>\n",
       "      <th>23</th>\n",
       "      <td>neighborhood_NoRidge_oh</td>\n",
       "      <td>88.977869</td>\n",
       "      <td>2.083815e-20</td>\n",
       "      <td>0.041860</td>\n",
       "    </tr>\n",
       "    <tr>\n",
       "      <th>62</th>\n",
       "      <td>garagefinish_RFn_oh</td>\n",
       "      <td>77.924381</td>\n",
       "      <td>3.846150e-18</td>\n",
       "      <td>-0.010259</td>\n",
       "    </tr>\n",
       "    <tr>\n",
       "      <th>46</th>\n",
       "      <td>bsmtexposure_Gd_oh</td>\n",
       "      <td>71.927596</td>\n",
       "      <td>6.675643e-17</td>\n",
       "      <td>0.037125</td>\n",
       "    </tr>\n",
       "    <tr>\n",
       "      <th>48</th>\n",
       "      <td>bsmtexposure_No_oh</td>\n",
       "      <td>68.830358</td>\n",
       "      <td>2.934444e-16</td>\n",
       "      <td>-0.016110</td>\n",
       "    </tr>\n",
       "    <tr>\n",
       "      <th>25</th>\n",
       "      <td>neighborhood_OldTown_oh</td>\n",
       "      <td>67.106875</td>\n",
       "      <td>6.702139e-16</td>\n",
       "      <td>-0.117377</td>\n",
       "    </tr>\n",
       "    <tr>\n",
       "      <th>60</th>\n",
       "      <td>fireplacequ_TA_oh</td>\n",
       "      <td>66.394554</td>\n",
       "      <td>9.432868e-16</td>\n",
       "      <td>-0.045861</td>\n",
       "    </tr>\n",
       "    <tr>\n",
       "      <th>55</th>\n",
       "      <td>kitchenqual_Fa_oh</td>\n",
       "      <td>60.816150</td>\n",
       "      <td>1.383042e-14</td>\n",
       "      <td>0.006409</td>\n",
       "    </tr>\n",
       "    <tr>\n",
       "      <th>15</th>\n",
       "      <td>neighborhood_Edwards_oh</td>\n",
       "      <td>59.276389</td>\n",
       "      <td>2.910312e-14</td>\n",
       "      <td>-0.093703</td>\n",
       "    </tr>\n",
       "    <tr>\n",
       "      <th>70</th>\n",
       "      <td>saletype_WD_oh</td>\n",
       "      <td>55.205703</td>\n",
       "      <td>2.092877e-13</td>\n",
       "      <td>-0.036482</td>\n",
       "    </tr>\n",
       "    <tr>\n",
       "      <th>17</th>\n",
       "      <td>neighborhood_IDOTRR_oh</td>\n",
       "      <td>52.384925</td>\n",
       "      <td>8.255683e-13</td>\n",
       "      <td>-0.125231</td>\n",
       "    </tr>\n",
       "    <tr>\n",
       "      <th>34</th>\n",
       "      <td>extercond_Fa_oh</td>\n",
       "      <td>43.477676</td>\n",
       "      <td>6.485022e-11</td>\n",
       "      <td>-0.040403</td>\n",
       "    </tr>\n",
       "    <tr>\n",
       "      <th>11</th>\n",
       "      <td>neighborhood_BrkSide_oh</td>\n",
       "      <td>40.629420</td>\n",
       "      <td>2.645119e-10</td>\n",
       "      <td>-0.056087</td>\n",
       "    </tr>\n",
       "    <tr>\n",
       "      <th>40</th>\n",
       "      <td>bsmtqual_Fa_oh</td>\n",
       "      <td>37.681102</td>\n",
       "      <td>1.140110e-09</td>\n",
       "      <td>-0.052795</td>\n",
       "    </tr>\n",
       "    <tr>\n",
       "      <th>29</th>\n",
       "      <td>neighborhood_StoneBr_oh</td>\n",
       "      <td>36.750939</td>\n",
       "      <td>1.810018e-09</td>\n",
       "      <td>0.041695</td>\n",
       "    </tr>\n",
       "    <tr>\n",
       "      <th>20</th>\n",
       "      <td>neighborhood_NAmes_oh</td>\n",
       "      <td>35.179561</td>\n",
       "      <td>3.957605e-09</td>\n",
       "      <td>-0.065958</td>\n",
       "    </tr>\n",
       "    <tr>\n",
       "      <th>33</th>\n",
       "      <td>exterqual_Fa_oh</td>\n",
       "      <td>33.076808</td>\n",
       "      <td>1.130758e-08</td>\n",
       "      <td>0.000986</td>\n",
       "    </tr>\n",
       "    <tr>\n",
       "      <th>51</th>\n",
       "      <td>heating_Grav_oh</td>\n",
       "      <td>27.855497</td>\n",
       "      <td>1.557846e-07</td>\n",
       "      <td>-0.075868</td>\n",
       "    </tr>\n",
       "    <tr>\n",
       "      <th>5</th>\n",
       "      <td>lotconfig_CulDSac_oh</td>\n",
       "      <td>26.697380</td>\n",
       "      <td>2.796995e-07</td>\n",
       "      <td>0.023963</td>\n",
       "    </tr>\n",
       "    <tr>\n",
       "      <th>45</th>\n",
       "      <td>bsmtcond_TA_oh</td>\n",
       "      <td>26.122936</td>\n",
       "      <td>3.740958e-07</td>\n",
       "      <td>0.090838</td>\n",
       "    </tr>\n",
       "    <tr>\n",
       "      <th>49</th>\n",
       "      <td>heating_GasA_oh</td>\n",
       "      <td>24.694552</td>\n",
       "      <td>7.721039e-07</td>\n",
       "      <td>0.022578</td>\n",
       "    </tr>\n",
       "    <tr>\n",
       "      <th>10</th>\n",
       "      <td>neighborhood_BrDale_oh</td>\n",
       "      <td>23.192448</td>\n",
       "      <td>1.658404e-06</td>\n",
       "      <td>-0.174919</td>\n",
       "    </tr>\n",
       "    <tr>\n",
       "      <th>27</th>\n",
       "      <td>neighborhood_Sawyer_oh</td>\n",
       "      <td>20.878518</td>\n",
       "      <td>5.414030e-06</td>\n",
       "      <td>-0.057521</td>\n",
       "    </tr>\n",
       "    <tr>\n",
       "      <th>18</th>\n",
       "      <td>neighborhood_MeadowV_oh</td>\n",
       "      <td>20.642759</td>\n",
       "      <td>6.110094e-06</td>\n",
       "      <td>-0.211820</td>\n",
       "    </tr>\n",
       "    <tr>\n",
       "      <th>13</th>\n",
       "      <td>neighborhood_CollgCr_oh</td>\n",
       "      <td>19.130083</td>\n",
       "      <td>1.330181e-05</td>\n",
       "      <td>-0.010786</td>\n",
       "    </tr>\n",
       "    <tr>\n",
       "      <th>30</th>\n",
       "      <td>neighborhood_Timber_oh</td>\n",
       "      <td>17.390439</td>\n",
       "      <td>3.268988e-05</td>\n",
       "      <td>-0.007939</td>\n",
       "    </tr>\n",
       "    <tr>\n",
       "      <th>2</th>\n",
       "      <td>lotshape_IR2_oh</td>\n",
       "      <td>15.616136</td>\n",
       "      <td>8.225056e-05</td>\n",
       "      <td>0.035657</td>\n",
       "    </tr>\n",
       "    <tr>\n",
       "      <th>43</th>\n",
       "      <td>bsmtcond_Gd_oh</td>\n",
       "      <td>15.001975</td>\n",
       "      <td>1.133689e-04</td>\n",
       "      <td>0.102584</td>\n",
       "    </tr>\n",
       "    <tr>\n",
       "      <th>74</th>\n",
       "      <td>salecondition_Normal_oh</td>\n",
       "      <td>13.584897</td>\n",
       "      <td>2.384893e-04</td>\n",
       "      <td>0.038770</td>\n",
       "    </tr>\n",
       "    <tr>\n",
       "      <th>44</th>\n",
       "      <td>bsmtcond_Po_oh</td>\n",
       "      <td>12.331066</td>\n",
       "      <td>4.625076e-04</td>\n",
       "      <td>-0.014758</td>\n",
       "    </tr>\n",
       "    <tr>\n",
       "      <th>14</th>\n",
       "      <td>neighborhood_Crawfor_oh</td>\n",
       "      <td>10.458636</td>\n",
       "      <td>1.255012e-03</td>\n",
       "      <td>0.044299</td>\n",
       "    </tr>\n",
       "    <tr>\n",
       "      <th>53</th>\n",
       "      <td>heating_Wall_oh</td>\n",
       "      <td>10.052433</td>\n",
       "      <td>1.561107e-03</td>\n",
       "      <td>0.039416</td>\n",
       "    </tr>\n",
       "    <tr>\n",
       "      <th>12</th>\n",
       "      <td>neighborhood_ClearCr_oh</td>\n",
       "      <td>8.768043</td>\n",
       "      <td>3.127594e-03</td>\n",
       "      <td>0.023081</td>\n",
       "    </tr>\n",
       "    <tr>\n",
       "      <th>16</th>\n",
       "      <td>neighborhood_Gilbert_oh</td>\n",
       "      <td>8.755212</td>\n",
       "      <td>3.149508e-03</td>\n",
       "      <td>-0.029920</td>\n",
       "    </tr>\n",
       "    <tr>\n",
       "      <th>31</th>\n",
       "      <td>neighborhood_Veenker_oh</td>\n",
       "      <td>8.604552</td>\n",
       "      <td>3.418814e-03</td>\n",
       "      <td>0.045932</td>\n",
       "    </tr>\n",
       "    <tr>\n",
       "      <th>0</th>\n",
       "      <td>mszoning_RH_oh</td>\n",
       "      <td>8.577495</td>\n",
       "      <td>3.469606e-03</td>\n",
       "      <td>-0.011008</td>\n",
       "    </tr>\n",
       "    <tr>\n",
       "      <th>71</th>\n",
       "      <td>salecondition_AdjLand_oh</td>\n",
       "      <td>6.981066</td>\n",
       "      <td>8.347942e-03</td>\n",
       "      <td>0.028753</td>\n",
       "    </tr>\n",
       "    <tr>\n",
       "      <th>8</th>\n",
       "      <td>lotconfig_Inside_oh</td>\n",
       "      <td>5.245935</td>\n",
       "      <td>2.217596e-02</td>\n",
       "      <td>-0.002926</td>\n",
       "    </tr>\n",
       "    <tr>\n",
       "      <th>26</th>\n",
       "      <td>neighborhood_SWISU_oh</td>\n",
       "      <td>5.103960</td>\n",
       "      <td>2.405532e-02</td>\n",
       "      <td>-0.045710</td>\n",
       "    </tr>\n",
       "    <tr>\n",
       "      <th>22</th>\n",
       "      <td>neighborhood_NWAmes_oh</td>\n",
       "      <td>4.729757</td>\n",
       "      <td>2.984555e-02</td>\n",
       "      <td>-0.050614</td>\n",
       "    </tr>\n",
       "    <tr>\n",
       "      <th>59</th>\n",
       "      <td>fireplacequ_Po_oh</td>\n",
       "      <td>4.359515</td>\n",
       "      <td>3.701938e-02</td>\n",
       "      <td>-0.102032</td>\n",
       "    </tr>\n",
       "    <tr>\n",
       "      <th>35</th>\n",
       "      <td>extercond_Po_oh</td>\n",
       "      <td>4.166027</td>\n",
       "      <td>4.146719e-02</td>\n",
       "      <td>-0.245918</td>\n",
       "    </tr>\n",
       "    <tr>\n",
       "      <th>47</th>\n",
       "      <td>bsmtexposure_Mn_oh</td>\n",
       "      <td>4.085328</td>\n",
       "      <td>4.348519e-02</td>\n",
       "      <td>0.003295</td>\n",
       "    </tr>\n",
       "  </tbody>\n",
       "</table>\n",
       "</div>"
      ],
      "text/plain": [
       "                     feature            F           pval    coeffs\n",
       "77      overallqual_tk_sd_bc  2206.402797  3.605700e-271  0.091874\n",
       "76        grlivarea_tk_sd_bc  1294.758881  2.509549e-191  0.252556\n",
       "78           garage_car_area   947.789232  8.251086e-153  0.004453\n",
       "75       firstflrsf_tk_sd_bc   643.723175  1.948300e-113  0.071251\n",
       "58       fireplacequ_None_oh   437.508156   9.512959e-83 -0.062335\n",
       "37       foundation_PConc_oh   413.279827   6.952948e-79  0.039241\n",
       "42            bsmtqual_TA_oh   336.450606   3.183423e-66 -0.037035\n",
       "63       garagefinish_Unf_oh   273.363912   2.508592e-55 -0.033977\n",
       "41            bsmtqual_Gd_oh   175.457670   2.068440e-37 -0.024515\n",
       "54           centralair_Y_oh   173.758186   4.349410e-37  0.088434\n",
       "61      garagefinish_None_oh   150.175965   1.452889e-32 -0.070177\n",
       "57         fireplacequ_Gd_oh   149.538390   1.930722e-32 -0.037656\n",
       "36      foundation_CBlock_oh   139.261009   1.927806e-30  0.030211\n",
       "24   neighborhood_NridgHt_oh   138.237732   3.055235e-30  0.032182\n",
       "32       masvnrtype_Stone_oh   118.396765   2.490055e-26  0.008973\n",
       "4            lotshape_Reg_oh   102.515611   3.753302e-23 -0.007647\n",
       "23   neighborhood_NoRidge_oh    88.977869   2.083815e-20  0.041860\n",
       "62       garagefinish_RFn_oh    77.924381   3.846150e-18 -0.010259\n",
       "46        bsmtexposure_Gd_oh    71.927596   6.675643e-17  0.037125\n",
       "48        bsmtexposure_No_oh    68.830358   2.934444e-16 -0.016110\n",
       "25   neighborhood_OldTown_oh    67.106875   6.702139e-16 -0.117377\n",
       "60         fireplacequ_TA_oh    66.394554   9.432868e-16 -0.045861\n",
       "55         kitchenqual_Fa_oh    60.816150   1.383042e-14  0.006409\n",
       "15   neighborhood_Edwards_oh    59.276389   2.910312e-14 -0.093703\n",
       "70            saletype_WD_oh    55.205703   2.092877e-13 -0.036482\n",
       "17    neighborhood_IDOTRR_oh    52.384925   8.255683e-13 -0.125231\n",
       "34           extercond_Fa_oh    43.477676   6.485022e-11 -0.040403\n",
       "11   neighborhood_BrkSide_oh    40.629420   2.645119e-10 -0.056087\n",
       "40            bsmtqual_Fa_oh    37.681102   1.140110e-09 -0.052795\n",
       "29   neighborhood_StoneBr_oh    36.750939   1.810018e-09  0.041695\n",
       "20     neighborhood_NAmes_oh    35.179561   3.957605e-09 -0.065958\n",
       "33           exterqual_Fa_oh    33.076808   1.130758e-08  0.000986\n",
       "51           heating_Grav_oh    27.855497   1.557846e-07 -0.075868\n",
       "5       lotconfig_CulDSac_oh    26.697380   2.796995e-07  0.023963\n",
       "45            bsmtcond_TA_oh    26.122936   3.740958e-07  0.090838\n",
       "49           heating_GasA_oh    24.694552   7.721039e-07  0.022578\n",
       "10    neighborhood_BrDale_oh    23.192448   1.658404e-06 -0.174919\n",
       "27    neighborhood_Sawyer_oh    20.878518   5.414030e-06 -0.057521\n",
       "18   neighborhood_MeadowV_oh    20.642759   6.110094e-06 -0.211820\n",
       "13   neighborhood_CollgCr_oh    19.130083   1.330181e-05 -0.010786\n",
       "30    neighborhood_Timber_oh    17.390439   3.268988e-05 -0.007939\n",
       "2            lotshape_IR2_oh    15.616136   8.225056e-05  0.035657\n",
       "43            bsmtcond_Gd_oh    15.001975   1.133689e-04  0.102584\n",
       "74   salecondition_Normal_oh    13.584897   2.384893e-04  0.038770\n",
       "44            bsmtcond_Po_oh    12.331066   4.625076e-04 -0.014758\n",
       "14   neighborhood_Crawfor_oh    10.458636   1.255012e-03  0.044299\n",
       "53           heating_Wall_oh    10.052433   1.561107e-03  0.039416\n",
       "12   neighborhood_ClearCr_oh     8.768043   3.127594e-03  0.023081\n",
       "16   neighborhood_Gilbert_oh     8.755212   3.149508e-03 -0.029920\n",
       "31   neighborhood_Veenker_oh     8.604552   3.418814e-03  0.045932\n",
       "0             mszoning_RH_oh     8.577495   3.469606e-03 -0.011008\n",
       "71  salecondition_AdjLand_oh     6.981066   8.347942e-03  0.028753\n",
       "8        lotconfig_Inside_oh     5.245935   2.217596e-02 -0.002926\n",
       "26     neighborhood_SWISU_oh     5.103960   2.405532e-02 -0.045710\n",
       "22    neighborhood_NWAmes_oh     4.729757   2.984555e-02 -0.050614\n",
       "59         fireplacequ_Po_oh     4.359515   3.701938e-02 -0.102032\n",
       "35           extercond_Po_oh     4.166027   4.146719e-02 -0.245918\n",
       "47        bsmtexposure_Mn_oh     4.085328   4.348519e-02  0.003295"
      ]
     },
     "execution_count": 61,
     "metadata": {},
     "output_type": "execute_result"
    }
   ],
   "source": [
    "df_ftest.sort_values(by='pval')"
   ]
  },
  {
   "cell_type": "code",
   "execution_count": 62,
   "metadata": {},
   "outputs": [
    {
     "name": "stdout",
     "output_type": "stream",
     "text": [
      "The number of features will now be reduced from 79 to 58.\n"
     ]
    }
   ],
   "source": [
    "print(f'The number of features will now be reduced from {len(all_features)} to {len(df_ftest)}.')"
   ]
  },
  {
   "cell_type": "code",
   "execution_count": 63,
   "metadata": {},
   "outputs": [],
   "source": [
    "important_model_features = df_ftest['feature'].tolist()\n",
    "df_model_2 = df_clean.loc[:, important_model_features + ['saleprice_tk_sd_bc']].copy()"
   ]
  },
  {
   "cell_type": "code",
   "execution_count": 64,
   "metadata": {},
   "outputs": [],
   "source": [
    "X = df_model_2.loc[:, important_model_features]\n",
    "y = df_model_2['saleprice_tk_sd_bc']"
   ]
  },
  {
   "cell_type": "code",
   "execution_count": 65,
   "metadata": {},
   "outputs": [
    {
     "name": "stdout",
     "output_type": "stream",
     "text": [
      "Prediction Metrics:\n",
      "* R-squared: 0.880\n",
      "* MAE = 0.069\n",
      "* MSE = 0.009\n",
      "* RMSE = 0.094\n",
      "* MAPE = 9.069%\n"
     ]
    }
   ],
   "source": [
    "hp.run_linear_model(LinearRegression, X, y, print_results=True)"
   ]
  },
  {
   "cell_type": "code",
   "execution_count": 66,
   "metadata": {},
   "outputs": [
    {
     "name": "stdout",
     "output_type": "stream",
     "text": [
      "Comparing Scores:\n",
      " * train: 0.881\n",
      " * test: 0.880\n"
     ]
    }
   ],
   "source": [
    "hp.compare_scores()"
   ]
  },
  {
   "cell_type": "code",
   "execution_count": 67,
   "metadata": {},
   "outputs": [
    {
     "data": {
      "image/png": "[encoded data removed]",
      "text/plain": [
       "<Figure size 1008x432 with 1 Axes>"
      ]
     },
     "metadata": {
      "needs_background": "light"
     },
     "output_type": "display_data"
    }
   ],
   "source": [
    "hp.plot_predictions(df_clean, 'saleprice_tk_sd_bc')"
   ]
  },
  {
   "cell_type": "markdown",
   "metadata": {},
   "source": [
    "**Observations:** The test accuracy has increased to 0.880, indicating the removing the irrelavent features had a positive affect.\n",
    "\n",
    "In the next few models I will try regularization techniques and explore if this will improve the model performance. For each technique, I will use a grid search method to find the best hyperparameters to use for the regularization.\n",
    "\n",
    "### Model 3: Ridge Regularization"
   ]
  },
  {
   "cell_type": "code",
   "execution_count": 68,
   "metadata": {},
   "outputs": [],
   "source": [
    "alpha_list = [2**x for x in list(range(10))]\n",
    "df_grid = hp.grid_search(Ridge, X, y, alpha_list, num_folds=10)"
   ]
  },
  {
   "cell_type": "code",
   "execution_count": 69,
   "metadata": {},
   "outputs": [
    {
     "data": {
      "image/png": "[encoded data removed]",
      "text/plain": [
       "<Figure size 432x288 with 1 Axes>"
      ]
     },
     "metadata": {
      "needs_background": "light"
     },
     "output_type": "display_data"
    }
   ],
   "source": [
    "plt.plot(np.log(df_grid['alpha']), df_grid['mean_cv_score'])\n",
    "plt.title('Ridge Regression Grid Search')\n",
    "plt.xlabel('log(alpha)')\n",
    "plt.ylabel('mean CV score')\n",
    "plt.show()"
   ]
  },
  {
   "cell_type": "code",
   "execution_count": 70,
   "metadata": {},
   "outputs": [
    {
     "data": {
      "text/html": [
       "<div>\n",
       "<style scoped>\n",
       "    .dataframe tbody tr th:only-of-type {\n",
       "        vertical-align: middle;\n",
       "    }\n",
       "\n",
       "    .dataframe tbody tr th {\n",
       "        vertical-align: top;\n",
       "    }\n",
       "\n",
       "    .dataframe thead th {\n",
       "        text-align: right;\n",
       "    }\n",
       "</style>\n",
       "<table border=\"1\" class=\"dataframe\">\n",
       "  <thead>\n",
       "    <tr style=\"text-align: right;\">\n",
       "      <th></th>\n",
       "      <th>alpha</th>\n",
       "      <th>mean_cv_score</th>\n",
       "    </tr>\n",
       "  </thead>\n",
       "  <tbody>\n",
       "    <tr>\n",
       "      <th>1</th>\n",
       "      <td>2</td>\n",
       "      <td>0.856644</td>\n",
       "    </tr>\n",
       "    <tr>\n",
       "      <th>0</th>\n",
       "      <td>1</td>\n",
       "      <td>0.856403</td>\n",
       "    </tr>\n",
       "    <tr>\n",
       "      <th>2</th>\n",
       "      <td>4</td>\n",
       "      <td>0.856212</td>\n",
       "    </tr>\n",
       "    <tr>\n",
       "      <th>3</th>\n",
       "      <td>8</td>\n",
       "      <td>0.854397</td>\n",
       "    </tr>\n",
       "    <tr>\n",
       "      <th>4</th>\n",
       "      <td>16</td>\n",
       "      <td>0.850217</td>\n",
       "    </tr>\n",
       "    <tr>\n",
       "      <th>5</th>\n",
       "      <td>32</td>\n",
       "      <td>0.842205</td>\n",
       "    </tr>\n",
       "    <tr>\n",
       "      <th>6</th>\n",
       "      <td>64</td>\n",
       "      <td>0.828339</td>\n",
       "    </tr>\n",
       "    <tr>\n",
       "      <th>7</th>\n",
       "      <td>128</td>\n",
       "      <td>0.806061</td>\n",
       "    </tr>\n",
       "    <tr>\n",
       "      <th>8</th>\n",
       "      <td>256</td>\n",
       "      <td>0.771529</td>\n",
       "    </tr>\n",
       "    <tr>\n",
       "      <th>9</th>\n",
       "      <td>512</td>\n",
       "      <td>0.720515</td>\n",
       "    </tr>\n",
       "  </tbody>\n",
       "</table>\n",
       "</div>"
      ],
      "text/plain": [
       "   alpha  mean_cv_score\n",
       "1      2       0.856644\n",
       "0      1       0.856403\n",
       "2      4       0.856212\n",
       "3      8       0.854397\n",
       "4     16       0.850217\n",
       "5     32       0.842205\n",
       "6     64       0.828339\n",
       "7    128       0.806061\n",
       "8    256       0.771529\n",
       "9    512       0.720515"
      ]
     },
     "execution_count": 70,
     "metadata": {},
     "output_type": "execute_result"
    }
   ],
   "source": [
    "df_grid.sort_values(by='mean_cv_score', ascending=False)"
   ]
  },
  {
   "cell_type": "markdown",
   "metadata": {},
   "source": [
    "**Observations:** The best hypeparameter for Ridge regularization is an alpha = 2."
   ]
  },
  {
   "cell_type": "code",
   "execution_count": 71,
   "metadata": {},
   "outputs": [
    {
     "name": "stdout",
     "output_type": "stream",
     "text": [
      "Prediction Metrics:\n",
      "* R-squared: 0.883\n",
      "* MAE = 0.068\n",
      "* MSE = 0.009\n",
      "* RMSE = 0.093\n",
      "* MAPE = 8.715%\n"
     ]
    }
   ],
   "source": [
    "hp.run_linear_model(Ridge, X, y, alpha=2, print_results=True)"
   ]
  },
  {
   "cell_type": "code",
   "execution_count": 72,
   "metadata": {},
   "outputs": [
    {
     "name": "stdout",
     "output_type": "stream",
     "text": [
      "Comparing Scores:\n",
      " * train: 0.880\n",
      " * test: 0.883\n"
     ]
    }
   ],
   "source": [
    "hp.compare_scores()"
   ]
  },
  {
   "cell_type": "code",
   "execution_count": 73,
   "metadata": {},
   "outputs": [
    {
     "data": {
      "image/png": "[encoded data removed]",
      "text/plain": [
       "<Figure size 1008x432 with 1 Axes>"
      ]
     },
     "metadata": {
      "needs_background": "light"
     },
     "output_type": "display_data"
    }
   ],
   "source": [
    "hp.plot_predictions(df_clean, 'saleprice_tk_sd_bc')"
   ]
  },
  {
   "cell_type": "markdown",
   "metadata": {},
   "source": [
    "**Observations:** The test accuracy has increased from 0.880 to 0.883, indicating the Ridge regularization helped the model perform better.\n",
    "\n",
    "### Model 4: Lasso Regularization"
   ]
  },
  {
   "cell_type": "code",
   "execution_count": 74,
   "metadata": {},
   "outputs": [],
   "source": [
    "alpha_list = [0.5*(10**(-1*x)) for x in list(range(7))]\n",
    "df_grid = hp.grid_search(Lasso, X, y, alpha_list, num_folds=10)"
   ]
  },
  {
   "cell_type": "code",
   "execution_count": 75,
   "metadata": {},
   "outputs": [
    {
     "data": {
      "image/png": "[encoded data removed]",
      "text/plain": [
       "<Figure size 432x288 with 1 Axes>"
      ]
     },
     "metadata": {
      "needs_background": "light"
     },
     "output_type": "display_data"
    }
   ],
   "source": [
    "plt.plot(np.log(df_grid['alpha']), df_grid['mean_cv_score'])\n",
    "plt.title('Lasso Regression Grid Search')\n",
    "plt.xlabel('log(alpha)')\n",
    "plt.ylabel('mean CV score')\n",
    "plt.show()"
   ]
  },
  {
   "cell_type": "code",
   "execution_count": 76,
   "metadata": {},
   "outputs": [
    {
     "data": {
      "text/html": [
       "<div>\n",
       "<style scoped>\n",
       "    .dataframe tbody tr th:only-of-type {\n",
       "        vertical-align: middle;\n",
       "    }\n",
       "\n",
       "    .dataframe tbody tr th {\n",
       "        vertical-align: top;\n",
       "    }\n",
       "\n",
       "    .dataframe thead th {\n",
       "        text-align: right;\n",
       "    }\n",
       "</style>\n",
       "<table border=\"1\" class=\"dataframe\">\n",
       "  <thead>\n",
       "    <tr style=\"text-align: right;\">\n",
       "      <th></th>\n",
       "      <th>alpha</th>\n",
       "      <th>mean_cv_score</th>\n",
       "    </tr>\n",
       "  </thead>\n",
       "  <tbody>\n",
       "    <tr>\n",
       "      <th>4</th>\n",
       "      <td>5.000000e-05</td>\n",
       "      <td>0.856128</td>\n",
       "    </tr>\n",
       "    <tr>\n",
       "      <th>5</th>\n",
       "      <td>5.000000e-06</td>\n",
       "      <td>0.855090</td>\n",
       "    </tr>\n",
       "    <tr>\n",
       "      <th>6</th>\n",
       "      <td>5.000000e-07</td>\n",
       "      <td>0.854970</td>\n",
       "    </tr>\n",
       "    <tr>\n",
       "      <th>3</th>\n",
       "      <td>5.000000e-04</td>\n",
       "      <td>0.852448</td>\n",
       "    </tr>\n",
       "    <tr>\n",
       "      <th>2</th>\n",
       "      <td>5.000000e-03</td>\n",
       "      <td>0.811048</td>\n",
       "    </tr>\n",
       "    <tr>\n",
       "      <th>1</th>\n",
       "      <td>5.000000e-02</td>\n",
       "      <td>0.582187</td>\n",
       "    </tr>\n",
       "    <tr>\n",
       "      <th>0</th>\n",
       "      <td>5.000000e-01</td>\n",
       "      <td>0.329377</td>\n",
       "    </tr>\n",
       "  </tbody>\n",
       "</table>\n",
       "</div>"
      ],
      "text/plain": [
       "          alpha  mean_cv_score\n",
       "4  5.000000e-05       0.856128\n",
       "5  5.000000e-06       0.855090\n",
       "6  5.000000e-07       0.854970\n",
       "3  5.000000e-04       0.852448\n",
       "2  5.000000e-03       0.811048\n",
       "1  5.000000e-02       0.582187\n",
       "0  5.000000e-01       0.329377"
      ]
     },
     "execution_count": 76,
     "metadata": {},
     "output_type": "execute_result"
    }
   ],
   "source": [
    "df_grid.sort_values(by='mean_cv_score', ascending=False)"
   ]
  },
  {
   "cell_type": "markdown",
   "metadata": {},
   "source": [
    "**Observations:** The best alpha for Lasso regularization is 5e-5."
   ]
  },
  {
   "cell_type": "code",
   "execution_count": 77,
   "metadata": {},
   "outputs": [
    {
     "name": "stdout",
     "output_type": "stream",
     "text": [
      "Prediction Metrics:\n",
      "* R-squared: 0.881\n",
      "* MAE = 0.068\n",
      "* MSE = 0.009\n",
      "* RMSE = 0.094\n",
      "* MAPE = 8.982%\n"
     ]
    }
   ],
   "source": [
    "hp.run_linear_model(Lasso, X, y, alpha=5e-5, print_results=True)"
   ]
  },
  {
   "cell_type": "code",
   "execution_count": 78,
   "metadata": {},
   "outputs": [
    {
     "name": "stdout",
     "output_type": "stream",
     "text": [
      "Comparing Scores:\n",
      " * train: 0.881\n",
      " * test: 0.881\n"
     ]
    }
   ],
   "source": [
    "hp.compare_scores()"
   ]
  },
  {
   "cell_type": "code",
   "execution_count": 79,
   "metadata": {},
   "outputs": [
    {
     "data": {
      "image/png": "[encoded data removed]",
      "text/plain": [
       "<Figure size 1008x432 with 1 Axes>"
      ]
     },
     "metadata": {
      "needs_background": "light"
     },
     "output_type": "display_data"
    }
   ],
   "source": [
    "hp.plot_predictions(df_clean, 'saleprice_tk_sd_bc')"
   ]
  },
  {
   "cell_type": "markdown",
   "metadata": {},
   "source": [
    "**Observations:** Lasso regularization did not perform as well as Ridge. The test score reduced to 0.881.\n",
    "\n",
    "### Model 5: Elastic Net Regularization"
   ]
  },
  {
   "cell_type": "code",
   "execution_count": 80,
   "metadata": {},
   "outputs": [],
   "source": [
    "alpha_list = [0.5*(10**(-1*x)) for x in list(range(5))]\n",
    "l1_ratio_list = [0.5*(10**(-1*x)) for x in list(range(5))]\n",
    "df_grid = hp.grid_search(ElasticNet, X, y, alpha_list, l1_ratio_list=l1_ratio_list, num_folds=10)"
   ]
  },
  {
   "cell_type": "code",
   "execution_count": 81,
   "metadata": {},
   "outputs": [],
   "source": [
    "# Combine alpha and l1_ratio so that I can plot them versus the mean CV score\n",
    "df_grid['alpha_l1_ratio'] = df_grid['alpha'] + df_grid['l1_ratio']\n",
    "df_grid = df_grid.sort_values(by='alpha_l1_ratio').copy()"
   ]
  },
  {
   "cell_type": "code",
   "execution_count": 82,
   "metadata": {},
   "outputs": [
    {
     "data": {
      "image/png": "[encoded data removed]",
      "text/plain": [
       "<Figure size 432x288 with 1 Axes>"
      ]
     },
     "metadata": {
      "needs_background": "light"
     },
     "output_type": "display_data"
    }
   ],
   "source": [
    "plt.plot(np.log(df_grid['alpha_l1_ratio']), df_grid['mean_cv_score'])\n",
    "plt.title('Elastic Net Grid Search')\n",
    "plt.xlabel('log(alpha + l1_ratio)')\n",
    "plt.ylabel('mean CV score')\n",
    "plt.show()"
   ]
  },
  {
   "cell_type": "code",
   "execution_count": 83,
   "metadata": {},
   "outputs": [
    {
     "data": {
      "text/html": [
       "<div>\n",
       "<style scoped>\n",
       "    .dataframe tbody tr th:only-of-type {\n",
       "        vertical-align: middle;\n",
       "    }\n",
       "\n",
       "    .dataframe tbody tr th {\n",
       "        vertical-align: top;\n",
       "    }\n",
       "\n",
       "    .dataframe thead th {\n",
       "        text-align: right;\n",
       "    }\n",
       "</style>\n",
       "<table border=\"1\" class=\"dataframe\">\n",
       "  <thead>\n",
       "    <tr style=\"text-align: right;\">\n",
       "      <th></th>\n",
       "      <th>alpha</th>\n",
       "      <th>mean_cv_score</th>\n",
       "      <th>l1_ratio</th>\n",
       "      <th>alpha_l1_ratio</th>\n",
       "    </tr>\n",
       "  </thead>\n",
       "  <tbody>\n",
       "    <tr>\n",
       "      <th>16</th>\n",
       "      <td>0.0005</td>\n",
       "      <td>0.856303</td>\n",
       "      <td>0.05000</td>\n",
       "      <td>0.05050</td>\n",
       "    </tr>\n",
       "    <tr>\n",
       "      <th>17</th>\n",
       "      <td>0.0005</td>\n",
       "      <td>0.856030</td>\n",
       "      <td>0.00500</td>\n",
       "      <td>0.00550</td>\n",
       "    </tr>\n",
       "    <tr>\n",
       "      <th>18</th>\n",
       "      <td>0.0005</td>\n",
       "      <td>0.856000</td>\n",
       "      <td>0.00050</td>\n",
       "      <td>0.00100</td>\n",
       "    </tr>\n",
       "    <tr>\n",
       "      <th>15</th>\n",
       "      <td>0.0005</td>\n",
       "      <td>0.855999</td>\n",
       "      <td>0.50000</td>\n",
       "      <td>0.50050</td>\n",
       "    </tr>\n",
       "    <tr>\n",
       "      <th>19</th>\n",
       "      <td>0.0005</td>\n",
       "      <td>0.855997</td>\n",
       "      <td>0.00005</td>\n",
       "      <td>0.00055</td>\n",
       "    </tr>\n",
       "  </tbody>\n",
       "</table>\n",
       "</div>"
      ],
      "text/plain": [
       "     alpha  mean_cv_score  l1_ratio  alpha_l1_ratio\n",
       "16  0.0005       0.856303   0.05000         0.05050\n",
       "17  0.0005       0.856030   0.00500         0.00550\n",
       "18  0.0005       0.856000   0.00050         0.00100\n",
       "15  0.0005       0.855999   0.50000         0.50050\n",
       "19  0.0005       0.855997   0.00005         0.00055"
      ]
     },
     "execution_count": 83,
     "metadata": {},
     "output_type": "execute_result"
    }
   ],
   "source": [
    "df_grid.sort_values(by='mean_cv_score', ascending=False).head()"
   ]
  },
  {
   "cell_type": "markdown",
   "metadata": {},
   "source": [
    "**Observations:** The best combination of hyperparameters for Elastic Net regularization is an alpha = 0.0005 and an L1 ratio = 0.05."
   ]
  },
  {
   "cell_type": "code",
   "execution_count": 84,
   "metadata": {},
   "outputs": [
    {
     "name": "stdout",
     "output_type": "stream",
     "text": [
      "Prediction Metrics:\n",
      "* R-squared: 0.882\n",
      "* MAE = 0.068\n",
      "* MSE = 0.009\n",
      "* RMSE = 0.093\n",
      "* MAPE = 8.900%\n"
     ]
    }
   ],
   "source": [
    "hp.run_linear_model(ElasticNet, X, y, alpha=5e-4, l1_ratio=5e-2, print_results=True)"
   ]
  },
  {
   "cell_type": "code",
   "execution_count": 85,
   "metadata": {},
   "outputs": [
    {
     "name": "stdout",
     "output_type": "stream",
     "text": [
      "Comparing Scores:\n",
      " * train: 0.881\n",
      " * test: 0.882\n"
     ]
    }
   ],
   "source": [
    "hp.compare_scores()"
   ]
  },
  {
   "cell_type": "code",
   "execution_count": 86,
   "metadata": {},
   "outputs": [
    {
     "data": {
      "image/png": "[encoded data removed]",
      "text/plain": [
       "<Figure size 1008x432 with 1 Axes>"
      ]
     },
     "metadata": {
      "needs_background": "light"
     },
     "output_type": "display_data"
    }
   ],
   "source": [
    "hp.plot_predictions(df_clean, 'saleprice_tk_sd_bc')"
   ]
  },
  {
   "cell_type": "markdown",
   "metadata": {},
   "source": [
    "**Observations:** Elastic Net regularization did not peform better than Ridge. Ridge regularization remain the best regulariation method as well as the best model so far.\n",
    "\n",
    "### Model 6\n",
    "Now, I will add information from a climate dataset taken from the [NOAA](https://www.ncdc.noaa.gov/data-access/quick-links#loc-clim). Specifically, I will consider average yearly temperatures for Story County, where Ames is located, during the period when the houses in the housing dataset were sold, which is 2006 - 2010."
   ]
  },
  {
   "cell_type": "code",
   "execution_count": 87,
   "metadata": {},
   "outputs": [
    {
     "name": "stderr",
     "output_type": "stream",
     "text": [
      "/Users/dave/anaconda3/envs/py_36/lib/python3.6/site-packages/IPython/core/interactiveshell.py:3057: DtypeWarning: Columns (3,19,25,26,27,28,29,35,36,41,42,49,51,55,56,59,60,62,63,95,111,113,114,117,118,119) have mixed types. Specify dtype option on import or set low_memory=False.\n",
      "  interactivity=interactivity, compiler=compiler, result=result)\n"
     ]
    }
   ],
   "source": [
    "df_climate = pd.read_csv('./data/story_county_weather.csv', encoding='latin')"
   ]
  },
  {
   "cell_type": "code",
   "execution_count": 88,
   "metadata": {
    "scrolled": false
   },
   "outputs": [
    {
     "name": "stdout",
     "output_type": "stream",
     "text": [
      "The climate dataset has 124 columns.\n"
     ]
    }
   ],
   "source": [
    "print(f'The climate dataset has {len(df_climate.columns)} columns.')"
   ]
  },
  {
   "cell_type": "markdown",
   "metadata": {},
   "source": [
    "I am only interested in the _MonthlyMeanTemperature_ and _DATE_ column."
   ]
  },
  {
   "cell_type": "code",
   "execution_count": 89,
   "metadata": {},
   "outputs": [
    {
     "data": {
      "text/html": [
       "<div>\n",
       "<style scoped>\n",
       "    .dataframe tbody tr th:only-of-type {\n",
       "        vertical-align: middle;\n",
       "    }\n",
       "\n",
       "    .dataframe tbody tr th {\n",
       "        vertical-align: top;\n",
       "    }\n",
       "\n",
       "    .dataframe thead th {\n",
       "        text-align: right;\n",
       "    }\n",
       "</style>\n",
       "<table border=\"1\" class=\"dataframe\">\n",
       "  <thead>\n",
       "    <tr style=\"text-align: right;\">\n",
       "      <th></th>\n",
       "      <th>count</th>\n",
       "      <th>mean</th>\n",
       "      <th>std</th>\n",
       "      <th>min</th>\n",
       "      <th>25%</th>\n",
       "      <th>50%</th>\n",
       "      <th>75%</th>\n",
       "      <th>max</th>\n",
       "    </tr>\n",
       "  </thead>\n",
       "  <tbody>\n",
       "    <tr>\n",
       "      <th>MonthlyMeanTemperature</th>\n",
       "      <td>57.0</td>\n",
       "      <td>48.880702</td>\n",
       "      <td>20.253117</td>\n",
       "      <td>13.9</td>\n",
       "      <td>33.0</td>\n",
       "      <td>53.7</td>\n",
       "      <td>68.6</td>\n",
       "      <td>75.5</td>\n",
       "    </tr>\n",
       "  </tbody>\n",
       "</table>\n",
       "</div>"
      ],
      "text/plain": [
       "                        count       mean        std   min   25%   50%   75%  \\\n",
       "MonthlyMeanTemperature   57.0  48.880702  20.253117  13.9  33.0  53.7  68.6   \n",
       "\n",
       "                         max  \n",
       "MonthlyMeanTemperature  75.5  "
      ]
     },
     "execution_count": 89,
     "metadata": {},
     "output_type": "execute_result"
    }
   ],
   "source": [
    "df_climate.loc[:, ['DATE', 'MonthlyMeanTemperature']].describe().T"
   ]
  },
  {
   "cell_type": "markdown",
   "metadata": {},
   "source": [
    "Gather the data from the two columns I am interested in into a single `DataFrame`."
   ]
  },
  {
   "cell_type": "code",
   "execution_count": 90,
   "metadata": {},
   "outputs": [],
   "source": [
    "df_temperatures = df_climate.loc[:, ['DATE', 'MonthlyMeanTemperature']].copy()\n",
    "df_temperatures.dropna(inplace=True)\n",
    "df_temperatures['DATE'] = pd.to_datetime(df_temperatures['DATE'])\n",
    "df_temperatures.set_index(['DATE'], inplace=True)"
   ]
  },
  {
   "cell_type": "markdown",
   "metadata": {},
   "source": [
    "Resample the `DataFrame` by year to find the average yearly temperature."
   ]
  },
  {
   "cell_type": "code",
   "execution_count": 91,
   "metadata": {},
   "outputs": [],
   "source": [
    "df_yearly_temps = df_temperatures.resample('Y').mean()\n",
    "df_yearly_temps.index = df_yearly_temps.index.year"
   ]
  },
  {
   "cell_type": "code",
   "execution_count": 92,
   "metadata": {},
   "outputs": [
    {
     "data": {
      "text/html": [
       "<div>\n",
       "<style scoped>\n",
       "    .dataframe tbody tr th:only-of-type {\n",
       "        vertical-align: middle;\n",
       "    }\n",
       "\n",
       "    .dataframe tbody tr th {\n",
       "        vertical-align: top;\n",
       "    }\n",
       "\n",
       "    .dataframe thead th {\n",
       "        text-align: right;\n",
       "    }\n",
       "</style>\n",
       "<table border=\"1\" class=\"dataframe\">\n",
       "  <thead>\n",
       "    <tr style=\"text-align: right;\">\n",
       "      <th></th>\n",
       "      <th>MonthlyMeanTemperature</th>\n",
       "    </tr>\n",
       "    <tr>\n",
       "      <th>DATE</th>\n",
       "      <th></th>\n",
       "    </tr>\n",
       "  </thead>\n",
       "  <tbody>\n",
       "    <tr>\n",
       "      <th>2006</th>\n",
       "      <td>50.716667</td>\n",
       "    </tr>\n",
       "    <tr>\n",
       "      <th>2007</th>\n",
       "      <td>48.725000</td>\n",
       "    </tr>\n",
       "    <tr>\n",
       "      <th>2008</th>\n",
       "      <td>49.440000</td>\n",
       "    </tr>\n",
       "    <tr>\n",
       "      <th>2009</th>\n",
       "      <td>46.981818</td>\n",
       "    </tr>\n",
       "    <tr>\n",
       "      <th>2010</th>\n",
       "      <td>48.475000</td>\n",
       "    </tr>\n",
       "  </tbody>\n",
       "</table>\n",
       "</div>"
      ],
      "text/plain": [
       "      MonthlyMeanTemperature\n",
       "DATE                        \n",
       "2006               50.716667\n",
       "2007               48.725000\n",
       "2008               49.440000\n",
       "2009               46.981818\n",
       "2010               48.475000"
      ]
     },
     "execution_count": 92,
     "metadata": {},
     "output_type": "execute_result"
    }
   ],
   "source": [
    "df_yearly_temps"
   ]
  },
  {
   "cell_type": "code",
   "execution_count": 93,
   "metadata": {},
   "outputs": [
    {
     "data": {
      "image/png": "[encoded data removed]",
      "text/plain": [
       "<Figure size 432x288 with 1 Axes>"
      ]
     },
     "metadata": {
      "needs_background": "light"
     },
     "output_type": "display_data"
    }
   ],
   "source": [
    "df_yearly_temps.loc[:, 'MonthlyMeanTemperature'].plot()\n",
    "plt.title('Average Yearly Temperature')\n",
    "plt.xlabel('Year')\n",
    "plt.ylabel('Temperature')\n",
    "plt.show()"
   ]
  },
  {
   "cell_type": "markdown",
   "metadata": {},
   "source": [
    "Standardize the temperatures so that they are on the same scale as the rest of the features in the dataset I have been using for modeling."
   ]
  },
  {
   "cell_type": "code",
   "execution_count": 94,
   "metadata": {},
   "outputs": [],
   "source": [
    "mean_temp = df_yearly_temps['MonthlyMeanTemperature'].mean()\n",
    "std_temp = df_yearly_temps['MonthlyMeanTemperature'].std()\n",
    "df_yearly_temps['standard_temps'] = (df_yearly_temps['MonthlyMeanTemperature'] - mean_temp) / std_temp"
   ]
  },
  {
   "cell_type": "code",
   "execution_count": 95,
   "metadata": {},
   "outputs": [
    {
     "data": {
      "image/png": "[encoded data removed]",
      "text/plain": [
       "<Figure size 432x288 with 1 Axes>"
      ]
     },
     "metadata": {
      "needs_background": "light"
     },
     "output_type": "display_data"
    }
   ],
   "source": [
    "df_yearly_temps.loc[:, 'standard_temps'].plot()\n",
    "plt.title('Standardized Average Yearly Temperatures')\n",
    "plt.xlabel('Year')\n",
    "plt.ylabel('Temperatures')\n",
    "plt.show()"
   ]
  },
  {
   "cell_type": "markdown",
   "metadata": {},
   "source": [
    "Create the `DataFrame` for model 6. Include the _id_ column so that I can use it to find the year the house was sold, which I will in turn use to associate with the average temperature for that year."
   ]
  },
  {
   "cell_type": "code",
   "execution_count": 96,
   "metadata": {},
   "outputs": [],
   "source": [
    "df_model_6 = df_clean.loc[:, important_model_features + ['saleprice_tk_sd_bc', 'id']].copy()"
   ]
  },
  {
   "cell_type": "code",
   "execution_count": 97,
   "metadata": {},
   "outputs": [
    {
     "name": "stdout",
     "output_type": "stream",
     "text": [
      "The years sold are: [2006, 2007, 2008, 2009, 2010]\n"
     ]
    }
   ],
   "source": [
    "print(f\"The years sold are: {df_clean['yrsold'].sort_values().unique().tolist()}\")"
   ]
  },
  {
   "cell_type": "code",
   "execution_count": 98,
   "metadata": {
    "scrolled": false
   },
   "outputs": [],
   "source": [
    "average_temperatures = []\n",
    "for id in df_model_6['id']:\n",
    "    year = df_clean.loc[df_clean['id'] == id, 'yrsold'].values[0]\n",
    "    average_temperatures.append(df_yearly_temps.loc[year, 'standard_temps'])\n",
    "df_model_6['avgyrtemp_sd'] = average_temperatures"
   ]
  },
  {
   "cell_type": "code",
   "execution_count": 99,
   "metadata": {},
   "outputs": [],
   "source": [
    "X = df_model_6.loc[:, important_model_features + ['avgyrtemp_sd']]\n",
    "y = df_model_6['saleprice_tk_sd_bc']"
   ]
  },
  {
   "cell_type": "code",
   "execution_count": 100,
   "metadata": {},
   "outputs": [
    {
     "name": "stdout",
     "output_type": "stream",
     "text": [
      "Prediction Metrics:\n",
      "* R-squared: 0.880\n",
      "* MAE = 0.069\n",
      "* MSE = 0.009\n",
      "* RMSE = 0.094\n",
      "* MAPE = 9.044%\n"
     ]
    }
   ],
   "source": [
    "hp.run_linear_model(LinearRegression, X, y, print_results=True)"
   ]
  },
  {
   "cell_type": "code",
   "execution_count": 101,
   "metadata": {},
   "outputs": [
    {
     "name": "stdout",
     "output_type": "stream",
     "text": [
      "Comparing Scores:\n",
      " * train: 0.881\n",
      " * test: 0.880\n"
     ]
    }
   ],
   "source": [
    "hp.compare_scores()"
   ]
  },
  {
   "cell_type": "code",
   "execution_count": 102,
   "metadata": {},
   "outputs": [
    {
     "data": {
      "image/png": "[encoded data removed]",
      "text/plain": [
       "<Figure size 1008x432 with 1 Axes>"
      ]
     },
     "metadata": {
      "needs_background": "light"
     },
     "output_type": "display_data"
    }
   ],
   "source": [
    "hp.plot_predictions(df_clean, 'saleprice_tk_sd_bc')"
   ]
  },
  {
   "cell_type": "markdown",
   "metadata": {},
   "source": [
    "### Model 7\n",
    "Now, include Ridge regression with the dataset used for model 6."
   ]
  },
  {
   "cell_type": "code",
   "execution_count": 103,
   "metadata": {},
   "outputs": [],
   "source": [
    "alpha_list = [2**x for x in list(range(10))]\n",
    "df_grid = hp.grid_search(Ridge, X, y, alpha_list, num_folds=10)"
   ]
  },
  {
   "cell_type": "code",
   "execution_count": 104,
   "metadata": {},
   "outputs": [
    {
     "data": {
      "image/png": "[encoded data removed]",
      "text/plain": [
       "<Figure size 432x288 with 1 Axes>"
      ]
     },
     "metadata": {
      "needs_background": "light"
     },
     "output_type": "display_data"
    }
   ],
   "source": [
    "plt.plot(np.log(df_grid['alpha']), df_grid['mean_cv_score'])\n",
    "plt.title('Ridge Regression Grid Search')\n",
    "plt.xlabel('log(alpha)')\n",
    "plt.ylabel('mean CV score')\n",
    "plt.show()"
   ]
  },
  {
   "cell_type": "code",
   "execution_count": 105,
   "metadata": {},
   "outputs": [
    {
     "data": {
      "text/html": [
       "<div>\n",
       "<style scoped>\n",
       "    .dataframe tbody tr th:only-of-type {\n",
       "        vertical-align: middle;\n",
       "    }\n",
       "\n",
       "    .dataframe tbody tr th {\n",
       "        vertical-align: top;\n",
       "    }\n",
       "\n",
       "    .dataframe thead th {\n",
       "        text-align: right;\n",
       "    }\n",
       "</style>\n",
       "<table border=\"1\" class=\"dataframe\">\n",
       "  <thead>\n",
       "    <tr style=\"text-align: right;\">\n",
       "      <th></th>\n",
       "      <th>alpha</th>\n",
       "      <th>mean_cv_score</th>\n",
       "    </tr>\n",
       "  </thead>\n",
       "  <tbody>\n",
       "    <tr>\n",
       "      <th>1</th>\n",
       "      <td>2</td>\n",
       "      <td>0.856500</td>\n",
       "    </tr>\n",
       "    <tr>\n",
       "      <th>0</th>\n",
       "      <td>1</td>\n",
       "      <td>0.856238</td>\n",
       "    </tr>\n",
       "    <tr>\n",
       "      <th>2</th>\n",
       "      <td>4</td>\n",
       "      <td>0.856095</td>\n",
       "    </tr>\n",
       "    <tr>\n",
       "      <th>3</th>\n",
       "      <td>8</td>\n",
       "      <td>0.854303</td>\n",
       "    </tr>\n",
       "    <tr>\n",
       "      <th>4</th>\n",
       "      <td>16</td>\n",
       "      <td>0.850139</td>\n",
       "    </tr>\n",
       "  </tbody>\n",
       "</table>\n",
       "</div>"
      ],
      "text/plain": [
       "   alpha  mean_cv_score\n",
       "1      2       0.856500\n",
       "0      1       0.856238\n",
       "2      4       0.856095\n",
       "3      8       0.854303\n",
       "4     16       0.850139"
      ]
     },
     "execution_count": 105,
     "metadata": {},
     "output_type": "execute_result"
    }
   ],
   "source": [
    "df_grid.sort_values(by='mean_cv_score', ascending=False).head()"
   ]
  },
  {
   "cell_type": "markdown",
   "metadata": {},
   "source": [
    "**Observations:** The best alpha for Ridge regularization is 2."
   ]
  },
  {
   "cell_type": "code",
   "execution_count": 106,
   "metadata": {},
   "outputs": [
    {
     "name": "stdout",
     "output_type": "stream",
     "text": [
      "Prediction Metrics:\n",
      "* R-squared: 0.883\n",
      "* MAE = 0.068\n",
      "* MSE = 0.009\n",
      "* RMSE = 0.093\n",
      "* MAPE = 8.695%\n"
     ]
    }
   ],
   "source": [
    "hp.run_linear_model(Ridge, X, y, alpha=2, print_results=True)"
   ]
  },
  {
   "cell_type": "code",
   "execution_count": 107,
   "metadata": {},
   "outputs": [
    {
     "name": "stdout",
     "output_type": "stream",
     "text": [
      "Comparing Scores:\n",
      " * train: 0.880\n",
      " * test: 0.883\n"
     ]
    }
   ],
   "source": [
    "hp.compare_scores()"
   ]
  },
  {
   "cell_type": "code",
   "execution_count": 108,
   "metadata": {},
   "outputs": [
    {
     "data": {
      "image/png": "[encoded data removed]",
      "text/plain": [
       "<Figure size 1008x432 with 1 Axes>"
      ]
     },
     "metadata": {
      "needs_background": "light"
     },
     "output_type": "display_data"
    }
   ],
   "source": [
    "hp.plot_predictions(df_clean, 'saleprice_tk_sd_bc')"
   ]
  },
  {
   "cell_type": "markdown",
   "metadata": {},
   "source": [
    "#### Model Evaluation\n",
    "\n",
    "Let's assess the importance of this new feature in the model."
   ]
  },
  {
   "cell_type": "code",
   "execution_count": 109,
   "metadata": {},
   "outputs": [],
   "source": [
    "dict_test = hp.model_stats_dict['train_stats']\n",
    "del dict_test['r-squared']"
   ]
  },
  {
   "cell_type": "code",
   "execution_count": 110,
   "metadata": {},
   "outputs": [],
   "source": [
    "df_test = pd.DataFrame(dict_test)"
   ]
  },
  {
   "cell_type": "code",
   "execution_count": 111,
   "metadata": {},
   "outputs": [
    {
     "data": {
      "text/html": [
       "<div>\n",
       "<style scoped>\n",
       "    .dataframe tbody tr th:only-of-type {\n",
       "        vertical-align: middle;\n",
       "    }\n",
       "\n",
       "    .dataframe tbody tr th {\n",
       "        vertical-align: top;\n",
       "    }\n",
       "\n",
       "    .dataframe thead th {\n",
       "        text-align: right;\n",
       "    }\n",
       "</style>\n",
       "<table border=\"1\" class=\"dataframe\">\n",
       "  <thead>\n",
       "    <tr style=\"text-align: right;\">\n",
       "      <th></th>\n",
       "      <th>features</th>\n",
       "      <th>coeffs</th>\n",
       "      <th>F-stat</th>\n",
       "      <th>pval</th>\n",
       "    </tr>\n",
       "  </thead>\n",
       "  <tbody>\n",
       "    <tr>\n",
       "      <th>58</th>\n",
       "      <td>avgyrtemp_sd</td>\n",
       "      <td>0.001926</td>\n",
       "      <td>0.396510</td>\n",
       "      <td>0.529021</td>\n",
       "    </tr>\n",
       "    <tr>\n",
       "      <th>37</th>\n",
       "      <td>bsmtexposure_Mn_oh</td>\n",
       "      <td>0.004494</td>\n",
       "      <td>4.085328</td>\n",
       "      <td>0.043485</td>\n",
       "    </tr>\n",
       "    <tr>\n",
       "      <th>27</th>\n",
       "      <td>extercond_Po_oh</td>\n",
       "      <td>-0.072816</td>\n",
       "      <td>4.166027</td>\n",
       "      <td>0.041467</td>\n",
       "    </tr>\n",
       "    <tr>\n",
       "      <th>46</th>\n",
       "      <td>fireplacequ_Po_oh</td>\n",
       "      <td>-0.064511</td>\n",
       "      <td>4.359515</td>\n",
       "      <td>0.037019</td>\n",
       "    </tr>\n",
       "    <tr>\n",
       "      <th>15</th>\n",
       "      <td>neighborhood_NWAmes_oh</td>\n",
       "      <td>-0.017614</td>\n",
       "      <td>4.729757</td>\n",
       "      <td>0.029846</td>\n",
       "    </tr>\n",
       "  </tbody>\n",
       "</table>\n",
       "</div>"
      ],
      "text/plain": [
       "                  features    coeffs    F-stat      pval\n",
       "58            avgyrtemp_sd  0.001926  0.396510  0.529021\n",
       "37      bsmtexposure_Mn_oh  0.004494  4.085328  0.043485\n",
       "27         extercond_Po_oh -0.072816  4.166027  0.041467\n",
       "46       fireplacequ_Po_oh -0.064511  4.359515  0.037019\n",
       "15  neighborhood_NWAmes_oh -0.017614  4.729757  0.029846"
      ]
     },
     "execution_count": 111,
     "metadata": {},
     "output_type": "execute_result"
    }
   ],
   "source": [
    "df_test.sort_values(by='pval', ascending=False).head()"
   ]
  },
  {
   "cell_type": "markdown",
   "metadata": {},
   "source": [
    "The high p-value and very small coefficient indicates that this feature is very useless for the model.\n",
    "\n",
    "## Conclusions\n",
    "\n",
    "In this project, I created several models to predict housing prices in Ames, Iowa. I determined that the most important features in predicting housing price are the overall quality of the property, the above ground living area, and the garage/car area. \n",
    "\n",
    "I added average yearly temperatures as an additional feature with the thinking that people might be more/less inclined to buy houses depending on the temperature. I determined that average yearly temperature did not have a strong predictive quality and thus is not necessary to include in the model.\n",
    "\n",
    "The best model was Model 3, which produced a test R<sup>2</sup> score of 0.883. In all cases, the training score and test score were close, indicating that no model suffered from overfitting."
   ]
  }
 ],
 "metadata": {
  "kernelspec": {
   "display_name": "Python 3",
   "language": "python",
   "name": "python3"
  },
  "language_info": {
   "codemirror_mode": {
    "name": "ipython",
    "version": 3
   },
   "file_extension": ".py",
   "mimetype": "text/x-python",
   "name": "python",
   "nbconvert_exporter": "python",
   "pygments_lexer": "ipython3",
   "version": "3.6.8"
  }
 },
 "nbformat": 4,
 "nbformat_minor": 2
}
