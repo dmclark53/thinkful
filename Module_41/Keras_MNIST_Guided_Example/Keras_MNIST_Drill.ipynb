{
 "cells": [
  {
   "cell_type": "markdown",
   "metadata": {},
   "source": [
    "# Keras MNIST Drill"
   ]
  },
  {
   "cell_type": "code",
   "execution_count": 1,
   "metadata": {},
   "outputs": [
    {
     "name": "stdout",
     "output_type": "stream",
     "text": [
      "2.0.0\n"
     ]
    }
   ],
   "source": [
    "from __future__ import absolute_import, division, print_function, unicode_literals\n",
    "\n",
    "import tensorflow as tf\n",
    "from tensorflow import keras\n",
    "\n",
    "print(tf.__version__)"
   ]
  },
  {
   "cell_type": "markdown",
   "metadata": {},
   "source": [
    "## Load Dataset"
   ]
  },
  {
   "cell_type": "code",
   "execution_count": 2,
   "metadata": {},
   "outputs": [],
   "source": [
    "mnist = tf.keras.datasets.mnist"
   ]
  },
  {
   "cell_type": "code",
   "execution_count": 3,
   "metadata": {},
   "outputs": [],
   "source": [
    "(x_train, y_train), (x_test, y_test) = mnist.load_data()\n",
    "x_train = x_train / 255.\n",
    "x_test = x_test / 255."
   ]
  },
  {
   "cell_type": "markdown",
   "metadata": {},
   "source": [
    "## Model\n",
    "Build the Keras model."
   ]
  },
  {
   "cell_type": "code",
   "execution_count": 5,
   "metadata": {},
   "outputs": [],
   "source": [
    "def build_model(X, y):\n",
    "    model_architecture = []\n",
    "    model_architecture.append(tf.keras.layers.Flatten(input_shape=(28, 28)))\n",
    "    model_architecture.append(tf.keras.layers.Dense(128, activation='relu'))\n",
    "    model_architecture.append(tf.keras.layers.Dropout(0.3))\n",
    "    model_architecture.append(tf.keras.layers.Dense(10, activation='softmax'))\n",
    "    \n",
    "    model = tf.keras.models.Sequential(model_architecture)\n",
    "    \n",
    "    model.compile(optimizer='adam',\n",
    "              loss='sparse_categorical_crossentropy',\n",
    "              metrics=['accuracy'])\n",
    "    \n",
    "    return model.fit(X, y, epochs=5)"
   ]
  },
  {
   "cell_type": "code",
   "execution_count": 7,
   "metadata": {},
   "outputs": [
    {
     "name": "stdout",
     "output_type": "stream",
     "text": [
      "Train on 60000 samples\n",
      "Epoch 1/5\n",
      "60000/60000 [==============================] - 15s 243us/sample - loss: 0.3229 - accuracy: 0.9051\n",
      "Epoch 2/5\n",
      "60000/60000 [==============================] - 14s 227us/sample - loss: 0.1650 - accuracy: 0.9516\n",
      "Epoch 3/5\n",
      "60000/60000 [==============================] - 14s 226us/sample - loss: 0.1280 - accuracy: 0.9613\n",
      "Epoch 4/5\n",
      "60000/60000 [==============================] - 14s 226us/sample - loss: 0.1073 - accuracy: 0.9665\n",
      "Epoch 5/5\n",
      "60000/60000 [==============================] - 13s 215us/sample - loss: 0.0945 - accuracy: 0.9706\n"
     ]
    }
   ],
   "source": [
    "model = build_model(x_train, y_train)"
   ]
  },
  {
   "cell_type": "code",
   "execution_count": 6,
   "metadata": {},
   "outputs": [],
   "source": []
  },
  {
   "cell_type": "code",
   "execution_count": 7,
   "metadata": {},
   "outputs": [],
   "source": []
  },
  {
   "cell_type": "markdown",
   "metadata": {},
   "source": [
    "Fit the model to the training set."
   ]
  },
  {
   "cell_type": "code",
   "execution_count": 8,
   "metadata": {},
   "outputs": [
    {
     "name": "stdout",
     "output_type": "stream",
     "text": [
      "Train on 60000 samples\n",
      "Epoch 1/30\n",
      "60000/60000 [==============================] - 7s 120us/sample - loss: 0.3183 - accuracy: 0.9075\n",
      "Epoch 2/30\n",
      "60000/60000 [==============================] - 7s 113us/sample - loss: 0.1640 - accuracy: 0.9520\n",
      "Epoch 3/30\n",
      "60000/60000 [==============================] - 7s 116us/sample - loss: 0.1281 - accuracy: 0.9596\n",
      "Epoch 4/30\n",
      "60000/60000 [==============================] - 7s 117us/sample - loss: 0.1065 - accuracy: 0.9657\n",
      "Epoch 5/30\n",
      "60000/60000 [==============================] - 7s 121us/sample - loss: 0.0962 - accuracy: 0.9698\n",
      "Epoch 6/30\n",
      "60000/60000 [==============================] - 7s 121us/sample - loss: 0.0870 - accuracy: 0.9722\n",
      "Epoch 7/30\n",
      "60000/60000 [==============================] - 7s 120us/sample - loss: 0.0760 - accuracy: 0.9758\n",
      "Epoch 8/30\n",
      "60000/60000 [==============================] - 7s 120us/sample - loss: 0.0743 - accuracy: 0.9756\n",
      "Epoch 9/30\n",
      "60000/60000 [==============================] - 7s 124us/sample - loss: 0.0653 - accuracy: 0.9783\n",
      "Epoch 10/30\n",
      "60000/60000 [==============================] - 7s 122us/sample - loss: 0.0646 - accuracy: 0.9791\n",
      "Epoch 11/30\n",
      "60000/60000 [==============================] - 7s 122us/sample - loss: 0.0612 - accuracy: 0.9795\n",
      "Epoch 12/30\n",
      "60000/60000 [==============================] - 7s 121us/sample - loss: 0.0567 - accuracy: 0.9816\n",
      "Epoch 13/30\n",
      "60000/60000 [==============================] - 7s 122us/sample - loss: 0.0543 - accuracy: 0.9819\n",
      "Epoch 14/30\n",
      "60000/60000 [==============================] - 7s 121us/sample - loss: 0.0522 - accuracy: 0.9822\n",
      "Epoch 15/30\n",
      "60000/60000 [==============================] - 7s 121us/sample - loss: 0.0498 - accuracy: 0.9830\n",
      "Epoch 16/30\n",
      "60000/60000 [==============================] - 7s 122us/sample - loss: 0.0472 - accuracy: 0.9833\n",
      "Epoch 17/30\n",
      "60000/60000 [==============================] - 7s 120us/sample - loss: 0.0430 - accuracy: 0.9856\n",
      "Epoch 18/30\n",
      "60000/60000 [==============================] - 7s 125us/sample - loss: 0.0426 - accuracy: 0.9856\n",
      "Epoch 19/30\n",
      "60000/60000 [==============================] - 8s 137us/sample - loss: 0.0411 - accuracy: 0.9862\n",
      "Epoch 20/30\n",
      "60000/60000 [==============================] - 7s 120us/sample - loss: 0.0411 - accuracy: 0.9861\n",
      "Epoch 21/30\n",
      "60000/60000 [==============================] - 7s 122us/sample - loss: 0.0417 - accuracy: 0.9861\n",
      "Epoch 22/30\n",
      "60000/60000 [==============================] - 7s 123us/sample - loss: 0.0397 - accuracy: 0.9858\n",
      "Epoch 23/30\n",
      "60000/60000 [==============================] - 7s 123us/sample - loss: 0.0396 - accuracy: 0.9860\n",
      "Epoch 24/30\n",
      "60000/60000 [==============================] - 7s 121us/sample - loss: 0.0369 - accuracy: 0.9878\n",
      "Epoch 25/30\n",
      "60000/60000 [==============================] - 7s 122us/sample - loss: 0.0368 - accuracy: 0.9876\n",
      "Epoch 26/30\n",
      "60000/60000 [==============================] - 7s 120us/sample - loss: 0.0352 - accuracy: 0.9884\n",
      "Epoch 27/30\n",
      "60000/60000 [==============================] - 7s 122us/sample - loss: 0.0351 - accuracy: 0.9874\n",
      "Epoch 28/30\n",
      "60000/60000 [==============================] - 7s 123us/sample - loss: 0.0351 - accuracy: 0.9885\n",
      "Epoch 29/30\n",
      "60000/60000 [==============================] - 7s 120us/sample - loss: 0.0356 - accuracy: 0.9873\n",
      "Epoch 30/30\n",
      "60000/60000 [==============================] - 7s 122us/sample - loss: 0.0323 - accuracy: 0.9890\n"
     ]
    },
    {
     "data": {
      "text/plain": [
       "<tensorflow.python.keras.callbacks.History at 0x1607f0390>"
      ]
     },
     "execution_count": 8,
     "metadata": {},
     "output_type": "execute_result"
    }
   ],
   "source": []
  },
  {
   "cell_type": "markdown",
   "metadata": {},
   "source": [
    "Evaluate the model on the test set."
   ]
  },
  {
   "cell_type": "code",
   "execution_count": 9,
   "metadata": {},
   "outputs": [
    {
     "name": "stdout",
     "output_type": "stream",
     "text": [
      "10000/1 - 1s - loss: 0.0459 - accuracy: 0.9797\n"
     ]
    },
    {
     "data": {
      "text/plain": [
       "[0.09176399060689291, 0.9797]"
      ]
     },
     "execution_count": 9,
     "metadata": {},
     "output_type": "execute_result"
    }
   ],
   "source": [
    "model.evaluate(x_test, y_test, verbose=2)"
   ]
  },
  {
   "cell_type": "code",
   "execution_count": null,
   "metadata": {},
   "outputs": [],
   "source": []
  }
 ],
 "metadata": {
  "kernelspec": {
   "display_name": "Python 3",
   "language": "python",
   "name": "python3"
  },
  "language_info": {
   "codemirror_mode": {
    "name": "ipython",
    "version": 3
   },
   "file_extension": ".py",
   "mimetype": "text/x-python",
   "name": "python",
   "nbconvert_exporter": "python",
   "pygments_lexer": "ipython3",
   "version": "3.6.7"
  }
 },
 "nbformat": 4,
 "nbformat_minor": 4
}
