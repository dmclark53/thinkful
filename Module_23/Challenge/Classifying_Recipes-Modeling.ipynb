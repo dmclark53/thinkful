{
 "cells": [
  {
   "cell_type": "markdown",
   "metadata": {},
   "source": [
    "# Classifying Recipes: Modeling\n",
    "This goal of this project is to classify recipe quality depending on the recipe's ratings and ingredients. The [dataset](https://www.kaggle.com/hugodarwood/epirecipes) was taken from Kaggle and is based off of recipes from [Epicurious](https://www.epicurious.com/recipes-menus). I will use a support vector machine classifier to make predictions."
   ]
  },
  {
   "cell_type": "code",
   "execution_count": 1,
   "metadata": {},
   "outputs": [],
   "source": [
    "import matplotlib.pyplot as plt\n",
    "import numpy as np\n",
    "import pandas as pd\n",
    "from sklearn import ensemble\n",
    "from sklearn.svm import SVC\n",
    "from sklearn.model_selection import cross_val_score\n",
    "import seaborn as sns\n",
    "from sqlalchemy import create_engine\n",
    "import time\n",
    "import warnings\n",
    "warnings.filterwarnings('ignore')\n",
    "\n",
    "import helpers as hp\n",
    "from config import usr, pwd, url, port, db, table\n",
    "\n",
    "%matplotlib inline"
   ]
  },
  {
   "cell_type": "markdown",
   "metadata": {},
   "source": [
    "## Load Dataset\n",
    "Load the cleaned dataset from the SQL database."
   ]
  },
  {
   "cell_type": "code",
   "execution_count": 2,
   "metadata": {},
   "outputs": [],
   "source": [
    "engine = create_engine(f\"postgresql+psycopg2://{usr}:{pwd}@{url}:{port}/{db}\")"
   ]
  },
  {
   "cell_type": "code",
   "execution_count": 3,
   "metadata": {},
   "outputs": [],
   "source": [
    "query = f'''\n",
    "SELECT\n",
    "    *\n",
    "FROM\n",
    "    {table};\n",
    "'''"
   ]
  },
  {
   "cell_type": "code",
   "execution_count": 4,
   "metadata": {},
   "outputs": [],
   "source": [
    "df = pd.read_sql_query(query, con=engine)"
   ]
  },
  {
   "cell_type": "code",
   "execution_count": 5,
   "metadata": {},
   "outputs": [],
   "source": [
    "engine.dispose()"
   ]
  },
  {
   "cell_type": "markdown",
   "metadata": {},
   "source": [
    "Copy cleaned dataset to a new `DataFrame`, which will be transformed and used for modeling."
   ]
  },
  {
   "cell_type": "code",
   "execution_count": 6,
   "metadata": {},
   "outputs": [],
   "source": [
    "df_model = df.copy()"
   ]
  },
  {
   "cell_type": "markdown",
   "metadata": {},
   "source": [
    "## Split by Type\n",
    "As was done in the data cleaning step, let's organize this dataset by splitting it into separate variables types:\n",
    "* nutrition\n",
    "* keywords\n",
    "* remaining"
   ]
  },
  {
   "cell_type": "code",
   "execution_count": 7,
   "metadata": {},
   "outputs": [],
   "source": [
    "df_described = df_model.describe().T\n",
    "nutrition_list = df_described[df_described['max'] > 5].index.tolist()\n",
    "keyword_list = df_described[df_described['max'] <= 1].index.tolist()\n",
    "remaining_columns = ['title', 'rating']"
   ]
  },
  {
   "cell_type": "markdown",
   "metadata": {},
   "source": [
    "## Data Exploration\n",
    "### Rating Distributions\n",
    "Let's plot a histogram of the distribution in ratings."
   ]
  },
  {
   "cell_type": "code",
   "execution_count": 8,
   "metadata": {},
   "outputs": [
    {
     "data": {
      "image/png": "[encoded data removed]",
      "text/plain": [
       "<Figure size 432x288 with 1 Axes>"
      ]
     },
     "metadata": {
      "needs_background": "light"
     },
     "output_type": "display_data"
    }
   ],
   "source": [
    "df_model['rating'].hist(bins=20)\n",
    "plt.title('Histogram of Ratings')\n",
    "plt.xlabel('rating')\n",
    "plt.show()"
   ]
  },
  {
   "cell_type": "markdown",
   "metadata": {},
   "source": [
    "**Observations:** Most ratings are around 4.5. There are a large number of ratings that have a value of zero.\n",
    "## Feature Engineering\n",
    "### 0 Value Ratings\n",
    "Recipes with ratings equal to zero indicate that no one rated that recipe. Therefore, it lacks any useful information about the quality of the recipe. Therefore, I will remove any rows with a zero rating."
   ]
  },
  {
   "cell_type": "code",
   "execution_count": 9,
   "metadata": {},
   "outputs": [],
   "source": [
    "df_model = df_model[df_model['rating'] > 0].copy()"
   ]
  },
  {
   "cell_type": "code",
   "execution_count": 10,
   "metadata": {},
   "outputs": [
    {
     "data": {
      "image/png": "[encoded data removed]",
      "text/plain": [
       "<Figure size 432x288 with 1 Axes>"
      ]
     },
     "metadata": {
      "needs_background": "light"
     },
     "output_type": "display_data"
    }
   ],
   "source": [
    "df_model['rating'].hist(bins=20)\n",
    "plt.title('Histogram of Ratings')\n",
    "plt.xlabel('rating')\n",
    "plt.show()"
   ]
  },
  {
   "cell_type": "markdown",
   "metadata": {},
   "source": [
    "### Binary Class\n",
    "Create a column _Good_ that separates recipes into two groups, depending on their rating."
   ]
  },
  {
   "cell_type": "code",
   "execution_count": 11,
   "metadata": {},
   "outputs": [
    {
     "data": {
      "text/plain": [
       "4.375    8019\n",
       "3.750    5169\n",
       "5.000    2719\n",
       "3.125    1489\n",
       "2.500     532\n",
       "1.250     164\n",
       "1.875     124\n",
       "Name: rating, dtype: int64"
      ]
     },
     "execution_count": 11,
     "metadata": {},
     "output_type": "execute_result"
    }
   ],
   "source": [
    "df_model['rating'].value_counts()"
   ]
  },
  {
   "cell_type": "code",
   "execution_count": 12,
   "metadata": {},
   "outputs": [
    {
     "name": "stdout",
     "output_type": "stream",
     "text": [
      "There are 10738 recipes with a rating above 4.\n",
      "There are 7478 recipes with a rating below 4.\n"
     ]
    }
   ],
   "source": [
    "rating_counts = df_model['rating'].value_counts()\n",
    "rating_thresh = 4\n",
    "num_good = rating_counts[rating_counts.index > rating_thresh].sum()\n",
    "num_bad = rating_counts[rating_counts.index < rating_thresh].sum()\n",
    "print(f'There are {num_good} recipes with a rating above {rating_thresh}.')\n",
    "print(f'There are {num_bad} recipes with a rating below {rating_thresh}.')"
   ]
  },
  {
   "cell_type": "markdown",
   "metadata": {},
   "source": [
    "I will split ratings on a threshold rating of 4."
   ]
  },
  {
   "cell_type": "code",
   "execution_count": 13,
   "metadata": {},
   "outputs": [
    {
     "data": {
      "text/plain": [
       "array([0, 1])"
      ]
     },
     "execution_count": 13,
     "metadata": {},
     "output_type": "execute_result"
    }
   ],
   "source": [
    "df_model['good'] = df_model['rating'] > 4\n",
    "df_model['good'] = df_model['good'].astype(int)\n",
    "df_model['good'].unique()"
   ]
  },
  {
   "cell_type": "markdown",
   "metadata": {},
   "source": [
    "I will remove the _ratings_ column as now it is redundant."
   ]
  },
  {
   "cell_type": "code",
   "execution_count": 14,
   "metadata": {},
   "outputs": [],
   "source": [
    "df_model.drop('rating', axis=1, inplace=True)"
   ]
  },
  {
   "cell_type": "markdown",
   "metadata": {},
   "source": [
    "### Class Imbalance\n",
    "As can be see in the rating counts, there are significantly more ratings above four than below four. To address this class imblance, I will:\n",
    "* Divide the dataset into two by _good_ class.\n",
    "* Take a sub-sample of the 'good' class (_good_ == 1) that is equal to the number of 'bad' labels.\n",
    "* Recombine the dataset."
   ]
  },
  {
   "cell_type": "code",
   "execution_count": 15,
   "metadata": {},
   "outputs": [],
   "source": [
    "df_good = df_model[df_model['good'] == 1].copy()\n",
    "df_bad = df_model[df_model['good'] == 0].copy()"
   ]
  },
  {
   "cell_type": "code",
   "execution_count": 16,
   "metadata": {},
   "outputs": [],
   "source": [
    "df_good = df_good.sample(n=num_bad, random_state=42)"
   ]
  },
  {
   "cell_type": "code",
   "execution_count": 17,
   "metadata": {},
   "outputs": [
    {
     "data": {
      "text/plain": [
       "True"
      ]
     },
     "execution_count": 17,
     "metadata": {},
     "output_type": "execute_result"
    }
   ],
   "source": [
    "len(df_good) == len(df_bad)"
   ]
  },
  {
   "cell_type": "markdown",
   "metadata": {},
   "source": [
    "Good. Now I have an equal number of 'good' and 'bad' labels for the _good_ column."
   ]
  },
  {
   "cell_type": "code",
   "execution_count": 18,
   "metadata": {},
   "outputs": [],
   "source": [
    "df_model = pd.concat([df_good, df_bad], axis=0)\n",
    "df_model = df_model.sample(frac=1).reset_index(drop=True)"
   ]
  },
  {
   "cell_type": "markdown",
   "metadata": {},
   "source": [
    "### Categorical variables\n",
    "Use a $\\chi$<sup>2</sup> technique to decide which categorical features have the most predictive power with _good_. Adjust threshold until feature count is less than 30. The categorical features are the keywords."
   ]
  },
  {
   "cell_type": "code",
   "execution_count": 19,
   "metadata": {
    "scrolled": false
   },
   "outputs": [
    {
     "name": "stdout",
     "output_type": "stream",
     "text": [
      "Feature Chi-squared Statistics: (p-value < 1e-05)\n",
      "* backyard bbq: chi2 = 34.643, p-value = 3.960e-09, dof = 1\n",
      "* bon appÃ©tit: chi2 = 79.587, p-value = 4.614e-19, dof = 1\n",
      "* broccoli: chi2 = 27.968, p-value = 1.234e-07, dof = 1\n",
      "* cabbage: chi2 = 21.008, p-value = 4.574e-06, dof = 1\n",
      "* chile pepper: chi2 = 21.144, p-value = 4.261e-06, dof = 1\n",
      "* christmas: chi2 = 46.861, p-value = 7.622e-12, dof = 1\n",
      "* cornmeal: chi2 = 22.913, p-value = 1.695e-06, dof = 1\n",
      "* cranberry: chi2 = 21.530, p-value = 3.484e-06, dof = 1\n",
      "* dinner: chi2 = 50.138, p-value = 1.433e-12, dof = 1\n",
      "* goat cheese: chi2 = 23.968, p-value = 9.794e-07, dof = 1\n",
      "* gourmet: chi2 = 89.536, p-value = 3.010e-21, dof = 1\n",
      "* grill: chi2 = 26.605, p-value = 2.496e-07, dof = 1\n",
      "* grill/barbecue: chi2 = 34.186, p-value = 5.008e-09, dof = 1\n",
      "* low fat: chi2 = 44.873, p-value = 2.103e-11, dof = 1\n",
      "* pasta: chi2 = 61.458, p-value = 4.522e-15, dof = 1\n",
      "* quick & easy: chi2 = 80.583, p-value = 2.788e-19, dof = 1\n",
      "* roast: chi2 = 61.036, p-value = 5.604e-15, dof = 1\n",
      "* sautÃ©: chi2 = 22.503, p-value = 2.098e-06, dof = 1\n",
      "* side: chi2 = 23.350, p-value = 1.351e-06, dof = 1\n",
      "* stir-fry: chi2 = 33.908, p-value = 5.777e-09, dof = 1\n",
      "* thanksgiving: chi2 = 60.968, p-value = 5.802e-15, dof = 1\n",
      "* tofu: chi2 = 20.613, p-value = 5.621e-06, dof = 1\n",
      "* vegan: chi2 = 20.125, p-value = 7.253e-06, dof = 1\n",
      "* vegetable: chi2 = 38.156, p-value = 6.530e-10, dof = 1\n",
      "* zucchini: chi2 = 20.171, p-value = 7.081e-06, dof = 1\n",
      "* turkey: chi2 = 19.890, p-value = 8.201e-06, dof = 1\n",
      "654 categorical features will be removed.\n",
      " * will keep 26 categorical variables.\n"
     ]
    }
   ],
   "source": [
    "cat_list = hp.select_cat_variables(df_model, 'good', keyword_list, alpha=1e-5)\n",
    "print(f' * will keep {len(cat_list)} categorical variables.')"
   ]
  },
  {
   "cell_type": "code",
   "execution_count": 20,
   "metadata": {},
   "outputs": [],
   "source": [
    "df_categorical = df_model.loc[:, cat_list].copy()"
   ]
  },
  {
   "cell_type": "markdown",
   "metadata": {},
   "source": [
    "### Continuous variables\n",
    "Compare continous features and remove those that are highly correlated with eachother. The continous variables are the nutrition variables."
   ]
  },
  {
   "cell_type": "code",
   "execution_count": 21,
   "metadata": {},
   "outputs": [
    {
     "data": {
      "text/html": [
       "<div>\n",
       "<style scoped>\n",
       "    .dataframe tbody tr th:only-of-type {\n",
       "        vertical-align: middle;\n",
       "    }\n",
       "\n",
       "    .dataframe tbody tr th {\n",
       "        vertical-align: top;\n",
       "    }\n",
       "\n",
       "    .dataframe thead th {\n",
       "        text-align: right;\n",
       "    }\n",
       "</style>\n",
       "<table border=\"1\" class=\"dataframe\">\n",
       "  <thead>\n",
       "    <tr style=\"text-align: right;\">\n",
       "      <th></th>\n",
       "      <th>calories</th>\n",
       "      <th>protein</th>\n",
       "      <th>fat</th>\n",
       "      <th>sodium</th>\n",
       "    </tr>\n",
       "  </thead>\n",
       "  <tbody>\n",
       "    <tr>\n",
       "      <td>calories</td>\n",
       "      <td>1.000000</td>\n",
       "      <td>0.742820</td>\n",
       "      <td>0.996538</td>\n",
       "      <td>0.996400</td>\n",
       "    </tr>\n",
       "    <tr>\n",
       "      <td>protein</td>\n",
       "      <td>0.742820</td>\n",
       "      <td>1.000000</td>\n",
       "      <td>0.712197</td>\n",
       "      <td>0.749298</td>\n",
       "    </tr>\n",
       "    <tr>\n",
       "      <td>fat</td>\n",
       "      <td>0.996538</td>\n",
       "      <td>0.712197</td>\n",
       "      <td>1.000000</td>\n",
       "      <td>0.986485</td>\n",
       "    </tr>\n",
       "    <tr>\n",
       "      <td>sodium</td>\n",
       "      <td>0.996400</td>\n",
       "      <td>0.749298</td>\n",
       "      <td>0.986485</td>\n",
       "      <td>1.000000</td>\n",
       "    </tr>\n",
       "  </tbody>\n",
       "</table>\n",
       "</div>"
      ],
      "text/plain": [
       "          calories   protein       fat    sodium\n",
       "calories  1.000000  0.742820  0.996538  0.996400\n",
       "protein   0.742820  1.000000  0.712197  0.749298\n",
       "fat       0.996538  0.712197  1.000000  0.986485\n",
       "sodium    0.996400  0.749298  0.986485  1.000000"
      ]
     },
     "execution_count": 21,
     "metadata": {},
     "output_type": "execute_result"
    }
   ],
   "source": [
    "df_model.loc[:, nutrition_list].corr()"
   ]
  },
  {
   "cell_type": "markdown",
   "metadata": {},
   "source": [
    "**Observations:** All continuous variables have high correlations. But, this subset includes 'missing' values, those labeled with -1. Let's remove these and redo the correlations analysis."
   ]
  },
  {
   "cell_type": "code",
   "execution_count": 22,
   "metadata": {},
   "outputs": [],
   "source": [
    "df_continuous = df_model.loc[:, nutrition_list]\n",
    "df_continuous = df_continuous[((df_continuous > -1).any(axis=1))].copy()"
   ]
  },
  {
   "cell_type": "code",
   "execution_count": 23,
   "metadata": {},
   "outputs": [
    {
     "data": {
      "text/html": [
       "<div>\n",
       "<style scoped>\n",
       "    .dataframe tbody tr th:only-of-type {\n",
       "        vertical-align: middle;\n",
       "    }\n",
       "\n",
       "    .dataframe tbody tr th {\n",
       "        vertical-align: top;\n",
       "    }\n",
       "\n",
       "    .dataframe thead th {\n",
       "        text-align: right;\n",
       "    }\n",
       "</style>\n",
       "<table border=\"1\" class=\"dataframe\">\n",
       "  <thead>\n",
       "    <tr style=\"text-align: right;\">\n",
       "      <th></th>\n",
       "      <th>calories</th>\n",
       "      <th>protein</th>\n",
       "      <th>fat</th>\n",
       "      <th>sodium</th>\n",
       "    </tr>\n",
       "  </thead>\n",
       "  <tbody>\n",
       "    <tr>\n",
       "      <td>calories</td>\n",
       "      <td>1.000000</td>\n",
       "      <td>0.742796</td>\n",
       "      <td>0.996538</td>\n",
       "      <td>0.996400</td>\n",
       "    </tr>\n",
       "    <tr>\n",
       "      <td>protein</td>\n",
       "      <td>0.742796</td>\n",
       "      <td>1.000000</td>\n",
       "      <td>0.712172</td>\n",
       "      <td>0.749272</td>\n",
       "    </tr>\n",
       "    <tr>\n",
       "      <td>fat</td>\n",
       "      <td>0.996538</td>\n",
       "      <td>0.712172</td>\n",
       "      <td>1.000000</td>\n",
       "      <td>0.986484</td>\n",
       "    </tr>\n",
       "    <tr>\n",
       "      <td>sodium</td>\n",
       "      <td>0.996400</td>\n",
       "      <td>0.749272</td>\n",
       "      <td>0.986484</td>\n",
       "      <td>1.000000</td>\n",
       "    </tr>\n",
       "  </tbody>\n",
       "</table>\n",
       "</div>"
      ],
      "text/plain": [
       "          calories   protein       fat    sodium\n",
       "calories  1.000000  0.742796  0.996538  0.996400\n",
       "protein   0.742796  1.000000  0.712172  0.749272\n",
       "fat       0.996538  0.712172  1.000000  0.986484\n",
       "sodium    0.996400  0.749272  0.986484  1.000000"
      ]
     },
     "execution_count": 23,
     "metadata": {},
     "output_type": "execute_result"
    }
   ],
   "source": [
    "df_continuous.corr()"
   ]
  },
  {
   "cell_type": "markdown",
   "metadata": {},
   "source": [
    "**Observations:** Even excluding the 'missing' values, the correlations between features are still pretty high. Only _calories_ and _protein_ have a correlation less than 0.8. I will only stick with the categorical variables for the model."
   ]
  },
  {
   "cell_type": "markdown",
   "metadata": {},
   "source": [
    "## Model\n",
    "Define target and features."
   ]
  },
  {
   "cell_type": "code",
   "execution_count": 24,
   "metadata": {},
   "outputs": [],
   "source": [
    "X = df_model.loc[:, cat_list].values\n",
    "y = df_model['good']"
   ]
  },
  {
   "cell_type": "code",
   "execution_count": 25,
   "metadata": {},
   "outputs": [],
   "source": [
    "svc = SVC()"
   ]
  },
  {
   "cell_type": "code",
   "execution_count": 26,
   "metadata": {},
   "outputs": [
    {
     "name": "stdout",
     "output_type": "stream",
     "text": [
      "[0.58054813 0.59324866 0.56149733 0.5632107  0.5819398 ]\n"
     ]
    }
   ],
   "source": [
    "cv_scores = cross_val_score(svc, X, y, cv=5)\n",
    "print(cv_scores)"
   ]
  },
  {
   "cell_type": "markdown",
   "metadata": {},
   "source": [
    "## Conclusions\n",
    "Well, the cross validation scores are at least greater than 50%. But, the model still does not perform well.\n",
    "\n",
    "### Biases\n",
    "Some biases in the model could include:\n",
    "* High ratings\n",
    "    * People who like a recipe are more likely to write a review than those who do not like it.\n",
    "* Location\n",
    "    * If Epicurious is mostly used in the US, then people might prefer more American recipes.\n",
    "* Holiday recipes\n",
    "    * These recipes tend to be more popular. Therefore, more people are more likely to write a review.\n",
    "* Review counts\n",
    "    * Along the same lines as the above bullet point, more popular recipes will tend to have more reviews, which in turn will tend to be more positive. Therefore, the recipes aren't being review equally, which could lead to bias."
   ]
  }
 ],
 "metadata": {
  "kernelspec": {
   "display_name": "Python 3",
   "language": "python",
   "name": "python3"
  },
  "language_info": {
   "codemirror_mode": {
    "name": "ipython",
    "version": 3
   },
   "file_extension": ".py",
   "mimetype": "text/x-python",
   "name": "python",
   "nbconvert_exporter": "python",
   "pygments_lexer": "ipython3",
   "version": "3.6.7"
  }
 },
 "nbformat": 4,
 "nbformat_minor": 2
}
