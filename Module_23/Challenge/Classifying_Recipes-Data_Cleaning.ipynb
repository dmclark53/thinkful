{
 "cells": [
  {
   "cell_type": "markdown",
   "metadata": {},
   "source": [
    "# Classifying Recipes: Data Cleaning\n",
    "This goal of this project is to classify recipe quality depending on the recipe's ratings and ingredients. The [dataset](https://www.kaggle.com/hugodarwood/epirecipes) was taken from Kaggle and is based off of recipes from [Epicurious](https://www.epicurious.com/recipes-menus). I will use a support vector machine classifier to make predictions."
   ]
  },
  {
   "cell_type": "code",
   "execution_count": 1,
   "metadata": {},
   "outputs": [],
   "source": [
    "import matplotlib.pyplot as plt\n",
    "import numpy as np\n",
    "import pandas as pd\n",
    "import seaborn as sns\n",
    "from sqlalchemy import create_engine\n",
    "from sqlalchemy_utils import create_database, database_exists\n",
    "import warnings\n",
    "warnings.filterwarnings('ignore')\n",
    "\n",
    "import helpers as hp\n",
    "from config import usr, pwd, url, port, db, table\n",
    "\n",
    "%matplotlib inline"
   ]
  },
  {
   "cell_type": "markdown",
   "metadata": {},
   "source": [
    "## Load Dataset"
   ]
  },
  {
   "cell_type": "code",
   "execution_count": 2,
   "metadata": {},
   "outputs": [],
   "source": [
    "df = pd.read_csv('./data/epi_r.csv', encoding='latin')"
   ]
  },
  {
   "cell_type": "code",
   "execution_count": 3,
   "metadata": {},
   "outputs": [
    {
     "name": "stdout",
     "output_type": "stream",
     "text": [
      "<class 'pandas.core.frame.DataFrame'>\n",
      "RangeIndex: 20052 entries, 0 to 20051\n",
      "Columns: 680 entries, title to turkey\n",
      "dtypes: float64(679), object(1)\n",
      "memory usage: 104.0+ MB\n"
     ]
    }
   ],
   "source": [
    "df.info()"
   ]
  },
  {
   "cell_type": "markdown",
   "metadata": {},
   "source": [
    "## Data Cleaning\n",
    "Copy `DataFrame` to a new variable to preserve the intial, raw dataset."
   ]
  },
  {
   "cell_type": "code",
   "execution_count": 4,
   "metadata": {},
   "outputs": [],
   "source": [
    "df_clean = df.copy()"
   ]
  },
  {
   "cell_type": "code",
   "execution_count": 5,
   "metadata": {},
   "outputs": [
    {
     "data": {
      "text/html": [
       "<div>\n",
       "<style scoped>\n",
       "    .dataframe tbody tr th:only-of-type {\n",
       "        vertical-align: middle;\n",
       "    }\n",
       "\n",
       "    .dataframe tbody tr th {\n",
       "        vertical-align: top;\n",
       "    }\n",
       "\n",
       "    .dataframe thead th {\n",
       "        text-align: right;\n",
       "    }\n",
       "</style>\n",
       "<table border=\"1\" class=\"dataframe\">\n",
       "  <thead>\n",
       "    <tr style=\"text-align: right;\">\n",
       "      <th></th>\n",
       "      <th>count</th>\n",
       "      <th>mean</th>\n",
       "      <th>std</th>\n",
       "      <th>min</th>\n",
       "      <th>25%</th>\n",
       "      <th>50%</th>\n",
       "      <th>75%</th>\n",
       "      <th>max</th>\n",
       "    </tr>\n",
       "  </thead>\n",
       "  <tbody>\n",
       "    <tr>\n",
       "      <td>rating</td>\n",
       "      <td>20052.0</td>\n",
       "      <td>3.714467</td>\n",
       "      <td>1.340829</td>\n",
       "      <td>0.0</td>\n",
       "      <td>3.75</td>\n",
       "      <td>4.375</td>\n",
       "      <td>4.375</td>\n",
       "      <td>5.0</td>\n",
       "    </tr>\n",
       "    <tr>\n",
       "      <td>calories</td>\n",
       "      <td>15935.0</td>\n",
       "      <td>6322.958017</td>\n",
       "      <td>359046.041242</td>\n",
       "      <td>0.0</td>\n",
       "      <td>198.00</td>\n",
       "      <td>331.000</td>\n",
       "      <td>586.000</td>\n",
       "      <td>30111218.0</td>\n",
       "    </tr>\n",
       "    <tr>\n",
       "      <td>protein</td>\n",
       "      <td>15890.0</td>\n",
       "      <td>100.160793</td>\n",
       "      <td>3840.318527</td>\n",
       "      <td>0.0</td>\n",
       "      <td>3.00</td>\n",
       "      <td>8.000</td>\n",
       "      <td>27.000</td>\n",
       "      <td>236489.0</td>\n",
       "    </tr>\n",
       "    <tr>\n",
       "      <td>fat</td>\n",
       "      <td>15869.0</td>\n",
       "      <td>346.877497</td>\n",
       "      <td>20456.106859</td>\n",
       "      <td>0.0</td>\n",
       "      <td>7.00</td>\n",
       "      <td>17.000</td>\n",
       "      <td>33.000</td>\n",
       "      <td>1722763.0</td>\n",
       "    </tr>\n",
       "    <tr>\n",
       "      <td>sodium</td>\n",
       "      <td>15933.0</td>\n",
       "      <td>6225.974895</td>\n",
       "      <td>333318.188891</td>\n",
       "      <td>0.0</td>\n",
       "      <td>80.00</td>\n",
       "      <td>294.000</td>\n",
       "      <td>711.000</td>\n",
       "      <td>27675110.0</td>\n",
       "    </tr>\n",
       "    <tr>\n",
       "      <td>...</td>\n",
       "      <td>...</td>\n",
       "      <td>...</td>\n",
       "      <td>...</td>\n",
       "      <td>...</td>\n",
       "      <td>...</td>\n",
       "      <td>...</td>\n",
       "      <td>...</td>\n",
       "      <td>...</td>\n",
       "    </tr>\n",
       "    <tr>\n",
       "      <td>cookbooks</td>\n",
       "      <td>20052.0</td>\n",
       "      <td>0.000150</td>\n",
       "      <td>0.012231</td>\n",
       "      <td>0.0</td>\n",
       "      <td>0.00</td>\n",
       "      <td>0.000</td>\n",
       "      <td>0.000</td>\n",
       "      <td>1.0</td>\n",
       "    </tr>\n",
       "    <tr>\n",
       "      <td>leftovers</td>\n",
       "      <td>20052.0</td>\n",
       "      <td>0.000349</td>\n",
       "      <td>0.018681</td>\n",
       "      <td>0.0</td>\n",
       "      <td>0.00</td>\n",
       "      <td>0.000</td>\n",
       "      <td>0.000</td>\n",
       "      <td>1.0</td>\n",
       "    </tr>\n",
       "    <tr>\n",
       "      <td>snack</td>\n",
       "      <td>20052.0</td>\n",
       "      <td>0.001396</td>\n",
       "      <td>0.037343</td>\n",
       "      <td>0.0</td>\n",
       "      <td>0.00</td>\n",
       "      <td>0.000</td>\n",
       "      <td>0.000</td>\n",
       "      <td>1.0</td>\n",
       "    </tr>\n",
       "    <tr>\n",
       "      <td>snack week</td>\n",
       "      <td>20052.0</td>\n",
       "      <td>0.000948</td>\n",
       "      <td>0.030768</td>\n",
       "      <td>0.0</td>\n",
       "      <td>0.00</td>\n",
       "      <td>0.000</td>\n",
       "      <td>0.000</td>\n",
       "      <td>1.0</td>\n",
       "    </tr>\n",
       "    <tr>\n",
       "      <td>turkey</td>\n",
       "      <td>20052.0</td>\n",
       "      <td>0.022741</td>\n",
       "      <td>0.149080</td>\n",
       "      <td>0.0</td>\n",
       "      <td>0.00</td>\n",
       "      <td>0.000</td>\n",
       "      <td>0.000</td>\n",
       "      <td>1.0</td>\n",
       "    </tr>\n",
       "  </tbody>\n",
       "</table>\n",
       "<p>679 rows × 8 columns</p>\n",
       "</div>"
      ],
      "text/plain": [
       "              count         mean            std  min     25%      50%  \\\n",
       "rating      20052.0     3.714467       1.340829  0.0    3.75    4.375   \n",
       "calories    15935.0  6322.958017  359046.041242  0.0  198.00  331.000   \n",
       "protein     15890.0   100.160793    3840.318527  0.0    3.00    8.000   \n",
       "fat         15869.0   346.877497   20456.106859  0.0    7.00   17.000   \n",
       "sodium      15933.0  6225.974895  333318.188891  0.0   80.00  294.000   \n",
       "...             ...          ...            ...  ...     ...      ...   \n",
       "cookbooks   20052.0     0.000150       0.012231  0.0    0.00    0.000   \n",
       "leftovers   20052.0     0.000349       0.018681  0.0    0.00    0.000   \n",
       "snack       20052.0     0.001396       0.037343  0.0    0.00    0.000   \n",
       "snack week  20052.0     0.000948       0.030768  0.0    0.00    0.000   \n",
       "turkey      20052.0     0.022741       0.149080  0.0    0.00    0.000   \n",
       "\n",
       "                75%         max  \n",
       "rating        4.375         5.0  \n",
       "calories    586.000  30111218.0  \n",
       "protein      27.000    236489.0  \n",
       "fat          33.000   1722763.0  \n",
       "sodium      711.000  27675110.0  \n",
       "...             ...         ...  \n",
       "cookbooks     0.000         1.0  \n",
       "leftovers     0.000         1.0  \n",
       "snack         0.000         1.0  \n",
       "snack week    0.000         1.0  \n",
       "turkey        0.000         1.0  \n",
       "\n",
       "[679 rows x 8 columns]"
      ]
     },
     "execution_count": 5,
     "metadata": {},
     "output_type": "execute_result"
    }
   ],
   "source": [
    "df_clean.describe().T"
   ]
  },
  {
   "cell_type": "code",
   "execution_count": 6,
   "metadata": {},
   "outputs": [],
   "source": [
    "df_described = df_clean.describe().T"
   ]
  },
  {
   "cell_type": "markdown",
   "metadata": {},
   "source": [
    "### Separate Dataset by Types\n",
    "#### Nutrition\n",
    "Search for nutrition information by finding those columns with a max value greater than 5."
   ]
  },
  {
   "cell_type": "code",
   "execution_count": 7,
   "metadata": {},
   "outputs": [],
   "source": [
    "nutrition_list = df_described[df_described['max'] > 5].index.tolist()"
   ]
  },
  {
   "cell_type": "markdown",
   "metadata": {},
   "source": [
    "#### Keywords\n",
    "Search for keywords by finding those columsn with a max value less than or equal to 1."
   ]
  },
  {
   "cell_type": "code",
   "execution_count": 8,
   "metadata": {},
   "outputs": [],
   "source": [
    "keyword_list = df_described[df_described['max'] <= 1].index.tolist()"
   ]
  },
  {
   "cell_type": "markdown",
   "metadata": {},
   "source": [
    "#### Remaining Columns\n",
    "The columns that aren't keywords nor nutrition information are: _title_ and _rating_."
   ]
  },
  {
   "cell_type": "code",
   "execution_count": 9,
   "metadata": {},
   "outputs": [],
   "source": [
    "remaining_columns = ['title', 'rating']"
   ]
  },
  {
   "cell_type": "code",
   "execution_count": 10,
   "metadata": {},
   "outputs": [
    {
     "name": "stdout",
     "output_type": "stream",
     "text": [
      "680\n",
      "680\n"
     ]
    }
   ],
   "source": [
    "print(len(nutrition_list) + len(keyword_list) + len(remaining_columns))\n",
    "print(len(df_clean.columns))"
   ]
  },
  {
   "cell_type": "markdown",
   "metadata": {},
   "source": [
    "Good! I have now created subset lists for the different types of data in the dataset. Let's examing missing values for each separately."
   ]
  },
  {
   "cell_type": "markdown",
   "metadata": {},
   "source": [
    "### Missing Values\n",
    "#### Nutrition Information"
   ]
  },
  {
   "cell_type": "code",
   "execution_count": 11,
   "metadata": {},
   "outputs": [
    {
     "name": "stdout",
     "output_type": "stream",
     "text": [
      "Variables with missing values and their fraction of missing values:\n",
      "calories    0.205316\n",
      "protein     0.207560\n",
      "fat         0.208608\n",
      "sodium      0.205416\n",
      "dtype: float64\n"
     ]
    }
   ],
   "source": [
    "hp.find_na_columns(df_clean.loc[:, nutrition_list], display_fractions=True)"
   ]
  },
  {
   "cell_type": "code",
   "execution_count": 12,
   "metadata": {},
   "outputs": [
    {
     "data": {
      "text/html": [
       "<div>\n",
       "<style scoped>\n",
       "    .dataframe tbody tr th:only-of-type {\n",
       "        vertical-align: middle;\n",
       "    }\n",
       "\n",
       "    .dataframe tbody tr th {\n",
       "        vertical-align: top;\n",
       "    }\n",
       "\n",
       "    .dataframe thead th {\n",
       "        text-align: right;\n",
       "    }\n",
       "</style>\n",
       "<table border=\"1\" class=\"dataframe\">\n",
       "  <thead>\n",
       "    <tr style=\"text-align: right;\">\n",
       "      <th></th>\n",
       "      <th>count</th>\n",
       "      <th>mean</th>\n",
       "      <th>std</th>\n",
       "      <th>min</th>\n",
       "      <th>25%</th>\n",
       "      <th>50%</th>\n",
       "      <th>75%</th>\n",
       "      <th>max</th>\n",
       "    </tr>\n",
       "  </thead>\n",
       "  <tbody>\n",
       "    <tr>\n",
       "      <td>calories</td>\n",
       "      <td>15935.0</td>\n",
       "      <td>6322.958017</td>\n",
       "      <td>359046.041242</td>\n",
       "      <td>0.0</td>\n",
       "      <td>198.0</td>\n",
       "      <td>331.0</td>\n",
       "      <td>586.0</td>\n",
       "      <td>30111218.0</td>\n",
       "    </tr>\n",
       "    <tr>\n",
       "      <td>protein</td>\n",
       "      <td>15890.0</td>\n",
       "      <td>100.160793</td>\n",
       "      <td>3840.318527</td>\n",
       "      <td>0.0</td>\n",
       "      <td>3.0</td>\n",
       "      <td>8.0</td>\n",
       "      <td>27.0</td>\n",
       "      <td>236489.0</td>\n",
       "    </tr>\n",
       "    <tr>\n",
       "      <td>fat</td>\n",
       "      <td>15869.0</td>\n",
       "      <td>346.877497</td>\n",
       "      <td>20456.106859</td>\n",
       "      <td>0.0</td>\n",
       "      <td>7.0</td>\n",
       "      <td>17.0</td>\n",
       "      <td>33.0</td>\n",
       "      <td>1722763.0</td>\n",
       "    </tr>\n",
       "    <tr>\n",
       "      <td>sodium</td>\n",
       "      <td>15933.0</td>\n",
       "      <td>6225.974895</td>\n",
       "      <td>333318.188891</td>\n",
       "      <td>0.0</td>\n",
       "      <td>80.0</td>\n",
       "      <td>294.0</td>\n",
       "      <td>711.0</td>\n",
       "      <td>27675110.0</td>\n",
       "    </tr>\n",
       "  </tbody>\n",
       "</table>\n",
       "</div>"
      ],
      "text/plain": [
       "            count         mean            std  min    25%    50%    75%  \\\n",
       "calories  15935.0  6322.958017  359046.041242  0.0  198.0  331.0  586.0   \n",
       "protein   15890.0   100.160793    3840.318527  0.0    3.0    8.0   27.0   \n",
       "fat       15869.0   346.877497   20456.106859  0.0    7.0   17.0   33.0   \n",
       "sodium    15933.0  6225.974895  333318.188891  0.0   80.0  294.0  711.0   \n",
       "\n",
       "                 max  \n",
       "calories  30111218.0  \n",
       "protein     236489.0  \n",
       "fat        1722763.0  \n",
       "sodium    27675110.0  "
      ]
     },
     "execution_count": 12,
     "metadata": {},
     "output_type": "execute_result"
    }
   ],
   "source": [
    "df_clean.loc[:, nutrition_list].describe().T"
   ]
  },
  {
   "cell_type": "markdown",
   "metadata": {},
   "source": [
    "**Observations:** Roughly 20% of the data on nutrition contain missing values. The minimum value for all nutrition information is 0. To handle missing values, I will set them equal to the unique value of -1. I can decide how to handle them during the modeling phase."
   ]
  },
  {
   "cell_type": "code",
   "execution_count": 13,
   "metadata": {},
   "outputs": [],
   "source": [
    "for column in nutrition_list:\n",
    "    df_clean[column].fillna(value=-1, inplace=True)"
   ]
  },
  {
   "cell_type": "code",
   "execution_count": 14,
   "metadata": {},
   "outputs": [
    {
     "data": {
      "text/html": [
       "<div>\n",
       "<style scoped>\n",
       "    .dataframe tbody tr th:only-of-type {\n",
       "        vertical-align: middle;\n",
       "    }\n",
       "\n",
       "    .dataframe tbody tr th {\n",
       "        vertical-align: top;\n",
       "    }\n",
       "\n",
       "    .dataframe thead th {\n",
       "        text-align: right;\n",
       "    }\n",
       "</style>\n",
       "<table border=\"1\" class=\"dataframe\">\n",
       "  <thead>\n",
       "    <tr style=\"text-align: right;\">\n",
       "      <th></th>\n",
       "      <th>count</th>\n",
       "      <th>mean</th>\n",
       "      <th>std</th>\n",
       "      <th>min</th>\n",
       "      <th>25%</th>\n",
       "      <th>50%</th>\n",
       "      <th>75%</th>\n",
       "      <th>max</th>\n",
       "    </tr>\n",
       "  </thead>\n",
       "  <tbody>\n",
       "    <tr>\n",
       "      <td>calories</td>\n",
       "      <td>20052.0</td>\n",
       "      <td>5024.547127</td>\n",
       "      <td>320079.870055</td>\n",
       "      <td>-1.0</td>\n",
       "      <td>68.00</td>\n",
       "      <td>257.0</td>\n",
       "      <td>502.0</td>\n",
       "      <td>30111218.0</td>\n",
       "    </tr>\n",
       "    <tr>\n",
       "      <td>protein</td>\n",
       "      <td>20052.0</td>\n",
       "      <td>79.163824</td>\n",
       "      <td>3418.840071</td>\n",
       "      <td>-1.0</td>\n",
       "      <td>0.75</td>\n",
       "      <td>5.0</td>\n",
       "      <td>19.0</td>\n",
       "      <td>236489.0</td>\n",
       "    </tr>\n",
       "    <tr>\n",
       "      <td>fat</td>\n",
       "      <td>20052.0</td>\n",
       "      <td>274.307600</td>\n",
       "      <td>18198.230525</td>\n",
       "      <td>-1.0</td>\n",
       "      <td>0.00</td>\n",
       "      <td>12.0</td>\n",
       "      <td>28.0</td>\n",
       "      <td>1722763.0</td>\n",
       "    </tr>\n",
       "    <tr>\n",
       "      <td>sodium</td>\n",
       "      <td>20052.0</td>\n",
       "      <td>4946.855127</td>\n",
       "      <td>297126.722129</td>\n",
       "      <td>-1.0</td>\n",
       "      <td>6.00</td>\n",
       "      <td>164.0</td>\n",
       "      <td>571.0</td>\n",
       "      <td>27675110.0</td>\n",
       "    </tr>\n",
       "  </tbody>\n",
       "</table>\n",
       "</div>"
      ],
      "text/plain": [
       "            count         mean            std  min    25%    50%    75%  \\\n",
       "calories  20052.0  5024.547127  320079.870055 -1.0  68.00  257.0  502.0   \n",
       "protein   20052.0    79.163824    3418.840071 -1.0   0.75    5.0   19.0   \n",
       "fat       20052.0   274.307600   18198.230525 -1.0   0.00   12.0   28.0   \n",
       "sodium    20052.0  4946.855127  297126.722129 -1.0   6.00  164.0  571.0   \n",
       "\n",
       "                 max  \n",
       "calories  30111218.0  \n",
       "protein     236489.0  \n",
       "fat        1722763.0  \n",
       "sodium    27675110.0  "
      ]
     },
     "execution_count": 14,
     "metadata": {},
     "output_type": "execute_result"
    }
   ],
   "source": [
    "df_clean.loc[:, nutrition_list].describe().T"
   ]
  },
  {
   "cell_type": "code",
   "execution_count": 15,
   "metadata": {},
   "outputs": [
    {
     "name": "stdout",
     "output_type": "stream",
     "text": [
      "Variables with missing values and their fraction of missing values:\n",
      "Series([], dtype: float64)\n"
     ]
    }
   ],
   "source": [
    "hp.find_na_columns(df_clean.loc[:, nutrition_list], display_fractions=True)"
   ]
  },
  {
   "cell_type": "markdown",
   "metadata": {},
   "source": [
    "#### Keywords"
   ]
  },
  {
   "cell_type": "code",
   "execution_count": 16,
   "metadata": {},
   "outputs": [
    {
     "name": "stdout",
     "output_type": "stream",
     "text": [
      "Variables with missing values and their fraction of missing values:\n",
      "Series([], dtype: float64)\n"
     ]
    }
   ],
   "source": [
    "hp.find_na_columns(df_clean.loc[:, keyword_list], display_fractions=True)"
   ]
  },
  {
   "cell_type": "markdown",
   "metadata": {},
   "source": [
    "**Observations:** The are no missing values for the keywords.\n",
    "\n",
    "#### Remaining Columns"
   ]
  },
  {
   "cell_type": "code",
   "execution_count": 17,
   "metadata": {},
   "outputs": [
    {
     "name": "stdout",
     "output_type": "stream",
     "text": [
      "Variables with missing values and their fraction of missing values:\n",
      "Series([], dtype: float64)\n"
     ]
    }
   ],
   "source": [
    "hp.find_na_columns(df_clean.loc[:, remaining_columns], display_fractions=True)"
   ]
  },
  {
   "cell_type": "markdown",
   "metadata": {},
   "source": [
    "**Observations:** There are no missing values for the remaining columns.\n",
    "## Save Dataset\n",
    "Save cleaned dataset to a SQL database."
   ]
  },
  {
   "cell_type": "code",
   "execution_count": 18,
   "metadata": {},
   "outputs": [],
   "source": [
    "# Create the database if it doesn't exist\n",
    "db_url = f\"postgresql+psycopg2://{usr}:{pwd}@{url}:{port}/{db}\"\n",
    "if database_exists(db_url):\n",
    "    pass\n",
    "else:\n",
    "    create_database(db_url)"
   ]
  },
  {
   "cell_type": "code",
   "execution_count": 19,
   "metadata": {},
   "outputs": [],
   "source": [
    "engine = create_engine(f\"postgresql+psycopg2://{usr}:{pwd}@{url}:{port}/{db}\")"
   ]
  },
  {
   "cell_type": "code",
   "execution_count": 20,
   "metadata": {},
   "outputs": [],
   "source": [
    "df_clean.to_sql(name=table, con=engine, index=False, if_exists='replace')"
   ]
  },
  {
   "cell_type": "code",
   "execution_count": 21,
   "metadata": {},
   "outputs": [],
   "source": [
    "engine.dispose()"
   ]
  }
 ],
 "metadata": {
  "kernelspec": {
   "display_name": "Python 3",
   "language": "python",
   "name": "python3"
  },
  "language_info": {
   "codemirror_mode": {
    "name": "ipython",
    "version": 3
   },
   "file_extension": ".py",
   "mimetype": "text/x-python",
   "name": "python",
   "nbconvert_exporter": "python",
   "pygments_lexer": "ipython3",
   "version": "3.6.7"
  }
 },
 "nbformat": 4,
 "nbformat_minor": 2
}
