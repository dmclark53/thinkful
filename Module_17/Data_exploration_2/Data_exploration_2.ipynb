{
 "cells": [
  {
   "cell_type": "markdown",
   "metadata": {},
   "source": [
    "# Data exploration 2"
   ]
  },
  {
   "cell_type": "code",
   "execution_count": 1,
   "metadata": {},
   "outputs": [],
   "source": [
    "import matplotlib.pyplot as plt\n",
    "import numpy as np\n",
    "import pandas as pd\n",
    "import scipy.stats as stats\n",
    "from scipy.stats.mstats import winsorize\n",
    "import seaborn as sns\n",
    "from sqlalchemy import create_engine\n",
    "\n",
    "from config import usr, pwd, url, port, db\n",
    "\n",
    "%matplotlib inline"
   ]
  },
  {
   "cell_type": "code",
   "execution_count": 2,
   "metadata": {},
   "outputs": [],
   "source": [
    "engine = create_engine(f\"postgresql+psycopg2://{usr}:{pwd}@{url}:{port}/{db}\")"
   ]
  },
  {
   "cell_type": "code",
   "execution_count": 3,
   "metadata": {},
   "outputs": [],
   "source": [
    "query = f'''\n",
    "SELECT\n",
    "    *\n",
    "FROM\n",
    "    {db};\n",
    "'''"
   ]
  },
  {
   "cell_type": "code",
   "execution_count": 4,
   "metadata": {},
   "outputs": [],
   "source": [
    "df = pd.read_sql_query(query, con=engine)"
   ]
  },
  {
   "cell_type": "code",
   "execution_count": 5,
   "metadata": {},
   "outputs": [
    {
     "name": "stdout",
     "output_type": "stream",
     "text": [
      "<class 'pandas.core.frame.DataFrame'>\n",
      "RangeIndex: 1000 entries, 0 to 999\n",
      "Data columns (total 8 columns):\n",
      "gender                         1000 non-null object\n",
      "race/ethnicity                 1000 non-null object\n",
      "parental level of education    1000 non-null object\n",
      "lunch                          1000 non-null object\n",
      "test preparation course        1000 non-null object\n",
      "math score                     1000 non-null int64\n",
      "reading score                  1000 non-null int64\n",
      "writing score                  1000 non-null int64\n",
      "dtypes: int64(3), object(5)\n",
      "memory usage: 62.6+ KB\n"
     ]
    }
   ],
   "source": [
    "df.info()"
   ]
  },
  {
   "cell_type": "markdown",
   "metadata": {},
   "source": [
    "## Data exploration\n",
    "Let's look at some descriptive statistics of this dataset as well as the unique values for the categorical columns."
   ]
  },
  {
   "cell_type": "code",
   "execution_count": 6,
   "metadata": {},
   "outputs": [
    {
     "data": {
      "text/html": [
       "<div>\n",
       "<style scoped>\n",
       "    .dataframe tbody tr th:only-of-type {\n",
       "        vertical-align: middle;\n",
       "    }\n",
       "\n",
       "    .dataframe tbody tr th {\n",
       "        vertical-align: top;\n",
       "    }\n",
       "\n",
       "    .dataframe thead th {\n",
       "        text-align: right;\n",
       "    }\n",
       "</style>\n",
       "<table border=\"1\" class=\"dataframe\">\n",
       "  <thead>\n",
       "    <tr style=\"text-align: right;\">\n",
       "      <th></th>\n",
       "      <th>count</th>\n",
       "      <th>unique</th>\n",
       "      <th>top</th>\n",
       "      <th>freq</th>\n",
       "      <th>mean</th>\n",
       "      <th>std</th>\n",
       "      <th>min</th>\n",
       "      <th>25%</th>\n",
       "      <th>50%</th>\n",
       "      <th>75%</th>\n",
       "      <th>max</th>\n",
       "    </tr>\n",
       "  </thead>\n",
       "  <tbody>\n",
       "    <tr>\n",
       "      <th>gender</th>\n",
       "      <td>1000</td>\n",
       "      <td>2</td>\n",
       "      <td>female</td>\n",
       "      <td>518</td>\n",
       "      <td>NaN</td>\n",
       "      <td>NaN</td>\n",
       "      <td>NaN</td>\n",
       "      <td>NaN</td>\n",
       "      <td>NaN</td>\n",
       "      <td>NaN</td>\n",
       "      <td>NaN</td>\n",
       "    </tr>\n",
       "    <tr>\n",
       "      <th>race/ethnicity</th>\n",
       "      <td>1000</td>\n",
       "      <td>5</td>\n",
       "      <td>group C</td>\n",
       "      <td>319</td>\n",
       "      <td>NaN</td>\n",
       "      <td>NaN</td>\n",
       "      <td>NaN</td>\n",
       "      <td>NaN</td>\n",
       "      <td>NaN</td>\n",
       "      <td>NaN</td>\n",
       "      <td>NaN</td>\n",
       "    </tr>\n",
       "    <tr>\n",
       "      <th>parental level of education</th>\n",
       "      <td>1000</td>\n",
       "      <td>6</td>\n",
       "      <td>some college</td>\n",
       "      <td>226</td>\n",
       "      <td>NaN</td>\n",
       "      <td>NaN</td>\n",
       "      <td>NaN</td>\n",
       "      <td>NaN</td>\n",
       "      <td>NaN</td>\n",
       "      <td>NaN</td>\n",
       "      <td>NaN</td>\n",
       "    </tr>\n",
       "    <tr>\n",
       "      <th>lunch</th>\n",
       "      <td>1000</td>\n",
       "      <td>2</td>\n",
       "      <td>standard</td>\n",
       "      <td>645</td>\n",
       "      <td>NaN</td>\n",
       "      <td>NaN</td>\n",
       "      <td>NaN</td>\n",
       "      <td>NaN</td>\n",
       "      <td>NaN</td>\n",
       "      <td>NaN</td>\n",
       "      <td>NaN</td>\n",
       "    </tr>\n",
       "    <tr>\n",
       "      <th>test preparation course</th>\n",
       "      <td>1000</td>\n",
       "      <td>2</td>\n",
       "      <td>none</td>\n",
       "      <td>642</td>\n",
       "      <td>NaN</td>\n",
       "      <td>NaN</td>\n",
       "      <td>NaN</td>\n",
       "      <td>NaN</td>\n",
       "      <td>NaN</td>\n",
       "      <td>NaN</td>\n",
       "      <td>NaN</td>\n",
       "    </tr>\n",
       "    <tr>\n",
       "      <th>math score</th>\n",
       "      <td>1000</td>\n",
       "      <td>NaN</td>\n",
       "      <td>NaN</td>\n",
       "      <td>NaN</td>\n",
       "      <td>66.089</td>\n",
       "      <td>15.1631</td>\n",
       "      <td>0</td>\n",
       "      <td>57</td>\n",
       "      <td>66</td>\n",
       "      <td>77</td>\n",
       "      <td>100</td>\n",
       "    </tr>\n",
       "    <tr>\n",
       "      <th>reading score</th>\n",
       "      <td>1000</td>\n",
       "      <td>NaN</td>\n",
       "      <td>NaN</td>\n",
       "      <td>NaN</td>\n",
       "      <td>69.169</td>\n",
       "      <td>14.6002</td>\n",
       "      <td>17</td>\n",
       "      <td>59</td>\n",
       "      <td>70</td>\n",
       "      <td>79</td>\n",
       "      <td>100</td>\n",
       "    </tr>\n",
       "    <tr>\n",
       "      <th>writing score</th>\n",
       "      <td>1000</td>\n",
       "      <td>NaN</td>\n",
       "      <td>NaN</td>\n",
       "      <td>NaN</td>\n",
       "      <td>68.054</td>\n",
       "      <td>15.1957</td>\n",
       "      <td>10</td>\n",
       "      <td>57.75</td>\n",
       "      <td>69</td>\n",
       "      <td>79</td>\n",
       "      <td>100</td>\n",
       "    </tr>\n",
       "  </tbody>\n",
       "</table>\n",
       "</div>"
      ],
      "text/plain": [
       "                            count unique           top freq    mean      std  \\\n",
       "gender                       1000      2        female  518     NaN      NaN   \n",
       "race/ethnicity               1000      5       group C  319     NaN      NaN   \n",
       "parental level of education  1000      6  some college  226     NaN      NaN   \n",
       "lunch                        1000      2      standard  645     NaN      NaN   \n",
       "test preparation course      1000      2          none  642     NaN      NaN   \n",
       "math score                   1000    NaN           NaN  NaN  66.089  15.1631   \n",
       "reading score                1000    NaN           NaN  NaN  69.169  14.6002   \n",
       "writing score                1000    NaN           NaN  NaN  68.054  15.1957   \n",
       "\n",
       "                             min    25%  50%  75%  max  \n",
       "gender                       NaN    NaN  NaN  NaN  NaN  \n",
       "race/ethnicity               NaN    NaN  NaN  NaN  NaN  \n",
       "parental level of education  NaN    NaN  NaN  NaN  NaN  \n",
       "lunch                        NaN    NaN  NaN  NaN  NaN  \n",
       "test preparation course      NaN    NaN  NaN  NaN  NaN  \n",
       "math score                     0     57   66   77  100  \n",
       "reading score                 17     59   70   79  100  \n",
       "writing score                 10  57.75   69   79  100  "
      ]
     },
     "execution_count": 6,
     "metadata": {},
     "output_type": "execute_result"
    }
   ],
   "source": [
    "df.describe(include='all').T"
   ]
  },
  {
   "cell_type": "code",
   "execution_count": 7,
   "metadata": {},
   "outputs": [
    {
     "name": "stdout",
     "output_type": "stream",
     "text": [
      "gender: ['female' 'male']\n",
      "race/ethnicity: ['group A' 'group B' 'group C' 'group D' 'group E']\n",
      "parental level of education: [\"associate's degree\" \"bachelor's degree\" 'high school' \"master's degree\"\n",
      " 'some college' 'some high school']\n",
      "lunch: ['free/reduced' 'standard']\n",
      "test preparation course: ['completed' 'none']\n"
     ]
    }
   ],
   "source": [
    "columns = ['gender', 'race/ethnicity', 'parental level of education', 'lunch', 'test preparation course']\n",
    "for column in columns:\n",
    "    print(f'{column}: {np.unique(df[column])}')"
   ]
  },
  {
   "cell_type": "markdown",
   "metadata": {},
   "source": [
    "## Outliers\n",
    "Let's make box plots of the test scores to see if there are any outliers."
   ]
  },
  {
   "cell_type": "code",
   "execution_count": 8,
   "metadata": {},
   "outputs": [],
   "source": [
    "def stack_dataframe(df, column_list):\n",
    "    df_stacked = df.loc[:, column_list].stack().copy()\n",
    "    df_stacked.index = df_stacked.index.droplevel()\n",
    "    df_stacked = df_stacked.reset_index().copy()\n",
    "    df_stacked = df_stacked.rename(columns={'index': 'label', 0: 'value'})\n",
    "    df_stacked = df_stacked.sort_values(by='label')\n",
    "    df_stacked.index = np.arange(len(df_stacked))\n",
    "    return df_stacked"
   ]
  },
  {
   "cell_type": "code",
   "execution_count": 9,
   "metadata": {},
   "outputs": [],
   "source": [
    "def look_for_outliers(df, column_list):\n",
    "    \n",
    "    if len(column_list) > 1:\n",
    "        df_stacked = stack_dataframe(df, column_list)\n",
    "        sns.catplot(x='label', y='value', data=df_stacked, height=6, aspect=12/6, kind='box')\n",
    "        plt.show()\n",
    "    else:\n",
    "        sns.catplot(y=column_list[0], data=df_clean, height=6, aspect=12/6, kind='box')\n",
    "        plt.show()"
   ]
  },
  {
   "cell_type": "code",
   "execution_count": 10,
   "metadata": {},
   "outputs": [
    {
     "data": {
      "image/png": "[encoded data removed]",
      "text/plain": [
       "<Figure size 864x432 with 1 Axes>"
      ]
     },
     "metadata": {
      "needs_background": "light"
     },
     "output_type": "display_data"
    }
   ],
   "source": [
    "columns = ['math score', 'reading score', 'writing score']\n",
    "look_for_outliers(df, columns)"
   ]
  },
  {
   "cell_type": "markdown",
   "metadata": {},
   "source": [
    "I will use the Tukey method to remove the outliers seen at the lower end."
   ]
  },
  {
   "cell_type": "code",
   "execution_count": 11,
   "metadata": {},
   "outputs": [],
   "source": [
    "thresholds = {\n",
    "    'tukey': 1.5\n",
    "}"
   ]
  },
  {
   "cell_type": "code",
   "execution_count": 12,
   "metadata": {},
   "outputs": [],
   "source": [
    "def apply_tukey(df, column, thresh=1.5):\n",
    "    q75, q25 = np.percentile(df[column], [75, 25])\n",
    "    iqr = q75 - q25\n",
    "    min_value = q25 - thresh*iqr\n",
    "    max_value = q75 + thresh*iqr\n",
    "    df[f'tukey_{column}'] = df[column].apply(lambda x: np.min([x, max_value]))\n",
    "    df[f'tukey_{column}'] = df[f'tukey_{column}'].apply(lambda x: np.max([x, min_value]))\n",
    "    return df"
   ]
  },
  {
   "cell_type": "code",
   "execution_count": 13,
   "metadata": {},
   "outputs": [],
   "source": [
    "def correct_outliers(df, column_list):\n",
    "    for column in column_list:\n",
    "        # Tukey\n",
    "        df = apply_tukey(df, column, thresh=thresholds['tukey'])\n",
    "        \n",
    "    return df"
   ]
  },
  {
   "cell_type": "code",
   "execution_count": 14,
   "metadata": {},
   "outputs": [],
   "source": [
    "columns = ['math score', 'reading score', 'writing score']\n",
    "df = correct_outliers(df, columns)"
   ]
  },
  {
   "cell_type": "code",
   "execution_count": 15,
   "metadata": {},
   "outputs": [
    {
     "name": "stdout",
     "output_type": "stream",
     "text": [
      "<class 'pandas.core.frame.DataFrame'>\n",
      "RangeIndex: 1000 entries, 0 to 999\n",
      "Data columns (total 11 columns):\n",
      "gender                         1000 non-null object\n",
      "race/ethnicity                 1000 non-null object\n",
      "parental level of education    1000 non-null object\n",
      "lunch                          1000 non-null object\n",
      "test preparation course        1000 non-null object\n",
      "math score                     1000 non-null int64\n",
      "reading score                  1000 non-null int64\n",
      "writing score                  1000 non-null int64\n",
      "tukey_math score               1000 non-null float64\n",
      "tukey_reading score            1000 non-null float64\n",
      "tukey_writing score            1000 non-null float64\n",
      "dtypes: float64(3), int64(3), object(5)\n",
      "memory usage: 86.0+ KB\n"
     ]
    }
   ],
   "source": [
    "df.info()"
   ]
  },
  {
   "cell_type": "code",
   "execution_count": 16,
   "metadata": {},
   "outputs": [
    {
     "data": {
      "image/png": "[encoded data removed]",
      "text/plain": [
       "<Figure size 864x432 with 1 Axes>"
      ]
     },
     "metadata": {
      "needs_background": "light"
     },
     "output_type": "display_data"
    }
   ],
   "source": [
    "columns = ['tukey_math score', 'tukey_reading score', 'tukey_writing score']\n",
    "look_for_outliers(df, columns)"
   ]
  },
  {
   "cell_type": "markdown",
   "metadata": {},
   "source": [
    "## Demographic versus test score"
   ]
  },
  {
   "cell_type": "code",
   "execution_count": 17,
   "metadata": {
    "scrolled": false
   },
   "outputs": [
    {
     "data": {
      "image/png": "[encoded data removed]",
      "text/plain": [
       "<Figure size 1008x576 with 9 Axes>"
      ]
     },
     "metadata": {
      "needs_background": "light"
     },
     "output_type": "display_data"
    }
   ],
   "source": [
    "scores = ['tukey_math score', 'tukey_reading score', 'tukey_writing score']\n",
    "categories = ['gender', 'race/ethnicity', 'parental level of education']\n",
    "\n",
    "f, axes = plt.subplots(3, 3, figsize=(14, 8))\n",
    "\n",
    "for i in range(len(categories)):\n",
    "    for j in range(len(scores)):\n",
    "        axes[i, j] = sns.barplot(x=scores[j], y=categories[i], data=df, ax=axes[i, j])\n",
    "        axes[i, j].set_xlim([0, 100])\n",
    "        if i < 2:\n",
    "            axes[i, j].set_xlabel('')\n",
    "            axes[i, j].set_xticklabels([])\n",
    "        if j > 0:\n",
    "            axes[i, j].set_ylabel('')\n",
    "            axes[i, j].set_yticklabels([])\n",
    "\n",
    "plt.tight_layout()\n",
    "plt.show()"
   ]
  },
  {
   "cell_type": "markdown",
   "metadata": {},
   "source": [
    "**Observations:**\n",
    "* Gender:\n",
    "    * Males performed better in math, while females performed better in reading and writing.\n",
    "* Ethnic Group:\n",
    "    * Group A performed worst across the board.\n",
    "    * Group E performed best across the board.\n",
    "* Education Level:\n",
    "    * Those with a master degree performed best.\n",
    "    * Those with only a high school education performed worst."
   ]
  },
  {
   "cell_type": "markdown",
   "metadata": {},
   "source": [
    "## Lunch type versus test score"
   ]
  },
  {
   "cell_type": "code",
   "execution_count": 18,
   "metadata": {},
   "outputs": [
    {
     "data": {
      "image/png": "[encoded data removed]",
      "text/plain": [
       "<Figure size 1008x288 with 3 Axes>"
      ]
     },
     "metadata": {
      "needs_background": "light"
     },
     "output_type": "display_data"
    }
   ],
   "source": [
    "scores = ['tukey_math score', 'tukey_reading score', 'tukey_writing score']\n",
    "score_labels = [x.split('_')[-1].title() for x in scores]\n",
    "categories = ['lunch']\n",
    "\n",
    "f, axes = plt.subplots(1, 3, figsize=(14, 4))\n",
    "\n",
    "for i, score_type in enumerate(scores):\n",
    "    for lunch_type in df['lunch'].unique():\n",
    "        sns.distplot(df.loc[df['lunch'] == lunch_type, score_type], ax=axes[i], kde=False)\n",
    "    axes[i].legend(df['lunch'].unique())\n",
    "    axes[i].set_xlabel(score_labels[i])\n",
    "    axes[i].set_ylim([0, 130])\n",
    "    axes[i].set_title(f'Lunch Type vs. {score_labels[i]}')\n",
    "        \n",
    "plt.show()"
   ]
  },
  {
   "cell_type": "code",
   "execution_count": 19,
   "metadata": {},
   "outputs": [],
   "source": [
    "columns = ['tukey_math score', 'tukey_reading score', 'tukey_writing score', 'lunch']\n",
    "temp = [x.split('_')[-1] for x in columns]\n",
    "new_columns = [f'mean {x}' for x in temp]\n",
    "\n",
    "old_to_new = {}\n",
    "for i in range(len(new_columns)):\n",
    "    old_to_new[columns[i]] = new_columns[i]\n",
    "\n",
    "df_lunch_scores = df.loc[:, columns].groupby('lunch').mean()\n",
    "df_lunch_scores.rename(columns=old_to_new, inplace=True)"
   ]
  },
  {
   "cell_type": "code",
   "execution_count": 20,
   "metadata": {},
   "outputs": [
    {
     "data": {
      "text/html": [
       "<div>\n",
       "<style scoped>\n",
       "    .dataframe tbody tr th:only-of-type {\n",
       "        vertical-align: middle;\n",
       "    }\n",
       "\n",
       "    .dataframe tbody tr th {\n",
       "        vertical-align: top;\n",
       "    }\n",
       "\n",
       "    .dataframe thead th {\n",
       "        text-align: right;\n",
       "    }\n",
       "</style>\n",
       "<table border=\"1\" class=\"dataframe\">\n",
       "  <thead>\n",
       "    <tr style=\"text-align: right;\">\n",
       "      <th></th>\n",
       "      <th>mean math score</th>\n",
       "      <th>mean reading score</th>\n",
       "      <th>mean writing score</th>\n",
       "    </tr>\n",
       "    <tr>\n",
       "      <th>lunch</th>\n",
       "      <th></th>\n",
       "      <th></th>\n",
       "      <th></th>\n",
       "    </tr>\n",
       "  </thead>\n",
       "  <tbody>\n",
       "    <tr>\n",
       "      <th>free/reduced</th>\n",
       "      <td>59.112676</td>\n",
       "      <td>64.735211</td>\n",
       "      <td>63.125352</td>\n",
       "    </tr>\n",
       "    <tr>\n",
       "      <th>standard</th>\n",
       "      <td>70.046512</td>\n",
       "      <td>71.658915</td>\n",
       "      <td>70.829264</td>\n",
       "    </tr>\n",
       "  </tbody>\n",
       "</table>\n",
       "</div>"
      ],
      "text/plain": [
       "              mean math score  mean reading score  mean writing score\n",
       "lunch                                                                \n",
       "free/reduced        59.112676           64.735211           63.125352\n",
       "standard            70.046512           71.658915           70.829264"
      ]
     },
     "execution_count": 20,
     "metadata": {},
     "output_type": "execute_result"
    }
   ],
   "source": [
    "df_lunch_scores"
   ]
  },
  {
   "cell_type": "code",
   "execution_count": 21,
   "metadata": {},
   "outputs": [
    {
     "name": "stdout",
     "output_type": "stream",
     "text": [
      "Math Score\n",
      "t-statistic = 11.833770286241137, p-values = 2.5007581293356357e-30\n",
      "Reading Score\n",
      "t-statistic = 7.4163849841542175, p-values = 2.5677358016550227e-13\n",
      "Writing Score\n",
      "t-statistic = 7.9751217481785615, p-values = 4.150164241837491e-15\n"
     ]
    }
   ],
   "source": [
    "for score_type in scores:\n",
    "    standard_lunch = df.loc[df['lunch'] == 'standard', score_type].values\n",
    "    free_lunch = df.loc[df['lunch'] == 'free/reduced', score_type].values\n",
    "    tstat, pval = stats.ttest_ind(standard_lunch, free_lunch)\n",
    "    print(f\"{score_type.split('_')[-1].title()}\")\n",
    "    print(f't-statistic = {tstat}, p-values = {pval}')"
   ]
  },
  {
   "cell_type": "markdown",
   "metadata": {},
   "source": [
    "**Observations:** Those students who received a free or reduced lunch did not perform as well on the tests. They could come from less well off families and did not have the money to take the test preparation course."
   ]
  },
  {
   "cell_type": "markdown",
   "metadata": {},
   "source": [
    "## Test preparation course versus score"
   ]
  },
  {
   "cell_type": "code",
   "execution_count": 22,
   "metadata": {},
   "outputs": [
    {
     "data": {
      "image/png": "[encoded data removed]",
      "text/plain": [
       "<Figure size 1008x288 with 3 Axes>"
      ]
     },
     "metadata": {
      "needs_background": "light"
     },
     "output_type": "display_data"
    }
   ],
   "source": [
    "scores = ['tukey_math score', 'tukey_reading score', 'tukey_writing score']\n",
    "score_labels = [x.split('_')[-1].title() for x in scores]\n",
    "categories = ['test preparation course']\n",
    "\n",
    "f, axes = plt.subplots(1, 3, figsize=(14, 4))\n",
    "\n",
    "for i, score_type in enumerate(scores):\n",
    "    for lunch_type in df['test preparation course'].unique():\n",
    "        sns.distplot(df.loc[df['test preparation course'] == lunch_type, score_type], ax=axes[i], kde=False)\n",
    "    axes[i].legend(df['test preparation course'].unique())\n",
    "    axes[i].set_xlabel(score_labels[i])\n",
    "    axes[i].set_ylim([0, 130])\n",
    "    axes[i].set_title(f'Prep Course vs. {score_labels[i]}')\n",
    "        \n",
    "plt.show()"
   ]
  },
  {
   "cell_type": "code",
   "execution_count": 23,
   "metadata": {},
   "outputs": [
    {
     "name": "stdout",
     "output_type": "stream",
     "text": [
      "Math Score\n",
      "t-statistic = -5.692029799391047, p-values = 1.649724744686686e-08\n",
      "Reading Score\n",
      "t-statistic = -7.870411917143238, p-values = 9.167744509676495e-15\n",
      "Writing Score\n",
      "t-statistic = -10.432842972896616, p-values = 2.9443472863795566e-24\n"
     ]
    }
   ],
   "source": [
    "for score_type in scores:\n",
    "    no_course = df.loc[df['test preparation course'] == 'none', score_type].values\n",
    "    completed_course = df.loc[df['test preparation course'] == 'completed', score_type].values\n",
    "    tstat, pval = stats.ttest_ind(no_course, completed_course)\n",
    "    print(f\"{score_type.split('_')[-1].title()}\")\n",
    "    print(f't-statistic = {tstat}, p-values = {pval}')"
   ]
  },
  {
   "cell_type": "markdown",
   "metadata": {},
   "source": [
    "**Observations:** Those students who took the test preparation courses performed better on the test. This is logical since the course helped them learn the material they needed to pass the test."
   ]
  },
  {
   "cell_type": "code",
   "execution_count": 24,
   "metadata": {},
   "outputs": [
    {
     "data": {
      "text/html": [
       "<div>\n",
       "<style scoped>\n",
       "    .dataframe tbody tr th:only-of-type {\n",
       "        vertical-align: middle;\n",
       "    }\n",
       "\n",
       "    .dataframe tbody tr th {\n",
       "        vertical-align: top;\n",
       "    }\n",
       "\n",
       "    .dataframe thead th {\n",
       "        text-align: right;\n",
       "    }\n",
       "</style>\n",
       "<table border=\"1\" class=\"dataframe\">\n",
       "  <thead>\n",
       "    <tr style=\"text-align: right;\">\n",
       "      <th></th>\n",
       "      <th>tukey_math score</th>\n",
       "      <th>tukey_reading score</th>\n",
       "      <th>tukey_writing score</th>\n",
       "    </tr>\n",
       "  </thead>\n",
       "  <tbody>\n",
       "    <tr>\n",
       "      <th>tukey_math score</th>\n",
       "      <td>1.000000</td>\n",
       "      <td>0.815727</td>\n",
       "      <td>0.799954</td>\n",
       "    </tr>\n",
       "    <tr>\n",
       "      <th>tukey_reading score</th>\n",
       "      <td>0.815727</td>\n",
       "      <td>1.000000</td>\n",
       "      <td>0.954040</td>\n",
       "    </tr>\n",
       "    <tr>\n",
       "      <th>tukey_writing score</th>\n",
       "      <td>0.799954</td>\n",
       "      <td>0.954040</td>\n",
       "      <td>1.000000</td>\n",
       "    </tr>\n",
       "  </tbody>\n",
       "</table>\n",
       "</div>"
      ],
      "text/plain": [
       "                     tukey_math score  tukey_reading score  \\\n",
       "tukey_math score             1.000000             0.815727   \n",
       "tukey_reading score          0.815727             1.000000   \n",
       "tukey_writing score          0.799954             0.954040   \n",
       "\n",
       "                     tukey_writing score  \n",
       "tukey_math score                0.799954  \n",
       "tukey_reading score             0.954040  \n",
       "tukey_writing score             1.000000  "
      ]
     },
     "execution_count": 24,
     "metadata": {},
     "output_type": "execute_result"
    }
   ],
   "source": [
    "df.loc[:, scores].corr()"
   ]
  },
  {
   "cell_type": "markdown",
   "metadata": {},
   "source": [
    "**Observations:** The reading and writing scores have the highest correlation."
   ]
  },
  {
   "cell_type": "code",
   "execution_count": null,
   "metadata": {},
   "outputs": [],
   "source": []
  }
 ],
 "metadata": {
  "kernelspec": {
   "display_name": "Python 3",
   "language": "python",
   "name": "python3"
  },
  "language_info": {
   "codemirror_mode": {
    "name": "ipython",
    "version": 3
   },
   "file_extension": ".py",
   "mimetype": "text/x-python",
   "name": "python",
   "nbconvert_exporter": "python",
   "pygments_lexer": "ipython3",
   "version": "3.6.8"
  }
 },
 "nbformat": 4,
 "nbformat_minor": 2
}
