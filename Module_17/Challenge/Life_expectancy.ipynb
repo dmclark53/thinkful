{
 "cells": [
  {
   "cell_type": "markdown",
   "metadata": {},
   "source": [
    "# Factors That Affect Life Expectancy"
   ]
  },
  {
   "cell_type": "code",
   "execution_count": 1,
   "metadata": {},
   "outputs": [],
   "source": [
    "import matplotlib.pyplot as plt\n",
    "import numpy as np\n",
    "import pandas as pd\n",
    "import scipy.stats as stats\n",
    "from scipy.stats import boxcox\n",
    "from scipy.stats import jarque_bera\n",
    "from scipy.stats import normaltest\n",
    "from scipy.stats.mstats import winsorize\n",
    "from sklearn.preprocessing import StandardScaler\n",
    "from sklearn.decomposition import PCA\n",
    "import seaborn as sns\n",
    "from sklearn.preprocessing import normalize\n",
    "from sklearn.preprocessing import scale\n",
    "from sqlalchemy import create_engine\n",
    "\n",
    "from config import usr, pwd, url, port, db, table\n",
    "\n",
    "%matplotlib inline"
   ]
  },
  {
   "cell_type": "code",
   "execution_count": 2,
   "metadata": {},
   "outputs": [],
   "source": [
    "engine = create_engine(f\"postgresql+psycopg2://{usr}:{pwd}@{url}:{port}/{db}\")"
   ]
  },
  {
   "cell_type": "code",
   "execution_count": 3,
   "metadata": {},
   "outputs": [],
   "source": [
    "query = f'''\n",
    "SELECT\n",
    "    *\n",
    "FROM\n",
    "    {table};\n",
    "'''"
   ]
  },
  {
   "cell_type": "code",
   "execution_count": 4,
   "metadata": {},
   "outputs": [],
   "source": [
    "df = pd.read_sql_query(query, con=engine)"
   ]
  },
  {
   "cell_type": "code",
   "execution_count": 5,
   "metadata": {},
   "outputs": [
    {
     "name": "stdout",
     "output_type": "stream",
     "text": [
      "<class 'pandas.core.frame.DataFrame'>\n",
      "RangeIndex: 2938 entries, 0 to 2937\n",
      "Data columns (total 22 columns):\n",
      "Country                            2938 non-null object\n",
      "Year                               2938 non-null int64\n",
      "Status                             2938 non-null object\n",
      "Life expectancy                    2928 non-null float64\n",
      "Adult Mortality                    2928 non-null float64\n",
      "infant deaths                      2938 non-null int64\n",
      "Alcohol                            2744 non-null float64\n",
      "percentage expenditure             2938 non-null float64\n",
      "Hepatitis B                        2385 non-null float64\n",
      "Measles                            2938 non-null int64\n",
      " BMI                               2904 non-null float64\n",
      "under-five deaths                  2938 non-null int64\n",
      "Polio                              2919 non-null float64\n",
      "Total expenditure                  2712 non-null float64\n",
      "Diphtheria                         2919 non-null float64\n",
      " HIV/AIDS                          2938 non-null float64\n",
      "GDP                                2490 non-null float64\n",
      "Population                         2286 non-null float64\n",
      " thinness  1-19 years              2904 non-null float64\n",
      " thinness 5-9 years                2904 non-null float64\n",
      "Income composition of resources    2771 non-null float64\n",
      "Schooling                          2775 non-null float64\n",
      "dtypes: float64(16), int64(4), object(2)\n",
      "memory usage: 505.0+ KB\n"
     ]
    }
   ],
   "source": [
    "df.info()"
   ]
  },
  {
   "cell_type": "markdown",
   "metadata": {},
   "source": [
    "**Plan:**\n",
    "Data Cleaning\n",
    "* What features are categorical?\n",
    "* What features are continuous?\n",
    "* Missing values.\n",
    "    * Interpolate?\n",
    "    * Remove?\n",
    "* Outliers.\n",
    "    * Correct?\n",
    "    * Transform?\n",
    "    \n",
    "Data Exploration\n",
    "* What features are normally distributed?\n",
    "* Transform data to make more normal?\n",
    "* Use Box-Cox transform?\n",
    "* Standardize variables.\n",
    "* What variables are correlated with eachother? By how much?\n",
    "* What variables are correlated with Life Expectancy?\n",
    "* Narrow feature space by including only variables that are good predictors of life expectancy\n",
    "\n",
    "Feature Engineering\n",
    "* Perform PCA on selected features\n",
    "    * Can Scikit-Learn be used to get eigenvalues?\n",
    "* Select strongest features to use for predicting Life Expectancy"
   ]
  },
  {
   "cell_type": "markdown",
   "metadata": {},
   "source": [
    "## Data Cleaning"
   ]
  },
  {
   "cell_type": "code",
   "execution_count": 6,
   "metadata": {},
   "outputs": [
    {
     "data": {
      "text/plain": [
       "2895"
      ]
     },
     "execution_count": 6,
     "metadata": {},
     "output_type": "execute_result"
    }
   ],
   "source": [
    "15*193"
   ]
  },
  {
   "cell_type": "code",
   "execution_count": 7,
   "metadata": {},
   "outputs": [
    {
     "data": {
      "text/plain": [
       "2007.5"
      ]
     },
     "execution_count": 7,
     "metadata": {},
     "output_type": "execute_result"
    }
   ],
   "source": [
    "np.mean([2000, 2015])"
   ]
  },
  {
   "cell_type": "code",
   "execution_count": 8,
   "metadata": {},
   "outputs": [
    {
     "data": {
      "text/html": [
       "<div>\n",
       "<style scoped>\n",
       "    .dataframe tbody tr th:only-of-type {\n",
       "        vertical-align: middle;\n",
       "    }\n",
       "\n",
       "    .dataframe tbody tr th {\n",
       "        vertical-align: top;\n",
       "    }\n",
       "\n",
       "    .dataframe thead th {\n",
       "        text-align: right;\n",
       "    }\n",
       "</style>\n",
       "<table border=\"1\" class=\"dataframe\">\n",
       "  <thead>\n",
       "    <tr style=\"text-align: right;\">\n",
       "      <th></th>\n",
       "      <th>count</th>\n",
       "      <th>unique</th>\n",
       "      <th>top</th>\n",
       "      <th>freq</th>\n",
       "      <th>mean</th>\n",
       "      <th>std</th>\n",
       "      <th>min</th>\n",
       "      <th>25%</th>\n",
       "      <th>50%</th>\n",
       "      <th>75%</th>\n",
       "      <th>max</th>\n",
       "    </tr>\n",
       "  </thead>\n",
       "  <tbody>\n",
       "    <tr>\n",
       "      <th>Country</th>\n",
       "      <td>2938</td>\n",
       "      <td>193</td>\n",
       "      <td>Somalia</td>\n",
       "      <td>16</td>\n",
       "      <td>NaN</td>\n",
       "      <td>NaN</td>\n",
       "      <td>NaN</td>\n",
       "      <td>NaN</td>\n",
       "      <td>NaN</td>\n",
       "      <td>NaN</td>\n",
       "      <td>NaN</td>\n",
       "    </tr>\n",
       "    <tr>\n",
       "      <th>Year</th>\n",
       "      <td>2938</td>\n",
       "      <td>NaN</td>\n",
       "      <td>NaN</td>\n",
       "      <td>NaN</td>\n",
       "      <td>2007.52</td>\n",
       "      <td>4.61384</td>\n",
       "      <td>2000</td>\n",
       "      <td>2004</td>\n",
       "      <td>2008</td>\n",
       "      <td>2012</td>\n",
       "      <td>2015</td>\n",
       "    </tr>\n",
       "    <tr>\n",
       "      <th>Status</th>\n",
       "      <td>2938</td>\n",
       "      <td>2</td>\n",
       "      <td>Developing</td>\n",
       "      <td>2426</td>\n",
       "      <td>NaN</td>\n",
       "      <td>NaN</td>\n",
       "      <td>NaN</td>\n",
       "      <td>NaN</td>\n",
       "      <td>NaN</td>\n",
       "      <td>NaN</td>\n",
       "      <td>NaN</td>\n",
       "    </tr>\n",
       "    <tr>\n",
       "      <th>Life expectancy</th>\n",
       "      <td>2928</td>\n",
       "      <td>NaN</td>\n",
       "      <td>NaN</td>\n",
       "      <td>NaN</td>\n",
       "      <td>69.2249</td>\n",
       "      <td>9.52387</td>\n",
       "      <td>36.3</td>\n",
       "      <td>63.1</td>\n",
       "      <td>72.1</td>\n",
       "      <td>75.7</td>\n",
       "      <td>89</td>\n",
       "    </tr>\n",
       "    <tr>\n",
       "      <th>Adult Mortality</th>\n",
       "      <td>2928</td>\n",
       "      <td>NaN</td>\n",
       "      <td>NaN</td>\n",
       "      <td>NaN</td>\n",
       "      <td>164.796</td>\n",
       "      <td>124.292</td>\n",
       "      <td>1</td>\n",
       "      <td>74</td>\n",
       "      <td>144</td>\n",
       "      <td>228</td>\n",
       "      <td>723</td>\n",
       "    </tr>\n",
       "    <tr>\n",
       "      <th>infant deaths</th>\n",
       "      <td>2938</td>\n",
       "      <td>NaN</td>\n",
       "      <td>NaN</td>\n",
       "      <td>NaN</td>\n",
       "      <td>30.3039</td>\n",
       "      <td>117.927</td>\n",
       "      <td>0</td>\n",
       "      <td>0</td>\n",
       "      <td>3</td>\n",
       "      <td>22</td>\n",
       "      <td>1800</td>\n",
       "    </tr>\n",
       "    <tr>\n",
       "      <th>Alcohol</th>\n",
       "      <td>2744</td>\n",
       "      <td>NaN</td>\n",
       "      <td>NaN</td>\n",
       "      <td>NaN</td>\n",
       "      <td>4.60286</td>\n",
       "      <td>4.05241</td>\n",
       "      <td>0.01</td>\n",
       "      <td>0.8775</td>\n",
       "      <td>3.755</td>\n",
       "      <td>7.7025</td>\n",
       "      <td>17.87</td>\n",
       "    </tr>\n",
       "    <tr>\n",
       "      <th>percentage expenditure</th>\n",
       "      <td>2938</td>\n",
       "      <td>NaN</td>\n",
       "      <td>NaN</td>\n",
       "      <td>NaN</td>\n",
       "      <td>738.251</td>\n",
       "      <td>1987.91</td>\n",
       "      <td>0</td>\n",
       "      <td>4.68534</td>\n",
       "      <td>64.9129</td>\n",
       "      <td>441.534</td>\n",
       "      <td>19479.9</td>\n",
       "    </tr>\n",
       "    <tr>\n",
       "      <th>Hepatitis B</th>\n",
       "      <td>2385</td>\n",
       "      <td>NaN</td>\n",
       "      <td>NaN</td>\n",
       "      <td>NaN</td>\n",
       "      <td>80.9405</td>\n",
       "      <td>25.07</td>\n",
       "      <td>1</td>\n",
       "      <td>77</td>\n",
       "      <td>92</td>\n",
       "      <td>97</td>\n",
       "      <td>99</td>\n",
       "    </tr>\n",
       "    <tr>\n",
       "      <th>Measles</th>\n",
       "      <td>2938</td>\n",
       "      <td>NaN</td>\n",
       "      <td>NaN</td>\n",
       "      <td>NaN</td>\n",
       "      <td>2419.59</td>\n",
       "      <td>11467.3</td>\n",
       "      <td>0</td>\n",
       "      <td>0</td>\n",
       "      <td>17</td>\n",
       "      <td>360.25</td>\n",
       "      <td>212183</td>\n",
       "    </tr>\n",
       "    <tr>\n",
       "      <th>BMI</th>\n",
       "      <td>2904</td>\n",
       "      <td>NaN</td>\n",
       "      <td>NaN</td>\n",
       "      <td>NaN</td>\n",
       "      <td>38.3212</td>\n",
       "      <td>20.044</td>\n",
       "      <td>1</td>\n",
       "      <td>19.3</td>\n",
       "      <td>43.5</td>\n",
       "      <td>56.2</td>\n",
       "      <td>87.3</td>\n",
       "    </tr>\n",
       "    <tr>\n",
       "      <th>under-five deaths</th>\n",
       "      <td>2938</td>\n",
       "      <td>NaN</td>\n",
       "      <td>NaN</td>\n",
       "      <td>NaN</td>\n",
       "      <td>42.0357</td>\n",
       "      <td>160.446</td>\n",
       "      <td>0</td>\n",
       "      <td>0</td>\n",
       "      <td>4</td>\n",
       "      <td>28</td>\n",
       "      <td>2500</td>\n",
       "    </tr>\n",
       "    <tr>\n",
       "      <th>Polio</th>\n",
       "      <td>2919</td>\n",
       "      <td>NaN</td>\n",
       "      <td>NaN</td>\n",
       "      <td>NaN</td>\n",
       "      <td>82.5502</td>\n",
       "      <td>23.428</td>\n",
       "      <td>3</td>\n",
       "      <td>78</td>\n",
       "      <td>93</td>\n",
       "      <td>97</td>\n",
       "      <td>99</td>\n",
       "    </tr>\n",
       "    <tr>\n",
       "      <th>Total expenditure</th>\n",
       "      <td>2712</td>\n",
       "      <td>NaN</td>\n",
       "      <td>NaN</td>\n",
       "      <td>NaN</td>\n",
       "      <td>5.93819</td>\n",
       "      <td>2.49832</td>\n",
       "      <td>0.37</td>\n",
       "      <td>4.26</td>\n",
       "      <td>5.755</td>\n",
       "      <td>7.4925</td>\n",
       "      <td>17.6</td>\n",
       "    </tr>\n",
       "    <tr>\n",
       "      <th>Diphtheria</th>\n",
       "      <td>2919</td>\n",
       "      <td>NaN</td>\n",
       "      <td>NaN</td>\n",
       "      <td>NaN</td>\n",
       "      <td>82.3241</td>\n",
       "      <td>23.7169</td>\n",
       "      <td>2</td>\n",
       "      <td>78</td>\n",
       "      <td>93</td>\n",
       "      <td>97</td>\n",
       "      <td>99</td>\n",
       "    </tr>\n",
       "    <tr>\n",
       "      <th>HIV/AIDS</th>\n",
       "      <td>2938</td>\n",
       "      <td>NaN</td>\n",
       "      <td>NaN</td>\n",
       "      <td>NaN</td>\n",
       "      <td>1.7421</td>\n",
       "      <td>5.07778</td>\n",
       "      <td>0.1</td>\n",
       "      <td>0.1</td>\n",
       "      <td>0.1</td>\n",
       "      <td>0.8</td>\n",
       "      <td>50.6</td>\n",
       "    </tr>\n",
       "    <tr>\n",
       "      <th>GDP</th>\n",
       "      <td>2490</td>\n",
       "      <td>NaN</td>\n",
       "      <td>NaN</td>\n",
       "      <td>NaN</td>\n",
       "      <td>7483.16</td>\n",
       "      <td>14270.2</td>\n",
       "      <td>1.68135</td>\n",
       "      <td>463.936</td>\n",
       "      <td>1766.95</td>\n",
       "      <td>5910.81</td>\n",
       "      <td>119173</td>\n",
       "    </tr>\n",
       "    <tr>\n",
       "      <th>Population</th>\n",
       "      <td>2286</td>\n",
       "      <td>NaN</td>\n",
       "      <td>NaN</td>\n",
       "      <td>NaN</td>\n",
       "      <td>1.27534e+07</td>\n",
       "      <td>6.10121e+07</td>\n",
       "      <td>34</td>\n",
       "      <td>195793</td>\n",
       "      <td>1.38654e+06</td>\n",
       "      <td>7.42036e+06</td>\n",
       "      <td>1.29386e+09</td>\n",
       "    </tr>\n",
       "    <tr>\n",
       "      <th>thinness  1-19 years</th>\n",
       "      <td>2904</td>\n",
       "      <td>NaN</td>\n",
       "      <td>NaN</td>\n",
       "      <td>NaN</td>\n",
       "      <td>4.8397</td>\n",
       "      <td>4.42019</td>\n",
       "      <td>0.1</td>\n",
       "      <td>1.6</td>\n",
       "      <td>3.3</td>\n",
       "      <td>7.2</td>\n",
       "      <td>27.7</td>\n",
       "    </tr>\n",
       "    <tr>\n",
       "      <th>thinness 5-9 years</th>\n",
       "      <td>2904</td>\n",
       "      <td>NaN</td>\n",
       "      <td>NaN</td>\n",
       "      <td>NaN</td>\n",
       "      <td>4.87032</td>\n",
       "      <td>4.50888</td>\n",
       "      <td>0.1</td>\n",
       "      <td>1.5</td>\n",
       "      <td>3.3</td>\n",
       "      <td>7.2</td>\n",
       "      <td>28.6</td>\n",
       "    </tr>\n",
       "    <tr>\n",
       "      <th>Income composition of resources</th>\n",
       "      <td>2771</td>\n",
       "      <td>NaN</td>\n",
       "      <td>NaN</td>\n",
       "      <td>NaN</td>\n",
       "      <td>0.627551</td>\n",
       "      <td>0.210904</td>\n",
       "      <td>0</td>\n",
       "      <td>0.493</td>\n",
       "      <td>0.677</td>\n",
       "      <td>0.779</td>\n",
       "      <td>0.948</td>\n",
       "    </tr>\n",
       "    <tr>\n",
       "      <th>Schooling</th>\n",
       "      <td>2775</td>\n",
       "      <td>NaN</td>\n",
       "      <td>NaN</td>\n",
       "      <td>NaN</td>\n",
       "      <td>11.9928</td>\n",
       "      <td>3.35892</td>\n",
       "      <td>0</td>\n",
       "      <td>10.1</td>\n",
       "      <td>12.3</td>\n",
       "      <td>14.3</td>\n",
       "      <td>20.7</td>\n",
       "    </tr>\n",
       "  </tbody>\n",
       "</table>\n",
       "</div>"
      ],
      "text/plain": [
       "                                count unique         top  freq         mean  \\\n",
       "Country                          2938    193     Somalia    16          NaN   \n",
       "Year                             2938    NaN         NaN   NaN      2007.52   \n",
       "Status                           2938      2  Developing  2426          NaN   \n",
       "Life expectancy                  2928    NaN         NaN   NaN      69.2249   \n",
       "Adult Mortality                  2928    NaN         NaN   NaN      164.796   \n",
       "infant deaths                    2938    NaN         NaN   NaN      30.3039   \n",
       "Alcohol                          2744    NaN         NaN   NaN      4.60286   \n",
       "percentage expenditure           2938    NaN         NaN   NaN      738.251   \n",
       "Hepatitis B                      2385    NaN         NaN   NaN      80.9405   \n",
       "Measles                          2938    NaN         NaN   NaN      2419.59   \n",
       " BMI                             2904    NaN         NaN   NaN      38.3212   \n",
       "under-five deaths                2938    NaN         NaN   NaN      42.0357   \n",
       "Polio                            2919    NaN         NaN   NaN      82.5502   \n",
       "Total expenditure                2712    NaN         NaN   NaN      5.93819   \n",
       "Diphtheria                       2919    NaN         NaN   NaN      82.3241   \n",
       " HIV/AIDS                        2938    NaN         NaN   NaN       1.7421   \n",
       "GDP                              2490    NaN         NaN   NaN      7483.16   \n",
       "Population                       2286    NaN         NaN   NaN  1.27534e+07   \n",
       " thinness  1-19 years            2904    NaN         NaN   NaN       4.8397   \n",
       " thinness 5-9 years              2904    NaN         NaN   NaN      4.87032   \n",
       "Income composition of resources  2771    NaN         NaN   NaN     0.627551   \n",
       "Schooling                        2775    NaN         NaN   NaN      11.9928   \n",
       "\n",
       "                                         std      min      25%          50%  \\\n",
       "Country                                  NaN      NaN      NaN          NaN   \n",
       "Year                                 4.61384     2000     2004         2008   \n",
       "Status                                   NaN      NaN      NaN          NaN   \n",
       "Life expectancy                      9.52387     36.3     63.1         72.1   \n",
       "Adult Mortality                      124.292        1       74          144   \n",
       "infant deaths                        117.927        0        0            3   \n",
       "Alcohol                              4.05241     0.01   0.8775        3.755   \n",
       "percentage expenditure               1987.91        0  4.68534      64.9129   \n",
       "Hepatitis B                            25.07        1       77           92   \n",
       "Measles                              11467.3        0        0           17   \n",
       " BMI                                  20.044        1     19.3         43.5   \n",
       "under-five deaths                    160.446        0        0            4   \n",
       "Polio                                 23.428        3       78           93   \n",
       "Total expenditure                    2.49832     0.37     4.26        5.755   \n",
       "Diphtheria                           23.7169        2       78           93   \n",
       " HIV/AIDS                            5.07778      0.1      0.1          0.1   \n",
       "GDP                                  14270.2  1.68135  463.936      1766.95   \n",
       "Population                       6.10121e+07       34   195793  1.38654e+06   \n",
       " thinness  1-19 years                4.42019      0.1      1.6          3.3   \n",
       " thinness 5-9 years                  4.50888      0.1      1.5          3.3   \n",
       "Income composition of resources     0.210904        0    0.493        0.677   \n",
       "Schooling                            3.35892        0     10.1         12.3   \n",
       "\n",
       "                                         75%          max  \n",
       "Country                                  NaN          NaN  \n",
       "Year                                    2012         2015  \n",
       "Status                                   NaN          NaN  \n",
       "Life expectancy                         75.7           89  \n",
       "Adult Mortality                          228          723  \n",
       "infant deaths                             22         1800  \n",
       "Alcohol                               7.7025        17.87  \n",
       "percentage expenditure               441.534      19479.9  \n",
       "Hepatitis B                               97           99  \n",
       "Measles                               360.25       212183  \n",
       " BMI                                    56.2         87.3  \n",
       "under-five deaths                         28         2500  \n",
       "Polio                                     97           99  \n",
       "Total expenditure                     7.4925         17.6  \n",
       "Diphtheria                                97           99  \n",
       " HIV/AIDS                                0.8         50.6  \n",
       "GDP                                  5910.81       119173  \n",
       "Population                       7.42036e+06  1.29386e+09  \n",
       " thinness  1-19 years                    7.2         27.7  \n",
       " thinness 5-9 years                      7.2         28.6  \n",
       "Income composition of resources        0.779        0.948  \n",
       "Schooling                               14.3         20.7  "
      ]
     },
     "execution_count": 8,
     "metadata": {},
     "output_type": "execute_result"
    }
   ],
   "source": [
    "df.describe(include='all').T"
   ]
  },
  {
   "cell_type": "code",
   "execution_count": 9,
   "metadata": {},
   "outputs": [
    {
     "data": {
      "text/plain": [
       "array([2000, 2001, 2002, 2003, 2004, 2005, 2006, 2007, 2008, 2009, 2010,\n",
       "       2011, 2012, 2013, 2014, 2015])"
      ]
     },
     "execution_count": 9,
     "metadata": {},
     "output_type": "execute_result"
    }
   ],
   "source": [
    "np.unique(df['Year'])"
   ]
  },
  {
   "cell_type": "markdown",
   "metadata": {},
   "source": [
    "### Column Names"
   ]
  },
  {
   "cell_type": "code",
   "execution_count": 10,
   "metadata": {},
   "outputs": [
    {
     "data": {
      "text/plain": [
       "Index(['Country', 'Year', 'Status', 'Life expectancy ', 'Adult Mortality',\n",
       "       'infant deaths', 'Alcohol', 'percentage expenditure', 'Hepatitis B',\n",
       "       'Measles ', ' BMI ', 'under-five deaths ', 'Polio', 'Total expenditure',\n",
       "       'Diphtheria ', ' HIV/AIDS', 'GDP', 'Population',\n",
       "       ' thinness  1-19 years', ' thinness 5-9 years',\n",
       "       'Income composition of resources', 'Schooling'],\n",
       "      dtype='object')"
      ]
     },
     "execution_count": 10,
     "metadata": {},
     "output_type": "execute_result"
    }
   ],
   "source": [
    "df.columns"
   ]
  },
  {
   "cell_type": "markdown",
   "metadata": {},
   "source": [
    "**Observation:** Column names contain an extra space.\n",
    "\n",
    "Remove extra space from column names."
   ]
  },
  {
   "cell_type": "code",
   "execution_count": 11,
   "metadata": {},
   "outputs": [],
   "source": [
    "column_map = {x:x.strip() for x in df.columns.tolist()}"
   ]
  },
  {
   "cell_type": "code",
   "execution_count": 12,
   "metadata": {},
   "outputs": [
    {
     "data": {
      "text/plain": [
       "{'Country': 'Country',\n",
       " 'Year': 'Year',\n",
       " 'Status': 'Status',\n",
       " 'Life expectancy ': 'Life expectancy',\n",
       " 'Adult Mortality': 'Adult Mortality',\n",
       " 'infant deaths': 'infant deaths',\n",
       " 'Alcohol': 'Alcohol',\n",
       " 'percentage expenditure': 'percentage expenditure',\n",
       " 'Hepatitis B': 'Hepatitis B',\n",
       " 'Measles ': 'Measles',\n",
       " ' BMI ': 'BMI',\n",
       " 'under-five deaths ': 'under-five deaths',\n",
       " 'Polio': 'Polio',\n",
       " 'Total expenditure': 'Total expenditure',\n",
       " 'Diphtheria ': 'Diphtheria',\n",
       " ' HIV/AIDS': 'HIV/AIDS',\n",
       " 'GDP': 'GDP',\n",
       " 'Population': 'Population',\n",
       " ' thinness  1-19 years': 'thinness  1-19 years',\n",
       " ' thinness 5-9 years': 'thinness 5-9 years',\n",
       " 'Income composition of resources': 'Income composition of resources',\n",
       " 'Schooling': 'Schooling'}"
      ]
     },
     "execution_count": 12,
     "metadata": {},
     "output_type": "execute_result"
    }
   ],
   "source": [
    "column_map"
   ]
  },
  {
   "cell_type": "code",
   "execution_count": 13,
   "metadata": {},
   "outputs": [],
   "source": [
    "df = df.rename(columns=column_map).copy()"
   ]
  },
  {
   "cell_type": "code",
   "execution_count": 14,
   "metadata": {},
   "outputs": [
    {
     "data": {
      "text/plain": [
       "Index(['Country', 'Year', 'Status', 'Life expectancy', 'Adult Mortality',\n",
       "       'infant deaths', 'Alcohol', 'percentage expenditure', 'Hepatitis B',\n",
       "       'Measles', 'BMI', 'under-five deaths', 'Polio', 'Total expenditure',\n",
       "       'Diphtheria', 'HIV/AIDS', 'GDP', 'Population', 'thinness  1-19 years',\n",
       "       'thinness 5-9 years', 'Income composition of resources', 'Schooling'],\n",
       "      dtype='object')"
      ]
     },
     "execution_count": 14,
     "metadata": {},
     "output_type": "execute_result"
    }
   ],
   "source": [
    "df.columns"
   ]
  },
  {
   "cell_type": "code",
   "execution_count": 15,
   "metadata": {},
   "outputs": [],
   "source": [
    "all_columns = df.columns.values"
   ]
  },
  {
   "cell_type": "code",
   "execution_count": 16,
   "metadata": {},
   "outputs": [],
   "source": [
    "catagorical_columns = ['Country', 'Status']\n",
    "continuous_columns = [x for x in all_columns if x not in catagorical_columns]"
   ]
  },
  {
   "cell_type": "markdown",
   "metadata": {},
   "source": [
    "### Categorical columns"
   ]
  },
  {
   "cell_type": "code",
   "execution_count": 17,
   "metadata": {},
   "outputs": [
    {
     "name": "stdout",
     "output_type": "stream",
     "text": [
      "The Country column has 193 unique values.\n",
      "The Status column has 2 unique values.\n"
     ]
    }
   ],
   "source": [
    "for column in catagorical_columns:\n",
    "    print(f'The {column} column has {len(df[column].unique())} unique values.')"
   ]
  },
  {
   "cell_type": "code",
   "execution_count": 18,
   "metadata": {},
   "outputs": [
    {
     "name": "stdout",
     "output_type": "stream",
     "text": [
      "The unique values for Status are ['Developing' 'Developed'].\n"
     ]
    }
   ],
   "source": [
    "print(f'The unique values for {catagorical_columns[1]} are {df[catagorical_columns[1]].unique()}.')"
   ]
  },
  {
   "cell_type": "markdown",
   "metadata": {},
   "source": [
    "### Missing values"
   ]
  },
  {
   "cell_type": "code",
   "execution_count": 19,
   "metadata": {},
   "outputs": [],
   "source": [
    "def find_na_columns(df, display_fractions=False):\n",
    "    na_fractions = (df.isnull().sum()/df.isnull().count())*100\n",
    "    if display_fractions:\n",
    "        print(na_fractions)\n",
    "    return na_fractions[na_fractions != 0]"
   ]
  },
  {
   "cell_type": "markdown",
   "metadata": {},
   "source": [
    "Categorical columns with missing values:"
   ]
  },
  {
   "cell_type": "code",
   "execution_count": 20,
   "metadata": {},
   "outputs": [],
   "source": [
    "na_fractions_cat = find_na_columns(df.loc[:, catagorical_columns])"
   ]
  },
  {
   "cell_type": "code",
   "execution_count": 21,
   "metadata": {},
   "outputs": [
    {
     "data": {
      "text/plain": [
       "Series([], dtype: float64)"
      ]
     },
     "execution_count": 21,
     "metadata": {},
     "output_type": "execute_result"
    }
   ],
   "source": [
    "na_fractions_cat"
   ]
  },
  {
   "cell_type": "markdown",
   "metadata": {},
   "source": [
    "**Observation:** No catagorical columns are missing values."
   ]
  },
  {
   "cell_type": "code",
   "execution_count": 22,
   "metadata": {},
   "outputs": [],
   "source": [
    "na_fractions_con = find_na_columns(df.loc[:, continuous_columns])"
   ]
  },
  {
   "cell_type": "code",
   "execution_count": 23,
   "metadata": {},
   "outputs": [
    {
     "name": "stdout",
     "output_type": "stream",
     "text": [
      "Life expectancy                     0.340368\n",
      "Adult Mortality                     0.340368\n",
      "Alcohol                             6.603131\n",
      "Hepatitis B                        18.822328\n",
      "BMI                                 1.157250\n",
      "Polio                               0.646698\n",
      "Total expenditure                   7.692308\n",
      "Diphtheria                          0.646698\n",
      "GDP                                15.248468\n",
      "Population                         22.191967\n",
      "thinness  1-19 years                1.157250\n",
      "thinness 5-9 years                  1.157250\n",
      "Income composition of resources     5.684139\n",
      "Schooling                           5.547992\n",
      "dtype: float64\n"
     ]
    }
   ],
   "source": [
    "print(na_fractions_con)"
   ]
  },
  {
   "cell_type": "markdown",
   "metadata": {},
   "source": [
    "Plan\n",
    "* Loop over countries\n",
    "* Sort by year\n",
    "* Interpolate values"
   ]
  },
  {
   "cell_type": "code",
   "execution_count": 24,
   "metadata": {},
   "outputs": [],
   "source": [
    "def interpolate_over_categories(df, category, sort_by=None):\n",
    "    category_list = np.unique(df[category])\n",
    "    \n",
    "    category_df_list = []\n",
    "    for value in category_list:\n",
    "        df_cat = df.loc[df[category] == value, :].copy()\n",
    "        if sort_by is not None:\n",
    "            df_cat.sort_values(by=sort_by, inplace=True)\n",
    "    \n",
    "        na_fractions = find_na_columns(df_cat.loc[df_cat[category] == value, :])\n",
    "        for column in na_fractions.index.tolist():\n",
    "            \n",
    "            if na_fractions[column] != 100.0:\n",
    "                df_cat.loc[df_cat[category] == value,\n",
    "                           column] = df_cat.loc[df_cat[category] == value,\n",
    "                                                column].interpolate()\n",
    "    \n",
    "        category_df_list.append(df_cat)\n",
    "        \n",
    "    df_interpolated = pd.concat(category_df_list)\n",
    "    df_interpolated.index = np.arange(len(df_interpolated))\n",
    "    \n",
    "    return df_interpolated"
   ]
  },
  {
   "cell_type": "code",
   "execution_count": 25,
   "metadata": {
    "scrolled": false
   },
   "outputs": [],
   "source": [
    "df_clean = interpolate_over_categories(df, 'Country', 'Year')"
   ]
  },
  {
   "cell_type": "code",
   "execution_count": 26,
   "metadata": {},
   "outputs": [
    {
     "name": "stdout",
     "output_type": "stream",
     "text": [
      "Life expectancy                     0.340368\n",
      "Adult Mortality                     0.340368\n",
      "Alcohol                             0.578625\n",
      "Hepatitis B                        18.822328\n",
      "BMI                                 1.157250\n",
      "Polio                               0.646698\n",
      "Total expenditure                   1.599728\n",
      "Diphtheria                          0.646698\n",
      "GDP                                14.669843\n",
      "Population                         22.055820\n",
      "thinness  1-19 years                1.157250\n",
      "thinness 5-9 years                  1.157250\n",
      "Income composition of resources     5.684139\n",
      "Schooling                           5.547992\n",
      "dtype: float64\n"
     ]
    }
   ],
   "source": [
    "print(find_na_columns(df_clean.loc[:, continuous_columns]))"
   ]
  },
  {
   "cell_type": "markdown",
   "metadata": {},
   "source": [
    "**Observation:**"
   ]
  },
  {
   "cell_type": "code",
   "execution_count": 27,
   "metadata": {},
   "outputs": [
    {
     "name": "stdout",
     "output_type": "stream",
     "text": [
      "There is a large number of missing values for ['Hepatitis B', 'GDP', 'Population'].\n"
     ]
    }
   ],
   "source": [
    "many_missing_values = ['Hepatitis B', 'GDP', 'Population']\n",
    "print(f'There is a large number of missing values for {many_missing_values}.')"
   ]
  },
  {
   "cell_type": "markdown",
   "metadata": {},
   "source": [
    "I will drop these columns and use the other columns as features in this dataset."
   ]
  },
  {
   "cell_type": "code",
   "execution_count": 28,
   "metadata": {},
   "outputs": [],
   "source": [
    "df_clean = df_clean.drop(columns=many_missing_values).copy()"
   ]
  },
  {
   "cell_type": "markdown",
   "metadata": {},
   "source": [
    "Since the other values only have a small number of missing values, I will remove all columns with missing values."
   ]
  },
  {
   "cell_type": "code",
   "execution_count": 29,
   "metadata": {},
   "outputs": [],
   "source": [
    "df_clean = df_clean.dropna(how='any').copy()\n",
    "df_clean.index = np.arange(len(df_clean))"
   ]
  },
  {
   "cell_type": "code",
   "execution_count": 30,
   "metadata": {},
   "outputs": [
    {
     "name": "stdout",
     "output_type": "stream",
     "text": [
      "0.072 fraction of the data was removed from the orignal dataset.\n"
     ]
    }
   ],
   "source": [
    "print(f'{(len(df) - len(df_clean)) / len(df):0.3f} fraction of the data was removed from the orignal dataset.')"
   ]
  },
  {
   "cell_type": "code",
   "execution_count": 31,
   "metadata": {},
   "outputs": [],
   "source": [
    "# Update continous columns list\n",
    "continuous_columns = [x for x in continuous_columns if x not in many_missing_values]"
   ]
  },
  {
   "cell_type": "markdown",
   "metadata": {},
   "source": [
    "## Outliers"
   ]
  },
  {
   "cell_type": "code",
   "execution_count": 32,
   "metadata": {},
   "outputs": [],
   "source": [
    "def log_transform(df, column_list):\n",
    "    for column in column_list:\n",
    "        df[f'log_{column}'] = np.log(df[column] + 1)\n",
    "    return df"
   ]
  },
  {
   "cell_type": "code",
   "execution_count": 33,
   "metadata": {},
   "outputs": [],
   "source": [
    "def boxcox_transform(df, column_list):\n",
    "    for column in column_list:\n",
    "        boxcox_transform, _ = boxcox(df[column] + 1)\n",
    "        df[f'boxcox_{column}'] = boxcox_transform\n",
    "    return df"
   ]
  },
  {
   "cell_type": "code",
   "execution_count": 34,
   "metadata": {},
   "outputs": [],
   "source": [
    "thresholds = {\n",
    "    'tukey': 1.5\n",
    "}"
   ]
  },
  {
   "cell_type": "code",
   "execution_count": 35,
   "metadata": {},
   "outputs": [],
   "source": [
    "def apply_tukey(df, column, thresh=1.5):\n",
    "    q75, q25 = np.percentile(df[column], [75, 25])\n",
    "    iqr = q75 - q25\n",
    "    min_value = q25 - thresh*iqr\n",
    "    max_value = q75 + thresh*iqr\n",
    "    df[f'tukey_{column}'] = df[column].apply(lambda x: np.min([x, max_value]))\n",
    "    df[f'tukey_{column}'] = df[f'tukey_{column}'].apply(lambda x: np.max([x, min_value]))\n",
    "    return df"
   ]
  },
  {
   "cell_type": "code",
   "execution_count": 36,
   "metadata": {},
   "outputs": [],
   "source": [
    "def correct_outliers(df, column_list):\n",
    "    for column in column_list:\n",
    "        # Tukey\n",
    "        df = apply_tukey(df, column, thresh=thresholds['tukey'])\n",
    "        \n",
    "    return df"
   ]
  },
  {
   "cell_type": "code",
   "execution_count": 37,
   "metadata": {},
   "outputs": [],
   "source": [
    "def stack_dataframe(df, column_list):\n",
    "    df_stacked = df.loc[:, column_list].stack().copy()\n",
    "    df_stacked.index = df_stacked.index.droplevel()\n",
    "    df_stacked = df_stacked.reset_index().copy()\n",
    "    df_stacked = df_stacked.rename(columns={'index': 'label', 0: 'value'})\n",
    "    df_stacked = df_stacked.sort_values(by='label')\n",
    "    df_stacked.index = np.arange(len(df_stacked))\n",
    "    return df_stacked"
   ]
  },
  {
   "cell_type": "code",
   "execution_count": 38,
   "metadata": {},
   "outputs": [],
   "source": [
    "def look_for_outliers(df, column_list):\n",
    "    \n",
    "    if len(column_list) > 1:\n",
    "        df_stacked = stack_dataframe(df, column_list)\n",
    "        sns.catplot(x='label', y='value', data=df_stacked, height=4, aspect=12/6, kind='box')\n",
    "        plt.show()\n",
    "    else:\n",
    "        sns.catplot(y=column_list[0], data=df, height=4, aspect=12/6, kind='box')\n",
    "        plt.show()"
   ]
  },
  {
   "cell_type": "code",
   "execution_count": 39,
   "metadata": {},
   "outputs": [
    {
     "data": {
      "text/plain": [
       "['Life expectancy',\n",
       " 'Adult Mortality',\n",
       " 'infant deaths',\n",
       " 'Alcohol',\n",
       " 'percentage expenditure',\n",
       " 'Measles',\n",
       " 'BMI',\n",
       " 'under-five deaths',\n",
       " 'Polio',\n",
       " 'Total expenditure',\n",
       " 'Diphtheria',\n",
       " 'HIV/AIDS',\n",
       " 'thinness  1-19 years',\n",
       " 'thinness 5-9 years',\n",
       " 'Income composition of resources',\n",
       " 'Schooling']"
      ]
     },
     "execution_count": 39,
     "metadata": {},
     "output_type": "execute_result"
    }
   ],
   "source": [
    "continuous_columns[1:]"
   ]
  },
  {
   "cell_type": "code",
   "execution_count": 40,
   "metadata": {
    "scrolled": false
   },
   "outputs": [
    {
     "data": {
      "image/png": "[encoded data removed]",
      "text/plain": [
       "<Figure size 576x288 with 1 Axes>"
      ]
     },
     "metadata": {
      "needs_background": "light"
     },
     "output_type": "display_data"
    },
    {
     "data": {
      "image/png": "[encoded data removed]",
      "text/plain": [
       "<Figure size 576x288 with 1 Axes>"
      ]
     },
     "metadata": {
      "needs_background": "light"
     },
     "output_type": "display_data"
    },
    {
     "data": {
      "image/png": "[encoded data removed]",
      "text/plain": [
       "<Figure size 576x288 with 1 Axes>"
      ]
     },
     "metadata": {
      "needs_background": "light"
     },
     "output_type": "display_data"
    },
    {
     "data": {
      "image/png": "[encoded data removed]",
      "text/plain": [
       "<Figure size 576x288 with 1 Axes>"
      ]
     },
     "metadata": {
      "needs_background": "light"
     },
     "output_type": "display_data"
    },
    {
     "data": {
      "image/png": "[encoded data removed]",
      "text/plain": [
       "<Figure size 576x288 with 1 Axes>"
      ]
     },
     "metadata": {
      "needs_background": "light"
     },
     "output_type": "display_data"
    },
    {
     "data": {
      "image/png": "[encoded data removed]",
      "text/plain": [
       "<Figure size 576x288 with 1 Axes>"
      ]
     },
     "metadata": {
      "needs_background": "light"
     },
     "output_type": "display_data"
    },
    {
     "data": {
      "image/png": "[encoded data removed]",
      "text/plain": [
       "<Figure size 576x288 with 1 Axes>"
      ]
     },
     "metadata": {
      "needs_background": "light"
     },
     "output_type": "display_data"
    },
    {
     "data": {
      "image/png": "[encoded data removed]",
      "text/plain": [
       "<Figure size 576x288 with 1 Axes>"
      ]
     },
     "metadata": {
      "needs_background": "light"
     },
     "output_type": "display_data"
    },
    {
     "data": {
      "image/png": "[encoded data removed]",
      "text/plain": [
       "<Figure size 576x288 with 1 Axes>"
      ]
     },
     "metadata": {
      "needs_background": "light"
     },
     "output_type": "display_data"
    },
    {
     "data": {
      "image/png": "[encoded data removed]",
      "text/plain": [
       "<Figure size 576x288 with 1 Axes>"
      ]
     },
     "metadata": {
      "needs_background": "light"
     },
     "output_type": "display_data"
    },
    {
     "data": {
      "image/png": "[encoded data removed]",
      "text/plain": [
       "<Figure size 576x288 with 1 Axes>"
      ]
     },
     "metadata": {
      "needs_background": "light"
     },
     "output_type": "display_data"
    },
    {
     "data": {
      "image/png": "[encoded data removed]",
      "text/plain": [
       "<Figure size 576x288 with 1 Axes>"
      ]
     },
     "metadata": {
      "needs_background": "light"
     },
     "output_type": "display_data"
    },
    {
     "data": {
      "image/png": "[encoded data removed]",
      "text/plain": [
       "<Figure size 576x288 with 1 Axes>"
      ]
     },
     "metadata": {
      "needs_background": "light"
     },
     "output_type": "display_data"
    },
    {
     "data": {
      "image/png": "[encoded data removed]",
      "text/plain": [
       "<Figure size 576x288 with 1 Axes>"
      ]
     },
     "metadata": {
      "needs_background": "light"
     },
     "output_type": "display_data"
    },
    {
     "data": {
      "image/png": "[encoded data removed]",
      "text/plain": [
       "<Figure size 576x288 with 1 Axes>"
      ]
     },
     "metadata": {
      "needs_background": "light"
     },
     "output_type": "display_data"
    },
    {
     "data": {
      "image/png": "[encoded data removed]",
      "text/plain": [
       "<Figure size 576x288 with 1 Axes>"
      ]
     },
     "metadata": {
      "needs_background": "light"
     },
     "output_type": "display_data"
    }
   ],
   "source": [
    "for column in continuous_columns[1:]:\n",
    "    look_for_outliers(df_clean, [column])"
   ]
  },
  {
   "cell_type": "markdown",
   "metadata": {},
   "source": [
    "### Log transform\n",
    "Try log transformations to remove outliers and correct for normality."
   ]
  },
  {
   "cell_type": "code",
   "execution_count": 41,
   "metadata": {},
   "outputs": [],
   "source": [
    "columns_to_log_transform = ['Adult Mortality', 'infant deaths', 'percentage expenditure', 'Measles',\n",
    "                            'under-five deaths', 'Polio', 'Diphtheria', 'HIV/AIDS', 'thinness  1-19 years',\n",
    "                            'thinness 5-9 years']"
   ]
  },
  {
   "cell_type": "code",
   "execution_count": 42,
   "metadata": {},
   "outputs": [],
   "source": [
    "df_clean = log_transform(df_clean, columns_to_log_transform)"
   ]
  },
  {
   "cell_type": "code",
   "execution_count": 43,
   "metadata": {},
   "outputs": [],
   "source": [
    "log_columns = [f'log_{x}' for x in columns_to_log_transform]"
   ]
  },
  {
   "cell_type": "code",
   "execution_count": 44,
   "metadata": {
    "scrolled": false
   },
   "outputs": [
    {
     "data": {
      "image/png": "[encoded data removed]",
      "text/plain": [
       "<Figure size 576x288 with 1 Axes>"
      ]
     },
     "metadata": {
      "needs_background": "light"
     },
     "output_type": "display_data"
    },
    {
     "data": {
      "image/png": "[encoded data removed]",
      "text/plain": [
       "<Figure size 576x288 with 1 Axes>"
      ]
     },
     "metadata": {
      "needs_background": "light"
     },
     "output_type": "display_data"
    },
    {
     "data": {
      "image/png": "[encoded data removed]",
      "text/plain": [
       "<Figure size 576x288 with 1 Axes>"
      ]
     },
     "metadata": {
      "needs_background": "light"
     },
     "output_type": "display_data"
    },
    {
     "data": {
      "image/png": "[encoded data removed]",
      "text/plain": [
       "<Figure size 576x288 with 1 Axes>"
      ]
     },
     "metadata": {
      "needs_background": "light"
     },
     "output_type": "display_data"
    },
    {
     "data": {
      "image/png": "[encoded data removed]",
      "text/plain": [
       "<Figure size 576x288 with 1 Axes>"
      ]
     },
     "metadata": {
      "needs_background": "light"
     },
     "output_type": "display_data"
    },
    {
     "data": {
      "image/png": "[encoded data removed]",
      "text/plain": [
       "<Figure size 576x288 with 1 Axes>"
      ]
     },
     "metadata": {
      "needs_background": "light"
     },
     "output_type": "display_data"
    },
    {
     "data": {
      "image/png": "[encoded data removed]",
      "text/plain": [
       "<Figure size 576x288 with 1 Axes>"
      ]
     },
     "metadata": {
      "needs_background": "light"
     },
     "output_type": "display_data"
    },
    {
     "data": {
      "image/png": "[encoded data removed]",
      "text/plain": [
       "<Figure size 576x288 with 1 Axes>"
      ]
     },
     "metadata": {
      "needs_background": "light"
     },
     "output_type": "display_data"
    },
    {
     "data": {
      "image/png": "[encoded data removed]",
      "text/plain": [
       "<Figure size 576x288 with 1 Axes>"
      ]
     },
     "metadata": {
      "needs_background": "light"
     },
     "output_type": "display_data"
    },
    {
     "data": {
      "image/png": "[encoded data removed]",
      "text/plain": [
       "<Figure size 576x288 with 1 Axes>"
      ]
     },
     "metadata": {
      "needs_background": "light"
     },
     "output_type": "display_data"
    }
   ],
   "source": [
    "for column in log_columns:\n",
    "    look_for_outliers(df_clean, [column])"
   ]
  },
  {
   "cell_type": "markdown",
   "metadata": {},
   "source": [
    "### Box-Cox Transformation\n",
    "Try Box-Cox transformations to remove outliers and correct for normality."
   ]
  },
  {
   "cell_type": "code",
   "execution_count": 45,
   "metadata": {},
   "outputs": [],
   "source": [
    "columns_to_boxcox_transform = ['Life expectancy', 'Adult Mortality', 'infant deaths', 'percentage expenditure', 'Measles',\n",
    "                               'under-five deaths', 'Polio', 'Diphtheria', 'HIV/AIDS', 'thinness  1-19 years',\n",
    "                               'thinness 5-9 years', 'Alcohol']"
   ]
  },
  {
   "cell_type": "code",
   "execution_count": 46,
   "metadata": {},
   "outputs": [],
   "source": [
    "df_clean = boxcox_transform(df_clean, columns_to_boxcox_transform)"
   ]
  },
  {
   "cell_type": "code",
   "execution_count": 47,
   "metadata": {},
   "outputs": [],
   "source": [
    "boxcox_columns = [f'boxcox_{x}' for x in columns_to_boxcox_transform]"
   ]
  },
  {
   "cell_type": "code",
   "execution_count": 48,
   "metadata": {
    "scrolled": false
   },
   "outputs": [
    {
     "data": {
      "image/png": "[encoded data removed]",
      "text/plain": [
       "<Figure size 576x288 with 1 Axes>"
      ]
     },
     "metadata": {
      "needs_background": "light"
     },
     "output_type": "display_data"
    },
    {
     "data": {
      "image/png": "[encoded data removed]",
      "text/plain": [
       "<Figure size 576x288 with 1 Axes>"
      ]
     },
     "metadata": {
      "needs_background": "light"
     },
     "output_type": "display_data"
    },
    {
     "data": {
      "image/png": "[encoded data removed]",
      "text/plain": [
       "<Figure size 576x288 with 1 Axes>"
      ]
     },
     "metadata": {
      "needs_background": "light"
     },
     "output_type": "display_data"
    },
    {
     "data": {
      "image/png": "[encoded data removed]",
      "text/plain": [
       "<Figure size 576x288 with 1 Axes>"
      ]
     },
     "metadata": {
      "needs_background": "light"
     },
     "output_type": "display_data"
    },
    {
     "data": {
      "image/png": "[encoded data removed]",
      "text/plain": [
       "<Figure size 576x288 with 1 Axes>"
      ]
     },
     "metadata": {
      "needs_background": "light"
     },
     "output_type": "display_data"
    },
    {
     "data": {
      "image/png": "[encoded data removed]",
      "text/plain": [
       "<Figure size 576x288 with 1 Axes>"
      ]
     },
     "metadata": {
      "needs_background": "light"
     },
     "output_type": "display_data"
    },
    {
     "data": {
      "image/png": "[encoded data removed]",
      "text/plain": [
       "<Figure size 576x288 with 1 Axes>"
      ]
     },
     "metadata": {
      "needs_background": "light"
     },
     "output_type": "display_data"
    },
    {
     "data": {
      "image/png": "[encoded data removed]",
      "text/plain": [
       "<Figure size 576x288 with 1 Axes>"
      ]
     },
     "metadata": {
      "needs_background": "light"
     },
     "output_type": "display_data"
    },
    {
     "data": {
      "image/png": "[encoded data removed]",
      "text/plain": [
       "<Figure size 576x288 with 1 Axes>"
      ]
     },
     "metadata": {
      "needs_background": "light"
     },
     "output_type": "display_data"
    },
    {
     "data": {
      "image/png": "[encoded data removed]",
      "text/plain": [
       "<Figure size 576x288 with 1 Axes>"
      ]
     },
     "metadata": {
      "needs_background": "light"
     },
     "output_type": "display_data"
    },
    {
     "data": {
      "image/png": "[encoded data removed]",
      "text/plain": [
       "<Figure size 576x288 with 1 Axes>"
      ]
     },
     "metadata": {
      "needs_background": "light"
     },
     "output_type": "display_data"
    },
    {
     "data": {
      "image/png": "[encoded data removed]",
      "text/plain": [
       "<Figure size 576x288 with 1 Axes>"
      ]
     },
     "metadata": {
      "needs_background": "light"
     },
     "output_type": "display_data"
    }
   ],
   "source": [
    "for column in boxcox_columns:\n",
    "    look_for_outliers(df_clean, [column])"
   ]
  },
  {
   "cell_type": "markdown",
   "metadata": {},
   "source": [
    "**Observation:** BoxCox does a better job dealing with the highly skewed data than log transformation."
   ]
  },
  {
   "cell_type": "markdown",
   "metadata": {},
   "source": [
    "### Correct outliers\n",
    "Use the Tukey method to correct for additional outliers seen in the data."
   ]
  },
  {
   "cell_type": "code",
   "execution_count": 49,
   "metadata": {},
   "outputs": [],
   "source": [
    "columns_to_apply_tukey = ['Life expectancy', 'Total expenditure', 'Income composition of resources', 'Schooling',\n",
    "                          'boxcox_Adult Mortality']"
   ]
  },
  {
   "cell_type": "code",
   "execution_count": 50,
   "metadata": {},
   "outputs": [],
   "source": [
    "df_clean = correct_outliers(df_clean, columns_to_apply_tukey)"
   ]
  },
  {
   "cell_type": "code",
   "execution_count": 51,
   "metadata": {},
   "outputs": [],
   "source": [
    "tukey_columns = [f'tukey_{x}' for x in columns_to_apply_tukey]"
   ]
  },
  {
   "cell_type": "code",
   "execution_count": 52,
   "metadata": {},
   "outputs": [
    {
     "data": {
      "image/png": "[encoded data removed]",
      "text/plain": [
       "<Figure size 576x288 with 1 Axes>"
      ]
     },
     "metadata": {
      "needs_background": "light"
     },
     "output_type": "display_data"
    },
    {
     "data": {
      "image/png": "[encoded data removed]",
      "text/plain": [
       "<Figure size 576x288 with 1 Axes>"
      ]
     },
     "metadata": {
      "needs_background": "light"
     },
     "output_type": "display_data"
    },
    {
     "data": {
      "image/png": "[encoded data removed]",
      "text/plain": [
       "<Figure size 576x288 with 1 Axes>"
      ]
     },
     "metadata": {
      "needs_background": "light"
     },
     "output_type": "display_data"
    },
    {
     "data": {
      "image/png": "[encoded data removed]",
      "text/plain": [
       "<Figure size 576x288 with 1 Axes>"
      ]
     },
     "metadata": {
      "needs_background": "light"
     },
     "output_type": "display_data"
    },
    {
     "data": {
      "image/png": "[encoded data removed]",
      "text/plain": [
       "<Figure size 576x288 with 1 Axes>"
      ]
     },
     "metadata": {
      "needs_background": "light"
     },
     "output_type": "display_data"
    }
   ],
   "source": [
    "for column in tukey_columns:\n",
    "    look_for_outliers(df_clean, [column])"
   ]
  },
  {
   "cell_type": "code",
   "execution_count": 53,
   "metadata": {},
   "outputs": [
    {
     "data": {
      "text/plain": [
       "Index(['Country', 'Year', 'Status', 'Life expectancy', 'Adult Mortality',\n",
       "       'infant deaths', 'Alcohol', 'percentage expenditure', 'Measles', 'BMI',\n",
       "       'under-five deaths', 'Polio', 'Total expenditure', 'Diphtheria',\n",
       "       'HIV/AIDS', 'thinness  1-19 years', 'thinness 5-9 years',\n",
       "       'Income composition of resources', 'Schooling', 'log_Adult Mortality',\n",
       "       'log_infant deaths', 'log_percentage expenditure', 'log_Measles',\n",
       "       'log_under-five deaths', 'log_Polio', 'log_Diphtheria', 'log_HIV/AIDS',\n",
       "       'log_thinness  1-19 years', 'log_thinness 5-9 years',\n",
       "       'boxcox_Life expectancy', 'boxcox_Adult Mortality',\n",
       "       'boxcox_infant deaths', 'boxcox_percentage expenditure',\n",
       "       'boxcox_Measles', 'boxcox_under-five deaths', 'boxcox_Polio',\n",
       "       'boxcox_Diphtheria', 'boxcox_HIV/AIDS', 'boxcox_thinness  1-19 years',\n",
       "       'boxcox_thinness 5-9 years', 'boxcox_Alcohol', 'tukey_Life expectancy',\n",
       "       'tukey_Total expenditure', 'tukey_Income composition of resources',\n",
       "       'tukey_Schooling', 'tukey_boxcox_Adult Mortality'],\n",
       "      dtype='object')"
      ]
     },
     "execution_count": 53,
     "metadata": {},
     "output_type": "execute_result"
    }
   ],
   "source": [
    "df_clean.columns"
   ]
  },
  {
   "cell_type": "markdown",
   "metadata": {},
   "source": [
    "Select columns to use for further analysis. Only include variables with few outliers and appearing most normal."
   ]
  },
  {
   "cell_type": "code",
   "execution_count": 54,
   "metadata": {},
   "outputs": [],
   "source": [
    "columns_subset = ['Country', 'Year', 'Status', 'BMI', 'boxcox_Alcohol', 'boxcox_infant deaths',\n",
    "                  'boxcox_percentage expenditure', 'boxcox_Measles', 'boxcox_under-five deaths', 'boxcox_Polio', \n",
    "                  'boxcox_Diphtheria', 'boxcox_HIV/AIDS', 'boxcox_thinness  1-19 years', 'boxcox_thinness 5-9 years', \n",
    "                  'tukey_Life expectancy', 'tukey_Total expenditure', 'tukey_Income composition of resources',\n",
    "                  'tukey_Schooling', 'tukey_boxcox_Adult Mortality']"
   ]
  },
  {
   "cell_type": "code",
   "execution_count": 55,
   "metadata": {},
   "outputs": [],
   "source": [
    "df_subset = df_clean.loc[:, columns_subset]"
   ]
  },
  {
   "cell_type": "markdown",
   "metadata": {},
   "source": [
    "## Standardize dataset"
   ]
  },
  {
   "cell_type": "code",
   "execution_count": 56,
   "metadata": {},
   "outputs": [],
   "source": [
    "columns_to_standardize = ['BMI', 'boxcox_Alcohol', 'boxcox_infant deaths', 'boxcox_percentage expenditure', \n",
    "                          'boxcox_Measles', 'boxcox_under-five deaths', 'boxcox_Polio', 'boxcox_Diphtheria', \n",
    "                          'boxcox_HIV/AIDS', 'boxcox_thinness  1-19 years', 'boxcox_thinness 5-9 years', \n",
    "                          'tukey_Life expectancy', 'tukey_Total expenditure', 'tukey_Income composition of resources',\n",
    "                          'tukey_Schooling', 'tukey_boxcox_Adult Mortality']"
   ]
  },
  {
   "cell_type": "code",
   "execution_count": 57,
   "metadata": {},
   "outputs": [],
   "source": [
    "df_standardized = pd.DataFrame(StandardScaler().fit_transform(df_subset.loc[:, columns_to_standardize]), \n",
    "                               columns=columns_to_standardize)\n",
    "columns_to_add_back = ['Country', 'Year', 'Status']\n",
    "for column in columns_to_add_back:\n",
    "    df_standardized[column] = df_subset[column].values"
   ]
  },
  {
   "cell_type": "code",
   "execution_count": 58,
   "metadata": {},
   "outputs": [
    {
     "data": {
      "text/html": [
       "<div>\n",
       "<style scoped>\n",
       "    .dataframe tbody tr th:only-of-type {\n",
       "        vertical-align: middle;\n",
       "    }\n",
       "\n",
       "    .dataframe tbody tr th {\n",
       "        vertical-align: top;\n",
       "    }\n",
       "\n",
       "    .dataframe thead th {\n",
       "        text-align: right;\n",
       "    }\n",
       "</style>\n",
       "<table border=\"1\" class=\"dataframe\">\n",
       "  <thead>\n",
       "    <tr style=\"text-align: right;\">\n",
       "      <th></th>\n",
       "      <th>count</th>\n",
       "      <th>mean</th>\n",
       "      <th>std</th>\n",
       "      <th>min</th>\n",
       "      <th>25%</th>\n",
       "      <th>50%</th>\n",
       "      <th>75%</th>\n",
       "      <th>max</th>\n",
       "    </tr>\n",
       "  </thead>\n",
       "  <tbody>\n",
       "    <tr>\n",
       "      <th>BMI</th>\n",
       "      <td>2725.0</td>\n",
       "      <td>1.538423e-16</td>\n",
       "      <td>1.000184</td>\n",
       "      <td>-1.890303</td>\n",
       "      <td>-0.963175</td>\n",
       "      <td>0.271317</td>\n",
       "      <td>0.886044</td>\n",
       "      <td>1.969374</td>\n",
       "    </tr>\n",
       "    <tr>\n",
       "      <th>boxcox_Alcohol</th>\n",
       "      <td>2725.0</td>\n",
       "      <td>1.564498e-17</td>\n",
       "      <td>1.000184</td>\n",
       "      <td>-1.448061</td>\n",
       "      <td>-1.006128</td>\n",
       "      <td>0.115645</td>\n",
       "      <td>0.875360</td>\n",
       "      <td>2.026883</td>\n",
       "    </tr>\n",
       "    <tr>\n",
       "      <th>boxcox_infant deaths</th>\n",
       "      <td>2725.0</td>\n",
       "      <td>-5.866867e-17</td>\n",
       "      <td>1.000184</td>\n",
       "      <td>-1.198790</td>\n",
       "      <td>-1.198790</td>\n",
       "      <td>-0.001469</td>\n",
       "      <td>0.916061</td>\n",
       "      <td>2.186640</td>\n",
       "    </tr>\n",
       "    <tr>\n",
       "      <th>boxcox_percentage expenditure</th>\n",
       "      <td>2725.0</td>\n",
       "      <td>1.042999e-17</td>\n",
       "      <td>1.000184</td>\n",
       "      <td>-1.562651</td>\n",
       "      <td>-0.718139</td>\n",
       "      <td>0.019572</td>\n",
       "      <td>0.729690</td>\n",
       "      <td>2.311597</td>\n",
       "    </tr>\n",
       "    <tr>\n",
       "      <th>boxcox_Measles</th>\n",
       "      <td>2725.0</td>\n",
       "      <td>1.147298e-16</td>\n",
       "      <td>1.000184</td>\n",
       "      <td>-1.119683</td>\n",
       "      <td>-1.119683</td>\n",
       "      <td>0.030866</td>\n",
       "      <td>0.911973</td>\n",
       "      <td>1.985770</td>\n",
       "    </tr>\n",
       "    <tr>\n",
       "      <th>boxcox_under-five deaths</th>\n",
       "      <td>2725.0</td>\n",
       "      <td>0.000000e+00</td>\n",
       "      <td>1.000184</td>\n",
       "      <td>-1.226109</td>\n",
       "      <td>-1.226109</td>\n",
       "      <td>-0.106175</td>\n",
       "      <td>0.896185</td>\n",
       "      <td>2.175165</td>\n",
       "    </tr>\n",
       "    <tr>\n",
       "      <th>boxcox_Polio</th>\n",
       "      <td>2725.0</td>\n",
       "      <td>1.238561e-16</td>\n",
       "      <td>1.000184</td>\n",
       "      <td>-2.309034</td>\n",
       "      <td>-0.648531</td>\n",
       "      <td>0.436266</td>\n",
       "      <td>0.787873</td>\n",
       "      <td>0.974197</td>\n",
       "    </tr>\n",
       "    <tr>\n",
       "      <th>boxcox_Diphtheria</th>\n",
       "      <td>2725.0</td>\n",
       "      <td>5.214993e-18</td>\n",
       "      <td>1.000184</td>\n",
       "      <td>-2.306238</td>\n",
       "      <td>-0.598036</td>\n",
       "      <td>0.434691</td>\n",
       "      <td>0.790917</td>\n",
       "      <td>0.979921</td>\n",
       "    </tr>\n",
       "    <tr>\n",
       "      <th>boxcox_HIV/AIDS</th>\n",
       "      <td>2725.0</td>\n",
       "      <td>2.294597e-16</td>\n",
       "      <td>1.000184</td>\n",
       "      <td>-0.693770</td>\n",
       "      <td>-0.693770</td>\n",
       "      <td>-0.693770</td>\n",
       "      <td>0.809008</td>\n",
       "      <td>1.935057</td>\n",
       "    </tr>\n",
       "    <tr>\n",
       "      <th>boxcox_thinness  1-19 years</th>\n",
       "      <td>2725.0</td>\n",
       "      <td>-2.555346e-16</td>\n",
       "      <td>1.000184</td>\n",
       "      <td>-2.114063</td>\n",
       "      <td>-0.774340</td>\n",
       "      <td>-0.012170</td>\n",
       "      <td>0.837420</td>\n",
       "      <td>2.388959</td>\n",
       "    </tr>\n",
       "    <tr>\n",
       "      <th>boxcox_thinness 5-9 years</th>\n",
       "      <td>2725.0</td>\n",
       "      <td>-5.214993e-17</td>\n",
       "      <td>1.000184</td>\n",
       "      <td>-2.064868</td>\n",
       "      <td>-0.767341</td>\n",
       "      <td>-0.019413</td>\n",
       "      <td>0.839333</td>\n",
       "      <td>2.426167</td>\n",
       "    </tr>\n",
       "    <tr>\n",
       "      <th>tukey_Life expectancy</th>\n",
       "      <td>2725.0</td>\n",
       "      <td>-3.937319e-16</td>\n",
       "      <td>1.000184</td>\n",
       "      <td>-2.527279</td>\n",
       "      <td>-0.616042</td>\n",
       "      <td>0.290986</td>\n",
       "      <td>0.658116</td>\n",
       "      <td>2.105041</td>\n",
       "    </tr>\n",
       "    <tr>\n",
       "      <th>tukey_Total expenditure</th>\n",
       "      <td>2725.0</td>\n",
       "      <td>6.257991e-17</td>\n",
       "      <td>1.000184</td>\n",
       "      <td>-2.322819</td>\n",
       "      <td>-0.682518</td>\n",
       "      <td>-0.071095</td>\n",
       "      <td>0.666830</td>\n",
       "      <td>2.690852</td>\n",
       "    </tr>\n",
       "    <tr>\n",
       "      <th>tukey_Income composition of resources</th>\n",
       "      <td>2725.0</td>\n",
       "      <td>-2.816096e-16</td>\n",
       "      <td>1.000184</td>\n",
       "      <td>-2.835189</td>\n",
       "      <td>-0.691070</td>\n",
       "      <td>0.224567</td>\n",
       "      <td>0.738342</td>\n",
       "      <td>1.587851</td>\n",
       "    </tr>\n",
       "    <tr>\n",
       "      <th>tukey_Schooling</th>\n",
       "      <td>2725.0</td>\n",
       "      <td>-7.300990e-17</td>\n",
       "      <td>1.000184</td>\n",
       "      <td>-2.579824</td>\n",
       "      <td>-0.618518</td>\n",
       "      <td>0.083087</td>\n",
       "      <td>0.689018</td>\n",
       "      <td>2.650323</td>\n",
       "    </tr>\n",
       "    <tr>\n",
       "      <th>tukey_boxcox_Adult Mortality</th>\n",
       "      <td>2725.0</td>\n",
       "      <td>-2.816096e-16</td>\n",
       "      <td>1.000184</td>\n",
       "      <td>-2.341089</td>\n",
       "      <td>-0.617176</td>\n",
       "      <td>0.077240</td>\n",
       "      <td>0.664114</td>\n",
       "      <td>2.586049</td>\n",
       "    </tr>\n",
       "    <tr>\n",
       "      <th>Year</th>\n",
       "      <td>2725.0</td>\n",
       "      <td>2.007523e+03</td>\n",
       "      <td>4.604145</td>\n",
       "      <td>2000.000000</td>\n",
       "      <td>2004.000000</td>\n",
       "      <td>2008.000000</td>\n",
       "      <td>2012.000000</td>\n",
       "      <td>2015.000000</td>\n",
       "    </tr>\n",
       "  </tbody>\n",
       "</table>\n",
       "</div>"
      ],
      "text/plain": [
       "                                        count          mean       std  \\\n",
       "BMI                                    2725.0  1.538423e-16  1.000184   \n",
       "boxcox_Alcohol                         2725.0  1.564498e-17  1.000184   \n",
       "boxcox_infant deaths                   2725.0 -5.866867e-17  1.000184   \n",
       "boxcox_percentage expenditure          2725.0  1.042999e-17  1.000184   \n",
       "boxcox_Measles                         2725.0  1.147298e-16  1.000184   \n",
       "boxcox_under-five deaths               2725.0  0.000000e+00  1.000184   \n",
       "boxcox_Polio                           2725.0  1.238561e-16  1.000184   \n",
       "boxcox_Diphtheria                      2725.0  5.214993e-18  1.000184   \n",
       "boxcox_HIV/AIDS                        2725.0  2.294597e-16  1.000184   \n",
       "boxcox_thinness  1-19 years            2725.0 -2.555346e-16  1.000184   \n",
       "boxcox_thinness 5-9 years              2725.0 -5.214993e-17  1.000184   \n",
       "tukey_Life expectancy                  2725.0 -3.937319e-16  1.000184   \n",
       "tukey_Total expenditure                2725.0  6.257991e-17  1.000184   \n",
       "tukey_Income composition of resources  2725.0 -2.816096e-16  1.000184   \n",
       "tukey_Schooling                        2725.0 -7.300990e-17  1.000184   \n",
       "tukey_boxcox_Adult Mortality           2725.0 -2.816096e-16  1.000184   \n",
       "Year                                   2725.0  2.007523e+03  4.604145   \n",
       "\n",
       "                                               min          25%          50%  \\\n",
       "BMI                                      -1.890303    -0.963175     0.271317   \n",
       "boxcox_Alcohol                           -1.448061    -1.006128     0.115645   \n",
       "boxcox_infant deaths                     -1.198790    -1.198790    -0.001469   \n",
       "boxcox_percentage expenditure            -1.562651    -0.718139     0.019572   \n",
       "boxcox_Measles                           -1.119683    -1.119683     0.030866   \n",
       "boxcox_under-five deaths                 -1.226109    -1.226109    -0.106175   \n",
       "boxcox_Polio                             -2.309034    -0.648531     0.436266   \n",
       "boxcox_Diphtheria                        -2.306238    -0.598036     0.434691   \n",
       "boxcox_HIV/AIDS                          -0.693770    -0.693770    -0.693770   \n",
       "boxcox_thinness  1-19 years              -2.114063    -0.774340    -0.012170   \n",
       "boxcox_thinness 5-9 years                -2.064868    -0.767341    -0.019413   \n",
       "tukey_Life expectancy                    -2.527279    -0.616042     0.290986   \n",
       "tukey_Total expenditure                  -2.322819    -0.682518    -0.071095   \n",
       "tukey_Income composition of resources    -2.835189    -0.691070     0.224567   \n",
       "tukey_Schooling                          -2.579824    -0.618518     0.083087   \n",
       "tukey_boxcox_Adult Mortality             -2.341089    -0.617176     0.077240   \n",
       "Year                                   2000.000000  2004.000000  2008.000000   \n",
       "\n",
       "                                               75%          max  \n",
       "BMI                                       0.886044     1.969374  \n",
       "boxcox_Alcohol                            0.875360     2.026883  \n",
       "boxcox_infant deaths                      0.916061     2.186640  \n",
       "boxcox_percentage expenditure             0.729690     2.311597  \n",
       "boxcox_Measles                            0.911973     1.985770  \n",
       "boxcox_under-five deaths                  0.896185     2.175165  \n",
       "boxcox_Polio                              0.787873     0.974197  \n",
       "boxcox_Diphtheria                         0.790917     0.979921  \n",
       "boxcox_HIV/AIDS                           0.809008     1.935057  \n",
       "boxcox_thinness  1-19 years               0.837420     2.388959  \n",
       "boxcox_thinness 5-9 years                 0.839333     2.426167  \n",
       "tukey_Life expectancy                     0.658116     2.105041  \n",
       "tukey_Total expenditure                   0.666830     2.690852  \n",
       "tukey_Income composition of resources     0.738342     1.587851  \n",
       "tukey_Schooling                           0.689018     2.650323  \n",
       "tukey_boxcox_Adult Mortality              0.664114     2.586049  \n",
       "Year                                   2012.000000  2015.000000  "
      ]
     },
     "execution_count": 58,
     "metadata": {},
     "output_type": "execute_result"
    }
   ],
   "source": [
    "df_standardized.describe().T"
   ]
  },
  {
   "cell_type": "markdown",
   "metadata": {},
   "source": [
    "### Correlations"
   ]
  },
  {
   "cell_type": "code",
   "execution_count": 59,
   "metadata": {},
   "outputs": [
    {
     "data": {
      "text/html": [
       "<div>\n",
       "<style scoped>\n",
       "    .dataframe tbody tr th:only-of-type {\n",
       "        vertical-align: middle;\n",
       "    }\n",
       "\n",
       "    .dataframe tbody tr th {\n",
       "        vertical-align: top;\n",
       "    }\n",
       "\n",
       "    .dataframe thead th {\n",
       "        text-align: right;\n",
       "    }\n",
       "</style>\n",
       "<table border=\"1\" class=\"dataframe\">\n",
       "  <thead>\n",
       "    <tr style=\"text-align: right;\">\n",
       "      <th></th>\n",
       "      <th>BMI</th>\n",
       "      <th>boxcox_Alcohol</th>\n",
       "      <th>boxcox_infant deaths</th>\n",
       "      <th>boxcox_percentage expenditure</th>\n",
       "      <th>boxcox_Measles</th>\n",
       "      <th>boxcox_under-five deaths</th>\n",
       "      <th>boxcox_Polio</th>\n",
       "      <th>boxcox_Diphtheria</th>\n",
       "      <th>boxcox_HIV/AIDS</th>\n",
       "      <th>boxcox_thinness  1-19 years</th>\n",
       "      <th>boxcox_thinness 5-9 years</th>\n",
       "      <th>tukey_Life expectancy</th>\n",
       "      <th>tukey_Total expenditure</th>\n",
       "      <th>tukey_Income composition of resources</th>\n",
       "      <th>tukey_Schooling</th>\n",
       "      <th>tukey_boxcox_Adult Mortality</th>\n",
       "    </tr>\n",
       "  </thead>\n",
       "  <tbody>\n",
       "    <tr>\n",
       "      <th>BMI</th>\n",
       "      <td>1.000000</td>\n",
       "      <td>0.302452</td>\n",
       "      <td>-0.468118</td>\n",
       "      <td>0.270269</td>\n",
       "      <td>-0.300027</td>\n",
       "      <td>-0.482011</td>\n",
       "      <td>0.338247</td>\n",
       "      <td>0.335462</td>\n",
       "      <td>-0.502723</td>\n",
       "      <td>-0.551084</td>\n",
       "      <td>-0.564553</td>\n",
       "      <td>0.566119</td>\n",
       "      <td>0.216339</td>\n",
       "      <td>0.535316</td>\n",
       "      <td>0.576403</td>\n",
       "      <td>-0.337204</td>\n",
       "    </tr>\n",
       "    <tr>\n",
       "      <th>boxcox_Alcohol</th>\n",
       "      <td>0.302452</td>\n",
       "      <td>1.000000</td>\n",
       "      <td>-0.380683</td>\n",
       "      <td>0.360322</td>\n",
       "      <td>-0.220976</td>\n",
       "      <td>-0.378535</td>\n",
       "      <td>0.246768</td>\n",
       "      <td>0.249805</td>\n",
       "      <td>-0.156757</td>\n",
       "      <td>-0.451430</td>\n",
       "      <td>-0.443607</td>\n",
       "      <td>0.354466</td>\n",
       "      <td>0.305198</td>\n",
       "      <td>0.422644</td>\n",
       "      <td>0.514903</td>\n",
       "      <td>-0.151048</td>\n",
       "    </tr>\n",
       "    <tr>\n",
       "      <th>boxcox_infant deaths</th>\n",
       "      <td>-0.468118</td>\n",
       "      <td>-0.380683</td>\n",
       "      <td>1.000000</td>\n",
       "      <td>-0.339953</td>\n",
       "      <td>0.569135</td>\n",
       "      <td>0.993917</td>\n",
       "      <td>-0.426029</td>\n",
       "      <td>-0.409901</td>\n",
       "      <td>0.451126</td>\n",
       "      <td>0.467724</td>\n",
       "      <td>0.482526</td>\n",
       "      <td>-0.589722</td>\n",
       "      <td>-0.209963</td>\n",
       "      <td>-0.468485</td>\n",
       "      <td>-0.577615</td>\n",
       "      <td>0.342236</td>\n",
       "    </tr>\n",
       "    <tr>\n",
       "      <th>boxcox_percentage expenditure</th>\n",
       "      <td>0.270269</td>\n",
       "      <td>0.360322</td>\n",
       "      <td>-0.339953</td>\n",
       "      <td>1.000000</td>\n",
       "      <td>-0.118971</td>\n",
       "      <td>-0.344562</td>\n",
       "      <td>0.227812</td>\n",
       "      <td>0.226145</td>\n",
       "      <td>-0.234957</td>\n",
       "      <td>-0.329899</td>\n",
       "      <td>-0.341102</td>\n",
       "      <td>0.408634</td>\n",
       "      <td>0.153891</td>\n",
       "      <td>0.417243</td>\n",
       "      <td>0.448306</td>\n",
       "      <td>-0.265356</td>\n",
       "    </tr>\n",
       "    <tr>\n",
       "      <th>boxcox_Measles</th>\n",
       "      <td>-0.300027</td>\n",
       "      <td>-0.220976</td>\n",
       "      <td>0.569135</td>\n",
       "      <td>-0.118971</td>\n",
       "      <td>1.000000</td>\n",
       "      <td>0.570766</td>\n",
       "      <td>-0.268704</td>\n",
       "      <td>-0.278449</td>\n",
       "      <td>0.213703</td>\n",
       "      <td>0.330832</td>\n",
       "      <td>0.343973</td>\n",
       "      <td>-0.307510</td>\n",
       "      <td>-0.165971</td>\n",
       "      <td>-0.212261</td>\n",
       "      <td>-0.297711</td>\n",
       "      <td>0.136315</td>\n",
       "    </tr>\n",
       "    <tr>\n",
       "      <th>boxcox_under-five deaths</th>\n",
       "      <td>-0.482011</td>\n",
       "      <td>-0.378535</td>\n",
       "      <td>0.993917</td>\n",
       "      <td>-0.344562</td>\n",
       "      <td>0.570766</td>\n",
       "      <td>1.000000</td>\n",
       "      <td>-0.433512</td>\n",
       "      <td>-0.417684</td>\n",
       "      <td>0.479464</td>\n",
       "      <td>0.475611</td>\n",
       "      <td>0.489755</td>\n",
       "      <td>-0.612299</td>\n",
       "      <td>-0.213759</td>\n",
       "      <td>-0.481151</td>\n",
       "      <td>-0.591628</td>\n",
       "      <td>0.356684</td>\n",
       "    </tr>\n",
       "    <tr>\n",
       "      <th>boxcox_Polio</th>\n",
       "      <td>0.338247</td>\n",
       "      <td>0.246768</td>\n",
       "      <td>-0.426029</td>\n",
       "      <td>0.227812</td>\n",
       "      <td>-0.268704</td>\n",
       "      <td>-0.433512</td>\n",
       "      <td>1.000000</td>\n",
       "      <td>0.866996</td>\n",
       "      <td>-0.479503</td>\n",
       "      <td>-0.233890</td>\n",
       "      <td>-0.239477</td>\n",
       "      <td>0.564635</td>\n",
       "      <td>0.158585</td>\n",
       "      <td>0.488700</td>\n",
       "      <td>0.521874</td>\n",
       "      <td>-0.281935</td>\n",
       "    </tr>\n",
       "    <tr>\n",
       "      <th>boxcox_Diphtheria</th>\n",
       "      <td>0.335462</td>\n",
       "      <td>0.249805</td>\n",
       "      <td>-0.409901</td>\n",
       "      <td>0.226145</td>\n",
       "      <td>-0.278449</td>\n",
       "      <td>-0.417684</td>\n",
       "      <td>0.866996</td>\n",
       "      <td>1.000000</td>\n",
       "      <td>-0.476305</td>\n",
       "      <td>-0.235357</td>\n",
       "      <td>-0.238509</td>\n",
       "      <td>0.567146</td>\n",
       "      <td>0.162398</td>\n",
       "      <td>0.499512</td>\n",
       "      <td>0.528134</td>\n",
       "      <td>-0.275799</td>\n",
       "    </tr>\n",
       "    <tr>\n",
       "      <th>boxcox_HIV/AIDS</th>\n",
       "      <td>-0.502723</td>\n",
       "      <td>-0.156757</td>\n",
       "      <td>0.451126</td>\n",
       "      <td>-0.234957</td>\n",
       "      <td>0.213703</td>\n",
       "      <td>0.479464</td>\n",
       "      <td>-0.479503</td>\n",
       "      <td>-0.476305</td>\n",
       "      <td>1.000000</td>\n",
       "      <td>0.428951</td>\n",
       "      <td>0.414002</td>\n",
       "      <td>-0.801566</td>\n",
       "      <td>-0.099230</td>\n",
       "      <td>-0.574006</td>\n",
       "      <td>-0.606576</td>\n",
       "      <td>0.490736</td>\n",
       "    </tr>\n",
       "    <tr>\n",
       "      <th>boxcox_thinness  1-19 years</th>\n",
       "      <td>-0.551084</td>\n",
       "      <td>-0.451430</td>\n",
       "      <td>0.467724</td>\n",
       "      <td>-0.329899</td>\n",
       "      <td>0.330832</td>\n",
       "      <td>0.475611</td>\n",
       "      <td>-0.233890</td>\n",
       "      <td>-0.235357</td>\n",
       "      <td>0.428951</td>\n",
       "      <td>1.000000</td>\n",
       "      <td>0.950931</td>\n",
       "      <td>-0.543315</td>\n",
       "      <td>-0.319450</td>\n",
       "      <td>-0.489989</td>\n",
       "      <td>-0.548702</td>\n",
       "      <td>0.314512</td>\n",
       "    </tr>\n",
       "    <tr>\n",
       "      <th>boxcox_thinness 5-9 years</th>\n",
       "      <td>-0.564553</td>\n",
       "      <td>-0.443607</td>\n",
       "      <td>0.482526</td>\n",
       "      <td>-0.341102</td>\n",
       "      <td>0.343973</td>\n",
       "      <td>0.489755</td>\n",
       "      <td>-0.239477</td>\n",
       "      <td>-0.238509</td>\n",
       "      <td>0.414002</td>\n",
       "      <td>0.950931</td>\n",
       "      <td>1.000000</td>\n",
       "      <td>-0.547670</td>\n",
       "      <td>-0.334947</td>\n",
       "      <td>-0.485749</td>\n",
       "      <td>-0.547761</td>\n",
       "      <td>0.328509</td>\n",
       "    </tr>\n",
       "    <tr>\n",
       "      <th>tukey_Life expectancy</th>\n",
       "      <td>0.566119</td>\n",
       "      <td>0.354466</td>\n",
       "      <td>-0.589722</td>\n",
       "      <td>0.408634</td>\n",
       "      <td>-0.307510</td>\n",
       "      <td>-0.612299</td>\n",
       "      <td>0.564635</td>\n",
       "      <td>0.567146</td>\n",
       "      <td>-0.801566</td>\n",
       "      <td>-0.543315</td>\n",
       "      <td>-0.547670</td>\n",
       "      <td>1.000000</td>\n",
       "      <td>0.204202</td>\n",
       "      <td>0.756760</td>\n",
       "      <td>0.776240</td>\n",
       "      <td>-0.567259</td>\n",
       "    </tr>\n",
       "    <tr>\n",
       "      <th>tukey_Total expenditure</th>\n",
       "      <td>0.216339</td>\n",
       "      <td>0.305198</td>\n",
       "      <td>-0.209963</td>\n",
       "      <td>0.153891</td>\n",
       "      <td>-0.165971</td>\n",
       "      <td>-0.213759</td>\n",
       "      <td>0.158585</td>\n",
       "      <td>0.162398</td>\n",
       "      <td>-0.099230</td>\n",
       "      <td>-0.319450</td>\n",
       "      <td>-0.334947</td>\n",
       "      <td>0.204202</td>\n",
       "      <td>1.000000</td>\n",
       "      <td>0.181364</td>\n",
       "      <td>0.278605</td>\n",
       "      <td>-0.111477</td>\n",
       "    </tr>\n",
       "    <tr>\n",
       "      <th>tukey_Income composition of resources</th>\n",
       "      <td>0.535316</td>\n",
       "      <td>0.422644</td>\n",
       "      <td>-0.468485</td>\n",
       "      <td>0.417243</td>\n",
       "      <td>-0.212261</td>\n",
       "      <td>-0.481151</td>\n",
       "      <td>0.488700</td>\n",
       "      <td>0.499512</td>\n",
       "      <td>-0.574006</td>\n",
       "      <td>-0.489989</td>\n",
       "      <td>-0.485749</td>\n",
       "      <td>0.756760</td>\n",
       "      <td>0.181364</td>\n",
       "      <td>1.000000</td>\n",
       "      <td>0.811049</td>\n",
       "      <td>-0.420300</td>\n",
       "    </tr>\n",
       "    <tr>\n",
       "      <th>tukey_Schooling</th>\n",
       "      <td>0.576403</td>\n",
       "      <td>0.514903</td>\n",
       "      <td>-0.577615</td>\n",
       "      <td>0.448306</td>\n",
       "      <td>-0.297711</td>\n",
       "      <td>-0.591628</td>\n",
       "      <td>0.521874</td>\n",
       "      <td>0.528134</td>\n",
       "      <td>-0.606576</td>\n",
       "      <td>-0.548702</td>\n",
       "      <td>-0.547761</td>\n",
       "      <td>0.776240</td>\n",
       "      <td>0.278605</td>\n",
       "      <td>0.811049</td>\n",
       "      <td>1.000000</td>\n",
       "      <td>-0.413706</td>\n",
       "    </tr>\n",
       "    <tr>\n",
       "      <th>tukey_boxcox_Adult Mortality</th>\n",
       "      <td>-0.337204</td>\n",
       "      <td>-0.151048</td>\n",
       "      <td>0.342236</td>\n",
       "      <td>-0.265356</td>\n",
       "      <td>0.136315</td>\n",
       "      <td>0.356684</td>\n",
       "      <td>-0.281935</td>\n",
       "      <td>-0.275799</td>\n",
       "      <td>0.490736</td>\n",
       "      <td>0.314512</td>\n",
       "      <td>0.328509</td>\n",
       "      <td>-0.567259</td>\n",
       "      <td>-0.111477</td>\n",
       "      <td>-0.420300</td>\n",
       "      <td>-0.413706</td>\n",
       "      <td>1.000000</td>\n",
       "    </tr>\n",
       "  </tbody>\n",
       "</table>\n",
       "</div>"
      ],
      "text/plain": [
       "                                            BMI  boxcox_Alcohol  \\\n",
       "BMI                                    1.000000        0.302452   \n",
       "boxcox_Alcohol                         0.302452        1.000000   \n",
       "boxcox_infant deaths                  -0.468118       -0.380683   \n",
       "boxcox_percentage expenditure          0.270269        0.360322   \n",
       "boxcox_Measles                        -0.300027       -0.220976   \n",
       "boxcox_under-five deaths              -0.482011       -0.378535   \n",
       "boxcox_Polio                           0.338247        0.246768   \n",
       "boxcox_Diphtheria                      0.335462        0.249805   \n",
       "boxcox_HIV/AIDS                       -0.502723       -0.156757   \n",
       "boxcox_thinness  1-19 years           -0.551084       -0.451430   \n",
       "boxcox_thinness 5-9 years             -0.564553       -0.443607   \n",
       "tukey_Life expectancy                  0.566119        0.354466   \n",
       "tukey_Total expenditure                0.216339        0.305198   \n",
       "tukey_Income composition of resources  0.535316        0.422644   \n",
       "tukey_Schooling                        0.576403        0.514903   \n",
       "tukey_boxcox_Adult Mortality          -0.337204       -0.151048   \n",
       "\n",
       "                                       boxcox_infant deaths  \\\n",
       "BMI                                               -0.468118   \n",
       "boxcox_Alcohol                                    -0.380683   \n",
       "boxcox_infant deaths                               1.000000   \n",
       "boxcox_percentage expenditure                     -0.339953   \n",
       "boxcox_Measles                                     0.569135   \n",
       "boxcox_under-five deaths                           0.993917   \n",
       "boxcox_Polio                                      -0.426029   \n",
       "boxcox_Diphtheria                                 -0.409901   \n",
       "boxcox_HIV/AIDS                                    0.451126   \n",
       "boxcox_thinness  1-19 years                        0.467724   \n",
       "boxcox_thinness 5-9 years                          0.482526   \n",
       "tukey_Life expectancy                             -0.589722   \n",
       "tukey_Total expenditure                           -0.209963   \n",
       "tukey_Income composition of resources             -0.468485   \n",
       "tukey_Schooling                                   -0.577615   \n",
       "tukey_boxcox_Adult Mortality                       0.342236   \n",
       "\n",
       "                                       boxcox_percentage expenditure  \\\n",
       "BMI                                                         0.270269   \n",
       "boxcox_Alcohol                                              0.360322   \n",
       "boxcox_infant deaths                                       -0.339953   \n",
       "boxcox_percentage expenditure                               1.000000   \n",
       "boxcox_Measles                                             -0.118971   \n",
       "boxcox_under-five deaths                                   -0.344562   \n",
       "boxcox_Polio                                                0.227812   \n",
       "boxcox_Diphtheria                                           0.226145   \n",
       "boxcox_HIV/AIDS                                            -0.234957   \n",
       "boxcox_thinness  1-19 years                                -0.329899   \n",
       "boxcox_thinness 5-9 years                                  -0.341102   \n",
       "tukey_Life expectancy                                       0.408634   \n",
       "tukey_Total expenditure                                     0.153891   \n",
       "tukey_Income composition of resources                       0.417243   \n",
       "tukey_Schooling                                             0.448306   \n",
       "tukey_boxcox_Adult Mortality                               -0.265356   \n",
       "\n",
       "                                       boxcox_Measles  \\\n",
       "BMI                                         -0.300027   \n",
       "boxcox_Alcohol                              -0.220976   \n",
       "boxcox_infant deaths                         0.569135   \n",
       "boxcox_percentage expenditure               -0.118971   \n",
       "boxcox_Measles                               1.000000   \n",
       "boxcox_under-five deaths                     0.570766   \n",
       "boxcox_Polio                                -0.268704   \n",
       "boxcox_Diphtheria                           -0.278449   \n",
       "boxcox_HIV/AIDS                              0.213703   \n",
       "boxcox_thinness  1-19 years                  0.330832   \n",
       "boxcox_thinness 5-9 years                    0.343973   \n",
       "tukey_Life expectancy                       -0.307510   \n",
       "tukey_Total expenditure                     -0.165971   \n",
       "tukey_Income composition of resources       -0.212261   \n",
       "tukey_Schooling                             -0.297711   \n",
       "tukey_boxcox_Adult Mortality                 0.136315   \n",
       "\n",
       "                                       boxcox_under-five deaths  boxcox_Polio  \\\n",
       "BMI                                                   -0.482011      0.338247   \n",
       "boxcox_Alcohol                                        -0.378535      0.246768   \n",
       "boxcox_infant deaths                                   0.993917     -0.426029   \n",
       "boxcox_percentage expenditure                         -0.344562      0.227812   \n",
       "boxcox_Measles                                         0.570766     -0.268704   \n",
       "boxcox_under-five deaths                               1.000000     -0.433512   \n",
       "boxcox_Polio                                          -0.433512      1.000000   \n",
       "boxcox_Diphtheria                                     -0.417684      0.866996   \n",
       "boxcox_HIV/AIDS                                        0.479464     -0.479503   \n",
       "boxcox_thinness  1-19 years                            0.475611     -0.233890   \n",
       "boxcox_thinness 5-9 years                              0.489755     -0.239477   \n",
       "tukey_Life expectancy                                 -0.612299      0.564635   \n",
       "tukey_Total expenditure                               -0.213759      0.158585   \n",
       "tukey_Income composition of resources                 -0.481151      0.488700   \n",
       "tukey_Schooling                                       -0.591628      0.521874   \n",
       "tukey_boxcox_Adult Mortality                           0.356684     -0.281935   \n",
       "\n",
       "                                       boxcox_Diphtheria  boxcox_HIV/AIDS  \\\n",
       "BMI                                             0.335462        -0.502723   \n",
       "boxcox_Alcohol                                  0.249805        -0.156757   \n",
       "boxcox_infant deaths                           -0.409901         0.451126   \n",
       "boxcox_percentage expenditure                   0.226145        -0.234957   \n",
       "boxcox_Measles                                 -0.278449         0.213703   \n",
       "boxcox_under-five deaths                       -0.417684         0.479464   \n",
       "boxcox_Polio                                    0.866996        -0.479503   \n",
       "boxcox_Diphtheria                               1.000000        -0.476305   \n",
       "boxcox_HIV/AIDS                                -0.476305         1.000000   \n",
       "boxcox_thinness  1-19 years                    -0.235357         0.428951   \n",
       "boxcox_thinness 5-9 years                      -0.238509         0.414002   \n",
       "tukey_Life expectancy                           0.567146        -0.801566   \n",
       "tukey_Total expenditure                         0.162398        -0.099230   \n",
       "tukey_Income composition of resources           0.499512        -0.574006   \n",
       "tukey_Schooling                                 0.528134        -0.606576   \n",
       "tukey_boxcox_Adult Mortality                   -0.275799         0.490736   \n",
       "\n",
       "                                       boxcox_thinness  1-19 years  \\\n",
       "BMI                                                      -0.551084   \n",
       "boxcox_Alcohol                                           -0.451430   \n",
       "boxcox_infant deaths                                      0.467724   \n",
       "boxcox_percentage expenditure                            -0.329899   \n",
       "boxcox_Measles                                            0.330832   \n",
       "boxcox_under-five deaths                                  0.475611   \n",
       "boxcox_Polio                                             -0.233890   \n",
       "boxcox_Diphtheria                                        -0.235357   \n",
       "boxcox_HIV/AIDS                                           0.428951   \n",
       "boxcox_thinness  1-19 years                               1.000000   \n",
       "boxcox_thinness 5-9 years                                 0.950931   \n",
       "tukey_Life expectancy                                    -0.543315   \n",
       "tukey_Total expenditure                                  -0.319450   \n",
       "tukey_Income composition of resources                    -0.489989   \n",
       "tukey_Schooling                                          -0.548702   \n",
       "tukey_boxcox_Adult Mortality                              0.314512   \n",
       "\n",
       "                                       boxcox_thinness 5-9 years  \\\n",
       "BMI                                                    -0.564553   \n",
       "boxcox_Alcohol                                         -0.443607   \n",
       "boxcox_infant deaths                                    0.482526   \n",
       "boxcox_percentage expenditure                          -0.341102   \n",
       "boxcox_Measles                                          0.343973   \n",
       "boxcox_under-five deaths                                0.489755   \n",
       "boxcox_Polio                                           -0.239477   \n",
       "boxcox_Diphtheria                                      -0.238509   \n",
       "boxcox_HIV/AIDS                                         0.414002   \n",
       "boxcox_thinness  1-19 years                             0.950931   \n",
       "boxcox_thinness 5-9 years                               1.000000   \n",
       "tukey_Life expectancy                                  -0.547670   \n",
       "tukey_Total expenditure                                -0.334947   \n",
       "tukey_Income composition of resources                  -0.485749   \n",
       "tukey_Schooling                                        -0.547761   \n",
       "tukey_boxcox_Adult Mortality                            0.328509   \n",
       "\n",
       "                                       tukey_Life expectancy  \\\n",
       "BMI                                                 0.566119   \n",
       "boxcox_Alcohol                                      0.354466   \n",
       "boxcox_infant deaths                               -0.589722   \n",
       "boxcox_percentage expenditure                       0.408634   \n",
       "boxcox_Measles                                     -0.307510   \n",
       "boxcox_under-five deaths                           -0.612299   \n",
       "boxcox_Polio                                        0.564635   \n",
       "boxcox_Diphtheria                                   0.567146   \n",
       "boxcox_HIV/AIDS                                    -0.801566   \n",
       "boxcox_thinness  1-19 years                        -0.543315   \n",
       "boxcox_thinness 5-9 years                          -0.547670   \n",
       "tukey_Life expectancy                               1.000000   \n",
       "tukey_Total expenditure                             0.204202   \n",
       "tukey_Income composition of resources               0.756760   \n",
       "tukey_Schooling                                     0.776240   \n",
       "tukey_boxcox_Adult Mortality                       -0.567259   \n",
       "\n",
       "                                       tukey_Total expenditure  \\\n",
       "BMI                                                   0.216339   \n",
       "boxcox_Alcohol                                        0.305198   \n",
       "boxcox_infant deaths                                 -0.209963   \n",
       "boxcox_percentage expenditure                         0.153891   \n",
       "boxcox_Measles                                       -0.165971   \n",
       "boxcox_under-five deaths                             -0.213759   \n",
       "boxcox_Polio                                          0.158585   \n",
       "boxcox_Diphtheria                                     0.162398   \n",
       "boxcox_HIV/AIDS                                      -0.099230   \n",
       "boxcox_thinness  1-19 years                          -0.319450   \n",
       "boxcox_thinness 5-9 years                            -0.334947   \n",
       "tukey_Life expectancy                                 0.204202   \n",
       "tukey_Total expenditure                               1.000000   \n",
       "tukey_Income composition of resources                 0.181364   \n",
       "tukey_Schooling                                       0.278605   \n",
       "tukey_boxcox_Adult Mortality                         -0.111477   \n",
       "\n",
       "                                       tukey_Income composition of resources  \\\n",
       "BMI                                                                 0.535316   \n",
       "boxcox_Alcohol                                                      0.422644   \n",
       "boxcox_infant deaths                                               -0.468485   \n",
       "boxcox_percentage expenditure                                       0.417243   \n",
       "boxcox_Measles                                                     -0.212261   \n",
       "boxcox_under-five deaths                                           -0.481151   \n",
       "boxcox_Polio                                                        0.488700   \n",
       "boxcox_Diphtheria                                                   0.499512   \n",
       "boxcox_HIV/AIDS                                                    -0.574006   \n",
       "boxcox_thinness  1-19 years                                        -0.489989   \n",
       "boxcox_thinness 5-9 years                                          -0.485749   \n",
       "tukey_Life expectancy                                               0.756760   \n",
       "tukey_Total expenditure                                             0.181364   \n",
       "tukey_Income composition of resources                               1.000000   \n",
       "tukey_Schooling                                                     0.811049   \n",
       "tukey_boxcox_Adult Mortality                                       -0.420300   \n",
       "\n",
       "                                       tukey_Schooling  \\\n",
       "BMI                                           0.576403   \n",
       "boxcox_Alcohol                                0.514903   \n",
       "boxcox_infant deaths                         -0.577615   \n",
       "boxcox_percentage expenditure                 0.448306   \n",
       "boxcox_Measles                               -0.297711   \n",
       "boxcox_under-five deaths                     -0.591628   \n",
       "boxcox_Polio                                  0.521874   \n",
       "boxcox_Diphtheria                             0.528134   \n",
       "boxcox_HIV/AIDS                              -0.606576   \n",
       "boxcox_thinness  1-19 years                  -0.548702   \n",
       "boxcox_thinness 5-9 years                    -0.547761   \n",
       "tukey_Life expectancy                         0.776240   \n",
       "tukey_Total expenditure                       0.278605   \n",
       "tukey_Income composition of resources         0.811049   \n",
       "tukey_Schooling                               1.000000   \n",
       "tukey_boxcox_Adult Mortality                 -0.413706   \n",
       "\n",
       "                                       tukey_boxcox_Adult Mortality  \n",
       "BMI                                                       -0.337204  \n",
       "boxcox_Alcohol                                            -0.151048  \n",
       "boxcox_infant deaths                                       0.342236  \n",
       "boxcox_percentage expenditure                             -0.265356  \n",
       "boxcox_Measles                                             0.136315  \n",
       "boxcox_under-five deaths                                   0.356684  \n",
       "boxcox_Polio                                              -0.281935  \n",
       "boxcox_Diphtheria                                         -0.275799  \n",
       "boxcox_HIV/AIDS                                            0.490736  \n",
       "boxcox_thinness  1-19 years                                0.314512  \n",
       "boxcox_thinness 5-9 years                                  0.328509  \n",
       "tukey_Life expectancy                                     -0.567259  \n",
       "tukey_Total expenditure                                   -0.111477  \n",
       "tukey_Income composition of resources                     -0.420300  \n",
       "tukey_Schooling                                           -0.413706  \n",
       "tukey_boxcox_Adult Mortality                               1.000000  "
      ]
     },
     "execution_count": 59,
     "metadata": {},
     "output_type": "execute_result"
    }
   ],
   "source": [
    "df_standardized.loc[:, columns_to_standardize].corr()"
   ]
  },
  {
   "cell_type": "code",
   "execution_count": 60,
   "metadata": {},
   "outputs": [
    {
     "data": {
      "image/png": "[encoded data removed]",
      "text/plain": [
       "<Figure size 720x576 with 2 Axes>"
      ]
     },
     "metadata": {
      "needs_background": "light"
     },
     "output_type": "display_data"
    }
   ],
   "source": [
    "f, axes = plt.subplots(1, 1, figsize=(10, 8))\n",
    "sns.heatmap(df_standardized.loc[:, columns_to_standardize].corr(), ax=axes)\n",
    "plt.show()"
   ]
  },
  {
   "cell_type": "code",
   "execution_count": 61,
   "metadata": {},
   "outputs": [
    {
     "data": {
      "text/plain": [
       "boxcox_HIV/AIDS                         -0.801566\n",
       "boxcox_under-five deaths                -0.612299\n",
       "boxcox_infant deaths                    -0.589722\n",
       "tukey_boxcox_Adult Mortality            -0.567259\n",
       "boxcox_thinness 5-9 years               -0.547670\n",
       "boxcox_thinness  1-19 years             -0.543315\n",
       "boxcox_Measles                          -0.307510\n",
       "tukey_Total expenditure                  0.204202\n",
       "boxcox_Alcohol                           0.354466\n",
       "boxcox_percentage expenditure            0.408634\n",
       "boxcox_Polio                             0.564635\n",
       "BMI                                      0.566119\n",
       "boxcox_Diphtheria                        0.567146\n",
       "tukey_Income composition of resources    0.756760\n",
       "tukey_Schooling                          0.776240\n",
       "tukey_Life expectancy                    1.000000\n",
       "Name: tukey_Life expectancy, dtype: float64"
      ]
     },
     "execution_count": 61,
     "metadata": {},
     "output_type": "execute_result"
    }
   ],
   "source": [
    "df_standardized.loc[:, columns_to_standardize].corr()['tukey_Life expectancy'].sort_values()"
   ]
  },
  {
   "cell_type": "code",
   "execution_count": 62,
   "metadata": {},
   "outputs": [],
   "source": [
    "life_expectancy_feature_correlations = df_standardized.loc[:, \n",
    "                                                           columns_to_standardize].corr()['tukey_Life expectancy'].sort_values()"
   ]
  },
  {
   "cell_type": "code",
   "execution_count": 63,
   "metadata": {},
   "outputs": [],
   "source": [
    "trimmed_features = life_expectancy_feature_correlations[(life_expectancy_feature_correlations > 0.6) |\n",
    "                                                        (life_expectancy_feature_correlations < -0.6)]"
   ]
  },
  {
   "cell_type": "code",
   "execution_count": 64,
   "metadata": {},
   "outputs": [
    {
     "data": {
      "text/plain": [
       "['boxcox_HIV/AIDS',\n",
       " 'boxcox_under-five deaths',\n",
       " 'tukey_Income composition of resources',\n",
       " 'tukey_Schooling',\n",
       " 'tukey_Life expectancy']"
      ]
     },
     "execution_count": 64,
     "metadata": {},
     "output_type": "execute_result"
    }
   ],
   "source": [
    "trimmed_features.index.tolist()"
   ]
  },
  {
   "cell_type": "code",
   "execution_count": 65,
   "metadata": {},
   "outputs": [
    {
     "data": {
      "image/png": "[encoded data removed]",
      "text/plain": [
       "<Figure size 432x360 with 2 Axes>"
      ]
     },
     "metadata": {
      "needs_background": "light"
     },
     "output_type": "display_data"
    }
   ],
   "source": [
    "f, axes = plt.subplots(1, 1, figsize=(6, 5))\n",
    "sns.heatmap(df_standardized.loc[:, trimmed_features.index.tolist()].corr(), ax=axes)\n",
    "plt.show()"
   ]
  },
  {
   "cell_type": "code",
   "execution_count": 66,
   "metadata": {},
   "outputs": [],
   "source": [
    "df_model = df_standardized.loc[:, trimmed_features.index.tolist()].copy()"
   ]
  },
  {
   "cell_type": "markdown",
   "metadata": {},
   "source": [
    "### PCA\n",
    "After narrowing the feature space, let's see if PCA can further reduce the number of features"
   ]
  },
  {
   "cell_type": "code",
   "execution_count": 67,
   "metadata": {},
   "outputs": [],
   "source": [
    "feature_list = ['boxcox_HIV/AIDS', 'boxcox_under-five deaths', 'tukey_Income composition of resources',\n",
    "                'tukey_Schooling']\n",
    "\n",
    "X = df_model.loc[:, feature_list]\n",
    "\n",
    "sklearn_pca = PCA()\n",
    "Y_sklearn = sklearn_pca.fit_transform(X)"
   ]
  },
  {
   "cell_type": "code",
   "execution_count": 68,
   "metadata": {},
   "outputs": [
    {
     "name": "stdout",
     "output_type": "stream",
     "text": [
      "[0.69640521 0.14011985 0.11950773 0.04396721]\n"
     ]
    }
   ],
   "source": [
    "variance_explained = sklearn_pca.explained_variance_ratio_\n",
    "print(variance_explained)"
   ]
  },
  {
   "cell_type": "code",
   "execution_count": 69,
   "metadata": {},
   "outputs": [
    {
     "name": "stdout",
     "output_type": "stream",
     "text": [
      "The first component explains 0.696 fraction of the variance.\n"
     ]
    }
   ],
   "source": [
    "print(f'The first component explains {variance_explained[0]:0.3f} fraction of the variance.')"
   ]
  },
  {
   "cell_type": "code",
   "execution_count": 70,
   "metadata": {},
   "outputs": [
    {
     "name": "stdout",
     "output_type": "stream",
     "text": [
      "The first two components explain 0.837 fraction of the variance.\n"
     ]
    }
   ],
   "source": [
    "two_components_sum = variance_explained[0] + variance_explained[1]\n",
    "print(f'The first two components explain {two_components_sum:0.3f} fraction of the variance.')"
   ]
  },
  {
   "cell_type": "code",
   "execution_count": 71,
   "metadata": {},
   "outputs": [
    {
     "name": "stdout",
     "output_type": "stream",
     "text": [
      "The first three components explain 0.956 fraction of the variance.\n"
     ]
    }
   ],
   "source": [
    "three_components_sum = two_components_sum + variance_explained[2]\n",
    "print(f'The first three components explain {three_components_sum:0.3f} fraction of the variance.')"
   ]
  },
  {
   "cell_type": "markdown",
   "metadata": {},
   "source": [
    "Reducing the feature space to three components can explain 96% of the variance."
   ]
  },
  {
   "cell_type": "code",
   "execution_count": 72,
   "metadata": {},
   "outputs": [],
   "source": [
    "df_model['first_component'] = Y_sklearn[:, 0]\n",
    "df_model['second_component'] = Y_sklearn[:, 1]\n",
    "df_model['third_component'] = Y_sklearn[:, 2]"
   ]
  },
  {
   "cell_type": "code",
   "execution_count": 73,
   "metadata": {},
   "outputs": [
    {
     "data": {
      "image/png": "[encoded data removed]",
      "text/plain": [
       "<Figure size 432x360 with 2 Axes>"
      ]
     },
     "metadata": {
      "needs_background": "light"
     },
     "output_type": "display_data"
    }
   ],
   "source": [
    "f, axes = plt.subplots(1, 1, figsize=(6, 5))\n",
    "sns.heatmap(df_model.corr(), ax=axes)\n",
    "plt.show()"
   ]
  },
  {
   "cell_type": "code",
   "execution_count": 74,
   "metadata": {},
   "outputs": [
    {
     "data": {
      "text/plain": [
       "first_component                         -0.884357\n",
       "boxcox_HIV/AIDS                         -0.801566\n",
       "boxcox_under-five deaths                -0.612299\n",
       "second_component                        -0.066962\n",
       "third_component                          0.154854\n",
       "tukey_Income composition of resources    0.756760\n",
       "tukey_Schooling                          0.776240\n",
       "tukey_Life expectancy                    1.000000\n",
       "Name: tukey_Life expectancy, dtype: float64"
      ]
     },
     "execution_count": 74,
     "metadata": {},
     "output_type": "execute_result"
    }
   ],
   "source": [
    "df_model.corr()['tukey_Life expectancy'].sort_values()"
   ]
  },
  {
   "cell_type": "markdown",
   "metadata": {},
   "source": [
    "## Conclusions\n",
    "The variables most related, correlated, with Life Expectancy are: HIV/AIDS, under-five deaths, Income composition of resources, and Schooling. The feature space can be reduced to three components using PCA, which together explain 96% of the variance."
   ]
  },
  {
   "cell_type": "code",
   "execution_count": null,
   "metadata": {},
   "outputs": [],
   "source": []
  }
 ],
 "metadata": {
  "kernelspec": {
   "display_name": "Python 3",
   "language": "python",
   "name": "python3"
  },
  "language_info": {
   "codemirror_mode": {
    "name": "ipython",
    "version": 3
   },
   "file_extension": ".py",
   "mimetype": "text/x-python",
   "name": "python",
   "nbconvert_exporter": "python",
   "pygments_lexer": "ipython3",
   "version": "3.6.8"
  }
 },
 "nbformat": 4,
 "nbformat_minor": 2
}
