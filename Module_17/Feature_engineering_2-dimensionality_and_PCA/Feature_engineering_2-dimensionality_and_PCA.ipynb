{
 "cells": [
  {
   "cell_type": "markdown",
   "metadata": {},
   "source": [
    "# Feature engineering 2: dimensionality and PCA"
   ]
  },
  {
   "cell_type": "code",
   "execution_count": 1,
   "metadata": {},
   "outputs": [],
   "source": [
    "import matplotlib.pyplot as plt\n",
    "import numpy as np\n",
    "import pandas as pd\n",
    "import seaborn as sns\n",
    "from sklearn.preprocessing import StandardScaler\n",
    "from sklearn.decomposition import PCA\n",
    "from sqlalchemy import create_engine\n",
    "\n",
    "from config import usr, pwd, url, port, db\n",
    "\n",
    "%matplotlib inline"
   ]
  },
  {
   "cell_type": "code",
   "execution_count": 2,
   "metadata": {},
   "outputs": [],
   "source": [
    "engine = create_engine(f\"postgresql+psycopg2://{usr}:{pwd}@{url}:{port}/{db}\")"
   ]
  },
  {
   "cell_type": "code",
   "execution_count": 3,
   "metadata": {},
   "outputs": [],
   "source": [
    "query = f'''\n",
    "SELECT\n",
    "    *\n",
    "FROM\n",
    "    {db};\n",
    "'''"
   ]
  },
  {
   "cell_type": "code",
   "execution_count": 4,
   "metadata": {},
   "outputs": [],
   "source": [
    "df = pd.read_sql_query(query, con=engine)"
   ]
  },
  {
   "cell_type": "code",
   "execution_count": 5,
   "metadata": {},
   "outputs": [],
   "source": [
    "engine.dispose()"
   ]
  },
  {
   "cell_type": "code",
   "execution_count": 6,
   "metadata": {},
   "outputs": [
    {
     "name": "stdout",
     "output_type": "stream",
     "text": [
      "<class 'pandas.core.frame.DataFrame'>\n",
      "RangeIndex: 1492 entries, 0 to 1491\n",
      "Data columns (total 25 columns):\n",
      "PRIMARY_KEY                     1492 non-null object\n",
      "STATE                           1492 non-null object\n",
      "YEAR                            1492 non-null int64\n",
      "ENROLL                          1229 non-null float64\n",
      "TOTAL_REVENUE                   1280 non-null float64\n",
      "FEDERAL_REVENUE                 1280 non-null float64\n",
      "STATE_REVENUE                   1280 non-null float64\n",
      "LOCAL_REVENUE                   1280 non-null float64\n",
      "TOTAL_EXPENDITURE               1280 non-null float64\n",
      "INSTRUCTION_EXPENDITURE         1280 non-null float64\n",
      "SUPPORT_SERVICES_EXPENDITURE    1280 non-null float64\n",
      "OTHER_EXPENDITURE               1229 non-null float64\n",
      "CAPITAL_OUTLAY_EXPENDITURE      1280 non-null float64\n",
      "GRADES_PK_G                     1319 non-null float64\n",
      "GRADES_KG_G                     1360 non-null float64\n",
      "GRADES_4_G                      1361 non-null float64\n",
      "GRADES_8_G                      1361 non-null float64\n",
      "GRADES_12_G                     1361 non-null float64\n",
      "GRADES_1_8_G                    1361 non-null float64\n",
      "GRADES_9_12_G                   1361 non-null float64\n",
      "GRADES_ALL_G                    1319 non-null float64\n",
      "AVG_MATH_4_SCORE                536 non-null float64\n",
      "AVG_MATH_8_SCORE                532 non-null float64\n",
      "AVG_READING_4_SCORE             533 non-null float64\n",
      "AVG_READING_8_SCORE             498 non-null float64\n",
      "dtypes: float64(22), int64(1), object(2)\n",
      "memory usage: 291.5+ KB\n"
     ]
    }
   ],
   "source": [
    "df.info()"
   ]
  },
  {
   "cell_type": "markdown",
   "metadata": {},
   "source": [
    "## Missing values\n",
    "1. Split dataset by state.\n",
    "2. Sort subset by date.\n",
    "3. Find columns with missing data.\n",
    "4. Interpolate missing values using other values in column.\n",
    "5. If all values in column are missing, then skip that column."
   ]
  },
  {
   "cell_type": "code",
   "execution_count": 7,
   "metadata": {},
   "outputs": [],
   "source": [
    "def find_na_columns(df, display_fractions=False):\n",
    "    na_fractions = (df.isnull().sum()/df.isnull().count())*100\n",
    "    if display_fractions:\n",
    "        print(na_fractions)\n",
    "    return na_fractions[na_fractions != 0]"
   ]
  },
  {
   "cell_type": "code",
   "execution_count": 8,
   "metadata": {},
   "outputs": [],
   "source": [
    "def apply_interpolation(df):\n",
    "    states_list = np.unique(df['STATE'])\n",
    "    \n",
    "    states_df_list = []\n",
    "    for state in states_list:\n",
    "        df_state = df.loc[df['STATE'] == state, :].sort_values(by='YEAR').copy()\n",
    "    \n",
    "        na_fractions_state = find_na_columns(df_state.loc[df_state['STATE'] == state, :])\n",
    "        for column in na_fractions_state.index.tolist():\n",
    "            \n",
    "            if na_fractions_state[column] != 100.0:\n",
    "                df_state.loc[df_state['STATE'] == state,\n",
    "                             column] = df_state.loc[df_state['STATE'] == state,\n",
    "                                                    column].interpolate()\n",
    "    \n",
    "        states_df_list.append(df_state)\n",
    "        \n",
    "    df_interpolated = pd.concat(states_df_list)\n",
    "    df_interpolated.index = np.arange(len(df_interpolated))\n",
    "    \n",
    "    return df_interpolated"
   ]
  },
  {
   "cell_type": "code",
   "execution_count": 9,
   "metadata": {
    "scrolled": false
   },
   "outputs": [],
   "source": [
    "df_clean = apply_interpolation(df)"
   ]
  },
  {
   "cell_type": "code",
   "execution_count": 10,
   "metadata": {},
   "outputs": [],
   "source": [
    "all_columns = df_clean.columns"
   ]
  },
  {
   "cell_type": "markdown",
   "metadata": {},
   "source": [
    "### Data set subset"
   ]
  },
  {
   "cell_type": "code",
   "execution_count": 11,
   "metadata": {},
   "outputs": [],
   "source": [
    "columns = []\n",
    "columns += [x for x in all_columns if 'SCORE' in x]  # score columns\n",
    "columns += [x for x in all_columns if 'EXPENDITURE' in x]  # expenditure columns\n",
    "columns += ['GRADES_4_G', 'GRADES_8_G']  # grade columns"
   ]
  },
  {
   "cell_type": "markdown",
   "metadata": {},
   "source": [
    "As I continue the analysis, I am only interested in the following columns:"
   ]
  },
  {
   "cell_type": "code",
   "execution_count": 12,
   "metadata": {},
   "outputs": [
    {
     "name": "stdout",
     "output_type": "stream",
     "text": [
      "['AVG_MATH_4_SCORE', 'AVG_MATH_8_SCORE', 'AVG_READING_4_SCORE', 'AVG_READING_8_SCORE', 'TOTAL_EXPENDITURE', 'INSTRUCTION_EXPENDITURE', 'SUPPORT_SERVICES_EXPENDITURE', 'OTHER_EXPENDITURE', 'CAPITAL_OUTLAY_EXPENDITURE', 'GRADES_4_G', 'GRADES_8_G']\n"
     ]
    }
   ],
   "source": [
    "print(columns)"
   ]
  },
  {
   "cell_type": "code",
   "execution_count": 13,
   "metadata": {},
   "outputs": [],
   "source": [
    "df_subset = df_clean.loc[:, columns].copy()"
   ]
  },
  {
   "cell_type": "code",
   "execution_count": 14,
   "metadata": {},
   "outputs": [
    {
     "name": "stdout",
     "output_type": "stream",
     "text": [
      "<class 'pandas.core.frame.DataFrame'>\n",
      "Int64Index: 1492 entries, 0 to 1491\n",
      "Data columns (total 11 columns):\n",
      "AVG_MATH_4_SCORE                1280 non-null float64\n",
      "AVG_MATH_8_SCORE                1276 non-null float64\n",
      "AVG_READING_4_SCORE             1254 non-null float64\n",
      "AVG_READING_8_SCORE             1099 non-null float64\n",
      "TOTAL_EXPENDITURE               1331 non-null float64\n",
      "INSTRUCTION_EXPENDITURE         1331 non-null float64\n",
      "SUPPORT_SERVICES_EXPENDITURE    1331 non-null float64\n",
      "OTHER_EXPENDITURE               1280 non-null float64\n",
      "CAPITAL_OUTLAY_EXPENDITURE      1331 non-null float64\n",
      "GRADES_4_G                      1487 non-null float64\n",
      "GRADES_8_G                      1487 non-null float64\n",
      "dtypes: float64(11)\n",
      "memory usage: 139.9 KB\n"
     ]
    }
   ],
   "source": [
    "df_subset.info()"
   ]
  },
  {
   "cell_type": "markdown",
   "metadata": {},
   "source": [
    "In order to accurately compute weighted averages, I am only interested in rows that do not contain null values. Therefore, I will drop all rows with a null value."
   ]
  },
  {
   "cell_type": "code",
   "execution_count": 15,
   "metadata": {},
   "outputs": [],
   "source": [
    "df_subset = df_subset.dropna().copy()\n",
    "df_subset.index = np.arange(len(df_subset))"
   ]
  },
  {
   "cell_type": "markdown",
   "metadata": {},
   "source": [
    "## Outliers\n",
    "Let's see if any of these columns contain outliers and if so correct them using the Tukey method."
   ]
  },
  {
   "cell_type": "code",
   "execution_count": 16,
   "metadata": {},
   "outputs": [],
   "source": [
    "def log_transform(df, column_list):\n",
    "    for column in column_list:\n",
    "        df[f'log_{column}'] = np.log(df[column])\n",
    "    return df"
   ]
  },
  {
   "cell_type": "code",
   "execution_count": 17,
   "metadata": {},
   "outputs": [],
   "source": [
    "thresholds = {\n",
    "    'tukey': 1.5\n",
    "}"
   ]
  },
  {
   "cell_type": "code",
   "execution_count": 18,
   "metadata": {},
   "outputs": [],
   "source": [
    "def apply_tukey(df, column, thresh=1.5):\n",
    "    q75, q25 = np.percentile(df[column], [75, 25])\n",
    "    iqr = q75 - q25\n",
    "    min_value = q25 - thresh*iqr\n",
    "    max_value = q75 + thresh*iqr\n",
    "    df[f'tukey_{column}'] = df[column].apply(lambda x: np.min([x, max_value]))\n",
    "    df[f'tukey_{column}'] = df[f'tukey_{column}'].apply(lambda x: np.max([x, min_value]))\n",
    "    return df"
   ]
  },
  {
   "cell_type": "code",
   "execution_count": 19,
   "metadata": {},
   "outputs": [],
   "source": [
    "def correct_outliers(df, column_list):\n",
    "    for column in column_list:\n",
    "        # Tukey\n",
    "        df = apply_tukey(df, column, thresh=thresholds['tukey'])\n",
    "        \n",
    "    return df"
   ]
  },
  {
   "cell_type": "code",
   "execution_count": 20,
   "metadata": {},
   "outputs": [],
   "source": [
    "def stack_dataframe(df, column_list):\n",
    "    df_stacked = df.loc[:, column_list].stack().copy()\n",
    "    df_stacked.index = df_stacked.index.droplevel()\n",
    "    df_stacked = df_stacked.reset_index().copy()\n",
    "    df_stacked = df_stacked.rename(columns={'index': 'label', 0: 'value'})\n",
    "    df_stacked = df_stacked.sort_values(by='label')\n",
    "    df_stacked.index = np.arange(len(df_stacked))\n",
    "    return df_stacked"
   ]
  },
  {
   "cell_type": "code",
   "execution_count": 21,
   "metadata": {},
   "outputs": [],
   "source": [
    "def look_for_outliers(df, column_list):\n",
    "    \n",
    "    if len(column_list) > 1:\n",
    "        df_stacked = stack_dataframe(df, column_list)\n",
    "        sns.catplot(x='label', y='value', data=df_stacked, height=6, aspect=12/6, kind='box')\n",
    "        plt.show()\n",
    "    else:\n",
    "        sns.catplot(y=column_list[0], data=df, height=6, aspect=12/6, kind='box')\n",
    "        plt.show()"
   ]
  },
  {
   "cell_type": "code",
   "execution_count": 22,
   "metadata": {},
   "outputs": [
    {
     "data": {
      "image/png": "[encoded data removed]",
      "text/plain": [
       "<Figure size 864x432 with 1 Axes>"
      ]
     },
     "metadata": {
      "needs_background": "light"
     },
     "output_type": "display_data"
    }
   ],
   "source": [
    "look_for_outliers(df_subset, [x for x in all_columns if 'SCORE' in x])"
   ]
  },
  {
   "cell_type": "code",
   "execution_count": 23,
   "metadata": {},
   "outputs": [
    {
     "data": {
      "image/png": "[encoded data removed]",
      "text/plain": [
       "<Figure size 864x432 with 1 Axes>"
      ]
     },
     "metadata": {
      "needs_background": "light"
     },
     "output_type": "display_data"
    }
   ],
   "source": [
    "look_for_outliers(df_subset, [x for x in all_columns if 'EXPENDITURE' in x])"
   ]
  },
  {
   "cell_type": "code",
   "execution_count": 24,
   "metadata": {},
   "outputs": [
    {
     "data": {
      "image/png": "[encoded data removed]",
      "text/plain": [
       "<Figure size 864x432 with 1 Axes>"
      ]
     },
     "metadata": {
      "needs_background": "light"
     },
     "output_type": "display_data"
    }
   ],
   "source": [
    "look_for_outliers(df_subset, ['GRADES_4_G', 'GRADES_8_G'])"
   ]
  },
  {
   "cell_type": "markdown",
   "metadata": {},
   "source": [
    "**Observations:**\n",
    "\n",
    "All values contain outliers. The scores are left skewed with small tails. The expenditure types and grades are right skewed with a long tail to large values.\n",
    "\n",
    "Plan:\n",
    "1. Log transform expenditure columns.\n",
    "2. Recheck for outliers.\n",
    "3. Leave grade columns alone as I will only interested in ratios between values to compute weighted averages.\n",
    "4. Correct outliers in scores using Tukey.\n",
    "5. If there are still outlies in log transformed expenditure columns, correct these using Tukey."
   ]
  },
  {
   "cell_type": "code",
   "execution_count": 25,
   "metadata": {},
   "outputs": [
    {
     "name": "stdout",
     "output_type": "stream",
     "text": [
      "<class 'pandas.core.frame.DataFrame'>\n",
      "Int64Index: 1051 entries, 0 to 1050\n",
      "Data columns (total 11 columns):\n",
      "AVG_MATH_4_SCORE                1051 non-null float64\n",
      "AVG_MATH_8_SCORE                1051 non-null float64\n",
      "AVG_READING_4_SCORE             1051 non-null float64\n",
      "AVG_READING_8_SCORE             1051 non-null float64\n",
      "TOTAL_EXPENDITURE               1051 non-null float64\n",
      "INSTRUCTION_EXPENDITURE         1051 non-null float64\n",
      "SUPPORT_SERVICES_EXPENDITURE    1051 non-null float64\n",
      "OTHER_EXPENDITURE               1051 non-null float64\n",
      "CAPITAL_OUTLAY_EXPENDITURE      1051 non-null float64\n",
      "GRADES_4_G                      1051 non-null float64\n",
      "GRADES_8_G                      1051 non-null float64\n",
      "dtypes: float64(11)\n",
      "memory usage: 138.5 KB\n"
     ]
    }
   ],
   "source": [
    "df_subset.info()"
   ]
  },
  {
   "cell_type": "code",
   "execution_count": 26,
   "metadata": {
    "scrolled": false
   },
   "outputs": [],
   "source": [
    "expenditure_columns = [x for x in all_columns if 'EXPENDITURE' in x]\n",
    "# print(expenditure_columns)\n",
    "df_subset = log_transform(df_subset, expenditure_columns)"
   ]
  },
  {
   "cell_type": "code",
   "execution_count": 27,
   "metadata": {},
   "outputs": [
    {
     "data": {
      "image/png": "[encoded data removed]",
      "text/plain": [
       "<Figure size 864x432 with 1 Axes>"
      ]
     },
     "metadata": {
      "needs_background": "light"
     },
     "output_type": "display_data"
    }
   ],
   "source": [
    "log_expenditure_columns = [f'log_{x}' for x in expenditure_columns]\n",
    "look_for_outliers(df_subset, log_expenditure_columns)"
   ]
  },
  {
   "cell_type": "markdown",
   "metadata": {},
   "source": [
    "Correct outliers in scores."
   ]
  },
  {
   "cell_type": "code",
   "execution_count": 28,
   "metadata": {},
   "outputs": [],
   "source": [
    "scores_columns = [x for x in all_columns if 'SCORE' in x]\n",
    "df_subset = correct_outliers(df_subset, scores_columns)"
   ]
  },
  {
   "cell_type": "code",
   "execution_count": 29,
   "metadata": {},
   "outputs": [
    {
     "name": "stdout",
     "output_type": "stream",
     "text": [
      "<class 'pandas.core.frame.DataFrame'>\n",
      "Int64Index: 1051 entries, 0 to 1050\n",
      "Data columns (total 20 columns):\n",
      "AVG_MATH_4_SCORE                    1051 non-null float64\n",
      "AVG_MATH_8_SCORE                    1051 non-null float64\n",
      "AVG_READING_4_SCORE                 1051 non-null float64\n",
      "AVG_READING_8_SCORE                 1051 non-null float64\n",
      "TOTAL_EXPENDITURE                   1051 non-null float64\n",
      "INSTRUCTION_EXPENDITURE             1051 non-null float64\n",
      "SUPPORT_SERVICES_EXPENDITURE        1051 non-null float64\n",
      "OTHER_EXPENDITURE                   1051 non-null float64\n",
      "CAPITAL_OUTLAY_EXPENDITURE          1051 non-null float64\n",
      "GRADES_4_G                          1051 non-null float64\n",
      "GRADES_8_G                          1051 non-null float64\n",
      "log_TOTAL_EXPENDITURE               1051 non-null float64\n",
      "log_INSTRUCTION_EXPENDITURE         1051 non-null float64\n",
      "log_SUPPORT_SERVICES_EXPENDITURE    1051 non-null float64\n",
      "log_OTHER_EXPENDITURE               1051 non-null float64\n",
      "log_CAPITAL_OUTLAY_EXPENDITURE      1051 non-null float64\n",
      "tukey_AVG_MATH_4_SCORE              1051 non-null float64\n",
      "tukey_AVG_MATH_8_SCORE              1051 non-null float64\n",
      "tukey_AVG_READING_4_SCORE           1051 non-null float64\n",
      "tukey_AVG_READING_8_SCORE           1051 non-null float64\n",
      "dtypes: float64(20)\n",
      "memory usage: 212.4 KB\n"
     ]
    }
   ],
   "source": [
    "df_subset.info()"
   ]
  },
  {
   "cell_type": "code",
   "execution_count": 30,
   "metadata": {},
   "outputs": [],
   "source": [
    "corrected_scores_columns = [f'tukey_{x}' for x in scores_columns]"
   ]
  },
  {
   "cell_type": "markdown",
   "metadata": {},
   "source": [
    "## Weighted average\n",
    "1. Compute fractions of 4th and 8th graders and save to new columns\n",
    "2. Compute weighted averages using fractions.\n",
    "3. Check for outliers.\n",
    "4. Correct outliers using Tukey."
   ]
  },
  {
   "cell_type": "code",
   "execution_count": 31,
   "metadata": {},
   "outputs": [],
   "source": [
    "columns = []\n",
    "columns += corrected_scores_columns  # score columns\n",
    "columns += log_expenditure_columns  # expenditure columns\n",
    "columns += ['GRADES_4_G', 'GRADES_8_G']  # grade columns\n",
    "df_subset = df_subset.loc[:, columns].copy()"
   ]
  },
  {
   "cell_type": "code",
   "execution_count": 32,
   "metadata": {},
   "outputs": [
    {
     "name": "stdout",
     "output_type": "stream",
     "text": [
      "<class 'pandas.core.frame.DataFrame'>\n",
      "Int64Index: 1051 entries, 0 to 1050\n",
      "Data columns (total 11 columns):\n",
      "tukey_AVG_MATH_4_SCORE              1051 non-null float64\n",
      "tukey_AVG_MATH_8_SCORE              1051 non-null float64\n",
      "tukey_AVG_READING_4_SCORE           1051 non-null float64\n",
      "tukey_AVG_READING_8_SCORE           1051 non-null float64\n",
      "log_TOTAL_EXPENDITURE               1051 non-null float64\n",
      "log_INSTRUCTION_EXPENDITURE         1051 non-null float64\n",
      "log_SUPPORT_SERVICES_EXPENDITURE    1051 non-null float64\n",
      "log_OTHER_EXPENDITURE               1051 non-null float64\n",
      "log_CAPITAL_OUTLAY_EXPENDITURE      1051 non-null float64\n",
      "GRADES_4_G                          1051 non-null float64\n",
      "GRADES_8_G                          1051 non-null float64\n",
      "dtypes: float64(11)\n",
      "memory usage: 98.5 KB\n"
     ]
    }
   ],
   "source": [
    "df_subset.info()"
   ]
  },
  {
   "cell_type": "code",
   "execution_count": 33,
   "metadata": {},
   "outputs": [],
   "source": [
    "def compute_average_weighted_scores(df):\n",
    "    df['FRAC_GRADES_4'] = df['GRADES_4_G'] / (df['GRADES_4_G'] + df['GRADES_8_G'])\n",
    "    df['FRAC_GRADES_8'] = df['GRADES_8_G'] / (df['GRADES_4_G'] + df['GRADES_8_G'])\n",
    "    \n",
    "    df['AVG_MATH_SCORES'] = (df['tukey_AVG_MATH_4_SCORE'] + df['tukey_AVG_MATH_8_SCORE']) / 2\n",
    "    df['AVG_READING_SCORES'] = (df['tukey_AVG_READING_4_SCORE'] + df['tukey_AVG_READING_8_SCORE']) / 2\n",
    "    \n",
    "    df['WEIGHTED_AVG_MATH_SCORES'] = df['tukey_AVG_MATH_4_SCORE']*df['FRAC_GRADES_4'] + df['tukey_AVG_MATH_8_SCORE']*df['FRAC_GRADES_8']\n",
    "    df['WEIGHTED_AVG_READING_SCORES'] = df['tukey_AVG_READING_4_SCORE']*df['FRAC_GRADES_4'] + df['tukey_AVG_READING_8_SCORE']*df['FRAC_GRADES_8']\n",
    "    \n",
    "    df['WEIGHTED_AVG_SCORES'] = (df['AVG_MATH_SCORES'] + df['AVG_READING_SCORES']) / 2\n",
    "    \n",
    "    return df"
   ]
  },
  {
   "cell_type": "code",
   "execution_count": 34,
   "metadata": {},
   "outputs": [],
   "source": [
    "df_subset = compute_average_weighted_scores(df_subset)"
   ]
  },
  {
   "cell_type": "markdown",
   "metadata": {},
   "source": [
    "### Look for outliers\n",
    "Let's see if there are any outliers in the weighted averages column."
   ]
  },
  {
   "cell_type": "code",
   "execution_count": 35,
   "metadata": {},
   "outputs": [
    {
     "data": {
      "image/png": "[encoded data removed]",
      "text/plain": [
       "<Figure size 864x432 with 1 Axes>"
      ]
     },
     "metadata": {
      "needs_background": "light"
     },
     "output_type": "display_data"
    }
   ],
   "source": [
    "look_for_outliers(df_subset, ['WEIGHTED_AVG_SCORES'])"
   ]
  },
  {
   "cell_type": "markdown",
   "metadata": {},
   "source": [
    "There are only a few outliers at the bottom. Let's leave them in and continue with the analysis."
   ]
  },
  {
   "cell_type": "markdown",
   "metadata": {},
   "source": [
    "## Correlations\n",
    "Calculate correlation between weighted average score and expenditure types.\n",
    "\n",
    "1. Define column subset\n",
    "2. Standardize all values between 0 and 1, with a standard deviation of 1.\n",
    "3. Use Pandas .corr() function to compute correlation coefficients."
   ]
  },
  {
   "cell_type": "code",
   "execution_count": 36,
   "metadata": {},
   "outputs": [],
   "source": [
    "columns = []\n",
    "columns += log_expenditure_columns\n",
    "columns.append('WEIGHTED_AVG_SCORES')"
   ]
  },
  {
   "cell_type": "code",
   "execution_count": 37,
   "metadata": {},
   "outputs": [],
   "source": [
    "df_standard = pd.DataFrame(StandardScaler().fit_transform(df_subset.loc[:, columns]), columns=columns)"
   ]
  },
  {
   "cell_type": "code",
   "execution_count": 38,
   "metadata": {},
   "outputs": [
    {
     "data": {
      "text/html": [
       "<div>\n",
       "<style scoped>\n",
       "    .dataframe tbody tr th:only-of-type {\n",
       "        vertical-align: middle;\n",
       "    }\n",
       "\n",
       "    .dataframe tbody tr th {\n",
       "        vertical-align: top;\n",
       "    }\n",
       "\n",
       "    .dataframe thead th {\n",
       "        text-align: right;\n",
       "    }\n",
       "</style>\n",
       "<table border=\"1\" class=\"dataframe\">\n",
       "  <thead>\n",
       "    <tr style=\"text-align: right;\">\n",
       "      <th></th>\n",
       "      <th>log_TOTAL_EXPENDITURE</th>\n",
       "      <th>log_INSTRUCTION_EXPENDITURE</th>\n",
       "      <th>log_SUPPORT_SERVICES_EXPENDITURE</th>\n",
       "      <th>log_OTHER_EXPENDITURE</th>\n",
       "      <th>log_CAPITAL_OUTLAY_EXPENDITURE</th>\n",
       "      <th>WEIGHTED_AVG_SCORES</th>\n",
       "    </tr>\n",
       "  </thead>\n",
       "  <tbody>\n",
       "    <tr>\n",
       "      <th>count</th>\n",
       "      <td>1.051000e+03</td>\n",
       "      <td>1.051000e+03</td>\n",
       "      <td>1.051000e+03</td>\n",
       "      <td>1.051000e+03</td>\n",
       "      <td>1.051000e+03</td>\n",
       "      <td>1.051000e+03</td>\n",
       "    </tr>\n",
       "    <tr>\n",
       "      <th>mean</th>\n",
       "      <td>-1.216914e-16</td>\n",
       "      <td>3.752152e-16</td>\n",
       "      <td>-8.416991e-16</td>\n",
       "      <td>3.380317e-17</td>\n",
       "      <td>-1.656356e-16</td>\n",
       "      <td>-3.840041e-15</td>\n",
       "    </tr>\n",
       "    <tr>\n",
       "      <th>std</th>\n",
       "      <td>1.000476e+00</td>\n",
       "      <td>1.000476e+00</td>\n",
       "      <td>1.000476e+00</td>\n",
       "      <td>1.000476e+00</td>\n",
       "      <td>1.000476e+00</td>\n",
       "      <td>1.000476e+00</td>\n",
       "    </tr>\n",
       "    <tr>\n",
       "      <th>min</th>\n",
       "      <td>-2.063382e+00</td>\n",
       "      <td>-2.221267e+00</td>\n",
       "      <td>-2.220649e+00</td>\n",
       "      <td>-2.295888e+00</td>\n",
       "      <td>-2.919238e+00</td>\n",
       "      <td>-2.990196e+00</td>\n",
       "    </tr>\n",
       "    <tr>\n",
       "      <th>25%</th>\n",
       "      <td>-7.870343e-01</td>\n",
       "      <td>-7.529442e-01</td>\n",
       "      <td>-7.741245e-01</td>\n",
       "      <td>-7.729947e-01</td>\n",
       "      <td>-6.892989e-01</td>\n",
       "      <td>-5.850671e-01</td>\n",
       "    </tr>\n",
       "    <tr>\n",
       "      <th>50%</th>\n",
       "      <td>2.351136e-02</td>\n",
       "      <td>2.199550e-03</td>\n",
       "      <td>3.159070e-02</td>\n",
       "      <td>1.166915e-01</td>\n",
       "      <td>1.310709e-01</td>\n",
       "      <td>1.340986e-01</td>\n",
       "    </tr>\n",
       "    <tr>\n",
       "      <th>75%</th>\n",
       "      <td>6.406149e-01</td>\n",
       "      <td>6.454788e-01</td>\n",
       "      <td>6.718942e-01</td>\n",
       "      <td>6.617470e-01</td>\n",
       "      <td>6.017813e-01</td>\n",
       "      <td>7.126665e-01</td>\n",
       "    </tr>\n",
       "    <tr>\n",
       "      <th>max</th>\n",
       "      <td>2.533880e+00</td>\n",
       "      <td>2.526569e+00</td>\n",
       "      <td>2.583305e+00</td>\n",
       "      <td>2.485513e+00</td>\n",
       "      <td>2.492658e+00</td>\n",
       "      <td>2.410311e+00</td>\n",
       "    </tr>\n",
       "  </tbody>\n",
       "</table>\n",
       "</div>"
      ],
      "text/plain": [
       "       log_TOTAL_EXPENDITURE  log_INSTRUCTION_EXPENDITURE  \\\n",
       "count           1.051000e+03                 1.051000e+03   \n",
       "mean           -1.216914e-16                 3.752152e-16   \n",
       "std             1.000476e+00                 1.000476e+00   \n",
       "min            -2.063382e+00                -2.221267e+00   \n",
       "25%            -7.870343e-01                -7.529442e-01   \n",
       "50%             2.351136e-02                 2.199550e-03   \n",
       "75%             6.406149e-01                 6.454788e-01   \n",
       "max             2.533880e+00                 2.526569e+00   \n",
       "\n",
       "       log_SUPPORT_SERVICES_EXPENDITURE  log_OTHER_EXPENDITURE  \\\n",
       "count                      1.051000e+03           1.051000e+03   \n",
       "mean                      -8.416991e-16           3.380317e-17   \n",
       "std                        1.000476e+00           1.000476e+00   \n",
       "min                       -2.220649e+00          -2.295888e+00   \n",
       "25%                       -7.741245e-01          -7.729947e-01   \n",
       "50%                        3.159070e-02           1.166915e-01   \n",
       "75%                        6.718942e-01           6.617470e-01   \n",
       "max                        2.583305e+00           2.485513e+00   \n",
       "\n",
       "       log_CAPITAL_OUTLAY_EXPENDITURE  WEIGHTED_AVG_SCORES  \n",
       "count                    1.051000e+03         1.051000e+03  \n",
       "mean                    -1.656356e-16        -3.840041e-15  \n",
       "std                      1.000476e+00         1.000476e+00  \n",
       "min                     -2.919238e+00        -2.990196e+00  \n",
       "25%                     -6.892989e-01        -5.850671e-01  \n",
       "50%                      1.310709e-01         1.340986e-01  \n",
       "75%                      6.017813e-01         7.126665e-01  \n",
       "max                      2.492658e+00         2.410311e+00  "
      ]
     },
     "execution_count": 38,
     "metadata": {},
     "output_type": "execute_result"
    }
   ],
   "source": [
    "df_standard.describe()"
   ]
  },
  {
   "cell_type": "code",
   "execution_count": 39,
   "metadata": {},
   "outputs": [
    {
     "data": {
      "text/plain": [
       "log_TOTAL_EXPENDITURE               0.204105\n",
       "log_INSTRUCTION_EXPENDITURE         0.221682\n",
       "log_SUPPORT_SERVICES_EXPENDITURE    0.187972\n",
       "log_OTHER_EXPENDITURE               0.109798\n",
       "log_CAPITAL_OUTLAY_EXPENDITURE      0.090068\n",
       "WEIGHTED_AVG_SCORES                 1.000000\n",
       "Name: WEIGHTED_AVG_SCORES, dtype: float64"
      ]
     },
     "execution_count": 39,
     "metadata": {},
     "output_type": "execute_result"
    }
   ],
   "source": [
    "df_standard.corr()['WEIGHTED_AVG_SCORES']"
   ]
  },
  {
   "cell_type": "markdown",
   "metadata": {},
   "source": [
    "**Observations:** \n",
    "\n",
    "Instruction expenditure has the highest correlation with weighted averaged scores, 0.22."
   ]
  },
  {
   "cell_type": "markdown",
   "metadata": {},
   "source": [
    "## PCA\n",
    "Calculate PCA for the expenditure variables and compare with the overall weighted average.\n",
    "\n",
    "1. Compute covariance matrix.\n",
    "2. Compute eigenvalues and eigenvectors.\n",
    "3. Plot eigenvalues.\n",
    "4. Print eigenvectors.\n",
    "5. Choose number of components to use when performing PCA.\n",
    "6. Compute PCA.\n",
    "7. Print variance explained ratios."
   ]
  },
  {
   "cell_type": "code",
   "execution_count": 40,
   "metadata": {},
   "outputs": [],
   "source": [
    "df_expenditures = df_standard.loc[:, log_expenditure_columns]"
   ]
  },
  {
   "cell_type": "markdown",
   "metadata": {},
   "source": [
    "### Calculate covariance matrix."
   ]
  },
  {
   "cell_type": "code",
   "execution_count": 41,
   "metadata": {},
   "outputs": [
    {
     "name": "stdout",
     "output_type": "stream",
     "text": [
      "Covariance matrix:\n",
      " [[1.00095238 0.99826157 0.99615367 0.96172458 0.92062731]\n",
      " [0.99826157 1.00095238 0.99205996 0.95802474 0.90148602]\n",
      " [0.99615367 0.99205996 1.00095238 0.95558475 0.90483459]\n",
      " [0.96172458 0.95802474 0.95558475 1.00095238 0.8934869 ]\n",
      " [0.92062731 0.90148602 0.90483459 0.8934869  1.00095238]]\n"
     ]
    }
   ],
   "source": [
    "X = StandardScaler().fit_transform(df_expenditures.loc[:, log_expenditure_columns])\n",
    "Xt = X.T\n",
    "Cx = np.cov(Xt)\n",
    "\n",
    "print(f'Covariance matrix:\\n {Cx}')"
   ]
  },
  {
   "cell_type": "markdown",
   "metadata": {},
   "source": [
    "Compute eigen values and eigen vectors."
   ]
  },
  {
   "cell_type": "code",
   "execution_count": 42,
   "metadata": {},
   "outputs": [],
   "source": [
    "eigen_values, eigen_vectors = np.linalg.eig(Cx)"
   ]
  },
  {
   "cell_type": "code",
   "execution_count": 43,
   "metadata": {},
   "outputs": [
    {
     "name": "stdout",
     "output_type": "stream",
     "text": [
      "[[-0.45505594 -0.15498715  0.25062941 -0.82738096 -0.1467267 ]\n",
      " [-0.45260655 -0.26931345  0.27758538  0.49561502 -0.63239994]\n",
      " [-0.45248057 -0.23988766  0.30980388  0.25284257  0.76013645]\n",
      " [-0.44491111 -0.19365841 -0.87391143  0.01157502  0.02636973]\n",
      " [-0.43056573  0.89911044  0.02077569  0.07578356 -0.00622892]]\n"
     ]
    }
   ],
   "source": [
    "print(eigen_vectors)"
   ]
  },
  {
   "cell_type": "code",
   "execution_count": 44,
   "metadata": {},
   "outputs": [
    {
     "data": {
      "image/png": "[encoded data removed]",
      "text/plain": [
       "<Figure size 432x288 with 1 Axes>"
      ]
     },
     "metadata": {
      "needs_background": "light"
     },
     "output_type": "display_data"
    }
   ],
   "source": [
    "plt.plot(eigen_values)\n",
    "plt.xlabel('Component')\n",
    "plt.ylabel('Eigenvalue')\n",
    "plt.show()"
   ]
  },
  {
   "cell_type": "code",
   "execution_count": 45,
   "metadata": {},
   "outputs": [
    {
     "name": "stdout",
     "output_type": "stream",
     "text": [
      "The eigen values are:\n",
      " [4.79572194e+00 1.38369106e-01 6.08378889e-02 7.79633459e-04\n",
      " 9.05333595e-03]\n"
     ]
    }
   ],
   "source": [
    "print(f'The eigen values are:\\n {eigen_values}')"
   ]
  },
  {
   "cell_type": "markdown",
   "metadata": {},
   "source": [
    "### PCA - Scikit-Learn\n",
    "Calculate principle components using Scikit-Learn."
   ]
  },
  {
   "cell_type": "code",
   "execution_count": 46,
   "metadata": {},
   "outputs": [],
   "source": [
    "sklearn_pca = PCA(n_components=2)\n",
    "Y_sklearn = sklearn_pca.fit_transform(X)"
   ]
  },
  {
   "cell_type": "code",
   "execution_count": 47,
   "metadata": {},
   "outputs": [
    {
     "name": "stdout",
     "output_type": "stream",
     "text": [
      "The variance explained ratio of the first component is 0.958.\n"
     ]
    }
   ],
   "source": [
    "print(f'The variance explained ratio of the first component is {sklearn_pca.explained_variance_ratio_[0]:0.3f}.')"
   ]
  },
  {
   "cell_type": "code",
   "execution_count": 48,
   "metadata": {},
   "outputs": [],
   "source": [
    "df_compare = pd.DataFrame({'first_component': Y_sklearn[:, 0],\n",
    "                           'weighted_avg_scores': df_standard['WEIGHTED_AVG_SCORES'].values})"
   ]
  },
  {
   "cell_type": "code",
   "execution_count": 49,
   "metadata": {},
   "outputs": [
    {
     "data": {
      "text/html": [
       "<div>\n",
       "<style scoped>\n",
       "    .dataframe tbody tr th:only-of-type {\n",
       "        vertical-align: middle;\n",
       "    }\n",
       "\n",
       "    .dataframe tbody tr th {\n",
       "        vertical-align: top;\n",
       "    }\n",
       "\n",
       "    .dataframe thead th {\n",
       "        text-align: right;\n",
       "    }\n",
       "</style>\n",
       "<table border=\"1\" class=\"dataframe\">\n",
       "  <thead>\n",
       "    <tr style=\"text-align: right;\">\n",
       "      <th></th>\n",
       "      <th>first_component</th>\n",
       "      <th>weighted_avg_scores</th>\n",
       "    </tr>\n",
       "  </thead>\n",
       "  <tbody>\n",
       "    <tr>\n",
       "      <th>first_component</th>\n",
       "      <td>1.000000</td>\n",
       "      <td>0.167163</td>\n",
       "    </tr>\n",
       "    <tr>\n",
       "      <th>weighted_avg_scores</th>\n",
       "      <td>0.167163</td>\n",
       "      <td>1.000000</td>\n",
       "    </tr>\n",
       "  </tbody>\n",
       "</table>\n",
       "</div>"
      ],
      "text/plain": [
       "                     first_component  weighted_avg_scores\n",
       "first_component             1.000000             0.167163\n",
       "weighted_avg_scores         0.167163             1.000000"
      ]
     },
     "execution_count": 49,
     "metadata": {},
     "output_type": "execute_result"
    }
   ],
   "source": [
    "df_compare.corr()"
   ]
  },
  {
   "cell_type": "code",
   "execution_count": 50,
   "metadata": {},
   "outputs": [
    {
     "data": {
      "image/png": "[encoded data removed]",
      "text/plain": [
       "<Figure size 432x288 with 1 Axes>"
      ]
     },
     "metadata": {
      "needs_background": "light"
     },
     "output_type": "display_data"
    }
   ],
   "source": [
    "plt.scatter(Y_sklearn[:, 0], df_standard['WEIGHTED_AVG_SCORES'].values)\n",
    "plt.xlabel('First Component')\n",
    "plt.ylabel('Weighted Average Score')\n",
    "plt.show()"
   ]
  },
  {
   "cell_type": "markdown",
   "metadata": {},
   "source": [
    "### PCA - By Hand"
   ]
  },
  {
   "cell_type": "code",
   "execution_count": 51,
   "metadata": {},
   "outputs": [],
   "source": [
    "P = eigen_vectors[:, 0]\n",
    "Y = P.T.dot(Xt)"
   ]
  },
  {
   "cell_type": "markdown",
   "metadata": {},
   "source": [
    "### Compare PCA Methods"
   ]
  },
  {
   "cell_type": "code",
   "execution_count": 52,
   "metadata": {},
   "outputs": [
    {
     "data": {
      "image/png": "[encoded data removed]",
      "text/plain": [
       "<Figure size 432x288 with 1 Axes>"
      ]
     },
     "metadata": {
      "needs_background": "light"
     },
     "output_type": "display_data"
    }
   ],
   "source": [
    "plt.plot(Y, Y_sklearn[:, 0])\n",
    "plt.xlabel('By Hand')\n",
    "plt.ylabel('Scikit-Learn')\n",
    "plt.show()"
   ]
  },
  {
   "cell_type": "code",
   "execution_count": null,
   "metadata": {},
   "outputs": [],
   "source": []
  }
 ],
 "metadata": {
  "kernelspec": {
   "display_name": "Python 3",
   "language": "python",
   "name": "python3"
  },
  "language_info": {
   "codemirror_mode": {
    "name": "ipython",
    "version": 3
   },
   "file_extension": ".py",
   "mimetype": "text/x-python",
   "name": "python",
   "nbconvert_exporter": "python",
   "pygments_lexer": "ipython3",
   "version": "3.6.8"
  }
 },
 "nbformat": 4,
 "nbformat_minor": 2
}
