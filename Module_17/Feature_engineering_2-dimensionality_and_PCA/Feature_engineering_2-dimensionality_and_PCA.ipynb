{
 "cells": [
  {
   "cell_type": "markdown",
   "metadata": {},
   "source": [
    "# Feature engineering 2: dimensionality and PCA"
   ]
  },
  {
   "cell_type": "code",
   "execution_count": 1,
   "metadata": {},
   "outputs": [],
   "source": [
    "import matplotlib.pyplot as plt\n",
    "import numpy as np\n",
    "import pandas as pd\n",
    "import seaborn as sns\n",
    "from scipy.stats import boxcox\n",
    "from scipy.stats import normaltest\n",
    "from sklearn.preprocessing import StandardScaler\n",
    "from sklearn.decomposition import PCA\n",
    "from sqlalchemy import create_engine\n",
    "\n",
    "from config import usr, pwd, url, port, db\n",
    "\n",
    "%matplotlib inline"
   ]
  },
  {
   "cell_type": "code",
   "execution_count": 2,
   "metadata": {},
   "outputs": [],
   "source": [
    "engine = create_engine(f\"postgresql+psycopg2://{usr}:{pwd}@{url}:{port}/{db}\")"
   ]
  },
  {
   "cell_type": "code",
   "execution_count": 3,
   "metadata": {},
   "outputs": [],
   "source": [
    "query = f'''\n",
    "SELECT\n",
    "    *\n",
    "FROM\n",
    "    {db};\n",
    "'''"
   ]
  },
  {
   "cell_type": "code",
   "execution_count": 4,
   "metadata": {},
   "outputs": [],
   "source": [
    "df = pd.read_sql_query(query, con=engine)"
   ]
  },
  {
   "cell_type": "code",
   "execution_count": 5,
   "metadata": {},
   "outputs": [],
   "source": [
    "engine.dispose()"
   ]
  },
  {
   "cell_type": "code",
   "execution_count": 6,
   "metadata": {},
   "outputs": [
    {
     "name": "stdout",
     "output_type": "stream",
     "text": [
      "<class 'pandas.core.frame.DataFrame'>\n",
      "RangeIndex: 1492 entries, 0 to 1491\n",
      "Data columns (total 25 columns):\n",
      "PRIMARY_KEY                     1492 non-null object\n",
      "STATE                           1492 non-null object\n",
      "YEAR                            1492 non-null int64\n",
      "ENROLL                          1229 non-null float64\n",
      "TOTAL_REVENUE                   1280 non-null float64\n",
      "FEDERAL_REVENUE                 1280 non-null float64\n",
      "STATE_REVENUE                   1280 non-null float64\n",
      "LOCAL_REVENUE                   1280 non-null float64\n",
      "TOTAL_EXPENDITURE               1280 non-null float64\n",
      "INSTRUCTION_EXPENDITURE         1280 non-null float64\n",
      "SUPPORT_SERVICES_EXPENDITURE    1280 non-null float64\n",
      "OTHER_EXPENDITURE               1229 non-null float64\n",
      "CAPITAL_OUTLAY_EXPENDITURE      1280 non-null float64\n",
      "GRADES_PK_G                     1319 non-null float64\n",
      "GRADES_KG_G                     1360 non-null float64\n",
      "GRADES_4_G                      1361 non-null float64\n",
      "GRADES_8_G                      1361 non-null float64\n",
      "GRADES_12_G                     1361 non-null float64\n",
      "GRADES_1_8_G                    1361 non-null float64\n",
      "GRADES_9_12_G                   1361 non-null float64\n",
      "GRADES_ALL_G                    1319 non-null float64\n",
      "AVG_MATH_4_SCORE                536 non-null float64\n",
      "AVG_MATH_8_SCORE                532 non-null float64\n",
      "AVG_READING_4_SCORE             533 non-null float64\n",
      "AVG_READING_8_SCORE             498 non-null float64\n",
      "dtypes: float64(22), int64(1), object(2)\n",
      "memory usage: 291.5+ KB\n"
     ]
    }
   ],
   "source": [
    "df.info()"
   ]
  },
  {
   "cell_type": "markdown",
   "metadata": {},
   "source": [
    "## Data Cleaning\n",
    "### Missing values\n",
    "1. Split dataset by state.\n",
    "2. Sort subset by date.\n",
    "3. Find columns with missing data.\n",
    "4. Interpolate missing values using other values in column.\n",
    "5. If all values in column are missing, then skip that column."
   ]
  },
  {
   "cell_type": "code",
   "execution_count": 7,
   "metadata": {},
   "outputs": [],
   "source": [
    "def find_na_columns(df, display_fractions=False):\n",
    "    na_fractions = (df.isnull().sum()/df.isnull().count())*100\n",
    "    if display_fractions:\n",
    "        print(na_fractions)\n",
    "    return na_fractions[na_fractions != 0]"
   ]
  },
  {
   "cell_type": "code",
   "execution_count": 8,
   "metadata": {},
   "outputs": [],
   "source": [
    "def apply_interpolation(df):\n",
    "    states_list = np.unique(df['STATE'])\n",
    "    \n",
    "    states_df_list = []\n",
    "    for state in states_list:\n",
    "        df_state = df.loc[df['STATE'] == state, :].sort_values(by='YEAR').copy()\n",
    "    \n",
    "        na_fractions_state = find_na_columns(df_state.loc[df_state['STATE'] == state, :])\n",
    "        for column in na_fractions_state.index.tolist():\n",
    "            \n",
    "            if na_fractions_state[column] != 100.0:\n",
    "                df_state.loc[df_state['STATE'] == state,\n",
    "                             column] = df_state.loc[df_state['STATE'] == state,\n",
    "                                                    column].interpolate()\n",
    "    \n",
    "        states_df_list.append(df_state)\n",
    "        \n",
    "    df_interpolated = pd.concat(states_df_list)\n",
    "    df_interpolated.index = np.arange(len(df_interpolated))\n",
    "    \n",
    "    return df_interpolated"
   ]
  },
  {
   "cell_type": "code",
   "execution_count": 9,
   "metadata": {
    "scrolled": false
   },
   "outputs": [],
   "source": [
    "df_clean = apply_interpolation(df)"
   ]
  },
  {
   "cell_type": "markdown",
   "metadata": {},
   "source": [
    "### Dataset subset"
   ]
  },
  {
   "cell_type": "code",
   "execution_count": 10,
   "metadata": {},
   "outputs": [],
   "source": [
    "columns = []\n",
    "score_columns = [x for x in df_clean.columns if 'SCORE' in x]  # score columns\n",
    "expenditure_columns = [x for x in df_clean.columns if 'EXPENDITURE' in x]  # expenditure columns\n",
    "grade_columns = ['GRADES_4_G', 'GRADES_8_G']  # grade columns\n",
    "columns += score_columns\n",
    "columns += expenditure_columns\n",
    "columns += grade_columns"
   ]
  },
  {
   "cell_type": "markdown",
   "metadata": {},
   "source": [
    "As I continue the analysis, I am only interested in the following columns:"
   ]
  },
  {
   "cell_type": "code",
   "execution_count": 11,
   "metadata": {},
   "outputs": [
    {
     "name": "stdout",
     "output_type": "stream",
     "text": [
      "['AVG_MATH_4_SCORE', 'AVG_MATH_8_SCORE', 'AVG_READING_4_SCORE', 'AVG_READING_8_SCORE', 'TOTAL_EXPENDITURE', 'INSTRUCTION_EXPENDITURE', 'SUPPORT_SERVICES_EXPENDITURE', 'OTHER_EXPENDITURE', 'CAPITAL_OUTLAY_EXPENDITURE', 'GRADES_4_G', 'GRADES_8_G']\n"
     ]
    }
   ],
   "source": [
    "print(columns)"
   ]
  },
  {
   "cell_type": "code",
   "execution_count": 12,
   "metadata": {},
   "outputs": [],
   "source": [
    "df_subset = df_clean.loc[:, columns].copy()"
   ]
  },
  {
   "cell_type": "markdown",
   "metadata": {},
   "source": [
    "In order to accurately compute weighted averages, I am only interested in rows that do not contain null values. Therefore, I will drop all rows with a null value."
   ]
  },
  {
   "cell_type": "code",
   "execution_count": 13,
   "metadata": {},
   "outputs": [],
   "source": [
    "df_subset = df_subset.dropna().copy()\n",
    "df_subset.index = np.arange(len(df_subset))"
   ]
  },
  {
   "cell_type": "code",
   "execution_count": 14,
   "metadata": {},
   "outputs": [
    {
     "name": "stdout",
     "output_type": "stream",
     "text": [
      "<class 'pandas.core.frame.DataFrame'>\n",
      "Int64Index: 1051 entries, 0 to 1050\n",
      "Data columns (total 11 columns):\n",
      "AVG_MATH_4_SCORE                1051 non-null float64\n",
      "AVG_MATH_8_SCORE                1051 non-null float64\n",
      "AVG_READING_4_SCORE             1051 non-null float64\n",
      "AVG_READING_8_SCORE             1051 non-null float64\n",
      "TOTAL_EXPENDITURE               1051 non-null float64\n",
      "INSTRUCTION_EXPENDITURE         1051 non-null float64\n",
      "SUPPORT_SERVICES_EXPENDITURE    1051 non-null float64\n",
      "OTHER_EXPENDITURE               1051 non-null float64\n",
      "CAPITAL_OUTLAY_EXPENDITURE      1051 non-null float64\n",
      "GRADES_4_G                      1051 non-null float64\n",
      "GRADES_8_G                      1051 non-null float64\n",
      "dtypes: float64(11)\n",
      "memory usage: 98.5 KB\n"
     ]
    }
   ],
   "source": [
    "df_subset.info()"
   ]
  },
  {
   "cell_type": "markdown",
   "metadata": {},
   "source": [
    "### Outliers\n",
    "Let's see if any of these columns contain outliers and if so correct them using the Tukey method."
   ]
  },
  {
   "cell_type": "code",
   "execution_count": 15,
   "metadata": {},
   "outputs": [],
   "source": [
    "def log_transform(df, column_list):\n",
    "    for column in column_list:\n",
    "        df[f'log_{column}'] = np.log(df[column])\n",
    "    return df"
   ]
  },
  {
   "cell_type": "code",
   "execution_count": 16,
   "metadata": {},
   "outputs": [],
   "source": [
    "thresholds = {\n",
    "    'tukey': 1.5\n",
    "}"
   ]
  },
  {
   "cell_type": "code",
   "execution_count": 17,
   "metadata": {},
   "outputs": [],
   "source": [
    "def apply_tukey(df, column, thresh=1.5):\n",
    "    q75, q25 = np.percentile(df[column], [75, 25])\n",
    "    iqr = q75 - q25\n",
    "    min_value = q25 - thresh*iqr\n",
    "    max_value = q75 + thresh*iqr\n",
    "    df[f'tukey_{column}'] = df[column].apply(lambda x: np.min([x, max_value]))\n",
    "    df[f'tukey_{column}'] = df[f'tukey_{column}'].apply(lambda x: np.max([x, min_value]))\n",
    "    return df"
   ]
  },
  {
   "cell_type": "code",
   "execution_count": 18,
   "metadata": {},
   "outputs": [],
   "source": [
    "def correct_outliers(df, column_list):\n",
    "    for column in column_list:\n",
    "        # Tukey\n",
    "        df = apply_tukey(df, column, thresh=thresholds['tukey'])\n",
    "        \n",
    "    return df"
   ]
  },
  {
   "cell_type": "code",
   "execution_count": 19,
   "metadata": {},
   "outputs": [],
   "source": [
    "def stack_dataframe(df, column_list):\n",
    "    df_stacked = df.loc[:, column_list].stack().copy()\n",
    "    df_stacked.index = df_stacked.index.droplevel()\n",
    "    df_stacked = df_stacked.reset_index().copy()\n",
    "    df_stacked = df_stacked.rename(columns={'index': 'label', 0: 'value'})\n",
    "    df_stacked = df_stacked.sort_values(by='label')\n",
    "    df_stacked.index = np.arange(len(df_stacked))\n",
    "    return df_stacked"
   ]
  },
  {
   "cell_type": "code",
   "execution_count": 20,
   "metadata": {},
   "outputs": [],
   "source": [
    "def look_for_outliers(df, column_list):\n",
    "    \n",
    "    if len(column_list) > 1:\n",
    "        df_stacked = stack_dataframe(df, column_list)\n",
    "        sns.catplot(x='label', y='value', data=df_stacked, height=6, aspect=12/6, kind='box')\n",
    "        plt.show()\n",
    "    else:\n",
    "        sns.catplot(y=column_list[0], data=df, height=6, aspect=12/6, kind='box')\n",
    "        plt.show()"
   ]
  },
  {
   "cell_type": "code",
   "execution_count": 21,
   "metadata": {},
   "outputs": [
    {
     "data": {
      "image/png": "[encoded data removed]",
      "text/plain": [
       "<Figure size 864x432 with 1 Axes>"
      ]
     },
     "metadata": {
      "needs_background": "light"
     },
     "output_type": "display_data"
    }
   ],
   "source": [
    "look_for_outliers(df_subset, score_columns)"
   ]
  },
  {
   "cell_type": "code",
   "execution_count": 22,
   "metadata": {},
   "outputs": [
    {
     "data": {
      "image/png": "[encoded data removed]",
      "text/plain": [
       "<Figure size 864x432 with 1 Axes>"
      ]
     },
     "metadata": {
      "needs_background": "light"
     },
     "output_type": "display_data"
    }
   ],
   "source": [
    "look_for_outliers(df_subset, expenditure_columns)"
   ]
  },
  {
   "cell_type": "code",
   "execution_count": 23,
   "metadata": {},
   "outputs": [
    {
     "data": {
      "image/png": "[encoded data removed]",
      "text/plain": [
       "<Figure size 864x432 with 1 Axes>"
      ]
     },
     "metadata": {
      "needs_background": "light"
     },
     "output_type": "display_data"
    }
   ],
   "source": [
    "look_for_outliers(df_subset, grade_columns)"
   ]
  },
  {
   "cell_type": "markdown",
   "metadata": {},
   "source": [
    "**Observations:**\n",
    "\n",
    "All values contain outliers. The scores are left skewed with small tails. The expenditure types and grades are right skewed with a long tail to large values.\n",
    "\n",
    "Plan:\n",
    "1. Log transform expenditure columns.\n",
    "2. Recheck for outliers.\n",
    "3. Leave grade columns alone as I will only be interested in ratios between values to compute weighted averages.\n",
    "4. Correct outliers in scores using Tukey.\n",
    "5. If there are still outlies in log transformed expenditure columns, correct these using Tukey."
   ]
  },
  {
   "cell_type": "code",
   "execution_count": 24,
   "metadata": {
    "scrolled": false
   },
   "outputs": [],
   "source": [
    "df_subset = log_transform(df_subset, expenditure_columns)"
   ]
  },
  {
   "cell_type": "code",
   "execution_count": 25,
   "metadata": {},
   "outputs": [
    {
     "data": {
      "image/png": "[encoded data removed]",
      "text/plain": [
       "<Figure size 864x432 with 1 Axes>"
      ]
     },
     "metadata": {
      "needs_background": "light"
     },
     "output_type": "display_data"
    }
   ],
   "source": [
    "log_expenditure_columns = [f'log_{x}' for x in expenditure_columns]\n",
    "look_for_outliers(df_subset, log_expenditure_columns)"
   ]
  },
  {
   "cell_type": "markdown",
   "metadata": {},
   "source": [
    "Correct outliers in scores."
   ]
  },
  {
   "cell_type": "code",
   "execution_count": 26,
   "metadata": {},
   "outputs": [],
   "source": [
    "df_subset = correct_outliers(df_subset, score_columns)"
   ]
  },
  {
   "cell_type": "code",
   "execution_count": 27,
   "metadata": {},
   "outputs": [],
   "source": [
    "corrected_score_columns = [f'tukey_{x}' for x in score_columns]"
   ]
  },
  {
   "cell_type": "code",
   "execution_count": 28,
   "metadata": {},
   "outputs": [
    {
     "data": {
      "image/png": "[encoded data removed]",
      "text/plain": [
       "<Figure size 864x432 with 1 Axes>"
      ]
     },
     "metadata": {
      "needs_background": "light"
     },
     "output_type": "display_data"
    }
   ],
   "source": [
    "look_for_outliers(df_subset, corrected_score_columns)"
   ]
  },
  {
   "cell_type": "code",
   "execution_count": 29,
   "metadata": {},
   "outputs": [],
   "source": [
    "columns = []\n",
    "columns += corrected_score_columns  # score columns\n",
    "columns += log_expenditure_columns  # expenditure columns\n",
    "columns += ['GRADES_4_G', 'GRADES_8_G']  # grade columns\n",
    "df_subset = df_subset.loc[:, columns].copy()"
   ]
  },
  {
   "cell_type": "code",
   "execution_count": 30,
   "metadata": {},
   "outputs": [
    {
     "name": "stdout",
     "output_type": "stream",
     "text": [
      "<class 'pandas.core.frame.DataFrame'>\n",
      "Int64Index: 1051 entries, 0 to 1050\n",
      "Data columns (total 11 columns):\n",
      "tukey_AVG_MATH_4_SCORE              1051 non-null float64\n",
      "tukey_AVG_MATH_8_SCORE              1051 non-null float64\n",
      "tukey_AVG_READING_4_SCORE           1051 non-null float64\n",
      "tukey_AVG_READING_8_SCORE           1051 non-null float64\n",
      "log_TOTAL_EXPENDITURE               1051 non-null float64\n",
      "log_INSTRUCTION_EXPENDITURE         1051 non-null float64\n",
      "log_SUPPORT_SERVICES_EXPENDITURE    1051 non-null float64\n",
      "log_OTHER_EXPENDITURE               1051 non-null float64\n",
      "log_CAPITAL_OUTLAY_EXPENDITURE      1051 non-null float64\n",
      "GRADES_4_G                          1051 non-null float64\n",
      "GRADES_8_G                          1051 non-null float64\n",
      "dtypes: float64(11)\n",
      "memory usage: 98.5 KB\n"
     ]
    }
   ],
   "source": [
    "df_subset.info()"
   ]
  },
  {
   "cell_type": "markdown",
   "metadata": {},
   "source": [
    "## Data Exploration\n",
    "Examine distributions in scores by grade."
   ]
  },
  {
   "cell_type": "code",
   "execution_count": 31,
   "metadata": {},
   "outputs": [],
   "source": [
    "def plot_score_distributions(df, prefix):\n",
    "    score_types = ['math', 'reading']\n",
    "    grades = [4, 8]\n",
    "    for score_type in score_types:\n",
    "        f, axes = plt.subplots(1, 1, figsize=(12, 6))\n",
    "        for grade in grades:\n",
    "            sns.distplot(df_subset[f'{prefix}_AVG_{score_type.upper()}_{grade}_SCORE'], kde=False, ax=axes)\n",
    "        plt.legend([f'{x}th Grade' for x in grades])\n",
    "        plt.xlabel(f'Average {score_type.title()} Score ({prefix.title()})')\n",
    "        plt.show()"
   ]
  },
  {
   "cell_type": "code",
   "execution_count": 32,
   "metadata": {},
   "outputs": [
    {
     "data": {
      "image/png": "[encoded data removed]",
      "text/plain": [
       "<Figure size 864x432 with 1 Axes>"
      ]
     },
     "metadata": {
      "needs_background": "light"
     },
     "output_type": "display_data"
    },
    {
     "data": {
      "image/png": "[encoded data removed]",
      "text/plain": [
       "<Figure size 864x432 with 1 Axes>"
      ]
     },
     "metadata": {
      "needs_background": "light"
     },
     "output_type": "display_data"
    }
   ],
   "source": [
    "plot_score_distributions(df_subset, 'tukey')"
   ]
  },
  {
   "cell_type": "markdown",
   "metadata": {},
   "source": [
    "**Observations:**\n",
    "\n",
    "There is a wide difference in scores between the 4th grade and the 8th grade. Also, each distribution does not appear normal."
   ]
  },
  {
   "cell_type": "markdown",
   "metadata": {},
   "source": [
    "### Check for normality"
   ]
  },
  {
   "cell_type": "code",
   "execution_count": 33,
   "metadata": {},
   "outputs": [],
   "source": [
    "def check_scores_for_normality(df, prefix):\n",
    "    score_types = ['math', 'reading']\n",
    "    grades = [4, 8]\n",
    "    for score_type in score_types:\n",
    "        for grade in grades:\n",
    "            column = f'{prefix}_AVG_{score_type.upper()}_{grade}_SCORE'\n",
    "            normal_stat, pval = normaltest(df[column])\n",
    "            print(f'There is a {pval} probability that the {column} distribution is normal.')"
   ]
  },
  {
   "cell_type": "code",
   "execution_count": 34,
   "metadata": {},
   "outputs": [
    {
     "name": "stdout",
     "output_type": "stream",
     "text": [
      "There is a 4.2422116678518114e-17 probability that the tukey_AVG_MATH_4_SCORE distribution is normal.\n",
      "There is a 1.0071991451672394e-11 probability that the tukey_AVG_MATH_8_SCORE distribution is normal.\n",
      "There is a 1.3670213912968299e-12 probability that the tukey_AVG_READING_4_SCORE distribution is normal.\n",
      "There is a 1.5911136306650389e-07 probability that the tukey_AVG_READING_8_SCORE distribution is normal.\n"
     ]
    }
   ],
   "source": [
    "check_scores_for_normality(df_subset, 'tukey')"
   ]
  },
  {
   "cell_type": "markdown",
   "metadata": {},
   "source": [
    "**Observations:**\n",
    "\n",
    "The null hypthesis that these distributions are normal can be rejected since all p-values are far below 0.05. Let's apply a Box-Cox transformation to correct for normality."
   ]
  },
  {
   "cell_type": "markdown",
   "metadata": {},
   "source": [
    "### Correct for non-normality"
   ]
  },
  {
   "cell_type": "code",
   "execution_count": 35,
   "metadata": {},
   "outputs": [],
   "source": [
    "def boxcox_transform_scores(df, prefix):\n",
    "    score_types = ['math', 'reading']\n",
    "    grades = [4, 8]\n",
    "    boxcox_score_columns = []\n",
    "    for score_type in score_types:\n",
    "        for grade in grades:\n",
    "            column = f'{prefix}_AVG_{score_type.upper()}_{grade}_SCORE'\n",
    "            new_column = f'boxcox_AVG_{score_type.upper()}_{grade}_SCORE'\n",
    "            boxcox_transform, _ = boxcox(df[column])\n",
    "            df[new_column] = boxcox_transform\n",
    "    return df"
   ]
  },
  {
   "cell_type": "code",
   "execution_count": 36,
   "metadata": {},
   "outputs": [],
   "source": [
    "df_subset = boxcox_transform_scores(df_subset, 'tukey')"
   ]
  },
  {
   "cell_type": "code",
   "execution_count": 37,
   "metadata": {},
   "outputs": [
    {
     "name": "stdout",
     "output_type": "stream",
     "text": [
      "There is a 0.014487737920872105 probability that the boxcox_AVG_MATH_4_SCORE distribution is normal.\n",
      "There is a 0.2130641078232575 probability that the boxcox_AVG_MATH_8_SCORE distribution is normal.\n",
      "There is a 0.5680331303644797 probability that the boxcox_AVG_READING_4_SCORE distribution is normal.\n",
      "There is a 0.5294220324728266 probability that the boxcox_AVG_READING_8_SCORE distribution is normal.\n"
     ]
    }
   ],
   "source": [
    "check_scores_for_normality(df_subset, 'boxcox')"
   ]
  },
  {
   "cell_type": "code",
   "execution_count": 38,
   "metadata": {},
   "outputs": [
    {
     "data": {
      "image/png": "[encoded data removed]",
      "text/plain": [
       "<Figure size 864x432 with 1 Axes>"
      ]
     },
     "metadata": {
      "needs_background": "light"
     },
     "output_type": "display_data"
    },
    {
     "data": {
      "image/png": "[encoded data removed]",
      "text/plain": [
       "<Figure size 864x432 with 1 Axes>"
      ]
     },
     "metadata": {
      "needs_background": "light"
     },
     "output_type": "display_data"
    }
   ],
   "source": [
    "plot_score_distributions(df_subset, 'boxcox')"
   ]
  },
  {
   "cell_type": "markdown",
   "metadata": {},
   "source": [
    "**Observations:**\n",
    "\n",
    "The larger p-values indicate that the Box-Cox transformation improved normality for all of the score values. But, the Box-Cox transformed distributions look like they are on very different scales. I will standardize each distribution so that it is on the same scale."
   ]
  },
  {
   "cell_type": "code",
   "execution_count": 39,
   "metadata": {},
   "outputs": [],
   "source": [
    "def standardize_scores(df, prefix):\n",
    "    score_types = ['math', 'reading']\n",
    "    grades = [4, 8]\n",
    "    for score_type in score_types:\n",
    "        for grade in grades:\n",
    "            mean_score = df[f'{prefix}_AVG_{score_type.upper()}_{grade}_SCORE'].mean()\n",
    "            std_score = df[f'{prefix}_AVG_{score_type.upper()}_{grade}_SCORE'].std()\n",
    "            standardized = (df[f'{prefix}_AVG_{score_type.upper()}_{grade}_SCORE'] - mean_score) / std_score\n",
    "            df[f'standard_AVG_{score_type.upper()}_{grade}_SCORE'] = standardized\n",
    "    return df"
   ]
  },
  {
   "cell_type": "code",
   "execution_count": 40,
   "metadata": {},
   "outputs": [],
   "source": [
    "df_standardized = standardize_scores(df_subset, 'boxcox')"
   ]
  },
  {
   "cell_type": "code",
   "execution_count": 41,
   "metadata": {},
   "outputs": [
    {
     "data": {
      "image/png": "[encoded data removed]",
      "text/plain": [
       "<Figure size 864x432 with 1 Axes>"
      ]
     },
     "metadata": {
      "needs_background": "light"
     },
     "output_type": "display_data"
    },
    {
     "data": {
      "image/png": "[encoded data removed]",
      "text/plain": [
       "<Figure size 864x432 with 1 Axes>"
      ]
     },
     "metadata": {
      "needs_background": "light"
     },
     "output_type": "display_data"
    }
   ],
   "source": [
    "plot_score_distributions(df_standardized, 'standard')"
   ]
  },
  {
   "cell_type": "code",
   "execution_count": 42,
   "metadata": {},
   "outputs": [
    {
     "name": "stdout",
     "output_type": "stream",
     "text": [
      "There is a 0.01448773792087239 probability that the standard_AVG_MATH_4_SCORE distribution is normal.\n",
      "There is a 0.21306410782325916 probability that the standard_AVG_MATH_8_SCORE distribution is normal.\n",
      "There is a 0.5680331303644732 probability that the standard_AVG_READING_4_SCORE distribution is normal.\n",
      "There is a 0.5294220324728217 probability that the standard_AVG_READING_8_SCORE distribution is normal.\n"
     ]
    }
   ],
   "source": [
    "check_scores_for_normality(df_standardized, 'standard')"
   ]
  },
  {
   "cell_type": "markdown",
   "metadata": {},
   "source": [
    "### Compute average score\n",
    "Since all scores have been standardarized, they are all on the same scale. Therefore, to compute the average score I will just do a simple average of the four score columns."
   ]
  },
  {
   "cell_type": "code",
   "execution_count": 43,
   "metadata": {},
   "outputs": [
    {
     "data": {
      "text/html": [
       "<div>\n",
       "<style scoped>\n",
       "    .dataframe tbody tr th:only-of-type {\n",
       "        vertical-align: middle;\n",
       "    }\n",
       "\n",
       "    .dataframe tbody tr th {\n",
       "        vertical-align: top;\n",
       "    }\n",
       "\n",
       "    .dataframe thead th {\n",
       "        text-align: right;\n",
       "    }\n",
       "</style>\n",
       "<table border=\"1\" class=\"dataframe\">\n",
       "  <thead>\n",
       "    <tr style=\"text-align: right;\">\n",
       "      <th></th>\n",
       "      <th>count</th>\n",
       "      <th>mean</th>\n",
       "      <th>std</th>\n",
       "      <th>min</th>\n",
       "      <th>25%</th>\n",
       "      <th>50%</th>\n",
       "      <th>75%</th>\n",
       "      <th>max</th>\n",
       "    </tr>\n",
       "  </thead>\n",
       "  <tbody>\n",
       "    <tr>\n",
       "      <th>standard_AVG_MATH_4_SCORE</th>\n",
       "      <td>1051.0</td>\n",
       "      <td>-1.081702e-16</td>\n",
       "      <td>1.0</td>\n",
       "      <td>-2.008861</td>\n",
       "      <td>-0.685680</td>\n",
       "      <td>0.051982</td>\n",
       "      <td>0.715333</td>\n",
       "      <td>2.746712</td>\n",
       "    </tr>\n",
       "    <tr>\n",
       "      <th>standard_AVG_MATH_8_SCORE</th>\n",
       "      <td>1051.0</td>\n",
       "      <td>-3.650743e-16</td>\n",
       "      <td>1.0</td>\n",
       "      <td>-2.131746</td>\n",
       "      <td>-0.697199</td>\n",
       "      <td>0.103575</td>\n",
       "      <td>0.681415</td>\n",
       "      <td>3.129049</td>\n",
       "    </tr>\n",
       "    <tr>\n",
       "      <th>standard_AVG_READING_4_SCORE</th>\n",
       "      <td>1051.0</td>\n",
       "      <td>1.000574e-15</td>\n",
       "      <td>1.0</td>\n",
       "      <td>-2.107460</td>\n",
       "      <td>-0.708075</td>\n",
       "      <td>0.132667</td>\n",
       "      <td>0.654666</td>\n",
       "      <td>3.292714</td>\n",
       "    </tr>\n",
       "    <tr>\n",
       "      <th>standard_AVG_READING_8_SCORE</th>\n",
       "      <td>1051.0</td>\n",
       "      <td>3.245105e-16</td>\n",
       "      <td>1.0</td>\n",
       "      <td>-2.341398</td>\n",
       "      <td>-0.730358</td>\n",
       "      <td>0.073141</td>\n",
       "      <td>0.693243</td>\n",
       "      <td>3.507664</td>\n",
       "    </tr>\n",
       "  </tbody>\n",
       "</table>\n",
       "</div>"
      ],
      "text/plain": [
       "                               count          mean  std       min       25%  \\\n",
       "standard_AVG_MATH_4_SCORE     1051.0 -1.081702e-16  1.0 -2.008861 -0.685680   \n",
       "standard_AVG_MATH_8_SCORE     1051.0 -3.650743e-16  1.0 -2.131746 -0.697199   \n",
       "standard_AVG_READING_4_SCORE  1051.0  1.000574e-15  1.0 -2.107460 -0.708075   \n",
       "standard_AVG_READING_8_SCORE  1051.0  3.245105e-16  1.0 -2.341398 -0.730358   \n",
       "\n",
       "                                   50%       75%       max  \n",
       "standard_AVG_MATH_4_SCORE     0.051982  0.715333  2.746712  \n",
       "standard_AVG_MATH_8_SCORE     0.103575  0.681415  3.129049  \n",
       "standard_AVG_READING_4_SCORE  0.132667  0.654666  3.292714  \n",
       "standard_AVG_READING_8_SCORE  0.073141  0.693243  3.507664  "
      ]
     },
     "execution_count": 43,
     "metadata": {},
     "output_type": "execute_result"
    }
   ],
   "source": [
    "standardized_score_columns = [f'standard_{x}' for x in score_columns]\n",
    "df_standardized['AVG_STANDARD_SCORE'] = df_standardized.loc[:, standardized_score_columns].mean(axis=1)\n",
    "df_standardized.loc[:, standardized_score_columns].describe().T"
   ]
  },
  {
   "cell_type": "code",
   "execution_count": 44,
   "metadata": {},
   "outputs": [
    {
     "data": {
      "image/png": "[encoded data removed]",
      "text/plain": [
       "<Figure size 864x432 with 1 Axes>"
      ]
     },
     "metadata": {
      "needs_background": "light"
     },
     "output_type": "display_data"
    }
   ],
   "source": [
    "f, axes = plt.subplots(1, 1, figsize=(12, 6))\n",
    "sns.distplot(df_subset['AVG_STANDARD_SCORE'], kde=False, ax=axes)\n",
    "plt.xlabel('Average Standardized Score')\n",
    "plt.show()"
   ]
  },
  {
   "cell_type": "code",
   "execution_count": 45,
   "metadata": {},
   "outputs": [
    {
     "name": "stdout",
     "output_type": "stream",
     "text": [
      "There is a 0.8224591316052938 probability that this distribution is normal.\n"
     ]
    }
   ],
   "source": [
    "normal_stat, pval = normaltest(df_standardized['AVG_STANDARD_SCORE'])\n",
    "print(f'There is a {pval} probability that this distribution is normal.')"
   ]
  },
  {
   "cell_type": "markdown",
   "metadata": {},
   "source": [
    "### Standardize expendiature columns\n",
    "Before performing PCA, I will standardize all of the expenditure columns and add the additional _AVG\\__STANDARD\\__SCORE_ column."
   ]
  },
  {
   "cell_type": "code",
   "execution_count": 46,
   "metadata": {},
   "outputs": [],
   "source": [
    "df_standard_expenditures = pd.DataFrame(StandardScaler().fit_transform(df_subset.loc[:, \n",
    "                                                                                     log_expenditure_columns]), \n",
    "                                        columns=log_expenditure_columns)\n",
    "df_standard_expenditures['AVG_STANDARD_SCORE'] = df_standardized['AVG_STANDARD_SCORE'].values"
   ]
  },
  {
   "cell_type": "code",
   "execution_count": 47,
   "metadata": {},
   "outputs": [
    {
     "data": {
      "text/html": [
       "<div>\n",
       "<style scoped>\n",
       "    .dataframe tbody tr th:only-of-type {\n",
       "        vertical-align: middle;\n",
       "    }\n",
       "\n",
       "    .dataframe tbody tr th {\n",
       "        vertical-align: top;\n",
       "    }\n",
       "\n",
       "    .dataframe thead th {\n",
       "        text-align: right;\n",
       "    }\n",
       "</style>\n",
       "<table border=\"1\" class=\"dataframe\">\n",
       "  <thead>\n",
       "    <tr style=\"text-align: right;\">\n",
       "      <th></th>\n",
       "      <th>log_TOTAL_EXPENDITURE</th>\n",
       "      <th>log_INSTRUCTION_EXPENDITURE</th>\n",
       "      <th>log_SUPPORT_SERVICES_EXPENDITURE</th>\n",
       "      <th>log_OTHER_EXPENDITURE</th>\n",
       "      <th>log_CAPITAL_OUTLAY_EXPENDITURE</th>\n",
       "      <th>AVG_STANDARD_SCORE</th>\n",
       "    </tr>\n",
       "  </thead>\n",
       "  <tbody>\n",
       "    <tr>\n",
       "      <th>count</th>\n",
       "      <td>1.051000e+03</td>\n",
       "      <td>1.051000e+03</td>\n",
       "      <td>1.051000e+03</td>\n",
       "      <td>1.051000e+03</td>\n",
       "      <td>1.051000e+03</td>\n",
       "      <td>1.051000e+03</td>\n",
       "    </tr>\n",
       "    <tr>\n",
       "      <th>mean</th>\n",
       "      <td>-1.216914e-16</td>\n",
       "      <td>3.752152e-16</td>\n",
       "      <td>-8.416991e-16</td>\n",
       "      <td>3.380317e-17</td>\n",
       "      <td>-1.656356e-16</td>\n",
       "      <td>2.028190e-16</td>\n",
       "    </tr>\n",
       "    <tr>\n",
       "      <th>std</th>\n",
       "      <td>1.000476e+00</td>\n",
       "      <td>1.000476e+00</td>\n",
       "      <td>1.000476e+00</td>\n",
       "      <td>1.000476e+00</td>\n",
       "      <td>1.000476e+00</td>\n",
       "      <td>7.786997e-01</td>\n",
       "    </tr>\n",
       "    <tr>\n",
       "      <th>min</th>\n",
       "      <td>-2.063382e+00</td>\n",
       "      <td>-2.221267e+00</td>\n",
       "      <td>-2.220649e+00</td>\n",
       "      <td>-2.295888e+00</td>\n",
       "      <td>-2.919238e+00</td>\n",
       "      <td>-2.019888e+00</td>\n",
       "    </tr>\n",
       "    <tr>\n",
       "      <th>25%</th>\n",
       "      <td>-7.870343e-01</td>\n",
       "      <td>-7.529442e-01</td>\n",
       "      <td>-7.741245e-01</td>\n",
       "      <td>-7.729947e-01</td>\n",
       "      <td>-6.892989e-01</td>\n",
       "      <td>-5.080228e-01</td>\n",
       "    </tr>\n",
       "    <tr>\n",
       "      <th>50%</th>\n",
       "      <td>2.351136e-02</td>\n",
       "      <td>2.199550e-03</td>\n",
       "      <td>3.159070e-02</td>\n",
       "      <td>1.166915e-01</td>\n",
       "      <td>1.310709e-01</td>\n",
       "      <td>3.237817e-02</td>\n",
       "    </tr>\n",
       "    <tr>\n",
       "      <th>75%</th>\n",
       "      <td>6.406149e-01</td>\n",
       "      <td>6.454788e-01</td>\n",
       "      <td>6.718942e-01</td>\n",
       "      <td>6.617470e-01</td>\n",
       "      <td>6.017813e-01</td>\n",
       "      <td>5.297765e-01</td>\n",
       "    </tr>\n",
       "    <tr>\n",
       "      <th>max</th>\n",
       "      <td>2.533880e+00</td>\n",
       "      <td>2.526569e+00</td>\n",
       "      <td>2.583305e+00</td>\n",
       "      <td>2.485513e+00</td>\n",
       "      <td>2.492658e+00</td>\n",
       "      <td>2.428571e+00</td>\n",
       "    </tr>\n",
       "  </tbody>\n",
       "</table>\n",
       "</div>"
      ],
      "text/plain": [
       "       log_TOTAL_EXPENDITURE  log_INSTRUCTION_EXPENDITURE  \\\n",
       "count           1.051000e+03                 1.051000e+03   \n",
       "mean           -1.216914e-16                 3.752152e-16   \n",
       "std             1.000476e+00                 1.000476e+00   \n",
       "min            -2.063382e+00                -2.221267e+00   \n",
       "25%            -7.870343e-01                -7.529442e-01   \n",
       "50%             2.351136e-02                 2.199550e-03   \n",
       "75%             6.406149e-01                 6.454788e-01   \n",
       "max             2.533880e+00                 2.526569e+00   \n",
       "\n",
       "       log_SUPPORT_SERVICES_EXPENDITURE  log_OTHER_EXPENDITURE  \\\n",
       "count                      1.051000e+03           1.051000e+03   \n",
       "mean                      -8.416991e-16           3.380317e-17   \n",
       "std                        1.000476e+00           1.000476e+00   \n",
       "min                       -2.220649e+00          -2.295888e+00   \n",
       "25%                       -7.741245e-01          -7.729947e-01   \n",
       "50%                        3.159070e-02           1.166915e-01   \n",
       "75%                        6.718942e-01           6.617470e-01   \n",
       "max                        2.583305e+00           2.485513e+00   \n",
       "\n",
       "       log_CAPITAL_OUTLAY_EXPENDITURE  AVG_STANDARD_SCORE  \n",
       "count                    1.051000e+03        1.051000e+03  \n",
       "mean                    -1.656356e-16        2.028190e-16  \n",
       "std                      1.000476e+00        7.786997e-01  \n",
       "min                     -2.919238e+00       -2.019888e+00  \n",
       "25%                     -6.892989e-01       -5.080228e-01  \n",
       "50%                      1.310709e-01        3.237817e-02  \n",
       "75%                      6.017813e-01        5.297765e-01  \n",
       "max                      2.492658e+00        2.428571e+00  "
      ]
     },
     "execution_count": 47,
     "metadata": {},
     "output_type": "execute_result"
    }
   ],
   "source": [
    "df_standard_expenditures.describe()"
   ]
  },
  {
   "cell_type": "markdown",
   "metadata": {},
   "source": [
    "### Correlations\n",
    "Let's compare the correlations between the average score and expenditure columns.\n",
    "\n",
    "1. Define column subset\n",
    "2. Standardize all values between 0 and 1, with a standard deviation of 1.\n",
    "3. Use Pandas .corr() function to compute correlation coefficients."
   ]
  },
  {
   "cell_type": "code",
   "execution_count": 48,
   "metadata": {},
   "outputs": [
    {
     "data": {
      "text/html": [
       "<div>\n",
       "<style scoped>\n",
       "    .dataframe tbody tr th:only-of-type {\n",
       "        vertical-align: middle;\n",
       "    }\n",
       "\n",
       "    .dataframe tbody tr th {\n",
       "        vertical-align: top;\n",
       "    }\n",
       "\n",
       "    .dataframe thead th {\n",
       "        text-align: right;\n",
       "    }\n",
       "</style>\n",
       "<table border=\"1\" class=\"dataframe\">\n",
       "  <thead>\n",
       "    <tr style=\"text-align: right;\">\n",
       "      <th></th>\n",
       "      <th>log_TOTAL_EXPENDITURE</th>\n",
       "      <th>log_INSTRUCTION_EXPENDITURE</th>\n",
       "      <th>log_SUPPORT_SERVICES_EXPENDITURE</th>\n",
       "      <th>log_OTHER_EXPENDITURE</th>\n",
       "      <th>log_CAPITAL_OUTLAY_EXPENDITURE</th>\n",
       "      <th>AVG_STANDARD_SCORE</th>\n",
       "    </tr>\n",
       "  </thead>\n",
       "  <tbody>\n",
       "    <tr>\n",
       "      <th>log_TOTAL_EXPENDITURE</th>\n",
       "      <td>1.000000</td>\n",
       "      <td>0.997312</td>\n",
       "      <td>0.995206</td>\n",
       "      <td>0.960810</td>\n",
       "      <td>0.919751</td>\n",
       "      <td>0.184190</td>\n",
       "    </tr>\n",
       "    <tr>\n",
       "      <th>log_INSTRUCTION_EXPENDITURE</th>\n",
       "      <td>0.997312</td>\n",
       "      <td>1.000000</td>\n",
       "      <td>0.991116</td>\n",
       "      <td>0.957113</td>\n",
       "      <td>0.900628</td>\n",
       "      <td>0.201778</td>\n",
       "    </tr>\n",
       "    <tr>\n",
       "      <th>log_SUPPORT_SERVICES_EXPENDITURE</th>\n",
       "      <td>0.995206</td>\n",
       "      <td>0.991116</td>\n",
       "      <td>1.000000</td>\n",
       "      <td>0.954676</td>\n",
       "      <td>0.903974</td>\n",
       "      <td>0.169552</td>\n",
       "    </tr>\n",
       "    <tr>\n",
       "      <th>log_OTHER_EXPENDITURE</th>\n",
       "      <td>0.960810</td>\n",
       "      <td>0.957113</td>\n",
       "      <td>0.954676</td>\n",
       "      <td>1.000000</td>\n",
       "      <td>0.892637</td>\n",
       "      <td>0.090708</td>\n",
       "    </tr>\n",
       "    <tr>\n",
       "      <th>log_CAPITAL_OUTLAY_EXPENDITURE</th>\n",
       "      <td>0.919751</td>\n",
       "      <td>0.900628</td>\n",
       "      <td>0.903974</td>\n",
       "      <td>0.892637</td>\n",
       "      <td>1.000000</td>\n",
       "      <td>0.068304</td>\n",
       "    </tr>\n",
       "    <tr>\n",
       "      <th>AVG_STANDARD_SCORE</th>\n",
       "      <td>0.184190</td>\n",
       "      <td>0.201778</td>\n",
       "      <td>0.169552</td>\n",
       "      <td>0.090708</td>\n",
       "      <td>0.068304</td>\n",
       "      <td>1.000000</td>\n",
       "    </tr>\n",
       "  </tbody>\n",
       "</table>\n",
       "</div>"
      ],
      "text/plain": [
       "                                  log_TOTAL_EXPENDITURE  \\\n",
       "log_TOTAL_EXPENDITURE                          1.000000   \n",
       "log_INSTRUCTION_EXPENDITURE                    0.997312   \n",
       "log_SUPPORT_SERVICES_EXPENDITURE               0.995206   \n",
       "log_OTHER_EXPENDITURE                          0.960810   \n",
       "log_CAPITAL_OUTLAY_EXPENDITURE                 0.919751   \n",
       "AVG_STANDARD_SCORE                             0.184190   \n",
       "\n",
       "                                  log_INSTRUCTION_EXPENDITURE  \\\n",
       "log_TOTAL_EXPENDITURE                                0.997312   \n",
       "log_INSTRUCTION_EXPENDITURE                          1.000000   \n",
       "log_SUPPORT_SERVICES_EXPENDITURE                     0.991116   \n",
       "log_OTHER_EXPENDITURE                                0.957113   \n",
       "log_CAPITAL_OUTLAY_EXPENDITURE                       0.900628   \n",
       "AVG_STANDARD_SCORE                                   0.201778   \n",
       "\n",
       "                                  log_SUPPORT_SERVICES_EXPENDITURE  \\\n",
       "log_TOTAL_EXPENDITURE                                     0.995206   \n",
       "log_INSTRUCTION_EXPENDITURE                               0.991116   \n",
       "log_SUPPORT_SERVICES_EXPENDITURE                          1.000000   \n",
       "log_OTHER_EXPENDITURE                                     0.954676   \n",
       "log_CAPITAL_OUTLAY_EXPENDITURE                            0.903974   \n",
       "AVG_STANDARD_SCORE                                        0.169552   \n",
       "\n",
       "                                  log_OTHER_EXPENDITURE  \\\n",
       "log_TOTAL_EXPENDITURE                          0.960810   \n",
       "log_INSTRUCTION_EXPENDITURE                    0.957113   \n",
       "log_SUPPORT_SERVICES_EXPENDITURE               0.954676   \n",
       "log_OTHER_EXPENDITURE                          1.000000   \n",
       "log_CAPITAL_OUTLAY_EXPENDITURE                 0.892637   \n",
       "AVG_STANDARD_SCORE                             0.090708   \n",
       "\n",
       "                                  log_CAPITAL_OUTLAY_EXPENDITURE  \\\n",
       "log_TOTAL_EXPENDITURE                                   0.919751   \n",
       "log_INSTRUCTION_EXPENDITURE                             0.900628   \n",
       "log_SUPPORT_SERVICES_EXPENDITURE                        0.903974   \n",
       "log_OTHER_EXPENDITURE                                   0.892637   \n",
       "log_CAPITAL_OUTLAY_EXPENDITURE                          1.000000   \n",
       "AVG_STANDARD_SCORE                                      0.068304   \n",
       "\n",
       "                                  AVG_STANDARD_SCORE  \n",
       "log_TOTAL_EXPENDITURE                       0.184190  \n",
       "log_INSTRUCTION_EXPENDITURE                 0.201778  \n",
       "log_SUPPORT_SERVICES_EXPENDITURE            0.169552  \n",
       "log_OTHER_EXPENDITURE                       0.090708  \n",
       "log_CAPITAL_OUTLAY_EXPENDITURE              0.068304  \n",
       "AVG_STANDARD_SCORE                          1.000000  "
      ]
     },
     "execution_count": 48,
     "metadata": {},
     "output_type": "execute_result"
    }
   ],
   "source": [
    "df_standard_expenditures.corr()"
   ]
  },
  {
   "cell_type": "code",
   "execution_count": 49,
   "metadata": {},
   "outputs": [
    {
     "data": {
      "text/plain": [
       "log_TOTAL_EXPENDITURE               0.184190\n",
       "log_INSTRUCTION_EXPENDITURE         0.201778\n",
       "log_SUPPORT_SERVICES_EXPENDITURE    0.169552\n",
       "log_OTHER_EXPENDITURE               0.090708\n",
       "log_CAPITAL_OUTLAY_EXPENDITURE      0.068304\n",
       "AVG_STANDARD_SCORE                  1.000000\n",
       "Name: AVG_STANDARD_SCORE, dtype: float64"
      ]
     },
     "execution_count": 49,
     "metadata": {},
     "output_type": "execute_result"
    }
   ],
   "source": [
    "df_standard_expenditures.corr()['AVG_STANDARD_SCORE']"
   ]
  },
  {
   "cell_type": "markdown",
   "metadata": {},
   "source": [
    "**Observations:** \n",
    "\n",
    "Instruction expenditure has the highest correlation with weighted averaged scores, 0.21."
   ]
  },
  {
   "cell_type": "markdown",
   "metadata": {},
   "source": [
    "## PCA\n",
    "Calculate PCA for the expenditure variables and compare with the overall weighted average.\n",
    "\n",
    "1. Compute covariance matrix.\n",
    "2. Compute eigenvalues and eigenvectors.\n",
    "3. Plot eigenvalues.\n",
    "4. Print eigenvectors.\n",
    "5. Choose number of components to use when performing PCA.\n",
    "6. Compute PCA.\n",
    "7. Print variance explained ratios."
   ]
  },
  {
   "cell_type": "markdown",
   "metadata": {},
   "source": [
    "### Calculate covariance matrix."
   ]
  },
  {
   "cell_type": "code",
   "execution_count": 50,
   "metadata": {},
   "outputs": [
    {
     "name": "stdout",
     "output_type": "stream",
     "text": [
      "Covariance matrix:\n",
      " [[1.00095238 0.99826157 0.99615367 0.96172458 0.92062731]\n",
      " [0.99826157 1.00095238 0.99205996 0.95802474 0.90148602]\n",
      " [0.99615367 0.99205996 1.00095238 0.95558475 0.90483459]\n",
      " [0.96172458 0.95802474 0.95558475 1.00095238 0.8934869 ]\n",
      " [0.92062731 0.90148602 0.90483459 0.8934869  1.00095238]]\n"
     ]
    }
   ],
   "source": [
    "X = StandardScaler().fit_transform(df_standard_expenditures.loc[:, log_expenditure_columns])\n",
    "Xt = X.T\n",
    "Cx = np.cov(Xt)\n",
    "\n",
    "print(f'Covariance matrix:\\n {Cx}')"
   ]
  },
  {
   "cell_type": "markdown",
   "metadata": {},
   "source": [
    "Compute eigen values and eigen vectors."
   ]
  },
  {
   "cell_type": "code",
   "execution_count": 51,
   "metadata": {},
   "outputs": [],
   "source": [
    "eigen_values, eigen_vectors = np.linalg.eig(Cx)"
   ]
  },
  {
   "cell_type": "code",
   "execution_count": 52,
   "metadata": {},
   "outputs": [
    {
     "name": "stdout",
     "output_type": "stream",
     "text": [
      "[[-0.45505594 -0.15498715  0.25062941 -0.82738096 -0.1467267 ]\n",
      " [-0.45260655 -0.26931345  0.27758538  0.49561502 -0.63239994]\n",
      " [-0.45248057 -0.23988766  0.30980388  0.25284257  0.76013645]\n",
      " [-0.44491111 -0.19365841 -0.87391143  0.01157502  0.02636973]\n",
      " [-0.43056573  0.89911044  0.02077569  0.07578356 -0.00622892]]\n"
     ]
    }
   ],
   "source": [
    "print(eigen_vectors)"
   ]
  },
  {
   "cell_type": "code",
   "execution_count": 53,
   "metadata": {},
   "outputs": [
    {
     "data": {
      "image/png": "[encoded data removed]",
      "text/plain": [
       "<Figure size 432x288 with 1 Axes>"
      ]
     },
     "metadata": {
      "needs_background": "light"
     },
     "output_type": "display_data"
    }
   ],
   "source": [
    "plt.plot(eigen_values)\n",
    "plt.xlabel('Component')\n",
    "plt.ylabel('Eigenvalue')\n",
    "plt.show()"
   ]
  },
  {
   "cell_type": "code",
   "execution_count": 54,
   "metadata": {},
   "outputs": [
    {
     "name": "stdout",
     "output_type": "stream",
     "text": [
      "The eigen values are:\n",
      " [4.79572194e+00 1.38369106e-01 6.08378889e-02 7.79633459e-04\n",
      " 9.05333595e-03]\n"
     ]
    }
   ],
   "source": [
    "print(f'The eigen values are:\\n {eigen_values}')"
   ]
  },
  {
   "cell_type": "markdown",
   "metadata": {},
   "source": [
    "### PCA - Scikit-Learn\n",
    "Calculate principle components using Scikit-Learn."
   ]
  },
  {
   "cell_type": "code",
   "execution_count": 55,
   "metadata": {},
   "outputs": [],
   "source": [
    "sklearn_pca = PCA(n_components=2)\n",
    "Y_sklearn = sklearn_pca.fit_transform(X)"
   ]
  },
  {
   "cell_type": "code",
   "execution_count": 56,
   "metadata": {},
   "outputs": [
    {
     "data": {
      "text/plain": [
       "array([0.95823179, 0.02764749])"
      ]
     },
     "execution_count": 56,
     "metadata": {},
     "output_type": "execute_result"
    }
   ],
   "source": [
    "sklearn_pca.explained_variance_ratio_"
   ]
  },
  {
   "cell_type": "code",
   "execution_count": 57,
   "metadata": {},
   "outputs": [
    {
     "name": "stdout",
     "output_type": "stream",
     "text": [
      "The variance explained ratio of the first component is 0.958.\n"
     ]
    }
   ],
   "source": [
    "print(f'The variance explained ratio of the first component is {sklearn_pca.explained_variance_ratio_[0]:0.3f}.')"
   ]
  },
  {
   "cell_type": "code",
   "execution_count": 58,
   "metadata": {},
   "outputs": [],
   "source": [
    "df_standard_expenditures['first_component'] = Y_sklearn[:, 0]"
   ]
  },
  {
   "cell_type": "code",
   "execution_count": 59,
   "metadata": {},
   "outputs": [
    {
     "data": {
      "text/html": [
       "<div>\n",
       "<style scoped>\n",
       "    .dataframe tbody tr th:only-of-type {\n",
       "        vertical-align: middle;\n",
       "    }\n",
       "\n",
       "    .dataframe tbody tr th {\n",
       "        vertical-align: top;\n",
       "    }\n",
       "\n",
       "    .dataframe thead th {\n",
       "        text-align: right;\n",
       "    }\n",
       "</style>\n",
       "<table border=\"1\" class=\"dataframe\">\n",
       "  <thead>\n",
       "    <tr style=\"text-align: right;\">\n",
       "      <th></th>\n",
       "      <th>log_TOTAL_EXPENDITURE</th>\n",
       "      <th>log_INSTRUCTION_EXPENDITURE</th>\n",
       "      <th>log_SUPPORT_SERVICES_EXPENDITURE</th>\n",
       "      <th>log_OTHER_EXPENDITURE</th>\n",
       "      <th>log_CAPITAL_OUTLAY_EXPENDITURE</th>\n",
       "      <th>AVG_STANDARD_SCORE</th>\n",
       "      <th>first_component</th>\n",
       "    </tr>\n",
       "  </thead>\n",
       "  <tbody>\n",
       "    <tr>\n",
       "      <th>log_TOTAL_EXPENDITURE</th>\n",
       "      <td>1.000000</td>\n",
       "      <td>0.997312</td>\n",
       "      <td>0.995206</td>\n",
       "      <td>0.960810</td>\n",
       "      <td>0.919751</td>\n",
       "      <td>0.184190</td>\n",
       "      <td>0.996059</td>\n",
       "    </tr>\n",
       "    <tr>\n",
       "      <th>log_INSTRUCTION_EXPENDITURE</th>\n",
       "      <td>0.997312</td>\n",
       "      <td>1.000000</td>\n",
       "      <td>0.991116</td>\n",
       "      <td>0.957113</td>\n",
       "      <td>0.900628</td>\n",
       "      <td>0.201778</td>\n",
       "      <td>0.990698</td>\n",
       "    </tr>\n",
       "    <tr>\n",
       "      <th>log_SUPPORT_SERVICES_EXPENDITURE</th>\n",
       "      <td>0.995206</td>\n",
       "      <td>0.991116</td>\n",
       "      <td>1.000000</td>\n",
       "      <td>0.954676</td>\n",
       "      <td>0.903974</td>\n",
       "      <td>0.169552</td>\n",
       "      <td>0.990422</td>\n",
       "    </tr>\n",
       "    <tr>\n",
       "      <th>log_OTHER_EXPENDITURE</th>\n",
       "      <td>0.960810</td>\n",
       "      <td>0.957113</td>\n",
       "      <td>0.954676</td>\n",
       "      <td>1.000000</td>\n",
       "      <td>0.892637</td>\n",
       "      <td>0.090708</td>\n",
       "      <td>0.973853</td>\n",
       "    </tr>\n",
       "    <tr>\n",
       "      <th>log_CAPITAL_OUTLAY_EXPENDITURE</th>\n",
       "      <td>0.919751</td>\n",
       "      <td>0.900628</td>\n",
       "      <td>0.903974</td>\n",
       "      <td>0.892637</td>\n",
       "      <td>1.000000</td>\n",
       "      <td>0.068304</td>\n",
       "      <td>0.942453</td>\n",
       "    </tr>\n",
       "    <tr>\n",
       "      <th>AVG_STANDARD_SCORE</th>\n",
       "      <td>0.184190</td>\n",
       "      <td>0.201778</td>\n",
       "      <td>0.169552</td>\n",
       "      <td>0.090708</td>\n",
       "      <td>0.068304</td>\n",
       "      <td>1.000000</td>\n",
       "      <td>0.146938</td>\n",
       "    </tr>\n",
       "    <tr>\n",
       "      <th>first_component</th>\n",
       "      <td>0.996059</td>\n",
       "      <td>0.990698</td>\n",
       "      <td>0.990422</td>\n",
       "      <td>0.973853</td>\n",
       "      <td>0.942453</td>\n",
       "      <td>0.146938</td>\n",
       "      <td>1.000000</td>\n",
       "    </tr>\n",
       "  </tbody>\n",
       "</table>\n",
       "</div>"
      ],
      "text/plain": [
       "                                  log_TOTAL_EXPENDITURE  \\\n",
       "log_TOTAL_EXPENDITURE                          1.000000   \n",
       "log_INSTRUCTION_EXPENDITURE                    0.997312   \n",
       "log_SUPPORT_SERVICES_EXPENDITURE               0.995206   \n",
       "log_OTHER_EXPENDITURE                          0.960810   \n",
       "log_CAPITAL_OUTLAY_EXPENDITURE                 0.919751   \n",
       "AVG_STANDARD_SCORE                             0.184190   \n",
       "first_component                                0.996059   \n",
       "\n",
       "                                  log_INSTRUCTION_EXPENDITURE  \\\n",
       "log_TOTAL_EXPENDITURE                                0.997312   \n",
       "log_INSTRUCTION_EXPENDITURE                          1.000000   \n",
       "log_SUPPORT_SERVICES_EXPENDITURE                     0.991116   \n",
       "log_OTHER_EXPENDITURE                                0.957113   \n",
       "log_CAPITAL_OUTLAY_EXPENDITURE                       0.900628   \n",
       "AVG_STANDARD_SCORE                                   0.201778   \n",
       "first_component                                      0.990698   \n",
       "\n",
       "                                  log_SUPPORT_SERVICES_EXPENDITURE  \\\n",
       "log_TOTAL_EXPENDITURE                                     0.995206   \n",
       "log_INSTRUCTION_EXPENDITURE                               0.991116   \n",
       "log_SUPPORT_SERVICES_EXPENDITURE                          1.000000   \n",
       "log_OTHER_EXPENDITURE                                     0.954676   \n",
       "log_CAPITAL_OUTLAY_EXPENDITURE                            0.903974   \n",
       "AVG_STANDARD_SCORE                                        0.169552   \n",
       "first_component                                           0.990422   \n",
       "\n",
       "                                  log_OTHER_EXPENDITURE  \\\n",
       "log_TOTAL_EXPENDITURE                          0.960810   \n",
       "log_INSTRUCTION_EXPENDITURE                    0.957113   \n",
       "log_SUPPORT_SERVICES_EXPENDITURE               0.954676   \n",
       "log_OTHER_EXPENDITURE                          1.000000   \n",
       "log_CAPITAL_OUTLAY_EXPENDITURE                 0.892637   \n",
       "AVG_STANDARD_SCORE                             0.090708   \n",
       "first_component                                0.973853   \n",
       "\n",
       "                                  log_CAPITAL_OUTLAY_EXPENDITURE  \\\n",
       "log_TOTAL_EXPENDITURE                                   0.919751   \n",
       "log_INSTRUCTION_EXPENDITURE                             0.900628   \n",
       "log_SUPPORT_SERVICES_EXPENDITURE                        0.903974   \n",
       "log_OTHER_EXPENDITURE                                   0.892637   \n",
       "log_CAPITAL_OUTLAY_EXPENDITURE                          1.000000   \n",
       "AVG_STANDARD_SCORE                                      0.068304   \n",
       "first_component                                         0.942453   \n",
       "\n",
       "                                  AVG_STANDARD_SCORE  first_component  \n",
       "log_TOTAL_EXPENDITURE                       0.184190         0.996059  \n",
       "log_INSTRUCTION_EXPENDITURE                 0.201778         0.990698  \n",
       "log_SUPPORT_SERVICES_EXPENDITURE            0.169552         0.990422  \n",
       "log_OTHER_EXPENDITURE                       0.090708         0.973853  \n",
       "log_CAPITAL_OUTLAY_EXPENDITURE              0.068304         0.942453  \n",
       "AVG_STANDARD_SCORE                          1.000000         0.146938  \n",
       "first_component                             0.146938         1.000000  "
      ]
     },
     "execution_count": 59,
     "metadata": {},
     "output_type": "execute_result"
    }
   ],
   "source": [
    "df_standard_expenditures.corr()"
   ]
  },
  {
   "cell_type": "code",
   "execution_count": 60,
   "metadata": {},
   "outputs": [
    {
     "data": {
      "text/plain": [
       "log_TOTAL_EXPENDITURE               0.184190\n",
       "log_INSTRUCTION_EXPENDITURE         0.201778\n",
       "log_SUPPORT_SERVICES_EXPENDITURE    0.169552\n",
       "log_OTHER_EXPENDITURE               0.090708\n",
       "log_CAPITAL_OUTLAY_EXPENDITURE      0.068304\n",
       "AVG_STANDARD_SCORE                  1.000000\n",
       "first_component                     0.146938\n",
       "Name: AVG_STANDARD_SCORE, dtype: float64"
      ]
     },
     "execution_count": 60,
     "metadata": {},
     "output_type": "execute_result"
    }
   ],
   "source": [
    "df_standard_expenditures.corr()['AVG_STANDARD_SCORE']"
   ]
  },
  {
   "cell_type": "markdown",
   "metadata": {},
   "source": [
    "**Observations:**\n",
    "\n",
    "The highest correlation with _AVG\\__STANDARD\\__SCORE_ is _log\\__INSTRUCTION\\__EXPENDITURE_ and not the _first\\__component_. Therefore, I would keep _log\\__INSTRUCTION\\__EXPENDITURE_ and _AVG\\__STANDARD\\__SCORE_ as good variables for the model.  Since all of the expenditure variables are highly correlated, it would not be a good idea to include all of them in the model."
   ]
  },
  {
   "cell_type": "markdown",
   "metadata": {},
   "source": [
    "### PCA - By Hand"
   ]
  },
  {
   "cell_type": "code",
   "execution_count": 61,
   "metadata": {},
   "outputs": [],
   "source": [
    "P = eigen_vectors[:, 0]\n",
    "Y = P.T.dot(Xt)"
   ]
  },
  {
   "cell_type": "markdown",
   "metadata": {},
   "source": [
    "### Compare PCA Methods"
   ]
  },
  {
   "cell_type": "code",
   "execution_count": 62,
   "metadata": {},
   "outputs": [
    {
     "data": {
      "image/png": "[encoded data removed]",
      "text/plain": [
       "<Figure size 432x288 with 1 Axes>"
      ]
     },
     "metadata": {
      "needs_background": "light"
     },
     "output_type": "display_data"
    }
   ],
   "source": [
    "plt.plot(Y, Y_sklearn[:, 0])\n",
    "plt.xlabel('By Hand')\n",
    "plt.ylabel('Scikit-Learn')\n",
    "plt.show()"
   ]
  },
  {
   "cell_type": "code",
   "execution_count": null,
   "metadata": {},
   "outputs": [],
   "source": []
  }
 ],
 "metadata": {
  "kernelspec": {
   "display_name": "Python 3",
   "language": "python",
   "name": "python3"
  },
  "language_info": {
   "codemirror_mode": {
    "name": "ipython",
    "version": 3
   },
   "file_extension": ".py",
   "mimetype": "text/x-python",
   "name": "python",
   "nbconvert_exporter": "python",
   "pygments_lexer": "ipython3",
   "version": "3.6.7"
  }
 },
 "nbformat": 4,
 "nbformat_minor": 2
}
