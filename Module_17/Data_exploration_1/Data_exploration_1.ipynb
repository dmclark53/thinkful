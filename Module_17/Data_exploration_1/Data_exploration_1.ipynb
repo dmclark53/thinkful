{
 "cells": [
  {
   "cell_type": "markdown",
   "metadata": {},
   "source": [
    "# Data exploration 1"
   ]
  },
  {
   "cell_type": "code",
   "execution_count": 1,
   "metadata": {},
   "outputs": [],
   "source": [
    "import matplotlib.pyplot as plt\n",
    "import numpy as np\n",
    "import pandas as pd\n",
    "from scipy.stats.mstats import winsorize\n",
    "import seaborn as sns\n",
    "from sqlalchemy import create_engine\n",
    "\n",
    "from config import usr, pwd, url, port, db\n",
    "\n",
    "%matplotlib inline"
   ]
  },
  {
   "cell_type": "code",
   "execution_count": 2,
   "metadata": {},
   "outputs": [],
   "source": [
    "engine = create_engine(f\"postgresql+psycopg2://{usr}:{pwd}@{url}:{port}/{db}\")"
   ]
  },
  {
   "cell_type": "code",
   "execution_count": 3,
   "metadata": {},
   "outputs": [],
   "source": [
    "query = f'''\n",
    "SELECT\n",
    "    *\n",
    "FROM\n",
    "    {db};\n",
    "'''"
   ]
  },
  {
   "cell_type": "code",
   "execution_count": 4,
   "metadata": {},
   "outputs": [],
   "source": [
    "df = pd.read_sql_query(query, con=engine)"
   ]
  },
  {
   "cell_type": "code",
   "execution_count": 5,
   "metadata": {},
   "outputs": [],
   "source": [
    "def find_na_columns(df, display_fractions=False):\n",
    "    na_fractions = (df.isnull().sum()/df.isnull().count())*100\n",
    "    if display_fractions:\n",
    "        print(na_fractions)\n",
    "    return na_fractions[na_fractions != 0]"
   ]
  },
  {
   "cell_type": "code",
   "execution_count": 6,
   "metadata": {},
   "outputs": [],
   "source": [
    "def apply_interpolation(df):\n",
    "    df_interpolated = df.copy()\n",
    "    year_list = np.unique(df['YEAR'])\n",
    "    \n",
    "    for year in year_list:\n",
    "        na_fractions_year = find_na_columns(df_interpolated.loc[df_interpolated['YEAR'] == year, :])\n",
    "        for column in na_fractions_year.index.tolist():\n",
    "            if na_fractions_year[column] == 100.0:\n",
    "                if year == year_list.min():\n",
    "                    continue\n",
    "                else:\n",
    "                    df_interpolated.loc[df_interpolated['YEAR'] == year, \n",
    "                                column] = df_interpolated.loc[df_interpolated['YEAR'] == year-1, \n",
    "                                                              column].interpolate()\n",
    "            else:\n",
    "                df_interpolated.loc[df_interpolated['YEAR'] == year,\n",
    "                                    column] = df_interpolated.loc[df_interpolated['YEAR'] == year,\n",
    "                                                                  column].interpolate()\n",
    "    return df_interpolated"
   ]
  },
  {
   "cell_type": "code",
   "execution_count": 7,
   "metadata": {
    "scrolled": false
   },
   "outputs": [],
   "source": [
    "df_clean = apply_interpolation(df)"
   ]
  },
  {
   "cell_type": "code",
   "execution_count": 8,
   "metadata": {},
   "outputs": [
    {
     "data": {
      "text/html": [
       "<div>\n",
       "<style scoped>\n",
       "    .dataframe tbody tr th:only-of-type {\n",
       "        vertical-align: middle;\n",
       "    }\n",
       "\n",
       "    .dataframe tbody tr th {\n",
       "        vertical-align: top;\n",
       "    }\n",
       "\n",
       "    .dataframe thead th {\n",
       "        text-align: right;\n",
       "    }\n",
       "</style>\n",
       "<table border=\"1\" class=\"dataframe\">\n",
       "  <thead>\n",
       "    <tr style=\"text-align: right;\">\n",
       "      <th></th>\n",
       "      <th>count</th>\n",
       "      <th>mean</th>\n",
       "      <th>std</th>\n",
       "      <th>min</th>\n",
       "      <th>25%</th>\n",
       "      <th>50%</th>\n",
       "      <th>75%</th>\n",
       "      <th>max</th>\n",
       "    </tr>\n",
       "  </thead>\n",
       "  <tbody>\n",
       "    <tr>\n",
       "      <th>YEAR</th>\n",
       "      <td>1492.0</td>\n",
       "      <td>2.004434e+03</td>\n",
       "      <td>7.393983e+00</td>\n",
       "      <td>1992.000000</td>\n",
       "      <td>1.998000e+03</td>\n",
       "      <td>2.004000e+03</td>\n",
       "      <td>2.011000e+03</td>\n",
       "      <td>2.017000e+03</td>\n",
       "    </tr>\n",
       "    <tr>\n",
       "      <th>ENROLL</th>\n",
       "      <td>1385.0</td>\n",
       "      <td>8.275492e+05</td>\n",
       "      <td>1.035312e+06</td>\n",
       "      <td>43866.000000</td>\n",
       "      <td>1.498010e+05</td>\n",
       "      <td>5.324330e+05</td>\n",
       "      <td>9.624880e+05</td>\n",
       "      <td>6.307022e+06</td>\n",
       "    </tr>\n",
       "    <tr>\n",
       "      <th>TOTAL_REVENUE</th>\n",
       "      <td>1441.0</td>\n",
       "      <td>8.245375e+06</td>\n",
       "      <td>1.133687e+07</td>\n",
       "      <td>465650.000000</td>\n",
       "      <td>1.684706e+06</td>\n",
       "      <td>4.330089e+06</td>\n",
       "      <td>9.670620e+06</td>\n",
       "      <td>8.921726e+07</td>\n",
       "    </tr>\n",
       "    <tr>\n",
       "      <th>FEDERAL_REVENUE</th>\n",
       "      <td>1441.0</td>\n",
       "      <td>6.923030e+05</td>\n",
       "      <td>1.099649e+06</td>\n",
       "      <td>31020.000000</td>\n",
       "      <td>1.402420e+05</td>\n",
       "      <td>3.507970e+05</td>\n",
       "      <td>7.730140e+05</td>\n",
       "      <td>9.990221e+06</td>\n",
       "    </tr>\n",
       "    <tr>\n",
       "      <th>STATE_REVENUE</th>\n",
       "      <td>1441.0</td>\n",
       "      <td>3.833809e+06</td>\n",
       "      <td>5.342626e+06</td>\n",
       "      <td>0.000000</td>\n",
       "      <td>8.809160e+05</td>\n",
       "      <td>2.259753e+06</td>\n",
       "      <td>4.517924e+06</td>\n",
       "      <td>5.090457e+07</td>\n",
       "    </tr>\n",
       "    <tr>\n",
       "      <th>LOCAL_REVENUE</th>\n",
       "      <td>1441.0</td>\n",
       "      <td>3.719263e+06</td>\n",
       "      <td>5.287804e+06</td>\n",
       "      <td>22093.000000</td>\n",
       "      <td>6.229910e+05</td>\n",
       "      <td>1.660527e+06</td>\n",
       "      <td>4.108728e+06</td>\n",
       "      <td>3.610526e+07</td>\n",
       "    </tr>\n",
       "    <tr>\n",
       "      <th>TOTAL_EXPENDITURE</th>\n",
       "      <td>1441.0</td>\n",
       "      <td>8.336934e+06</td>\n",
       "      <td>1.155975e+07</td>\n",
       "      <td>481665.000000</td>\n",
       "      <td>1.675477e+06</td>\n",
       "      <td>4.363308e+06</td>\n",
       "      <td>9.779642e+06</td>\n",
       "      <td>8.532013e+07</td>\n",
       "    </tr>\n",
       "    <tr>\n",
       "      <th>INSTRUCTION_EXPENDITURE</th>\n",
       "      <td>1441.0</td>\n",
       "      <td>4.315352e+06</td>\n",
       "      <td>6.070526e+06</td>\n",
       "      <td>265549.000000</td>\n",
       "      <td>8.468720e+05</td>\n",
       "      <td>2.236724e+06</td>\n",
       "      <td>5.148806e+06</td>\n",
       "      <td>4.396452e+07</td>\n",
       "    </tr>\n",
       "    <tr>\n",
       "      <th>SUPPORT_SERVICES_EXPENDITURE</th>\n",
       "      <td>1441.0</td>\n",
       "      <td>2.431959e+06</td>\n",
       "      <td>3.241094e+06</td>\n",
       "      <td>139963.000000</td>\n",
       "      <td>5.048380e+05</td>\n",
       "      <td>1.257432e+06</td>\n",
       "      <td>2.865861e+06</td>\n",
       "      <td>2.605802e+07</td>\n",
       "    </tr>\n",
       "    <tr>\n",
       "      <th>OTHER_EXPENDITURE</th>\n",
       "      <td>1385.0</td>\n",
       "      <td>3.862203e+05</td>\n",
       "      <td>5.176803e+05</td>\n",
       "      <td>11541.000000</td>\n",
       "      <td>6.489600e+04</td>\n",
       "      <td>2.298470e+05</td>\n",
       "      <td>4.793520e+05</td>\n",
       "      <td>3.995951e+06</td>\n",
       "    </tr>\n",
       "    <tr>\n",
       "      <th>CAPITAL_OUTLAY_EXPENDITURE</th>\n",
       "      <td>1441.0</td>\n",
       "      <td>8.249715e+05</td>\n",
       "      <td>1.271975e+06</td>\n",
       "      <td>12708.000000</td>\n",
       "      <td>1.584640e+05</td>\n",
       "      <td>4.243680e+05</td>\n",
       "      <td>9.327760e+05</td>\n",
       "      <td>1.022366e+07</td>\n",
       "    </tr>\n",
       "    <tr>\n",
       "      <th>GRADES_PK_G</th>\n",
       "      <td>1389.0</td>\n",
       "      <td>1.688202e+04</td>\n",
       "      <td>2.944791e+04</td>\n",
       "      <td>0.000000</td>\n",
       "      <td>1.832000e+03</td>\n",
       "      <td>7.410000e+03</td>\n",
       "      <td>2.079500e+04</td>\n",
       "      <td>2.509110e+05</td>\n",
       "    </tr>\n",
       "    <tr>\n",
       "      <th>GRADES_KG_G</th>\n",
       "      <td>1390.0</td>\n",
       "      <td>6.250042e+04</td>\n",
       "      <td>7.978352e+04</td>\n",
       "      <td>544.000000</td>\n",
       "      <td>1.095025e+04</td>\n",
       "      <td>4.055950e+04</td>\n",
       "      <td>7.297225e+04</td>\n",
       "      <td>5.305310e+05</td>\n",
       "    </tr>\n",
       "    <tr>\n",
       "      <th>GRADES_4_G</th>\n",
       "      <td>1390.0</td>\n",
       "      <td>6.331342e+04</td>\n",
       "      <td>7.990175e+04</td>\n",
       "      <td>633.000000</td>\n",
       "      <td>1.241250e+04</td>\n",
       "      <td>4.208950e+04</td>\n",
       "      <td>7.514975e+04</td>\n",
       "      <td>4.934150e+05</td>\n",
       "    </tr>\n",
       "    <tr>\n",
       "      <th>GRADES_8_G</th>\n",
       "      <td>1390.0</td>\n",
       "      <td>6.304458e+04</td>\n",
       "      <td>7.854181e+04</td>\n",
       "      <td>437.000000</td>\n",
       "      <td>1.252950e+04</td>\n",
       "      <td>4.280550e+04</td>\n",
       "      <td>7.501625e+04</td>\n",
       "      <td>5.001430e+05</td>\n",
       "    </tr>\n",
       "    <tr>\n",
       "      <th>GRADES_12_G</th>\n",
       "      <td>1390.0</td>\n",
       "      <td>5.322657e+04</td>\n",
       "      <td>6.756033e+04</td>\n",
       "      <td>311.000000</td>\n",
       "      <td>1.062825e+04</td>\n",
       "      <td>3.597950e+04</td>\n",
       "      <td>6.702600e+04</td>\n",
       "      <td>4.984030e+05</td>\n",
       "    </tr>\n",
       "    <tr>\n",
       "      <th>GRADES_1_8_G</th>\n",
       "      <td>1390.0</td>\n",
       "      <td>5.093477e+05</td>\n",
       "      <td>6.405315e+05</td>\n",
       "      <td>4878.000000</td>\n",
       "      <td>9.878725e+04</td>\n",
       "      <td>3.396065e+05</td>\n",
       "      <td>6.052242e+05</td>\n",
       "      <td>3.929869e+06</td>\n",
       "    </tr>\n",
       "    <tr>\n",
       "      <th>GRADES_9_12_G</th>\n",
       "      <td>1390.0</td>\n",
       "      <td>2.423363e+05</td>\n",
       "      <td>3.062259e+05</td>\n",
       "      <td>1808.000000</td>\n",
       "      <td>4.853425e+04</td>\n",
       "      <td>1.601440e+05</td>\n",
       "      <td>2.888522e+05</td>\n",
       "      <td>2.013687e+06</td>\n",
       "    </tr>\n",
       "    <tr>\n",
       "      <th>GRADES_ALL_G</th>\n",
       "      <td>1389.0</td>\n",
       "      <td>7.767362e+05</td>\n",
       "      <td>9.543821e+05</td>\n",
       "      <td>7254.000000</td>\n",
       "      <td>1.712200e+05</td>\n",
       "      <td>5.265140e+05</td>\n",
       "      <td>9.092800e+05</td>\n",
       "      <td>5.944746e+06</td>\n",
       "    </tr>\n",
       "    <tr>\n",
       "      <th>AVG_MATH_4_SCORE</th>\n",
       "      <td>632.0</td>\n",
       "      <td>2.346626e+02</td>\n",
       "      <td>1.034615e+01</td>\n",
       "      <td>187.134670</td>\n",
       "      <td>2.286847e+02</td>\n",
       "      <td>2.372950e+02</td>\n",
       "      <td>2.424950e+02</td>\n",
       "      <td>2.534210e+02</td>\n",
       "    </tr>\n",
       "    <tr>\n",
       "      <th>AVG_MATH_8_SCORE</th>\n",
       "      <td>632.0</td>\n",
       "      <td>2.785166e+02</td>\n",
       "      <td>9.901231e+00</td>\n",
       "      <td>232.831510</td>\n",
       "      <td>2.732795e+02</td>\n",
       "      <td>2.806454e+02</td>\n",
       "      <td>2.859635e+02</td>\n",
       "      <td>3.005682e+02</td>\n",
       "    </tr>\n",
       "    <tr>\n",
       "      <th>AVG_READING_4_SCORE</th>\n",
       "      <td>632.0</td>\n",
       "      <td>2.191610e+02</td>\n",
       "      <td>7.463720e+00</td>\n",
       "      <td>178.557612</td>\n",
       "      <td>2.151851e+02</td>\n",
       "      <td>2.211132e+02</td>\n",
       "      <td>2.240623e+02</td>\n",
       "      <td>2.367739e+02</td>\n",
       "    </tr>\n",
       "    <tr>\n",
       "      <th>AVG_READING_8_SCORE</th>\n",
       "      <td>631.0</td>\n",
       "      <td>2.633122e+02</td>\n",
       "      <td>6.452995e+00</td>\n",
       "      <td>236.379102</td>\n",
       "      <td>2.591388e+02</td>\n",
       "      <td>2.640128e+02</td>\n",
       "      <td>2.677617e+02</td>\n",
       "      <td>2.804991e+02</td>\n",
       "    </tr>\n",
       "  </tbody>\n",
       "</table>\n",
       "</div>"
      ],
      "text/plain": [
       "                               count          mean           std  \\\n",
       "YEAR                          1492.0  2.004434e+03  7.393983e+00   \n",
       "ENROLL                        1385.0  8.275492e+05  1.035312e+06   \n",
       "TOTAL_REVENUE                 1441.0  8.245375e+06  1.133687e+07   \n",
       "FEDERAL_REVENUE               1441.0  6.923030e+05  1.099649e+06   \n",
       "STATE_REVENUE                 1441.0  3.833809e+06  5.342626e+06   \n",
       "LOCAL_REVENUE                 1441.0  3.719263e+06  5.287804e+06   \n",
       "TOTAL_EXPENDITURE             1441.0  8.336934e+06  1.155975e+07   \n",
       "INSTRUCTION_EXPENDITURE       1441.0  4.315352e+06  6.070526e+06   \n",
       "SUPPORT_SERVICES_EXPENDITURE  1441.0  2.431959e+06  3.241094e+06   \n",
       "OTHER_EXPENDITURE             1385.0  3.862203e+05  5.176803e+05   \n",
       "CAPITAL_OUTLAY_EXPENDITURE    1441.0  8.249715e+05  1.271975e+06   \n",
       "GRADES_PK_G                   1389.0  1.688202e+04  2.944791e+04   \n",
       "GRADES_KG_G                   1390.0  6.250042e+04  7.978352e+04   \n",
       "GRADES_4_G                    1390.0  6.331342e+04  7.990175e+04   \n",
       "GRADES_8_G                    1390.0  6.304458e+04  7.854181e+04   \n",
       "GRADES_12_G                   1390.0  5.322657e+04  6.756033e+04   \n",
       "GRADES_1_8_G                  1390.0  5.093477e+05  6.405315e+05   \n",
       "GRADES_9_12_G                 1390.0  2.423363e+05  3.062259e+05   \n",
       "GRADES_ALL_G                  1389.0  7.767362e+05  9.543821e+05   \n",
       "AVG_MATH_4_SCORE               632.0  2.346626e+02  1.034615e+01   \n",
       "AVG_MATH_8_SCORE               632.0  2.785166e+02  9.901231e+00   \n",
       "AVG_READING_4_SCORE            632.0  2.191610e+02  7.463720e+00   \n",
       "AVG_READING_8_SCORE            631.0  2.633122e+02  6.452995e+00   \n",
       "\n",
       "                                        min           25%           50%  \\\n",
       "YEAR                            1992.000000  1.998000e+03  2.004000e+03   \n",
       "ENROLL                         43866.000000  1.498010e+05  5.324330e+05   \n",
       "TOTAL_REVENUE                 465650.000000  1.684706e+06  4.330089e+06   \n",
       "FEDERAL_REVENUE                31020.000000  1.402420e+05  3.507970e+05   \n",
       "STATE_REVENUE                      0.000000  8.809160e+05  2.259753e+06   \n",
       "LOCAL_REVENUE                  22093.000000  6.229910e+05  1.660527e+06   \n",
       "TOTAL_EXPENDITURE             481665.000000  1.675477e+06  4.363308e+06   \n",
       "INSTRUCTION_EXPENDITURE       265549.000000  8.468720e+05  2.236724e+06   \n",
       "SUPPORT_SERVICES_EXPENDITURE  139963.000000  5.048380e+05  1.257432e+06   \n",
       "OTHER_EXPENDITURE              11541.000000  6.489600e+04  2.298470e+05   \n",
       "CAPITAL_OUTLAY_EXPENDITURE     12708.000000  1.584640e+05  4.243680e+05   \n",
       "GRADES_PK_G                        0.000000  1.832000e+03  7.410000e+03   \n",
       "GRADES_KG_G                      544.000000  1.095025e+04  4.055950e+04   \n",
       "GRADES_4_G                       633.000000  1.241250e+04  4.208950e+04   \n",
       "GRADES_8_G                       437.000000  1.252950e+04  4.280550e+04   \n",
       "GRADES_12_G                      311.000000  1.062825e+04  3.597950e+04   \n",
       "GRADES_1_8_G                    4878.000000  9.878725e+04  3.396065e+05   \n",
       "GRADES_9_12_G                   1808.000000  4.853425e+04  1.601440e+05   \n",
       "GRADES_ALL_G                    7254.000000  1.712200e+05  5.265140e+05   \n",
       "AVG_MATH_4_SCORE                 187.134670  2.286847e+02  2.372950e+02   \n",
       "AVG_MATH_8_SCORE                 232.831510  2.732795e+02  2.806454e+02   \n",
       "AVG_READING_4_SCORE              178.557612  2.151851e+02  2.211132e+02   \n",
       "AVG_READING_8_SCORE              236.379102  2.591388e+02  2.640128e+02   \n",
       "\n",
       "                                       75%           max  \n",
       "YEAR                          2.011000e+03  2.017000e+03  \n",
       "ENROLL                        9.624880e+05  6.307022e+06  \n",
       "TOTAL_REVENUE                 9.670620e+06  8.921726e+07  \n",
       "FEDERAL_REVENUE               7.730140e+05  9.990221e+06  \n",
       "STATE_REVENUE                 4.517924e+06  5.090457e+07  \n",
       "LOCAL_REVENUE                 4.108728e+06  3.610526e+07  \n",
       "TOTAL_EXPENDITURE             9.779642e+06  8.532013e+07  \n",
       "INSTRUCTION_EXPENDITURE       5.148806e+06  4.396452e+07  \n",
       "SUPPORT_SERVICES_EXPENDITURE  2.865861e+06  2.605802e+07  \n",
       "OTHER_EXPENDITURE             4.793520e+05  3.995951e+06  \n",
       "CAPITAL_OUTLAY_EXPENDITURE    9.327760e+05  1.022366e+07  \n",
       "GRADES_PK_G                   2.079500e+04  2.509110e+05  \n",
       "GRADES_KG_G                   7.297225e+04  5.305310e+05  \n",
       "GRADES_4_G                    7.514975e+04  4.934150e+05  \n",
       "GRADES_8_G                    7.501625e+04  5.001430e+05  \n",
       "GRADES_12_G                   6.702600e+04  4.984030e+05  \n",
       "GRADES_1_8_G                  6.052242e+05  3.929869e+06  \n",
       "GRADES_9_12_G                 2.888522e+05  2.013687e+06  \n",
       "GRADES_ALL_G                  9.092800e+05  5.944746e+06  \n",
       "AVG_MATH_4_SCORE              2.424950e+02  2.534210e+02  \n",
       "AVG_MATH_8_SCORE              2.859635e+02  3.005682e+02  \n",
       "AVG_READING_4_SCORE           2.240623e+02  2.367739e+02  \n",
       "AVG_READING_8_SCORE           2.677617e+02  2.804991e+02  "
      ]
     },
     "execution_count": 8,
     "metadata": {},
     "output_type": "execute_result"
    }
   ],
   "source": [
    "df_clean.describe().T"
   ]
  },
  {
   "cell_type": "markdown",
   "metadata": {},
   "source": [
    "**Observations:**\n",
    "\n",
    "* Large range in values for revenue and expenditures.\n",
    "* A lot of missing score values.\n",
    "* INSTRUCTION_EXPENDITURE has the largest expenditure among the subgroups of expenditures.\n",
    "* FEDERAL_REVENUE is smaller than revenue on the state and local level."
   ]
  },
  {
   "cell_type": "code",
   "execution_count": 9,
   "metadata": {},
   "outputs": [],
   "source": [
    "df_state = df_clean.loc[df_clean['STATE'] == 'CALIFORNIA', :].copy()\n",
    "df_state = df_state.set_index('YEAR')"
   ]
  },
  {
   "cell_type": "code",
   "execution_count": 10,
   "metadata": {},
   "outputs": [
    {
     "data": {
      "image/png": "[encoded data removed]",
      "text/plain": [
       "<Figure size 432x288 with 1 Axes>"
      ]
     },
     "metadata": {
      "needs_background": "light"
     },
     "output_type": "display_data"
    }
   ],
   "source": [
    "columns_list = ['TOTAL_REVENUE', 'TOTAL_EXPENDITURE']\n",
    "sns.lineplot(data=df_state.loc[:, columns_list])\n",
    "plt.show()"
   ]
  },
  {
   "cell_type": "markdown",
   "metadata": {},
   "source": [
    "**Observations:**\n",
    "There is a dip in both revenue and expenditure around 2008. This was the year of the big recession, which could explain this decline."
   ]
  },
  {
   "cell_type": "code",
   "execution_count": 11,
   "metadata": {},
   "outputs": [
    {
     "data": {
      "image/png": "[encoded data removed]",
      "text/plain": [
       "<Figure size 432x288 with 1 Axes>"
      ]
     },
     "metadata": {
      "needs_background": "light"
     },
     "output_type": "display_data"
    }
   ],
   "source": [
    "columns_list = ['AVG_MATH_4_SCORE', 'AVG_READING_4_SCORE']\n",
    "sns.lineplot(data=df_state.loc[:, columns_list])\n",
    "plt.show()"
   ]
  },
  {
   "cell_type": "markdown",
   "metadata": {},
   "source": [
    "**Observations:**\n",
    "Fourth grade students are more successful in math than reading in California."
   ]
  },
  {
   "cell_type": "code",
   "execution_count": 12,
   "metadata": {},
   "outputs": [
    {
     "data": {
      "image/png": "[encoded data removed]",
      "text/plain": [
       "<Figure size 432x288 with 1 Axes>"
      ]
     },
     "metadata": {
      "needs_background": "light"
     },
     "output_type": "display_data"
    }
   ],
   "source": [
    "columns_list = ['AVG_MATH_8_SCORE', 'AVG_READING_8_SCORE']\n",
    "sns.lineplot(data=df_state.loc[:, columns_list])\n",
    "plt.show()"
   ]
  },
  {
   "cell_type": "markdown",
   "metadata": {},
   "source": [
    "**Observations:**\n",
    "After 2000, eighth grade students are better in math than reading."
   ]
  },
  {
   "cell_type": "markdown",
   "metadata": {},
   "source": [
    "### Distributions in scores\n",
    "Consider distributions before correcting for missing values."
   ]
  },
  {
   "cell_type": "code",
   "execution_count": 13,
   "metadata": {},
   "outputs": [
    {
     "data": {
      "image/png": "[encoded data removed]",
      "text/plain": [
       "<Figure size 432x288 with 1 Axes>"
      ]
     },
     "metadata": {
      "needs_background": "light"
     },
     "output_type": "display_data"
    }
   ],
   "source": [
    "columns_list = ['AVG_MATH_4_SCORE', 'AVG_READING_4_SCORE', 'AVG_MATH_8_SCORE', 'AVG_READING_8_SCORE']\n",
    "for column in columns_list:\n",
    "    sns.distplot(df_state.loc[df_state[column].notnull(), column], bins=5, kde=False, label=column)\n",
    "plt.legend()\n",
    "plt.show()"
   ]
  },
  {
   "cell_type": "code",
   "execution_count": 14,
   "metadata": {},
   "outputs": [],
   "source": [
    "def correct_missing_values(df, columns_list):\n",
    "\n",
    "    df = df.copy()\n",
    "    \n",
    "    for column in columns_list:\n",
    "        df[f'mean_{column}'] = df[column].fillna(df[column].mean())\n",
    "\n",
    "    for column in columns_list:\n",
    "        df[f'median_{column}'] = df[column].fillna(df[column].median())\n",
    "\n",
    "    for column in columns_list:\n",
    "        df[f'interpolated_{column}'] = df[column].interpolate()\n",
    "        \n",
    "    return df"
   ]
  },
  {
   "cell_type": "code",
   "execution_count": 15,
   "metadata": {},
   "outputs": [],
   "source": [
    "columns_list = ['AVG_MATH_4_SCORE', 'AVG_READING_4_SCORE', 'AVG_MATH_8_SCORE', 'AVG_READING_8_SCORE']\n",
    "df_corrected = correct_missing_values(df_state, columns_list)"
   ]
  },
  {
   "cell_type": "code",
   "execution_count": 16,
   "metadata": {},
   "outputs": [
    {
     "data": {
      "image/png": "[encoded data removed]",
      "text/plain": [
       "<Figure size 432x288 with 1 Axes>"
      ]
     },
     "metadata": {
      "needs_background": "light"
     },
     "output_type": "display_data"
    }
   ],
   "source": [
    "columns_list = ['mean_AVG_MATH_4_SCORE', 'mean_AVG_READING_4_SCORE', \n",
    "                'mean_AVG_MATH_8_SCORE', 'mean_AVG_READING_8_SCORE']\n",
    "for column in columns_list:\n",
    "    sns.distplot(df_corrected.loc[df_corrected[column].notnull(), column], bins=5, kde=False, label=column)\n",
    "plt.legend()\n",
    "plt.show()"
   ]
  },
  {
   "cell_type": "code",
   "execution_count": 17,
   "metadata": {},
   "outputs": [
    {
     "data": {
      "image/png": "[encoded data removed]",
      "text/plain": [
       "<Figure size 432x288 with 1 Axes>"
      ]
     },
     "metadata": {
      "needs_background": "light"
     },
     "output_type": "display_data"
    }
   ],
   "source": [
    "columns_list = ['median_AVG_MATH_4_SCORE', 'median_AVG_READING_4_SCORE', \n",
    "                'median_AVG_MATH_8_SCORE', 'median_AVG_READING_8_SCORE']\n",
    "for column in columns_list:\n",
    "    sns.distplot(df_corrected.loc[df_corrected[column].notnull(), column], bins=5, kde=False, label=column)\n",
    "plt.legend()\n",
    "plt.show()"
   ]
  },
  {
   "cell_type": "code",
   "execution_count": 18,
   "metadata": {},
   "outputs": [
    {
     "data": {
      "image/png": "[encoded data removed]",
      "text/plain": [
       "<Figure size 432x288 with 1 Axes>"
      ]
     },
     "metadata": {
      "needs_background": "light"
     },
     "output_type": "display_data"
    }
   ],
   "source": [
    "columns_list = ['interpolated_AVG_MATH_4_SCORE', 'interpolated_AVG_READING_4_SCORE', \n",
    "                'interpolated_AVG_MATH_8_SCORE', 'interpolated_AVG_READING_8_SCORE']\n",
    "for column in columns_list:\n",
    "    sns.distplot(df_corrected.loc[df_corrected[column].notnull(), column], bins=5, kde=False, label=column)\n",
    "plt.legend()\n",
    "plt.show()"
   ]
  },
  {
   "cell_type": "markdown",
   "metadata": {},
   "source": [
    "**Observations:** After correcting for the missing values, the mean and median methods show spikes where the missing values have been replaced. Interpolattion does a better job of keeping the distributions more uniform."
   ]
  },
  {
   "cell_type": "code",
   "execution_count": null,
   "metadata": {},
   "outputs": [],
   "source": []
  }
 ],
 "metadata": {
  "kernelspec": {
   "display_name": "Python 3",
   "language": "python",
   "name": "python3"
  },
  "language_info": {
   "codemirror_mode": {
    "name": "ipython",
    "version": 3
   },
   "file_extension": ".py",
   "mimetype": "text/x-python",
   "name": "python",
   "nbconvert_exporter": "python",
   "pygments_lexer": "ipython3",
   "version": "3.6.8"
  }
 },
 "nbformat": 4,
 "nbformat_minor": 2
}
