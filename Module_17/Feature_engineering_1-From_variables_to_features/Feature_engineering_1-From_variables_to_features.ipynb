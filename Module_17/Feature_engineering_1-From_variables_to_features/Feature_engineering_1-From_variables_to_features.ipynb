{
 "cells": [
  {
   "cell_type": "markdown",
   "metadata": {},
   "source": [
    "# Feature engineering 1: From variables to features"
   ]
  },
  {
   "cell_type": "code",
   "execution_count": 1,
   "metadata": {},
   "outputs": [],
   "source": [
    "import matplotlib.pyplot as plt\n",
    "import numpy as np\n",
    "import pandas as pd\n",
    "import scipy.stats as stats\n",
    "from scipy.stats import boxcox\n",
    "from scipy.stats import jarque_bera\n",
    "from scipy.stats import normaltest\n",
    "from scipy.stats.mstats import winsorize\n",
    "import seaborn as sns\n",
    "from sklearn.preprocessing import normalize\n",
    "from sklearn.preprocessing import scale\n",
    "from sqlalchemy import create_engine\n",
    "\n",
    "from config import usr, pwd, url, port, db\n",
    "\n",
    "%matplotlib inline"
   ]
  },
  {
   "cell_type": "code",
   "execution_count": 2,
   "metadata": {},
   "outputs": [],
   "source": [
    "engine = create_engine(f\"postgresql+psycopg2://{usr}:{pwd}@{url}:{port}/{db}\")"
   ]
  },
  {
   "cell_type": "code",
   "execution_count": 3,
   "metadata": {},
   "outputs": [],
   "source": [
    "query = f'''\n",
    "SELECT\n",
    "    *\n",
    "FROM\n",
    "    {db};\n",
    "'''"
   ]
  },
  {
   "cell_type": "code",
   "execution_count": 4,
   "metadata": {},
   "outputs": [],
   "source": [
    "df = pd.read_sql_query(query, con=engine)"
   ]
  },
  {
   "cell_type": "markdown",
   "metadata": {},
   "source": [
    "## Data exploration\n",
    "Let's look at some descriptive statistics of this dataset as well as the unique values for the categorical columns."
   ]
  },
  {
   "cell_type": "code",
   "execution_count": 5,
   "metadata": {},
   "outputs": [
    {
     "data": {
      "text/html": [
       "<div>\n",
       "<style scoped>\n",
       "    .dataframe tbody tr th:only-of-type {\n",
       "        vertical-align: middle;\n",
       "    }\n",
       "\n",
       "    .dataframe tbody tr th {\n",
       "        vertical-align: top;\n",
       "    }\n",
       "\n",
       "    .dataframe thead th {\n",
       "        text-align: right;\n",
       "    }\n",
       "</style>\n",
       "<table border=\"1\" class=\"dataframe\">\n",
       "  <thead>\n",
       "    <tr style=\"text-align: right;\">\n",
       "      <th></th>\n",
       "      <th>count</th>\n",
       "      <th>unique</th>\n",
       "      <th>top</th>\n",
       "      <th>freq</th>\n",
       "      <th>mean</th>\n",
       "      <th>std</th>\n",
       "      <th>min</th>\n",
       "      <th>25%</th>\n",
       "      <th>50%</th>\n",
       "      <th>75%</th>\n",
       "      <th>max</th>\n",
       "    </tr>\n",
       "  </thead>\n",
       "  <tbody>\n",
       "    <tr>\n",
       "      <th>gender</th>\n",
       "      <td>1000</td>\n",
       "      <td>2</td>\n",
       "      <td>female</td>\n",
       "      <td>518</td>\n",
       "      <td>NaN</td>\n",
       "      <td>NaN</td>\n",
       "      <td>NaN</td>\n",
       "      <td>NaN</td>\n",
       "      <td>NaN</td>\n",
       "      <td>NaN</td>\n",
       "      <td>NaN</td>\n",
       "    </tr>\n",
       "    <tr>\n",
       "      <th>race/ethnicity</th>\n",
       "      <td>1000</td>\n",
       "      <td>5</td>\n",
       "      <td>group C</td>\n",
       "      <td>319</td>\n",
       "      <td>NaN</td>\n",
       "      <td>NaN</td>\n",
       "      <td>NaN</td>\n",
       "      <td>NaN</td>\n",
       "      <td>NaN</td>\n",
       "      <td>NaN</td>\n",
       "      <td>NaN</td>\n",
       "    </tr>\n",
       "    <tr>\n",
       "      <th>parental level of education</th>\n",
       "      <td>1000</td>\n",
       "      <td>6</td>\n",
       "      <td>some college</td>\n",
       "      <td>226</td>\n",
       "      <td>NaN</td>\n",
       "      <td>NaN</td>\n",
       "      <td>NaN</td>\n",
       "      <td>NaN</td>\n",
       "      <td>NaN</td>\n",
       "      <td>NaN</td>\n",
       "      <td>NaN</td>\n",
       "    </tr>\n",
       "    <tr>\n",
       "      <th>lunch</th>\n",
       "      <td>1000</td>\n",
       "      <td>2</td>\n",
       "      <td>standard</td>\n",
       "      <td>645</td>\n",
       "      <td>NaN</td>\n",
       "      <td>NaN</td>\n",
       "      <td>NaN</td>\n",
       "      <td>NaN</td>\n",
       "      <td>NaN</td>\n",
       "      <td>NaN</td>\n",
       "      <td>NaN</td>\n",
       "    </tr>\n",
       "    <tr>\n",
       "      <th>test preparation course</th>\n",
       "      <td>1000</td>\n",
       "      <td>2</td>\n",
       "      <td>none</td>\n",
       "      <td>642</td>\n",
       "      <td>NaN</td>\n",
       "      <td>NaN</td>\n",
       "      <td>NaN</td>\n",
       "      <td>NaN</td>\n",
       "      <td>NaN</td>\n",
       "      <td>NaN</td>\n",
       "      <td>NaN</td>\n",
       "    </tr>\n",
       "    <tr>\n",
       "      <th>math score</th>\n",
       "      <td>1000</td>\n",
       "      <td>NaN</td>\n",
       "      <td>NaN</td>\n",
       "      <td>NaN</td>\n",
       "      <td>66.089</td>\n",
       "      <td>15.1631</td>\n",
       "      <td>0</td>\n",
       "      <td>57</td>\n",
       "      <td>66</td>\n",
       "      <td>77</td>\n",
       "      <td>100</td>\n",
       "    </tr>\n",
       "    <tr>\n",
       "      <th>reading score</th>\n",
       "      <td>1000</td>\n",
       "      <td>NaN</td>\n",
       "      <td>NaN</td>\n",
       "      <td>NaN</td>\n",
       "      <td>69.169</td>\n",
       "      <td>14.6002</td>\n",
       "      <td>17</td>\n",
       "      <td>59</td>\n",
       "      <td>70</td>\n",
       "      <td>79</td>\n",
       "      <td>100</td>\n",
       "    </tr>\n",
       "    <tr>\n",
       "      <th>writing score</th>\n",
       "      <td>1000</td>\n",
       "      <td>NaN</td>\n",
       "      <td>NaN</td>\n",
       "      <td>NaN</td>\n",
       "      <td>68.054</td>\n",
       "      <td>15.1957</td>\n",
       "      <td>10</td>\n",
       "      <td>57.75</td>\n",
       "      <td>69</td>\n",
       "      <td>79</td>\n",
       "      <td>100</td>\n",
       "    </tr>\n",
       "  </tbody>\n",
       "</table>\n",
       "</div>"
      ],
      "text/plain": [
       "                            count unique           top freq    mean      std  \\\n",
       "gender                       1000      2        female  518     NaN      NaN   \n",
       "race/ethnicity               1000      5       group C  319     NaN      NaN   \n",
       "parental level of education  1000      6  some college  226     NaN      NaN   \n",
       "lunch                        1000      2      standard  645     NaN      NaN   \n",
       "test preparation course      1000      2          none  642     NaN      NaN   \n",
       "math score                   1000    NaN           NaN  NaN  66.089  15.1631   \n",
       "reading score                1000    NaN           NaN  NaN  69.169  14.6002   \n",
       "writing score                1000    NaN           NaN  NaN  68.054  15.1957   \n",
       "\n",
       "                             min    25%  50%  75%  max  \n",
       "gender                       NaN    NaN  NaN  NaN  NaN  \n",
       "race/ethnicity               NaN    NaN  NaN  NaN  NaN  \n",
       "parental level of education  NaN    NaN  NaN  NaN  NaN  \n",
       "lunch                        NaN    NaN  NaN  NaN  NaN  \n",
       "test preparation course      NaN    NaN  NaN  NaN  NaN  \n",
       "math score                     0     57   66   77  100  \n",
       "reading score                 17     59   70   79  100  \n",
       "writing score                 10  57.75   69   79  100  "
      ]
     },
     "execution_count": 5,
     "metadata": {},
     "output_type": "execute_result"
    }
   ],
   "source": [
    "df.describe(include='all').T"
   ]
  },
  {
   "cell_type": "code",
   "execution_count": 6,
   "metadata": {},
   "outputs": [
    {
     "name": "stdout",
     "output_type": "stream",
     "text": [
      "gender: ['female' 'male']\n",
      "race/ethnicity: ['group A' 'group B' 'group C' 'group D' 'group E']\n",
      "parental level of education: [\"associate's degree\" \"bachelor's degree\" 'high school' \"master's degree\"\n",
      " 'some college' 'some high school']\n",
      "lunch: ['free/reduced' 'standard']\n",
      "test preparation course: ['completed' 'none']\n"
     ]
    }
   ],
   "source": [
    "columns = ['gender', 'race/ethnicity', 'parental level of education', 'lunch', 'test preparation course']\n",
    "for column in columns:\n",
    "    print(f'{column}: {np.unique(df[column])}')"
   ]
  },
  {
   "cell_type": "markdown",
   "metadata": {},
   "source": [
    "## Outliers\n",
    "I will use the Tukey method to remove the outliers seen at the lower end."
   ]
  },
  {
   "cell_type": "code",
   "execution_count": 7,
   "metadata": {},
   "outputs": [],
   "source": [
    "thresholds = {\n",
    "    'tukey': 1.5\n",
    "}"
   ]
  },
  {
   "cell_type": "code",
   "execution_count": 8,
   "metadata": {},
   "outputs": [],
   "source": [
    "def apply_tukey(df, column, thresh=1.5):\n",
    "    q75, q25 = np.percentile(df[column], [75, 25])\n",
    "    iqr = q75 - q25\n",
    "    min_value = q25 - thresh*iqr\n",
    "    max_value = q75 + thresh*iqr\n",
    "    df[f'tukey_{column}'] = df[column].apply(lambda x: np.min([x, max_value]))\n",
    "    df[f'tukey_{column}'] = df[f'tukey_{column}'].apply(lambda x: np.max([x, min_value]))\n",
    "    return df"
   ]
  },
  {
   "cell_type": "code",
   "execution_count": 9,
   "metadata": {},
   "outputs": [],
   "source": [
    "def correct_outliers(df, column_list):\n",
    "    for column in column_list:\n",
    "        # Tukey\n",
    "        df = apply_tukey(df, column, thresh=thresholds['tukey'])\n",
    "        \n",
    "    return df"
   ]
  },
  {
   "cell_type": "code",
   "execution_count": 10,
   "metadata": {},
   "outputs": [],
   "source": [
    "columns = ['math score', 'reading score', 'writing score']\n",
    "df = correct_outliers(df, columns)"
   ]
  },
  {
   "cell_type": "markdown",
   "metadata": {},
   "source": [
    "## Feature Engineering\n",
    "### Exam score distributions"
   ]
  },
  {
   "cell_type": "code",
   "execution_count": 11,
   "metadata": {},
   "outputs": [
    {
     "data": {
      "image/png": "[encoded data removed]",
      "text/plain": [
       "<Figure size 1008x288 with 3 Axes>"
      ]
     },
     "metadata": {
      "needs_background": "light"
     },
     "output_type": "display_data"
    }
   ],
   "source": [
    "scores = ['tukey_math score', 'tukey_reading score', 'tukey_writing score']\n",
    "score_labels = [x.split('_')[-1].title() for x in scores]\n",
    "\n",
    "f, axes = plt.subplots(1, 3, figsize=(14, 4))\n",
    "\n",
    "for i, score_type in enumerate(scores):\n",
    "    sns.distplot(df.loc[:, score_type], ax=axes[i], kde=False)\n",
    "    axes[i].set_xlabel(score_labels[i])\n",
    "    axes[i].set_ylim([0, 130])\n",
    "    axes[i].set_title(f'{score_labels[i]}')\n",
    "        \n",
    "plt.show()"
   ]
  },
  {
   "cell_type": "markdown",
   "metadata": {},
   "source": [
    "### Test for normality"
   ]
  },
  {
   "cell_type": "code",
   "execution_count": 12,
   "metadata": {},
   "outputs": [
    {
     "name": "stdout",
     "output_type": "stream",
     "text": [
      "The probability that the Math Score distribution is normal is 0.0509.\n",
      "The probability that the Reading Score distribution is normal is 0.0064.\n",
      "The probability that the Writing Score distribution is normal is 0.0021.\n"
     ]
    }
   ],
   "source": [
    "for score_type in scores:\n",
    "    normal_stat, pval = normaltest(df[score_type])\n",
    "    print(f\"The probability that the {score_type.split('_')[-1].title()} distribution is normal is {pval:0.4f}.\")"
   ]
  },
  {
   "cell_type": "markdown",
   "metadata": {},
   "source": [
    "**Observations:**\n",
    "\n",
    "The distributions appear close to normal, but a little right skewed. In addition, all scores, except the math score have a p-value below 0.05, indicating that they are not normal distributions.\n",
    "\n",
    "### Box-Cox transformation\n",
    "\n",
    "Let's apply a Box-Cox transformation and see if these distributions become more normal."
   ]
  },
  {
   "cell_type": "code",
   "execution_count": 13,
   "metadata": {},
   "outputs": [],
   "source": [
    "for score_type in scores:\n",
    "    boxcox_transform, _ = boxcox(df[score_type])\n",
    "    df[f'boxcox_{score_type}'] = boxcox_transform"
   ]
  },
  {
   "cell_type": "code",
   "execution_count": 14,
   "metadata": {},
   "outputs": [
    {
     "data": {
      "image/png": "[encoded data removed]",
      "text/plain": [
       "<Figure size 1008x288 with 3 Axes>"
      ]
     },
     "metadata": {
      "needs_background": "light"
     },
     "output_type": "display_data"
    }
   ],
   "source": [
    "boxcox_columns = [f'boxcox_{x}' for x in scores]\n",
    "\n",
    "f, axes = plt.subplots(1, 3, figsize=(14, 4))\n",
    "\n",
    "for i, column in enumerate(boxcox_columns):\n",
    "    sns.distplot(df.loc[:, column], ax=axes[i], kde=False)\n",
    "    axes[i].set_xlabel(score_labels[i])\n",
    "    axes[i].set_ylim([0, 130])\n",
    "    axes[i].set_title(f'{score_labels[i]} (Box-Cox)')\n",
    "        \n",
    "plt.show()"
   ]
  },
  {
   "cell_type": "code",
   "execution_count": 15,
   "metadata": {},
   "outputs": [
    {
     "name": "stdout",
     "output_type": "stream",
     "text": [
      "After Box-Cox transformation...\n",
      "The probability that the Math Score distribution is normal is 0.0919.\n",
      "The probability that the Reading Score distribution is normal is 0.0162.\n",
      "The probability that the Writing Score distribution is normal is 0.0051.\n"
     ]
    }
   ],
   "source": [
    "print('After Box-Cox transformation...')\n",
    "for score_type in scores:\n",
    "    normal_stat, pval = normaltest(df[f'boxcox_{score_type}'])\n",
    "    print(f\"The probability that the {score_type.split('_')[-1].title()} distribution is normal is {pval:0.4f}.\")"
   ]
  },
  {
   "cell_type": "markdown",
   "metadata": {},
   "source": [
    "**Observations:** The histograms are now appear more normal after applying a Box-Cox transformation. In addition, the p-values for the normal test are higher, all though the reading score and writing score distributions still have p-values below 0.05."
   ]
  },
  {
   "cell_type": "markdown",
   "metadata": {},
   "source": [
    "## Weighted averages\n",
    "Compute weighted average for scores. Since the reading and writing scores are highly correlated, I will give less weight to these scores and more weight to math scores."
   ]
  },
  {
   "cell_type": "code",
   "execution_count": 16,
   "metadata": {},
   "outputs": [],
   "source": [
    "math_scores = df['boxcox_tukey_math score'].values\n",
    "reading_scores = df['boxcox_tukey_reading score'].values\n",
    "writing_scores = df['boxcox_tukey_writing score'].values"
   ]
  },
  {
   "cell_type": "code",
   "execution_count": 17,
   "metadata": {},
   "outputs": [],
   "source": [
    "df['weighted_averaged_scores'] = math_scores*0.5 + reading_scores*0.25 + writing_scores*0.25\n",
    "df['averaged_scores'] = (math_scores + reading_scores + writing_scores) / 3"
   ]
  },
  {
   "cell_type": "code",
   "execution_count": 18,
   "metadata": {},
   "outputs": [
    {
     "data": {
      "text/html": [
       "<div>\n",
       "<style scoped>\n",
       "    .dataframe tbody tr th:only-of-type {\n",
       "        vertical-align: middle;\n",
       "    }\n",
       "\n",
       "    .dataframe tbody tr th {\n",
       "        vertical-align: top;\n",
       "    }\n",
       "\n",
       "    .dataframe thead th {\n",
       "        text-align: right;\n",
       "    }\n",
       "</style>\n",
       "<table border=\"1\" class=\"dataframe\">\n",
       "  <thead>\n",
       "    <tr style=\"text-align: right;\">\n",
       "      <th></th>\n",
       "      <th>count</th>\n",
       "      <th>mean</th>\n",
       "      <th>std</th>\n",
       "      <th>min</th>\n",
       "      <th>25%</th>\n",
       "      <th>50%</th>\n",
       "      <th>75%</th>\n",
       "      <th>max</th>\n",
       "    </tr>\n",
       "  </thead>\n",
       "  <tbody>\n",
       "    <tr>\n",
       "      <th>math score</th>\n",
       "      <td>1000.0</td>\n",
       "      <td>66.089000</td>\n",
       "      <td>15.163080</td>\n",
       "      <td>0.000000</td>\n",
       "      <td>57.000000</td>\n",
       "      <td>66.000000</td>\n",
       "      <td>77.000000</td>\n",
       "      <td>100.000000</td>\n",
       "    </tr>\n",
       "    <tr>\n",
       "      <th>reading score</th>\n",
       "      <td>1000.0</td>\n",
       "      <td>69.169000</td>\n",
       "      <td>14.600192</td>\n",
       "      <td>17.000000</td>\n",
       "      <td>59.000000</td>\n",
       "      <td>70.000000</td>\n",
       "      <td>79.000000</td>\n",
       "      <td>100.000000</td>\n",
       "    </tr>\n",
       "    <tr>\n",
       "      <th>writing score</th>\n",
       "      <td>1000.0</td>\n",
       "      <td>68.054000</td>\n",
       "      <td>15.195657</td>\n",
       "      <td>10.000000</td>\n",
       "      <td>57.750000</td>\n",
       "      <td>69.000000</td>\n",
       "      <td>79.000000</td>\n",
       "      <td>100.000000</td>\n",
       "    </tr>\n",
       "    <tr>\n",
       "      <th>tukey_math score</th>\n",
       "      <td>1000.0</td>\n",
       "      <td>66.165000</td>\n",
       "      <td>14.922414</td>\n",
       "      <td>27.000000</td>\n",
       "      <td>57.000000</td>\n",
       "      <td>66.000000</td>\n",
       "      <td>77.000000</td>\n",
       "      <td>100.000000</td>\n",
       "    </tr>\n",
       "    <tr>\n",
       "      <th>tukey_reading score</th>\n",
       "      <td>1000.0</td>\n",
       "      <td>69.201000</td>\n",
       "      <td>14.503481</td>\n",
       "      <td>29.000000</td>\n",
       "      <td>59.000000</td>\n",
       "      <td>70.000000</td>\n",
       "      <td>79.000000</td>\n",
       "      <td>100.000000</td>\n",
       "    </tr>\n",
       "    <tr>\n",
       "      <th>tukey_writing score</th>\n",
       "      <td>1000.0</td>\n",
       "      <td>68.094375</td>\n",
       "      <td>15.068368</td>\n",
       "      <td>25.875000</td>\n",
       "      <td>57.750000</td>\n",
       "      <td>69.000000</td>\n",
       "      <td>79.000000</td>\n",
       "      <td>100.000000</td>\n",
       "    </tr>\n",
       "    <tr>\n",
       "      <th>boxcox_tukey_math score</th>\n",
       "      <td>1000.0</td>\n",
       "      <td>122.214196</td>\n",
       "      <td>32.550616</td>\n",
       "      <td>41.353891</td>\n",
       "      <td>101.646608</td>\n",
       "      <td>121.138988</td>\n",
       "      <td>145.645803</td>\n",
       "      <td>198.964999</td>\n",
       "    </tr>\n",
       "    <tr>\n",
       "      <th>boxcox_tukey_reading score</th>\n",
       "      <td>1000.0</td>\n",
       "      <td>193.324839</td>\n",
       "      <td>52.026455</td>\n",
       "      <td>61.125252</td>\n",
       "      <td>155.492055</td>\n",
       "      <td>194.513294</td>\n",
       "      <td>227.873820</td>\n",
       "      <td>310.149029</td>\n",
       "    </tr>\n",
       "    <tr>\n",
       "      <th>boxcox_tukey_writing score</th>\n",
       "      <td>1000.0</td>\n",
       "      <td>189.528571</td>\n",
       "      <td>53.734994</td>\n",
       "      <td>52.583508</td>\n",
       "      <td>151.223564</td>\n",
       "      <td>190.926982</td>\n",
       "      <td>227.927635</td>\n",
       "      <td>310.226981</td>\n",
       "    </tr>\n",
       "    <tr>\n",
       "      <th>weighted_averaged_scores</th>\n",
       "      <td>1000.0</td>\n",
       "      <td>156.820450</td>\n",
       "      <td>40.516933</td>\n",
       "      <td>49.104136</td>\n",
       "      <td>128.536166</td>\n",
       "      <td>157.446337</td>\n",
       "      <td>185.251233</td>\n",
       "      <td>254.576502</td>\n",
       "    </tr>\n",
       "    <tr>\n",
       "      <th>averaged_scores</th>\n",
       "      <td>1000.0</td>\n",
       "      <td>168.355869</td>\n",
       "      <td>44.141224</td>\n",
       "      <td>51.687551</td>\n",
       "      <td>136.429028</td>\n",
       "      <td>168.873774</td>\n",
       "      <td>198.314353</td>\n",
       "      <td>273.113670</td>\n",
       "    </tr>\n",
       "  </tbody>\n",
       "</table>\n",
       "</div>"
      ],
      "text/plain": [
       "                             count        mean        std        min  \\\n",
       "math score                  1000.0   66.089000  15.163080   0.000000   \n",
       "reading score               1000.0   69.169000  14.600192  17.000000   \n",
       "writing score               1000.0   68.054000  15.195657  10.000000   \n",
       "tukey_math score            1000.0   66.165000  14.922414  27.000000   \n",
       "tukey_reading score         1000.0   69.201000  14.503481  29.000000   \n",
       "tukey_writing score         1000.0   68.094375  15.068368  25.875000   \n",
       "boxcox_tukey_math score     1000.0  122.214196  32.550616  41.353891   \n",
       "boxcox_tukey_reading score  1000.0  193.324839  52.026455  61.125252   \n",
       "boxcox_tukey_writing score  1000.0  189.528571  53.734994  52.583508   \n",
       "weighted_averaged_scores    1000.0  156.820450  40.516933  49.104136   \n",
       "averaged_scores             1000.0  168.355869  44.141224  51.687551   \n",
       "\n",
       "                                   25%         50%         75%         max  \n",
       "math score                   57.000000   66.000000   77.000000  100.000000  \n",
       "reading score                59.000000   70.000000   79.000000  100.000000  \n",
       "writing score                57.750000   69.000000   79.000000  100.000000  \n",
       "tukey_math score             57.000000   66.000000   77.000000  100.000000  \n",
       "tukey_reading score          59.000000   70.000000   79.000000  100.000000  \n",
       "tukey_writing score          57.750000   69.000000   79.000000  100.000000  \n",
       "boxcox_tukey_math score     101.646608  121.138988  145.645803  198.964999  \n",
       "boxcox_tukey_reading score  155.492055  194.513294  227.873820  310.149029  \n",
       "boxcox_tukey_writing score  151.223564  190.926982  227.927635  310.226981  \n",
       "weighted_averaged_scores    128.536166  157.446337  185.251233  254.576502  \n",
       "averaged_scores             136.429028  168.873774  198.314353  273.113670  "
      ]
     },
     "execution_count": 18,
     "metadata": {},
     "output_type": "execute_result"
    }
   ],
   "source": [
    "df.describe().T"
   ]
  },
  {
   "cell_type": "code",
   "execution_count": 19,
   "metadata": {},
   "outputs": [
    {
     "data": {
      "image/png": "[encoded data removed]",
      "text/plain": [
       "<Figure size 432x288 with 1 Axes>"
      ]
     },
     "metadata": {
      "needs_background": "light"
     },
     "output_type": "display_data"
    }
   ],
   "source": [
    "sns.distplot(df.loc[:, 'weighted_averaged_scores'], kde=False)\n",
    "plt.xlabel('Weighted Averaged Scores')\n",
    "        \n",
    "plt.show()"
   ]
  },
  {
   "cell_type": "markdown",
   "metadata": {},
   "source": [
    "TODO: Try transforming scores using logs."
   ]
  },
  {
   "cell_type": "code",
   "execution_count": 20,
   "metadata": {},
   "outputs": [
    {
     "name": "stdout",
     "output_type": "stream",
     "text": [
      "There is a 0.054 probability that this distribution is normal.\n"
     ]
    }
   ],
   "source": [
    "normal_stat, pval = normaltest(df.loc[:, 'weighted_averaged_scores'])\n",
    "print(f'There is a {pval:0.3f} probability that this distribution is normal.')"
   ]
  },
  {
   "cell_type": "markdown",
   "metadata": {},
   "source": [
    "**Observations:**\n",
    "\n",
    "The distribution of _weighted\\__average\\__scores_ looks normal, so I will not apply a Box-Cox transformation. The high p-value for the normal test is also a good indication that this is a normal distribution.\n",
    "\n",
    "## Good predictors\n",
    "I will now explore which variables are strongly related to the new _weighted\\__average\\__scores_ variable and would be good to use as predictors."
   ]
  },
  {
   "cell_type": "code",
   "execution_count": 21,
   "metadata": {},
   "outputs": [],
   "source": [
    "def plot_category_distributions(df, category):\n",
    "    scores = ['tukey_math score', 'tukey_reading score', 'tukey_writing score']\n",
    "    score_labels = [x.split('_')[-1].title() for x in scores]\n",
    "\n",
    "    f, axes = plt.subplots(1, 3, figsize=(14, 4))\n",
    "\n",
    "    for i, score_type in enumerate(scores):\n",
    "        for cat_type in df[category].unique():\n",
    "            sns.distplot(df.loc[df[category] == cat_type, score_type], ax=axes[i], kde=False)\n",
    "        axes[i].legend(df[category].unique())\n",
    "        axes[i].set_xlabel(score_labels[i])\n",
    "        axes[i].set_ylim([0, 130])\n",
    "        axes[i].set_title(f'{category.title()} vs. {score_labels[i]}')\n",
    "\n",
    "    plt.show()"
   ]
  },
  {
   "cell_type": "code",
   "execution_count": 22,
   "metadata": {},
   "outputs": [
    {
     "data": {
      "image/png": "[encoded data removed]",
      "text/plain": [
       "<Figure size 1008x288 with 3 Axes>"
      ]
     },
     "metadata": {
      "needs_background": "light"
     },
     "output_type": "display_data"
    }
   ],
   "source": [
    "plot_category_distributions(df, 'lunch')"
   ]
  },
  {
   "cell_type": "code",
   "execution_count": 23,
   "metadata": {},
   "outputs": [
    {
     "data": {
      "image/png": "[encoded data removed]",
      "text/plain": [
       "<Figure size 1008x288 with 3 Axes>"
      ]
     },
     "metadata": {
      "needs_background": "light"
     },
     "output_type": "display_data"
    }
   ],
   "source": [
    "plot_category_distributions(df, 'gender')"
   ]
  },
  {
   "cell_type": "code",
   "execution_count": 24,
   "metadata": {},
   "outputs": [
    {
     "data": {
      "image/png": "[encoded data removed]",
      "text/plain": [
       "<Figure size 1008x288 with 3 Axes>"
      ]
     },
     "metadata": {
      "needs_background": "light"
     },
     "output_type": "display_data"
    }
   ],
   "source": [
    "plot_category_distributions(df, 'race/ethnicity')"
   ]
  },
  {
   "cell_type": "markdown",
   "metadata": {},
   "source": [
    "TODO: Compare groups in pairs. Store in list and plot.\n",
    "TODO: Use box plot instead."
   ]
  },
  {
   "cell_type": "code",
   "execution_count": 25,
   "metadata": {},
   "outputs": [
    {
     "data": {
      "image/png": "[encoded data removed]",
      "text/plain": [
       "<Figure size 1008x288 with 3 Axes>"
      ]
     },
     "metadata": {
      "needs_background": "light"
     },
     "output_type": "display_data"
    }
   ],
   "source": [
    "plot_category_distributions(df, 'test preparation course')"
   ]
  },
  {
   "cell_type": "markdown",
   "metadata": {},
   "source": [
    "TODO: Test distributions with t-test."
   ]
  }
 ],
 "metadata": {
  "kernelspec": {
   "display_name": "Python 3",
   "language": "python",
   "name": "python3"
  },
  "language_info": {
   "codemirror_mode": {
    "name": "ipython",
    "version": 3
   },
   "file_extension": ".py",
   "mimetype": "text/x-python",
   "name": "python",
   "nbconvert_exporter": "python",
   "pygments_lexer": "ipython3",
   "version": "3.6.8"
  }
 },
 "nbformat": 4,
 "nbformat_minor": 2
}
