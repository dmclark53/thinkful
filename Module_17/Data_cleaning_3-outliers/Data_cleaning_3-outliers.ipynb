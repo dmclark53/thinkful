{
 "cells": [
  {
   "cell_type": "markdown",
   "metadata": {},
   "source": [
    "# Data cleaning 3: outliers"
   ]
  },
  {
   "cell_type": "code",
   "execution_count": 1,
   "metadata": {},
   "outputs": [],
   "source": [
    "import matplotlib.pyplot as plt\n",
    "import numpy as np\n",
    "import pandas as pd\n",
    "from scipy.stats.mstats import winsorize\n",
    "import seaborn as sns\n",
    "from sqlalchemy import create_engine\n",
    "\n",
    "from config import usr, pwd, url, port, db\n",
    "\n",
    "%matplotlib inline"
   ]
  },
  {
   "cell_type": "code",
   "execution_count": 2,
   "metadata": {},
   "outputs": [],
   "source": [
    "engine = create_engine(f\"postgresql+psycopg2://{usr}:{pwd}@{url}:{port}/{db}\")"
   ]
  },
  {
   "cell_type": "code",
   "execution_count": 3,
   "metadata": {},
   "outputs": [],
   "source": [
    "query = f'''\n",
    "SELECT\n",
    "    *\n",
    "FROM\n",
    "    {db};\n",
    "'''"
   ]
  },
  {
   "cell_type": "code",
   "execution_count": 4,
   "metadata": {
    "scrolled": false
   },
   "outputs": [],
   "source": [
    "df = pd.read_sql_query(query, con=engine)"
   ]
  },
  {
   "cell_type": "code",
   "execution_count": 5,
   "metadata": {},
   "outputs": [],
   "source": [
    "study_columns = ['PRIMARY_KEY', 'STATE', 'YEAR', 'TOTAL_REVENUE', 'TOTAL_EXPENDITURE']"
   ]
  },
  {
   "cell_type": "code",
   "execution_count": 6,
   "metadata": {},
   "outputs": [],
   "source": [
    "df = df.loc[:, study_columns].copy()"
   ]
  },
  {
   "cell_type": "code",
   "execution_count": 7,
   "metadata": {},
   "outputs": [
    {
     "name": "stdout",
     "output_type": "stream",
     "text": [
      "<class 'pandas.core.frame.DataFrame'>\n",
      "RangeIndex: 1492 entries, 0 to 1491\n",
      "Data columns (total 5 columns):\n",
      "PRIMARY_KEY          1492 non-null object\n",
      "STATE                1492 non-null object\n",
      "YEAR                 1492 non-null int64\n",
      "TOTAL_REVENUE        1280 non-null float64\n",
      "TOTAL_EXPENDITURE    1280 non-null float64\n",
      "dtypes: float64(2), int64(1), object(2)\n",
      "memory usage: 58.4+ KB\n"
     ]
    }
   ],
   "source": [
    "df.info()"
   ]
  },
  {
   "cell_type": "markdown",
   "metadata": {},
   "source": [
    "## Interpolate outliers"
   ]
  },
  {
   "cell_type": "code",
   "execution_count": 8,
   "metadata": {},
   "outputs": [],
   "source": [
    "def find_na_columns(df):\n",
    "    na_fractions = (df.isnull().sum()/df.isnull().count())*100\n",
    "    return na_fractions[na_fractions != 0].index.tolist()"
   ]
  },
  {
   "cell_type": "code",
   "execution_count": 9,
   "metadata": {},
   "outputs": [],
   "source": [
    "def apply_interpolation(df):\n",
    "    df_interpolated = df.copy()\n",
    "    na_columns = find_na_columns(df_interpolated)\n",
    "    \n",
    "    for column in na_columns:\n",
    "        for year in df_interpolated['YEAR'].unique():\n",
    "            df_interpolated[column].interpolate(inplace=True)\n",
    "        \n",
    "    return df_interpolated"
   ]
  },
  {
   "cell_type": "code",
   "execution_count": 10,
   "metadata": {},
   "outputs": [],
   "source": [
    "df_clean = apply_interpolation(df)"
   ]
  },
  {
   "cell_type": "code",
   "execution_count": 11,
   "metadata": {},
   "outputs": [
    {
     "name": "stdout",
     "output_type": "stream",
     "text": [
      "<class 'pandas.core.frame.DataFrame'>\n",
      "RangeIndex: 1492 entries, 0 to 1491\n",
      "Data columns (total 5 columns):\n",
      "PRIMARY_KEY          1492 non-null object\n",
      "STATE                1492 non-null object\n",
      "YEAR                 1492 non-null int64\n",
      "TOTAL_REVENUE        1492 non-null float64\n",
      "TOTAL_EXPENDITURE    1492 non-null float64\n",
      "dtypes: float64(2), int64(1), object(2)\n",
      "memory usage: 58.4+ KB\n"
     ]
    }
   ],
   "source": [
    "df_clean.info()"
   ]
  },
  {
   "cell_type": "markdown",
   "metadata": {},
   "source": [
    "## Total Revenue and Total Expenditures\n",
    "### Outlier methods"
   ]
  },
  {
   "cell_type": "code",
   "execution_count": 12,
   "metadata": {},
   "outputs": [],
   "source": [
    "thresholds = {\n",
    "    'tukey': 1.5,\n",
    "    'winsor_lower': 0.05,\n",
    "    'winsor_upper': 0.05\n",
    "}"
   ]
  },
  {
   "cell_type": "code",
   "execution_count": 13,
   "metadata": {},
   "outputs": [],
   "source": [
    "def log_transform(df, column):\n",
    "    df[f'log_{column}'] = np.log(df[column])\n",
    "    return df"
   ]
  },
  {
   "cell_type": "code",
   "execution_count": 14,
   "metadata": {},
   "outputs": [],
   "source": [
    "def sqrt_transform(df, column):\n",
    "    df[f'sqrt_{column}'] = np.sqrt(df[column])\n",
    "    return df"
   ]
  },
  {
   "cell_type": "code",
   "execution_count": 15,
   "metadata": {},
   "outputs": [],
   "source": [
    "def apply_tukey(df, column, thresh=1.5):\n",
    "    q75, q25 = np.percentile(df[column], [75, 25])\n",
    "    iqr = q75 - q25\n",
    "    min_value = q25 - thresh*iqr\n",
    "    max_value = q75 + thresh*iqr\n",
    "    df[f'tukey_{column}'] = df[column].apply(lambda x: np.min([x, max_value]))\n",
    "    df[f'tukey_{column}'] = df[f'tukey_{column}'].apply(lambda x: np.max([x, min_value]))\n",
    "    return df"
   ]
  },
  {
   "cell_type": "code",
   "execution_count": 16,
   "metadata": {},
   "outputs": [],
   "source": [
    "def apply_winsorize(df, column, lower_thresh=0.05, upper_thresh=0.05):\n",
    "    df[f'winsor_{column}'] = winsorize(df[column], (lower_thresh, upper_thresh)).data\n",
    "    return df"
   ]
  },
  {
   "cell_type": "code",
   "execution_count": 17,
   "metadata": {},
   "outputs": [],
   "source": [
    "def correct_outliers(df, column_list):\n",
    "    for column in column_list:\n",
    "        # Tukey\n",
    "        df = apply_tukey(df, column, thresh=thresholds['tukey'])\n",
    "    \n",
    "        # Winsorize\n",
    "        df = apply_winsorize(df, column, \n",
    "                             lower_thresh=thresholds['winsor_lower'], \n",
    "                             upper_thresh=thresholds['winsor_upper'])\n",
    "        \n",
    "    return df"
   ]
  },
  {
   "cell_type": "code",
   "execution_count": 18,
   "metadata": {},
   "outputs": [],
   "source": [
    "def stack_dataframe(df, column_list):\n",
    "    df_stacked = df.loc[:, column_list].stack().copy()\n",
    "    df_stacked.index = df_stacked.index.droplevel()\n",
    "    df_stacked = df_stacked.reset_index().copy()\n",
    "    df_stacked = df_stacked.rename(columns={'index': 'label', 0: 'value'})\n",
    "    df_stacked = df_stacked.sort_values(by='label')\n",
    "    df_stacked.index = np.arange(len(df_stacked))\n",
    "    return df_stacked"
   ]
  },
  {
   "cell_type": "code",
   "execution_count": 19,
   "metadata": {},
   "outputs": [],
   "source": [
    "def look_for_outliers(df, column_list):\n",
    "    \n",
    "    if len(column_list) > 1:\n",
    "        df_stacked = stack_dataframe(df, column_list)\n",
    "        sns.catplot(x='label', y='value', data=df_stacked, height=6, aspect=12/6, kind='box')\n",
    "        plt.show()\n",
    "    else:\n",
    "        sns.catplot(y=column_list[0], data=df_clean, height=6, aspect=12/6, kind='box')\n",
    "        plt.show()"
   ]
  },
  {
   "cell_type": "markdown",
   "metadata": {},
   "source": [
    "## Look for outliers\n",
    "### Original"
   ]
  },
  {
   "cell_type": "code",
   "execution_count": 20,
   "metadata": {},
   "outputs": [
    {
     "data": {
      "image/png": "[encoded data removed]",
      "text/plain": [
       "<Figure size 864x432 with 1 Axes>"
      ]
     },
     "metadata": {
      "needs_background": "light"
     },
     "output_type": "display_data"
    }
   ],
   "source": [
    "column_list = ['TOTAL_REVENUE', 'TOTAL_EXPENDITURE']\n",
    "look_for_outliers(df_clean, column_list)"
   ]
  },
  {
   "cell_type": "markdown",
   "metadata": {},
   "source": [
    "### Log Transformed"
   ]
  },
  {
   "cell_type": "code",
   "execution_count": 21,
   "metadata": {},
   "outputs": [],
   "source": [
    "df_clean = log_transform(df_clean, 'TOTAL_REVENUE')\n",
    "df_clean = log_transform(df_clean, 'TOTAL_EXPENDITURE')"
   ]
  },
  {
   "cell_type": "code",
   "execution_count": 22,
   "metadata": {},
   "outputs": [
    {
     "data": {
      "image/png": "[encoded data removed]",
      "text/plain": [
       "<Figure size 864x432 with 1 Axes>"
      ]
     },
     "metadata": {
      "needs_background": "light"
     },
     "output_type": "display_data"
    }
   ],
   "source": [
    "column_list = ['log_TOTAL_REVENUE', 'log_TOTAL_EXPENDITURE']\n",
    "look_for_outliers(df_clean, column_list)"
   ]
  },
  {
   "cell_type": "markdown",
   "metadata": {},
   "source": [
    "### Square-root transformed"
   ]
  },
  {
   "cell_type": "code",
   "execution_count": 23,
   "metadata": {},
   "outputs": [],
   "source": [
    "df_clean = sqrt_transform(df_clean, 'TOTAL_REVENUE')\n",
    "df_clean = sqrt_transform(df_clean, 'TOTAL_EXPENDITURE')"
   ]
  },
  {
   "cell_type": "code",
   "execution_count": 24,
   "metadata": {},
   "outputs": [
    {
     "data": {
      "image/png": "[encoded data removed]",
      "text/plain": [
       "<Figure size 864x432 with 1 Axes>"
      ]
     },
     "metadata": {
      "needs_background": "light"
     },
     "output_type": "display_data"
    }
   ],
   "source": [
    "column_list = ['sqrt_TOTAL_REVENUE', 'sqrt_TOTAL_EXPENDITURE']\n",
    "look_for_outliers(df_clean, column_list)"
   ]
  },
  {
   "cell_type": "markdown",
   "metadata": {},
   "source": [
    "## Correcting outliers\n",
    "### Original - Using Tukey method"
   ]
  },
  {
   "cell_type": "code",
   "execution_count": 25,
   "metadata": {},
   "outputs": [],
   "source": [
    "column_list = ['TOTAL_REVENUE', 'TOTAL_EXPENDITURE']\n",
    "df_clean = correct_outliers(df_clean, column_list)"
   ]
  },
  {
   "cell_type": "code",
   "execution_count": 26,
   "metadata": {},
   "outputs": [
    {
     "data": {
      "image/png": "[encoded data removed]",
      "text/plain": [
       "<Figure size 864x432 with 1 Axes>"
      ]
     },
     "metadata": {
      "needs_background": "light"
     },
     "output_type": "display_data"
    }
   ],
   "source": [
    "column_list = ['tukey_TOTAL_REVENUE', 'tukey_TOTAL_EXPENDITURE']\n",
    "look_for_outliers(df_clean, column_list)"
   ]
  },
  {
   "cell_type": "markdown",
   "metadata": {},
   "source": [
    "### Original - Using Winsor method"
   ]
  },
  {
   "cell_type": "code",
   "execution_count": 27,
   "metadata": {},
   "outputs": [
    {
     "data": {
      "image/png": "[encoded data removed]",
      "text/plain": [
       "<Figure size 864x432 with 1 Axes>"
      ]
     },
     "metadata": {
      "needs_background": "light"
     },
     "output_type": "display_data"
    }
   ],
   "source": [
    "column_list = ['winsor_TOTAL_REVENUE', 'winsor_TOTAL_EXPENDITURE']\n",
    "look_for_outliers(df_clean, column_list)"
   ]
  },
  {
   "cell_type": "markdown",
   "metadata": {},
   "source": [
    "### Square-root - Using Tukey method"
   ]
  },
  {
   "cell_type": "code",
   "execution_count": 28,
   "metadata": {},
   "outputs": [],
   "source": [
    "column_list = ['sqrt_TOTAL_REVENUE', 'sqrt_TOTAL_EXPENDITURE']\n",
    "df_clean = correct_outliers(df_clean, column_list)"
   ]
  },
  {
   "cell_type": "code",
   "execution_count": 29,
   "metadata": {},
   "outputs": [
    {
     "data": {
      "image/png": "[encoded data removed]",
      "text/plain": [
       "<Figure size 864x432 with 1 Axes>"
      ]
     },
     "metadata": {
      "needs_background": "light"
     },
     "output_type": "display_data"
    }
   ],
   "source": [
    "column_list = ['tukey_sqrt_TOTAL_REVENUE', 'tukey_sqrt_TOTAL_EXPENDITURE']\n",
    "look_for_outliers(df_clean, column_list)"
   ]
  },
  {
   "cell_type": "markdown",
   "metadata": {},
   "source": [
    "### Square-root - Using Winsor method"
   ]
  },
  {
   "cell_type": "code",
   "execution_count": 30,
   "metadata": {},
   "outputs": [
    {
     "data": {
      "image/png": "[encoded data removed]",
      "text/plain": [
       "<Figure size 864x432 with 1 Axes>"
      ]
     },
     "metadata": {
      "needs_background": "light"
     },
     "output_type": "display_data"
    }
   ],
   "source": [
    "column_list = ['winsor_sqrt_TOTAL_REVENUE', 'winsor_sqrt_TOTAL_EXPENDITURE']\n",
    "look_for_outliers(df_clean, column_list)"
   ]
  },
  {
   "cell_type": "markdown",
   "metadata": {},
   "source": [
    "## Compute Budget Deficit"
   ]
  },
  {
   "cell_type": "code",
   "execution_count": 31,
   "metadata": {},
   "outputs": [],
   "source": [
    "def compute_budget_deficit(df, column_1, column_2):\n",
    "    \n",
    "    new_column = 'BUDGET_DEFICIT'\n",
    "    split_column = column_1.split('_')\n",
    "    if len(split_column) > 2:\n",
    "        new_column = f'{new_column}_{split_column[0].upper()}'\n",
    "    df[new_column] = np.abs(df[column_1] - df[column_2])\n",
    "    return df"
   ]
  },
  {
   "cell_type": "markdown",
   "metadata": {},
   "source": [
    "### Use uncorrected values\n",
    "Compute budget deficit using values that have not been corrected for outliers."
   ]
  },
  {
   "cell_type": "code",
   "execution_count": 32,
   "metadata": {},
   "outputs": [],
   "source": [
    "df_clean = compute_budget_deficit(df_clean, 'TOTAL_REVENUE', 'TOTAL_EXPENDITURE')"
   ]
  },
  {
   "cell_type": "code",
   "execution_count": 33,
   "metadata": {},
   "outputs": [
    {
     "data": {
      "image/png": "[encoded data removed]",
      "text/plain": [
       "<Figure size 864x432 with 1 Axes>"
      ]
     },
     "metadata": {
      "needs_background": "light"
     },
     "output_type": "display_data"
    }
   ],
   "source": [
    "column_list = ['BUDGET_DEFICIT']\n",
    "look_for_outliers(df_clean, column_list)"
   ]
  },
  {
   "cell_type": "markdown",
   "metadata": {},
   "source": [
    "### Correct BUDGET_DEFICIT for outliers - Using Tukey method"
   ]
  },
  {
   "cell_type": "code",
   "execution_count": 34,
   "metadata": {},
   "outputs": [],
   "source": [
    "column_list = ['BUDGET_DEFICIT']\n",
    "thresholds['winsor_upper'] = 0.10\n",
    "df_clean = correct_outliers(df_clean, column_list)"
   ]
  },
  {
   "cell_type": "code",
   "execution_count": 35,
   "metadata": {},
   "outputs": [
    {
     "data": {
      "image/png": "[encoded data removed]",
      "text/plain": [
       "<Figure size 864x432 with 1 Axes>"
      ]
     },
     "metadata": {
      "needs_background": "light"
     },
     "output_type": "display_data"
    }
   ],
   "source": [
    "column_list = ['tukey_BUDGET_DEFICIT']\n",
    "look_for_outliers(df_clean, column_list)"
   ]
  },
  {
   "cell_type": "markdown",
   "metadata": {},
   "source": [
    "### Correct BUDGET_DEFICIT for outliers - Using Winsorize method"
   ]
  },
  {
   "cell_type": "code",
   "execution_count": 36,
   "metadata": {},
   "outputs": [
    {
     "data": {
      "image/png": "[encoded data removed]",
      "text/plain": [
       "<Figure size 864x432 with 1 Axes>"
      ]
     },
     "metadata": {
      "needs_background": "light"
     },
     "output_type": "display_data"
    }
   ],
   "source": [
    "column_list = ['winsor_BUDGET_DEFICIT']\n",
    "look_for_outliers(df_clean, column_list)"
   ]
  },
  {
   "cell_type": "markdown",
   "metadata": {},
   "source": [
    "### Using corrected values\n",
    "Compute budget deficit using values that have been corrected for outliers.\n",
    "#### Winsor method"
   ]
  },
  {
   "cell_type": "code",
   "execution_count": 37,
   "metadata": {},
   "outputs": [],
   "source": [
    "column_list = ['winsor_TOTAL_REVENUE', 'winsor_TOTAL_EXPENDITURE']\n",
    "df_clean = compute_budget_deficit(df_clean, column_list[0], column_list[1])"
   ]
  },
  {
   "cell_type": "code",
   "execution_count": 38,
   "metadata": {},
   "outputs": [
    {
     "data": {
      "image/png": "[encoded data removed]",
      "text/plain": [
       "<Figure size 864x432 with 1 Axes>"
      ]
     },
     "metadata": {
      "needs_background": "light"
     },
     "output_type": "display_data"
    }
   ],
   "source": [
    "column_list = ['BUDGET_DEFICIT_WINSOR']\n",
    "look_for_outliers(df_clean, column_list)"
   ]
  },
  {
   "cell_type": "markdown",
   "metadata": {},
   "source": [
    "#### Correct for outliers"
   ]
  },
  {
   "cell_type": "code",
   "execution_count": 39,
   "metadata": {},
   "outputs": [],
   "source": [
    "column_list = ['BUDGET_DEFICIT_WINSOR']\n",
    "thresholds['winsor_upper'] = 0.05\n",
    "df_clean = correct_outliers(df_clean, column_list)"
   ]
  },
  {
   "cell_type": "code",
   "execution_count": 40,
   "metadata": {},
   "outputs": [
    {
     "data": {
      "image/png": "[encoded data removed]",
      "text/plain": [
       "<Figure size 864x432 with 1 Axes>"
      ]
     },
     "metadata": {
      "needs_background": "light"
     },
     "output_type": "display_data"
    }
   ],
   "source": [
    "column_list = ['tukey_BUDGET_DEFICIT_WINSOR']\n",
    "look_for_outliers(df_clean, column_list)"
   ]
  },
  {
   "cell_type": "code",
   "execution_count": 41,
   "metadata": {},
   "outputs": [
    {
     "data": {
      "image/png": "[encoded data removed]",
      "text/plain": [
       "<Figure size 864x432 with 1 Axes>"
      ]
     },
     "metadata": {
      "needs_background": "light"
     },
     "output_type": "display_data"
    }
   ],
   "source": [
    "column_list = ['winsor_BUDGET_DEFICIT_WINSOR']\n",
    "look_for_outliers(df_clean, column_list)"
   ]
  },
  {
   "cell_type": "markdown",
   "metadata": {},
   "source": [
    "#### Tukey method"
   ]
  },
  {
   "cell_type": "code",
   "execution_count": 42,
   "metadata": {},
   "outputs": [],
   "source": [
    "column_list = ['tukey_TOTAL_REVENUE', 'tukey_TOTAL_EXPENDITURE']\n",
    "df_clean = compute_budget_deficit(df_clean, column_list[0], column_list[1])"
   ]
  },
  {
   "cell_type": "code",
   "execution_count": 43,
   "metadata": {},
   "outputs": [
    {
     "data": {
      "image/png": "[encoded data removed]",
      "text/plain": [
       "<Figure size 864x432 with 1 Axes>"
      ]
     },
     "metadata": {
      "needs_background": "light"
     },
     "output_type": "display_data"
    }
   ],
   "source": [
    "column_list = ['BUDGET_DEFICIT_TUKEY']\n",
    "look_for_outliers(df_clean, column_list)"
   ]
  },
  {
   "cell_type": "markdown",
   "metadata": {},
   "source": [
    "#### Correct for outliers"
   ]
  },
  {
   "cell_type": "code",
   "execution_count": 44,
   "metadata": {},
   "outputs": [],
   "source": [
    "column_list = ['BUDGET_DEFICIT_TUKEY']\n",
    "df_clean = correct_outliers(df_clean, column_list)"
   ]
  },
  {
   "cell_type": "code",
   "execution_count": 45,
   "metadata": {},
   "outputs": [
    {
     "data": {
      "image/png": "[encoded data removed]",
      "text/plain": [
       "<Figure size 864x432 with 1 Axes>"
      ]
     },
     "metadata": {
      "needs_background": "light"
     },
     "output_type": "display_data"
    }
   ],
   "source": [
    "column_list = ['tukey_BUDGET_DEFICIT_TUKEY']\n",
    "look_for_outliers(df_clean, column_list)"
   ]
  },
  {
   "cell_type": "code",
   "execution_count": 46,
   "metadata": {},
   "outputs": [
    {
     "data": {
      "image/png": "[encoded data removed]",
      "text/plain": [
       "<Figure size 864x432 with 1 Axes>"
      ]
     },
     "metadata": {
      "needs_background": "light"
     },
     "output_type": "display_data"
    }
   ],
   "source": [
    "column_list = ['winsor_BUDGET_DEFICIT_TUKEY']\n",
    "look_for_outliers(df_clean, column_list)"
   ]
  },
  {
   "cell_type": "code",
   "execution_count": 47,
   "metadata": {},
   "outputs": [],
   "source": [
    "budget_columns = [column for column in df_clean.columns if 'BUDGET' in column]"
   ]
  },
  {
   "cell_type": "code",
   "execution_count": 48,
   "metadata": {},
   "outputs": [
    {
     "data": {
      "text/html": [
       "<div>\n",
       "<style scoped>\n",
       "    .dataframe tbody tr th:only-of-type {\n",
       "        vertical-align: middle;\n",
       "    }\n",
       "\n",
       "    .dataframe tbody tr th {\n",
       "        vertical-align: top;\n",
       "    }\n",
       "\n",
       "    .dataframe thead th {\n",
       "        text-align: right;\n",
       "    }\n",
       "</style>\n",
       "<table border=\"1\" class=\"dataframe\">\n",
       "  <thead>\n",
       "    <tr style=\"text-align: right;\">\n",
       "      <th></th>\n",
       "      <th>count</th>\n",
       "      <th>mean</th>\n",
       "      <th>std</th>\n",
       "      <th>min</th>\n",
       "      <th>25%</th>\n",
       "      <th>50%</th>\n",
       "      <th>75%</th>\n",
       "      <th>max</th>\n",
       "    </tr>\n",
       "  </thead>\n",
       "  <tbody>\n",
       "    <tr>\n",
       "      <th>winsor_BUDGET_DEFICIT</th>\n",
       "      <td>1492.0</td>\n",
       "      <td>220442.655831</td>\n",
       "      <td>193391.076034</td>\n",
       "      <td>6240.0</td>\n",
       "      <td>38820.75</td>\n",
       "      <td>153957.0</td>\n",
       "      <td>414013.0</td>\n",
       "      <td>566095.000</td>\n",
       "    </tr>\n",
       "    <tr>\n",
       "      <th>winsor_BUDGET_DEFICIT_WINSOR</th>\n",
       "      <td>1492.0</td>\n",
       "      <td>218234.572721</td>\n",
       "      <td>192526.502083</td>\n",
       "      <td>7852.0</td>\n",
       "      <td>37025.75</td>\n",
       "      <td>159878.0</td>\n",
       "      <td>414013.0</td>\n",
       "      <td>640608.000</td>\n",
       "    </tr>\n",
       "    <tr>\n",
       "      <th>winsor_BUDGET_DEFICIT_TUKEY</th>\n",
       "      <td>1492.0</td>\n",
       "      <td>219818.695962</td>\n",
       "      <td>216992.867716</td>\n",
       "      <td>6240.0</td>\n",
       "      <td>32469.00</td>\n",
       "      <td>140383.5</td>\n",
       "      <td>414013.0</td>\n",
       "      <td>777878.000</td>\n",
       "    </tr>\n",
       "    <tr>\n",
       "      <th>tukey_BUDGET_DEFICIT</th>\n",
       "      <td>1492.0</td>\n",
       "      <td>250177.928619</td>\n",
       "      <td>261367.936362</td>\n",
       "      <td>133.0</td>\n",
       "      <td>38820.75</td>\n",
       "      <td>153957.0</td>\n",
       "      <td>414013.0</td>\n",
       "      <td>976801.375</td>\n",
       "    </tr>\n",
       "    <tr>\n",
       "      <th>tukey_BUDGET_DEFICIT_WINSOR</th>\n",
       "      <td>1492.0</td>\n",
       "      <td>230078.180295</td>\n",
       "      <td>225294.864419</td>\n",
       "      <td>133.0</td>\n",
       "      <td>37025.75</td>\n",
       "      <td>159878.0</td>\n",
       "      <td>414013.0</td>\n",
       "      <td>979493.875</td>\n",
       "    </tr>\n",
       "    <tr>\n",
       "      <th>tukey_BUDGET_DEFICIT_TUKEY</th>\n",
       "      <td>1492.0</td>\n",
       "      <td>228156.895023</td>\n",
       "      <td>241326.856325</td>\n",
       "      <td>133.0</td>\n",
       "      <td>32469.00</td>\n",
       "      <td>140383.5</td>\n",
       "      <td>414013.0</td>\n",
       "      <td>986329.000</td>\n",
       "    </tr>\n",
       "    <tr>\n",
       "      <th>BUDGET_DEFICIT_WINSOR</th>\n",
       "      <td>1492.0</td>\n",
       "      <td>240388.478217</td>\n",
       "      <td>271525.141343</td>\n",
       "      <td>133.0</td>\n",
       "      <td>37025.75</td>\n",
       "      <td>159878.0</td>\n",
       "      <td>414013.0</td>\n",
       "      <td>2520706.000</td>\n",
       "    </tr>\n",
       "    <tr>\n",
       "      <th>BUDGET_DEFICIT_TUKEY</th>\n",
       "      <td>1492.0</td>\n",
       "      <td>251640.764075</td>\n",
       "      <td>353157.918840</td>\n",
       "      <td>133.0</td>\n",
       "      <td>32469.00</td>\n",
       "      <td>140383.5</td>\n",
       "      <td>414013.0</td>\n",
       "      <td>3837617.000</td>\n",
       "    </tr>\n",
       "    <tr>\n",
       "      <th>BUDGET_DEFICIT</th>\n",
       "      <td>1492.0</td>\n",
       "      <td>298087.472855</td>\n",
       "      <td>476007.895843</td>\n",
       "      <td>133.0</td>\n",
       "      <td>38820.75</td>\n",
       "      <td>153957.0</td>\n",
       "      <td>414013.0</td>\n",
       "      <td>5487742.000</td>\n",
       "    </tr>\n",
       "  </tbody>\n",
       "</table>\n",
       "</div>"
      ],
      "text/plain": [
       "                               count           mean            std     min  \\\n",
       "winsor_BUDGET_DEFICIT         1492.0  220442.655831  193391.076034  6240.0   \n",
       "winsor_BUDGET_DEFICIT_WINSOR  1492.0  218234.572721  192526.502083  7852.0   \n",
       "winsor_BUDGET_DEFICIT_TUKEY   1492.0  219818.695962  216992.867716  6240.0   \n",
       "tukey_BUDGET_DEFICIT          1492.0  250177.928619  261367.936362   133.0   \n",
       "tukey_BUDGET_DEFICIT_WINSOR   1492.0  230078.180295  225294.864419   133.0   \n",
       "tukey_BUDGET_DEFICIT_TUKEY    1492.0  228156.895023  241326.856325   133.0   \n",
       "BUDGET_DEFICIT_WINSOR         1492.0  240388.478217  271525.141343   133.0   \n",
       "BUDGET_DEFICIT_TUKEY          1492.0  251640.764075  353157.918840   133.0   \n",
       "BUDGET_DEFICIT                1492.0  298087.472855  476007.895843   133.0   \n",
       "\n",
       "                                   25%       50%       75%          max  \n",
       "winsor_BUDGET_DEFICIT         38820.75  153957.0  414013.0   566095.000  \n",
       "winsor_BUDGET_DEFICIT_WINSOR  37025.75  159878.0  414013.0   640608.000  \n",
       "winsor_BUDGET_DEFICIT_TUKEY   32469.00  140383.5  414013.0   777878.000  \n",
       "tukey_BUDGET_DEFICIT          38820.75  153957.0  414013.0   976801.375  \n",
       "tukey_BUDGET_DEFICIT_WINSOR   37025.75  159878.0  414013.0   979493.875  \n",
       "tukey_BUDGET_DEFICIT_TUKEY    32469.00  140383.5  414013.0   986329.000  \n",
       "BUDGET_DEFICIT_WINSOR         37025.75  159878.0  414013.0  2520706.000  \n",
       "BUDGET_DEFICIT_TUKEY          32469.00  140383.5  414013.0  3837617.000  \n",
       "BUDGET_DEFICIT                38820.75  153957.0  414013.0  5487742.000  "
      ]
     },
     "execution_count": 48,
     "metadata": {},
     "output_type": "execute_result"
    }
   ],
   "source": [
    "df_clean.loc[:, budget_columns].describe().T.sort_values(by='max')"
   ]
  },
  {
   "cell_type": "code",
   "execution_count": null,
   "metadata": {},
   "outputs": [],
   "source": []
  }
 ],
 "metadata": {
  "kernelspec": {
   "display_name": "Python 3",
   "language": "python",
   "name": "python3"
  },
  "language_info": {
   "codemirror_mode": {
    "name": "ipython",
    "version": 3
   },
   "file_extension": ".py",
   "mimetype": "text/x-python",
   "name": "python",
   "nbconvert_exporter": "python",
   "pygments_lexer": "ipython3",
   "version": "3.6.8"
  }
 },
 "nbformat": 4,
 "nbformat_minor": 2
}
