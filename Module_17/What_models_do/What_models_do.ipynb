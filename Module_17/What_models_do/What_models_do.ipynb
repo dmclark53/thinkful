{
 "cells": [
  {
   "cell_type": "markdown",
   "metadata": {},
   "source": [
    "# What models do"
   ]
  },
  {
   "cell_type": "markdown",
   "metadata": {},
   "source": [
    "## Model a coin toss\n",
    "* Hypothesis:\n",
    "    * 50% of the time the coin will land on heads.\n",
    "* Experiment:\n",
    "    * H0 probability = 0.5.\n",
    "    * Define HA probility (probability for an unfair coin).\n",
    "    * Define number of tosses per trial.\n",
    "    * Define number of trials.\n",
    "    * Gather data\n",
    "* Data:\n",
    "    * Dataset features\n",
    "        * heads\n",
    "        * tails\n",
    "        * on edge (e.g. tossed on a carpet, coin wedges in carpeting)\n",
    "        * trial number\n",
    "* Model\n",
    "    * Define control distribution\n",
    "    * Compare acquired data with control distribution using one-sided t-test.\n",
    "* Feature pros/cons\n",
    "    * Pros\n",
    "        * The more tosses per trial, the more sentive the model would be.\n",
    "    * Cons\n",
    "        * Sensitivity improves only slowly for a very large number of trials.\n",
    "        * On-edge flips would only occur very rairly. This feature could be counted as an outlier and discarded."
   ]
  },
  {
   "cell_type": "markdown",
   "metadata": {},
   "source": [
    "Check my reasoning\n",
    "* create a binomial distribution for a fair coin.\n",
    "* create a binomial distribution for an unfair coin.\n",
    "* compare the distributions using a one-sided t-test."
   ]
  },
  {
   "cell_type": "code",
   "execution_count": 1,
   "metadata": {},
   "outputs": [],
   "source": [
    "import matplotlib.pyplot as plt\n",
    "import numpy as np\n",
    "import seaborn as sns\n",
    "import scipy.stats as stats"
   ]
  },
  {
   "cell_type": "code",
   "execution_count": 2,
   "metadata": {},
   "outputs": [
    {
     "data": {
      "image/png": "[encoded data removed]",
      "text/plain": [
       "<Figure size 432x288 with 1 Axes>"
      ]
     },
     "metadata": {
      "needs_background": "light"
     },
     "output_type": "display_data"
    },
    {
     "name": "stdout",
     "output_type": "stream",
     "text": [
      "The coin is unfair.  p-value = 1.19893320302016e-309\n"
     ]
    }
   ],
   "source": [
    "# Model setup\n",
    "num_trials = 100\n",
    "num_tests = 1000\n",
    "p_test = 0.6\n",
    "pvalue_thresh = 0.05\n",
    "\n",
    "# Data\n",
    "control_dist = np.random.binomial(num_trials, 0.5, num_tests)\n",
    "test_dist = np.random.binomial(num_trials, p_test, num_tests)\n",
    "\n",
    "# Evaluation\n",
    "sns.distplot(control_dist, kde=False)\n",
    "sns.distplot(test_dist, kde=False)\n",
    "plt.legend(['control', 'test'])\n",
    "plt.show()\n",
    "\n",
    "ttest, pvalue = stats.ttest_ind(control_dist, test_dist)\n",
    "if pvalue < 0.05:\n",
    "    print(f'The coin is unfair.  p-value = {pvalue}')\n",
    "else:\n",
    "    print(f'The coin is fair.  p-value = {pvalue}')"
   ]
  },
  {
   "cell_type": "markdown",
   "metadata": {},
   "source": [
    "**Observations:**\n",
    "\n",
    "1. The great the number of tests, the more sentive the experiment is.\n",
    "2. The more trials per test, the more sentive the experiment is.\n",
    "\n",
    "\n",
    "**Corrections:**\n",
    "1. Include additional features related to model setup.\n",
    "    * Distance coin falls.\n",
    "    * Friction\n",
    "    * Humidity\n",
    "    * Landing surface\n",
    "2. The more features included, the more trials needed to test the model."
   ]
  },
  {
   "cell_type": "markdown",
   "metadata": {},
   "source": [
    "## Netflix Recommendations\n",
    "### Features\n",
    "* Interactions\n",
    "    * Viewing history\n",
    "    * Movie ratings\n",
    "* Similarity with other members\n",
    "* Movie specifics\n",
    "    * Title\n",
    "    * Genre\n",
    "    * Category\n",
    "    * Actors\n",
    "    * Release year\n",
    "* Time of day\n",
    "* Duration\n",
    "* Device\n",
    "\n",
    "### Additional features to include\n",
    "* Demographics\n",
    "    * Age\n",
    "    * Gender\n",
    "    * Ethnicity\n",
    "    \n",
    "    \n",
    "**Corrections:**\n",
    "* Including geographic"
   ]
  },
  {
   "cell_type": "code",
   "execution_count": null,
   "metadata": {},
   "outputs": [],
   "source": []
  }
 ],
 "metadata": {
  "kernelspec": {
   "display_name": "Python 3",
   "language": "python",
   "name": "python3"
  },
  "language_info": {
   "codemirror_mode": {
    "name": "ipython",
    "version": 3
   },
   "file_extension": ".py",
   "mimetype": "text/x-python",
   "name": "python",
   "nbconvert_exporter": "python",
   "pygments_lexer": "ipython3",
   "version": "3.6.8"
  }
 },
 "nbformat": 4,
 "nbformat_minor": 2
}
