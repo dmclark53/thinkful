{
 "cells": [
  {
   "cell_type": "markdown",
   "metadata": {},
   "source": [
    "# Challenge: Sentiment Analysis with Naive Bayes"
   ]
  },
  {
   "cell_type": "code",
   "execution_count": 1,
   "metadata": {},
   "outputs": [],
   "source": [
    "import numpy as np\n",
    "import pandas as pd\n",
    "import scipy\n",
    "import sklearn\n",
    "import matplotlib.pyplot as plt\n",
    "import seaborn as sns\n",
    "from sklearn.naive_bayes import BernoulliNB\n",
    "\n",
    "%matplotlib inline"
   ]
  },
  {
   "cell_type": "markdown",
   "metadata": {},
   "source": [
    "In this assignment, I am going to use a dataset from the [UCI Machine Learning Repository](https://archive.ics.uci.edu/ml/index.php). Specifically, it is a sentiment analysis dataset taken from 'From Group to Individual Labels using Deep Features', Kotzias et. al,. KDD 2015. The dataset consists of four different company data files. I will use the Amazon data file for this analysis.\n",
    "\n",
    "\n",
    "Plan\n",
    "1. Data Exploration\n",
    "\n",
    "    a. Load data file\n",
    "    \n",
    "    b. Inspect it's structure\n",
    "\n",
    "\n",
    "2. Data Cleaning\n",
    "\n",
    "    a. Clean sentences, removing punctuation and lower case. \n",
    "    \n",
    "    b. Review sentences with score 1 and choose words that seem positive.\n",
    "    \n",
    "    c. Add columns to the DataFrame with these positive words.\n",
    "\n",
    "\n",
    "3. Feature Engineering\n",
    "\n",
    "    a. Inspect feature correlations using a correlations map.\n",
    "    \n",
    "    b. Remove any features that appear highly correlated.\n",
    "\n",
    "\n",
    "4. Modeling\n",
    "\n",
    "    a. Setup up a sklearn BernoulliNB model.\n",
    "    \n",
    "    b. Determine number of misslabeled sentences."
   ]
  },
  {
   "cell_type": "markdown",
   "metadata": {},
   "source": [
    "## Data Exploration\n",
    "### Load data"
   ]
  },
  {
   "cell_type": "code",
   "execution_count": 2,
   "metadata": {},
   "outputs": [],
   "source": [
    "data_file = 'amazon_cells_labelled.txt'\n",
    "df = pd.read_csv(f'./data/{data_file}', delimiter='\\t', header=None)\n",
    "df.columns = ['sentence', 'label']"
   ]
  },
  {
   "cell_type": "code",
   "execution_count": 3,
   "metadata": {},
   "outputs": [
    {
     "data": {
      "text/html": [
       "<div>\n",
       "<style scoped>\n",
       "    .dataframe tbody tr th:only-of-type {\n",
       "        vertical-align: middle;\n",
       "    }\n",
       "\n",
       "    .dataframe tbody tr th {\n",
       "        vertical-align: top;\n",
       "    }\n",
       "\n",
       "    .dataframe thead th {\n",
       "        text-align: right;\n",
       "    }\n",
       "</style>\n",
       "<table border=\"1\" class=\"dataframe\">\n",
       "  <thead>\n",
       "    <tr style=\"text-align: right;\">\n",
       "      <th></th>\n",
       "      <th>sentence</th>\n",
       "      <th>label</th>\n",
       "    </tr>\n",
       "  </thead>\n",
       "  <tbody>\n",
       "    <tr>\n",
       "      <th>0</th>\n",
       "      <td>So there is no way for me to plug it in here i...</td>\n",
       "      <td>0</td>\n",
       "    </tr>\n",
       "    <tr>\n",
       "      <th>1</th>\n",
       "      <td>Good case, Excellent value.</td>\n",
       "      <td>1</td>\n",
       "    </tr>\n",
       "    <tr>\n",
       "      <th>2</th>\n",
       "      <td>Great for the jawbone.</td>\n",
       "      <td>1</td>\n",
       "    </tr>\n",
       "    <tr>\n",
       "      <th>3</th>\n",
       "      <td>Tied to charger for conversations lasting more...</td>\n",
       "      <td>0</td>\n",
       "    </tr>\n",
       "    <tr>\n",
       "      <th>4</th>\n",
       "      <td>The mic is great.</td>\n",
       "      <td>1</td>\n",
       "    </tr>\n",
       "  </tbody>\n",
       "</table>\n",
       "</div>"
      ],
      "text/plain": [
       "                                            sentence  label\n",
       "0  So there is no way for me to plug it in here i...      0\n",
       "1                        Good case, Excellent value.      1\n",
       "2                             Great for the jawbone.      1\n",
       "3  Tied to charger for conversations lasting more...      0\n",
       "4                                  The mic is great.      1"
      ]
     },
     "execution_count": 3,
     "metadata": {},
     "output_type": "execute_result"
    }
   ],
   "source": [
    "df.head()"
   ]
  },
  {
   "cell_type": "code",
   "execution_count": 31,
   "metadata": {},
   "outputs": [
    {
     "name": "stdout",
     "output_type": "stream",
     "text": [
      "The fraction of positive labels is 0.5.\n"
     ]
    }
   ],
   "source": [
    "print(f'The fraction of positive labels is {df[\"label\"].sum() / len(df)}.')"
   ]
  },
  {
   "cell_type": "markdown",
   "metadata": {},
   "source": [
    "## Data Cleaning\n",
    "Clean the sentences.\n",
    "1. Remove punctuation.\n",
    "2. Convert all words to lower case.\n",
    "3. Remove common words."
   ]
  },
  {
   "cell_type": "code",
   "execution_count": 5,
   "metadata": {},
   "outputs": [],
   "source": [
    "punctuation = ['!', '(', ')', '/', ';', ':', ',', '?', '.']\n",
    "common_words = ['the', 'and', 'i', 'is', 'it', 'a', 'this', 'to', 'my', 'for', 'with', 'of', 'on', 'have', 'was',\n",
    "               'in', 'that', 'so', 'has', 'and', 'are', 'but', 'had', 'use', 'you', 'as', 'all']"
   ]
  },
  {
   "cell_type": "code",
   "execution_count": 6,
   "metadata": {},
   "outputs": [],
   "source": [
    "def clean_sentences(df):\n",
    "    \n",
    "    dirty_sentences = df.loc[:, 'sentence'].values\n",
    "    \n",
    "    # Remove punctuation\n",
    "    clean_sentences = dirty_sentences\n",
    "    for mark in punctuation:\n",
    "        clean_sentences = [x.replace(mark, '') for x in clean_sentences]\n",
    "    \n",
    "    # Convert words to lower case\n",
    "    # Also, remove common words\n",
    "    clean_list = []\n",
    "    for sentence in clean_sentences:\n",
    "        split_sentence = sentence.split(' ')\n",
    "        clean_split_sentence = [x.strip().lower() for x in split_sentence]\n",
    "        for word in common_words:\n",
    "            if word in clean_split_sentence:\n",
    "                clean_split_sentence.remove(word)\n",
    "        clean_sentence = ' '.join(clean_split_sentence)\n",
    "        clean_list.append(clean_sentence)\n",
    "        \n",
    "    df['clean_sentence'] = clean_list\n",
    "    \n",
    "    return df.copy()"
   ]
  },
  {
   "cell_type": "code",
   "execution_count": 7,
   "metadata": {},
   "outputs": [],
   "source": [
    "df_clean = clean_sentences(df)"
   ]
  },
  {
   "cell_type": "code",
   "execution_count": 8,
   "metadata": {},
   "outputs": [
    {
     "data": {
      "text/html": [
       "<div>\n",
       "<style scoped>\n",
       "    .dataframe tbody tr th:only-of-type {\n",
       "        vertical-align: middle;\n",
       "    }\n",
       "\n",
       "    .dataframe tbody tr th {\n",
       "        vertical-align: top;\n",
       "    }\n",
       "\n",
       "    .dataframe thead th {\n",
       "        text-align: right;\n",
       "    }\n",
       "</style>\n",
       "<table border=\"1\" class=\"dataframe\">\n",
       "  <thead>\n",
       "    <tr style=\"text-align: right;\">\n",
       "      <th></th>\n",
       "      <th>sentence</th>\n",
       "      <th>label</th>\n",
       "      <th>clean_sentence</th>\n",
       "    </tr>\n",
       "  </thead>\n",
       "  <tbody>\n",
       "    <tr>\n",
       "      <th>0</th>\n",
       "      <td>So there is no way for me to plug it in here i...</td>\n",
       "      <td>0</td>\n",
       "      <td>there no way me plug here in us unless go by c...</td>\n",
       "    </tr>\n",
       "    <tr>\n",
       "      <th>1</th>\n",
       "      <td>Good case, Excellent value.</td>\n",
       "      <td>1</td>\n",
       "      <td>good case excellent value</td>\n",
       "    </tr>\n",
       "    <tr>\n",
       "      <th>2</th>\n",
       "      <td>Great for the jawbone.</td>\n",
       "      <td>1</td>\n",
       "      <td>great jawbone</td>\n",
       "    </tr>\n",
       "    <tr>\n",
       "      <th>3</th>\n",
       "      <td>Tied to charger for conversations lasting more...</td>\n",
       "      <td>0</td>\n",
       "      <td>tied charger conversations lasting more than 4...</td>\n",
       "    </tr>\n",
       "    <tr>\n",
       "      <th>4</th>\n",
       "      <td>The mic is great.</td>\n",
       "      <td>1</td>\n",
       "      <td>mic great</td>\n",
       "    </tr>\n",
       "  </tbody>\n",
       "</table>\n",
       "</div>"
      ],
      "text/plain": [
       "                                            sentence  label  \\\n",
       "0  So there is no way for me to plug it in here i...      0   \n",
       "1                        Good case, Excellent value.      1   \n",
       "2                             Great for the jawbone.      1   \n",
       "3  Tied to charger for conversations lasting more...      0   \n",
       "4                                  The mic is great.      1   \n",
       "\n",
       "                                      clean_sentence  \n",
       "0  there no way me plug here in us unless go by c...  \n",
       "1                          good case excellent value  \n",
       "2                                      great jawbone  \n",
       "3  tied charger conversations lasting more than 4...  \n",
       "4                                          mic great  "
      ]
     },
     "execution_count": 8,
     "metadata": {},
     "output_type": "execute_result"
    }
   ],
   "source": [
    "df_clean.head()"
   ]
  },
  {
   "cell_type": "markdown",
   "metadata": {},
   "source": [
    "### Select keywords\n",
    "1. Select positive sentences.\n",
    "2. Join sentences into one, long list.\n",
    "3. Print 20 most common words.\n",
    "4. Return to data cleaning step and remove common words.\n",
    "5. Once common words have been removed, select 10 of the most common positive words to use."
   ]
  },
  {
   "cell_type": "code",
   "execution_count": 9,
   "metadata": {},
   "outputs": [],
   "source": [
    "positive_list = ' '.join(df.loc[df['label'] == 1, 'clean_sentence'].values.tolist()).split(' ')"
   ]
  },
  {
   "cell_type": "code",
   "execution_count": 10,
   "metadata": {},
   "outputs": [
    {
     "data": {
      "text/plain": [
       "great        92\n",
       "phone        86\n",
       "very         69\n",
       "good         62\n",
       "the          61\n",
       "works        46\n",
       "product      33\n",
       "quality      31\n",
       "headset      31\n",
       "well         31\n",
       "sound        27\n",
       "excellent    26\n",
       "price        25\n",
       "one          23\n",
       "nice         22\n",
       "battery      22\n",
       "best         21\n",
       "recommend    20\n",
       "is           20\n",
       "love         20\n",
       "dtype: int64"
      ]
     },
     "execution_count": 10,
     "metadata": {},
     "output_type": "execute_result"
    }
   ],
   "source": [
    "pd.Series(positive_list).value_counts()[:20]"
   ]
  },
  {
   "cell_type": "code",
   "execution_count": 11,
   "metadata": {},
   "outputs": [],
   "source": [
    "positive_words = ['great', 'very', 'good', 'works', 'well', 'excellent', 'nice', 'best', 'recommend', 'love']"
   ]
  },
  {
   "cell_type": "markdown",
   "metadata": {},
   "source": [
    "### Add features\n",
    "Add positive words as additional columns to the cleaned dataset."
   ]
  },
  {
   "cell_type": "code",
   "execution_count": 12,
   "metadata": {},
   "outputs": [],
   "source": [
    "def add_positive_words(df):\n",
    "    for word in positive_words:\n",
    "        df[word] = df['clean_sentence'].str.contains(f' {word} ', case=False)\n",
    "    return df"
   ]
  },
  {
   "cell_type": "code",
   "execution_count": 13,
   "metadata": {},
   "outputs": [],
   "source": [
    "df_clean = add_positive_words(df_clean)"
   ]
  },
  {
   "cell_type": "code",
   "execution_count": 14,
   "metadata": {},
   "outputs": [
    {
     "data": {
      "text/html": [
       "<div>\n",
       "<style scoped>\n",
       "    .dataframe tbody tr th:only-of-type {\n",
       "        vertical-align: middle;\n",
       "    }\n",
       "\n",
       "    .dataframe tbody tr th {\n",
       "        vertical-align: top;\n",
       "    }\n",
       "\n",
       "    .dataframe thead th {\n",
       "        text-align: right;\n",
       "    }\n",
       "</style>\n",
       "<table border=\"1\" class=\"dataframe\">\n",
       "  <thead>\n",
       "    <tr style=\"text-align: right;\">\n",
       "      <th></th>\n",
       "      <th>sentence</th>\n",
       "      <th>label</th>\n",
       "      <th>clean_sentence</th>\n",
       "      <th>great</th>\n",
       "      <th>very</th>\n",
       "      <th>good</th>\n",
       "      <th>works</th>\n",
       "      <th>well</th>\n",
       "      <th>excellent</th>\n",
       "      <th>nice</th>\n",
       "      <th>best</th>\n",
       "      <th>recommend</th>\n",
       "      <th>love</th>\n",
       "    </tr>\n",
       "  </thead>\n",
       "  <tbody>\n",
       "    <tr>\n",
       "      <th>0</th>\n",
       "      <td>So there is no way for me to plug it in here i...</td>\n",
       "      <td>0</td>\n",
       "      <td>there no way me plug here in us unless go by c...</td>\n",
       "      <td>False</td>\n",
       "      <td>False</td>\n",
       "      <td>False</td>\n",
       "      <td>False</td>\n",
       "      <td>False</td>\n",
       "      <td>False</td>\n",
       "      <td>False</td>\n",
       "      <td>False</td>\n",
       "      <td>False</td>\n",
       "      <td>False</td>\n",
       "    </tr>\n",
       "    <tr>\n",
       "      <th>1</th>\n",
       "      <td>Good case, Excellent value.</td>\n",
       "      <td>1</td>\n",
       "      <td>good case excellent value</td>\n",
       "      <td>False</td>\n",
       "      <td>False</td>\n",
       "      <td>False</td>\n",
       "      <td>False</td>\n",
       "      <td>False</td>\n",
       "      <td>True</td>\n",
       "      <td>False</td>\n",
       "      <td>False</td>\n",
       "      <td>False</td>\n",
       "      <td>False</td>\n",
       "    </tr>\n",
       "    <tr>\n",
       "      <th>2</th>\n",
       "      <td>Great for the jawbone.</td>\n",
       "      <td>1</td>\n",
       "      <td>great jawbone</td>\n",
       "      <td>False</td>\n",
       "      <td>False</td>\n",
       "      <td>False</td>\n",
       "      <td>False</td>\n",
       "      <td>False</td>\n",
       "      <td>False</td>\n",
       "      <td>False</td>\n",
       "      <td>False</td>\n",
       "      <td>False</td>\n",
       "      <td>False</td>\n",
       "    </tr>\n",
       "    <tr>\n",
       "      <th>3</th>\n",
       "      <td>Tied to charger for conversations lasting more...</td>\n",
       "      <td>0</td>\n",
       "      <td>tied charger conversations lasting more than 4...</td>\n",
       "      <td>False</td>\n",
       "      <td>False</td>\n",
       "      <td>False</td>\n",
       "      <td>False</td>\n",
       "      <td>False</td>\n",
       "      <td>False</td>\n",
       "      <td>False</td>\n",
       "      <td>False</td>\n",
       "      <td>False</td>\n",
       "      <td>False</td>\n",
       "    </tr>\n",
       "    <tr>\n",
       "      <th>4</th>\n",
       "      <td>The mic is great.</td>\n",
       "      <td>1</td>\n",
       "      <td>mic great</td>\n",
       "      <td>False</td>\n",
       "      <td>False</td>\n",
       "      <td>False</td>\n",
       "      <td>False</td>\n",
       "      <td>False</td>\n",
       "      <td>False</td>\n",
       "      <td>False</td>\n",
       "      <td>False</td>\n",
       "      <td>False</td>\n",
       "      <td>False</td>\n",
       "    </tr>\n",
       "  </tbody>\n",
       "</table>\n",
       "</div>"
      ],
      "text/plain": [
       "                                            sentence  label  \\\n",
       "0  So there is no way for me to plug it in here i...      0   \n",
       "1                        Good case, Excellent value.      1   \n",
       "2                             Great for the jawbone.      1   \n",
       "3  Tied to charger for conversations lasting more...      0   \n",
       "4                                  The mic is great.      1   \n",
       "\n",
       "                                      clean_sentence  great   very   good  \\\n",
       "0  there no way me plug here in us unless go by c...  False  False  False   \n",
       "1                          good case excellent value  False  False  False   \n",
       "2                                      great jawbone  False  False  False   \n",
       "3  tied charger conversations lasting more than 4...  False  False  False   \n",
       "4                                          mic great  False  False  False   \n",
       "\n",
       "   works   well  excellent   nice   best  recommend   love  \n",
       "0  False  False      False  False  False      False  False  \n",
       "1  False  False       True  False  False      False  False  \n",
       "2  False  False      False  False  False      False  False  \n",
       "3  False  False      False  False  False      False  False  \n",
       "4  False  False      False  False  False      False  False  "
      ]
     },
     "execution_count": 14,
     "metadata": {},
     "output_type": "execute_result"
    }
   ],
   "source": [
    "df_clean.head()"
   ]
  },
  {
   "cell_type": "markdown",
   "metadata": {},
   "source": [
    "## Feature Engineering\n",
    "### Feature correlations\n",
    "Inspect the correlations between the postive word features."
   ]
  },
  {
   "cell_type": "code",
   "execution_count": 15,
   "metadata": {},
   "outputs": [
    {
     "data": {
      "image/png": "[encoded data removed]",
      "text/plain": [
       "<Figure size 432x288 with 2 Axes>"
      ]
     },
     "metadata": {
      "needs_background": "light"
     },
     "output_type": "display_data"
    }
   ],
   "source": [
    "sns.heatmap(df_clean.loc[:, positive_words].corr())\n",
    "plt.show()"
   ]
  },
  {
   "cell_type": "markdown",
   "metadata": {},
   "source": [
    "**Observation:** Great! None of the features appear to be correlated."
   ]
  },
  {
   "cell_type": "markdown",
   "metadata": {},
   "source": [
    "## Modeling"
   ]
  },
  {
   "cell_type": "code",
   "execution_count": 16,
   "metadata": {},
   "outputs": [],
   "source": [
    "# Define feature and target variables\n",
    "X = df_clean.loc[:, positive_words]\n",
    "y = df_clean['label']"
   ]
  },
  {
   "cell_type": "code",
   "execution_count": 17,
   "metadata": {},
   "outputs": [
    {
     "name": "stdout",
     "output_type": "stream",
     "text": [
      "The model accuracy is 62.6%.\n"
     ]
    }
   ],
   "source": [
    "# Instantiate the model\n",
    "bnb = BernoulliNB()\n",
    "\n",
    "# Fit model to the features\n",
    "bnb.fit(X, y)\n",
    "\n",
    "# Predict the targets using the fitted model\n",
    "y_pred = bnb.predict(X)\n",
    "\n",
    "# Find and print model accuracy\n",
    "correct_predictions = (y == y_pred).sum()\n",
    "total = X.shape[0]\n",
    "accuracy = (correct_predictions / total) * 100\n",
    "print(f'The model accuracy is {accuracy:0.1f}%.')"
   ]
  },
  {
   "cell_type": "markdown",
   "metadata": {},
   "source": [
    "## Comparing with other datasets\n",
    "### Yelp"
   ]
  },
  {
   "cell_type": "code",
   "execution_count": 18,
   "metadata": {},
   "outputs": [],
   "source": [
    "data_file = 'yelp_labelled.txt'\n",
    "df_yelp = pd.read_csv(f'./data/{data_file}', delimiter='\\t', header=None)\n",
    "df_yelp.columns = ['sentence', 'label']"
   ]
  },
  {
   "cell_type": "code",
   "execution_count": 20,
   "metadata": {},
   "outputs": [],
   "source": [
    "df_yelp_clean = clean_sentences(df_yelp)"
   ]
  },
  {
   "cell_type": "code",
   "execution_count": 21,
   "metadata": {},
   "outputs": [],
   "source": [
    "df_yelp_clean = add_positive_words(df_yelp_clean)"
   ]
  },
  {
   "cell_type": "code",
   "execution_count": 22,
   "metadata": {},
   "outputs": [
    {
     "data": {
      "image/png": "[encoded data removed]",
      "text/plain": [
       "<Figure size 432x288 with 2 Axes>"
      ]
     },
     "metadata": {
      "needs_background": "light"
     },
     "output_type": "display_data"
    }
   ],
   "source": [
    "sns.heatmap(df_yelp_clean.loc[:, positive_words].corr())\n",
    "plt.show()"
   ]
  },
  {
   "cell_type": "code",
   "execution_count": 23,
   "metadata": {},
   "outputs": [],
   "source": [
    "# Define feature and target variables\n",
    "X_yelp = df_yelp_clean.loc[:, positive_words]\n",
    "y_yelp = df_yelp_clean['label']"
   ]
  },
  {
   "cell_type": "code",
   "execution_count": 24,
   "metadata": {},
   "outputs": [
    {
     "name": "stdout",
     "output_type": "stream",
     "text": [
      "The model accuracy is 60.7%.\n"
     ]
    }
   ],
   "source": [
    "# Predict the targets using the fitted model\n",
    "y_pred = bnb.predict(X_yelp)\n",
    "\n",
    "# Find and print model accuracy\n",
    "correct_predictions = (y_yelp == y_pred).sum()\n",
    "total = X_yelp.shape[0]\n",
    "accuracy = (correct_predictions / total) * 100\n",
    "print(f'The model accuracy is {accuracy:0.1f}%.')"
   ]
  },
  {
   "cell_type": "markdown",
   "metadata": {},
   "source": [
    "### IMDB"
   ]
  },
  {
   "cell_type": "code",
   "execution_count": 25,
   "metadata": {},
   "outputs": [],
   "source": [
    "data_file = 'imdb_labelled.txt'\n",
    "df_imdb = pd.read_csv(f'./data/{data_file}', delimiter='\\t', header=None)\n",
    "df_imdb.columns = ['sentence', 'label']"
   ]
  },
  {
   "cell_type": "code",
   "execution_count": 26,
   "metadata": {},
   "outputs": [],
   "source": [
    "df_imdb_clean = clean_sentences(df_imdb)"
   ]
  },
  {
   "cell_type": "code",
   "execution_count": 27,
   "metadata": {},
   "outputs": [],
   "source": [
    "df_imdb_clean = add_positive_words(df_imdb_clean)"
   ]
  },
  {
   "cell_type": "code",
   "execution_count": 28,
   "metadata": {},
   "outputs": [
    {
     "data": {
      "image/png": "[encoded data removed]",
      "text/plain": [
       "<Figure size 432x288 with 2 Axes>"
      ]
     },
     "metadata": {
      "needs_background": "light"
     },
     "output_type": "display_data"
    }
   ],
   "source": [
    "sns.heatmap(df_imdb_clean.loc[:, positive_words].corr())\n",
    "plt.show()"
   ]
  },
  {
   "cell_type": "code",
   "execution_count": 29,
   "metadata": {},
   "outputs": [],
   "source": [
    "# Define feature and target variables\n",
    "X_imdb = df_imdb_clean.loc[:, positive_words]\n",
    "y_imdb = df_imdb_clean['label']"
   ]
  },
  {
   "cell_type": "code",
   "execution_count": 30,
   "metadata": {},
   "outputs": [
    {
     "name": "stdout",
     "output_type": "stream",
     "text": [
      "The model accuracy is 57.0%.\n"
     ]
    }
   ],
   "source": [
    "# Predict the targets using the fitted model\n",
    "y_pred = bnb.predict(X_imdb)\n",
    "\n",
    "# Find and print model accuracy\n",
    "correct_predictions = (y_imdb == y_pred).sum()\n",
    "total = X_imdb.shape[0]\n",
    "accuracy = (correct_predictions / total) * 100\n",
    "print(f'The model accuracy is {accuracy:0.1f}%.')"
   ]
  },
  {
   "cell_type": "markdown",
   "metadata": {},
   "source": [
    "**Observations:**\n",
    "The model prediction for the Amazon dataset is quite low, 62.6%. The model fits to the additional datasets are also low, 57% and 60.7%"
   ]
  },
  {
   "cell_type": "code",
   "execution_count": null,
   "metadata": {},
   "outputs": [],
   "source": []
  }
 ],
 "metadata": {
  "kernelspec": {
   "display_name": "Python 3",
   "language": "python",
   "name": "python3"
  },
  "language_info": {
   "codemirror_mode": {
    "name": "ipython",
    "version": 3
   },
   "file_extension": ".py",
   "mimetype": "text/x-python",
   "name": "python",
   "nbconvert_exporter": "python",
   "pygments_lexer": "ipython3",
   "version": "3.6.8"
  }
 },
 "nbformat": 4,
 "nbformat_minor": 2
}
