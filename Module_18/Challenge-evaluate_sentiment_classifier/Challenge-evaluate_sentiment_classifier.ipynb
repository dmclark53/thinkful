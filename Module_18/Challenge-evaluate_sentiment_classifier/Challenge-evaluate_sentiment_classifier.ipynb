{
 "cells": [
  {
   "cell_type": "markdown",
   "metadata": {},
   "source": [
    "# Challenge: Evaluate Sentiment Classifier"
   ]
  },
  {
   "cell_type": "code",
   "execution_count": 1,
   "metadata": {},
   "outputs": [],
   "source": [
    "import numpy as np\n",
    "import pandas as pd\n",
    "import scipy\n",
    "import sklearn\n",
    "import matplotlib.pyplot as plt\n",
    "import seaborn as sns\n",
    "from sklearn.metrics import confusion_matrix\n",
    "from sklearn.model_selection import cross_val_score\n",
    "from sklearn.model_selection import train_test_split\n",
    "from sklearn.naive_bayes import BernoulliNB\n",
    "from scipy.stats import ttest_ind\n",
    "\n",
    "%matplotlib inline"
   ]
  },
  {
   "cell_type": "markdown",
   "metadata": {},
   "source": [
    "In this assignment, I am going to use a dataset from the [UCI Machine Learning Repository](https://archive.ics.uci.edu/ml/index.php). Specifically, it is a sentiment analysis dataset taken from 'From Group to Individual Labels using Deep Features', Kotzias et. al,. KDD 2015. The dataset consists of four different company data files. I will use the Amazon data file for this analysis."
   ]
  },
  {
   "cell_type": "markdown",
   "metadata": {},
   "source": [
    "## Helper Functions\n",
    "In this section, I will define functions I will use during the data cleaning, feature engineering, and modeling phases."
   ]
  },
  {
   "cell_type": "code",
   "execution_count": 2,
   "metadata": {},
   "outputs": [],
   "source": [
    "# Data cleaning\n",
    "punctuation = ['!', '(', ')', '/', ';', ':', ',', '?', '.']\n",
    "common_words = ['the', 'and', 'i', 'is', 'it', 'a', 'this', 'to', 'my', 'for', 'with', 'of', 'on', 'have', 'was',\n",
    "               'in', 'that', 'so', 'has', 'and', 'are', 'but', 'had', 'use', 'you', 'as', 'all', 'if', 'me', 'after',\n",
    "               'your', 'would', 'from', 'than', \"i\\'ve\", \"it\\'s\", 'any', 'be', 'then', 'when', 'at', 'or']"
   ]
  },
  {
   "cell_type": "code",
   "execution_count": 3,
   "metadata": {},
   "outputs": [],
   "source": [
    "# Data cleaning\n",
    "def clean_sentences(df, remove_common_words=True):\n",
    "    \n",
    "    dirty_sentences = df.loc[:, 'sentence'].values\n",
    "    \n",
    "    # Remove punctuation\n",
    "    clean_sentences = dirty_sentences\n",
    "    for mark in punctuation:\n",
    "        clean_sentences = [x.replace(mark, '') for x in clean_sentences]\n",
    "    \n",
    "    unique_words_list = []\n",
    "    i = 0\n",
    "    for sentence in clean_sentences:\n",
    "        split_sentence = sentence.split(' ')\n",
    "        \n",
    "        # Convert words to lower case\n",
    "        clean_split_sentence = [x.strip().lower() for x in split_sentence]\n",
    "        \n",
    "        # Only save unique words\n",
    "        unique_words = list(set(clean_split_sentence))\n",
    "        \n",
    "        # Remove common words\n",
    "        if remove_common_words:\n",
    "            for word in common_words:\n",
    "                if word in unique_words:\n",
    "                    unique_words.remove(word)\n",
    "                \n",
    "        unique_words_string = ' '.join(unique_words)\n",
    "        unique_words_list.append(unique_words_string)\n",
    "        \n",
    "    df['unique_words'] = unique_words_list\n",
    "    \n",
    "    return df.copy()"
   ]
  },
  {
   "cell_type": "code",
   "execution_count": 4,
   "metadata": {},
   "outputs": [],
   "source": [
    "# Feature engineering\n",
    "def average_word_length(df):\n",
    "    \n",
    "    dirty_sentences = df.loc[:, 'sentence'].values\n",
    "    \n",
    "    # Remove punctuation\n",
    "    clean_sentences = dirty_sentences\n",
    "    for mark in punctuation:\n",
    "        clean_sentences = [x.replace(mark, '') for x in clean_sentences]\n",
    "    \n",
    "    unique_words_list = []\n",
    "    i = 0\n",
    "    for sentence in clean_sentences:\n",
    "        split_sentence = sentence.split(' ')\n",
    "        \n",
    "        # Convert words to lower case\n",
    "        clean_split_sentence = [x.strip().lower() for x in split_sentence]\n",
    "        \n",
    "        # Only save unique words\n",
    "        unique_words = list(set(clean_split_sentence))\n",
    "        \n",
    "        # Remove common words\n",
    "        if remove_common_words:\n",
    "            for word in common_words:\n",
    "                if word in unique_words:\n",
    "                    unique_words.remove(word)\n",
    "                \n",
    "        unique_words_string = ' '.join(unique_words)\n",
    "        unique_words_list.append(unique_words_string)\n",
    "        \n",
    "    df['unique_words'] = unique_words_list\n",
    "    \n",
    "    return df.copy()"
   ]
  },
  {
   "cell_type": "code",
   "execution_count": 5,
   "metadata": {},
   "outputs": [],
   "source": [
    "# Feature engineering\n",
    "def add_positive_words(df, positive_words):\n",
    "    for word in positive_words:\n",
    "        df[word] = df['unique_words'].str.contains(f' {word} ', case=False)\n",
    "    return df"
   ]
  },
  {
   "cell_type": "code",
   "execution_count": 6,
   "metadata": {},
   "outputs": [],
   "source": [
    "# Modeling\n",
    "def run_model(df, model, positive_words):\n",
    "    # Define feature and target variables\n",
    "    X = df.loc[:, positive_words]\n",
    "    y = df['label']\n",
    "    \n",
    "    # Split data into train and test\n",
    "    X_train, X_test, y_train, y_test = train_test_split(X, y, test_size=0.2, random_state=42)\n",
    "    hold_out_score = bnb.fit(X_train, y_train).score(X_test, y_test)\n",
    "    print(f'Hold out score: {hold_out_score}')\n",
    "    \n",
    "    # Prediction\n",
    "    y_pred = model.predict(X_test)\n",
    "    \n",
    "    # Confusion Matrix\n",
    "    confusion_matrix = pd.crosstab(y_test, y_pred, \n",
    "                                   rownames=['Actual'], colnames=['Predicted'])\n",
    "    print(f'Confusion Matrix:\\n{confusion_matrix}')\n",
    "    \n",
    "    # Perform five-fold cross validation\n",
    "    cv_scores = cross_val_score(model, X, y, cv=10)\n",
    "    print(f'Cross-validation scores: {cv_scores.tolist()}')"
   ]
  },
  {
   "cell_type": "code",
   "execution_count": 7,
   "metadata": {},
   "outputs": [],
   "source": [
    "# Modeling\n",
    "def print_tstats(df, column):\n",
    "    positive = df.loc[df['label'] == 1, column].values\n",
    "    negative = df.loc[df['label'] == 0, column].values\n",
    "    tstat, pvalue = ttest_ind(positive, negative)\n",
    "    print(f'T-statistics for {column}:')\n",
    "    print(f'\\tt-statistic={tstat}, pvalue = {pvalue}')"
   ]
  },
  {
   "cell_type": "markdown",
   "metadata": {},
   "source": [
    "## Data Exploration\n",
    "### Load data"
   ]
  },
  {
   "cell_type": "code",
   "execution_count": 8,
   "metadata": {},
   "outputs": [],
   "source": [
    "data_file = 'amazon_cells_labelled.txt'\n",
    "df = pd.read_csv(f'./data/{data_file}', delimiter='\\t', header=None)\n",
    "df.columns = ['sentence', 'label']"
   ]
  },
  {
   "cell_type": "code",
   "execution_count": 9,
   "metadata": {},
   "outputs": [
    {
     "data": {
      "text/html": [
       "<div>\n",
       "<style scoped>\n",
       "    .dataframe tbody tr th:only-of-type {\n",
       "        vertical-align: middle;\n",
       "    }\n",
       "\n",
       "    .dataframe tbody tr th {\n",
       "        vertical-align: top;\n",
       "    }\n",
       "\n",
       "    .dataframe thead th {\n",
       "        text-align: right;\n",
       "    }\n",
       "</style>\n",
       "<table border=\"1\" class=\"dataframe\">\n",
       "  <thead>\n",
       "    <tr style=\"text-align: right;\">\n",
       "      <th></th>\n",
       "      <th>sentence</th>\n",
       "      <th>label</th>\n",
       "    </tr>\n",
       "  </thead>\n",
       "  <tbody>\n",
       "    <tr>\n",
       "      <th>0</th>\n",
       "      <td>So there is no way for me to plug it in here i...</td>\n",
       "      <td>0</td>\n",
       "    </tr>\n",
       "    <tr>\n",
       "      <th>1</th>\n",
       "      <td>Good case, Excellent value.</td>\n",
       "      <td>1</td>\n",
       "    </tr>\n",
       "    <tr>\n",
       "      <th>2</th>\n",
       "      <td>Great for the jawbone.</td>\n",
       "      <td>1</td>\n",
       "    </tr>\n",
       "    <tr>\n",
       "      <th>3</th>\n",
       "      <td>Tied to charger for conversations lasting more...</td>\n",
       "      <td>0</td>\n",
       "    </tr>\n",
       "    <tr>\n",
       "      <th>4</th>\n",
       "      <td>The mic is great.</td>\n",
       "      <td>1</td>\n",
       "    </tr>\n",
       "  </tbody>\n",
       "</table>\n",
       "</div>"
      ],
      "text/plain": [
       "                                            sentence  label\n",
       "0  So there is no way for me to plug it in here i...      0\n",
       "1                        Good case, Excellent value.      1\n",
       "2                             Great for the jawbone.      1\n",
       "3  Tied to charger for conversations lasting more...      0\n",
       "4                                  The mic is great.      1"
      ]
     },
     "execution_count": 9,
     "metadata": {},
     "output_type": "execute_result"
    }
   ],
   "source": [
    "df.head()"
   ]
  },
  {
   "cell_type": "code",
   "execution_count": 10,
   "metadata": {},
   "outputs": [
    {
     "name": "stdout",
     "output_type": "stream",
     "text": [
      "The fraction of positive labels is 0.5.\n"
     ]
    }
   ],
   "source": [
    "print(f'The fraction of positive labels is {df[\"label\"].sum() / len(df)}.')"
   ]
  },
  {
   "cell_type": "markdown",
   "metadata": {},
   "source": [
    "## Model 1\n",
    "### Data Cleaning\n",
    "Clean the sentences.\n",
    "1. Remove punctuation.\n",
    "2. Convert all words to lower case."
   ]
  },
  {
   "cell_type": "code",
   "execution_count": 11,
   "metadata": {},
   "outputs": [],
   "source": [
    "df_clean_m1 = clean_sentences(df, remove_common_words=False)"
   ]
  },
  {
   "cell_type": "code",
   "execution_count": 12,
   "metadata": {},
   "outputs": [
    {
     "data": {
      "text/html": [
       "<div>\n",
       "<style scoped>\n",
       "    .dataframe tbody tr th:only-of-type {\n",
       "        vertical-align: middle;\n",
       "    }\n",
       "\n",
       "    .dataframe tbody tr th {\n",
       "        vertical-align: top;\n",
       "    }\n",
       "\n",
       "    .dataframe thead th {\n",
       "        text-align: right;\n",
       "    }\n",
       "</style>\n",
       "<table border=\"1\" class=\"dataframe\">\n",
       "  <thead>\n",
       "    <tr style=\"text-align: right;\">\n",
       "      <th></th>\n",
       "      <th>sentence</th>\n",
       "      <th>label</th>\n",
       "      <th>unique_words</th>\n",
       "    </tr>\n",
       "  </thead>\n",
       "  <tbody>\n",
       "    <tr>\n",
       "      <th>0</th>\n",
       "      <td>So there is no way for me to plug it in here i...</td>\n",
       "      <td>0</td>\n",
       "      <td>it go a there so no me by to unless the here f...</td>\n",
       "    </tr>\n",
       "    <tr>\n",
       "      <th>1</th>\n",
       "      <td>Good case, Excellent value.</td>\n",
       "      <td>1</td>\n",
       "      <td>good case excellent value</td>\n",
       "    </tr>\n",
       "    <tr>\n",
       "      <th>2</th>\n",
       "      <td>Great for the jawbone.</td>\n",
       "      <td>1</td>\n",
       "      <td>great the for jawbone</td>\n",
       "    </tr>\n",
       "    <tr>\n",
       "      <th>3</th>\n",
       "      <td>Tied to charger for conversations lasting more...</td>\n",
       "      <td>0</td>\n",
       "      <td>problems conversations more 45 to tied than fo...</td>\n",
       "    </tr>\n",
       "    <tr>\n",
       "      <th>4</th>\n",
       "      <td>The mic is great.</td>\n",
       "      <td>1</td>\n",
       "      <td>mic great the is</td>\n",
       "    </tr>\n",
       "  </tbody>\n",
       "</table>\n",
       "</div>"
      ],
      "text/plain": [
       "                                            sentence  label  \\\n",
       "0  So there is no way for me to plug it in here i...      0   \n",
       "1                        Good case, Excellent value.      1   \n",
       "2                             Great for the jawbone.      1   \n",
       "3  Tied to charger for conversations lasting more...      0   \n",
       "4                                  The mic is great.      1   \n",
       "\n",
       "                                        unique_words  \n",
       "0  it go a there so no me by to unless the here f...  \n",
       "1                          good case excellent value  \n",
       "2                              great the for jawbone  \n",
       "3  problems conversations more 45 to tied than fo...  \n",
       "4                                   mic great the is  "
      ]
     },
     "execution_count": 12,
     "metadata": {},
     "output_type": "execute_result"
    }
   ],
   "source": [
    "df_clean_m1.head()"
   ]
  },
  {
   "cell_type": "markdown",
   "metadata": {},
   "source": [
    "### Feature Engineering\n",
    "#### Select keywords"
   ]
  },
  {
   "cell_type": "code",
   "execution_count": 13,
   "metadata": {},
   "outputs": [],
   "source": [
    "positive_list_m1 = ' '.join(df_clean_m1.loc[df['label'] == 1, 'unique_words'].values.tolist()).split(' ')"
   ]
  },
  {
   "cell_type": "code",
   "execution_count": 14,
   "metadata": {},
   "outputs": [
    {
     "data": {
      "text/plain": [
       "the        176\n",
       "and        165\n",
       "i          139\n",
       "is         121\n",
       "it         110\n",
       "this       105\n",
       "a           90\n",
       "great       90\n",
       "phone       82\n",
       "to          77\n",
       "very        68\n",
       "with        61\n",
       "for         59\n",
       "good        59\n",
       "my          57\n",
       "works       45\n",
       "of          45\n",
       "on          42\n",
       "have        35\n",
       "in          34\n",
       "product     33\n",
       "was         33\n",
       "well        31\n",
       "quality     31\n",
       "that        30\n",
       "dtype: int64"
      ]
     },
     "execution_count": 14,
     "metadata": {},
     "output_type": "execute_result"
    }
   ],
   "source": [
    "pd.Series(positive_list_m1).value_counts()[:25]"
   ]
  },
  {
   "cell_type": "code",
   "execution_count": 15,
   "metadata": {},
   "outputs": [
    {
     "name": "stdout",
     "output_type": "stream",
     "text": [
      "['the', 'and', 'i', 'is', 'it', 'this', 'a', 'great', 'phone', 'to']\n"
     ]
    }
   ],
   "source": [
    "positive_words_m1 = pd.Series(positive_list_m1).value_counts().index.tolist()[:10]\n",
    "print(positive_words_m1)"
   ]
  },
  {
   "cell_type": "markdown",
   "metadata": {},
   "source": [
    "#### Add features\n",
    "Add positive words as additional columns to the cleaned dataset."
   ]
  },
  {
   "cell_type": "code",
   "execution_count": 16,
   "metadata": {},
   "outputs": [],
   "source": [
    "df_clean_m1 = add_positive_words(df_clean_m1, positive_words_m1)"
   ]
  },
  {
   "cell_type": "code",
   "execution_count": 17,
   "metadata": {},
   "outputs": [
    {
     "data": {
      "text/html": [
       "<div>\n",
       "<style scoped>\n",
       "    .dataframe tbody tr th:only-of-type {\n",
       "        vertical-align: middle;\n",
       "    }\n",
       "\n",
       "    .dataframe tbody tr th {\n",
       "        vertical-align: top;\n",
       "    }\n",
       "\n",
       "    .dataframe thead th {\n",
       "        text-align: right;\n",
       "    }\n",
       "</style>\n",
       "<table border=\"1\" class=\"dataframe\">\n",
       "  <thead>\n",
       "    <tr style=\"text-align: right;\">\n",
       "      <th></th>\n",
       "      <th>sentence</th>\n",
       "      <th>label</th>\n",
       "      <th>unique_words</th>\n",
       "      <th>the</th>\n",
       "      <th>and</th>\n",
       "      <th>i</th>\n",
       "      <th>is</th>\n",
       "      <th>it</th>\n",
       "      <th>this</th>\n",
       "      <th>a</th>\n",
       "      <th>great</th>\n",
       "      <th>phone</th>\n",
       "      <th>to</th>\n",
       "    </tr>\n",
       "  </thead>\n",
       "  <tbody>\n",
       "    <tr>\n",
       "      <th>0</th>\n",
       "      <td>So there is no way for me to plug it in here i...</td>\n",
       "      <td>0</td>\n",
       "      <td>it go a there so no me by to unless the here f...</td>\n",
       "      <td>True</td>\n",
       "      <td>False</td>\n",
       "      <td>True</td>\n",
       "      <td>False</td>\n",
       "      <td>False</td>\n",
       "      <td>False</td>\n",
       "      <td>True</td>\n",
       "      <td>False</td>\n",
       "      <td>False</td>\n",
       "      <td>True</td>\n",
       "    </tr>\n",
       "    <tr>\n",
       "      <th>1</th>\n",
       "      <td>Good case, Excellent value.</td>\n",
       "      <td>1</td>\n",
       "      <td>good case excellent value</td>\n",
       "      <td>False</td>\n",
       "      <td>False</td>\n",
       "      <td>False</td>\n",
       "      <td>False</td>\n",
       "      <td>False</td>\n",
       "      <td>False</td>\n",
       "      <td>False</td>\n",
       "      <td>False</td>\n",
       "      <td>False</td>\n",
       "      <td>False</td>\n",
       "    </tr>\n",
       "    <tr>\n",
       "      <th>2</th>\n",
       "      <td>Great for the jawbone.</td>\n",
       "      <td>1</td>\n",
       "      <td>great the for jawbone</td>\n",
       "      <td>True</td>\n",
       "      <td>False</td>\n",
       "      <td>False</td>\n",
       "      <td>False</td>\n",
       "      <td>False</td>\n",
       "      <td>False</td>\n",
       "      <td>False</td>\n",
       "      <td>False</td>\n",
       "      <td>False</td>\n",
       "      <td>False</td>\n",
       "    </tr>\n",
       "    <tr>\n",
       "      <th>3</th>\n",
       "      <td>Tied to charger for conversations lasting more...</td>\n",
       "      <td>0</td>\n",
       "      <td>problems conversations more 45 to tied than fo...</td>\n",
       "      <td>False</td>\n",
       "      <td>False</td>\n",
       "      <td>False</td>\n",
       "      <td>False</td>\n",
       "      <td>False</td>\n",
       "      <td>False</td>\n",
       "      <td>False</td>\n",
       "      <td>False</td>\n",
       "      <td>False</td>\n",
       "      <td>True</td>\n",
       "    </tr>\n",
       "    <tr>\n",
       "      <th>4</th>\n",
       "      <td>The mic is great.</td>\n",
       "      <td>1</td>\n",
       "      <td>mic great the is</td>\n",
       "      <td>True</td>\n",
       "      <td>False</td>\n",
       "      <td>False</td>\n",
       "      <td>False</td>\n",
       "      <td>False</td>\n",
       "      <td>False</td>\n",
       "      <td>False</td>\n",
       "      <td>True</td>\n",
       "      <td>False</td>\n",
       "      <td>False</td>\n",
       "    </tr>\n",
       "  </tbody>\n",
       "</table>\n",
       "</div>"
      ],
      "text/plain": [
       "                                            sentence  label  \\\n",
       "0  So there is no way for me to plug it in here i...      0   \n",
       "1                        Good case, Excellent value.      1   \n",
       "2                             Great for the jawbone.      1   \n",
       "3  Tied to charger for conversations lasting more...      0   \n",
       "4                                  The mic is great.      1   \n",
       "\n",
       "                                        unique_words    the    and      i  \\\n",
       "0  it go a there so no me by to unless the here f...   True  False   True   \n",
       "1                          good case excellent value  False  False  False   \n",
       "2                              great the for jawbone   True  False  False   \n",
       "3  problems conversations more 45 to tied than fo...  False  False  False   \n",
       "4                                   mic great the is   True  False  False   \n",
       "\n",
       "      is     it   this      a  great  phone     to  \n",
       "0  False  False  False   True  False  False   True  \n",
       "1  False  False  False  False  False  False  False  \n",
       "2  False  False  False  False  False  False  False  \n",
       "3  False  False  False  False  False  False   True  \n",
       "4  False  False  False  False   True  False  False  "
      ]
     },
     "execution_count": 17,
     "metadata": {},
     "output_type": "execute_result"
    }
   ],
   "source": [
    "df_clean_m1.head()"
   ]
  },
  {
   "cell_type": "markdown",
   "metadata": {},
   "source": [
    "#### Feature correlations\n",
    "Inspect the correlations between the postive word features."
   ]
  },
  {
   "cell_type": "code",
   "execution_count": 18,
   "metadata": {},
   "outputs": [
    {
     "data": {
      "image/png": "[encoded data removed]",
      "text/plain": [
       "<Figure size 432x288 with 2 Axes>"
      ]
     },
     "metadata": {
      "needs_background": "light"
     },
     "output_type": "display_data"
    }
   ],
   "source": [
    "sns.heatmap(df_clean_m1.loc[:, positive_words_m1].corr())\n",
    "plt.show()"
   ]
  },
  {
   "cell_type": "markdown",
   "metadata": {},
   "source": [
    "**Observation:** Most of the correlations are pretty low."
   ]
  },
  {
   "cell_type": "markdown",
   "metadata": {},
   "source": [
    "### Modeling"
   ]
  },
  {
   "cell_type": "code",
   "execution_count": 19,
   "metadata": {},
   "outputs": [],
   "source": [
    "# Instantiate the model\n",
    "bnb = BernoulliNB()"
   ]
  },
  {
   "cell_type": "code",
   "execution_count": 20,
   "metadata": {},
   "outputs": [
    {
     "name": "stdout",
     "output_type": "stream",
     "text": [
      "Hold out score: 0.595\n",
      "Confusion Matrix:\n",
      "Predicted   0   1\n",
      "Actual           \n",
      "0          70  23\n",
      "1          58  49\n",
      "Cross-validation scores: [0.6, 0.58, 0.57, 0.56, 0.54, 0.55, 0.61, 0.6, 0.55, 0.62]\n"
     ]
    }
   ],
   "source": [
    "run_model(df_clean_m1, bnb, positive_words_m1)"
   ]
  },
  {
   "cell_type": "markdown",
   "metadata": {},
   "source": [
    "## Model 2\n",
    "### Data Cleaning\n",
    "Clean the sentences.\n",
    "1. Remove punctuation.\n",
    "2. Convert all words to lower case.\n",
    "3. Remove common words."
   ]
  },
  {
   "cell_type": "code",
   "execution_count": 21,
   "metadata": {},
   "outputs": [],
   "source": [
    "df_clean_m2 = clean_sentences(df)"
   ]
  },
  {
   "cell_type": "code",
   "execution_count": 22,
   "metadata": {},
   "outputs": [
    {
     "data": {
      "text/html": [
       "<div>\n",
       "<style scoped>\n",
       "    .dataframe tbody tr th:only-of-type {\n",
       "        vertical-align: middle;\n",
       "    }\n",
       "\n",
       "    .dataframe tbody tr th {\n",
       "        vertical-align: top;\n",
       "    }\n",
       "\n",
       "    .dataframe thead th {\n",
       "        text-align: right;\n",
       "    }\n",
       "</style>\n",
       "<table border=\"1\" class=\"dataframe\">\n",
       "  <thead>\n",
       "    <tr style=\"text-align: right;\">\n",
       "      <th></th>\n",
       "      <th>sentence</th>\n",
       "      <th>label</th>\n",
       "      <th>unique_words</th>\n",
       "    </tr>\n",
       "  </thead>\n",
       "  <tbody>\n",
       "    <tr>\n",
       "      <th>0</th>\n",
       "      <td>So there is no way for me to plug it in here i...</td>\n",
       "      <td>0</td>\n",
       "      <td>go there no by unless here plug way us converter</td>\n",
       "    </tr>\n",
       "    <tr>\n",
       "      <th>1</th>\n",
       "      <td>Good case, Excellent value.</td>\n",
       "      <td>1</td>\n",
       "      <td>good case excellent value</td>\n",
       "    </tr>\n",
       "    <tr>\n",
       "      <th>2</th>\n",
       "      <td>Great for the jawbone.</td>\n",
       "      <td>1</td>\n",
       "      <td>great jawbone</td>\n",
       "    </tr>\n",
       "    <tr>\n",
       "      <th>3</th>\n",
       "      <td>Tied to charger for conversations lasting more...</td>\n",
       "      <td>0</td>\n",
       "      <td>problems conversations more 45 tied minutesmaj...</td>\n",
       "    </tr>\n",
       "    <tr>\n",
       "      <th>4</th>\n",
       "      <td>The mic is great.</td>\n",
       "      <td>1</td>\n",
       "      <td>mic great</td>\n",
       "    </tr>\n",
       "  </tbody>\n",
       "</table>\n",
       "</div>"
      ],
      "text/plain": [
       "                                            sentence  label  \\\n",
       "0  So there is no way for me to plug it in here i...      0   \n",
       "1                        Good case, Excellent value.      1   \n",
       "2                             Great for the jawbone.      1   \n",
       "3  Tied to charger for conversations lasting more...      0   \n",
       "4                                  The mic is great.      1   \n",
       "\n",
       "                                        unique_words  \n",
       "0   go there no by unless here plug way us converter  \n",
       "1                          good case excellent value  \n",
       "2                                      great jawbone  \n",
       "3  problems conversations more 45 tied minutesmaj...  \n",
       "4                                          mic great  "
      ]
     },
     "execution_count": 22,
     "metadata": {},
     "output_type": "execute_result"
    }
   ],
   "source": [
    "df_clean_m2.head()"
   ]
  },
  {
   "cell_type": "markdown",
   "metadata": {},
   "source": [
    "### Feature Engineering\n",
    "#### Select keywords"
   ]
  },
  {
   "cell_type": "code",
   "execution_count": 23,
   "metadata": {},
   "outputs": [],
   "source": [
    "positive_list_m2 = ' '.join(df_clean_m2.loc[df['label'] == 1, 'unique_words'].values.tolist()).split(' ')"
   ]
  },
  {
   "cell_type": "code",
   "execution_count": 24,
   "metadata": {},
   "outputs": [
    {
     "data": {
      "text/plain": [
       "great        90\n",
       "phone        82\n",
       "very         68\n",
       "good         59\n",
       "works        45\n",
       "product      33\n",
       "quality      31\n",
       "well         31\n",
       "headset      29\n",
       "excellent    26\n",
       "price        25\n",
       "sound        24\n",
       "nice         22\n",
       "one          22\n",
       "battery      21\n",
       "love         20\n",
       "best         20\n",
       "recommend    20\n",
       "case         18\n",
       "like         18\n",
       "really       15\n",
       "ear          14\n",
       "not          14\n",
       "easy         14\n",
       "happy        13\n",
       "dtype: int64"
      ]
     },
     "execution_count": 24,
     "metadata": {},
     "output_type": "execute_result"
    }
   ],
   "source": [
    "pd.Series(positive_list_m2).value_counts()[:25]"
   ]
  },
  {
   "cell_type": "code",
   "execution_count": 25,
   "metadata": {},
   "outputs": [
    {
     "name": "stdout",
     "output_type": "stream",
     "text": [
      "['great', 'very', 'good', 'works', 'quality', 'well', 'excellent', 'nice', 'love', 'best']\n"
     ]
    }
   ],
   "source": [
    "positive_words_m2 = ['great', 'very', 'good', 'works', 'quality', 'well', 'excellent', 'nice', 'love', 'best']\n",
    "print(positive_words_m2)"
   ]
  },
  {
   "cell_type": "markdown",
   "metadata": {},
   "source": [
    "#### Add features\n",
    "Add positive words as additional columns to the cleaned dataset."
   ]
  },
  {
   "cell_type": "code",
   "execution_count": 26,
   "metadata": {},
   "outputs": [],
   "source": [
    "df_clean_m2 = add_positive_words(df_clean_m2, positive_words_m2)"
   ]
  },
  {
   "cell_type": "code",
   "execution_count": 27,
   "metadata": {},
   "outputs": [
    {
     "data": {
      "text/html": [
       "<div>\n",
       "<style scoped>\n",
       "    .dataframe tbody tr th:only-of-type {\n",
       "        vertical-align: middle;\n",
       "    }\n",
       "\n",
       "    .dataframe tbody tr th {\n",
       "        vertical-align: top;\n",
       "    }\n",
       "\n",
       "    .dataframe thead th {\n",
       "        text-align: right;\n",
       "    }\n",
       "</style>\n",
       "<table border=\"1\" class=\"dataframe\">\n",
       "  <thead>\n",
       "    <tr style=\"text-align: right;\">\n",
       "      <th></th>\n",
       "      <th>sentence</th>\n",
       "      <th>label</th>\n",
       "      <th>unique_words</th>\n",
       "      <th>great</th>\n",
       "      <th>very</th>\n",
       "      <th>good</th>\n",
       "      <th>works</th>\n",
       "      <th>quality</th>\n",
       "      <th>well</th>\n",
       "      <th>excellent</th>\n",
       "      <th>nice</th>\n",
       "      <th>love</th>\n",
       "      <th>best</th>\n",
       "    </tr>\n",
       "  </thead>\n",
       "  <tbody>\n",
       "    <tr>\n",
       "      <th>0</th>\n",
       "      <td>So there is no way for me to plug it in here i...</td>\n",
       "      <td>0</td>\n",
       "      <td>go there no by unless here plug way us converter</td>\n",
       "      <td>False</td>\n",
       "      <td>False</td>\n",
       "      <td>False</td>\n",
       "      <td>False</td>\n",
       "      <td>False</td>\n",
       "      <td>False</td>\n",
       "      <td>False</td>\n",
       "      <td>False</td>\n",
       "      <td>False</td>\n",
       "      <td>False</td>\n",
       "    </tr>\n",
       "    <tr>\n",
       "      <th>1</th>\n",
       "      <td>Good case, Excellent value.</td>\n",
       "      <td>1</td>\n",
       "      <td>good case excellent value</td>\n",
       "      <td>False</td>\n",
       "      <td>False</td>\n",
       "      <td>False</td>\n",
       "      <td>False</td>\n",
       "      <td>False</td>\n",
       "      <td>False</td>\n",
       "      <td>True</td>\n",
       "      <td>False</td>\n",
       "      <td>False</td>\n",
       "      <td>False</td>\n",
       "    </tr>\n",
       "    <tr>\n",
       "      <th>2</th>\n",
       "      <td>Great for the jawbone.</td>\n",
       "      <td>1</td>\n",
       "      <td>great jawbone</td>\n",
       "      <td>False</td>\n",
       "      <td>False</td>\n",
       "      <td>False</td>\n",
       "      <td>False</td>\n",
       "      <td>False</td>\n",
       "      <td>False</td>\n",
       "      <td>False</td>\n",
       "      <td>False</td>\n",
       "      <td>False</td>\n",
       "      <td>False</td>\n",
       "    </tr>\n",
       "    <tr>\n",
       "      <th>3</th>\n",
       "      <td>Tied to charger for conversations lasting more...</td>\n",
       "      <td>0</td>\n",
       "      <td>problems conversations more 45 tied minutesmaj...</td>\n",
       "      <td>False</td>\n",
       "      <td>False</td>\n",
       "      <td>False</td>\n",
       "      <td>False</td>\n",
       "      <td>False</td>\n",
       "      <td>False</td>\n",
       "      <td>False</td>\n",
       "      <td>False</td>\n",
       "      <td>False</td>\n",
       "      <td>False</td>\n",
       "    </tr>\n",
       "    <tr>\n",
       "      <th>4</th>\n",
       "      <td>The mic is great.</td>\n",
       "      <td>1</td>\n",
       "      <td>mic great</td>\n",
       "      <td>False</td>\n",
       "      <td>False</td>\n",
       "      <td>False</td>\n",
       "      <td>False</td>\n",
       "      <td>False</td>\n",
       "      <td>False</td>\n",
       "      <td>False</td>\n",
       "      <td>False</td>\n",
       "      <td>False</td>\n",
       "      <td>False</td>\n",
       "    </tr>\n",
       "  </tbody>\n",
       "</table>\n",
       "</div>"
      ],
      "text/plain": [
       "                                            sentence  label  \\\n",
       "0  So there is no way for me to plug it in here i...      0   \n",
       "1                        Good case, Excellent value.      1   \n",
       "2                             Great for the jawbone.      1   \n",
       "3  Tied to charger for conversations lasting more...      0   \n",
       "4                                  The mic is great.      1   \n",
       "\n",
       "                                        unique_words  great   very   good  \\\n",
       "0   go there no by unless here plug way us converter  False  False  False   \n",
       "1                          good case excellent value  False  False  False   \n",
       "2                                      great jawbone  False  False  False   \n",
       "3  problems conversations more 45 tied minutesmaj...  False  False  False   \n",
       "4                                          mic great  False  False  False   \n",
       "\n",
       "   works  quality   well  excellent   nice   love   best  \n",
       "0  False    False  False      False  False  False  False  \n",
       "1  False    False  False       True  False  False  False  \n",
       "2  False    False  False      False  False  False  False  \n",
       "3  False    False  False      False  False  False  False  \n",
       "4  False    False  False      False  False  False  False  "
      ]
     },
     "execution_count": 27,
     "metadata": {},
     "output_type": "execute_result"
    }
   ],
   "source": [
    "df_clean_m2.head()"
   ]
  },
  {
   "cell_type": "markdown",
   "metadata": {},
   "source": [
    "#### Feature correlations\n",
    "Inspect the correlations between the postive word features."
   ]
  },
  {
   "cell_type": "code",
   "execution_count": 28,
   "metadata": {},
   "outputs": [
    {
     "data": {
      "image/png": "[encoded data removed]",
      "text/plain": [
       "<Figure size 432x288 with 2 Axes>"
      ]
     },
     "metadata": {
      "needs_background": "light"
     },
     "output_type": "display_data"
    }
   ],
   "source": [
    "sns.heatmap(df_clean_m2.loc[:, positive_words_m2].corr())\n",
    "plt.show()"
   ]
  },
  {
   "cell_type": "markdown",
   "metadata": {},
   "source": [
    "**Observation:** After removing the common words, the features are much less correlated."
   ]
  },
  {
   "cell_type": "markdown",
   "metadata": {},
   "source": [
    "### Modeling"
   ]
  },
  {
   "cell_type": "code",
   "execution_count": 29,
   "metadata": {},
   "outputs": [],
   "source": [
    "# Instantiate the model\n",
    "bnb = BernoulliNB()"
   ]
  },
  {
   "cell_type": "code",
   "execution_count": 30,
   "metadata": {},
   "outputs": [
    {
     "name": "stdout",
     "output_type": "stream",
     "text": [
      "Hold out score: 0.61\n",
      "Confusion Matrix:\n",
      "Predicted   0   1\n",
      "Actual           \n",
      "0          84   9\n",
      "1          69  38\n",
      "Cross-validation scores: [0.68, 0.63, 0.67, 0.63, 0.67, 0.66, 0.61, 0.63, 0.65, 0.54]\n"
     ]
    }
   ],
   "source": [
    "run_model(df_clean_m2, bnb, positive_words_m2)"
   ]
  },
  {
   "cell_type": "markdown",
   "metadata": {},
   "source": [
    "## Model 3\n",
    "1. Remove punctuation.\n",
    "2. Convert all words to lower case.\n",
    "3. Remove common words.\n",
    "4. No overlap with negative words.\n",
    "\n",
    "### Data Cleaning\n",
    "Clean the sentences."
   ]
  },
  {
   "cell_type": "code",
   "execution_count": 31,
   "metadata": {},
   "outputs": [],
   "source": [
    "df_clean_m3 = clean_sentences(df)"
   ]
  },
  {
   "cell_type": "code",
   "execution_count": 32,
   "metadata": {},
   "outputs": [
    {
     "data": {
      "text/html": [
       "<div>\n",
       "<style scoped>\n",
       "    .dataframe tbody tr th:only-of-type {\n",
       "        vertical-align: middle;\n",
       "    }\n",
       "\n",
       "    .dataframe tbody tr th {\n",
       "        vertical-align: top;\n",
       "    }\n",
       "\n",
       "    .dataframe thead th {\n",
       "        text-align: right;\n",
       "    }\n",
       "</style>\n",
       "<table border=\"1\" class=\"dataframe\">\n",
       "  <thead>\n",
       "    <tr style=\"text-align: right;\">\n",
       "      <th></th>\n",
       "      <th>sentence</th>\n",
       "      <th>label</th>\n",
       "      <th>unique_words</th>\n",
       "    </tr>\n",
       "  </thead>\n",
       "  <tbody>\n",
       "    <tr>\n",
       "      <th>0</th>\n",
       "      <td>So there is no way for me to plug it in here i...</td>\n",
       "      <td>0</td>\n",
       "      <td>go there no by unless here plug way us converter</td>\n",
       "    </tr>\n",
       "    <tr>\n",
       "      <th>1</th>\n",
       "      <td>Good case, Excellent value.</td>\n",
       "      <td>1</td>\n",
       "      <td>good case excellent value</td>\n",
       "    </tr>\n",
       "    <tr>\n",
       "      <th>2</th>\n",
       "      <td>Great for the jawbone.</td>\n",
       "      <td>1</td>\n",
       "      <td>great jawbone</td>\n",
       "    </tr>\n",
       "    <tr>\n",
       "      <th>3</th>\n",
       "      <td>Tied to charger for conversations lasting more...</td>\n",
       "      <td>0</td>\n",
       "      <td>problems conversations more 45 tied minutesmaj...</td>\n",
       "    </tr>\n",
       "    <tr>\n",
       "      <th>4</th>\n",
       "      <td>The mic is great.</td>\n",
       "      <td>1</td>\n",
       "      <td>mic great</td>\n",
       "    </tr>\n",
       "  </tbody>\n",
       "</table>\n",
       "</div>"
      ],
      "text/plain": [
       "                                            sentence  label  \\\n",
       "0  So there is no way for me to plug it in here i...      0   \n",
       "1                        Good case, Excellent value.      1   \n",
       "2                             Great for the jawbone.      1   \n",
       "3  Tied to charger for conversations lasting more...      0   \n",
       "4                                  The mic is great.      1   \n",
       "\n",
       "                                        unique_words  \n",
       "0   go there no by unless here plug way us converter  \n",
       "1                          good case excellent value  \n",
       "2                                      great jawbone  \n",
       "3  problems conversations more 45 tied minutesmaj...  \n",
       "4                                          mic great  "
      ]
     },
     "execution_count": 32,
     "metadata": {},
     "output_type": "execute_result"
    }
   ],
   "source": [
    "df_clean_m3.head()"
   ]
  },
  {
   "cell_type": "markdown",
   "metadata": {},
   "source": [
    "### Feature Engineering\n",
    "#### Select keywords"
   ]
  },
  {
   "cell_type": "code",
   "execution_count": 33,
   "metadata": {},
   "outputs": [],
   "source": [
    "positive_list_m3 = ' '.join(df_clean_m3.loc[df['label'] == 1, 'unique_words'].values.tolist()).split(' ')"
   ]
  },
  {
   "cell_type": "code",
   "execution_count": 34,
   "metadata": {},
   "outputs": [
    {
     "data": {
      "text/plain": [
       "great        90\n",
       "phone        82\n",
       "very         68\n",
       "good         59\n",
       "works        45\n",
       "product      33\n",
       "quality      31\n",
       "well         31\n",
       "headset      29\n",
       "excellent    26\n",
       "price        25\n",
       "sound        24\n",
       "nice         22\n",
       "one          22\n",
       "battery      21\n",
       "love         20\n",
       "best         20\n",
       "recommend    20\n",
       "case         18\n",
       "like         18\n",
       "really       15\n",
       "ear          14\n",
       "not          14\n",
       "easy         14\n",
       "happy        13\n",
       "dtype: int64"
      ]
     },
     "execution_count": 34,
     "metadata": {},
     "output_type": "execute_result"
    }
   ],
   "source": [
    "pd.Series(positive_list_m3).value_counts()[:25]"
   ]
  },
  {
   "cell_type": "code",
   "execution_count": 35,
   "metadata": {},
   "outputs": [],
   "source": [
    "negative_list = ' '.join(df_clean_m3.loc[df['label'] == 0, 'unique_words'].values.tolist()).split(' ')"
   ]
  },
  {
   "cell_type": "code",
   "execution_count": 36,
   "metadata": {},
   "outputs": [
    {
     "data": {
      "text/plain": [
       "not        97\n",
       "phone      73\n",
       "very       30\n",
       "work       25\n",
       "battery    23\n",
       "product    22\n",
       "don't      21\n",
       "money      18\n",
       "does       18\n",
       "quality    18\n",
       "ear        17\n",
       "only       17\n",
       "time       16\n",
       "headset    16\n",
       "out        16\n",
       "first      15\n",
       "one        15\n",
       "service    15\n",
       "poor       14\n",
       "doesn't    14\n",
       "bad        14\n",
       "do         14\n",
       "waste      14\n",
       "buy        14\n",
       "sound      14\n",
       "dtype: int64"
      ]
     },
     "execution_count": 36,
     "metadata": {},
     "output_type": "execute_result"
    }
   ],
   "source": [
    "pd.Series(negative_list).value_counts()[:25]"
   ]
  },
  {
   "cell_type": "code",
   "execution_count": 37,
   "metadata": {},
   "outputs": [
    {
     "name": "stdout",
     "output_type": "stream",
     "text": [
      "['great', 'good', 'well', 'excellent', 'nice', 'love', 'best', 'recommend', 'like', 'easy']\n"
     ]
    }
   ],
   "source": [
    "positive_words_m3 = ['great', 'good', 'well', 'excellent', 'nice', 'love', 'best', 'recommend', 'like', 'easy']\n",
    "print(positive_words_m3)"
   ]
  },
  {
   "cell_type": "markdown",
   "metadata": {},
   "source": [
    "#### Add features\n",
    "Add positive words as additional columns to the cleaned dataset."
   ]
  },
  {
   "cell_type": "code",
   "execution_count": 38,
   "metadata": {},
   "outputs": [],
   "source": [
    "df_clean_m3 = add_positive_words(df_clean_m3, positive_words_m3)"
   ]
  },
  {
   "cell_type": "code",
   "execution_count": 39,
   "metadata": {},
   "outputs": [
    {
     "data": {
      "text/html": [
       "<div>\n",
       "<style scoped>\n",
       "    .dataframe tbody tr th:only-of-type {\n",
       "        vertical-align: middle;\n",
       "    }\n",
       "\n",
       "    .dataframe tbody tr th {\n",
       "        vertical-align: top;\n",
       "    }\n",
       "\n",
       "    .dataframe thead th {\n",
       "        text-align: right;\n",
       "    }\n",
       "</style>\n",
       "<table border=\"1\" class=\"dataframe\">\n",
       "  <thead>\n",
       "    <tr style=\"text-align: right;\">\n",
       "      <th></th>\n",
       "      <th>sentence</th>\n",
       "      <th>label</th>\n",
       "      <th>unique_words</th>\n",
       "      <th>great</th>\n",
       "      <th>good</th>\n",
       "      <th>well</th>\n",
       "      <th>excellent</th>\n",
       "      <th>nice</th>\n",
       "      <th>love</th>\n",
       "      <th>best</th>\n",
       "      <th>recommend</th>\n",
       "      <th>like</th>\n",
       "      <th>easy</th>\n",
       "    </tr>\n",
       "  </thead>\n",
       "  <tbody>\n",
       "    <tr>\n",
       "      <th>0</th>\n",
       "      <td>So there is no way for me to plug it in here i...</td>\n",
       "      <td>0</td>\n",
       "      <td>go there no by unless here plug way us converter</td>\n",
       "      <td>False</td>\n",
       "      <td>False</td>\n",
       "      <td>False</td>\n",
       "      <td>False</td>\n",
       "      <td>False</td>\n",
       "      <td>False</td>\n",
       "      <td>False</td>\n",
       "      <td>False</td>\n",
       "      <td>False</td>\n",
       "      <td>False</td>\n",
       "    </tr>\n",
       "    <tr>\n",
       "      <th>1</th>\n",
       "      <td>Good case, Excellent value.</td>\n",
       "      <td>1</td>\n",
       "      <td>good case excellent value</td>\n",
       "      <td>False</td>\n",
       "      <td>False</td>\n",
       "      <td>False</td>\n",
       "      <td>True</td>\n",
       "      <td>False</td>\n",
       "      <td>False</td>\n",
       "      <td>False</td>\n",
       "      <td>False</td>\n",
       "      <td>False</td>\n",
       "      <td>False</td>\n",
       "    </tr>\n",
       "    <tr>\n",
       "      <th>2</th>\n",
       "      <td>Great for the jawbone.</td>\n",
       "      <td>1</td>\n",
       "      <td>great jawbone</td>\n",
       "      <td>False</td>\n",
       "      <td>False</td>\n",
       "      <td>False</td>\n",
       "      <td>False</td>\n",
       "      <td>False</td>\n",
       "      <td>False</td>\n",
       "      <td>False</td>\n",
       "      <td>False</td>\n",
       "      <td>False</td>\n",
       "      <td>False</td>\n",
       "    </tr>\n",
       "    <tr>\n",
       "      <th>3</th>\n",
       "      <td>Tied to charger for conversations lasting more...</td>\n",
       "      <td>0</td>\n",
       "      <td>problems conversations more 45 tied minutesmaj...</td>\n",
       "      <td>False</td>\n",
       "      <td>False</td>\n",
       "      <td>False</td>\n",
       "      <td>False</td>\n",
       "      <td>False</td>\n",
       "      <td>False</td>\n",
       "      <td>False</td>\n",
       "      <td>False</td>\n",
       "      <td>False</td>\n",
       "      <td>False</td>\n",
       "    </tr>\n",
       "    <tr>\n",
       "      <th>4</th>\n",
       "      <td>The mic is great.</td>\n",
       "      <td>1</td>\n",
       "      <td>mic great</td>\n",
       "      <td>False</td>\n",
       "      <td>False</td>\n",
       "      <td>False</td>\n",
       "      <td>False</td>\n",
       "      <td>False</td>\n",
       "      <td>False</td>\n",
       "      <td>False</td>\n",
       "      <td>False</td>\n",
       "      <td>False</td>\n",
       "      <td>False</td>\n",
       "    </tr>\n",
       "  </tbody>\n",
       "</table>\n",
       "</div>"
      ],
      "text/plain": [
       "                                            sentence  label  \\\n",
       "0  So there is no way for me to plug it in here i...      0   \n",
       "1                        Good case, Excellent value.      1   \n",
       "2                             Great for the jawbone.      1   \n",
       "3  Tied to charger for conversations lasting more...      0   \n",
       "4                                  The mic is great.      1   \n",
       "\n",
       "                                        unique_words  great   good   well  \\\n",
       "0   go there no by unless here plug way us converter  False  False  False   \n",
       "1                          good case excellent value  False  False  False   \n",
       "2                                      great jawbone  False  False  False   \n",
       "3  problems conversations more 45 tied minutesmaj...  False  False  False   \n",
       "4                                          mic great  False  False  False   \n",
       "\n",
       "   excellent   nice   love   best  recommend   like   easy  \n",
       "0      False  False  False  False      False  False  False  \n",
       "1       True  False  False  False      False  False  False  \n",
       "2      False  False  False  False      False  False  False  \n",
       "3      False  False  False  False      False  False  False  \n",
       "4      False  False  False  False      False  False  False  "
      ]
     },
     "execution_count": 39,
     "metadata": {},
     "output_type": "execute_result"
    }
   ],
   "source": [
    "df_clean_m3.head()"
   ]
  },
  {
   "cell_type": "markdown",
   "metadata": {},
   "source": [
    "#### Feature correlations\n",
    "Inspect the correlations between the postive word features."
   ]
  },
  {
   "cell_type": "code",
   "execution_count": 40,
   "metadata": {},
   "outputs": [
    {
     "data": {
      "image/png": "[encoded data removed]",
      "text/plain": [
       "<Figure size 432x288 with 2 Axes>"
      ]
     },
     "metadata": {
      "needs_background": "light"
     },
     "output_type": "display_data"
    }
   ],
   "source": [
    "sns.heatmap(df_clean_m3.loc[:, positive_words_m3].corr())\n",
    "plt.show()"
   ]
  },
  {
   "cell_type": "markdown",
   "metadata": {},
   "source": [
    "### Modeling"
   ]
  },
  {
   "cell_type": "code",
   "execution_count": 41,
   "metadata": {},
   "outputs": [],
   "source": [
    "# Instantiate the model\n",
    "bnb = BernoulliNB()"
   ]
  },
  {
   "cell_type": "code",
   "execution_count": 42,
   "metadata": {},
   "outputs": [
    {
     "name": "stdout",
     "output_type": "stream",
     "text": [
      "Hold out score: 0.57\n",
      "Confusion Matrix:\n",
      "Predicted   0   1\n",
      "Actual           \n",
      "0          87   6\n",
      "1          80  27\n",
      "Cross-validation scores: [0.62, 0.64, 0.6, 0.64, 0.61, 0.61, 0.6, 0.55, 0.64, 0.55]\n"
     ]
    }
   ],
   "source": [
    "run_model(df_clean_m3, bnb, positive_words_m3)"
   ]
  },
  {
   "cell_type": "markdown",
   "metadata": {},
   "source": [
    "## Model 4\n",
    "1. Remove punctuation.\n",
    "2. Convert all words to lower case.\n",
    "3. Remove common words.\n",
    "4. No overlap with negative words.\n",
    "5. Five positive words instead of 10\n",
    "\n",
    "### Data Cleaning\n",
    "Clean the sentences."
   ]
  },
  {
   "cell_type": "code",
   "execution_count": 43,
   "metadata": {},
   "outputs": [],
   "source": [
    "df_clean_m4 = clean_sentences(df)"
   ]
  },
  {
   "cell_type": "markdown",
   "metadata": {},
   "source": [
    "### Feature Engineering\n",
    "#### Select keywords"
   ]
  },
  {
   "cell_type": "code",
   "execution_count": 44,
   "metadata": {},
   "outputs": [],
   "source": [
    "positive_list_m4 = ' '.join(df_clean_m4.loc[df['label'] == 1, 'unique_words'].values.tolist()).split(' ')"
   ]
  },
  {
   "cell_type": "code",
   "execution_count": 45,
   "metadata": {},
   "outputs": [
    {
     "name": "stdout",
     "output_type": "stream",
     "text": [
      "['great', 'good', 'well', 'excellent', 'nice']\n"
     ]
    }
   ],
   "source": [
    "positive_words_m4 = ['great', 'good', 'well', 'excellent', 'nice']\n",
    "print(positive_words_m4)"
   ]
  },
  {
   "cell_type": "markdown",
   "metadata": {},
   "source": [
    "#### Add features\n",
    "Add positive words as additional columns to the cleaned dataset."
   ]
  },
  {
   "cell_type": "code",
   "execution_count": 46,
   "metadata": {},
   "outputs": [],
   "source": [
    "df_clean_m4 = add_positive_words(df_clean_m4, positive_words_m4)"
   ]
  },
  {
   "cell_type": "markdown",
   "metadata": {},
   "source": [
    "#### Feature correlations\n",
    "Inspect the correlations between the postive word features."
   ]
  },
  {
   "cell_type": "code",
   "execution_count": 47,
   "metadata": {},
   "outputs": [
    {
     "data": {
      "image/png": "[encoded data removed]",
      "text/plain": [
       "<Figure size 432x288 with 2 Axes>"
      ]
     },
     "metadata": {
      "needs_background": "light"
     },
     "output_type": "display_data"
    }
   ],
   "source": [
    "sns.heatmap(df_clean_m4.loc[:, positive_words_m4].corr())\n",
    "plt.show()"
   ]
  },
  {
   "cell_type": "markdown",
   "metadata": {},
   "source": [
    "### Modeling"
   ]
  },
  {
   "cell_type": "code",
   "execution_count": 48,
   "metadata": {},
   "outputs": [],
   "source": [
    "# Instantiate the model\n",
    "bnb = BernoulliNB()"
   ]
  },
  {
   "cell_type": "code",
   "execution_count": 49,
   "metadata": {},
   "outputs": [
    {
     "name": "stdout",
     "output_type": "stream",
     "text": [
      "Hold out score: 0.56\n",
      "Confusion Matrix:\n",
      "Predicted   0   1\n",
      "Actual           \n",
      "0          89   4\n",
      "1          84  23\n",
      "Cross-validation scores: [0.6, 0.64, 0.57, 0.63, 0.59, 0.61, 0.58, 0.54, 0.62, 0.53]\n"
     ]
    }
   ],
   "source": [
    "run_model(df_clean_m4, bnb, positive_words_m4)"
   ]
  },
  {
   "cell_type": "markdown",
   "metadata": {},
   "source": [
    "## Model 5\n",
    "* 5 positive words.\n",
    "* No overlap with negative words. \n",
    "* Remove common words.\n",
    "* Create new feature: \n",
    "    * Review length.\n",
    "    * Average word length."
   ]
  },
  {
   "cell_type": "code",
   "execution_count": 50,
   "metadata": {},
   "outputs": [],
   "source": [
    "df_clean_m5 = clean_sentences(df)"
   ]
  },
  {
   "cell_type": "markdown",
   "metadata": {},
   "source": [
    "### Feature Engineering\n",
    "#### Select keywords"
   ]
  },
  {
   "cell_type": "code",
   "execution_count": 51,
   "metadata": {},
   "outputs": [],
   "source": [
    "positive_list_m5 = ' '.join(df_clean_m5.loc[df['label'] == 1, 'unique_words'].values.tolist()).split(' ')"
   ]
  },
  {
   "cell_type": "code",
   "execution_count": 52,
   "metadata": {},
   "outputs": [
    {
     "name": "stdout",
     "output_type": "stream",
     "text": [
      "['great', 'good', 'well', 'excellent', 'nice']\n"
     ]
    }
   ],
   "source": [
    "positive_words_m5 = ['great', 'good', 'well', 'excellent', 'nice']\n",
    "print(positive_words_m5)"
   ]
  },
  {
   "cell_type": "code",
   "execution_count": 53,
   "metadata": {},
   "outputs": [],
   "source": [
    "df_clean_m5['review_length'] = df_clean_m5['sentence'].apply(lambda x: len(x))\n",
    "\n",
    "# Standardize\n",
    "mean_review_length = df_clean_m5['review_length'].mean()\n",
    "std_review_length = df_clean_m5['review_length'].std()\n",
    "df_clean_m5['review_length_standard'] = (df_clean_m5['review_length'] - mean_review_length) / std_review_length"
   ]
  },
  {
   "cell_type": "code",
   "execution_count": 54,
   "metadata": {},
   "outputs": [],
   "source": [
    "df_clean_m5['avg_word_length'] = df_clean_m5['unique_words'].apply(lambda x: np.mean([len(y) for y in x.split(' ')]))\n",
    "\n",
    "# Standardize\n",
    "mean_avg_word_length = df_clean_m5['avg_word_length'].mean()\n",
    "std_avg_word_length = df_clean_m5['avg_word_length'].std()\n",
    "df_clean_m5['avg_word_length_standard'] = (df_clean_m5['avg_word_length'] - mean_avg_word_length) / std_avg_word_length\n",
    "\n"
   ]
  },
  {
   "cell_type": "code",
   "execution_count": 55,
   "metadata": {},
   "outputs": [
    {
     "data": {
      "text/html": [
       "<div>\n",
       "<style scoped>\n",
       "    .dataframe tbody tr th:only-of-type {\n",
       "        vertical-align: middle;\n",
       "    }\n",
       "\n",
       "    .dataframe tbody tr th {\n",
       "        vertical-align: top;\n",
       "    }\n",
       "\n",
       "    .dataframe thead th {\n",
       "        text-align: right;\n",
       "    }\n",
       "</style>\n",
       "<table border=\"1\" class=\"dataframe\">\n",
       "  <thead>\n",
       "    <tr style=\"text-align: right;\">\n",
       "      <th></th>\n",
       "      <th>count</th>\n",
       "      <th>mean</th>\n",
       "      <th>std</th>\n",
       "      <th>min</th>\n",
       "      <th>25%</th>\n",
       "      <th>50%</th>\n",
       "      <th>75%</th>\n",
       "      <th>max</th>\n",
       "    </tr>\n",
       "  </thead>\n",
       "  <tbody>\n",
       "    <tr>\n",
       "      <th>label</th>\n",
       "      <td>500.0</td>\n",
       "      <td>0.000000</td>\n",
       "      <td>0.000000</td>\n",
       "      <td>0.000000</td>\n",
       "      <td>0.000000</td>\n",
       "      <td>0.000000</td>\n",
       "      <td>0.000000</td>\n",
       "      <td>0.000000</td>\n",
       "    </tr>\n",
       "    <tr>\n",
       "      <th>review_length</th>\n",
       "      <td>500.0</td>\n",
       "      <td>56.824000</td>\n",
       "      <td>34.022464</td>\n",
       "      <td>11.000000</td>\n",
       "      <td>29.000000</td>\n",
       "      <td>52.000000</td>\n",
       "      <td>77.000000</td>\n",
       "      <td>149.000000</td>\n",
       "    </tr>\n",
       "    <tr>\n",
       "      <th>review_length_standard</th>\n",
       "      <td>500.0</td>\n",
       "      <td>0.046114</td>\n",
       "      <td>0.981791</td>\n",
       "      <td>-1.276235</td>\n",
       "      <td>-0.756807</td>\n",
       "      <td>-0.093093</td>\n",
       "      <td>0.628335</td>\n",
       "      <td>2.706048</td>\n",
       "    </tr>\n",
       "    <tr>\n",
       "      <th>avg_word_length</th>\n",
       "      <td>500.0</td>\n",
       "      <td>5.585668</td>\n",
       "      <td>1.377346</td>\n",
       "      <td>3.000000</td>\n",
       "      <td>4.714286</td>\n",
       "      <td>5.316667</td>\n",
       "      <td>6.142857</td>\n",
       "      <td>14.000000</td>\n",
       "    </tr>\n",
       "    <tr>\n",
       "      <th>avg_word_length_standard</th>\n",
       "      <td>500.0</td>\n",
       "      <td>0.003215</td>\n",
       "      <td>1.101128</td>\n",
       "      <td>-2.063913</td>\n",
       "      <td>-0.693417</td>\n",
       "      <td>-0.211839</td>\n",
       "      <td>0.448663</td>\n",
       "      <td>6.730104</td>\n",
       "    </tr>\n",
       "  </tbody>\n",
       "</table>\n",
       "</div>"
      ],
      "text/plain": [
       "                          count       mean        std        min        25%  \\\n",
       "label                     500.0   0.000000   0.000000   0.000000   0.000000   \n",
       "review_length             500.0  56.824000  34.022464  11.000000  29.000000   \n",
       "review_length_standard    500.0   0.046114   0.981791  -1.276235  -0.756807   \n",
       "avg_word_length           500.0   5.585668   1.377346   3.000000   4.714286   \n",
       "avg_word_length_standard  500.0   0.003215   1.101128  -2.063913  -0.693417   \n",
       "\n",
       "                                50%        75%         max  \n",
       "label                      0.000000   0.000000    0.000000  \n",
       "review_length             52.000000  77.000000  149.000000  \n",
       "review_length_standard    -0.093093   0.628335    2.706048  \n",
       "avg_word_length            5.316667   6.142857   14.000000  \n",
       "avg_word_length_standard  -0.211839   0.448663    6.730104  "
      ]
     },
     "execution_count": 55,
     "metadata": {},
     "output_type": "execute_result"
    }
   ],
   "source": [
    "df_clean_m5.loc[df_clean_m5['label'] == 0, :].describe().T"
   ]
  },
  {
   "cell_type": "code",
   "execution_count": 56,
   "metadata": {},
   "outputs": [
    {
     "data": {
      "text/html": [
       "<div>\n",
       "<style scoped>\n",
       "    .dataframe tbody tr th:only-of-type {\n",
       "        vertical-align: middle;\n",
       "    }\n",
       "\n",
       "    .dataframe tbody tr th {\n",
       "        vertical-align: top;\n",
       "    }\n",
       "\n",
       "    .dataframe thead th {\n",
       "        text-align: right;\n",
       "    }\n",
       "</style>\n",
       "<table border=\"1\" class=\"dataframe\">\n",
       "  <thead>\n",
       "    <tr style=\"text-align: right;\">\n",
       "      <th></th>\n",
       "      <th>count</th>\n",
       "      <th>mean</th>\n",
       "      <th>std</th>\n",
       "      <th>min</th>\n",
       "      <th>25%</th>\n",
       "      <th>50%</th>\n",
       "      <th>75%</th>\n",
       "      <th>max</th>\n",
       "    </tr>\n",
       "  </thead>\n",
       "  <tbody>\n",
       "    <tr>\n",
       "      <th>label</th>\n",
       "      <td>500.0</td>\n",
       "      <td>1.000000</td>\n",
       "      <td>0.000000</td>\n",
       "      <td>1.000000</td>\n",
       "      <td>1.000000</td>\n",
       "      <td>1.000000</td>\n",
       "      <td>1.000000</td>\n",
       "      <td>1.000000</td>\n",
       "    </tr>\n",
       "    <tr>\n",
       "      <th>review_length</th>\n",
       "      <td>500.0</td>\n",
       "      <td>53.628000</td>\n",
       "      <td>35.234764</td>\n",
       "      <td>11.000000</td>\n",
       "      <td>25.000000</td>\n",
       "      <td>43.000000</td>\n",
       "      <td>78.000000</td>\n",
       "      <td>148.000000</td>\n",
       "    </tr>\n",
       "    <tr>\n",
       "      <th>review_length_standard</th>\n",
       "      <td>500.0</td>\n",
       "      <td>-0.046114</td>\n",
       "      <td>1.016774</td>\n",
       "      <td>-1.276235</td>\n",
       "      <td>-0.872236</td>\n",
       "      <td>-0.352807</td>\n",
       "      <td>0.657192</td>\n",
       "      <td>2.677191</td>\n",
       "    </tr>\n",
       "    <tr>\n",
       "      <th>avg_word_length</th>\n",
       "      <td>500.0</td>\n",
       "      <td>5.577624</td>\n",
       "      <td>1.111429</td>\n",
       "      <td>3.000000</td>\n",
       "      <td>4.893750</td>\n",
       "      <td>5.433333</td>\n",
       "      <td>6.111111</td>\n",
       "      <td>10.000000</td>\n",
       "    </tr>\n",
       "    <tr>\n",
       "      <th>avg_word_length_standard</th>\n",
       "      <td>500.0</td>\n",
       "      <td>-0.003215</td>\n",
       "      <td>0.888539</td>\n",
       "      <td>-2.063913</td>\n",
       "      <td>-0.549943</td>\n",
       "      <td>-0.118570</td>\n",
       "      <td>0.423284</td>\n",
       "      <td>3.532280</td>\n",
       "    </tr>\n",
       "  </tbody>\n",
       "</table>\n",
       "</div>"
      ],
      "text/plain": [
       "                          count       mean        std        min        25%  \\\n",
       "label                     500.0   1.000000   0.000000   1.000000   1.000000   \n",
       "review_length             500.0  53.628000  35.234764  11.000000  25.000000   \n",
       "review_length_standard    500.0  -0.046114   1.016774  -1.276235  -0.872236   \n",
       "avg_word_length           500.0   5.577624   1.111429   3.000000   4.893750   \n",
       "avg_word_length_standard  500.0  -0.003215   0.888539  -2.063913  -0.549943   \n",
       "\n",
       "                                50%        75%         max  \n",
       "label                      1.000000   1.000000    1.000000  \n",
       "review_length             43.000000  78.000000  148.000000  \n",
       "review_length_standard    -0.352807   0.657192    2.677191  \n",
       "avg_word_length            5.433333   6.111111   10.000000  \n",
       "avg_word_length_standard  -0.118570   0.423284    3.532280  "
      ]
     },
     "execution_count": 56,
     "metadata": {},
     "output_type": "execute_result"
    }
   ],
   "source": [
    "df_clean_m5.loc[df_clean_m5['label'] == 1, :].describe().T"
   ]
  },
  {
   "cell_type": "code",
   "execution_count": 57,
   "metadata": {},
   "outputs": [
    {
     "name": "stdout",
     "output_type": "stream",
     "text": [
      "T-statistics for review_length_standard:\n",
      "\tt-statistic=-1.459066679435652, pvalue = 0.1448614137236777\n"
     ]
    }
   ],
   "source": [
    "print_tstats(df_clean_m5, 'review_length_standard')"
   ]
  },
  {
   "cell_type": "code",
   "execution_count": 58,
   "metadata": {},
   "outputs": [
    {
     "name": "stdout",
     "output_type": "stream",
     "text": [
      "T-statistics for avg_word_length_standard:\n",
      "\tt-statistic=-0.10162925113622785, pvalue = 0.9190713748432151\n"
     ]
    }
   ],
   "source": [
    "print_tstats(df_clean_m5, 'avg_word_length_standard')"
   ]
  },
  {
   "cell_type": "markdown",
   "metadata": {},
   "source": [
    "#### Add features\n",
    "Add positive words as additional columns to the cleaned dataset. Also, include _review_length_ and _avg_word_length_."
   ]
  },
  {
   "cell_type": "code",
   "execution_count": 59,
   "metadata": {},
   "outputs": [],
   "source": [
    "df_clean_m5 = add_positive_words(df_clean_m5, positive_words_m5)"
   ]
  },
  {
   "cell_type": "markdown",
   "metadata": {},
   "source": [
    "#### Feature correlations\n",
    "Inspect the correlations between the postive word features."
   ]
  },
  {
   "cell_type": "code",
   "execution_count": 60,
   "metadata": {},
   "outputs": [
    {
     "data": {
      "image/png": "[encoded data removed]",
      "text/plain": [
       "<Figure size 432x288 with 2 Axes>"
      ]
     },
     "metadata": {
      "needs_background": "light"
     },
     "output_type": "display_data"
    }
   ],
   "source": [
    "sns.heatmap(df_clean_m5.loc[:, positive_words_m5 + ['avg_word_length_standard', 'review_length_standard']].corr())\n",
    "plt.show()"
   ]
  },
  {
   "cell_type": "markdown",
   "metadata": {},
   "source": [
    "### Modeling"
   ]
  },
  {
   "cell_type": "code",
   "execution_count": 61,
   "metadata": {},
   "outputs": [],
   "source": [
    "# Instantiate the model\n",
    "bnb = BernoulliNB()"
   ]
  },
  {
   "cell_type": "code",
   "execution_count": 62,
   "metadata": {},
   "outputs": [
    {
     "name": "stdout",
     "output_type": "stream",
     "text": [
      "Hold out score: 0.56\n",
      "Confusion Matrix:\n",
      "Predicted   0   1\n",
      "Actual           \n",
      "0          89   4\n",
      "1          84  23\n",
      "Cross-validation scores: [0.6, 0.64, 0.57, 0.63, 0.59, 0.56, 0.58, 0.54, 0.62, 0.53]\n"
     ]
    }
   ],
   "source": [
    "run_model(df_clean_m5, bnb, positive_words_m5 + ['avg_word_length_standard', 'review_length_standard'])"
   ]
  },
  {
   "cell_type": "markdown",
   "metadata": {},
   "source": [
    "## Conclusions\n",
    "None of the models seem to perform well. All of them have low accuracy. Also, there is a large number of false negatives (predicted value is 0, but actual value is 1)."
   ]
  }
 ],
 "metadata": {
  "kernelspec": {
   "display_name": "Python 3",
   "language": "python",
   "name": "python3"
  },
  "language_info": {
   "codemirror_mode": {
    "name": "ipython",
    "version": 3
   },
   "file_extension": ".py",
   "mimetype": "text/x-python",
   "name": "python",
   "nbconvert_exporter": "python",
   "pygments_lexer": "ipython3",
   "version": "3.6.8"
  }
 },
 "nbformat": 4,
 "nbformat_minor": 2
}
