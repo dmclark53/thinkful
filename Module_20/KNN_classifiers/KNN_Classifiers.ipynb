{
 "cells": [
  {
   "cell_type": "markdown",
   "metadata": {},
   "source": [
    "# KNN Classifiers\n",
    "Create a custom KNN classifier for the music dataset.\n",
    "\n",
    "## Create Dataset"
   ]
  },
  {
   "cell_type": "code",
   "execution_count": 1,
   "metadata": {},
   "outputs": [],
   "source": [
    "import numpy as np\n",
    "import pandas as pd\n",
    "import matplotlib.pyplot as plt\n",
    "import scipy\n",
    "from sklearn.neighbors import KNeighborsClassifier\n",
    "\n",
    "%matplotlib inline"
   ]
  },
  {
   "cell_type": "code",
   "execution_count": 2,
   "metadata": {},
   "outputs": [],
   "source": [
    "music = pd.DataFrame()\n",
    "\n",
    "# Some data to play with.\n",
    "music['duration'] = [184, 134, 243, 186, 122, 197, 294, 382, 102, 264, \n",
    "                     205, 110, 307, 110, 397, 153, 190, 192, 210, 403,\n",
    "                     164, 198, 204, 253, 234, 190, 182, 401, 376, 102]\n",
    "music['loudness'] = [18, 34, 43, 36, 22, 9, 29, 22, 10, 24, \n",
    "                     20, 10, 17, 51, 7, 13, 19, 12, 21, 22,\n",
    "                     16, 18, 4, 23, 34, 19, 14, 11, 37, 42]\n",
    "\n",
    "# We know whether the songs in our training data are jazz or not.\n",
    "music['jazz'] = [ 1, 0, 0, 0, 1, 1, 0, 1, 1, 0,\n",
    "                  0, 1, 1, 0, 1, 1, 0, 1, 1, 1,\n",
    "                  1, 1, 1, 1, 0, 0, 1, 1, 0, 0]"
   ]
  },
  {
   "cell_type": "markdown",
   "metadata": {},
   "source": [
    "## Custom Function"
   ]
  },
  {
   "cell_type": "code",
   "execution_count": 3,
   "metadata": {},
   "outputs": [],
   "source": [
    "def predict_music(df, duration, loadness, k):\n",
    "    df['distance'] = np.sqrt((duration - df['duration'])**2 + (loadness - df['loudness'])**2)\n",
    "    df.sort_values(by='distance', inplace=True)\n",
    "    df_k = df.iloc[:k, :].copy()\n",
    "    prob_dict = {\n",
    "        'jazz': len(df_k[df_k['jazz'] == 1]) / len(df_k),\n",
    "        'rock': len(df_k[df_k['jazz'] == 0]) / len(df_k)\n",
    "    }\n",
    "    \n",
    "    print('The probabilities are:')\n",
    "    for key, value in prob_dict.items():\n",
    "        print(f'{key}: {value}')\n",
    "    \n",
    "    print(f'Prediction: {max(prob_dict, key=prob_dict.get)} music')"
   ]
  },
  {
   "cell_type": "code",
   "execution_count": 4,
   "metadata": {},
   "outputs": [
    {
     "name": "stdout",
     "output_type": "stream",
     "text": [
      "The probabilities are:\n",
      "jazz: 0.6\n",
      "rock: 0.4\n",
      "Prediction: jazz music\n"
     ]
    }
   ],
   "source": [
    "predict_music(music, 190, 24, 5)"
   ]
  },
  {
   "cell_type": "markdown",
   "metadata": {},
   "source": [
    "## Using Scikit-Learn"
   ]
  },
  {
   "cell_type": "code",
   "execution_count": 5,
   "metadata": {},
   "outputs": [],
   "source": [
    "def predict_music_sklearn(df, duration, loadness, k):\n",
    "    neighbors = KNeighborsClassifier(n_neighbors=5)\n",
    "    X = music[['loudness', 'duration']]\n",
    "    Y = music.jazz\n",
    "    neighbors.fit(X,Y)\n",
    "\n",
    "    ## Predict for a 24 loudness, 190 seconds long song.\n",
    "    prediction = neighbors.predict([[24, 190]])[0]\n",
    "    probabilities = neighbors.predict_proba([[24, 190]])[0]\n",
    "    \n",
    "    music_type=''\n",
    "    if prediction == 1:\n",
    "        music_type = 'jazz'\n",
    "    else:\n",
    "        music_type = 'rock'\n",
    "        \n",
    "    prob_dict = {\n",
    "        'jazz': probabilities[1],\n",
    "        'rock': probabilities[0]\n",
    "    }\n",
    "    \n",
    "    print('The probabilities are:')\n",
    "    for key, value in prob_dict.items():\n",
    "        print(f'{key}: {value}')\n",
    "        \n",
    "    print(f'Prediction: {music_type} music')"
   ]
  },
  {
   "cell_type": "code",
   "execution_count": 6,
   "metadata": {},
   "outputs": [
    {
     "name": "stdout",
     "output_type": "stream",
     "text": [
      "The probabilities are:\n",
      "jazz: 0.6\n",
      "rock: 0.4\n",
      "Prediction: jazz music\n"
     ]
    }
   ],
   "source": [
    "predict_music_sklearn(music, 190, 24, 5)"
   ]
  },
  {
   "cell_type": "markdown",
   "metadata": {},
   "source": [
    "I get the same answer as my custom function!"
   ]
  }
 ],
 "metadata": {
  "kernelspec": {
   "display_name": "Python 3",
   "language": "python",
   "name": "python3"
  },
  "language_info": {
   "codemirror_mode": {
    "name": "ipython",
    "version": 3
   },
   "file_extension": ".py",
   "mimetype": "text/x-python",
   "name": "python",
   "nbconvert_exporter": "python",
   "pygments_lexer": "ipython3",
   "version": "3.6.8"
  }
 },
 "nbformat": 4,
 "nbformat_minor": 2
}
