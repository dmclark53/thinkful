{
 "cells": [
  {
   "cell_type": "markdown",
   "metadata": {},
   "source": [
    "# Boston Marathon - Modeling"
   ]
  },
  {
   "cell_type": "code",
   "execution_count": 1,
   "metadata": {},
   "outputs": [],
   "source": [
    "import numpy as np\n",
    "import pandas as pd\n",
    "from sklearn import metrics\n",
    "from sklearn.preprocessing import normalize\n",
    "from sqlalchemy import create_engine\n",
    "from sqlalchemy_utils import create_database, database_exists\n",
    "import warnings\n",
    "warnings.filterwarnings('ignore')\n",
    "\n",
    "import helpers as hp\n",
    "from config import usr, pwd, url, port, db, table"
   ]
  },
  {
   "cell_type": "markdown",
   "metadata": {},
   "source": [
    "## Load Dataset\n",
    "Read dataset from the SQL database and load into a Pandas `DataFrame`."
   ]
  },
  {
   "cell_type": "code",
   "execution_count": 2,
   "metadata": {},
   "outputs": [],
   "source": [
    "engine = create_engine(f\"postgresql+psycopg2://{usr}:{pwd}@{url}:{port}/{db}\")"
   ]
  },
  {
   "cell_type": "code",
   "execution_count": 3,
   "metadata": {},
   "outputs": [],
   "source": [
    "query = f'''\n",
    "SELECT\n",
    "    *\n",
    "FROM\n",
    "    {table};\n",
    "'''"
   ]
  },
  {
   "cell_type": "code",
   "execution_count": 4,
   "metadata": {
    "scrolled": false
   },
   "outputs": [],
   "source": [
    "df = pd.read_sql_query(query, con=engine)"
   ]
  },
  {
   "cell_type": "code",
   "execution_count": 5,
   "metadata": {},
   "outputs": [],
   "source": [
    "engine.dispose()"
   ]
  },
  {
   "cell_type": "markdown",
   "metadata": {},
   "source": [
    "Copy raw `DataFrame` to a new `DataFrame` to use for modeling purposes."
   ]
  },
  {
   "cell_type": "code",
   "execution_count": 6,
   "metadata": {},
   "outputs": [],
   "source": [
    "df_model = df.copy()"
   ]
  },
  {
   "cell_type": "markdown",
   "metadata": {},
   "source": [
    "## Data Exploration\n",
    "### Split variable types\n",
    "Create separate lists of column names for the numerical and string type column data.\n",
    "\n",
    "Let's investigate the distributions of the numerical values in this dataset."
   ]
  },
  {
   "cell_type": "code",
   "execution_count": 7,
   "metadata": {},
   "outputs": [],
   "source": [
    "numerical_vars, string_vars = hp.find_variable_types(df_model)"
   ]
  },
  {
   "cell_type": "code",
   "execution_count": 8,
   "metadata": {},
   "outputs": [
    {
     "name": "stdout",
     "output_type": "stream",
     "text": [
      "['name', 'gender', 'bib', 'ctz', 'state', 'country', 'city']\n"
     ]
    }
   ],
   "source": [
    "print(string_vars)"
   ]
  },
  {
   "cell_type": "markdown",
   "metadata": {},
   "source": [
    "### Correlations\n",
    "I will investigate which numerical variables are correlated with eachother and only keep the variables that are uncorrelated."
   ]
  },
  {
   "cell_type": "code",
   "execution_count": 9,
   "metadata": {},
   "outputs": [
    {
     "data": {
      "text/html": [
       "<div>\n",
       "<style scoped>\n",
       "    .dataframe tbody tr th:only-of-type {\n",
       "        vertical-align: middle;\n",
       "    }\n",
       "\n",
       "    .dataframe tbody tr th {\n",
       "        vertical-align: top;\n",
       "    }\n",
       "\n",
       "    .dataframe thead th {\n",
       "        text-align: right;\n",
       "    }\n",
       "</style>\n",
       "<table border=\"1\" class=\"dataframe\">\n",
       "  <thead>\n",
       "    <tr style=\"text-align: right;\">\n",
       "      <th></th>\n",
       "      <th>10.0</th>\n",
       "      <th>division</th>\n",
       "      <th>25.0</th>\n",
       "      <th>age</th>\n",
       "      <th>official</th>\n",
       "      <th>genderdiv</th>\n",
       "      <th>35.0</th>\n",
       "      <th>overall</th>\n",
       "      <th>pace</th>\n",
       "      <th>30.0</th>\n",
       "      <th>5.0</th>\n",
       "      <th>21.1</th>\n",
       "      <th>20.0</th>\n",
       "      <th>40.0</th>\n",
       "    </tr>\n",
       "  </thead>\n",
       "  <tbody>\n",
       "    <tr>\n",
       "      <td>10.0</td>\n",
       "      <td>1.000000</td>\n",
       "      <td>0.471278</td>\n",
       "      <td>0.971632</td>\n",
       "      <td>0.167492</td>\n",
       "      <td>0.926539</td>\n",
       "      <td>0.797326</td>\n",
       "      <td>0.942697</td>\n",
       "      <td>0.900856</td>\n",
       "      <td>0.926638</td>\n",
       "      <td>0.958461</td>\n",
       "      <td>0.988725</td>\n",
       "      <td>0.982808</td>\n",
       "      <td>0.982447</td>\n",
       "      <td>0.928195</td>\n",
       "    </tr>\n",
       "    <tr>\n",
       "      <td>division</td>\n",
       "      <td>0.471278</td>\n",
       "      <td>1.000000</td>\n",
       "      <td>0.490299</td>\n",
       "      <td>-0.577256</td>\n",
       "      <td>0.515368</td>\n",
       "      <td>0.470752</td>\n",
       "      <td>0.510940</td>\n",
       "      <td>0.514493</td>\n",
       "      <td>0.515633</td>\n",
       "      <td>0.500938</td>\n",
       "      <td>0.470117</td>\n",
       "      <td>0.481394</td>\n",
       "      <td>0.481330</td>\n",
       "      <td>0.518512</td>\n",
       "    </tr>\n",
       "    <tr>\n",
       "      <td>25.0</td>\n",
       "      <td>0.971632</td>\n",
       "      <td>0.490299</td>\n",
       "      <td>1.000000</td>\n",
       "      <td>0.158120</td>\n",
       "      <td>0.968160</td>\n",
       "      <td>0.819000</td>\n",
       "      <td>0.983987</td>\n",
       "      <td>0.918578</td>\n",
       "      <td>0.968159</td>\n",
       "      <td>0.995227</td>\n",
       "      <td>0.947264</td>\n",
       "      <td>0.995672</td>\n",
       "      <td>0.993279</td>\n",
       "      <td>0.970671</td>\n",
       "    </tr>\n",
       "    <tr>\n",
       "      <td>age</td>\n",
       "      <td>0.167492</td>\n",
       "      <td>-0.577256</td>\n",
       "      <td>0.158120</td>\n",
       "      <td>1.000000</td>\n",
       "      <td>0.166440</td>\n",
       "      <td>0.306829</td>\n",
       "      <td>0.157314</td>\n",
       "      <td>0.201129</td>\n",
       "      <td>0.166593</td>\n",
       "      <td>0.156746</td>\n",
       "      <td>0.159665</td>\n",
       "      <td>0.164862</td>\n",
       "      <td>0.164730</td>\n",
       "      <td>0.160384</td>\n",
       "    </tr>\n",
       "    <tr>\n",
       "      <td>official</td>\n",
       "      <td>0.926539</td>\n",
       "      <td>0.515368</td>\n",
       "      <td>0.968160</td>\n",
       "      <td>0.166440</td>\n",
       "      <td>1.000000</td>\n",
       "      <td>0.878360</td>\n",
       "      <td>0.991774</td>\n",
       "      <td>0.954233</td>\n",
       "      <td>0.999897</td>\n",
       "      <td>0.980873</td>\n",
       "      <td>0.904008</td>\n",
       "      <td>0.957356</td>\n",
       "      <td>0.954294</td>\n",
       "      <td>0.996592</td>\n",
       "    </tr>\n",
       "    <tr>\n",
       "      <td>genderdiv</td>\n",
       "      <td>0.797326</td>\n",
       "      <td>0.470752</td>\n",
       "      <td>0.819000</td>\n",
       "      <td>0.306829</td>\n",
       "      <td>0.878360</td>\n",
       "      <td>1.000000</td>\n",
       "      <td>0.855535</td>\n",
       "      <td>0.909206</td>\n",
       "      <td>0.878789</td>\n",
       "      <td>0.836303</td>\n",
       "      <td>0.786523</td>\n",
       "      <td>0.812231</td>\n",
       "      <td>0.811227</td>\n",
       "      <td>0.873438</td>\n",
       "    </tr>\n",
       "    <tr>\n",
       "      <td>35.0</td>\n",
       "      <td>0.942697</td>\n",
       "      <td>0.510940</td>\n",
       "      <td>0.983987</td>\n",
       "      <td>0.157314</td>\n",
       "      <td>0.991774</td>\n",
       "      <td>0.855535</td>\n",
       "      <td>1.000000</td>\n",
       "      <td>0.942725</td>\n",
       "      <td>0.992047</td>\n",
       "      <td>0.993996</td>\n",
       "      <td>0.918225</td>\n",
       "      <td>0.973611</td>\n",
       "      <td>0.971620</td>\n",
       "      <td>0.994949</td>\n",
       "    </tr>\n",
       "    <tr>\n",
       "      <td>overall</td>\n",
       "      <td>0.900856</td>\n",
       "      <td>0.514493</td>\n",
       "      <td>0.918578</td>\n",
       "      <td>0.201129</td>\n",
       "      <td>0.954233</td>\n",
       "      <td>0.909206</td>\n",
       "      <td>0.942725</td>\n",
       "      <td>1.000000</td>\n",
       "      <td>0.954765</td>\n",
       "      <td>0.930739</td>\n",
       "      <td>0.888560</td>\n",
       "      <td>0.914568</td>\n",
       "      <td>0.913992</td>\n",
       "      <td>0.952727</td>\n",
       "    </tr>\n",
       "    <tr>\n",
       "      <td>pace</td>\n",
       "      <td>0.926638</td>\n",
       "      <td>0.515633</td>\n",
       "      <td>0.968159</td>\n",
       "      <td>0.166593</td>\n",
       "      <td>0.999897</td>\n",
       "      <td>0.878789</td>\n",
       "      <td>0.992047</td>\n",
       "      <td>0.954765</td>\n",
       "      <td>1.000000</td>\n",
       "      <td>0.981002</td>\n",
       "      <td>0.904186</td>\n",
       "      <td>0.957318</td>\n",
       "      <td>0.954388</td>\n",
       "      <td>0.997207</td>\n",
       "    </tr>\n",
       "    <tr>\n",
       "      <td>30.0</td>\n",
       "      <td>0.958461</td>\n",
       "      <td>0.500938</td>\n",
       "      <td>0.995227</td>\n",
       "      <td>0.156746</td>\n",
       "      <td>0.980873</td>\n",
       "      <td>0.836303</td>\n",
       "      <td>0.993996</td>\n",
       "      <td>0.930739</td>\n",
       "      <td>0.981002</td>\n",
       "      <td>1.000000</td>\n",
       "      <td>0.933435</td>\n",
       "      <td>0.987289</td>\n",
       "      <td>0.985146</td>\n",
       "      <td>0.983998</td>\n",
       "    </tr>\n",
       "    <tr>\n",
       "      <td>5.0</td>\n",
       "      <td>0.988725</td>\n",
       "      <td>0.470117</td>\n",
       "      <td>0.947264</td>\n",
       "      <td>0.159665</td>\n",
       "      <td>0.904008</td>\n",
       "      <td>0.786523</td>\n",
       "      <td>0.918225</td>\n",
       "      <td>0.888560</td>\n",
       "      <td>0.904186</td>\n",
       "      <td>0.933435</td>\n",
       "      <td>1.000000</td>\n",
       "      <td>0.960384</td>\n",
       "      <td>0.960516</td>\n",
       "      <td>0.904604</td>\n",
       "    </tr>\n",
       "    <tr>\n",
       "      <td>21.1</td>\n",
       "      <td>0.982808</td>\n",
       "      <td>0.481394</td>\n",
       "      <td>0.995672</td>\n",
       "      <td>0.164862</td>\n",
       "      <td>0.957356</td>\n",
       "      <td>0.812231</td>\n",
       "      <td>0.973611</td>\n",
       "      <td>0.914568</td>\n",
       "      <td>0.957318</td>\n",
       "      <td>0.987289</td>\n",
       "      <td>0.960384</td>\n",
       "      <td>1.000000</td>\n",
       "      <td>0.997719</td>\n",
       "      <td>0.959313</td>\n",
       "    </tr>\n",
       "    <tr>\n",
       "      <td>20.0</td>\n",
       "      <td>0.982447</td>\n",
       "      <td>0.481330</td>\n",
       "      <td>0.993279</td>\n",
       "      <td>0.164730</td>\n",
       "      <td>0.954294</td>\n",
       "      <td>0.811227</td>\n",
       "      <td>0.971620</td>\n",
       "      <td>0.913992</td>\n",
       "      <td>0.954388</td>\n",
       "      <td>0.985146</td>\n",
       "      <td>0.960516</td>\n",
       "      <td>0.997719</td>\n",
       "      <td>1.000000</td>\n",
       "      <td>0.957397</td>\n",
       "    </tr>\n",
       "    <tr>\n",
       "      <td>40.0</td>\n",
       "      <td>0.928195</td>\n",
       "      <td>0.518512</td>\n",
       "      <td>0.970671</td>\n",
       "      <td>0.160384</td>\n",
       "      <td>0.996592</td>\n",
       "      <td>0.873438</td>\n",
       "      <td>0.994949</td>\n",
       "      <td>0.952727</td>\n",
       "      <td>0.997207</td>\n",
       "      <td>0.983998</td>\n",
       "      <td>0.904604</td>\n",
       "      <td>0.959313</td>\n",
       "      <td>0.957397</td>\n",
       "      <td>1.000000</td>\n",
       "    </tr>\n",
       "  </tbody>\n",
       "</table>\n",
       "</div>"
      ],
      "text/plain": [
       "               10.0  division      25.0       age  official  genderdiv  \\\n",
       "10.0       1.000000  0.471278  0.971632  0.167492  0.926539   0.797326   \n",
       "division   0.471278  1.000000  0.490299 -0.577256  0.515368   0.470752   \n",
       "25.0       0.971632  0.490299  1.000000  0.158120  0.968160   0.819000   \n",
       "age        0.167492 -0.577256  0.158120  1.000000  0.166440   0.306829   \n",
       "official   0.926539  0.515368  0.968160  0.166440  1.000000   0.878360   \n",
       "genderdiv  0.797326  0.470752  0.819000  0.306829  0.878360   1.000000   \n",
       "35.0       0.942697  0.510940  0.983987  0.157314  0.991774   0.855535   \n",
       "overall    0.900856  0.514493  0.918578  0.201129  0.954233   0.909206   \n",
       "pace       0.926638  0.515633  0.968159  0.166593  0.999897   0.878789   \n",
       "30.0       0.958461  0.500938  0.995227  0.156746  0.980873   0.836303   \n",
       "5.0        0.988725  0.470117  0.947264  0.159665  0.904008   0.786523   \n",
       "21.1       0.982808  0.481394  0.995672  0.164862  0.957356   0.812231   \n",
       "20.0       0.982447  0.481330  0.993279  0.164730  0.954294   0.811227   \n",
       "40.0       0.928195  0.518512  0.970671  0.160384  0.996592   0.873438   \n",
       "\n",
       "               35.0   overall      pace      30.0       5.0      21.1  \\\n",
       "10.0       0.942697  0.900856  0.926638  0.958461  0.988725  0.982808   \n",
       "division   0.510940  0.514493  0.515633  0.500938  0.470117  0.481394   \n",
       "25.0       0.983987  0.918578  0.968159  0.995227  0.947264  0.995672   \n",
       "age        0.157314  0.201129  0.166593  0.156746  0.159665  0.164862   \n",
       "official   0.991774  0.954233  0.999897  0.980873  0.904008  0.957356   \n",
       "genderdiv  0.855535  0.909206  0.878789  0.836303  0.786523  0.812231   \n",
       "35.0       1.000000  0.942725  0.992047  0.993996  0.918225  0.973611   \n",
       "overall    0.942725  1.000000  0.954765  0.930739  0.888560  0.914568   \n",
       "pace       0.992047  0.954765  1.000000  0.981002  0.904186  0.957318   \n",
       "30.0       0.993996  0.930739  0.981002  1.000000  0.933435  0.987289   \n",
       "5.0        0.918225  0.888560  0.904186  0.933435  1.000000  0.960384   \n",
       "21.1       0.973611  0.914568  0.957318  0.987289  0.960384  1.000000   \n",
       "20.0       0.971620  0.913992  0.954388  0.985146  0.960516  0.997719   \n",
       "40.0       0.994949  0.952727  0.997207  0.983998  0.904604  0.959313   \n",
       "\n",
       "               20.0      40.0  \n",
       "10.0       0.982447  0.928195  \n",
       "division   0.481330  0.518512  \n",
       "25.0       0.993279  0.970671  \n",
       "age        0.164730  0.160384  \n",
       "official   0.954294  0.996592  \n",
       "genderdiv  0.811227  0.873438  \n",
       "35.0       0.971620  0.994949  \n",
       "overall    0.913992  0.952727  \n",
       "pace       0.954388  0.997207  \n",
       "30.0       0.985146  0.983998  \n",
       "5.0        0.960516  0.904604  \n",
       "21.1       0.997719  0.959313  \n",
       "20.0       1.000000  0.957397  \n",
       "40.0       0.957397  1.000000  "
      ]
     },
     "execution_count": 9,
     "metadata": {},
     "output_type": "execute_result"
    }
   ],
   "source": [
    "df_model.loc[:, numerical_vars].corr()"
   ]
  },
  {
   "cell_type": "markdown",
   "metadata": {},
   "source": [
    "There are a log of correlated variables. This is especially true between the variables related to times, like split times, pace, overall time, etc. Let's find the highly correlated columns and remove them."
   ]
  },
  {
   "cell_type": "code",
   "execution_count": 10,
   "metadata": {},
   "outputs": [
    {
     "name": "stdout",
     "output_type": "stream",
     "text": [
      "Correlated Columns (r > 0.8):\n",
      "* 25.0\n",
      "* official\n",
      "* genderdiv\n",
      "* 35.0\n",
      "* overall\n",
      "* pace\n",
      "* 30.0\n",
      "* 5.0\n",
      "* 21.1\n",
      "* 20.0\n",
      "* 40.0\n",
      "11 correlated features will be removed.\n"
     ]
    }
   ],
   "source": [
    "correlated_vars = hp.find_correlated_features(df_model.loc[:, numerical_vars])"
   ]
  },
  {
   "cell_type": "code",
   "execution_count": 11,
   "metadata": {},
   "outputs": [
    {
     "data": {
      "text/html": [
       "<div>\n",
       "<style scoped>\n",
       "    .dataframe tbody tr th:only-of-type {\n",
       "        vertical-align: middle;\n",
       "    }\n",
       "\n",
       "    .dataframe tbody tr th {\n",
       "        vertical-align: top;\n",
       "    }\n",
       "\n",
       "    .dataframe thead th {\n",
       "        text-align: right;\n",
       "    }\n",
       "</style>\n",
       "<table border=\"1\" class=\"dataframe\">\n",
       "  <thead>\n",
       "    <tr style=\"text-align: right;\">\n",
       "      <th></th>\n",
       "      <th>10.0</th>\n",
       "      <th>division</th>\n",
       "      <th>age</th>\n",
       "    </tr>\n",
       "  </thead>\n",
       "  <tbody>\n",
       "    <tr>\n",
       "      <td>10.0</td>\n",
       "      <td>1.000000</td>\n",
       "      <td>0.471278</td>\n",
       "      <td>0.167492</td>\n",
       "    </tr>\n",
       "    <tr>\n",
       "      <td>division</td>\n",
       "      <td>0.471278</td>\n",
       "      <td>1.000000</td>\n",
       "      <td>-0.577256</td>\n",
       "    </tr>\n",
       "    <tr>\n",
       "      <td>age</td>\n",
       "      <td>0.167492</td>\n",
       "      <td>-0.577256</td>\n",
       "      <td>1.000000</td>\n",
       "    </tr>\n",
       "  </tbody>\n",
       "</table>\n",
       "</div>"
      ],
      "text/plain": [
       "              10.0  division       age\n",
       "10.0      1.000000  0.471278  0.167492\n",
       "division  0.471278  1.000000 -0.577256\n",
       "age       0.167492 -0.577256  1.000000"
      ]
     },
     "execution_count": 11,
     "metadata": {},
     "output_type": "execute_result"
    }
   ],
   "source": [
    "df_model.drop(columns=correlated_vars).corr()"
   ]
  },
  {
   "cell_type": "code",
   "execution_count": 12,
   "metadata": {},
   "outputs": [],
   "source": [
    "uncorrelated_vars = df_model.drop(columns=correlated_vars).corr().columns.tolist()"
   ]
  },
  {
   "cell_type": "markdown",
   "metadata": {},
   "source": [
    "## Numerical variable distributions\n",
    "I will investigate the distributions of the uncorrelated variables."
   ]
  },
  {
   "cell_type": "code",
   "execution_count": 13,
   "metadata": {
    "scrolled": false
   },
   "outputs": [
    {
     "data": {
      "image/png": "[encoded data removed]",
      "text/plain": [
       "<Figure size 1008x432 with 1 Axes>"
      ]
     },
     "metadata": {
      "needs_background": "light"
     },
     "output_type": "display_data"
    }
   ],
   "source": [
    "hp.create_boxplots(df_model, uncorrelated_vars, log_scale=True)"
   ]
  },
  {
   "cell_type": "markdown",
   "metadata": {},
   "source": [
    "## Outliers\n",
    "Correct for outliers."
   ]
  },
  {
   "cell_type": "code",
   "execution_count": 14,
   "metadata": {},
   "outputs": [
    {
     "data": {
      "image/png": "[encoded data removed]",
      "text/plain": [
       "<Figure size 1008x432 with 1 Axes>"
      ]
     },
     "metadata": {
      "needs_background": "light"
     },
     "output_type": "display_data"
    }
   ],
   "source": [
    "outlier_corrected = [f'{x}_tk' for x in uncorrelated_vars]\n",
    "hp.correct_outliers(df_model, uncorrelated_vars)\n",
    "hp.create_boxplots(df_model, outlier_corrected, log_scale=True)"
   ]
  },
  {
   "cell_type": "markdown",
   "metadata": {},
   "source": [
    "### Normalized"
   ]
  },
  {
   "cell_type": "code",
   "execution_count": 15,
   "metadata": {},
   "outputs": [
    {
     "data": {
      "image/png": "[encoded data removed]",
      "text/plain": [
       "<Figure size 1008x432 with 1 Axes>"
      ]
     },
     "metadata": {
      "needs_background": "light"
     },
     "output_type": "display_data"
    }
   ],
   "source": [
    "normalized = [f'{x}_nm' for x in outlier_corrected]\n",
    "hp.apply_transform(df_model, outlier_corrected, 'normalize')\n",
    "hp.create_boxplots(df_model, normalized)"
   ]
  },
  {
   "cell_type": "code",
   "execution_count": 16,
   "metadata": {},
   "outputs": [
    {
     "data": {
      "text/html": [
       "<div>\n",
       "<style scoped>\n",
       "    .dataframe tbody tr th:only-of-type {\n",
       "        vertical-align: middle;\n",
       "    }\n",
       "\n",
       "    .dataframe tbody tr th {\n",
       "        vertical-align: top;\n",
       "    }\n",
       "\n",
       "    .dataframe thead th {\n",
       "        text-align: right;\n",
       "    }\n",
       "</style>\n",
       "<table border=\"1\" class=\"dataframe\">\n",
       "  <thead>\n",
       "    <tr style=\"text-align: right;\">\n",
       "      <th></th>\n",
       "      <th>count</th>\n",
       "      <th>unique</th>\n",
       "      <th>top</th>\n",
       "      <th>freq</th>\n",
       "      <th>mean</th>\n",
       "      <th>std</th>\n",
       "      <th>min</th>\n",
       "      <th>25%</th>\n",
       "      <th>50%</th>\n",
       "      <th>75%</th>\n",
       "      <th>max</th>\n",
       "    </tr>\n",
       "  </thead>\n",
       "  <tbody>\n",
       "    <tr>\n",
       "      <td>10.0</td>\n",
       "      <td>31984</td>\n",
       "      <td>NaN</td>\n",
       "      <td>NaN</td>\n",
       "      <td>NaN</td>\n",
       "      <td>51.8198</td>\n",
       "      <td>8.99965</td>\n",
       "      <td>16.62</td>\n",
       "      <td>45.4</td>\n",
       "      <td>50.35</td>\n",
       "      <td>57.18</td>\n",
       "      <td>112.38</td>\n",
       "    </tr>\n",
       "    <tr>\n",
       "      <td>division</td>\n",
       "      <td>31984</td>\n",
       "      <td>NaN</td>\n",
       "      <td>NaN</td>\n",
       "      <td>NaN</td>\n",
       "      <td>1932.56</td>\n",
       "      <td>1715.23</td>\n",
       "      <td>1</td>\n",
       "      <td>610</td>\n",
       "      <td>1425</td>\n",
       "      <td>2611</td>\n",
       "      <td>6979</td>\n",
       "    </tr>\n",
       "    <tr>\n",
       "      <td>age</td>\n",
       "      <td>31984</td>\n",
       "      <td>NaN</td>\n",
       "      <td>NaN</td>\n",
       "      <td>NaN</td>\n",
       "      <td>42.4071</td>\n",
       "      <td>11.3165</td>\n",
       "      <td>18</td>\n",
       "      <td>33</td>\n",
       "      <td>42</td>\n",
       "      <td>50</td>\n",
       "      <td>81</td>\n",
       "    </tr>\n",
       "    <tr>\n",
       "      <td>name</td>\n",
       "      <td>31984</td>\n",
       "      <td>31915</td>\n",
       "      <td>Williamson, Kelly</td>\n",
       "      <td>2</td>\n",
       "      <td>NaN</td>\n",
       "      <td>NaN</td>\n",
       "      <td>NaN</td>\n",
       "      <td>NaN</td>\n",
       "      <td>NaN</td>\n",
       "      <td>NaN</td>\n",
       "      <td>NaN</td>\n",
       "    </tr>\n",
       "    <tr>\n",
       "      <td>gender</td>\n",
       "      <td>31984</td>\n",
       "      <td>2</td>\n",
       "      <td>M</td>\n",
       "      <td>17617</td>\n",
       "      <td>NaN</td>\n",
       "      <td>NaN</td>\n",
       "      <td>NaN</td>\n",
       "      <td>NaN</td>\n",
       "      <td>NaN</td>\n",
       "      <td>NaN</td>\n",
       "      <td>NaN</td>\n",
       "    </tr>\n",
       "    <tr>\n",
       "      <td>bib</td>\n",
       "      <td>31984</td>\n",
       "      <td>31984</td>\n",
       "      <td>22378</td>\n",
       "      <td>1</td>\n",
       "      <td>NaN</td>\n",
       "      <td>NaN</td>\n",
       "      <td>NaN</td>\n",
       "      <td>NaN</td>\n",
       "      <td>NaN</td>\n",
       "      <td>NaN</td>\n",
       "      <td>NaN</td>\n",
       "    </tr>\n",
       "    <tr>\n",
       "      <td>ctz</td>\n",
       "      <td>31984</td>\n",
       "      <td>85</td>\n",
       "      <td>unknown</td>\n",
       "      <td>30740</td>\n",
       "      <td>NaN</td>\n",
       "      <td>NaN</td>\n",
       "      <td>NaN</td>\n",
       "      <td>NaN</td>\n",
       "      <td>NaN</td>\n",
       "      <td>NaN</td>\n",
       "      <td>NaN</td>\n",
       "    </tr>\n",
       "    <tr>\n",
       "      <td>state</td>\n",
       "      <td>31984</td>\n",
       "      <td>69</td>\n",
       "      <td>MA</td>\n",
       "      <td>7587</td>\n",
       "      <td>NaN</td>\n",
       "      <td>NaN</td>\n",
       "      <td>NaN</td>\n",
       "      <td>NaN</td>\n",
       "      <td>NaN</td>\n",
       "      <td>NaN</td>\n",
       "      <td>NaN</td>\n",
       "    </tr>\n",
       "    <tr>\n",
       "      <td>country</td>\n",
       "      <td>31984</td>\n",
       "      <td>78</td>\n",
       "      <td>USA</td>\n",
       "      <td>27233</td>\n",
       "      <td>NaN</td>\n",
       "      <td>NaN</td>\n",
       "      <td>NaN</td>\n",
       "      <td>NaN</td>\n",
       "      <td>NaN</td>\n",
       "      <td>NaN</td>\n",
       "      <td>NaN</td>\n",
       "    </tr>\n",
       "    <tr>\n",
       "      <td>city</td>\n",
       "      <td>31983</td>\n",
       "      <td>5934</td>\n",
       "      <td>Boston</td>\n",
       "      <td>1034</td>\n",
       "      <td>NaN</td>\n",
       "      <td>NaN</td>\n",
       "      <td>NaN</td>\n",
       "      <td>NaN</td>\n",
       "      <td>NaN</td>\n",
       "      <td>NaN</td>\n",
       "      <td>NaN</td>\n",
       "    </tr>\n",
       "  </tbody>\n",
       "</table>\n",
       "</div>"
      ],
      "text/plain": [
       "          count unique                top   freq     mean      std    min  \\\n",
       "10.0      31984    NaN                NaN    NaN  51.8198  8.99965  16.62   \n",
       "division  31984    NaN                NaN    NaN  1932.56  1715.23      1   \n",
       "age       31984    NaN                NaN    NaN  42.4071  11.3165     18   \n",
       "name      31984  31915  Williamson, Kelly      2      NaN      NaN    NaN   \n",
       "gender    31984      2                  M  17617      NaN      NaN    NaN   \n",
       "bib       31984  31984              22378      1      NaN      NaN    NaN   \n",
       "ctz       31984     85            unknown  30740      NaN      NaN    NaN   \n",
       "state     31984     69                 MA   7587      NaN      NaN    NaN   \n",
       "country   31984     78                USA  27233      NaN      NaN    NaN   \n",
       "city      31983   5934             Boston   1034      NaN      NaN    NaN   \n",
       "\n",
       "           25%    50%    75%     max  \n",
       "10.0      45.4  50.35  57.18  112.38  \n",
       "division   610   1425   2611    6979  \n",
       "age         33     42     50      81  \n",
       "name       NaN    NaN    NaN     NaN  \n",
       "gender     NaN    NaN    NaN     NaN  \n",
       "bib        NaN    NaN    NaN     NaN  \n",
       "ctz        NaN    NaN    NaN     NaN  \n",
       "state      NaN    NaN    NaN     NaN  \n",
       "country    NaN    NaN    NaN     NaN  \n",
       "city       NaN    NaN    NaN     NaN  "
      ]
     },
     "execution_count": 16,
     "metadata": {},
     "output_type": "execute_result"
    }
   ],
   "source": [
    "df_model.loc[:, uncorrelated_vars+string_vars].describe(include='all').T"
   ]
  },
  {
   "cell_type": "markdown",
   "metadata": {},
   "source": [
    "## Modeling\n",
    "### Features\n",
    "Use split times and pace as the features. Normalize them for better modeling fitting."
   ]
  },
  {
   "cell_type": "code",
   "execution_count": 17,
   "metadata": {},
   "outputs": [],
   "source": [
    "X_norm = df_model.loc[:, normalized].values"
   ]
  },
  {
   "cell_type": "code",
   "execution_count": 18,
   "metadata": {},
   "outputs": [
    {
     "data": {
      "text/plain": [
       "(31984, 3)"
      ]
     },
     "execution_count": 18,
     "metadata": {},
     "output_type": "execute_result"
    }
   ],
   "source": [
    "X_norm.shape"
   ]
  },
  {
   "cell_type": "markdown",
   "metadata": {},
   "source": [
    "### Label\n",
    "Use gender as the label. Convert gender into 1s and 0s."
   ]
  },
  {
   "cell_type": "code",
   "execution_count": 19,
   "metadata": {},
   "outputs": [],
   "source": [
    "y = np.where(df_model['gender'].values == 'M', 0, 1)"
   ]
  },
  {
   "cell_type": "code",
   "execution_count": 20,
   "metadata": {},
   "outputs": [
    {
     "name": "stdout",
     "output_type": "stream",
     "text": [
      "14367\n",
      "17617\n"
     ]
    }
   ],
   "source": [
    "print(len(y[y > 0]))\n",
    "print(len(y[y == 0]))"
   ]
  },
  {
   "cell_type": "markdown",
   "metadata": {},
   "source": [
    "### K-means"
   ]
  },
  {
   "cell_type": "code",
   "execution_count": 21,
   "metadata": {},
   "outputs": [
    {
     "data": {
      "image/png": "[encoded data removed]",
      "text/plain": [
       "<Figure size 432x288 with 1 Axes>"
      ]
     },
     "metadata": {
      "needs_background": "light"
     },
     "output_type": "display_data"
    },
    {
     "name": "stdout",
     "output_type": "stream",
     "text": [
      "Contingency Table\n",
      "actual         0     1\n",
      "predicted             \n",
      "0          14305  3312\n",
      "1           9961  4406\n",
      "ARI: 0.026\n"
     ]
    }
   ],
   "source": [
    "hp.fit_kmeans(X_norm, y, 2, evaluate_model=True)"
   ]
  },
  {
   "cell_type": "markdown",
   "metadata": {},
   "source": [
    "### Mean Shift"
   ]
  },
  {
   "cell_type": "code",
   "execution_count": 22,
   "metadata": {},
   "outputs": [
    {
     "data": {
      "image/png": "[encoded data removed]",
      "text/plain": [
       "<Figure size 432x288 with 1 Axes>"
      ]
     },
     "metadata": {
      "needs_background": "light"
     },
     "output_type": "display_data"
    },
    {
     "name": "stdout",
     "output_type": "stream",
     "text": [
      "There are 2 estimated clusters.\n",
      "Contingency Table\n",
      "actual         0     1\n",
      "predicted             \n",
      "0          14606  3011\n",
      "1          10188  4179\n",
      "ARI: 0.027\n"
     ]
    }
   ],
   "source": [
    "hp.fit_mean_shift(X_norm, y, evaluate_model=True)"
   ]
  },
  {
   "cell_type": "markdown",
   "metadata": {},
   "source": [
    "### Spectral Clustering"
   ]
  },
  {
   "cell_type": "code",
   "execution_count": 23,
   "metadata": {},
   "outputs": [
    {
     "ename": "KeyboardInterrupt",
     "evalue": "",
     "output_type": "error",
     "traceback": [
      "\u001b[0;31m---------------------------------------------------------------------------\u001b[0m",
      "\u001b[0;31mKeyboardInterrupt\u001b[0m                         Traceback (most recent call last)",
      "\u001b[0;32m<ipython-input-23-f6b74018995c>\u001b[0m in \u001b[0;36m<module>\u001b[0;34m\u001b[0m\n\u001b[0;32m----> 1\u001b[0;31m \u001b[0mhp\u001b[0m\u001b[0;34m.\u001b[0m\u001b[0mfit_spectral_clustering\u001b[0m\u001b[0;34m(\u001b[0m\u001b[0mX_norm\u001b[0m\u001b[0;34m,\u001b[0m \u001b[0my\u001b[0m\u001b[0;34m,\u001b[0m \u001b[0;36m2\u001b[0m\u001b[0;34m,\u001b[0m \u001b[0mevaluate_model\u001b[0m\u001b[0;34m=\u001b[0m\u001b[0;32mTrue\u001b[0m\u001b[0;34m)\u001b[0m\u001b[0;34m\u001b[0m\u001b[0;34m\u001b[0m\u001b[0m\n\u001b[0m",
      "\u001b[0;32m~/DataScience/Projects/GitHub/thinkful/Module_30/Challenge/helpers.py\u001b[0m in \u001b[0;36mfit_spectral_clustering\u001b[0;34m(X, y, num_clusters, evaluate_model)\u001b[0m\n\u001b[1;32m    177\u001b[0m \u001b[0;32mdef\u001b[0m \u001b[0mfit_spectral_clustering\u001b[0m\u001b[0;34m(\u001b[0m\u001b[0mX\u001b[0m\u001b[0;34m,\u001b[0m \u001b[0my\u001b[0m\u001b[0;34m,\u001b[0m \u001b[0mnum_clusters\u001b[0m\u001b[0;34m,\u001b[0m \u001b[0mevaluate_model\u001b[0m\u001b[0;34m=\u001b[0m\u001b[0;32mFalse\u001b[0m\u001b[0;34m)\u001b[0m\u001b[0;34m:\u001b[0m\u001b[0;34m\u001b[0m\u001b[0;34m\u001b[0m\u001b[0m\n\u001b[1;32m    178\u001b[0m     \u001b[0msc\u001b[0m \u001b[0;34m=\u001b[0m \u001b[0mSpectralClustering\u001b[0m\u001b[0;34m(\u001b[0m\u001b[0mn_clusters\u001b[0m\u001b[0;34m=\u001b[0m\u001b[0mnum_clusters\u001b[0m\u001b[0;34m)\u001b[0m\u001b[0;34m\u001b[0m\u001b[0;34m\u001b[0m\u001b[0m\n\u001b[0;32m--> 179\u001b[0;31m     \u001b[0msc\u001b[0m\u001b[0;34m.\u001b[0m\u001b[0mfit\u001b[0m\u001b[0;34m(\u001b[0m\u001b[0mX\u001b[0m\u001b[0;34m)\u001b[0m\u001b[0;34m\u001b[0m\u001b[0;34m\u001b[0m\u001b[0m\n\u001b[0m\u001b[1;32m    180\u001b[0m     \u001b[0my_pred\u001b[0m\u001b[0;34m=\u001b[0m\u001b[0msc\u001b[0m\u001b[0;34m.\u001b[0m\u001b[0mfit_predict\u001b[0m\u001b[0;34m(\u001b[0m\u001b[0mX\u001b[0m\u001b[0;34m)\u001b[0m\u001b[0;34m\u001b[0m\u001b[0;34m\u001b[0m\u001b[0m\n\u001b[1;32m    181\u001b[0m     \u001b[0;32mif\u001b[0m \u001b[0mevaluate_model\u001b[0m\u001b[0;34m:\u001b[0m\u001b[0;34m\u001b[0m\u001b[0;34m\u001b[0m\u001b[0m\n",
      "\u001b[0;32m~/anaconda3/envs/py_36/lib/python3.6/site-packages/sklearn/cluster/spectral.py\u001b[0m in \u001b[0;36mfit\u001b[0;34m(self, X, y)\u001b[0m\n\u001b[1;32m    491\u001b[0m                                            \u001b[0mn_init\u001b[0m\u001b[0;34m=\u001b[0m\u001b[0mself\u001b[0m\u001b[0;34m.\u001b[0m\u001b[0mn_init\u001b[0m\u001b[0;34m,\u001b[0m\u001b[0;34m\u001b[0m\u001b[0;34m\u001b[0m\u001b[0m\n\u001b[1;32m    492\u001b[0m                                            \u001b[0meigen_tol\u001b[0m\u001b[0;34m=\u001b[0m\u001b[0mself\u001b[0m\u001b[0;34m.\u001b[0m\u001b[0meigen_tol\u001b[0m\u001b[0;34m,\u001b[0m\u001b[0;34m\u001b[0m\u001b[0;34m\u001b[0m\u001b[0m\n\u001b[0;32m--> 493\u001b[0;31m                                            assign_labels=self.assign_labels)\n\u001b[0m\u001b[1;32m    494\u001b[0m         \u001b[0;32mreturn\u001b[0m \u001b[0mself\u001b[0m\u001b[0;34m\u001b[0m\u001b[0;34m\u001b[0m\u001b[0m\n\u001b[1;32m    495\u001b[0m \u001b[0;34m\u001b[0m\u001b[0m\n",
      "\u001b[0;32m~/anaconda3/envs/py_36/lib/python3.6/site-packages/sklearn/cluster/spectral.py\u001b[0m in \u001b[0;36mspectral_clustering\u001b[0;34m(affinity, n_clusters, n_components, eigen_solver, random_state, n_init, eigen_tol, assign_labels)\u001b[0m\n\u001b[1;32m    262\u001b[0m                               \u001b[0meigen_solver\u001b[0m\u001b[0;34m=\u001b[0m\u001b[0meigen_solver\u001b[0m\u001b[0;34m,\u001b[0m\u001b[0;34m\u001b[0m\u001b[0;34m\u001b[0m\u001b[0m\n\u001b[1;32m    263\u001b[0m                               \u001b[0mrandom_state\u001b[0m\u001b[0;34m=\u001b[0m\u001b[0mrandom_state\u001b[0m\u001b[0;34m,\u001b[0m\u001b[0;34m\u001b[0m\u001b[0;34m\u001b[0m\u001b[0m\n\u001b[0;32m--> 264\u001b[0;31m                               eigen_tol=eigen_tol, drop_first=False)\n\u001b[0m\u001b[1;32m    265\u001b[0m \u001b[0;34m\u001b[0m\u001b[0m\n\u001b[1;32m    266\u001b[0m     \u001b[0;32mif\u001b[0m \u001b[0massign_labels\u001b[0m \u001b[0;34m==\u001b[0m \u001b[0;34m'kmeans'\u001b[0m\u001b[0;34m:\u001b[0m\u001b[0;34m\u001b[0m\u001b[0;34m\u001b[0m\u001b[0m\n",
      "\u001b[0;32m~/anaconda3/envs/py_36/lib/python3.6/site-packages/sklearn/manifold/spectral_embedding_.py\u001b[0m in \u001b[0;36mspectral_embedding\u001b[0;34m(adjacency, n_components, eigen_solver, random_state, eigen_tol, norm_laplacian, drop_first)\u001b[0m\n\u001b[1;32m    237\u001b[0m \u001b[0;34m\u001b[0m\u001b[0m\n\u001b[1;32m    238\u001b[0m     laplacian, dd = csgraph_laplacian(adjacency, normed=norm_laplacian,\n\u001b[0;32m--> 239\u001b[0;31m                                       return_diag=True)\n\u001b[0m\u001b[1;32m    240\u001b[0m     if (eigen_solver == 'arpack' or eigen_solver != 'lobpcg' and\n\u001b[1;32m    241\u001b[0m        (not sparse.isspmatrix(laplacian) or n_nodes < 5 * n_components)):\n",
      "\u001b[0;32m~/anaconda3/envs/py_36/lib/python3.6/site-packages/scipy/sparse/csgraph/_laplacian.py\u001b[0m in \u001b[0;36mlaplacian\u001b[0;34m(csgraph, normed, return_diag, use_out_degree)\u001b[0m\n\u001b[1;32m     76\u001b[0m     \u001b[0mcreate_lap\u001b[0m \u001b[0;34m=\u001b[0m \u001b[0m_laplacian_sparse\u001b[0m \u001b[0;32mif\u001b[0m \u001b[0misspmatrix\u001b[0m\u001b[0;34m(\u001b[0m\u001b[0mcsgraph\u001b[0m\u001b[0;34m)\u001b[0m \u001b[0;32melse\u001b[0m \u001b[0m_laplacian_dense\u001b[0m\u001b[0;34m\u001b[0m\u001b[0;34m\u001b[0m\u001b[0m\n\u001b[1;32m     77\u001b[0m     \u001b[0mdegree_axis\u001b[0m \u001b[0;34m=\u001b[0m \u001b[0;36m1\u001b[0m \u001b[0;32mif\u001b[0m \u001b[0muse_out_degree\u001b[0m \u001b[0;32melse\u001b[0m \u001b[0;36m0\u001b[0m\u001b[0;34m\u001b[0m\u001b[0;34m\u001b[0m\u001b[0m\n\u001b[0;32m---> 78\u001b[0;31m     \u001b[0mlap\u001b[0m\u001b[0;34m,\u001b[0m \u001b[0md\u001b[0m \u001b[0;34m=\u001b[0m \u001b[0mcreate_lap\u001b[0m\u001b[0;34m(\u001b[0m\u001b[0mcsgraph\u001b[0m\u001b[0;34m,\u001b[0m \u001b[0mnormed\u001b[0m\u001b[0;34m=\u001b[0m\u001b[0mnormed\u001b[0m\u001b[0;34m,\u001b[0m \u001b[0maxis\u001b[0m\u001b[0;34m=\u001b[0m\u001b[0mdegree_axis\u001b[0m\u001b[0;34m)\u001b[0m\u001b[0;34m\u001b[0m\u001b[0;34m\u001b[0m\u001b[0m\n\u001b[0m\u001b[1;32m     79\u001b[0m     \u001b[0;32mif\u001b[0m \u001b[0mreturn_diag\u001b[0m\u001b[0;34m:\u001b[0m\u001b[0;34m\u001b[0m\u001b[0;34m\u001b[0m\u001b[0m\n\u001b[1;32m     80\u001b[0m         \u001b[0;32mreturn\u001b[0m \u001b[0mlap\u001b[0m\u001b[0;34m,\u001b[0m \u001b[0md\u001b[0m\u001b[0;34m\u001b[0m\u001b[0;34m\u001b[0m\u001b[0m\n",
      "\u001b[0;32m~/anaconda3/envs/py_36/lib/python3.6/site-packages/scipy/sparse/csgraph/_laplacian.py\u001b[0m in \u001b[0;36m_laplacian_dense\u001b[0;34m(graph, normed, axis)\u001b[0m\n\u001b[1;32m    115\u001b[0m     \u001b[0mm\u001b[0m \u001b[0;34m=\u001b[0m \u001b[0mnp\u001b[0m\u001b[0;34m.\u001b[0m\u001b[0marray\u001b[0m\u001b[0;34m(\u001b[0m\u001b[0mgraph\u001b[0m\u001b[0;34m)\u001b[0m\u001b[0;34m\u001b[0m\u001b[0;34m\u001b[0m\u001b[0m\n\u001b[1;32m    116\u001b[0m     \u001b[0mnp\u001b[0m\u001b[0;34m.\u001b[0m\u001b[0mfill_diagonal\u001b[0m\u001b[0;34m(\u001b[0m\u001b[0mm\u001b[0m\u001b[0;34m,\u001b[0m \u001b[0;36m0\u001b[0m\u001b[0;34m)\u001b[0m\u001b[0;34m\u001b[0m\u001b[0;34m\u001b[0m\u001b[0m\n\u001b[0;32m--> 117\u001b[0;31m     \u001b[0mw\u001b[0m \u001b[0;34m=\u001b[0m \u001b[0mm\u001b[0m\u001b[0;34m.\u001b[0m\u001b[0msum\u001b[0m\u001b[0;34m(\u001b[0m\u001b[0maxis\u001b[0m\u001b[0;34m=\u001b[0m\u001b[0maxis\u001b[0m\u001b[0;34m)\u001b[0m\u001b[0;34m\u001b[0m\u001b[0;34m\u001b[0m\u001b[0m\n\u001b[0m\u001b[1;32m    118\u001b[0m     \u001b[0;32mif\u001b[0m \u001b[0mnormed\u001b[0m\u001b[0;34m:\u001b[0m\u001b[0;34m\u001b[0m\u001b[0;34m\u001b[0m\u001b[0m\n\u001b[1;32m    119\u001b[0m         \u001b[0misolated_node_mask\u001b[0m \u001b[0;34m=\u001b[0m \u001b[0;34m(\u001b[0m\u001b[0mw\u001b[0m \u001b[0;34m==\u001b[0m \u001b[0;36m0\u001b[0m\u001b[0;34m)\u001b[0m\u001b[0;34m\u001b[0m\u001b[0;34m\u001b[0m\u001b[0m\n",
      "\u001b[0;32m~/anaconda3/envs/py_36/lib/python3.6/site-packages/numpy/core/_methods.py\u001b[0m in \u001b[0;36m_sum\u001b[0;34m(a, axis, dtype, out, keepdims, initial, where)\u001b[0m\n\u001b[1;32m     36\u001b[0m def _sum(a, axis=None, dtype=None, out=None, keepdims=False,\n\u001b[1;32m     37\u001b[0m          initial=_NoValue, where=True):\n\u001b[0;32m---> 38\u001b[0;31m     \u001b[0;32mreturn\u001b[0m \u001b[0mumr_sum\u001b[0m\u001b[0;34m(\u001b[0m\u001b[0ma\u001b[0m\u001b[0;34m,\u001b[0m \u001b[0maxis\u001b[0m\u001b[0;34m,\u001b[0m \u001b[0mdtype\u001b[0m\u001b[0;34m,\u001b[0m \u001b[0mout\u001b[0m\u001b[0;34m,\u001b[0m \u001b[0mkeepdims\u001b[0m\u001b[0;34m,\u001b[0m \u001b[0minitial\u001b[0m\u001b[0;34m,\u001b[0m \u001b[0mwhere\u001b[0m\u001b[0;34m)\u001b[0m\u001b[0;34m\u001b[0m\u001b[0;34m\u001b[0m\u001b[0m\n\u001b[0m\u001b[1;32m     39\u001b[0m \u001b[0;34m\u001b[0m\u001b[0m\n\u001b[1;32m     40\u001b[0m def _prod(a, axis=None, dtype=None, out=None, keepdims=False,\n",
      "\u001b[0;31mKeyboardInterrupt\u001b[0m: "
     ]
    }
   ],
   "source": [
    "hp.fit_spectral_clustering(X_norm, y, 2, evaluate_model=True)"
   ]
  },
  {
   "cell_type": "code",
   "execution_count": null,
   "metadata": {},
   "outputs": [],
   "source": []
  }
 ],
 "metadata": {
  "kernelspec": {
   "display_name": "Python 3",
   "language": "python",
   "name": "python3"
  },
  "language_info": {
   "codemirror_mode": {
    "name": "ipython",
    "version": 3
   },
   "file_extension": ".py",
   "mimetype": "text/x-python",
   "name": "python",
   "nbconvert_exporter": "python",
   "pygments_lexer": "ipython3",
   "version": "3.6.7"
  }
 },
 "nbformat": 4,
 "nbformat_minor": 2
}
