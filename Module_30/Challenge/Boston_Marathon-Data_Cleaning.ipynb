{
 "cells": [
  {
   "cell_type": "markdown",
   "metadata": {},
   "source": [
    "# Boston Marathon - Data Cleaning"
   ]
  },
  {
   "cell_type": "code",
   "execution_count": 1,
   "metadata": {},
   "outputs": [],
   "source": [
    "import numpy as np\n",
    "import pandas as pd\n",
    "from sqlalchemy import create_engine\n",
    "from sqlalchemy_utils import create_database, database_exists\n",
    "import warnings\n",
    "warnings.filterwarnings('ignore')\n",
    "\n",
    "from config import usr, pwd, url, port, db, table"
   ]
  },
  {
   "cell_type": "markdown",
   "metadata": {},
   "source": [
    "## Load dataset\n",
    "Load the dataset into a Pandas `DataFrame`."
   ]
  },
  {
   "cell_type": "code",
   "execution_count": 2,
   "metadata": {},
   "outputs": [],
   "source": [
    "df = pd.read_csv('./data/results_2014.csv')"
   ]
  },
  {
   "cell_type": "code",
   "execution_count": 3,
   "metadata": {},
   "outputs": [
    {
     "name": "stdout",
     "output_type": "stream",
     "text": [
      "<class 'pandas.core.frame.DataFrame'>\n",
      "RangeIndex: 31984 entries, 0 to 31983\n",
      "Data columns (total 21 columns):\n",
      "10k          31984 non-null object\n",
      "name         31984 non-null object\n",
      "division     31984 non-null int64\n",
      "25k          31984 non-null object\n",
      "gender       31984 non-null object\n",
      "age          31984 non-null int64\n",
      "official     31984 non-null float64\n",
      "bib          31984 non-null object\n",
      "genderdiv    31984 non-null int64\n",
      "ctz          1244 non-null object\n",
      "35k          31984 non-null object\n",
      "overall      31984 non-null int64\n",
      "pace         31984 non-null float64\n",
      "state        29408 non-null object\n",
      "30k          31984 non-null object\n",
      "5k           31984 non-null object\n",
      "half         31984 non-null object\n",
      "20k          31984 non-null object\n",
      "country      31984 non-null object\n",
      "city         31983 non-null object\n",
      "40k          31984 non-null object\n",
      "dtypes: float64(2), int64(4), object(15)\n",
      "memory usage: 5.1+ MB\n"
     ]
    }
   ],
   "source": [
    "df.info()"
   ]
  },
  {
   "cell_type": "markdown",
   "metadata": {},
   "source": [
    "## Missing Values\n",
    "### Distances\n",
    "As seen in the above table, many of the distance columns are of type object, meaning they are strings. If we examine the unique values in one of the distance columns, we can see why."
   ]
  },
  {
   "cell_type": "code",
   "execution_count": 4,
   "metadata": {},
   "outputs": [
    {
     "name": "stdout",
     "output_type": "stream",
     "text": [
      "Filler string: -\n"
     ]
    }
   ],
   "source": [
    "find_filler_string = np.unique([x for x in df['half'].unique() if '.' not in x])\n",
    "filler_string = find_filler_string[0]\n",
    "print(f'Filler string: {filler_string}')"
   ]
  },
  {
   "cell_type": "markdown",
   "metadata": {},
   "source": [
    "There is the answer! Not all of the runners have recorded every split. Hence, a dash has been added to indicate that a split was not recorded for that runner. But, I would like to be able to deal with numbers instead of strings during the modeling process. So, I will first replace the missing values with nans, convert the columns to floats, and interpolate across the splits."
   ]
  },
  {
   "cell_type": "code",
   "execution_count": 5,
   "metadata": {},
   "outputs": [
    {
     "name": "stdout",
     "output_type": "stream",
     "text": [
      "There are 52 missing values for 5k split.\n",
      "There are 50 missing values for 10k split.\n",
      "There are 51 missing values for 20k split.\n",
      "There are 72 missing values for half split.\n",
      "There are 216 missing values for 25k split.\n",
      "There are 40 missing values for 30k split.\n",
      "There are 34 missing values for 35k split.\n",
      "There are 39 missing values for 40k split.\n"
     ]
    }
   ],
   "source": [
    "split_columns = ['5k', '10k', '20k', 'half', '25k', '30k', '35k', '40k']\n",
    "for split in split_columns:\n",
    "    dashes_list = [x for x in df[split] if '.' not in x]\n",
    "    print(f'There are {len(dashes_list)} missing values for {split} split.')"
   ]
  },
  {
   "cell_type": "code",
   "execution_count": 6,
   "metadata": {},
   "outputs": [],
   "source": [
    "df_clean = df.copy()"
   ]
  },
  {
   "cell_type": "code",
   "execution_count": 7,
   "metadata": {},
   "outputs": [],
   "source": [
    "df_clean.loc[:, split_columns] = df_clean.loc[:, split_columns].replace(filler_string, np.nan)"
   ]
  },
  {
   "cell_type": "code",
   "execution_count": 8,
   "metadata": {},
   "outputs": [],
   "source": [
    "df_clean.loc[:, split_columns] = df_clean.loc[:, split_columns].astype('float')"
   ]
  },
  {
   "cell_type": "code",
   "execution_count": 9,
   "metadata": {},
   "outputs": [],
   "source": [
    "df_clean['0k'] = [0.0 for _ in range(len(df_clean))]"
   ]
  },
  {
   "cell_type": "code",
   "execution_count": 10,
   "metadata": {},
   "outputs": [
    {
     "name": "stdout",
     "output_type": "stream",
     "text": [
      "<class 'pandas.core.frame.DataFrame'>\n",
      "RangeIndex: 31984 entries, 0 to 31983\n",
      "Data columns (total 22 columns):\n",
      "10k          31934 non-null float64\n",
      "name         31984 non-null object\n",
      "division     31984 non-null int64\n",
      "25k          31768 non-null float64\n",
      "gender       31984 non-null object\n",
      "age          31984 non-null int64\n",
      "official     31984 non-null float64\n",
      "bib          31984 non-null object\n",
      "genderdiv    31984 non-null int64\n",
      "ctz          1244 non-null object\n",
      "35k          31950 non-null float64\n",
      "overall      31984 non-null int64\n",
      "pace         31984 non-null float64\n",
      "state        29408 non-null object\n",
      "30k          31944 non-null float64\n",
      "5k           31932 non-null float64\n",
      "half         31912 non-null float64\n",
      "20k          31933 non-null float64\n",
      "country      31984 non-null object\n",
      "city         31983 non-null object\n",
      "40k          31945 non-null float64\n",
      "0k           31984 non-null float64\n",
      "dtypes: float64(11), int64(4), object(7)\n",
      "memory usage: 5.4+ MB\n"
     ]
    }
   ],
   "source": [
    "df_clean.info()"
   ]
  },
  {
   "cell_type": "code",
   "execution_count": 11,
   "metadata": {},
   "outputs": [],
   "source": [
    "split_columns.insert(0, '0k')"
   ]
  },
  {
   "cell_type": "code",
   "execution_count": 12,
   "metadata": {},
   "outputs": [
    {
     "data": {
      "text/plain": [
       "['0k', '5k', '10k', '20k', 'half', '25k', '30k', '35k', '40k']"
      ]
     },
     "execution_count": 12,
     "metadata": {},
     "output_type": "execute_result"
    }
   ],
   "source": [
    "split_columns"
   ]
  },
  {
   "cell_type": "code",
   "execution_count": 13,
   "metadata": {},
   "outputs": [],
   "source": [
    "string_to_float = {'0k': 0.0, '5k': 5.0, '10k': 10.0, '20k': 20.0, 'half': 21.1, '25k': 25.0, '30k': 30.0, '35k': 35.0, '40k': 40.0}"
   ]
  },
  {
   "cell_type": "code",
   "execution_count": 14,
   "metadata": {},
   "outputs": [],
   "source": [
    "df_clean.rename(columns=string_to_float, inplace=True)"
   ]
  },
  {
   "cell_type": "code",
   "execution_count": 15,
   "metadata": {},
   "outputs": [
    {
     "name": "stdout",
     "output_type": "stream",
     "text": [
      "   0.0    5.0    10.0   20.0   21.1   25.0   30.0    35.0    40.0\n",
      "0   0.0   8.02  17.37  37.65  39.72  47.67  59.18   71.40   80.43\n",
      "1   0.0  16.22  32.58  65.83  69.47  82.43  99.33  116.37  132.10\n",
      "2   0.0   7.75  16.62  36.10  38.03  45.80  56.45   67.42   76.10\n",
      "3   0.0  16.20  32.57  65.83  69.47  82.43  99.33  116.37  132.95\n",
      "4   0.0   8.02  17.12  36.58  38.60  46.37  57.03   67.83   76.72\n"
     ]
    }
   ],
   "source": [
    "float_distances = [0.0, 5.0, 10.0, 20.0, 21.1, 25.0, 30.0, 35.0, 40.0]\n",
    "print(df_clean.loc[:, float_distances].head())"
   ]
  },
  {
   "cell_type": "code",
   "execution_count": 16,
   "metadata": {},
   "outputs": [
    {
     "name": "stdout",
     "output_type": "stream",
     "text": [
      "<class 'pandas.core.frame.DataFrame'>\n",
      "RangeIndex: 31984 entries, 0 to 31983\n",
      "Data columns (total 9 columns):\n",
      "0.0     31984 non-null float64\n",
      "5.0     31932 non-null float64\n",
      "10.0    31934 non-null float64\n",
      "20.0    31933 non-null float64\n",
      "21.1    31912 non-null float64\n",
      "25.0    31768 non-null float64\n",
      "30.0    31944 non-null float64\n",
      "35.0    31950 non-null float64\n",
      "40.0    31945 non-null float64\n",
      "dtypes: float64(9)\n",
      "memory usage: 2.2 MB\n"
     ]
    }
   ],
   "source": [
    "df_clean.loc[:, float_distances].info()"
   ]
  },
  {
   "cell_type": "code",
   "execution_count": 17,
   "metadata": {},
   "outputs": [],
   "source": [
    "df_clean.loc[:, float_distances] = df_clean.loc[:, float_distances].interpolate(axis=1)"
   ]
  },
  {
   "cell_type": "code",
   "execution_count": 18,
   "metadata": {},
   "outputs": [
    {
     "name": "stdout",
     "output_type": "stream",
     "text": [
      "<class 'pandas.core.frame.DataFrame'>\n",
      "RangeIndex: 31984 entries, 0 to 31983\n",
      "Data columns (total 9 columns):\n",
      "0.0     31984 non-null float64\n",
      "5.0     31984 non-null float64\n",
      "10.0    31984 non-null float64\n",
      "20.0    31984 non-null float64\n",
      "21.1    31984 non-null float64\n",
      "25.0    31984 non-null float64\n",
      "30.0    31984 non-null float64\n",
      "35.0    31984 non-null float64\n",
      "40.0    31984 non-null float64\n",
      "dtypes: float64(9)\n",
      "memory usage: 2.2 MB\n"
     ]
    }
   ],
   "source": [
    "df_clean.loc[:, float_distances].info()"
   ]
  },
  {
   "cell_type": "markdown",
   "metadata": {},
   "source": [
    "Drop column 0.0 as I don't need it anymore. It was only used for interpolation."
   ]
  },
  {
   "cell_type": "code",
   "execution_count": 19,
   "metadata": {},
   "outputs": [],
   "source": [
    "df_clean.drop(0.0, axis=1, inplace=True)"
   ]
  },
  {
   "cell_type": "code",
   "execution_count": 20,
   "metadata": {},
   "outputs": [
    {
     "data": {
      "text/html": [
       "<div>\n",
       "<style scoped>\n",
       "    .dataframe tbody tr th:only-of-type {\n",
       "        vertical-align: middle;\n",
       "    }\n",
       "\n",
       "    .dataframe tbody tr th {\n",
       "        vertical-align: top;\n",
       "    }\n",
       "\n",
       "    .dataframe thead th {\n",
       "        text-align: right;\n",
       "    }\n",
       "</style>\n",
       "<table border=\"1\" class=\"dataframe\">\n",
       "  <thead>\n",
       "    <tr style=\"text-align: right;\">\n",
       "      <th></th>\n",
       "      <th>count</th>\n",
       "      <th>mean</th>\n",
       "      <th>std</th>\n",
       "      <th>min</th>\n",
       "      <th>25%</th>\n",
       "      <th>50%</th>\n",
       "      <th>75%</th>\n",
       "      <th>max</th>\n",
       "    </tr>\n",
       "  </thead>\n",
       "  <tbody>\n",
       "    <tr>\n",
       "      <td>5.0</td>\n",
       "      <td>31984.0</td>\n",
       "      <td>25.760031</td>\n",
       "      <td>4.334164</td>\n",
       "      <td>7.75</td>\n",
       "      <td>22.65</td>\n",
       "      <td>25.100</td>\n",
       "      <td>28.4800</td>\n",
       "      <td>86.95</td>\n",
       "    </tr>\n",
       "    <tr>\n",
       "      <td>10.0</td>\n",
       "      <td>31984.0</td>\n",
       "      <td>51.819779</td>\n",
       "      <td>8.999654</td>\n",
       "      <td>16.62</td>\n",
       "      <td>45.40</td>\n",
       "      <td>50.350</td>\n",
       "      <td>57.1800</td>\n",
       "      <td>112.38</td>\n",
       "    </tr>\n",
       "    <tr>\n",
       "      <td>20.0</td>\n",
       "      <td>31984.0</td>\n",
       "      <td>105.702704</td>\n",
       "      <td>19.807137</td>\n",
       "      <td>36.10</td>\n",
       "      <td>91.73</td>\n",
       "      <td>102.130</td>\n",
       "      <td>116.5200</td>\n",
       "      <td>224.35</td>\n",
       "    </tr>\n",
       "    <tr>\n",
       "      <td>21.1</td>\n",
       "      <td>31984.0</td>\n",
       "      <td>111.676693</td>\n",
       "      <td>21.069342</td>\n",
       "      <td>38.03</td>\n",
       "      <td>96.85</td>\n",
       "      <td>107.850</td>\n",
       "      <td>123.0800</td>\n",
       "      <td>236.67</td>\n",
       "    </tr>\n",
       "    <tr>\n",
       "      <td>25.0</td>\n",
       "      <td>31984.0</td>\n",
       "      <td>134.186245</td>\n",
       "      <td>26.623735</td>\n",
       "      <td>45.80</td>\n",
       "      <td>115.55</td>\n",
       "      <td>129.050</td>\n",
       "      <td>148.2850</td>\n",
       "      <td>289.02</td>\n",
       "    </tr>\n",
       "    <tr>\n",
       "      <td>30.0</td>\n",
       "      <td>31984.0</td>\n",
       "      <td>164.599460</td>\n",
       "      <td>33.996376</td>\n",
       "      <td>47.95</td>\n",
       "      <td>140.67</td>\n",
       "      <td>157.770</td>\n",
       "      <td>182.9725</td>\n",
       "      <td>376.38</td>\n",
       "    </tr>\n",
       "    <tr>\n",
       "      <td>35.0</td>\n",
       "      <td>31984.0</td>\n",
       "      <td>196.857142</td>\n",
       "      <td>41.993665</td>\n",
       "      <td>47.95</td>\n",
       "      <td>167.13</td>\n",
       "      <td>188.175</td>\n",
       "      <td>220.1800</td>\n",
       "      <td>449.33</td>\n",
       "    </tr>\n",
       "    <tr>\n",
       "      <td>40.0</td>\n",
       "      <td>31984.0</td>\n",
       "      <td>229.078324</td>\n",
       "      <td>49.280616</td>\n",
       "      <td>47.95</td>\n",
       "      <td>193.82</td>\n",
       "      <td>218.880</td>\n",
       "      <td>257.5550</td>\n",
       "      <td>508.35</td>\n",
       "    </tr>\n",
       "  </tbody>\n",
       "</table>\n",
       "</div>"
      ],
      "text/plain": [
       "        count        mean        std    min     25%      50%       75%     max\n",
       "5.0   31984.0   25.760031   4.334164   7.75   22.65   25.100   28.4800   86.95\n",
       "10.0  31984.0   51.819779   8.999654  16.62   45.40   50.350   57.1800  112.38\n",
       "20.0  31984.0  105.702704  19.807137  36.10   91.73  102.130  116.5200  224.35\n",
       "21.1  31984.0  111.676693  21.069342  38.03   96.85  107.850  123.0800  236.67\n",
       "25.0  31984.0  134.186245  26.623735  45.80  115.55  129.050  148.2850  289.02\n",
       "30.0  31984.0  164.599460  33.996376  47.95  140.67  157.770  182.9725  376.38\n",
       "35.0  31984.0  196.857142  41.993665  47.95  167.13  188.175  220.1800  449.33\n",
       "40.0  31984.0  229.078324  49.280616  47.95  193.82  218.880  257.5550  508.35"
      ]
     },
     "execution_count": 20,
     "metadata": {},
     "output_type": "execute_result"
    }
   ],
   "source": [
    "df_clean.loc[:, float_distances[1:]].describe().T"
   ]
  },
  {
   "cell_type": "markdown",
   "metadata": {},
   "source": [
    "### Citizenship and State\n",
    "The only other two columns with missing values are _ctz_ and _state_, which are the participant's citizenship and state, respectively. I will replace the missing values for these columns with _unknown_."
   ]
  },
  {
   "cell_type": "code",
   "execution_count": 21,
   "metadata": {},
   "outputs": [
    {
     "data": {
      "text/plain": [
       "array([nan, 'KOR', 'MEX', 'ECU', 'CPV', 'AUS', 'CAN', 'NZL', 'ROU', 'GER',\n",
       "       'DEN', 'GBR', 'FRA', 'IRL', 'JPN', 'RSA', 'ITA', 'GUA', 'ESP',\n",
       "       'CHN', 'LAT', 'ARG', 'TUR', 'BRA', 'KEN', 'CRC', 'RUS', 'NED',\n",
       "       'USA', 'BIH', 'PHI', 'SUI', 'SRI', 'MAR', 'SWE', 'SVK', 'VEN',\n",
       "       'HUN', 'NEP', 'IND', 'PER', 'GEO', 'DOM', 'CMR', 'COL', 'NOR',\n",
       "       'TRI', 'AUT', 'KSA', 'TPE', 'HKG', 'ERI', 'SLO', 'PAR', 'CZE',\n",
       "       'ZIM', 'UKR', 'BEL', 'POR', 'MLT', 'MAS', 'FIN', 'ALG', 'IRI',\n",
       "       'NCA', 'ETH', 'ISR', 'ISL', 'CHI', 'ESA', 'BLR', 'SIN', 'HAI',\n",
       "       'POL', 'GUY', 'GRE', 'IRQ', 'BER', 'PAK', 'URU', 'UGA', 'CRO',\n",
       "       'PAN', 'BAR', 'LIB'], dtype=object)"
      ]
     },
     "execution_count": 21,
     "metadata": {},
     "output_type": "execute_result"
    }
   ],
   "source": [
    "df_clean['ctz'].unique()"
   ]
  },
  {
   "cell_type": "code",
   "execution_count": 22,
   "metadata": {},
   "outputs": [
    {
     "data": {
      "text/plain": [
       "array([nan, 'CA', 'ON', 'MI', 'QC', 'IL', 'OR', 'AZ', 'CO', 'VA', 'GA',\n",
       "       'NJ', 'ME', 'MA', 'UT', 'NY', 'MO', 'RI', 'NH', 'MT', 'KY', 'FL',\n",
       "       'TN', 'AB', 'WA', 'WI', 'DC', 'PA', 'OH', 'IN', 'NS', 'MD', 'IA',\n",
       "       'MN', 'CT', 'SD', 'TX', 'DE', 'LA', 'NC', 'OK', 'NV', 'AL', 'KS',\n",
       "       'NE', 'MB', 'HI', 'AK', 'NM', 'BC', 'VT', 'ID', 'SC', 'WV', 'PE',\n",
       "       'ND', 'MS', 'AR', 'SK', 'NT', 'PR', 'WY', 'NB', 'YT', 'NL', 'AE',\n",
       "       'AA', 'AP', 'GU'], dtype=object)"
      ]
     },
     "execution_count": 22,
     "metadata": {},
     "output_type": "execute_result"
    }
   ],
   "source": [
    "df_clean['state'].unique()"
   ]
  },
  {
   "cell_type": "code",
   "execution_count": 23,
   "metadata": {},
   "outputs": [],
   "source": [
    "df_clean['ctz'].fillna('unknown', inplace=True)"
   ]
  },
  {
   "cell_type": "code",
   "execution_count": 24,
   "metadata": {},
   "outputs": [],
   "source": [
    "df_clean['state'].fillna('unknown', inplace=True)"
   ]
  },
  {
   "cell_type": "code",
   "execution_count": 25,
   "metadata": {},
   "outputs": [
    {
     "data": {
      "text/plain": [
       "array(['unknown', 'KOR', 'MEX', 'ECU', 'CPV', 'AUS', 'CAN', 'NZL', 'ROU',\n",
       "       'GER', 'DEN', 'GBR', 'FRA', 'IRL', 'JPN', 'RSA', 'ITA', 'GUA',\n",
       "       'ESP', 'CHN', 'LAT', 'ARG', 'TUR', 'BRA', 'KEN', 'CRC', 'RUS',\n",
       "       'NED', 'USA', 'BIH', 'PHI', 'SUI', 'SRI', 'MAR', 'SWE', 'SVK',\n",
       "       'VEN', 'HUN', 'NEP', 'IND', 'PER', 'GEO', 'DOM', 'CMR', 'COL',\n",
       "       'NOR', 'TRI', 'AUT', 'KSA', 'TPE', 'HKG', 'ERI', 'SLO', 'PAR',\n",
       "       'CZE', 'ZIM', 'UKR', 'BEL', 'POR', 'MLT', 'MAS', 'FIN', 'ALG',\n",
       "       'IRI', 'NCA', 'ETH', 'ISR', 'ISL', 'CHI', 'ESA', 'BLR', 'SIN',\n",
       "       'HAI', 'POL', 'GUY', 'GRE', 'IRQ', 'BER', 'PAK', 'URU', 'UGA',\n",
       "       'CRO', 'PAN', 'BAR', 'LIB'], dtype=object)"
      ]
     },
     "execution_count": 25,
     "metadata": {},
     "output_type": "execute_result"
    }
   ],
   "source": [
    "df_clean['ctz'].unique()"
   ]
  },
  {
   "cell_type": "code",
   "execution_count": 26,
   "metadata": {},
   "outputs": [
    {
     "data": {
      "text/plain": [
       "array(['unknown', 'CA', 'ON', 'MI', 'QC', 'IL', 'OR', 'AZ', 'CO', 'VA',\n",
       "       'GA', 'NJ', 'ME', 'MA', 'UT', 'NY', 'MO', 'RI', 'NH', 'MT', 'KY',\n",
       "       'FL', 'TN', 'AB', 'WA', 'WI', 'DC', 'PA', 'OH', 'IN', 'NS', 'MD',\n",
       "       'IA', 'MN', 'CT', 'SD', 'TX', 'DE', 'LA', 'NC', 'OK', 'NV', 'AL',\n",
       "       'KS', 'NE', 'MB', 'HI', 'AK', 'NM', 'BC', 'VT', 'ID', 'SC', 'WV',\n",
       "       'PE', 'ND', 'MS', 'AR', 'SK', 'NT', 'PR', 'WY', 'NB', 'YT', 'NL',\n",
       "       'AE', 'AA', 'AP', 'GU'], dtype=object)"
      ]
     },
     "execution_count": 26,
     "metadata": {},
     "output_type": "execute_result"
    }
   ],
   "source": [
    "df_clean['state'].unique()"
   ]
  },
  {
   "cell_type": "code",
   "execution_count": 27,
   "metadata": {},
   "outputs": [
    {
     "name": "stdout",
     "output_type": "stream",
     "text": [
      "<class 'pandas.core.frame.DataFrame'>\n",
      "RangeIndex: 31984 entries, 0 to 31983\n",
      "Data columns (total 21 columns):\n",
      "10.0         31984 non-null float64\n",
      "name         31984 non-null object\n",
      "division     31984 non-null int64\n",
      "25.0         31984 non-null float64\n",
      "gender       31984 non-null object\n",
      "age          31984 non-null int64\n",
      "official     31984 non-null float64\n",
      "bib          31984 non-null object\n",
      "genderdiv    31984 non-null int64\n",
      "ctz          31984 non-null object\n",
      "35.0         31984 non-null float64\n",
      "overall      31984 non-null int64\n",
      "pace         31984 non-null float64\n",
      "state        31984 non-null object\n",
      "30.0         31984 non-null float64\n",
      "5.0          31984 non-null float64\n",
      "21.1         31984 non-null float64\n",
      "20.0         31984 non-null float64\n",
      "country      31984 non-null object\n",
      "city         31983 non-null object\n",
      "40.0         31984 non-null float64\n",
      "dtypes: float64(10), int64(4), object(7)\n",
      "memory usage: 5.1+ MB\n"
     ]
    }
   ],
   "source": [
    "df_clean.info()"
   ]
  },
  {
   "cell_type": "markdown",
   "metadata": {},
   "source": [
    "## Save the dataset\n",
    "Now that the dataset is clean and the missing values have been dealt with, I will save it to a SQL database."
   ]
  },
  {
   "cell_type": "code",
   "execution_count": 28,
   "metadata": {},
   "outputs": [],
   "source": [
    "# Create the database if it doesn't exist\n",
    "db_url = f\"postgresql+psycopg2://{usr}:{pwd}@{url}:{port}/{db}\"\n",
    "if database_exists(db_url):\n",
    "    pass\n",
    "else:\n",
    "    create_database(db_url)"
   ]
  },
  {
   "cell_type": "code",
   "execution_count": 29,
   "metadata": {},
   "outputs": [],
   "source": [
    "engine = create_engine(f\"postgresql+psycopg2://{usr}:{pwd}@{url}:{port}/{db}\")\n",
    "df_clean.to_sql(name=table, con=engine, index=False, if_exists='replace')\n",
    "engine.dispose()"
   ]
  }
 ],
 "metadata": {
  "kernelspec": {
   "display_name": "Python 3",
   "language": "python",
   "name": "python3"
  },
  "language_info": {
   "codemirror_mode": {
    "name": "ipython",
    "version": 3
   },
   "file_extension": ".py",
   "mimetype": "text/x-python",
   "name": "python",
   "nbconvert_exporter": "python",
   "pygments_lexer": "ipython3",
   "version": "3.6.7"
  }
 },
 "nbformat": 4,
 "nbformat_minor": 2
}
