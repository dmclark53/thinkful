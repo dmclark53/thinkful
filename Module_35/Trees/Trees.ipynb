{
 "cells": [
  {
   "cell_type": "markdown",
   "metadata": {},
   "source": [
    "# Trees\n",
    "**DRILL:** Implement a binary tree, which is filled with 15 pieces of random data. Your job is to then write a program to traverse the tree using a breadth first traversal. If you want additional practice, try other forms of traversal."
   ]
  },
  {
   "cell_type": "code",
   "execution_count": 1,
   "metadata": {},
   "outputs": [],
   "source": [
    "import numpy as np"
   ]
  },
  {
   "cell_type": "code",
   "execution_count": 2,
   "metadata": {},
   "outputs": [],
   "source": [
    "class Node:\n",
    "    def __init__(self):\n",
    "        self.value = None\n",
    "        self.left = None\n",
    "        self.right = None\n",
    "        \n",
    "    def get_value(self):\n",
    "        return self.value\n",
    "    \n",
    "    def get_left(self):\n",
    "        return self.left\n",
    "    \n",
    "    def get_right(self):\n",
    "        return self.right\n",
    "    \n",
    "    def set_value(self, value):\n",
    "        self.value = value\n",
    "        \n",
    "    def set_left(self, left_value):\n",
    "        self.left = left_value\n",
    "        \n",
    "    def set_right(self, right_value):\n",
    "        self.right = right_value"
   ]
  },
  {
   "cell_type": "code",
   "execution_count": 3,
   "metadata": {},
   "outputs": [],
   "source": [
    "class Tree:\n",
    "    def __init__(self):\n",
    "        self.tree = None\n",
    "    \n",
    "    def fill_tree(self, node, values, i):\n",
    "        \n",
    "        if i >= len(values):\n",
    "            return None\n",
    "        else:\n",
    "            node.set_value(values[i])\n",
    "            node.left = self.fill_tree(Node(), values, 2*i + 1)\n",
    "            node.right = self.fill_tree(Node(), values, 2*i + 2)\n",
    "            return node\n",
    "        \n",
    "    def breadth_first_traverse(self, node):\n",
    "        node_store = []\n",
    "        if node.get_value() is None:\n",
    "            return None\n",
    "        node_store.append(node)\n",
    "        while len(node_store) > 0:\n",
    "            current = node_store.pop(0)\n",
    "            print(current.get_value())\n",
    "            if current.left is not None:\n",
    "                node_store.append(current.left)\n",
    "            if current.right is not None:\n",
    "                node_store.append(current.right)"
   ]
  },
  {
   "cell_type": "code",
   "execution_count": 4,
   "metadata": {
    "scrolled": false
   },
   "outputs": [
    {
     "name": "stdout",
     "output_type": "stream",
     "text": [
      "24\n",
      "27\n",
      "29\n",
      "8\n",
      "40\n",
      "5\n",
      "43\n",
      "37\n",
      "7\n",
      "16\n",
      "45\n",
      "22\n",
      "37\n",
      "11\n",
      "15\n"
     ]
    }
   ],
   "source": [
    "my_values = np.random.randint(50, size=15)\n",
    "tree = Tree()\n",
    "filled_tree = tree.fill_tree(Node(), my_values, 0)\n",
    "tree.breadth_first_traverse(filled_tree)"
   ]
  },
  {
   "cell_type": "code",
   "execution_count": null,
   "metadata": {},
   "outputs": [],
   "source": []
  }
 ],
 "metadata": {
  "kernelspec": {
   "display_name": "Python 3",
   "language": "python",
   "name": "python3"
  },
  "language_info": {
   "codemirror_mode": {
    "name": "ipython",
    "version": 3
   },
   "file_extension": ".py",
   "mimetype": "text/x-python",
   "name": "python",
   "nbconvert_exporter": "python",
   "pygments_lexer": "ipython3",
   "version": "3.6.9"
  }
 },
 "nbformat": 4,
 "nbformat_minor": 2
}
