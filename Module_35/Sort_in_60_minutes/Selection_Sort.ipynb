{
 "cells": [
  {
   "cell_type": "markdown",
   "metadata": {},
   "source": [
    "# Selection Sort"
   ]
  },
  {
   "cell_type": "code",
   "execution_count": 50,
   "metadata": {},
   "outputs": [],
   "source": [
    "def selection_sort(in_list):\n",
    "    print(f'In list: {in_list}')\n",
    "    \n",
    "    # Start at the beginning of the list\n",
    "    max_index = 0\n",
    "    sorted_list = in_list\n",
    "    \n",
    "    # Set j equal to last index position in list\n",
    "    j = len(in_list) - 1\n",
    "    while j > 0:\n",
    "        \n",
    "        # Set initial maximum values to first index position in list\n",
    "        max_value = sorted_list[0]\n",
    "        max_index = 0\n",
    "        \n",
    "        # Loop until index is equal to index position j\n",
    "        for i in range(j):\n",
    "            # Keep track of maximum value and it's index position\n",
    "            if sorted_list[i+1] > max_value:\n",
    "                max_index = i + 1\n",
    "                max_value = sorted_list[i+1]\n",
    "        \n",
    "        # Swap value in index position j with maximum value\n",
    "        sorted_list[max_index] = sorted_list[j]\n",
    "        sorted_list[j] = max_value\n",
    "        \n",
    "        # Descrement j by 1, going to one less index position in list\n",
    "        j -= 1\n",
    "\n",
    "    # Stop while loop when j arrives at beginning of list\n",
    "    print(f'Sorted list: {sorted_list}')\n",
    "    return sorted_list"
   ]
  },
  {
   "cell_type": "code",
   "execution_count": 53,
   "metadata": {},
   "outputs": [],
   "source": [
    "my_list = [9, 8, 7, 6, 5, 4, 3, 2, 1, 0, -1, -2, -3, -4]"
   ]
  },
  {
   "cell_type": "code",
   "execution_count": 54,
   "metadata": {},
   "outputs": [
    {
     "name": "stdout",
     "output_type": "stream",
     "text": [
      "In list: [9, 8, 7, 6, 5, 4, 3, 2, 1, 0, -1, -2, -3, -4]\n",
      "Sorted list: [-4, -3, -2, -1, 0, 1, 2, 3, 4, 5, 6, 7, 8, 9]\n"
     ]
    }
   ],
   "source": [
    "sorted = selection_sort(my_list)"
   ]
  },
  {
   "cell_type": "code",
   "execution_count": null,
   "metadata": {},
   "outputs": [],
   "source": []
  }
 ],
 "metadata": {
  "kernelspec": {
   "display_name": "Python 3",
   "language": "python",
   "name": "python3"
  },
  "language_info": {
   "codemirror_mode": {
    "name": "ipython",
    "version": 3
   },
   "file_extension": ".py",
   "mimetype": "text/x-python",
   "name": "python",
   "nbconvert_exporter": "python",
   "pygments_lexer": "ipython3",
   "version": "3.6.7"
  }
 },
 "nbformat": 4,
 "nbformat_minor": 2
}
