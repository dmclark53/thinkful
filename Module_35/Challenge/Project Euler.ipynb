{
 "cells": [
  {
   "cell_type": "markdown",
   "metadata": {},
   "source": [
    "# Project Euler\n",
    "My solutions to the first 10 problems of [Project Euler](https://projecteuler.net/).\n",
    "## Multiples of 3 and 5"
   ]
  },
  {
   "cell_type": "code",
   "execution_count": 52,
   "metadata": {},
   "outputs": [],
   "source": [
    "import numpy as np"
   ]
  },
  {
   "cell_type": "code",
   "execution_count": 25,
   "metadata": {},
   "outputs": [],
   "source": [
    "def print_multiples(up_to):\n",
    "    total = 0\n",
    "    i = 1\n",
    "    while i < up_to:\n",
    "        if (i % 3 == 0) or (i % 5 == 0):\n",
    "            total += i\n",
    "        i += 1\n",
    "    print(total)"
   ]
  },
  {
   "cell_type": "code",
   "execution_count": 26,
   "metadata": {},
   "outputs": [
    {
     "name": "stdout",
     "output_type": "stream",
     "text": [
      "233168\n"
     ]
    }
   ],
   "source": [
    "print_multiples(1000)"
   ]
  },
  {
   "cell_type": "markdown",
   "metadata": {},
   "source": [
    "## Even Fibonacci numbers    "
   ]
  },
  {
   "cell_type": "code",
   "execution_count": 50,
   "metadata": {},
   "outputs": [],
   "source": [
    "def print_even_fibonacci(up_to):\n",
    "    fib_seq = np.array([1, 2])\n",
    "    total = 2\n",
    "    while fib_seq[-1] < up_to:\n",
    "        next_value = fib_seq[-2:].sum()\n",
    "        if next_value % 2 == 0:\n",
    "            total += next_value\n",
    "        fib_seq = np.append(fib_seq, next_value)\n",
    "    print(total)"
   ]
  },
  {
   "cell_type": "code",
   "execution_count": 51,
   "metadata": {},
   "outputs": [
    {
     "name": "stdout",
     "output_type": "stream",
     "text": [
      "4613732\n"
     ]
    }
   ],
   "source": [
    "print_even_fibonacci(4000000)"
   ]
  },
  {
   "cell_type": "markdown",
   "metadata": {},
   "source": [
    "## Largest prime factor"
   ]
  },
  {
   "cell_type": "code",
   "execution_count": 112,
   "metadata": {},
   "outputs": [],
   "source": [
    "def find_largest_prime_factor(num):\n",
    "    largest = 2\n",
    "\n",
    "#     while num % 2 == 0:\n",
    "#         num = num / 2\n",
    "        \n",
    "    for i in range(int(np.sqrt(num)) + 1, 3, -2):\n",
    "        \n",
    "        print(i)\n",
    "        \n",
    "        if num % i == 0:\n",
    "            print(i)\n",
    "            # largest = i\n",
    "            num = num / i\n",
    "            # break\n",
    "    \n",
    "    print(largest)"
   ]
  },
  {
   "cell_type": "code",
   "execution_count": 113,
   "metadata": {},
   "outputs": [
    {
     "name": "stdout",
     "output_type": "stream",
     "text": [
      "4\n",
      "2\n"
     ]
    }
   ],
   "source": [
    "# find_largest_prime_factor(600851475143)\n",
    "find_largest_prime_factor(10)"
   ]
  },
  {
   "cell_type": "code",
   "execution_count": null,
   "metadata": {},
   "outputs": [],
   "source": []
  }
 ],
 "metadata": {
  "kernelspec": {
   "display_name": "Python 3",
   "language": "python",
   "name": "python3"
  },
  "language_info": {
   "codemirror_mode": {
    "name": "ipython",
    "version": 3
   },
   "file_extension": ".py",
   "mimetype": "text/x-python",
   "name": "python",
   "nbconvert_exporter": "python",
   "pygments_lexer": "ipython3",
   "version": "3.6.9"
  }
 },
 "nbformat": 4,
 "nbformat_minor": 2
}
