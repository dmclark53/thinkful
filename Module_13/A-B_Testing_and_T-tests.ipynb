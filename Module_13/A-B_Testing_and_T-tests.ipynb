{
 "cells": [
  {
   "cell_type": "markdown",
   "metadata": {},
   "source": [
    "# A/B Testing and T-tests"
   ]
  },
  {
   "cell_type": "code",
   "execution_count": 1,
   "metadata": {},
   "outputs": [],
   "source": [
    "import numpy as np"
   ]
  },
  {
   "cell_type": "markdown",
   "metadata": {},
   "source": [
    "Assignment: Compute the T-statistic for the following parameters."
   ]
  },
  {
   "cell_type": "code",
   "execution_count": 2,
   "metadata": {},
   "outputs": [],
   "source": [
    "params={\n",
    "    'y_1': [5, 1090, 45],\n",
    "    'y_2': [8, 999, 40],\n",
    "    's_1': [1, 400, 45],\n",
    "    's_2': [3, 30, 40],\n",
    "    'N_1': [200, 30, 2000],\n",
    "    'N_2': [500, 100, 2000]\n",
    "}"
   ]
  },
  {
   "cell_type": "code",
   "execution_count": 19,
   "metadata": {},
   "outputs": [],
   "source": [
    "def compute_t_stat():\n",
    "    num_params = len(params[next(iter(params))])\n",
    "    for i in range(num_params):\n",
    "        diff = abs(params['y_1'][i] - params['y_2'][i])\n",
    "        var_1 = (params['s_1'][i]**2)/params['N_1'][i]\n",
    "        var_2 = (params['s_2'][i]**2)/params['N_2'][i]\n",
    "        t_stat = diff/(var_1 + var_2)**0.5\n",
    "        print(f'The t-statistic is {t_stat:.3f}.')"
   ]
  },
  {
   "cell_type": "code",
   "execution_count": 20,
   "metadata": {},
   "outputs": [
    {
     "name": "stdout",
     "output_type": "stream",
     "text": [
      "The t-statistic is 19.781.\n",
      "The t-statistic is 1.245.\n",
      "The t-statistic is 3.714.\n"
     ]
    }
   ],
   "source": [
    "compute_t_stat()"
   ]
  },
  {
   "cell_type": "code",
   "execution_count": null,
   "metadata": {},
   "outputs": [],
   "source": []
  }
 ],
 "metadata": {
  "kernelspec": {
   "display_name": "Python 3",
   "language": "python",
   "name": "python3"
  },
  "language_info": {
   "codemirror_mode": {
    "name": "ipython",
    "version": 3
   },
   "file_extension": ".py",
   "mimetype": "text/x-python",
   "name": "python",
   "nbconvert_exporter": "python",
   "pygments_lexer": "ipython3",
   "version": "3.6.8"
  }
 },
 "nbformat": 4,
 "nbformat_minor": 2
}
