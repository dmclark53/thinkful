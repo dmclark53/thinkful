{
 "cells": [
  {
   "cell_type": "markdown",
   "metadata": {},
   "source": [
    "# Predicting Freight Value in the US - Modeling\n",
    "In this project, I will investigate what factors affect the freight value for freight that is transported within the United States. I have taken a dataset from the [Bureau of Transportation Statistics](https://www.bts.gov), which is part of the [US Department of Transportation](https://www.transportation.gov). The dataset will only consider data for the year of 2017. Features in the dataset include: the mode of transportation, the origin and destination, the commodity type, the trade type, the weight, the value, and the distance traveled.\n",
    "\n",
    "In this notebook, I will develop the models to predit freight value. It will iclude data exploration and feature engineering."
   ]
  },
  {
   "cell_type": "code",
   "execution_count": 1,
   "metadata": {},
   "outputs": [
    {
     "name": "stderr",
     "output_type": "stream",
     "text": [
      "/Users/dave/anaconda3/envs/py_36/lib/python3.6/site-packages/tensorflow/python/framework/dtypes.py:526: FutureWarning: Passing (type, 1) or '1type' as a synonym of type is deprecated; in a future version of numpy, it will be understood as (type, (1,)) / '(1,)type'.\n",
      "  _np_qint8 = np.dtype([(\"qint8\", np.int8, 1)])\n",
      "/Users/dave/anaconda3/envs/py_36/lib/python3.6/site-packages/tensorflow/python/framework/dtypes.py:527: FutureWarning: Passing (type, 1) or '1type' as a synonym of type is deprecated; in a future version of numpy, it will be understood as (type, (1,)) / '(1,)type'.\n",
      "  _np_quint8 = np.dtype([(\"quint8\", np.uint8, 1)])\n",
      "/Users/dave/anaconda3/envs/py_36/lib/python3.6/site-packages/tensorflow/python/framework/dtypes.py:528: FutureWarning: Passing (type, 1) or '1type' as a synonym of type is deprecated; in a future version of numpy, it will be understood as (type, (1,)) / '(1,)type'.\n",
      "  _np_qint16 = np.dtype([(\"qint16\", np.int16, 1)])\n",
      "/Users/dave/anaconda3/envs/py_36/lib/python3.6/site-packages/tensorflow/python/framework/dtypes.py:529: FutureWarning: Passing (type, 1) or '1type' as a synonym of type is deprecated; in a future version of numpy, it will be understood as (type, (1,)) / '(1,)type'.\n",
      "  _np_quint16 = np.dtype([(\"quint16\", np.uint16, 1)])\n",
      "/Users/dave/anaconda3/envs/py_36/lib/python3.6/site-packages/tensorflow/python/framework/dtypes.py:530: FutureWarning: Passing (type, 1) or '1type' as a synonym of type is deprecated; in a future version of numpy, it will be understood as (type, (1,)) / '(1,)type'.\n",
      "  _np_qint32 = np.dtype([(\"qint32\", np.int32, 1)])\n",
      "/Users/dave/anaconda3/envs/py_36/lib/python3.6/site-packages/tensorflow/python/framework/dtypes.py:535: FutureWarning: Passing (type, 1) or '1type' as a synonym of type is deprecated; in a future version of numpy, it will be understood as (type, (1,)) / '(1,)type'.\n",
      "  np_resource = np.dtype([(\"resource\", np.ubyte, 1)])\n"
     ]
    }
   ],
   "source": [
    "from imblearn.over_sampling import SMOTE\n",
    "import matplotlib.pyplot as plt\n",
    "import numpy as np\n",
    "import pandas as pd\n",
    "from sklearn import datasets\n",
    "from sklearn.utils import shuffle\n",
    "from sklearn.model_selection import train_test_split\n",
    "import seaborn as sns\n",
    "from sqlalchemy import create_engine\n",
    "import time\n",
    "import warnings\n",
    "warnings.filterwarnings('ignore')\n",
    "\n",
    "import helpers as hp\n",
    "from config import usr, pwd, url, port, db, table\n",
    "\n",
    "%matplotlib inline"
   ]
  },
  {
   "cell_type": "markdown",
   "metadata": {},
   "source": [
    "## Load Dataset\n",
    "Load the cleaned dataset from the SQL database."
   ]
  },
  {
   "cell_type": "code",
   "execution_count": 2,
   "metadata": {},
   "outputs": [],
   "source": [
    "engine = create_engine(f\"postgresql+psycopg2://{usr}:{pwd}@{url}:{port}/{db}\")"
   ]
  },
  {
   "cell_type": "code",
   "execution_count": 3,
   "metadata": {},
   "outputs": [],
   "source": [
    "query = f'''\n",
    "SELECT\n",
    "    *\n",
    "FROM\n",
    "    {table};\n",
    "'''"
   ]
  },
  {
   "cell_type": "code",
   "execution_count": 4,
   "metadata": {},
   "outputs": [],
   "source": [
    "df = pd.read_sql_query(query, con=engine)"
   ]
  },
  {
   "cell_type": "code",
   "execution_count": 5,
   "metadata": {},
   "outputs": [],
   "source": [
    "engine.dispose()"
   ]
  },
  {
   "cell_type": "markdown",
   "metadata": {},
   "source": [
    "Copy cleaned dataset to a new `DataFrame`, which will be transformed and used for modeling."
   ]
  },
  {
   "cell_type": "code",
   "execution_count": 6,
   "metadata": {},
   "outputs": [],
   "source": [
    "df_model = df.copy()"
   ]
  },
  {
   "cell_type": "markdown",
   "metadata": {},
   "source": [
    "## Create Target Variable\n",
    "I will define the target variable as value divided by tons. This way I will have a normalized measure of value which I can use to compare across transporation mode, trade type, and commodity type."
   ]
  },
  {
   "cell_type": "code",
   "execution_count": 7,
   "metadata": {},
   "outputs": [
    {
     "data": {
      "text/html": [
       "<div>\n",
       "<style scoped>\n",
       "    .dataframe tbody tr th:only-of-type {\n",
       "        vertical-align: middle;\n",
       "    }\n",
       "\n",
       "    .dataframe tbody tr th {\n",
       "        vertical-align: top;\n",
       "    }\n",
       "\n",
       "    .dataframe thead th {\n",
       "        text-align: right;\n",
       "    }\n",
       "</style>\n",
       "<table border=\"1\" class=\"dataframe\">\n",
       "  <thead>\n",
       "    <tr style=\"text-align: right;\">\n",
       "      <th></th>\n",
       "      <th>count</th>\n",
       "      <th>mean</th>\n",
       "      <th>std</th>\n",
       "      <th>min</th>\n",
       "      <th>25%</th>\n",
       "      <th>50%</th>\n",
       "      <th>75%</th>\n",
       "      <th>max</th>\n",
       "    </tr>\n",
       "  </thead>\n",
       "  <tbody>\n",
       "    <tr>\n",
       "      <td>value_2017</td>\n",
       "      <td>1814034.0</td>\n",
       "      <td>10.113904</td>\n",
       "      <td>192.679806</td>\n",
       "      <td>0.0</td>\n",
       "      <td>0.0046</td>\n",
       "      <td>0.0583</td>\n",
       "      <td>0.8082</td>\n",
       "      <td>70962.5892</td>\n",
       "    </tr>\n",
       "    <tr>\n",
       "      <td>tons_2017</td>\n",
       "      <td>1814034.0</td>\n",
       "      <td>9.825770</td>\n",
       "      <td>332.737854</td>\n",
       "      <td>0.0</td>\n",
       "      <td>0.0003</td>\n",
       "      <td>0.0075</td>\n",
       "      <td>0.1362</td>\n",
       "      <td>105266.0771</td>\n",
       "    </tr>\n",
       "  </tbody>\n",
       "</table>\n",
       "</div>"
      ],
      "text/plain": [
       "                count       mean         std  min     25%     50%     75%  \\\n",
       "value_2017  1814034.0  10.113904  192.679806  0.0  0.0046  0.0583  0.8082   \n",
       "tons_2017   1814034.0   9.825770  332.737854  0.0  0.0003  0.0075  0.1362   \n",
       "\n",
       "                    max  \n",
       "value_2017   70962.5892  \n",
       "tons_2017   105266.0771  "
      ]
     },
     "execution_count": 7,
     "metadata": {},
     "output_type": "execute_result"
    }
   ],
   "source": [
    "df_model.loc[:, ['value_2017', 'tons_2017']].describe().T"
   ]
  },
  {
   "cell_type": "markdown",
   "metadata": {},
   "source": [
    "**Observations:** Since the minimum value for _tons\\__2017_ is 0, this could lead to divideb-by-zero errors when I create the target variable. To avoid this error, I will add 1 to all values of _tons\\__2017_ before doing the division. Because the largest values are much greater than 1, this will not affect the target variable."
   ]
  },
  {
   "cell_type": "code",
   "execution_count": 8,
   "metadata": {},
   "outputs": [],
   "source": [
    "df_model['value_tons'] = df_model['value_2017'] / (df_model['tons_2017'] + 1)\n",
    "target_var = 'value_tons'"
   ]
  },
  {
   "cell_type": "code",
   "execution_count": 9,
   "metadata": {},
   "outputs": [
    {
     "data": {
      "text/html": [
       "<div>\n",
       "<style scoped>\n",
       "    .dataframe tbody tr th:only-of-type {\n",
       "        vertical-align: middle;\n",
       "    }\n",
       "\n",
       "    .dataframe tbody tr th {\n",
       "        vertical-align: top;\n",
       "    }\n",
       "\n",
       "    .dataframe thead th {\n",
       "        text-align: right;\n",
       "    }\n",
       "</style>\n",
       "<table border=\"1\" class=\"dataframe\">\n",
       "  <thead>\n",
       "    <tr style=\"text-align: right;\">\n",
       "      <th></th>\n",
       "      <th>count</th>\n",
       "      <th>mean</th>\n",
       "      <th>std</th>\n",
       "      <th>min</th>\n",
       "      <th>25%</th>\n",
       "      <th>50%</th>\n",
       "      <th>75%</th>\n",
       "      <th>max</th>\n",
       "    </tr>\n",
       "  </thead>\n",
       "  <tbody>\n",
       "    <tr>\n",
       "      <td>value_2017</td>\n",
       "      <td>1814034.0</td>\n",
       "      <td>10.113904</td>\n",
       "      <td>192.679806</td>\n",
       "      <td>0.0</td>\n",
       "      <td>0.004600</td>\n",
       "      <td>0.058300</td>\n",
       "      <td>0.808200</td>\n",
       "      <td>70962.589200</td>\n",
       "    </tr>\n",
       "    <tr>\n",
       "      <td>tons_2017</td>\n",
       "      <td>1814034.0</td>\n",
       "      <td>9.825770</td>\n",
       "      <td>332.737854</td>\n",
       "      <td>0.0</td>\n",
       "      <td>0.000300</td>\n",
       "      <td>0.007500</td>\n",
       "      <td>0.136200</td>\n",
       "      <td>105266.077100</td>\n",
       "    </tr>\n",
       "    <tr>\n",
       "      <td>value_tons</td>\n",
       "      <td>1814034.0</td>\n",
       "      <td>1.441097</td>\n",
       "      <td>12.224680</td>\n",
       "      <td>0.0</td>\n",
       "      <td>0.004594</td>\n",
       "      <td>0.054846</td>\n",
       "      <td>0.538893</td>\n",
       "      <td>3625.976734</td>\n",
       "    </tr>\n",
       "  </tbody>\n",
       "</table>\n",
       "</div>"
      ],
      "text/plain": [
       "                count       mean         std  min       25%       50%  \\\n",
       "value_2017  1814034.0  10.113904  192.679806  0.0  0.004600  0.058300   \n",
       "tons_2017   1814034.0   9.825770  332.737854  0.0  0.000300  0.007500   \n",
       "value_tons  1814034.0   1.441097   12.224680  0.0  0.004594  0.054846   \n",
       "\n",
       "                 75%            max  \n",
       "value_2017  0.808200   70962.589200  \n",
       "tons_2017   0.136200  105266.077100  \n",
       "value_tons  0.538893    3625.976734  "
      ]
     },
     "execution_count": 9,
     "metadata": {},
     "output_type": "execute_result"
    }
   ],
   "source": [
    "df_model.loc[:, ['value_2017', 'tons_2017', 'value_tons']].describe().T"
   ]
  },
  {
   "cell_type": "markdown",
   "metadata": {},
   "source": [
    "## Split Variable Types\n",
    "As I did in the data cleaning stage, I will create two list for both the continuous and categorical variables. During the data exploration and feature engineering stages, I will consider each variable type separately."
   ]
  },
  {
   "cell_type": "code",
   "execution_count": 10,
   "metadata": {},
   "outputs": [],
   "source": [
    "continuous = []\n",
    "categorical = []\n",
    "for column in df_model.columns:\n",
    "    if len(df_model[column].unique()) < 140:\n",
    "        categorical.append(column)\n",
    "    else:\n",
    "        continuous.append(column)"
   ]
  },
  {
   "cell_type": "markdown",
   "metadata": {},
   "source": [
    "## Continuous Variable Distributions\n",
    "I will create box plots of the continuous variables to visual explore their distributions."
   ]
  },
  {
   "cell_type": "code",
   "execution_count": 11,
   "metadata": {},
   "outputs": [
    {
     "data": {
      "image/png": "[encoded data removed]",
      "text/plain": [
       "<Figure size 1008x432 with 1 Axes>"
      ]
     },
     "metadata": {
      "needs_background": "light"
     },
     "output_type": "display_data"
    }
   ],
   "source": [
    "hp.create_boxplots(df_model, continuous)"
   ]
  },
  {
   "cell_type": "markdown",
   "metadata": {},
   "source": [
    "There is a large spread in values for each variable. Let's look at these plots in log space."
   ]
  },
  {
   "cell_type": "code",
   "execution_count": 12,
   "metadata": {},
   "outputs": [
    {
     "data": {
      "image/png": "[encoded data removed]",
      "text/plain": [
       "<Figure size 1008x432 with 1 Axes>"
      ]
     },
     "metadata": {
      "needs_background": "light"
     },
     "output_type": "display_data"
    }
   ],
   "source": [
    "hp.create_boxplots(df_model, continuous, log_scale=True)"
   ]
  },
  {
   "cell_type": "markdown",
   "metadata": {},
   "source": [
    "There is still a large spread in values. This is further evident if we divide the data into percentiles by tenths and view statistics on the dataset."
   ]
  },
  {
   "cell_type": "code",
   "execution_count": 13,
   "metadata": {},
   "outputs": [
    {
     "data": {
      "text/html": [
       "<div>\n",
       "<style scoped>\n",
       "    .dataframe tbody tr th:only-of-type {\n",
       "        vertical-align: middle;\n",
       "    }\n",
       "\n",
       "    .dataframe tbody tr th {\n",
       "        vertical-align: top;\n",
       "    }\n",
       "\n",
       "    .dataframe thead th {\n",
       "        text-align: right;\n",
       "    }\n",
       "</style>\n",
       "<table border=\"1\" class=\"dataframe\">\n",
       "  <thead>\n",
       "    <tr style=\"text-align: right;\">\n",
       "      <th></th>\n",
       "      <th>count</th>\n",
       "      <th>mean</th>\n",
       "      <th>std</th>\n",
       "      <th>min</th>\n",
       "      <th>0%</th>\n",
       "      <th>10%</th>\n",
       "      <th>20%</th>\n",
       "      <th>30%</th>\n",
       "      <th>40%</th>\n",
       "      <th>50%</th>\n",
       "      <th>60%</th>\n",
       "      <th>70%</th>\n",
       "      <th>80%</th>\n",
       "      <th>90%</th>\n",
       "      <th>max</th>\n",
       "    </tr>\n",
       "  </thead>\n",
       "  <tbody>\n",
       "    <tr>\n",
       "      <td>tons_2017</td>\n",
       "      <td>1814034.0</td>\n",
       "      <td>9.825770</td>\n",
       "      <td>332.737854</td>\n",
       "      <td>0.0</td>\n",
       "      <td>0.0</td>\n",
       "      <td>0.00000</td>\n",
       "      <td>0.000100</td>\n",
       "      <td>0.000600</td>\n",
       "      <td>0.002200</td>\n",
       "      <td>0.007500</td>\n",
       "      <td>0.027400</td>\n",
       "      <td>0.087500</td>\n",
       "      <td>0.224500</td>\n",
       "      <td>1.328600</td>\n",
       "      <td>105266.077100</td>\n",
       "    </tr>\n",
       "    <tr>\n",
       "      <td>value_2017</td>\n",
       "      <td>1814034.0</td>\n",
       "      <td>10.113904</td>\n",
       "      <td>192.679806</td>\n",
       "      <td>0.0</td>\n",
       "      <td>0.0</td>\n",
       "      <td>0.00070</td>\n",
       "      <td>0.002700</td>\n",
       "      <td>0.007700</td>\n",
       "      <td>0.021100</td>\n",
       "      <td>0.058300</td>\n",
       "      <td>0.168300</td>\n",
       "      <td>0.440600</td>\n",
       "      <td>1.438800</td>\n",
       "      <td>6.729870</td>\n",
       "      <td>70962.589200</td>\n",
       "    </tr>\n",
       "    <tr>\n",
       "      <td>tmiles_2017</td>\n",
       "      <td>1814034.0</td>\n",
       "      <td>2.802205</td>\n",
       "      <td>95.892118</td>\n",
       "      <td>0.0</td>\n",
       "      <td>0.0</td>\n",
       "      <td>0.00000</td>\n",
       "      <td>0.000100</td>\n",
       "      <td>0.000400</td>\n",
       "      <td>0.001600</td>\n",
       "      <td>0.005800</td>\n",
       "      <td>0.020700</td>\n",
       "      <td>0.068500</td>\n",
       "      <td>0.206000</td>\n",
       "      <td>0.991100</td>\n",
       "      <td>43088.903000</td>\n",
       "    </tr>\n",
       "    <tr>\n",
       "      <td>curval_2017</td>\n",
       "      <td>1814034.0</td>\n",
       "      <td>9.647496</td>\n",
       "      <td>157.742041</td>\n",
       "      <td>0.0</td>\n",
       "      <td>0.0</td>\n",
       "      <td>0.00070</td>\n",
       "      <td>0.002700</td>\n",
       "      <td>0.007800</td>\n",
       "      <td>0.021300</td>\n",
       "      <td>0.059000</td>\n",
       "      <td>0.170400</td>\n",
       "      <td>0.447010</td>\n",
       "      <td>1.454900</td>\n",
       "      <td>6.794500</td>\n",
       "      <td>52077.219800</td>\n",
       "    </tr>\n",
       "    <tr>\n",
       "      <td>wgt_dist</td>\n",
       "      <td>1814034.0</td>\n",
       "      <td>1089.400935</td>\n",
       "      <td>879.965088</td>\n",
       "      <td>0.0</td>\n",
       "      <td>0.0</td>\n",
       "      <td>187.66154</td>\n",
       "      <td>330.188700</td>\n",
       "      <td>500.000000</td>\n",
       "      <td>680.000000</td>\n",
       "      <td>888.234550</td>\n",
       "      <td>1014.416800</td>\n",
       "      <td>1333.333300</td>\n",
       "      <td>1800.000000</td>\n",
       "      <td>2410.207700</td>\n",
       "      <td>9970.000000</td>\n",
       "    </tr>\n",
       "    <tr>\n",
       "      <td>value_tons</td>\n",
       "      <td>1814034.0</td>\n",
       "      <td>1.441097</td>\n",
       "      <td>12.224680</td>\n",
       "      <td>0.0</td>\n",
       "      <td>0.0</td>\n",
       "      <td>0.00070</td>\n",
       "      <td>0.002693</td>\n",
       "      <td>0.007656</td>\n",
       "      <td>0.020562</td>\n",
       "      <td>0.054846</td>\n",
       "      <td>0.147147</td>\n",
       "      <td>0.331724</td>\n",
       "      <td>0.831551</td>\n",
       "      <td>2.343597</td>\n",
       "      <td>3625.976734</td>\n",
       "    </tr>\n",
       "  </tbody>\n",
       "</table>\n",
       "</div>"
      ],
      "text/plain": [
       "                 count         mean         std  min   0%        10%  \\\n",
       "tons_2017    1814034.0     9.825770  332.737854  0.0  0.0    0.00000   \n",
       "value_2017   1814034.0    10.113904  192.679806  0.0  0.0    0.00070   \n",
       "tmiles_2017  1814034.0     2.802205   95.892118  0.0  0.0    0.00000   \n",
       "curval_2017  1814034.0     9.647496  157.742041  0.0  0.0    0.00070   \n",
       "wgt_dist     1814034.0  1089.400935  879.965088  0.0  0.0  187.66154   \n",
       "value_tons   1814034.0     1.441097   12.224680  0.0  0.0    0.00070   \n",
       "\n",
       "                    20%         30%         40%         50%          60%  \\\n",
       "tons_2017      0.000100    0.000600    0.002200    0.007500     0.027400   \n",
       "value_2017     0.002700    0.007700    0.021100    0.058300     0.168300   \n",
       "tmiles_2017    0.000100    0.000400    0.001600    0.005800     0.020700   \n",
       "curval_2017    0.002700    0.007800    0.021300    0.059000     0.170400   \n",
       "wgt_dist     330.188700  500.000000  680.000000  888.234550  1014.416800   \n",
       "value_tons     0.002693    0.007656    0.020562    0.054846     0.147147   \n",
       "\n",
       "                     70%          80%          90%            max  \n",
       "tons_2017       0.087500     0.224500     1.328600  105266.077100  \n",
       "value_2017      0.440600     1.438800     6.729870   70962.589200  \n",
       "tmiles_2017     0.068500     0.206000     0.991100   43088.903000  \n",
       "curval_2017     0.447010     1.454900     6.794500   52077.219800  \n",
       "wgt_dist     1333.333300  1800.000000  2410.207700    9970.000000  \n",
       "value_tons      0.331724     0.831551     2.343597    3625.976734  "
      ]
     },
     "execution_count": 13,
     "metadata": {},
     "output_type": "execute_result"
    }
   ],
   "source": [
    "df_model.loc[:, continuous].describe(percentiles=[0,0.1, 0.2, 0.3, 0.4, 0.5, 0.6, 0.7, 0.8, 0.9]).T"
   ]
  },
  {
   "cell_type": "markdown",
   "metadata": {},
   "source": [
    "Except for _wgt\\__dist_, almost 90% of the data have values less than 10, while the remainder of values go up to over 10,000. This is a highly skewed dataset with lots of outliers.\n",
    "\n",
    "To address this skewness, I will first correct for outliers using the Tukey method and see how that improves the distributions.\n",
    "\n",
    "## Outliers"
   ]
  },
  {
   "cell_type": "code",
   "execution_count": 14,
   "metadata": {},
   "outputs": [
    {
     "data": {
      "image/png": "[encoded data removed]",
      "text/plain": [
       "<Figure size 1008x432 with 1 Axes>"
      ]
     },
     "metadata": {
      "needs_background": "light"
     },
     "output_type": "display_data"
    }
   ],
   "source": [
    "tukeyed = [f'{x}_tk' for x in continuous]\n",
    "hp.correct_outliers(df_model, continuous)\n",
    "hp.create_boxplots(df_model, tukeyed, log_scale=True)"
   ]
  },
  {
   "cell_type": "markdown",
   "metadata": {},
   "source": [
    "Great, a lot of outliers are gone. But, the distributions still appear quite skewed. I will apply a log transformation followed by a normalization transformation and see if that reduces the skewness further.\n",
    "\n",
    "## Log transformation"
   ]
  },
  {
   "cell_type": "code",
   "execution_count": 15,
   "metadata": {},
   "outputs": [
    {
     "data": {
      "image/png": "[encoded data removed]",
      "text/plain": [
       "<Figure size 1008x432 with 1 Axes>"
      ]
     },
     "metadata": {
      "needs_background": "light"
     },
     "output_type": "display_data"
    }
   ],
   "source": [
    "logged = [f'{x}_log' for x in tukeyed]\n",
    "hp.apply_transform(df_model, tukeyed, 'log')\n",
    "hp.create_boxplots(df_model, logged)"
   ]
  },
  {
   "cell_type": "markdown",
   "metadata": {},
   "source": [
    "## Normalized Log Transformation"
   ]
  },
  {
   "cell_type": "code",
   "execution_count": 16,
   "metadata": {},
   "outputs": [
    {
     "data": {
      "image/png": "[encoded data removed]",
      "text/plain": [
       "<Figure size 1008x432 with 1 Axes>"
      ]
     },
     "metadata": {
      "needs_background": "light"
     },
     "output_type": "display_data"
    }
   ],
   "source": [
    "normalized_log = [f'{x}_nm' for x in logged]\n",
    "hp.apply_transform(df_model, logged, 'normalize')\n",
    "hp.create_boxplots(df_model, normalized_log)"
   ]
  },
  {
   "cell_type": "markdown",
   "metadata": {},
   "source": [
    "## Box-Cox Transformation"
   ]
  },
  {
   "cell_type": "code",
   "execution_count": 17,
   "metadata": {},
   "outputs": [
    {
     "data": {
      "image/png": "[encoded data removed]",
      "text/plain": [
       "<Figure size 1008x432 with 1 Axes>"
      ]
     },
     "metadata": {
      "needs_background": "light"
     },
     "output_type": "display_data"
    }
   ],
   "source": [
    "boxcoxed = [f'{x}_bc' for x in tukeyed]\n",
    "hp.apply_transform(df_model, tukeyed, 'boxcox')\n",
    "hp.create_boxplots(df_model, boxcoxed)"
   ]
  },
  {
   "cell_type": "markdown",
   "metadata": {},
   "source": [
    "## Normalized Box-Cox Transformation\n",
    "Now, I will convert the Box-Coxed transformed variables into values that range from 0 to 1, putting all variables on the same scale."
   ]
  },
  {
   "cell_type": "code",
   "execution_count": 18,
   "metadata": {
    "scrolled": false
   },
   "outputs": [
    {
     "data": {
      "image/png": "[encoded data removed]",
      "text/plain": [
       "<Figure size 1008x432 with 1 Axes>"
      ]
     },
     "metadata": {
      "needs_background": "light"
     },
     "output_type": "display_data"
    }
   ],
   "source": [
    "normalized_bc = [f'{x}_nm' for x in boxcoxed]\n",
    "hp.apply_transform(df_model, boxcoxed, 'normalize')\n",
    "hp.create_boxplots(df_model, normalized_bc)"
   ]
  },
  {
   "cell_type": "markdown",
   "metadata": {},
   "source": [
    "## Evaluate Transformation Methods\n",
    "I will now compare the Box-Cox transformation and the log transformation be performing a normality test for each method. "
   ]
  },
  {
   "cell_type": "code",
   "execution_count": 19,
   "metadata": {},
   "outputs": [
    {
     "name": "stdout",
     "output_type": "stream",
     "text": [
      "Log:\n",
      "Normal test results:\n",
      "* tons_2017_tk_log_nm: normal_stat = 281258.282, p-value = 0.0000.\n",
      "* value_2017_tk_log_nm: normal_stat = 298147.480, p-value = 0.0000.\n",
      "* tmiles_2017_tk_log_nm: normal_stat = 285941.901, p-value = 0.0000.\n",
      "* curval_2017_tk_log_nm: normal_stat = 299558.533, p-value = 0.0000.\n",
      "* wgt_dist_tk_log_nm: normal_stat = 324405.918, p-value = 0.0000.\n",
      "* value_tons_tk_log_nm: normal_stat = 273970.269, p-value = 0.0000.\n"
     ]
    }
   ],
   "source": [
    "print('Log:')\n",
    "hp.check_for_normality(df_model, normalized_log)"
   ]
  },
  {
   "cell_type": "code",
   "execution_count": 20,
   "metadata": {},
   "outputs": [
    {
     "name": "stdout",
     "output_type": "stream",
     "text": [
      "Box-Cox:\n",
      "Normal test results:\n",
      "* tons_2017_tk_bc_nm: normal_stat = 2464662.146, p-value = 0.0000.\n",
      "* value_2017_tk_bc_nm: normal_stat = 11837418.830, p-value = 0.0000.\n",
      "* tmiles_2017_tk_bc_nm: normal_stat = 1589486.803, p-value = 0.0000.\n",
      "* curval_2017_tk_bc_nm: normal_stat = 13667275.499, p-value = 0.0000.\n",
      "* wgt_dist_tk_bc_nm: normal_stat = 56541.314, p-value = 0.0000.\n",
      "* value_tons_tk_bc_nm: normal_stat = 50492923.923, p-value = 0.0000.\n"
     ]
    }
   ],
   "source": [
    "print('Box-Cox:')\n",
    "hp.check_for_normality(df_model, normalized_bc)"
   ]
  },
  {
   "cell_type": "markdown",
   "metadata": {},
   "source": [
    "Neither transformation produces normal distributions. They still remain highly skewed. For the moment, I will model the data still including this skewness. Afterwards, I will address this skewness using a different method.\n",
    "\n",
    "## Correlations\n",
    "Look for correlated features and remove them. But first, separate target variable from features."
   ]
  },
  {
   "cell_type": "code",
   "execution_count": 21,
   "metadata": {},
   "outputs": [],
   "source": [
    "continuous_features = [x for x in normalized_bc if target_var not in x]\n",
    "target_var = [x for x in normalized_bc if target_var in x][0]"
   ]
  },
  {
   "cell_type": "code",
   "execution_count": 22,
   "metadata": {},
   "outputs": [
    {
     "data": {
      "text/html": [
       "<div>\n",
       "<style scoped>\n",
       "    .dataframe tbody tr th:only-of-type {\n",
       "        vertical-align: middle;\n",
       "    }\n",
       "\n",
       "    .dataframe tbody tr th {\n",
       "        vertical-align: top;\n",
       "    }\n",
       "\n",
       "    .dataframe thead th {\n",
       "        text-align: right;\n",
       "    }\n",
       "</style>\n",
       "<table border=\"1\" class=\"dataframe\">\n",
       "  <thead>\n",
       "    <tr style=\"text-align: right;\">\n",
       "      <th></th>\n",
       "      <th>tons_2017_tk_bc_nm</th>\n",
       "      <th>value_2017_tk_bc_nm</th>\n",
       "      <th>tmiles_2017_tk_bc_nm</th>\n",
       "      <th>curval_2017_tk_bc_nm</th>\n",
       "      <th>wgt_dist_tk_bc_nm</th>\n",
       "    </tr>\n",
       "  </thead>\n",
       "  <tbody>\n",
       "    <tr>\n",
       "      <td>tons_2017_tk_bc_nm</td>\n",
       "      <td>1.000000</td>\n",
       "      <td>0.809843</td>\n",
       "      <td>0.938822</td>\n",
       "      <td>0.806851</td>\n",
       "      <td>-0.073778</td>\n",
       "    </tr>\n",
       "    <tr>\n",
       "      <td>value_2017_tk_bc_nm</td>\n",
       "      <td>0.809843</td>\n",
       "      <td>1.000000</td>\n",
       "      <td>0.758585</td>\n",
       "      <td>0.999178</td>\n",
       "      <td>-0.088436</td>\n",
       "    </tr>\n",
       "    <tr>\n",
       "      <td>tmiles_2017_tk_bc_nm</td>\n",
       "      <td>0.938822</td>\n",
       "      <td>0.758585</td>\n",
       "      <td>1.000000</td>\n",
       "      <td>0.756216</td>\n",
       "      <td>0.130923</td>\n",
       "    </tr>\n",
       "    <tr>\n",
       "      <td>curval_2017_tk_bc_nm</td>\n",
       "      <td>0.806851</td>\n",
       "      <td>0.999178</td>\n",
       "      <td>0.756216</td>\n",
       "      <td>1.000000</td>\n",
       "      <td>-0.087569</td>\n",
       "    </tr>\n",
       "    <tr>\n",
       "      <td>wgt_dist_tk_bc_nm</td>\n",
       "      <td>-0.073778</td>\n",
       "      <td>-0.088436</td>\n",
       "      <td>0.130923</td>\n",
       "      <td>-0.087569</td>\n",
       "      <td>1.000000</td>\n",
       "    </tr>\n",
       "  </tbody>\n",
       "</table>\n",
       "</div>"
      ],
      "text/plain": [
       "                      tons_2017_tk_bc_nm  value_2017_tk_bc_nm  \\\n",
       "tons_2017_tk_bc_nm              1.000000             0.809843   \n",
       "value_2017_tk_bc_nm             0.809843             1.000000   \n",
       "tmiles_2017_tk_bc_nm            0.938822             0.758585   \n",
       "curval_2017_tk_bc_nm            0.806851             0.999178   \n",
       "wgt_dist_tk_bc_nm              -0.073778            -0.088436   \n",
       "\n",
       "                      tmiles_2017_tk_bc_nm  curval_2017_tk_bc_nm  \\\n",
       "tons_2017_tk_bc_nm                0.938822              0.806851   \n",
       "value_2017_tk_bc_nm               0.758585              0.999178   \n",
       "tmiles_2017_tk_bc_nm              1.000000              0.756216   \n",
       "curval_2017_tk_bc_nm              0.756216              1.000000   \n",
       "wgt_dist_tk_bc_nm                 0.130923             -0.087569   \n",
       "\n",
       "                      wgt_dist_tk_bc_nm  \n",
       "tons_2017_tk_bc_nm            -0.073778  \n",
       "value_2017_tk_bc_nm           -0.088436  \n",
       "tmiles_2017_tk_bc_nm           0.130923  \n",
       "curval_2017_tk_bc_nm          -0.087569  \n",
       "wgt_dist_tk_bc_nm              1.000000  "
      ]
     },
     "execution_count": 22,
     "metadata": {},
     "output_type": "execute_result"
    }
   ],
   "source": [
    "df_model.loc[:, continuous_features].corr()"
   ]
  },
  {
   "cell_type": "code",
   "execution_count": 23,
   "metadata": {},
   "outputs": [
    {
     "data": {
      "image/png": "[encoded data removed]",
      "text/plain": [
       "<Figure size 504x360 with 2 Axes>"
      ]
     },
     "metadata": {
      "needs_background": "light"
     },
     "output_type": "display_data"
    }
   ],
   "source": [
    "f, axes = plt.subplots(1, 1, figsize=(7, 5))\n",
    "sns.heatmap(df_model.loc[:, continuous_features].corr(), ax=axes)\n",
    "plt.show()"
   ]
  },
  {
   "cell_type": "markdown",
   "metadata": {},
   "source": [
    "**Observations:** There are high correlations between the 'tons' and 'value' features. Since these variables are already described by the target variable, I will remove them."
   ]
  },
  {
   "cell_type": "code",
   "execution_count": 24,
   "metadata": {},
   "outputs": [],
   "source": [
    "uncorrelated_features = ['tmiles_2017_tk_bc_nm', 'curval_2017_tk_bc_nm', 'wgt_dist_tk_bc_nm']"
   ]
  },
  {
   "cell_type": "code",
   "execution_count": 25,
   "metadata": {},
   "outputs": [
    {
     "data": {
      "text/html": [
       "<div>\n",
       "<style scoped>\n",
       "    .dataframe tbody tr th:only-of-type {\n",
       "        vertical-align: middle;\n",
       "    }\n",
       "\n",
       "    .dataframe tbody tr th {\n",
       "        vertical-align: top;\n",
       "    }\n",
       "\n",
       "    .dataframe thead th {\n",
       "        text-align: right;\n",
       "    }\n",
       "</style>\n",
       "<table border=\"1\" class=\"dataframe\">\n",
       "  <thead>\n",
       "    <tr style=\"text-align: right;\">\n",
       "      <th></th>\n",
       "      <th>tmiles_2017_tk_bc_nm</th>\n",
       "      <th>curval_2017_tk_bc_nm</th>\n",
       "      <th>wgt_dist_tk_bc_nm</th>\n",
       "    </tr>\n",
       "  </thead>\n",
       "  <tbody>\n",
       "    <tr>\n",
       "      <td>tmiles_2017_tk_bc_nm</td>\n",
       "      <td>1.000000</td>\n",
       "      <td>0.756216</td>\n",
       "      <td>0.130923</td>\n",
       "    </tr>\n",
       "    <tr>\n",
       "      <td>curval_2017_tk_bc_nm</td>\n",
       "      <td>0.756216</td>\n",
       "      <td>1.000000</td>\n",
       "      <td>-0.087569</td>\n",
       "    </tr>\n",
       "    <tr>\n",
       "      <td>wgt_dist_tk_bc_nm</td>\n",
       "      <td>0.130923</td>\n",
       "      <td>-0.087569</td>\n",
       "      <td>1.000000</td>\n",
       "    </tr>\n",
       "  </tbody>\n",
       "</table>\n",
       "</div>"
      ],
      "text/plain": [
       "                      tmiles_2017_tk_bc_nm  curval_2017_tk_bc_nm  \\\n",
       "tmiles_2017_tk_bc_nm              1.000000              0.756216   \n",
       "curval_2017_tk_bc_nm              0.756216              1.000000   \n",
       "wgt_dist_tk_bc_nm                 0.130923             -0.087569   \n",
       "\n",
       "                      wgt_dist_tk_bc_nm  \n",
       "tmiles_2017_tk_bc_nm           0.130923  \n",
       "curval_2017_tk_bc_nm          -0.087569  \n",
       "wgt_dist_tk_bc_nm              1.000000  "
      ]
     },
     "execution_count": 25,
     "metadata": {},
     "output_type": "execute_result"
    }
   ],
   "source": [
    "df_model.loc[:, uncorrelated_features].corr()"
   ]
  },
  {
   "cell_type": "code",
   "execution_count": 26,
   "metadata": {},
   "outputs": [
    {
     "data": {
      "image/png": "[encoded data removed]",
      "text/plain": [
       "<Figure size 360x216 with 2 Axes>"
      ]
     },
     "metadata": {
      "needs_background": "light"
     },
     "output_type": "display_data"
    }
   ],
   "source": [
    "f, axes = plt.subplots(1, 1, figsize=(5, 3))\n",
    "sns.heatmap(df_model.loc[:, uncorrelated_features].corr(), ax=axes)\n",
    "plt.show()"
   ]
  },
  {
   "cell_type": "markdown",
   "metadata": {},
   "source": [
    "## Categorical Variables\n",
    "Convert categorical variables into dummy variables. First, create a sub-dataset that consists of the good continuous features, the categorical features, and the target variable."
   ]
  },
  {
   "cell_type": "code",
   "execution_count": 27,
   "metadata": {},
   "outputs": [],
   "source": [
    "df_subset = df_model.loc[:, uncorrelated_features+categorical+[target_var]].copy()"
   ]
  },
  {
   "cell_type": "code",
   "execution_count": 28,
   "metadata": {},
   "outputs": [],
   "source": [
    "df_subset = pd.get_dummies(df_subset, columns=categorical, drop_first=True).copy()"
   ]
  },
  {
   "cell_type": "markdown",
   "metadata": {},
   "source": [
    "## Modeling\n",
    "As a first step, I will create a simple linear regression model. This will allow me to evaluate the dataset. After which, I can decide whether to do further data manipulation to improve the prediction power of the model. Once I am happy with the linear regression model, I will evaluate a few other regression models to decide which model does the best job at predicting freight value per ton.\n",
    "### Features and Target\n",
    "Split dataset into features and target values."
   ]
  },
  {
   "cell_type": "code",
   "execution_count": 29,
   "metadata": {},
   "outputs": [],
   "source": [
    "# Split features and target variables\n",
    "X = df_subset.drop(target_var, axis=1)\n",
    "y = df_subset[target_var]"
   ]
  },
  {
   "cell_type": "markdown",
   "metadata": {},
   "source": [
    "### Train/test split\n",
    "Create train and test datasets. Since the dataset is so large, I will create a small test set so that I have more data to use for training."
   ]
  },
  {
   "cell_type": "code",
   "execution_count": 30,
   "metadata": {},
   "outputs": [],
   "source": [
    "# X_train, X_test, y_train, y_test = train_test_split(X, y, test_size=0.01, random_state=42)"
   ]
  },
  {
   "cell_type": "markdown",
   "metadata": {},
   "source": [
    "### Model 1: Simple Linear Regression"
   ]
  },
  {
   "cell_type": "code",
   "execution_count": 31,
   "metadata": {},
   "outputs": [],
   "source": [
    "# hp.run_linear_regressor(LinearRegression, X_train, X_test, y_train, y_test, num_folds=5, print_results=True)"
   ]
  },
  {
   "cell_type": "code",
   "execution_count": 32,
   "metadata": {},
   "outputs": [],
   "source": [
    "# plt.scatter(hp.linear_model_stats['test_data']['y_test'], hp.linear_model_stats['test_data']['y_pred'])\n",
    "# plt.xlim([0, 1])\n",
    "# plt.ylim([0, 1])\n",
    "# plt.title('Normalized Value/Tons')\n",
    "# plt.xlabel('actual values')\n",
    "# plt.ylabel('predictions')\n",
    "# plt.show()"
   ]
  },
  {
   "cell_type": "code",
   "execution_count": 33,
   "metadata": {},
   "outputs": [],
   "source": [
    "# df_test_data = pd.DataFrame(hp.linear_model_stats['test_data'])"
   ]
  },
  {
   "cell_type": "code",
   "execution_count": 34,
   "metadata": {},
   "outputs": [],
   "source": [
    "# g = sns.jointplot(\"y_test\", \"y_pred\", data=df_test_data, kind=\"reg\",\n",
    "#                   xlim=(0, 1), ylim=(0, 1), height=7)\n",
    "# plt.show()"
   ]
  },
  {
   "cell_type": "markdown",
   "metadata": {},
   "source": [
    "The linear regression model is actually performing quite well. The high _R<sup>2</sup>_ value for the training and test sets indicates a good fit. But, notice the large spread spread in values in the scatter plots above. This could be a problem. It seems to indicate the target variable consists of two different distributions.\n",
    "\n",
    "## Continuous Variable Distributions\n",
    "Let's return to the dataset and examine the distributions for the continuous variables."
   ]
  },
  {
   "cell_type": "code",
   "execution_count": 35,
   "metadata": {},
   "outputs": [
    {
     "data": {
      "image/png": "[encoded data removed]",
      "text/plain": [
       "<Figure size 432x288 with 1 Axes>"
      ]
     },
     "metadata": {
      "needs_background": "light"
     },
     "output_type": "display_data"
    },
    {
     "data": {
      "image/png": "[encoded data removed]",
      "text/plain": [
       "<Figure size 432x288 with 1 Axes>"
      ]
     },
     "metadata": {
      "needs_background": "light"
     },
     "output_type": "display_data"
    },
    {
     "data": {
      "image/png": "[encoded data removed]",
      "text/plain": [
       "<Figure size 432x288 with 1 Axes>"
      ]
     },
     "metadata": {
      "needs_background": "light"
     },
     "output_type": "display_data"
    },
    {
     "data": {
      "image/png": "[encoded data removed]",
      "text/plain": [
       "<Figure size 432x288 with 1 Axes>"
      ]
     },
     "metadata": {
      "needs_background": "light"
     },
     "output_type": "display_data"
    }
   ],
   "source": [
    "transformed_continuous_variables = uncorrelated_features+[target_var]\n",
    "for column in transformed_continuous_variables:\n",
    "    df_model[column].hist(bins=10)\n",
    "    plt.xlabel(f'{column}')\n",
    "    plt.show()"
   ]
  },
  {
   "cell_type": "markdown",
   "metadata": {},
   "source": [
    "**Observations:** All variables, except wgt, show bi-modal distributions. I will split each of these into two separate groups. But, after doing this, the target variable will become a categorical variable. Therefore, the problem statement will change and this will become a classification problem.\n",
    "\n",
    "I will make the split at 0.6."
   ]
  },
  {
   "cell_type": "code",
   "execution_count": 36,
   "metadata": {},
   "outputs": [],
   "source": [
    "variables_to_cut = ['tmiles_2017_tk_bc_nm', 'curval_2017_tk_bc_nm', 'value_tons_tk_bc_nm']\n",
    "cut_variables = [f'{x}_cut' for x in variables_to_cut]\n",
    "cut_at = 0.6"
   ]
  },
  {
   "cell_type": "code",
   "execution_count": 37,
   "metadata": {},
   "outputs": [
    {
     "name": "stdout",
     "output_type": "stream",
     "text": [
      "low     1029025\n",
      "high     528862\n",
      "Name: tmiles_2017_tk_bc_nm_cut, dtype: int64\n",
      "low     1252872\n",
      "high     556689\n",
      "Name: curval_2017_tk_bc_nm_cut, dtype: int64\n",
      "low     1248164\n",
      "high     562249\n",
      "Name: value_tons_tk_bc_nm_cut, dtype: int64\n"
     ]
    }
   ],
   "source": [
    "for column in variables_to_cut:\n",
    "    df_model[f'{column}_cut'] = pd.cut(df_model[f'{column}'], bins=[0.0, cut_at, 1.0], labels=['low', 'high'])\n",
    "    print(df_model[f'{column}_cut'].value_counts())"
   ]
  },
  {
   "cell_type": "markdown",
   "metadata": {},
   "source": [
    "Combine variables which will be used for modeling."
   ]
  },
  {
   "cell_type": "code",
   "execution_count": 38,
   "metadata": {},
   "outputs": [],
   "source": [
    "new_categorical = categorical + cut_variables\n",
    "new_categorical_features = [x for x in new_categorical if 'value_tons' not in x]\n",
    "new_features = new_categorical_features + uncorrelated_features"
   ]
  },
  {
   "cell_type": "markdown",
   "metadata": {},
   "source": [
    "## New Subset\n",
    "Now, I will create a new subset using these new categorical variables."
   ]
  },
  {
   "cell_type": "code",
   "execution_count": 39,
   "metadata": {},
   "outputs": [],
   "source": [
    "df_subset_2 = df_model.loc[:, new_features+['value_tons_tk_bc_nm_cut']].copy()"
   ]
  },
  {
   "cell_type": "markdown",
   "metadata": {},
   "source": [
    "### Dummies\n",
    "Convert the categorical variable to dummy variables."
   ]
  },
  {
   "cell_type": "code",
   "execution_count": 40,
   "metadata": {},
   "outputs": [],
   "source": [
    "df_subset_2 = pd.get_dummies(df_subset_2, columns=new_categorical, drop_first=True).copy()"
   ]
  },
  {
   "cell_type": "code",
   "execution_count": 41,
   "metadata": {
    "scrolled": false
   },
   "outputs": [],
   "source": [
    "target_var = [x for x in df_subset_2.columns.tolist() if 'value_tons' in x][0]"
   ]
  },
  {
   "cell_type": "markdown",
   "metadata": {},
   "source": [
    "## Modeling\n",
    "Now that the target variable is a cateogorical variable, I will try a support vector machine classifer model. First, I will split that data into features and the target.\n",
    "### Feature and Target"
   ]
  },
  {
   "cell_type": "code",
   "execution_count": 42,
   "metadata": {},
   "outputs": [],
   "source": [
    "# Resample dataset to make it smaller for faster modeling\n",
    "df_subset_2 = df_subset_2.sample(frac=0.01).reset_index(drop=True).copy()"
   ]
  },
  {
   "cell_type": "code",
   "execution_count": 43,
   "metadata": {},
   "outputs": [],
   "source": [
    "X = df_subset_2.drop(target_var, axis=1)\n",
    "y = df_subset_2[target_var]"
   ]
  },
  {
   "cell_type": "markdown",
   "metadata": {},
   "source": [
    "### Train/test split\n",
    "Split that data into train and test sets."
   ]
  },
  {
   "cell_type": "code",
   "execution_count": 44,
   "metadata": {},
   "outputs": [],
   "source": [
    "X_train, X_test, y_train, y_test = train_test_split(X, y, test_size=0.2, random_state=42, stratify = y)"
   ]
  },
  {
   "cell_type": "markdown",
   "metadata": {},
   "source": [
    "### Class Imbalance\n",
    "Let's look at the target variable value counts again."
   ]
  },
  {
   "cell_type": "code",
   "execution_count": 45,
   "metadata": {},
   "outputs": [
    {
     "name": "stdout",
     "output_type": "stream",
     "text": [
      "0    12624\n",
      "1     5516\n",
      "Name: value_tons_tk_bc_nm_cut_high, dtype: int64\n"
     ]
    }
   ],
   "source": [
    "print(df_subset_2[target_var].value_counts())"
   ]
  },
  {
   "cell_type": "markdown",
   "metadata": {},
   "source": [
    "There are many more values in the 0 class than the 1 class. Training a model like this will impart a bias towards the 0 class. I will address this issue by up sampling the training data. I will not resample the testing data as that reflects reality."
   ]
  },
  {
   "cell_type": "code",
   "execution_count": 46,
   "metadata": {},
   "outputs": [],
   "source": [
    "X_upsampled, y_upsampled = SMOTE().fit_resample(X_train, y_train)"
   ]
  },
  {
   "cell_type": "code",
   "execution_count": 47,
   "metadata": {},
   "outputs": [
    {
     "name": "stdout",
     "output_type": "stream",
     "text": [
      "0: 10099\n",
      "1: 10099\n"
     ]
    }
   ],
   "source": [
    "for value in np.unique(y_upsampled):\n",
    "    print(f'{value}: {len(y_upsampled[y_upsampled == value])}')"
   ]
  },
  {
   "cell_type": "markdown",
   "metadata": {},
   "source": [
    "Now, I have equal numbers of classes in the target variable."
   ]
  },
  {
   "cell_type": "code",
   "execution_count": 48,
   "metadata": {},
   "outputs": [],
   "source": [
    "hp.run_svc_classifier(X_upsampled, X_test, y_upsampled, y_test)"
   ]
  },
  {
   "cell_type": "markdown",
   "metadata": {},
   "source": [
    "## Model Evaluation\n",
    "After fitting the model, let's evaluate its performance. I will print some statistics about the model fit, plot a confussion matrix and ROC curve, and create a bar plot showing feature importance."
   ]
  },
  {
   "cell_type": "code",
   "execution_count": 49,
   "metadata": {},
   "outputs": [
    {
     "name": "stdout",
     "output_type": "stream",
     "text": [
      "Train Metrics:\n",
      " * score: 98.767%\n",
      " * type 1 error: 0.758%\n",
      " * type 2 error: 0.475%\n",
      " * sensitivity: 98.494%\n",
      " * specificity: 99.044%\n",
      "Test Metrics:\n",
      " * score: 97.051%\n",
      " * type 1 error: 1.819%\n",
      " * type 2 error: 1.130%\n",
      " * sensitivity: 94.149%\n",
      " * specificity: 98.360%\n",
      " * class 0 F1 score: 0.979\n",
      " * class 1 F1 score: 0.952\n"
     ]
    }
   ],
   "source": [
    "hp.evaluate_binary_classifier_model()"
   ]
  },
  {
   "cell_type": "markdown",
   "metadata": {},
   "source": [
    "### Accuracy\n",
    "The test and training scores are both higher thank 97%, indicating a high rate of accuracy and good model generalization. While the high accuracy is a good indication of a good model, since this is a binary classification model, it is important to evaluate how well the model predicts each class."
   ]
  },
  {
   "cell_type": "code",
   "execution_count": 50,
   "metadata": {},
   "outputs": [
    {
     "data": {
      "image/png": "[encoded data removed]",
      "text/plain": [
       "<Figure size 432x360 with 2 Axes>"
      ]
     },
     "metadata": {
      "needs_background": "light"
     },
     "output_type": "display_data"
    }
   ],
   "source": [
    "hp.plot_confussion_matrix(hp.binary_classifier_stats['test_data']['y_test'],\n",
    "                          hp.binary_classifier_stats['test_data']['y_pred'])"
   ]
  },
  {
   "cell_type": "markdown",
   "metadata": {},
   "source": [
    "### Confussion Matrix\n",
    "The confussion matrix is a good way to evaluate how well the model classifies each class. In the above plot, you will notice a high number of both true positives and true negatives, with smaller numbers for both false positives and false negatives. A positive prediction is a prediction that a value is of class 0, while a negative prediction is a predication that a value is not of class 0, or, in other words, that it is of class 1. The confussion matrix indicates the model does a good job at predicting each class. The F1 scores for each class are high, which is a further indication that the model does well at classification."
   ]
  },
  {
   "cell_type": "code",
   "execution_count": 51,
   "metadata": {},
   "outputs": [
    {
     "data": {
      "image/png": "[encoded data removed]",
      "text/plain": [
       "<Figure size 432x288 with 1 Axes>"
      ]
     },
     "metadata": {
      "needs_background": "light"
     },
     "output_type": "display_data"
    }
   ],
   "source": [
    "hp.plot_roc_curve()"
   ]
  },
  {
   "cell_type": "markdown",
   "metadata": {},
   "source": [
    "### ROC Curve\n",
    "We can gain further information about how well this model performs at classification by plotting an ROC curve. This curve compares the false positive rate with the true positive rate. The sharp elbow shape, curved to the upper left, indicates a good job at model classification."
   ]
  },
  {
   "cell_type": "code",
   "execution_count": 52,
   "metadata": {},
   "outputs": [
    {
     "data": {
      "image/png": "[encoded data removed]",
      "text/plain": [
       "<Figure size 432x576 with 1 Axes>"
      ]
     },
     "metadata": {
      "needs_background": "light"
     },
     "output_type": "display_data"
    }
   ],
   "source": [
    "hp.plot_feature_importance(hp.binary_classifier_stats['features'],\n",
    "                           hp.binary_classifier_stats['train_stats']['coeffs'],\n",
    "                           coeff_thresh=1)"
   ]
  },
  {
   "cell_type": "markdown",
   "metadata": {},
   "source": [
    "### Feature Importance\n",
    "Now that we know this model does a good job at predictions and classifications, let's try to gain something useful from it. One thing we can do is use the model coefficients for the fit to compare the feature importance for each class. This is shown in the bar plot at the bottom of the series of plots shown above. Negatives coefficients are relavent to class 0, while positive coefficients are relavent to class 1. \n",
    "\n",
    "The four top features for class 0 are all related to the commodity type. Referring to the [User Guide](https://www.bts.gov/archive/subject_areas/freight_transportation/faf/users_guide/), these features correspond to natural sands, gravel, non-metalic minerals, and coal. Class 0 correponds to low values for value tons. Therefore, this indicates that quarried or mined material has low value per weight.\n",
    "\n",
    "The top feature for class 1 is _cuval_. Since this is another indicator of value, it makes sense that this has a strong relationship with _value\\__tons_. The next most import feature is _wgt\\__dist_, which is related to distance. The three relevant features that follow are all commodities. Again, referring to the [User Guide](https://www.bts.gov/archive/subject_areas/freight_transportation/faf/users_guide/), these commodities are creal grains, crude oil and processed gasoline. In conclusion, there is a high value per weight for cereal as well as for gasoline related products."
   ]
  }
 ],
 "metadata": {
  "kernelspec": {
   "display_name": "Python 3",
   "language": "python",
   "name": "python3"
  },
  "language_info": {
   "codemirror_mode": {
    "name": "ipython",
    "version": 3
   },
   "file_extension": ".py",
   "mimetype": "text/x-python",
   "name": "python",
   "nbconvert_exporter": "python",
   "pygments_lexer": "ipython3",
   "version": "3.6.7"
  }
 },
 "nbformat": 4,
 "nbformat_minor": 2
}
