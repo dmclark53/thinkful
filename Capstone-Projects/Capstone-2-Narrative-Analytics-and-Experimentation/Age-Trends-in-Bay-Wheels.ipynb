{
 "cells": [
  {
   "cell_type": "markdown",
   "metadata": {},
   "source": [
    "# Bay Wheels Age Trends\n",
    "\n",
    "## Background\n",
    "The dataset I chose for this reseach proposal was taken from the [Bay Wheels](https://www.lyft.com/bikes/bay-wheels/system-data) system data, which was provided under the [Bay Wheels License Agreement](https://baywheels-assets.s3.amazonaws.com/data-license-agreement.html). [Bay Wheels](https://www.lyft.com/bikes/bay-wheels) is a bike share service that has recently been acquired by Lyft. Currently 2600 bikes are in opperation from 262 stations from San Francisco to San Jose and the East Bay. Lyft expects to increase the number of bikes to 7000 and the number of stations to 540.\n",
    "\n",
    "The research proposal laid out below will assume this bike share system does not exist and that I am designing it to address a particular experiment.\n",
    "\n",
    "# Research Proposal\n",
    "\n",
    "I would like to study how bike use varies between age groups and genders.\n",
    "\n",
    "## Hypothesis\n",
    "**There is no difference in age between genders for people who use bikes in the Bay Area.**\n",
    "\n",
    "## Rollout Plan\n",
    "In order to address this hypothesis, I need three main items:\n",
    "1. Bikes.\n",
    "2. Users.\n",
    "3. A database of user data.\n",
    "\n",
    "### Bikes\n",
    "I would distribute bike stations in several cities around the Bay Area. This would ensure a random sample of users in the Bay Area. Only restricting stations to a few cities would bias this study towards those cities.\n",
    "\n",
    "### Users\n",
    "This entails creating accounts where I can gather user data which can be used for this study. I would create a web application as well as a phone app where users could sign up. They would be required to enter their birth year and gender. They would use their user account to check out a bike. This way I could keep track of what type of users are bikers.\n",
    "\n",
    "### Database\n",
    "When a user checks out a bike, their information would be sent to a database. The database would keep track of: user ID, member birth year, member gender.\n",
    "\n",
    "## One Month In\n",
    "After enacting this study for one month, I can begin to address my hypothesis. The data has been stored in a csv file. Let's load it and see what we have."
   ]
  },
  {
   "cell_type": "code",
   "execution_count": 1,
   "metadata": {},
   "outputs": [],
   "source": [
    "import matplotlib.pyplot as plt\n",
    "import numpy as np\n",
    "import pandas as pd\n",
    "import seaborn as sns\n",
    "import scipy.stats as stats\n",
    "from scipy.stats import norm\n",
    "from statistics import mode\n",
    "\n",
    "%matplotlib inline"
   ]
  },
  {
   "cell_type": "markdown",
   "metadata": {},
   "source": [
    "### Load the data\n",
    "Load data for May, 2018 into a Pandas `DataFrame`."
   ]
  },
  {
   "cell_type": "code",
   "execution_count": 2,
   "metadata": {},
   "outputs": [],
   "source": [
    "df = pd.read_csv('./data/201805-fordgobike-tripdata.csv', parse_dates=True, infer_datetime_format=True)"
   ]
  },
  {
   "cell_type": "markdown",
   "metadata": {},
   "source": [
    "## Exploratory Data Analysis\n",
    "Let's begin by exploring what data we acquired and how it can be used to address the hypothesis."
   ]
  },
  {
   "cell_type": "code",
   "execution_count": 3,
   "metadata": {},
   "outputs": [
    {
     "name": "stdout",
     "output_type": "stream",
     "text": [
      "<class 'pandas.core.frame.DataFrame'>\n",
      "RangeIndex: 179125 entries, 0 to 179124\n",
      "Data columns (total 16 columns):\n",
      "duration_sec               179125 non-null int64\n",
      "start_time                 179125 non-null object\n",
      "end_time                   179125 non-null object\n",
      "start_station_id           179125 non-null int64\n",
      "start_station_name         179125 non-null object\n",
      "start_station_latitude     179125 non-null float64\n",
      "start_station_longitude    179125 non-null float64\n",
      "end_station_id             179125 non-null int64\n",
      "end_station_name           179125 non-null object\n",
      "end_station_latitude       179125 non-null float64\n",
      "end_station_longitude      179125 non-null float64\n",
      "bike_id                    179125 non-null int64\n",
      "user_type                  179125 non-null object\n",
      "member_birth_year          167376 non-null float64\n",
      "member_gender              167413 non-null object\n",
      "bike_share_for_all_trip    179125 non-null object\n",
      "dtypes: float64(5), int64(4), object(7)\n",
      "memory usage: 21.9+ MB\n"
     ]
    }
   ],
   "source": [
    "df.info()"
   ]
  },
  {
   "cell_type": "markdown",
   "metadata": {},
   "source": [
    "Here we see that we acquired data for 179124 rides.\n",
    "\n",
    "Some riders failed to record their birth year and gender."
   ]
  },
  {
   "cell_type": "code",
   "execution_count": 4,
   "metadata": {},
   "outputs": [
    {
     "name": "stdout",
     "output_type": "stream",
     "text": [
      "Fraction of missing birth years = 0.066\n",
      "Fraction of missing genders = 0.065\n"
     ]
    }
   ],
   "source": [
    "missing_birth_year_count = pd.isna(df['member_birth_year']).sum()\n",
    "missing_gender_count = pd.isna(df['member_gender']).sum()\n",
    "print(f'Fraction of missing birth years = {missing_birth_year_count / len(df):.3f}')\n",
    "print(f'Fraction of missing genders = {missing_gender_count / len(df):.3f}')"
   ]
  },
  {
   "cell_type": "markdown",
   "metadata": {},
   "source": [
    "The _start\\__time_ and _end\\__time_ columns are not in date-time format. We will need to convert these to date-time format so that we can compute rider ages."
   ]
  },
  {
   "cell_type": "code",
   "execution_count": 5,
   "metadata": {},
   "outputs": [
    {
     "data": {
      "text/html": [
       "<div>\n",
       "<style scoped>\n",
       "    .dataframe tbody tr th:only-of-type {\n",
       "        vertical-align: middle;\n",
       "    }\n",
       "\n",
       "    .dataframe tbody tr th {\n",
       "        vertical-align: top;\n",
       "    }\n",
       "\n",
       "    .dataframe thead th {\n",
       "        text-align: right;\n",
       "    }\n",
       "</style>\n",
       "<table border=\"1\" class=\"dataframe\">\n",
       "  <thead>\n",
       "    <tr style=\"text-align: right;\">\n",
       "      <th></th>\n",
       "      <th>count</th>\n",
       "      <th>mean</th>\n",
       "      <th>std</th>\n",
       "      <th>min</th>\n",
       "      <th>25%</th>\n",
       "      <th>50%</th>\n",
       "      <th>75%</th>\n",
       "      <th>max</th>\n",
       "    </tr>\n",
       "  </thead>\n",
       "  <tbody>\n",
       "    <tr>\n",
       "      <th>duration_sec</th>\n",
       "      <td>179125.0</td>\n",
       "      <td>854.904346</td>\n",
       "      <td>2396.553157</td>\n",
       "      <td>61.000000</td>\n",
       "      <td>342.000000</td>\n",
       "      <td>548.000000</td>\n",
       "      <td>870.000000</td>\n",
       "      <td>86208.000000</td>\n",
       "    </tr>\n",
       "    <tr>\n",
       "      <th>start_station_id</th>\n",
       "      <td>179125.0</td>\n",
       "      <td>112.994546</td>\n",
       "      <td>94.929468</td>\n",
       "      <td>3.000000</td>\n",
       "      <td>30.000000</td>\n",
       "      <td>81.000000</td>\n",
       "      <td>178.000000</td>\n",
       "      <td>350.000000</td>\n",
       "    </tr>\n",
       "    <tr>\n",
       "      <th>start_station_latitude</th>\n",
       "      <td>179125.0</td>\n",
       "      <td>37.768174</td>\n",
       "      <td>0.098525</td>\n",
       "      <td>37.312854</td>\n",
       "      <td>37.771058</td>\n",
       "      <td>37.781074</td>\n",
       "      <td>37.795392</td>\n",
       "      <td>37.880222</td>\n",
       "    </tr>\n",
       "    <tr>\n",
       "      <th>start_station_longitude</th>\n",
       "      <td>179125.0</td>\n",
       "      <td>-122.354925</td>\n",
       "      <td>0.117421</td>\n",
       "      <td>-122.444293</td>\n",
       "      <td>-122.411738</td>\n",
       "      <td>-122.398525</td>\n",
       "      <td>-122.299371</td>\n",
       "      <td>-121.874119</td>\n",
       "    </tr>\n",
       "    <tr>\n",
       "      <th>end_station_id</th>\n",
       "      <td>179125.0</td>\n",
       "      <td>111.489932</td>\n",
       "      <td>94.612239</td>\n",
       "      <td>3.000000</td>\n",
       "      <td>30.000000</td>\n",
       "      <td>81.000000</td>\n",
       "      <td>178.000000</td>\n",
       "      <td>350.000000</td>\n",
       "    </tr>\n",
       "    <tr>\n",
       "      <th>end_station_latitude</th>\n",
       "      <td>179125.0</td>\n",
       "      <td>37.768283</td>\n",
       "      <td>0.098425</td>\n",
       "      <td>37.312854</td>\n",
       "      <td>37.771058</td>\n",
       "      <td>37.781074</td>\n",
       "      <td>37.795392</td>\n",
       "      <td>37.880222</td>\n",
       "    </tr>\n",
       "    <tr>\n",
       "      <th>end_station_longitude</th>\n",
       "      <td>179125.0</td>\n",
       "      <td>-122.354431</td>\n",
       "      <td>0.116934</td>\n",
       "      <td>-122.444293</td>\n",
       "      <td>-122.411647</td>\n",
       "      <td>-122.398436</td>\n",
       "      <td>-122.299371</td>\n",
       "      <td>-121.874119</td>\n",
       "    </tr>\n",
       "    <tr>\n",
       "      <th>bike_id</th>\n",
       "      <td>179125.0</td>\n",
       "      <td>2413.880860</td>\n",
       "      <td>1260.417897</td>\n",
       "      <td>11.000000</td>\n",
       "      <td>1340.000000</td>\n",
       "      <td>2577.000000</td>\n",
       "      <td>3642.000000</td>\n",
       "      <td>4231.000000</td>\n",
       "    </tr>\n",
       "    <tr>\n",
       "      <th>member_birth_year</th>\n",
       "      <td>167376.0</td>\n",
       "      <td>1982.186425</td>\n",
       "      <td>10.320561</td>\n",
       "      <td>1889.000000</td>\n",
       "      <td>1977.000000</td>\n",
       "      <td>1985.000000</td>\n",
       "      <td>1990.000000</td>\n",
       "      <td>2000.000000</td>\n",
       "    </tr>\n",
       "  </tbody>\n",
       "</table>\n",
       "</div>"
      ],
      "text/plain": [
       "                            count         mean          std          min  \\\n",
       "duration_sec             179125.0   854.904346  2396.553157    61.000000   \n",
       "start_station_id         179125.0   112.994546    94.929468     3.000000   \n",
       "start_station_latitude   179125.0    37.768174     0.098525    37.312854   \n",
       "start_station_longitude  179125.0  -122.354925     0.117421  -122.444293   \n",
       "end_station_id           179125.0   111.489932    94.612239     3.000000   \n",
       "end_station_latitude     179125.0    37.768283     0.098425    37.312854   \n",
       "end_station_longitude    179125.0  -122.354431     0.116934  -122.444293   \n",
       "bike_id                  179125.0  2413.880860  1260.417897    11.000000   \n",
       "member_birth_year        167376.0  1982.186425    10.320561  1889.000000   \n",
       "\n",
       "                                 25%          50%          75%           max  \n",
       "duration_sec              342.000000   548.000000   870.000000  86208.000000  \n",
       "start_station_id           30.000000    81.000000   178.000000    350.000000  \n",
       "start_station_latitude     37.771058    37.781074    37.795392     37.880222  \n",
       "start_station_longitude  -122.411738  -122.398525  -122.299371   -121.874119  \n",
       "end_station_id             30.000000    81.000000   178.000000    350.000000  \n",
       "end_station_latitude       37.771058    37.781074    37.795392     37.880222  \n",
       "end_station_longitude    -122.411647  -122.398436  -122.299371   -121.874119  \n",
       "bike_id                  1340.000000  2577.000000  3642.000000   4231.000000  \n",
       "member_birth_year        1977.000000  1985.000000  1990.000000   2000.000000  "
      ]
     },
     "execution_count": 5,
     "metadata": {},
     "output_type": "execute_result"
    }
   ],
   "source": [
    "df.describe().T"
   ]
  },
  {
   "cell_type": "markdown",
   "metadata": {},
   "source": [
    "Here we see non-sensical birth years (1889). This will be addressed when I compute member ages.\n",
    "\n",
    "## Data Cleaning and Manipulation\n",
    "Now it is time to clean the data so that I can extract meaningful results. I define an empyt dictionary and function which will be used for data cleaning and data manipulation. For each step in this process I will define separate functions. The `cleaning_dict` dictionary will store information about what function to use at that step and whether to turn that cleaning/manipulation step on or off. The `clean_dataset()` function will perform the data cleaning/manipulation."
   ]
  },
  {
   "cell_type": "code",
   "execution_count": 6,
   "metadata": {},
   "outputs": [],
   "source": [
    "cleaning_dict = {}"
   ]
  },
  {
   "cell_type": "code",
   "execution_count": 7,
   "metadata": {},
   "outputs": [],
   "source": [
    "def clean_dataset(df):\n",
    "    for key, value in cleaning_dict.items():\n",
    "        if value['flag']:\n",
    "            df = value['method'](df, *value['args'], **value['kwargs'])\n",
    "    return df"
   ]
  },
  {
   "cell_type": "markdown",
   "metadata": {},
   "source": [
    "### Missing birth years and genders"
   ]
  },
  {
   "cell_type": "markdown",
   "metadata": {},
   "source": [
    "Remove rows with missing birth year and gender. Since there is no way to infer these features, removing them is fine."
   ]
  },
  {
   "cell_type": "code",
   "execution_count": 8,
   "metadata": {},
   "outputs": [],
   "source": [
    "def clear_missing_year_gender(df, *args, **kwargs):\n",
    "    df_out = df.loc[(pd.notna(df['member_birth_year']) & pd.notna(df['member_gender'])), :].copy()\n",
    "    df_out.index = np.arange(len(df_out))\n",
    "    return df_out"
   ]
  },
  {
   "cell_type": "code",
   "execution_count": 9,
   "metadata": {},
   "outputs": [],
   "source": [
    "cleaning_dict['missing_year_gender'] = {\n",
    "    'flag': False,\n",
    "    'method': clear_missing_year_gender,\n",
    "    'args': [],\n",
    "    'kwargs': {}\n",
    "}"
   ]
  },
  {
   "cell_type": "code",
   "execution_count": 10,
   "metadata": {},
   "outputs": [],
   "source": [
    "cleaning_dict['missing_year_gender']['flag'] = True"
   ]
  },
  {
   "cell_type": "code",
   "execution_count": 11,
   "metadata": {},
   "outputs": [],
   "source": [
    "df_clean = clean_dataset(df)"
   ]
  },
  {
   "cell_type": "markdown",
   "metadata": {},
   "source": [
    "### Genders\n",
    "Let's see how many genders are included in this dataset."
   ]
  },
  {
   "cell_type": "code",
   "execution_count": 12,
   "metadata": {},
   "outputs": [
    {
     "data": {
      "text/plain": [
       "\"The member genders are: ['Male', 'Female', 'Other']\""
      ]
     },
     "execution_count": 12,
     "metadata": {},
     "output_type": "execute_result"
    }
   ],
   "source": [
    "f\"The member genders are: {df_clean['member_gender'].unique().tolist()}\""
   ]
  },
  {
   "cell_type": "markdown",
   "metadata": {},
   "source": [
    "For this analysis, I will only include male and female genders."
   ]
  },
  {
   "cell_type": "code",
   "execution_count": 13,
   "metadata": {},
   "outputs": [],
   "source": [
    "def create_male_female(df, *args, **kwargs):\n",
    "    df_out = df[df['member_gender'] != 'Other'].copy()\n",
    "    df_out.index = np.arange(len(df_out))\n",
    "    return df_out"
   ]
  },
  {
   "cell_type": "code",
   "execution_count": 14,
   "metadata": {},
   "outputs": [],
   "source": [
    "cleaning_dict['male_female'] = {\n",
    "    'flag': False,\n",
    "    'method': create_male_female,\n",
    "    'args': [],\n",
    "    'kwargs': {}\n",
    "}"
   ]
  },
  {
   "cell_type": "code",
   "execution_count": 15,
   "metadata": {},
   "outputs": [],
   "source": [
    "cleaning_dict['male_female']['flag'] = True"
   ]
  },
  {
   "cell_type": "code",
   "execution_count": 16,
   "metadata": {},
   "outputs": [],
   "source": [
    "df_clean = clean_dataset(df)"
   ]
  },
  {
   "cell_type": "code",
   "execution_count": 17,
   "metadata": {},
   "outputs": [
    {
     "data": {
      "text/plain": [
       "\"Genders in analysis: ['Male', 'Female']\""
      ]
     },
     "execution_count": 17,
     "metadata": {},
     "output_type": "execute_result"
    }
   ],
   "source": [
    "f\"Genders in analysis: {df_clean['member_gender'].unique().tolist()}\""
   ]
  },
  {
   "cell_type": "markdown",
   "metadata": {},
   "source": [
    "### Compute ages\n",
    "The ages will be computed as the difference between the year the ride took place and the member's birth year. The _start\\__time_ and _end\\__time_ columns will be converted to date-time format to make it easier to extract the year of the ride."
   ]
  },
  {
   "cell_type": "code",
   "execution_count": 18,
   "metadata": {},
   "outputs": [],
   "source": [
    "def compute_ages(df):\n",
    "    df['start_time'] = pd.to_datetime(df['start_time'])\n",
    "    df['end_time'] = pd.to_datetime(df['end_time'])\n",
    "    df['start_year'] = df['start_time'].apply(lambda x: x.year)\n",
    "    df['end_year'] = df['end_time'].apply(lambda x: x.year)\n",
    "    df['member_age'] = df['start_year'] - df['member_birth_year']\n",
    "    return df"
   ]
  },
  {
   "cell_type": "code",
   "execution_count": 19,
   "metadata": {},
   "outputs": [],
   "source": [
    "cleaning_dict['compute_ages'] = {\n",
    "    'flag': False,\n",
    "    'method': compute_ages,\n",
    "    'args': [],\n",
    "    'kwargs': {}\n",
    "}"
   ]
  },
  {
   "cell_type": "code",
   "execution_count": 20,
   "metadata": {},
   "outputs": [],
   "source": [
    "cleaning_dict['compute_ages']['flag'] = True"
   ]
  },
  {
   "cell_type": "code",
   "execution_count": 21,
   "metadata": {},
   "outputs": [],
   "source": [
    "df_clean = clean_dataset(df)"
   ]
  },
  {
   "cell_type": "markdown",
   "metadata": {},
   "source": [
    "Now that we have member ages, we can view their distribution using a histogram."
   ]
  },
  {
   "cell_type": "code",
   "execution_count": 22,
   "metadata": {},
   "outputs": [
    {
     "data": {
      "image/png": "[encoded data removed]",
      "text/plain": [
       "<Figure size 792x288 with 1 Axes>"
      ]
     },
     "metadata": {
      "needs_background": "light"
     },
     "output_type": "display_data"
    }
   ],
   "source": [
    "fig, ax = plt.subplots(figsize=(11, 4))\n",
    "sns.distplot(df_clean['member_age'].values, \n",
    "             ax=ax)\n",
    "plt.title('Member Age vs. Count')\n",
    "plt.xlabel('Member Age')\n",
    "plt.ylabel('Count')\n",
    "plt.show()"
   ]
  },
  {
   "cell_type": "markdown",
   "metadata": {},
   "source": [
    "Notice that most ages are around 30 and that there is a long tail extending past age 80. This is a highly right skewed distribution, which will make accurately computing the t-statistic and p-value difficult. I will address this by converting ages into log(ages)."
   ]
  },
  {
   "cell_type": "code",
   "execution_count": 23,
   "metadata": {},
   "outputs": [],
   "source": [
    "def compute_log_age(df):\n",
    "    df['log_age'] = np.log(df['member_age'].values)\n",
    "    return df"
   ]
  },
  {
   "cell_type": "code",
   "execution_count": 24,
   "metadata": {},
   "outputs": [],
   "source": [
    "cleaning_dict['compute_log_age'] = {\n",
    "    'flag': False,\n",
    "    'method': compute_log_age,\n",
    "    'args': [],\n",
    "    'kwargs': {}\n",
    "}"
   ]
  },
  {
   "cell_type": "code",
   "execution_count": 25,
   "metadata": {},
   "outputs": [],
   "source": [
    "cleaning_dict['compute_log_age']['flag'] = True"
   ]
  },
  {
   "cell_type": "code",
   "execution_count": 26,
   "metadata": {},
   "outputs": [],
   "source": [
    "df_clean = clean_dataset(df)"
   ]
  },
  {
   "cell_type": "code",
   "execution_count": 27,
   "metadata": {},
   "outputs": [
    {
     "data": {
      "image/png": "[encoded data removed]",
      "text/plain": [
       "<Figure size 792x288 with 1 Axes>"
      ]
     },
     "metadata": {
      "needs_background": "light"
     },
     "output_type": "display_data"
    }
   ],
   "source": [
    "fig, ax = plt.subplots(figsize=(11, 4))\n",
    "sns.distplot(df_clean['log_age'].values, \n",
    "             ax=ax)\n",
    "plt.title('Log(Member Age) vs. Count')\n",
    "plt.xlabel('Log(Member Age)')\n",
    "plt.ylabel('Count')\n",
    "plt.show()"
   ]
  },
  {
   "cell_type": "markdown",
   "metadata": {},
   "source": [
    "The distribution looks more normal, but there still is a long tail to the right. Let's re-normalize outlier points to the median value of the distribution."
   ]
  },
  {
   "cell_type": "markdown",
   "metadata": {},
   "source": [
    "### Age Outliers\n",
    "Normalize the log(member age) values to the median value of the distribution."
   ]
  },
  {
   "cell_type": "code",
   "execution_count": 28,
   "metadata": {},
   "outputs": [],
   "source": [
    "def normalize_outliers(df, *args, **kwargs):\n",
    "    median_value = df[args[0]].median()\n",
    "    quantiles = df[args[0]].quantile([0.25, 0.75]).values\n",
    "    IQR = quantiles[1] - quantiles[0]\n",
    "    max_thresh = quantiles[1] + kwargs['thresh']*IQR\n",
    "    min_thresh = quantiles[0] - kwargs['thresh']*IQR\n",
    "    df[args[0]] = df[args[0]].apply(lambda x: x if (x < max_thresh and x > min_thresh) else median_value)\n",
    "    return df"
   ]
  },
  {
   "cell_type": "code",
   "execution_count": 29,
   "metadata": {},
   "outputs": [],
   "source": [
    "cleaning_dict['normalize_log_age'] = {\n",
    "    'flag': False,\n",
    "    'method': normalize_outliers,\n",
    "    'args': ['log_age'],\n",
    "    'kwargs': {'thresh': 1.5}\n",
    "}"
   ]
  },
  {
   "cell_type": "code",
   "execution_count": 30,
   "metadata": {},
   "outputs": [],
   "source": [
    "cleaning_dict['normalize_log_age']['flag'] = True"
   ]
  },
  {
   "cell_type": "code",
   "execution_count": 31,
   "metadata": {},
   "outputs": [],
   "source": [
    "df_clean = clean_dataset(df)"
   ]
  },
  {
   "cell_type": "code",
   "execution_count": 32,
   "metadata": {},
   "outputs": [
    {
     "data": {
      "image/png": "[encoded data removed]",
      "text/plain": [
       "<Figure size 792x288 with 1 Axes>"
      ]
     },
     "metadata": {
      "needs_background": "light"
     },
     "output_type": "display_data"
    }
   ],
   "source": [
    "fig, ax = plt.subplots(figsize=(11, 4))\n",
    "sns.distplot(df_clean['log_age'].values, \n",
    "             ax=ax)\n",
    "plt.title('Log(Member Age) vs. Count')\n",
    "plt.xlabel('Log(Member Age)')\n",
    "plt.ylabel('Count')\n",
    "plt.show()"
   ]
  },
  {
   "cell_type": "markdown",
   "metadata": {},
   "source": [
    "Now the distibution looks more normal. At this point, we can begin to address our hypothesis. I will divide the distribution into two groups, male and female, and compare how similar each distribution is by using the t-statistic and p-value."
   ]
  },
  {
   "cell_type": "code",
   "execution_count": 33,
   "metadata": {},
   "outputs": [
    {
     "data": {
      "image/png": "[encoded data removed]",
      "text/plain": [
       "<Figure size 792x288 with 1 Axes>"
      ]
     },
     "metadata": {
      "needs_background": "light"
     },
     "output_type": "display_data"
    },
    {
     "data": {
      "image/png": "[encoded data removed]",
      "text/plain": [
       "<Figure size 672x288 with 1 Axes>"
      ]
     },
     "metadata": {
      "needs_background": "light"
     },
     "output_type": "display_data"
    }
   ],
   "source": [
    "fig, ax = plt.subplots(figsize=(11, 4))\n",
    "for gender in df_clean['member_gender'].unique():\n",
    "    sns.distplot(df_clean.loc[df_clean['member_gender'] == gender, 'log_age'], ax=ax, kde=False)\n",
    "plt.legend(df_clean['member_gender'].unique().tolist())\n",
    "plt.title('Log(Member Age) vs. Count By Gender')\n",
    "plt.xlabel('Log(Age)')\n",
    "plt.ylabel('Count')\n",
    "plt.show()\n",
    "\n",
    "sns.catplot(x='member_gender', y='log_age', data=df_clean, height=4, aspect=14/6, kind='box')\n",
    "plt.show()"
   ]
  },
  {
   "cell_type": "code",
   "execution_count": 34,
   "metadata": {},
   "outputs": [
    {
     "name": "stdout",
     "output_type": "stream",
     "text": [
      "Num males = 122783, Num females = 41974\n",
      "Proportion (male/female): 2.925\n",
      "Mean age: 35.802\n",
      "Log(Member Age): t-statistic = 28.12016521690779, p-value = 1.4333292022873801e-173\n",
      "Mean log(age): 3.548 [male], 3.506 [female]\n",
      "Mean Age: 36.201 [male], 34.633 [female]\n"
     ]
    }
   ],
   "source": [
    "mean_age = df_clean['member_age'].mean()\n",
    "male_mean_age = df_clean.loc[df_clean['member_gender'] == 'Male', 'member_age'].mean()\n",
    "female_mean_age = df_clean.loc[df_clean['member_gender'] == 'Female', 'member_age'].mean()\n",
    "male_log_ages = df_clean.loc[df_clean['member_gender'] == 'Male', 'log_age'].values\n",
    "female_log_ages = df_clean.loc[df_clean['member_gender'] == 'Female', 'log_age'].values\n",
    "tstat, pval = stats.ttest_ind(male_log_ages, female_log_ages)\n",
    "print(f'Num males = {len(male_log_ages)}, Num females = {len(female_log_ages)}')\n",
    "print(f'Proportion (male/female): {len(male_log_ages) / len(female_log_ages):0.3f}')\n",
    "print(f'Mean age: {mean_age:0.3f}')\n",
    "print(f'Log(Member Age): t-statistic = {tstat}, p-value = {pval}')\n",
    "print(f'Mean log(age): {np.mean(male_log_ages):0.3f} [male], {np.mean(female_log_ages):0.3f} [female]')\n",
    "print(f'Mean Age: {male_mean_age:0.3f} [male], {female_mean_age:0.3f} [female]')"
   ]
  },
  {
   "cell_type": "markdown",
   "metadata": {},
   "source": [
    "The large t-statistic and extremely small p-value shows that there is a big difference between the male and female distributions. The average age is 35.8. On average, males are two years older than females. Another thing to notice is there are almost three times as many males as females who use Bay Wheels.\n",
    "\n",
    "### Age groups\n",
    "Let's further this analysis by breaking down the ages into groups and comparing each of these smaller groups."
   ]
  },
  {
   "cell_type": "code",
   "execution_count": 35,
   "metadata": {},
   "outputs": [],
   "source": [
    "def create_log_age_groups(df, step=0.2):\n",
    "    min_log_age = df['log_age'].min()\n",
    "    max_log_age = df['log_age'].max()\n",
    "    lower = (min_log_age*10 - min_log_age*10 % 2) / 10\n",
    "    upper = (max_log_age*10 + max_log_age*10 % 2) / 10\n",
    "    edges = np.arange(lower, upper+step, step)\n",
    "    labels = [f'{x:0.1f}-{y:0.1f}' for x, y in zip(edges[:-1], edges[1:])]\n",
    "    bins = edges\n",
    "    df['log_age_group'] = pd.cut(df['log_age'].values, bins, labels=labels)\n",
    "    df['log_age_group'] = df['log_age_group'].astype('str')\n",
    "    return df"
   ]
  },
  {
   "cell_type": "code",
   "execution_count": 36,
   "metadata": {},
   "outputs": [],
   "source": [
    "cleaning_dict['log_age_groups'] = {\n",
    "    'flag': False,\n",
    "    'method': create_log_age_groups,\n",
    "    'args': [],\n",
    "    'kwargs': {'step': 0.4}\n",
    "}"
   ]
  },
  {
   "cell_type": "code",
   "execution_count": 37,
   "metadata": {},
   "outputs": [],
   "source": [
    "cleaning_dict['log_age_groups']['flag'] = True"
   ]
  },
  {
   "cell_type": "code",
   "execution_count": 38,
   "metadata": {},
   "outputs": [],
   "source": [
    "df_clean = clean_dataset(df)"
   ]
  },
  {
   "cell_type": "code",
   "execution_count": 39,
   "metadata": {},
   "outputs": [
    {
     "name": "stdout",
     "output_type": "stream",
     "text": [
      "The log(age) groups are: ['2.8-3.2' '3.2-3.6' '3.6-4.0' '4.0-4.4']\n"
     ]
    }
   ],
   "source": [
    "print(f\"The log(age) groups are: {np.unique(df_clean['log_age_group'].values)}\")"
   ]
  },
  {
   "cell_type": "code",
   "execution_count": 40,
   "metadata": {
    "scrolled": false
   },
   "outputs": [
    {
     "name": "stdout",
     "output_type": "stream",
     "text": [
      "Ranges: log(age) [2.8-3.2], age [24.5-16.4]\n",
      "   num males = 9381, num females = 4141\n",
      "   proportion (male/female): 2.265\n",
      "   mean log(age): 3.114 [male], 3.112 [female]\n",
      "   mean age: 22.576 [male], 22.519 [female]\n",
      "   pvalue = 0.05120044780659197, t-statistic = 1.9499690574895796\n"
     ]
    },
    {
     "data": {
      "image/png": "[encoded data removed]",
      "text/plain": [
       "<Figure size 792x288 with 1 Axes>"
      ]
     },
     "metadata": {
      "needs_background": "light"
     },
     "output_type": "display_data"
    },
    {
     "data": {
      "image/png": "[encoded data removed]",
      "text/plain": [
       "<Figure size 672x288 with 1 Axes>"
      ]
     },
     "metadata": {
      "needs_background": "light"
     },
     "output_type": "display_data"
    },
    {
     "name": "stdout",
     "output_type": "stream",
     "text": [
      "Ranges: log(age) [3.2-3.6], age [36.6-24.5]\n",
      "   num males = 66464, num females = 24492\n",
      "   proportion (male/female): 2.714\n",
      "   mean log(age): 3.416 [male], 3.404 [female]\n",
      "   mean age: 31.008 [male], 30.453 [female]\n",
      "   pvalue = 5.222235028947346e-47, t-statistic = 14.407613198011544\n"
     ]
    },
    {
     "data": {
      "image/png": "[encoded data removed]",
      "text/plain": [
       "<Figure size 792x288 with 1 Axes>"
      ]
     },
     "metadata": {
      "needs_background": "light"
     },
     "output_type": "display_data"
    },
    {
     "data": {
      "image/png": "[encoded data removed]",
      "text/plain": [
       "<Figure size 672x288 with 1 Axes>"
      ]
     },
     "metadata": {
      "needs_background": "light"
     },
     "output_type": "display_data"
    },
    {
     "name": "stdout",
     "output_type": "stream",
     "text": [
      "Ranges: log(age) [3.6-4.0], age [54.6-36.6]\n",
      "   num males = 39575, num females = 10839\n",
      "   proportion (male/female): 3.651\n",
      "   mean log(age): 3.772 [male], 3.759 [female]\n",
      "   mean age: 43.748 [male], 43.200 [female]\n",
      "   pvalue = 4.5904985912566764e-26, t-statistic = 10.565404513902578\n"
     ]
    },
    {
     "data": {
      "image/png": "[encoded data removed]",
      "text/plain": [
       "<Figure size 792x288 with 1 Axes>"
      ]
     },
     "metadata": {
      "needs_background": "light"
     },
     "output_type": "display_data"
    },
    {
     "data": {
      "image/png": "[encoded data removed]",
      "text/plain": [
       "<Figure size 672x288 with 1 Axes>"
      ]
     },
     "metadata": {
      "needs_background": "light"
     },
     "output_type": "display_data"
    },
    {
     "name": "stdout",
     "output_type": "stream",
     "text": [
      "Ranges: log(age) [4.0-4.4], age [81.5-54.6]\n",
      "   num males = 7363, num females = 2502\n",
      "   proportion (male/female): 2.943\n",
      "   mean log(age): 4.090 [male], 4.067 [female]\n",
      "   mean age: 59.877 [male], 58.483 [female]\n",
      "   pvalue = 6.927719834895462e-52, t-statistic = 15.244945493413116\n"
     ]
    },
    {
     "data": {
      "image/png": "[encoded data removed]",
      "text/plain": [
       "<Figure size 792x288 with 1 Axes>"
      ]
     },
     "metadata": {
      "needs_background": "light"
     },
     "output_type": "display_data"
    },
    {
     "data": {
      "image/png": "[encoded data removed]",
      "text/plain": [
       "<Figure size 672x288 with 1 Axes>"
      ]
     },
     "metadata": {
      "needs_background": "light"
     },
     "output_type": "display_data"
    }
   ],
   "source": [
    "for age_group in np.unique(df_clean['log_age_group'].values):\n",
    "    sub_df = df_clean.loc[df_clean['log_age_group'] == age_group, :].copy()\n",
    "    min_age = np.e**float(age_group.split('-')[0])\n",
    "    max_age = np.e**float(age_group.split('-')[1])\n",
    "    mean_male_age = sub_df.loc[sub_df['member_gender'] == 'Male', 'member_age'].mean()\n",
    "    mean_female_age = sub_df.loc[sub_df['member_gender'] == 'Female', 'member_age'].mean()\n",
    "    male_log_ages = sub_df.loc[sub_df['member_gender'] == 'Male', 'log_age'].values\n",
    "    female_log_ages = sub_df.loc[sub_df['member_gender'] == 'Female', 'log_age'].values\n",
    "    tstat, pval = stats.ttest_ind(male_log_ages, female_log_ages)\n",
    "    print(f'Ranges: log(age) [{age_group}], age [{max_age:0.1f}-{min_age:0.1f}]')\n",
    "    print(f'   num males = {len(male_log_ages)}, num females = {len(female_log_ages)}')\n",
    "    print(f'   proportion (male/female): {len(male_log_ages) / len(female_log_ages):0.3f}')\n",
    "    print(f'   mean log(age): {np.mean(male_log_ages):0.3f} [male], {np.mean(female_log_ages):0.3f} [female]')\n",
    "    print(f'   mean age: {mean_male_age:0.3f} [male], {mean_female_age:0.3f} [female]')\n",
    "    print(f'   pvalue = {pval}, t-statistic = {tstat}')\n",
    "        \n",
    "    fig, ax = plt.subplots(figsize=(11, 4))\n",
    "    for gender in sub_df['member_gender'].unique():\n",
    "        sns.distplot(sub_df.loc[sub_df['member_gender'] == gender, 'log_age'], ax=ax, kde=False)\n",
    "    plt.legend(sub_df['member_gender'].unique().tolist())\n",
    "    plt.title('Log(Age) vs. Count By Gender')\n",
    "    plt.xlabel('Log(Age)')\n",
    "    plt.ylabel('Count')\n",
    "    plt.show()\n",
    "    \n",
    "    sns.catplot(x='member_gender', y='log_age', data=sub_df, height=4, aspect=14/6, kind='box')\n",
    "    plt.show()"
   ]
  },
  {
   "cell_type": "markdown",
   "metadata": {},
   "source": [
    "Except for the youngest group, on average males are older than females for each group. The large p-value in the youngest group indicates that the male and female distributions do not differ.\n",
    "\n",
    "## Conclusions\n",
    "In this study I wished to explore whether there was a difference in ages between males and females who used bikes in the Bay Area. I concluded that on average males are younger than females. Even when broken down into age groups, this trend was also see. The only exception was the youngest group, which did not show any difference in mean ages.\n",
    "\n",
    "One unexpected result was that there are almost three times as many males who used the bike share program than females. I would propose creating an advertising campaign to encourage more female riders.\n",
    "\n",
    "## Further Analysis\n",
    "### Longer Study\n",
    "This experiment was only performed on one-month's acquisition of data. Further insight into age/gender trends can be accomplished by increasing the study to a year.\n",
    "\n",
    "### Ride Duration\n",
    "Another hypothesis that could be addressed with these data is how ride duration varies between genders."
   ]
  }
 ],
 "metadata": {
  "kernelspec": {
   "display_name": "Python 3",
   "language": "python",
   "name": "python3"
  },
  "language_info": {
   "codemirror_mode": {
    "name": "ipython",
    "version": 3
   },
   "file_extension": ".py",
   "mimetype": "text/x-python",
   "name": "python",
   "nbconvert_exporter": "python",
   "pygments_lexer": "ipython3",
   "version": "3.6.8"
  }
 },
 "nbformat": 4,
 "nbformat_minor": 2
}
