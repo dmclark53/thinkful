{
 "cells": [
  {
   "cell_type": "markdown",
   "metadata": {},
   "source": [
    "# Supervised neural networks: Data Cleaning"
   ]
  },
  {
   "cell_type": "code",
   "execution_count": 1,
   "metadata": {},
   "outputs": [],
   "source": [
    "import numpy as np\n",
    "import pandas as pd\n",
    "from sqlalchemy import create_engine\n",
    "from sqlalchemy_utils import create_database, database_exists\n",
    "import warnings\n",
    "warnings.filterwarnings('ignore')\n",
    "\n",
    "from config import usr, pwd, url, port, db, table"
   ]
  },
  {
   "cell_type": "markdown",
   "metadata": {},
   "source": [
    "## Load Dataset"
   ]
  },
  {
   "cell_type": "code",
   "execution_count": 2,
   "metadata": {},
   "outputs": [],
   "source": [
    "df = pd.read_csv('./data/Artworks.csv')"
   ]
  },
  {
   "cell_type": "code",
   "execution_count": 3,
   "metadata": {},
   "outputs": [
    {
     "name": "stdout",
     "output_type": "stream",
     "text": [
      "<class 'pandas.core.frame.DataFrame'>\n",
      "RangeIndex: 155252 entries, 0 to 155251\n",
      "Data columns (total 29 columns):\n",
      "Title                 155213 non-null object\n",
      "Artist                136662 non-null object\n",
      "ConstituentID         136662 non-null object\n",
      "ArtistBio             132559 non-null object\n",
      "Nationality           136662 non-null object\n",
      "BeginDate             136662 non-null object\n",
      "EndDate               136662 non-null object\n",
      "Gender                136662 non-null object\n",
      "Date                  135743 non-null object\n",
      "Medium                127156 non-null object\n",
      "Dimensions            127253 non-null object\n",
      "CreditLine            135354 non-null object\n",
      "AccessionNumber       138118 non-null object\n",
      "Classification        138118 non-null object\n",
      "Department            138118 non-null object\n",
      "DateAcquired          131389 non-null object\n",
      "Cataloged             138118 non-null object\n",
      "ObjectID              138118 non-null float64\n",
      "URL                   79611 non-null object\n",
      "ThumbnailURL          69206 non-null object\n",
      "Circumference (cm)    10 non-null float64\n",
      "Depth (cm)            13987 non-null float64\n",
      "Diameter (cm)         1450 non-null float64\n",
      "Height (cm)           118803 non-null float64\n",
      "Length (cm)           741 non-null float64\n",
      "Weight (kg)           289 non-null float64\n",
      "Width (cm)            117881 non-null float64\n",
      "Seat Height (cm)      0 non-null float64\n",
      "Duration (sec.)       2905 non-null float64\n",
      "dtypes: float64(10), object(19)\n",
      "memory usage: 34.4+ MB\n"
     ]
    }
   ],
   "source": [
    "df.info()"
   ]
  },
  {
   "cell_type": "markdown",
   "metadata": {},
   "source": [
    "## Data Cleaning\n",
    "### Columns of interest\n",
    "For this drill, only consider a few columns."
   ]
  },
  {
   "cell_type": "code",
   "execution_count": 4,
   "metadata": {},
   "outputs": [],
   "source": [
    "columns_of_interest = ['Gender', 'URL', 'ThumbnailURL', 'Height (cm)', 'Width (cm)', 'DateAcquired', 'Department', \n",
    "                       'Date', 'Nationality']"
   ]
  },
  {
   "cell_type": "code",
   "execution_count": 5,
   "metadata": {},
   "outputs": [],
   "source": [
    "df_clean = df.loc[:, columns_of_interest]"
   ]
  },
  {
   "cell_type": "markdown",
   "metadata": {},
   "source": [
    "### URLs\n",
    "Convert URLs to booleans"
   ]
  },
  {
   "cell_type": "code",
   "execution_count": 6,
   "metadata": {},
   "outputs": [],
   "source": [
    "df_clean['URL'] = df_clean['URL'].notnull()\n",
    "df_clean['ThumbnailURL'] = df_clean['ThumbnailURL'].notnull()"
   ]
  },
  {
   "cell_type": "markdown",
   "metadata": {},
   "source": [
    "### Department column\n",
    "Remove problematic rows from _Department_ column."
   ]
  },
  {
   "cell_type": "code",
   "execution_count": 7,
   "metadata": {},
   "outputs": [],
   "source": [
    "df_clean = df_clean[df_clean['Department']!='Film']\n",
    "df_clean = df_clean[df_clean['Department']!='Media and Performance Art']\n",
    "df_clean = df_clean[df_clean['Department']!='Fluxus Collection']"
   ]
  },
  {
   "cell_type": "markdown",
   "metadata": {},
   "source": [
    "### Year Acquired column\n",
    "Add _YearAcquired_ column."
   ]
  },
  {
   "cell_type": "code",
   "execution_count": 8,
   "metadata": {},
   "outputs": [],
   "source": [
    "df_clean['DateAcquired'] = pd.to_datetime(df_clean.DateAcquired)\n",
    "df_clean['YearAcquired'] = df_clean.DateAcquired.dt.year\n",
    "df_clean['YearAcquired'].dtype\n",
    "\n",
    "# Drop DateAcquired column\n",
    "df_clean.drop('DateAcquired', axis=1, inplace=True)"
   ]
  },
  {
   "cell_type": "markdown",
   "metadata": {},
   "source": [
    "### Missing values\n",
    "Drop rows with missing values."
   ]
  },
  {
   "cell_type": "code",
   "execution_count": 9,
   "metadata": {},
   "outputs": [],
   "source": [
    "df_clean.dropna(inplace=True)\n",
    "df_clean.index = np.arange(len(df_clean))"
   ]
  },
  {
   "cell_type": "markdown",
   "metadata": {},
   "source": [
    "### Gender column\n",
    "Change value if multiple genders a listed for a row."
   ]
  },
  {
   "cell_type": "code",
   "execution_count": 10,
   "metadata": {},
   "outputs": [],
   "source": [
    "df_clean.loc[df_clean['Gender'].str.contains('\\) \\('), 'Gender'] = '\\(multiple_persons\\)'"
   ]
  },
  {
   "cell_type": "markdown",
   "metadata": {},
   "source": [
    "Inspect unique values for _Gender_."
   ]
  },
  {
   "cell_type": "code",
   "execution_count": 11,
   "metadata": {},
   "outputs": [
    {
     "data": {
      "text/plain": [
       "array(['(Male)', '\\\\(multiple_persons\\\\)', '(Female)', '()', '(male)'],\n",
       "      dtype=object)"
      ]
     },
     "execution_count": 11,
     "metadata": {},
     "output_type": "execute_result"
    }
   ],
   "source": [
    "df_clean['Gender'].unique()"
   ]
  },
  {
   "cell_type": "markdown",
   "metadata": {},
   "source": [
    "Male appears twice, but the case is different. I will replace _(male)_ with _(Male)_."
   ]
  },
  {
   "cell_type": "code",
   "execution_count": 12,
   "metadata": {},
   "outputs": [],
   "source": [
    "df_clean['Gender'] = df_clean['Gender'].replace('(male)', '(Male)')"
   ]
  },
  {
   "cell_type": "code",
   "execution_count": 13,
   "metadata": {},
   "outputs": [
    {
     "data": {
      "text/plain": [
       "array(['(Male)', '\\\\(multiple_persons\\\\)', '(Female)', '()'], dtype=object)"
      ]
     },
     "execution_count": 13,
     "metadata": {},
     "output_type": "execute_result"
    }
   ],
   "source": [
    "df_clean['Gender'].unique()"
   ]
  },
  {
   "cell_type": "code",
   "execution_count": 14,
   "metadata": {},
   "outputs": [
    {
     "data": {
      "text/plain": [
       "(Male)                  83648\n",
       "(Female)                14473\n",
       "\\(multiple_persons\\)     5528\n",
       "()                       4954\n",
       "Name: Gender, dtype: int64"
      ]
     },
     "execution_count": 14,
     "metadata": {},
     "output_type": "execute_result"
    }
   ],
   "source": [
    "df_clean['Gender'].value_counts()"
   ]
  },
  {
   "cell_type": "markdown",
   "metadata": {},
   "source": [
    "### Nationality column\n",
    "Change value if multiple nationalities a listed for a row."
   ]
  },
  {
   "cell_type": "code",
   "execution_count": 15,
   "metadata": {},
   "outputs": [],
   "source": [
    "df_clean.loc[df_clean['Nationality'].str.contains('\\) \\('), 'Nationality'] = '\\(multiple_nationalities\\)'"
   ]
  },
  {
   "cell_type": "markdown",
   "metadata": {},
   "source": [
    "### Dimensions columns\n",
    "Rename column titles so that data can be read into SQL database."
   ]
  },
  {
   "cell_type": "code",
   "execution_count": 16,
   "metadata": {},
   "outputs": [],
   "source": [
    "df_clean.rename(columns={'Height (cm)': 'Height', 'Width (cm)': 'Width'}, inplace=True)"
   ]
  },
  {
   "cell_type": "markdown",
   "metadata": {},
   "source": [
    "## Save dataset\n",
    "Save the cleaned dataset to a SQL database to use for modeling."
   ]
  },
  {
   "cell_type": "code",
   "execution_count": 17,
   "metadata": {},
   "outputs": [],
   "source": [
    "# Create the database if it doesn't exist\n",
    "db_url = f\"postgresql+psycopg2://{usr}:{pwd}@{url}:{port}/{db}\"\n",
    "if database_exists(db_url):\n",
    "    pass\n",
    "else:\n",
    "    create_database(db_url)"
   ]
  },
  {
   "cell_type": "code",
   "execution_count": 18,
   "metadata": {
    "scrolled": false
   },
   "outputs": [],
   "source": [
    "engine = create_engine(f\"postgresql+psycopg2://{usr}:{pwd}@{url}:{port}/{db}\")\n",
    "df_clean.to_sql(name=table, con=engine, index=False, if_exists='replace')\n",
    "engine.dispose()"
   ]
  }
 ],
 "metadata": {
  "kernelspec": {
   "display_name": "Python 3",
   "language": "python",
   "name": "python3"
  },
  "language_info": {
   "codemirror_mode": {
    "name": "ipython",
    "version": 3
   },
   "file_extension": ".py",
   "mimetype": "text/x-python",
   "name": "python",
   "nbconvert_exporter": "python",
   "pygments_lexer": "ipython3",
   "version": "3.6.7"
  }
 },
 "nbformat": 4,
 "nbformat_minor": 2
}
