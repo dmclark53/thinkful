{
 "cells": [
  {
   "cell_type": "markdown",
   "metadata": {},
   "source": [
    "# AirBNB In SanFran"
   ]
  },
  {
   "cell_type": "code",
   "execution_count": 1,
   "metadata": {},
   "outputs": [],
   "source": [
    "import numpy as np\n",
    "import pandas as pd\n",
    "from sqlalchemy import create_engine"
   ]
  },
  {
   "cell_type": "code",
   "execution_count": 2,
   "metadata": {},
   "outputs": [],
   "source": [
    "def get_config():\n",
    "    config_file = open('./data/config_airbnb.tsv')\n",
    "    config = {}\n",
    "    for line in config_file:\n",
    "        config[line.split()[0]] = line.split()[1]\n",
    "    config_file.close()\n",
    "    return config"
   ]
  },
  {
   "cell_type": "code",
   "execution_count": 3,
   "metadata": {},
   "outputs": [],
   "source": [
    "config = get_config()"
   ]
  },
  {
   "cell_type": "code",
   "execution_count": 4,
   "metadata": {},
   "outputs": [],
   "source": [
    "engine = create_engine(\"postgresql+psycopg2://{}:{}@{}/{}\".format(config['usr'],\n",
    "                                                                  config['pwd'],\n",
    "                                                                  config['url'],\n",
    "                                                                  config['db']))"
   ]
  },
  {
   "cell_type": "markdown",
   "metadata": {},
   "source": [
    "## Exploratory Data Analysis\n",
    "Load the full tables _sfo_listings_, _sfo_calendar_, and _sfo_reviews_ in `DataFrame`s and view their structure."
   ]
  },
  {
   "cell_type": "code",
   "execution_count": 5,
   "metadata": {},
   "outputs": [],
   "source": [
    "query = '''\n",
    "SELECT\n",
    "    *\n",
    "FROM\n",
    "    sfo_listings;\n",
    "'''"
   ]
  },
  {
   "cell_type": "code",
   "execution_count": 6,
   "metadata": {},
   "outputs": [
    {
     "name": "stdout",
     "output_type": "stream",
     "text": [
      "<class 'pandas.core.frame.DataFrame'>\n",
      "RangeIndex: 6633 entries, 0 to 6632\n",
      "Data columns (total 16 columns):\n",
      "id                                6633 non-null int64\n",
      "name                              6633 non-null object\n",
      "host_id                           6633 non-null int64\n",
      "host_name                         6633 non-null object\n",
      "neighbourhood_group               0 non-null object\n",
      "neighbourhood                     6633 non-null object\n",
      "latitude                          6633 non-null object\n",
      "longitude                         6633 non-null object\n",
      "room_type                         6633 non-null object\n",
      "price                             6633 non-null float64\n",
      "minimum_nights                    6633 non-null int64\n",
      "number_of_reviews                 6633 non-null int64\n",
      "last_review                       5491 non-null object\n",
      "reviews_per_month                 5491 non-null float64\n",
      "calculated_host_listings_count    6633 non-null int64\n",
      "availability_365                  6633 non-null object\n",
      "dtypes: float64(2), int64(5), object(9)\n",
      "memory usage: 829.2+ KB\n"
     ]
    }
   ],
   "source": [
    "sfo_listings = pd.read_sql_query(query, con=engine)\n",
    "sfo_listings.info()"
   ]
  },
  {
   "cell_type": "code",
   "execution_count": 7,
   "metadata": {},
   "outputs": [],
   "source": [
    "query = '''\n",
    "SELECT\n",
    "    *\n",
    "FROM\n",
    "    sfo_calendar;\n",
    "'''"
   ]
  },
  {
   "cell_type": "code",
   "execution_count": 8,
   "metadata": {},
   "outputs": [
    {
     "name": "stdout",
     "output_type": "stream",
     "text": [
      "<class 'pandas.core.frame.DataFrame'>\n",
      "RangeIndex: 2383085 entries, 0 to 2383084\n",
      "Data columns (total 4 columns):\n",
      "listing_id       int64\n",
      "calender_date    object\n",
      "available        object\n",
      "price            object\n",
      "dtypes: int64(1), object(3)\n",
      "memory usage: 72.7+ MB\n"
     ]
    }
   ],
   "source": [
    "sfo_calendar = pd.read_sql_query(query, con=engine)\n",
    "sfo_calendar.info()"
   ]
  },
  {
   "cell_type": "code",
   "execution_count": 9,
   "metadata": {},
   "outputs": [
    {
     "name": "stdout",
     "output_type": "stream",
     "text": [
      "The values for sfo_calendar.available are: ['f', 't']\n"
     ]
    }
   ],
   "source": [
    "available_types = list(np.unique(sfo_calendar.available.values))\n",
    "print('The values for sfo_calendar.available are: {}'.format(available_types))"
   ]
  },
  {
   "cell_type": "code",
   "execution_count": 10,
   "metadata": {},
   "outputs": [
    {
     "name": "stdout",
     "output_type": "stream",
     "text": [
      "The total number of taken properties is 1037179.\n",
      "The total number of available properties is 1345906.\n"
     ]
    }
   ],
   "source": [
    "taken = len(sfo_calendar[sfo_calendar.available == 't'])\n",
    "free = len(sfo_calendar[sfo_calendar.available == 'f'])\n",
    "print('The total number of taken properties is {}.'.format(taken))\n",
    "print('The total number of available properties is {}.'.format(free))"
   ]
  },
  {
   "cell_type": "code",
   "execution_count": 11,
   "metadata": {},
   "outputs": [],
   "source": [
    "query = '''\n",
    "SELECT\n",
    "    *\n",
    "FROM\n",
    "    sfo_reviews;\n",
    "'''"
   ]
  },
  {
   "cell_type": "code",
   "execution_count": 12,
   "metadata": {},
   "outputs": [
    {
     "name": "stdout",
     "output_type": "stream",
     "text": [
      "<class 'pandas.core.frame.DataFrame'>\n",
      "RangeIndex: 280574 entries, 0 to 280573\n",
      "Data columns (total 6 columns):\n",
      "listing_id       280574 non-null int64\n",
      "id               280574 non-null int64\n",
      "review_date      280574 non-null object\n",
      "reviewer_id      280574 non-null int64\n",
      "reviewer_name    280574 non-null object\n",
      "comments         280574 non-null object\n",
      "dtypes: int64(3), object(3)\n",
      "memory usage: 12.8+ MB\n"
     ]
    }
   ],
   "source": [
    "sfo_reviews = pd.read_sql_query(query, con=engine)\n",
    "sfo_reviews.info()"
   ]
  },
  {
   "cell_type": "markdown",
   "metadata": {},
   "source": [
    "## Question 1:\n",
    "What's the most expensive listing? What else can you tell me about the listing?"
   ]
  },
  {
   "cell_type": "markdown",
   "metadata": {},
   "source": [
    "Steps:\n",
    "1. Find the most expensive listing and additional features of this listing, such as name, neighborhood, price, etc.\n",
    "2. Gather seasonal information by including months derived from the _sfo_calendar_ table.\n",
    "3. Restrict query to only include properties that have been booked and the most expensive property."
   ]
  },
  {
   "cell_type": "code",
   "execution_count": 13,
   "metadata": {},
   "outputs": [],
   "source": [
    "query = '''\n",
    "SELECT\n",
    "    sfo_listings.name,\n",
    "    sfo_listings.price,\n",
    "    sfo_listings.neighbourhood,\n",
    "    sfo_listings.room_type,\n",
    "    sfo_listings.minimum_nights,\n",
    "    sfo_listings.number_of_reviews,\n",
    "    DATE_PART('month', sfo_calendar.calender_date) AS month,\n",
    "    COUNT(*) num_stays\n",
    "FROM\n",
    "    sfo_listings\n",
    "JOIN\n",
    "    sfo_calendar\n",
    "ON\n",
    "    sfo_listings.id = sfo_calendar.listing_id\n",
    "WHERE\n",
    "    (sfo_listings.price = \n",
    "        (SELECT\n",
    "            MAX(price)\n",
    "          FROM\n",
    "            sfo_listings)\n",
    "    AND\n",
    "        sfo_calendar.available = 't'\n",
    "    )\n",
    "GROUP BY\n",
    "    1, 2, 3, 4, 5, 6, 7\n",
    ";\n",
    "'''"
   ]
  },
  {
   "cell_type": "code",
   "execution_count": 14,
   "metadata": {},
   "outputs": [
    {
     "data": {
      "text/html": [
       "<div>\n",
       "<style scoped>\n",
       "    .dataframe tbody tr th:only-of-type {\n",
       "        vertical-align: middle;\n",
       "    }\n",
       "\n",
       "    .dataframe tbody tr th {\n",
       "        vertical-align: top;\n",
       "    }\n",
       "\n",
       "    .dataframe thead th {\n",
       "        text-align: right;\n",
       "    }\n",
       "</style>\n",
       "<table border=\"1\" class=\"dataframe\">\n",
       "  <thead>\n",
       "    <tr style=\"text-align: right;\">\n",
       "      <th></th>\n",
       "      <th>name</th>\n",
       "      <th>price</th>\n",
       "      <th>neighbourhood</th>\n",
       "      <th>room_type</th>\n",
       "      <th>minimum_nights</th>\n",
       "      <th>number_of_reviews</th>\n",
       "      <th>month</th>\n",
       "      <th>num_stays</th>\n",
       "    </tr>\n",
       "  </thead>\n",
       "  <tbody>\n",
       "    <tr>\n",
       "      <th>0</th>\n",
       "      <td>Full House Victorian: 7500 SqFt, 4 Floors, Hot...</td>\n",
       "      <td>10000.0</td>\n",
       "      <td>Western Addition</td>\n",
       "      <td>Entire home/apt</td>\n",
       "      <td>2</td>\n",
       "      <td>3</td>\n",
       "      <td>9.0</td>\n",
       "      <td>11</td>\n",
       "    </tr>\n",
       "    <tr>\n",
       "      <th>1</th>\n",
       "      <td>Full House Victorian: 7500 SqFt, 4 Floors, Hot...</td>\n",
       "      <td>10000.0</td>\n",
       "      <td>Western Addition</td>\n",
       "      <td>Entire home/apt</td>\n",
       "      <td>2</td>\n",
       "      <td>3</td>\n",
       "      <td>10.0</td>\n",
       "      <td>4</td>\n",
       "    </tr>\n",
       "    <tr>\n",
       "      <th>2</th>\n",
       "      <td>Full House Victorian: 7500 SqFt, 4 Floors, Hot...</td>\n",
       "      <td>10000.0</td>\n",
       "      <td>Western Addition</td>\n",
       "      <td>Entire home/apt</td>\n",
       "      <td>2</td>\n",
       "      <td>3</td>\n",
       "      <td>11.0</td>\n",
       "      <td>5</td>\n",
       "    </tr>\n",
       "    <tr>\n",
       "      <th>3</th>\n",
       "      <td>Full House Victorian: 7500 SqFt, 4 Floors, Hot...</td>\n",
       "      <td>10000.0</td>\n",
       "      <td>Western Addition</td>\n",
       "      <td>Entire home/apt</td>\n",
       "      <td>2</td>\n",
       "      <td>3</td>\n",
       "      <td>12.0</td>\n",
       "      <td>8</td>\n",
       "    </tr>\n",
       "  </tbody>\n",
       "</table>\n",
       "</div>"
      ],
      "text/plain": [
       "                                                name    price  \\\n",
       "0  Full House Victorian: 7500 SqFt, 4 Floors, Hot...  10000.0   \n",
       "1  Full House Victorian: 7500 SqFt, 4 Floors, Hot...  10000.0   \n",
       "2  Full House Victorian: 7500 SqFt, 4 Floors, Hot...  10000.0   \n",
       "3  Full House Victorian: 7500 SqFt, 4 Floors, Hot...  10000.0   \n",
       "\n",
       "      neighbourhood        room_type  minimum_nights  number_of_reviews  \\\n",
       "0  Western Addition  Entire home/apt               2                  3   \n",
       "1  Western Addition  Entire home/apt               2                  3   \n",
       "2  Western Addition  Entire home/apt               2                  3   \n",
       "3  Western Addition  Entire home/apt               2                  3   \n",
       "\n",
       "   month  num_stays  \n",
       "0    9.0         11  \n",
       "1   10.0          4  \n",
       "2   11.0          5  \n",
       "3   12.0          8  "
      ]
     },
     "execution_count": 14,
     "metadata": {},
     "output_type": "execute_result"
    }
   ],
   "source": [
    "df = pd.read_sql_query(query, con=engine)\n",
    "df.head(n=50)"
   ]
  },
  {
   "cell_type": "markdown",
   "metadata": {},
   "source": [
    "## Question 2: \n",
    "What neighborhoods seem to be the most popular?"
   ]
  },
  {
   "cell_type": "markdown",
   "metadata": {},
   "source": [
    "Steps:\n",
    "1. Find the booking counts for all of the properties that have been booked.\n",
    "2. Narrow query by finding the maximum booking count and only returning the row with this maximum value."
   ]
  },
  {
   "cell_type": "code",
   "execution_count": 15,
   "metadata": {},
   "outputs": [],
   "source": [
    "query = '''\n",
    "WITH\n",
    "    booking_counts\n",
    "AS (\n",
    "    SELECT\n",
    "        sfo_listings.neighbourhood,\n",
    "        COUNT(*) booking_count\n",
    "    FROM\n",
    "        sfo_listings\n",
    "    JOIN\n",
    "        sfo_calendar\n",
    "    ON\n",
    "        sfo_listings.id = sfo_calendar.listing_id\n",
    "    WHERE\n",
    "        sfo_calendar.available = 't'\n",
    "    GROUP BY\n",
    "        1\n",
    "    ORDER BY\n",
    "        booking_count DESC\n",
    ")\n",
    "SELECT\n",
    "    neighbourhood,\n",
    "    booking_count\n",
    "FROM\n",
    "    booking_counts\n",
    "WHERE \n",
    "    booking_count = \n",
    "        (SELECT \n",
    "            MAX(booking_count)\n",
    "         FROM\n",
    "             booking_counts)\n",
    ";\n",
    "'''"
   ]
  },
  {
   "cell_type": "code",
   "execution_count": 16,
   "metadata": {},
   "outputs": [
    {
     "data": {
      "text/html": [
       "<div>\n",
       "<style scoped>\n",
       "    .dataframe tbody tr th:only-of-type {\n",
       "        vertical-align: middle;\n",
       "    }\n",
       "\n",
       "    .dataframe tbody tr th {\n",
       "        vertical-align: top;\n",
       "    }\n",
       "\n",
       "    .dataframe thead th {\n",
       "        text-align: right;\n",
       "    }\n",
       "</style>\n",
       "<table border=\"1\" class=\"dataframe\">\n",
       "  <thead>\n",
       "    <tr style=\"text-align: right;\">\n",
       "      <th></th>\n",
       "      <th>neighbourhood</th>\n",
       "      <th>booking_count</th>\n",
       "    </tr>\n",
       "  </thead>\n",
       "  <tbody>\n",
       "    <tr>\n",
       "      <th>0</th>\n",
       "      <td>Mission</td>\n",
       "      <td>89156</td>\n",
       "    </tr>\n",
       "  </tbody>\n",
       "</table>\n",
       "</div>"
      ],
      "text/plain": [
       "  neighbourhood  booking_count\n",
       "0       Mission          89156"
      ]
     },
     "execution_count": 16,
     "metadata": {},
     "output_type": "execute_result"
    }
   ],
   "source": [
    "df = pd.read_sql_query(query, con=engine)\n",
    "df.head()"
   ]
  },
  {
   "cell_type": "markdown",
   "metadata": {},
   "source": [
    "## Question 3a:\n",
    "What time of year is the cheapest time to go to San Francisco?\n",
    "\n",
    "Steps:\n",
    "1. Find the average price per month.\n",
    "2. Restrict to properties that have been booked.\n",
    "3. Order by the average price to show cheapest at top."
   ]
  },
  {
   "cell_type": "code",
   "execution_count": 17,
   "metadata": {},
   "outputs": [],
   "source": [
    "query = '''\n",
    "SELECT\n",
    "    DATE_PART('month', sfo_calendar.calender_date) AS month,\n",
    "    AVG(sfo_listings.price) mean_price\n",
    "FROM\n",
    "    sfo_calendar\n",
    "JOIN\n",
    "    sfo_listings\n",
    "ON\n",
    "     sfo_calendar.listing_id = sfo_listings.id\n",
    "WHERE\n",
    "    sfo_calendar.available = 't'\n",
    "GROUP BY\n",
    "    month\n",
    "ORDER BY\n",
    "    mean_price\n",
    ";\n",
    "'''"
   ]
  },
  {
   "cell_type": "code",
   "execution_count": 18,
   "metadata": {},
   "outputs": [
    {
     "data": {
      "text/html": [
       "<div>\n",
       "<style scoped>\n",
       "    .dataframe tbody tr th:only-of-type {\n",
       "        vertical-align: middle;\n",
       "    }\n",
       "\n",
       "    .dataframe tbody tr th {\n",
       "        vertical-align: top;\n",
       "    }\n",
       "\n",
       "    .dataframe thead th {\n",
       "        text-align: right;\n",
       "    }\n",
       "</style>\n",
       "<table border=\"1\" class=\"dataframe\">\n",
       "  <thead>\n",
       "    <tr style=\"text-align: right;\">\n",
       "      <th></th>\n",
       "      <th>month</th>\n",
       "      <th>mean_price</th>\n",
       "    </tr>\n",
       "  </thead>\n",
       "  <tbody>\n",
       "    <tr>\n",
       "      <th>0</th>\n",
       "      <td>4.0</td>\n",
       "      <td>197.079950</td>\n",
       "    </tr>\n",
       "    <tr>\n",
       "      <th>1</th>\n",
       "      <td>3.0</td>\n",
       "      <td>197.934214</td>\n",
       "    </tr>\n",
       "    <tr>\n",
       "      <th>2</th>\n",
       "      <td>1.0</td>\n",
       "      <td>198.431316</td>\n",
       "    </tr>\n",
       "    <tr>\n",
       "      <th>3</th>\n",
       "      <td>5.0</td>\n",
       "      <td>198.689699</td>\n",
       "    </tr>\n",
       "    <tr>\n",
       "      <th>4</th>\n",
       "      <td>11.0</td>\n",
       "      <td>200.599025</td>\n",
       "    </tr>\n",
       "    <tr>\n",
       "      <th>5</th>\n",
       "      <td>12.0</td>\n",
       "      <td>200.759216</td>\n",
       "    </tr>\n",
       "    <tr>\n",
       "      <th>6</th>\n",
       "      <td>2.0</td>\n",
       "      <td>200.874781</td>\n",
       "    </tr>\n",
       "    <tr>\n",
       "      <th>7</th>\n",
       "      <td>6.0</td>\n",
       "      <td>201.572516</td>\n",
       "    </tr>\n",
       "    <tr>\n",
       "      <th>8</th>\n",
       "      <td>8.0</td>\n",
       "      <td>202.472754</td>\n",
       "    </tr>\n",
       "    <tr>\n",
       "      <th>9</th>\n",
       "      <td>7.0</td>\n",
       "      <td>203.080884</td>\n",
       "    </tr>\n",
       "    <tr>\n",
       "      <th>10</th>\n",
       "      <td>10.0</td>\n",
       "      <td>209.398090</td>\n",
       "    </tr>\n",
       "    <tr>\n",
       "      <th>11</th>\n",
       "      <td>9.0</td>\n",
       "      <td>225.481736</td>\n",
       "    </tr>\n",
       "  </tbody>\n",
       "</table>\n",
       "</div>"
      ],
      "text/plain": [
       "    month  mean_price\n",
       "0     4.0  197.079950\n",
       "1     3.0  197.934214\n",
       "2     1.0  198.431316\n",
       "3     5.0  198.689699\n",
       "4    11.0  200.599025\n",
       "5    12.0  200.759216\n",
       "6     2.0  200.874781\n",
       "7     6.0  201.572516\n",
       "8     8.0  202.472754\n",
       "9     7.0  203.080884\n",
       "10   10.0  209.398090\n",
       "11    9.0  225.481736"
      ]
     },
     "execution_count": 18,
     "metadata": {},
     "output_type": "execute_result"
    }
   ],
   "source": [
    "df = pd.read_sql_query(query, con=engine)\n",
    "df.head(n=20)"
   ]
  },
  {
   "cell_type": "markdown",
   "metadata": {},
   "source": [
    "## Question 3b:\n",
    "What time of year is the busiest time to go to San Francisco?"
   ]
  },
  {
   "cell_type": "markdown",
   "metadata": {},
   "source": [
    "Steps:\n",
    "1. Count the number of bookings by month.\n",
    "2. Only include properties that have been booked.\n",
    "3. Order by descending booking count to show busiest time of year at the top."
   ]
  },
  {
   "cell_type": "code",
   "execution_count": 19,
   "metadata": {},
   "outputs": [],
   "source": [
    "query = '''\n",
    "SELECT\n",
    "    COUNT(*) booking_count,\n",
    "    DATE_PART('month', sfo_calendar.calender_date) AS month\n",
    "FROM\n",
    "    sfo_calendar\n",
    "JOIN\n",
    "    sfo_listings\n",
    "ON\n",
    "     sfo_calendar.listing_id = sfo_listings.id\n",
    "WHERE\n",
    "    sfo_calendar.available = 't'\n",
    "GROUP BY\n",
    "    month\n",
    "ORDER BY\n",
    "    booking_count DESC, \n",
    "    month;\n",
    "'''"
   ]
  },
  {
   "cell_type": "code",
   "execution_count": 20,
   "metadata": {},
   "outputs": [
    {
     "data": {
      "text/html": [
       "<div>\n",
       "<style scoped>\n",
       "    .dataframe tbody tr th:only-of-type {\n",
       "        vertical-align: middle;\n",
       "    }\n",
       "\n",
       "    .dataframe tbody tr th {\n",
       "        vertical-align: top;\n",
       "    }\n",
       "\n",
       "    .dataframe thead th {\n",
       "        text-align: right;\n",
       "    }\n",
       "</style>\n",
       "<table border=\"1\" class=\"dataframe\">\n",
       "  <thead>\n",
       "    <tr style=\"text-align: right;\">\n",
       "      <th></th>\n",
       "      <th>booking_count</th>\n",
       "      <th>month</th>\n",
       "    </tr>\n",
       "  </thead>\n",
       "  <tbody>\n",
       "    <tr>\n",
       "      <th>0</th>\n",
       "      <td>96674</td>\n",
       "      <td>1.0</td>\n",
       "    </tr>\n",
       "    <tr>\n",
       "      <th>1</th>\n",
       "      <td>94814</td>\n",
       "      <td>11.0</td>\n",
       "    </tr>\n",
       "    <tr>\n",
       "      <th>2</th>\n",
       "      <td>92452</td>\n",
       "      <td>12.0</td>\n",
       "    </tr>\n",
       "    <tr>\n",
       "      <th>3</th>\n",
       "      <td>91751</td>\n",
       "      <td>2.0</td>\n",
       "    </tr>\n",
       "    <tr>\n",
       "      <th>4</th>\n",
       "      <td>82464</td>\n",
       "      <td>3.0</td>\n",
       "    </tr>\n",
       "    <tr>\n",
       "      <th>5</th>\n",
       "      <td>80712</td>\n",
       "      <td>5.0</td>\n",
       "    </tr>\n",
       "    <tr>\n",
       "      <th>6</th>\n",
       "      <td>76469</td>\n",
       "      <td>8.0</td>\n",
       "    </tr>\n",
       "    <tr>\n",
       "      <th>7</th>\n",
       "      <td>76373</td>\n",
       "      <td>4.0</td>\n",
       "    </tr>\n",
       "    <tr>\n",
       "      <th>8</th>\n",
       "      <td>75503</td>\n",
       "      <td>7.0</td>\n",
       "    </tr>\n",
       "    <tr>\n",
       "      <th>9</th>\n",
       "      <td>73294</td>\n",
       "      <td>6.0</td>\n",
       "    </tr>\n",
       "    <tr>\n",
       "      <th>10</th>\n",
       "      <td>67530</td>\n",
       "      <td>10.0</td>\n",
       "    </tr>\n",
       "    <tr>\n",
       "      <th>11</th>\n",
       "      <td>45143</td>\n",
       "      <td>9.0</td>\n",
       "    </tr>\n",
       "  </tbody>\n",
       "</table>\n",
       "</div>"
      ],
      "text/plain": [
       "    booking_count  month\n",
       "0           96674    1.0\n",
       "1           94814   11.0\n",
       "2           92452   12.0\n",
       "3           91751    2.0\n",
       "4           82464    3.0\n",
       "5           80712    5.0\n",
       "6           76469    8.0\n",
       "7           76373    4.0\n",
       "8           75503    7.0\n",
       "9           73294    6.0\n",
       "10          67530   10.0\n",
       "11          45143    9.0"
      ]
     },
     "execution_count": 20,
     "metadata": {},
     "output_type": "execute_result"
    }
   ],
   "source": [
    "df = pd.read_sql_query(query, con=engine)\n",
    "df.head(n=12)"
   ]
  }
 ],
 "metadata": {
  "kernelspec": {
   "display_name": "Python 3",
   "language": "python",
   "name": "python3"
  },
  "language_info": {
   "codemirror_mode": {
    "name": "ipython",
    "version": 3
   },
   "file_extension": ".py",
   "mimetype": "text/x-python",
   "name": "python",
   "nbconvert_exporter": "python",
   "pygments_lexer": "ipython3",
   "version": "3.6.8"
  }
 },
 "nbformat": 4,
 "nbformat_minor": 2
}
