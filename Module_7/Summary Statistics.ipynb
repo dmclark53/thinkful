{
 "cells": [
  {
   "cell_type": "markdown",
   "metadata": {},
   "source": [
    "# Summary Statistics"
   ]
  },
  {
   "cell_type": "markdown",
   "metadata": {},
   "source": [
    "## Assignments\n",
    "\n",
    "Now that we have introduced some tools for describing populations, let's try them out. First do these drills by hand, then use the Python code we've provided in the previous assignments to check your work. Keep track of your work in a Google document or markdown file that you can submit below and share with your mentor.\n",
    "\n",
    "1. Greg was 14, Marcia was 12, Peter was 11, Jan was 10, Bobby was 8, and Cindy was 6 when they started playing the Brady kids on The Brady Bunch. Cousin Oliver was 8 years old when he joined the show. What are the mean, median, and mode of the kids' ages when they first appeared on the show? What are the variance, standard deviation, and standard error?\n",
    "2. Using these estimates, if you had to choose only one estimate of central tendency and one estimate of variance to describe the data, which would you pick and why?\n",
    "3. Next, Cindy has a birthday. Update your estimates- what changed, and what didn't?\n",
    "4. Nobody likes Cousin Oliver. Maybe the network should have used an even younger actor. Replace Cousin Oliver with 1-year-old Jessica, then recalculate again. Does this change your choice of central tendency or variance estimation methods?\n",
    "5. On the 50th anniversary of The Brady Bunch, four different magazines asked their readers whether they were fans of the show. The answers were: TV Guide 20% fans Entertainment Weekly 23% fans Pop Culture Today 17% fans SciPhi Phanatic 5% fans. Based on these numbers, what percentage of adult Americans would you estimate were Brady Bunch fans on the 50th anniversary of the show?\n",
    "\n",
    "Discuss your answer to each of these questions, along with your code, with your mentor."
   ]
  },
  {
   "cell_type": "markdown",
   "metadata": {},
   "source": [
    "### By Hand:\n",
    "**1.** Greg was 14, Marcia was 12, Peter was 11, Jan was 10, Bobby was 8, and Cindy was 6 when they started playing the Brady kids on The Brady Bunch. Cousin Oliver was 8 years old when he joined the show. What are the mean, median, and mode of the kids' ages when they first appeared on the show? What are the variance, standard deviation, and standard error?\n",
    "\n",
    "**Solution:**\n",
    "\n",
    "> ages = 14, 12, 11, 10, 8, 6, 8\n",
    "   ages sorted = 6, 8, 8, 10, 11, 12, 14\n",
    "   \n",
    "> **mode = 8**  This is the value that occurs most in this sample.\n",
    "   \n",
    "> **median = 10**  This is the middle value of this sample. After sorting the numbers, it is easy to see which is                       the middle value.\n",
    "> total = 6 + 8 + 8 + 10 + 11 + 12 + 14 = 69\n",
    "> mean = 69 / 7\n",
    "   \n",
    "> **mean = 9.857**\n",
    "   \n",
    "> Calculate the Variance:\n",
    "> `v = sum((x - mean)**2) / (n - 1)`\n",
    "> `x - mean` = -3.857, -1.857, -1.857, 0.143, 1.143, 2.143, 4.143\n",
    "> `(x - mean)**2` = 14.876, 3.448, 3.448, 0.020, 1.306, 4.592, 17.164\n",
    "> `sum((x - mean)**2)` = 44.854\n",
    "> v = 44.854 / (7 - 1)\n",
    "   \n",
    "> **variance = 7.476**\n",
    "> s = v\\*\\*0.5\n",
    "   \n",
    "> **standard deviation = 2.734**\n",
    "> se = s / (n\\*\\*0.5) = 2.734 / (7\\*\\*0.5)\n",
    "   \n",
    "> **standard error = 1.03**\n",
    "   \n",
    "**2.** Using these estimates, if you had to choose only one estimate of central tendency and one estimate of variance to describe the data, which would you pick and why?\n",
    "\n",
    "> For central tendency I would choose mean as it is more sentive to changes in the sample as opposed to median or mode. By changing a single value in the sample the mean will always change, while the median and mode may not. To measure variance I would choose standard deviation. \n",
    "\n",
    "**3.** Next, Cindy has a birthday. Update your estimates- what changed, and what didn't?\n",
    "   \n",
    "**Solution:**\n",
    "\n",
    "> update sorted ages = 7, 8, 8, 10, 11, 12, 14\n",
    "   \n",
    "> **mode = 8**  This value stays the same.\n",
    "   \n",
    "> **median = 10**  This value stays the same.\n",
    "   \n",
    "> total = 7 + 8 + 8 + 10 + 11 + 12 + 14 = 70\n",
    "> mean = 70 / 7\n",
    "> **mean = 10**  This value is different.\n",
    "   \n",
    "> Calculate the Variance:\n",
    "> `v = sum((x - mean)**2) / (n - 1)`\n",
    "\n",
    "> `x - mean` = -3, -2, -2, 0, 1, 2, 4\n",
    "> `(x - mean)**2` = 9, 4, 4, 0, 1, 4, 16\n",
    "> `sum((x - mean)**2)` = 38\n",
    "> v = 38 / (7 - 1)\n",
    "> **variance = 6.333**  This is different.\n",
    "   \n",
    "> s = v\\*\\*0.5\n",
    "> **standard deviation = 2.517**  This is different.\n",
    "   \n",
    "> se = s / (n\\*\\*0.5) = 2.517 / (7\\*\\*0.5)\n",
    "> **standard error = 0.951**  This is different.\n",
    "   \n",
    "> After adjust for Cindy's birthday, the only values that stay the same are the median and mode.\n",
    "   \n",
    "**4.** Nobody likes Cousin Oliver. Maybe the network should have used an even younger actor. Replace Cousin Oliver with 1-year-old Jessica, then recalculate again. Does this change your choice of central tendency or variance estimation methods?\n",
    "\n",
    "**Solution:**\n",
    "\n",
    "> update sorted ages = 1, 7, 8, 10, 11, 12, 14\n",
    "   \n",
    "> **mode:**  There is no mode as all the values are now unique.\n",
    "   \n",
    "> **median = 10**  This value stays the same.\n",
    "   \n",
    "> total = 1 + 7 + 8 + 10 + 11 + 12 + 14 = 63\n",
    "> mean = 63 / 7\n",
    "> **mean = 9**\n",
    "   \n",
    "> Calculate the Variance:\n",
    "> `v = sum((x - mean)**2) / (n - 1)`\n",
    "> `x - mean` = -8, -2, -1, 1, 2, 3, 5\n",
    "> `(x - mean)**2` = 64, 4, 1, 1, 4, 9, 25\n",
    "> `sum((x - mean)**2)` = 108\n",
    "> v = 108 / (7 - 1)\n",
    "> **variance = 16**\n",
    "   \n",
    "> s = v\\*\\*0.5\n",
    "> **standard deviation = 4**\n",
    "   \n",
    "> se = s / (n\\*\\*0.5) = 4 / (7\\*\\*0.5)\n",
    "> **standard error = 1.512**\n",
    "\n",
    "> I would still stick with my choices for central tendency and variance. After changing one age value from 8 to 1, the mean changes from 10 to 9 and the standard deviation changes from 2.517 to 4. While the means are not that different, there is now a much larger spread in values. **Correction:** The median is better to use since the outlier point makes the mean and median diverge.\n",
    "\n",
    "**5.** On the 50th anniversary of The Brady Bunch, four different magazines asked their readers whether they were fans of the show. The answers were: TV Guide 20% fans Entertainment Weekly 23% fans Pop Culture Today 17% fans SciPhi Phanatic 5% fans. Based on these numbers, what percentage of adult Americans would you estimate were Brady Bunch fans on the 50th anniversary of the show?\n",
    "\n",
    "**Solution:**\n",
    "\n",
    "> fan percentages = 20, 23, 17, 5\n",
    "> average fan percentage = (20 + 23 + 17 + 5) / 4 = **16.25**\n",
    "\n",
    "> The percentage of adults that are Brady Bunch fans on the show's 50th anniversary is 16.25%.\n",
    "\n",
    "> **Correction:** It is better to exclude SciPhi Phanatic when calculating the percentage because this is a special interest group.\n",
    "> fan percentages = 20, 23, 17\n",
    "> average fan percentage = (20 + 23 + 17) / 4 = **20**\n",
    "\n",
    "> The percentage of adults that are Brady Bunch fans on the show's 50th anniversary is 20%.\n"
   ]
  },
  {
   "cell_type": "code",
   "execution_count": 8,
   "metadata": {},
   "outputs": [
    {
     "data": {
      "text/plain": [
       "False"
      ]
     },
     "execution_count": 8,
     "metadata": {},
     "output_type": "execute_result"
    }
   ],
   "source": [
    "x = []\n",
    "type(x) != list"
   ]
  },
  {
   "cell_type": "code",
   "execution_count": 9,
   "metadata": {},
   "outputs": [],
   "source": [
    "def sum(x):\n",
    "    if type(x) != list:\n",
    "        print('Input must be a list.')\n",
    "        return None\n",
    "    total = 0\n",
    "    for value in x:\n",
    "        total += value\n",
    "    return total"
   ]
  },
  {
   "cell_type": "code",
   "execution_count": null,
   "metadata": {},
   "outputs": [],
   "source": [
    "def mean(x):\n",
    "    "
   ]
  },
  {
   "cell_type": "markdown",
   "metadata": {},
   "source": [
    "## Using Python"
   ]
  },
  {
   "cell_type": "code",
   "execution_count": 1,
   "metadata": {},
   "outputs": [],
   "source": [
    "import numpy as np\n",
    "import statistics\n",
    "from statistics import StatisticsError"
   ]
  },
  {
   "cell_type": "markdown",
   "metadata": {},
   "source": [
    "**1.** Greg was 14, Marcia was 12, Peter was 11, Jan was 10, Bobby was 8, and Cindy was 6 when they started playing the Brady kids on The Brady Bunch. Cousin Oliver was 8 years old when he joined the show. What are the mean, median, and mode of the kids' ages when they first appeared on the show? What are the variance, standard deviation, and standard error?\n",
    "\n",
    "**Solution:**"
   ]
  },
  {
   "cell_type": "code",
   "execution_count": 2,
   "metadata": {},
   "outputs": [
    {
     "name": "stdout",
     "output_type": "stream",
     "text": [
      "The mean age is 9.857142857142858.\n",
      "The median age is 10.0.\n",
      "The mode is 8.\n",
      "The variance is 6.408163265306122.\n",
      "The standard deviation is 2.531435020952764.\n",
      "The standard error is 1.0334540197243192.\n"
     ]
    }
   ],
   "source": [
    "ages = np.array([14, 12, 11, 10, 8, 6, 8])\n",
    "\n",
    "# Calculate the mean\n",
    "mean = np.mean(ages)\n",
    "print('The mean age is {}.'.format(mean))\n",
    "\n",
    "# Calculate the median\n",
    "median = np.median(ages)\n",
    "print('The median age is {}.'.format(median))\n",
    "\n",
    "# Calculate the mode\n",
    "try:\n",
    "    mode = statistics.mode(ages)\n",
    "    print('The mode is {}.'.format(mode))\n",
    "except StatisticsError:\n",
    "    print('There is no mode.')\n",
    "    \n",
    "# Calculate the variance\n",
    "v = np.var(ages)\n",
    "print('The variance is {}.'.format(v))\n",
    "\n",
    "# Calculate the standard deviation\n",
    "s = np.std(ages)\n",
    "print('The standard deviation is {}.'.format(s))\n",
    "\n",
    "# Calculate the standard error\n",
    "se = np.std(ages, ddof=1) / np.sqrt(len(ages))\n",
    "print('The standard error is {}.'.format(se))"
   ]
  },
  {
   "cell_type": "markdown",
   "metadata": {},
   "source": [
    "**2.** Using these estimates, if you had to choose only one estimate of central tendency and one estimate of variance to describe the data, which would you pick and why?\n",
    "\n",
    "> For central tendency I would choose mean as it is more sentive to changes in the sample as opposed to median or mode. By changing a single value in the sample the mean will always change, while the median and mode may not. To measure variance I would choose standard deviation."
   ]
  },
  {
   "cell_type": "markdown",
   "metadata": {},
   "source": [
    "**3.** Next, Cindy has a birthday. Update your estimates- what changed, and what didn't?\n",
    "   \n",
    "**Solution:**"
   ]
  },
  {
   "cell_type": "code",
   "execution_count": 3,
   "metadata": {},
   "outputs": [
    {
     "name": "stdout",
     "output_type": "stream",
     "text": [
      "The mean age is 10.0. This value is different.\n",
      "The median age is 10.0. This value is the same.\n",
      "The mode is 8. This value is the same.\n",
      "The variance is 5.428571428571429. This value is different.\n",
      "The standard deviation is 2.32992949004287. This value is different.\n",
      "The standard error is 0.9511897312113418. This value is different.\n"
     ]
    }
   ],
   "source": [
    "ages = np.array([14, 12, 11, 10, 8, 7, 8])\n",
    "\n",
    "# Calculate the mean\n",
    "mean = np.mean(ages)\n",
    "print('The mean age is {}. This value is different.'.format(mean))\n",
    "\n",
    "# Calculate the median\n",
    "median = np.median(ages)\n",
    "print('The median age is {}. This value is the same.'.format(median))\n",
    "\n",
    "# Calculate the mode\n",
    "try:\n",
    "    mode = statistics.mode(ages)\n",
    "    print('The mode is {}. This value is the same.'.format(mode))\n",
    "except StatisticsError:\n",
    "    print('There is no mode.')\n",
    "    \n",
    "# Calculate the variance\n",
    "v = np.var(ages)\n",
    "print('The variance is {}. This value is different.'.format(v))\n",
    "\n",
    "# Calculate the standard deviation\n",
    "s = np.std(ages)\n",
    "print('The standard deviation is {}. This value is different.'.format(s))\n",
    "\n",
    "# Calculate the standard error\n",
    "se = np.std(ages, ddof=1) / np.sqrt(len(ages))\n",
    "print('The standard error is {}. This value is different.'.format(se))"
   ]
  },
  {
   "cell_type": "markdown",
   "metadata": {},
   "source": [
    "After adjust for Cindy's birthday, the only values that stay the same are the median and mode."
   ]
  },
  {
   "cell_type": "markdown",
   "metadata": {},
   "source": [
    "**4.** Nobody likes Cousin Oliver. Maybe the network should have used an even younger actor. Replace Cousin Oliver with 1-year-old Jessica, then recalculate again. Does this change your choice of central tendency or variance estimation methods?\n",
    "\n",
    "**Solution:**"
   ]
  },
  {
   "cell_type": "code",
   "execution_count": 4,
   "metadata": {},
   "outputs": [
    {
     "name": "stdout",
     "output_type": "stream",
     "text": [
      "The mean age is 9.0.\n",
      "The median age is 10.0.\n",
      "There is no mode.\n",
      "The variance is 15.428571428571429.\n",
      "The standard deviation is 3.927922024247863.\n",
      "The standard error is 1.6035674514745462.\n"
     ]
    }
   ],
   "source": [
    "ages = np.array([14, 12, 11, 10, 8, 7, 1])\n",
    "\n",
    "# Calculate the mean\n",
    "mean = np.mean(ages)\n",
    "print('The mean age is {}.'.format(mean))\n",
    "\n",
    "# Calculate the median\n",
    "median = np.median(ages)\n",
    "print('The median age is {}.'.format(median))\n",
    "\n",
    "# Calculate the mode\n",
    "try:\n",
    "    mode = statistics.mode(ages)\n",
    "    print('The mode is {}.'.format(mode))\n",
    "except StatisticsError:\n",
    "    print('There is no mode.')\n",
    "    \n",
    "# Calculate the variance\n",
    "v = np.var(ages)\n",
    "print('The variance is {}.'.format(v))\n",
    "\n",
    "# Calculate the standard deviation\n",
    "s = np.std(ages)\n",
    "print('The standard deviation is {}.'.format(s))\n",
    "\n",
    "# Calculate the standard error\n",
    "se = np.std(ages, ddof=1) / np.sqrt(len(ages))\n",
    "print('The standard error is {}.'.format(se))"
   ]
  },
  {
   "cell_type": "markdown",
   "metadata": {},
   "source": [
    "I would still stick with my choices for central tendency and variance. After changing one age value from 8 to 1, the mean changes from 10 to 9 and the standard deviation changes from 2.517 to 4. While the means are not that different, there is now a much larger spread in values.\n",
    "\n",
    "**Correction:** The median is better to use since the outlier point makes the mean and median diverge."
   ]
  },
  {
   "cell_type": "markdown",
   "metadata": {},
   "source": [
    "**5.** On the 50th anniversary of The Brady Bunch, four different magazines asked their readers whether they were fans of the show. The answers were: TV Guide 20% fans Entertainment Weekly 23% fans Pop Culture Today 17% fans SciPhi Phanatic 5% fans. Based on these numbers, what percentage of adult Americans would you estimate were Brady Bunch fans on the 50th anniversary of the show?\n",
    "\n",
    "**Solution:**"
   ]
  },
  {
   "cell_type": "code",
   "execution_count": 5,
   "metadata": {},
   "outputs": [
    {
     "name": "stdout",
     "output_type": "stream",
     "text": [
      "The percentage of adults that are Brady Bunch fans on the show's 50th anniversary is 16.25%.\n"
     ]
    }
   ],
   "source": [
    "fan_percentages = np.array([20, 23, 17, 5])\n",
    "\n",
    "print('The percentage of adults that are Brady Bunch fans on the show\\'s 50th anniversary is {}%.'.format(np.mean(fan_percentages)))"
   ]
  },
  {
   "cell_type": "markdown",
   "metadata": {},
   "source": [
    "**Correction:** It is better to exclude SciPhi Phanatic when calculating the percentage because this is a special interest group."
   ]
  },
  {
   "cell_type": "code",
   "execution_count": 6,
   "metadata": {},
   "outputs": [
    {
     "name": "stdout",
     "output_type": "stream",
     "text": [
      "The percentage of adults that are Brady Bunch fans on the show's 50th anniversary is 20.0%.\n"
     ]
    }
   ],
   "source": [
    "fan_percentages = np.array([20, 23, 17])\n",
    "\n",
    "print('The percentage of adults that are Brady Bunch fans on the show\\'s 50th anniversary is {}%.'.format(np.mean(fan_percentages)))"
   ]
  },
  {
   "cell_type": "code",
   "execution_count": null,
   "metadata": {},
   "outputs": [],
   "source": []
  }
 ],
 "metadata": {
  "kernelspec": {
   "display_name": "Python 3",
   "language": "python",
   "name": "python3"
  },
  "language_info": {
   "codemirror_mode": {
    "name": "ipython",
    "version": 3
   },
   "file_extension": ".py",
   "mimetype": "text/x-python",
   "name": "python",
   "nbconvert_exporter": "python",
   "pygments_lexer": "ipython3",
   "version": "3.6.8"
  }
 },
 "nbformat": 4,
 "nbformat_minor": 2
}
