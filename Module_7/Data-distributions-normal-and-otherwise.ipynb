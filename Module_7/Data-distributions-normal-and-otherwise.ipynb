{
 "cells": [
  {
   "cell_type": "markdown",
   "metadata": {},
   "source": [
    "# Data Distributions Normal and Otherwise\n",
    "\n",
    "## Distributions\n",
    "For this assignment, I will choose the following distributions:\n",
    "\n",
    "* np.chisquare()\n",
    "* np.laplace()\n",
    "* np.logistic()\n",
    "* np.lognormal()\n",
    "* np.rayleigh()\n",
    "* np.wald()"
   ]
  },
  {
   "cell_type": "code",
   "execution_count": 3,
   "metadata": {},
   "outputs": [],
   "source": [
    "import matplotlib.pyplot as plt\n",
    "import numpy as np\n",
    "import pandas as pd\n",
    "\n",
    "%matplotlib inline"
   ]
  },
  {
   "cell_type": "code",
   "execution_count": 4,
   "metadata": {},
   "outputs": [],
   "source": [
    "# Create a DataFrame to store the distributions\n",
    "distributions = pd.DataFrame()\n",
    "\n",
    "# Define sample size\n",
    "sample_size = 100"
   ]
  },
  {
   "cell_type": "markdown",
   "metadata": {},
   "source": [
    "### Chi-Square Distribution"
   ]
  },
  {
   "cell_type": "code",
   "execution_count": 5,
   "metadata": {},
   "outputs": [],
   "source": [
    "distributions['chisquare'] = np.random.chisquare(2, sample_size)"
   ]
  },
  {
   "cell_type": "code",
   "execution_count": 13,
   "metadata": {},
   "outputs": [
    {
     "data": {
      "image/png": "[encoded data removed]",
      "text/plain": [
       "<Figure size 432x288 with 1 Axes>"
      ]
     },
     "metadata": {
      "needs_background": "light"
     },
     "output_type": "display_data"
    }
   ],
   "source": [
    "plt.hist(distributions['chisquare'], color='g', alpha=0.75)\n",
    "plt.axvline(distributions['chisquare'].mean(), linestyle='solid', color='k')\n",
    "plt.axvline(distributions['chisquare'].mean() - distributions['chisquare'].std(), linestyle='dashed', color='k')\n",
    "plt.axvline(distributions['chisquare'].mean() + distributions['chisquare'].std(), linestyle='dashed', color='k')\n",
    "plt.show()"
   ]
  },
  {
   "cell_type": "markdown",
   "metadata": {},
   "source": [
    "#### Observations:\n",
    "The chi-squared distribution is skewed to the left, with more points plotted at smaller values. The mean does not fall near the center of the distribution and there are an unequal number of points between each standard deviation line and the mean. Therefore, the mean and standard deviation are not good measures of central tendancy for the chi-squared distribution."
   ]
  },
  {
   "cell_type": "markdown",
   "metadata": {},
   "source": [
    "### Laplace Distribution"
   ]
  },
  {
   "cell_type": "code",
   "execution_count": 14,
   "metadata": {},
   "outputs": [],
   "source": [
    "distributions['laplace'] = np.random.laplace(size=sample_size)"
   ]
  },
  {
   "cell_type": "code",
   "execution_count": 15,
   "metadata": {},
   "outputs": [
    {
     "data": {
      "image/png": "[encoded data removed]",
      "text/plain": [
       "<Figure size 432x288 with 1 Axes>"
      ]
     },
     "metadata": {
      "needs_background": "light"
     },
     "output_type": "display_data"
    }
   ],
   "source": [
    "plt.hist(distributions['laplace'], color='g', alpha=0.75)\n",
    "plt.axvline(distributions['laplace'].mean(), linestyle='solid', color='k')\n",
    "plt.axvline(distributions['laplace'].mean() - distributions['laplace'].std(), linestyle='dashed', color='k')\n",
    "plt.axvline(distributions['laplace'].mean() + distributions['laplace'].std(), linestyle='dashed', color='k')\n",
    "plt.show()"
   ]
  },
  {
   "cell_type": "markdown",
   "metadata": {},
   "source": [
    "#### Observations:\n",
    "\n",
    "This distribution does not appear skewed. The mean is near the center of this distribution and there are roughly an equal number of points between the mean value and one standardard deviation on either side of the mean. Therefore, the mean and standard deviation are good measures of central tendency for the Laplace distribution."
   ]
  },
  {
   "cell_type": "markdown",
   "metadata": {},
   "source": [
    "### Logistic Distribution"
   ]
  },
  {
   "cell_type": "code",
   "execution_count": 16,
   "metadata": {},
   "outputs": [],
   "source": [
    "distributions['logistic'] = np.random.logistic(size=sample_size)"
   ]
  },
  {
   "cell_type": "code",
   "execution_count": 17,
   "metadata": {},
   "outputs": [
    {
     "data": {
      "image/png": "[encoded data removed]",
      "text/plain": [
       "<Figure size 432x288 with 1 Axes>"
      ]
     },
     "metadata": {
      "needs_background": "light"
     },
     "output_type": "display_data"
    }
   ],
   "source": [
    "plt.hist(distributions['logistic'], color='g', alpha=0.75)\n",
    "plt.axvline(distributions['logistic'].mean(), linestyle='solid', color='k')\n",
    "plt.axvline(distributions['logistic'].mean() - distributions['logistic'].std(), linestyle='dashed', color='k')\n",
    "plt.axvline(distributions['logistic'].mean() + distributions['logistic'].std(), linestyle='dashed', color='k')\n",
    "plt.show()"
   ]
  },
  {
   "cell_type": "markdown",
   "metadata": {},
   "source": [
    "#### Observations:\n",
    "\n",
    "This distribution does not appear skewed. The mean is near the center of this distribution and there are roughly an equal number of points between the mean value and one standardard deviation on either side of the mean. Therefore, the mean and standard deviation are good measures of central tendency for the logistic distribution."
   ]
  },
  {
   "cell_type": "markdown",
   "metadata": {},
   "source": [
    "### Log-normal Distribution"
   ]
  },
  {
   "cell_type": "code",
   "execution_count": 18,
   "metadata": {},
   "outputs": [],
   "source": [
    "distributions['lognormal'] = np.random.lognormal(size=sample_size)"
   ]
  },
  {
   "cell_type": "code",
   "execution_count": 19,
   "metadata": {},
   "outputs": [
    {
     "data": {
      "image/png": "[encoded data removed]",
      "text/plain": [
       "<Figure size 432x288 with 1 Axes>"
      ]
     },
     "metadata": {
      "needs_background": "light"
     },
     "output_type": "display_data"
    }
   ],
   "source": [
    "plt.hist(distributions['lognormal'], color='g', alpha=0.75)\n",
    "plt.axvline(distributions['lognormal'].mean(), linestyle='solid', color='k')\n",
    "plt.axvline(distributions['lognormal'].mean() - distributions['lognormal'].std(), linestyle='dashed', color='k')\n",
    "plt.axvline(distributions['lognormal'].mean() + distributions['lognormal'].std(), linestyle='dashed', color='k')\n",
    "plt.show()"
   ]
  },
  {
   "cell_type": "markdown",
   "metadata": {},
   "source": [
    "#### Observations:\n",
    "The log-normal distribution is skewed to the left, with more points plotted at smaller values. The mean does not fall near the center of the distribution and there are an unequal number of points between each standard deviation line and the mean. Therefore, the mean and standard deviation are not good measures of central tendancy for the log-normal distribution."
   ]
  },
  {
   "cell_type": "markdown",
   "metadata": {},
   "source": [
    "### Rayleigh Distribution"
   ]
  },
  {
   "cell_type": "code",
   "execution_count": 20,
   "metadata": {},
   "outputs": [],
   "source": [
    "distributions['rayleigh'] = np.random.rayleigh(size=sample_size)"
   ]
  },
  {
   "cell_type": "code",
   "execution_count": 21,
   "metadata": {},
   "outputs": [
    {
     "data": {
      "image/png": "[encoded data removed]",
      "text/plain": [
       "<Figure size 432x288 with 1 Axes>"
      ]
     },
     "metadata": {
      "needs_background": "light"
     },
     "output_type": "display_data"
    }
   ],
   "source": [
    "plt.hist(distributions['rayleigh'], color='g', alpha=0.75)\n",
    "plt.axvline(distributions['rayleigh'].mean(), linestyle='solid', color='k')\n",
    "plt.axvline(distributions['rayleigh'].mean() - distributions['rayleigh'].std(), linestyle='dashed', color='k')\n",
    "plt.axvline(distributions['rayleigh'].mean() + distributions['rayleigh'].std(), linestyle='dashed', color='k')\n",
    "plt.show()"
   ]
  },
  {
   "cell_type": "markdown",
   "metadata": {},
   "source": [
    "#### Observations:\n",
    "The Rayleigh distribution is skewed to the left, with more points plotted at smaller values. All though, the peak does not fall at the smallest value. There is a dropoff at about 1. Nevertheless, the mean does not fall near the center of the distribution and there are an unequal number of points between each standard deviation line and the mean. Therefore, the mean and standard deviation are not good measures of central tendancy for the Rayleigh distribution. "
   ]
  },
  {
   "cell_type": "markdown",
   "metadata": {},
   "source": [
    "### Wald Distribution"
   ]
  },
  {
   "cell_type": "code",
   "execution_count": 22,
   "metadata": {},
   "outputs": [],
   "source": [
    "distributions['wald'] = np.random.wald(mean=1, scale=1, size=sample_size)"
   ]
  },
  {
   "cell_type": "code",
   "execution_count": 23,
   "metadata": {},
   "outputs": [
    {
     "data": {
      "image/png": "[encoded data removed]",
      "text/plain": [
       "<Figure size 432x288 with 1 Axes>"
      ]
     },
     "metadata": {
      "needs_background": "light"
     },
     "output_type": "display_data"
    }
   ],
   "source": [
    "plt.hist(distributions['wald'], color='g', alpha=0.75)\n",
    "plt.axvline(distributions['wald'].mean(), linestyle='solid', color='k')\n",
    "plt.axvline(distributions['wald'].mean() - distributions['wald'].std(), linestyle='dashed', color='k')\n",
    "plt.axvline(distributions['wald'].mean() + distributions['wald'].std(), linestyle='dashed', color='k')\n",
    "plt.show()"
   ]
  },
  {
   "cell_type": "markdown",
   "metadata": {},
   "source": [
    "#### Observations:\n",
    "The Wald distribution is skewed to the left, with more points plotted at smaller values. The mean does not fall near the center of the distribution and there are an unequal number of points between each standard deviation line and the mean. Therefore, the mean and standard deviation are not good measures of central tendancy for the Wald distribution."
   ]
  },
  {
   "cell_type": "markdown",
   "metadata": {},
   "source": [
    "## Normal Distributions"
   ]
  },
  {
   "cell_type": "code",
   "execution_count": 45,
   "metadata": {},
   "outputs": [],
   "source": [
    "sample_size = 100\n",
    "normal_dists = pd.DataFrame()\n",
    "normal_dists['normal_1'] = np.random.normal(loc=5, scale=0.5, size=sample_size)\n",
    "normal_dists['normal_2'] = np.random.normal(loc=10, scale=1.0, size=sample_size)\n",
    "normal_dists['normal_3'] = normal_dists['normal_1'] + normal_dists['normal_2']"
   ]
  },
  {
   "cell_type": "code",
   "execution_count": 46,
   "metadata": {},
   "outputs": [
    {
     "data": {
      "image/png": "[encoded data removed]",
      "text/plain": [
       "<Figure size 432x288 with 1 Axes>"
      ]
     },
     "metadata": {
      "needs_background": "light"
     },
     "output_type": "display_data"
    }
   ],
   "source": [
    "plt.hist(normal_dists['normal_3'], color='g', alpha=0.75)\n",
    "plt.axvline(normal_dists['normal_3'].mean(), linestyle='solid', color='k')\n",
    "plt.axvline(normal_dists['normal_3'].mean() - normal_dists['normal_3'].std(), linestyle='dashed', color='k')\n",
    "plt.axvline(normal_dists['normal_3'].mean() + normal_dists['normal_3'].std(), linestyle='dashed', color='k')\n",
    "plt.show()"
   ]
  },
  {
   "cell_type": "code",
   "execution_count": 47,
   "metadata": {},
   "outputs": [
    {
     "data": {
      "text/html": [
       "<div>\n",
       "<style scoped>\n",
       "    .dataframe tbody tr th:only-of-type {\n",
       "        vertical-align: middle;\n",
       "    }\n",
       "\n",
       "    .dataframe tbody tr th {\n",
       "        vertical-align: top;\n",
       "    }\n",
       "\n",
       "    .dataframe thead th {\n",
       "        text-align: right;\n",
       "    }\n",
       "</style>\n",
       "<table border=\"1\" class=\"dataframe\">\n",
       "  <thead>\n",
       "    <tr style=\"text-align: right;\">\n",
       "      <th></th>\n",
       "      <th>count</th>\n",
       "      <th>mean</th>\n",
       "      <th>std</th>\n",
       "      <th>min</th>\n",
       "      <th>25%</th>\n",
       "      <th>50%</th>\n",
       "      <th>75%</th>\n",
       "      <th>max</th>\n",
       "    </tr>\n",
       "  </thead>\n",
       "  <tbody>\n",
       "    <tr>\n",
       "      <th>normal_1</th>\n",
       "      <td>100.0</td>\n",
       "      <td>4.958825</td>\n",
       "      <td>0.453815</td>\n",
       "      <td>3.754185</td>\n",
       "      <td>4.673132</td>\n",
       "      <td>4.946038</td>\n",
       "      <td>5.220894</td>\n",
       "      <td>6.584052</td>\n",
       "    </tr>\n",
       "    <tr>\n",
       "      <th>normal_2</th>\n",
       "      <td>100.0</td>\n",
       "      <td>9.797040</td>\n",
       "      <td>1.019136</td>\n",
       "      <td>7.425371</td>\n",
       "      <td>9.113942</td>\n",
       "      <td>9.850516</td>\n",
       "      <td>10.442755</td>\n",
       "      <td>11.909224</td>\n",
       "    </tr>\n",
       "    <tr>\n",
       "      <th>normal_3</th>\n",
       "      <td>100.0</td>\n",
       "      <td>14.755865</td>\n",
       "      <td>1.126315</td>\n",
       "      <td>12.139746</td>\n",
       "      <td>14.002405</td>\n",
       "      <td>14.929271</td>\n",
       "      <td>15.371321</td>\n",
       "      <td>18.375465</td>\n",
       "    </tr>\n",
       "  </tbody>\n",
       "</table>\n",
       "</div>"
      ],
      "text/plain": [
       "          count       mean       std        min        25%        50%  \\\n",
       "normal_1  100.0   4.958825  0.453815   3.754185   4.673132   4.946038   \n",
       "normal_2  100.0   9.797040  1.019136   7.425371   9.113942   9.850516   \n",
       "normal_3  100.0  14.755865  1.126315  12.139746  14.002405  14.929271   \n",
       "\n",
       "                75%        max  \n",
       "normal_1   5.220894   6.584052  \n",
       "normal_2  10.442755  11.909224  \n",
       "normal_3  15.371321  18.375465  "
      ]
     },
     "execution_count": 47,
     "metadata": {},
     "output_type": "execute_result"
    }
   ],
   "source": [
    "normal_dists.describe().T"
   ]
  },
  {
   "cell_type": "markdown",
   "metadata": {},
   "source": [
    "#### Observations:\n",
    "\n",
    "After adding two normal distributions, the resulting distribution is still normal. The mean for the third distribution is roughly the sum of the means for the two initial distributions. The standard deviation for the third distribution is larger than the standard deviations for the two initial distributions, but less than the sum of the standard deviations for the two initial distributions."
   ]
  },
  {
   "cell_type": "code",
   "execution_count": null,
   "metadata": {},
   "outputs": [],
   "source": []
  }
 ],
 "metadata": {
  "kernelspec": {
   "display_name": "Python 3",
   "language": "python",
   "name": "python3"
  },
  "language_info": {
   "codemirror_mode": {
    "name": "ipython",
    "version": 3
   },
   "file_extension": ".py",
   "mimetype": "text/x-python",
   "name": "python",
   "nbconvert_exporter": "python",
   "pygments_lexer": "ipython3",
   "version": "3.6.8"
  }
 },
 "nbformat": 4,
 "nbformat_minor": 2
}
