{
 "cells": [
  {
   "cell_type": "markdown",
   "metadata": {},
   "source": [
    "# Sampling and the central limit theorem"
   ]
  },
  {
   "cell_type": "code",
   "execution_count": 1,
   "metadata": {},
   "outputs": [],
   "source": [
    "import matplotlib.pyplot as plt\n",
    "import numpy as np\n",
    "import pandas as pd\n",
    "import scipy\n",
    "from scipy.stats import ttest_ind\n",
    "\n",
    "%matplotlib inline"
   ]
  },
  {
   "cell_type": "code",
   "execution_count": 2,
   "metadata": {
    "collapsed": true
   },
   "outputs": [],
   "source": [
    "pop1 = np.random.binomial(10, 0.2, 10000)\n",
    "pop2 = np.random.binomial(10, 0.5, 10000)"
   ]
  },
  {
   "cell_type": "code",
   "execution_count": 3,
   "metadata": {
    "collapsed": true
   },
   "outputs": [],
   "source": [
    "sample1 = np.random.choice(pop1, 100, replace=True)\n",
    "sample2 = np.random.choice(pop2, 100, replace=True)"
   ]
  },
  {
   "cell_type": "code",
   "execution_count": 4,
   "metadata": {},
   "outputs": [
    {
     "name": "stdout",
     "output_type": "stream",
     "text": [
      "Sample 1 mean = 2.19\n",
      "Sample 1 standard deviation = 1.3014991356124674\n",
      "Sample 2 mean = 5.06\n",
      "Sample 2 standard deviation = 1.5926079241294764\n"
     ]
    }
   ],
   "source": [
    "print('Sample 1 mean = {}'.format(sample1.mean()))\n",
    "print('Sample 1 standard deviation = {}'.format(sample1.std()))\n",
    "print('Sample 2 mean = {}'.format(sample2.mean()))\n",
    "print('Sample 2 standard deviation = {}'.format(sample2.std()))"
   ]
  },
  {
   "cell_type": "markdown",
   "metadata": {},
   "source": [
    "### Task 1\n",
    "\n",
    "Increase the size of your samples from 100 to 1000, then calculate the means and standard deviations for your new samples and create histograms for each. Repeat this again, decreasing the size of your samples to 20. What values change, and what remain the same?\n",
    "\n",
    "#### Hypothesis\n",
    "\n",
    "By either increasing or decreasing the sample size, I would predict that the means would not change drastically for each sample. But, I would predict that the larger sample size would have a smaller standard deviation, while the smaller sample size would have a larger standard deviation."
   ]
  },
  {
   "cell_type": "code",
   "execution_count": 5,
   "metadata": {
    "collapsed": true
   },
   "outputs": [],
   "source": [
    "sample1 = np.random.choice(pop1, 1000, replace=True)\n",
    "sample2 = np.random.choice(pop2, 1000, replace=True)"
   ]
  },
  {
   "cell_type": "code",
   "execution_count": 6,
   "metadata": {},
   "outputs": [
    {
     "name": "stdout",
     "output_type": "stream",
     "text": [
      "Sample 1 mean = 1.933\n",
      "Sample 1 standard deviation = 1.2808243439285498\n",
      "Sample 2 mean = 4.974\n",
      "Sample 2 standard deviation = 1.6575053544408234\n"
     ]
    }
   ],
   "source": [
    "print('Sample 1 mean = {}'.format(sample1.mean()))\n",
    "print('Sample 1 standard deviation = {}'.format(sample1.std()))\n",
    "print('Sample 2 mean = {}'.format(sample2.mean()))\n",
    "print('Sample 2 standard deviation = {}'.format(sample2.std()))"
   ]
  },
  {
   "cell_type": "code",
   "execution_count": 7,
   "metadata": {},
   "outputs": [
    {
     "data": {
      "image/png": "[encoded data removed]",
      "text/plain": [
       "<matplotlib.figure.Figure at 0x109bc9630>"
      ]
     },
     "metadata": {},
     "output_type": "display_data"
    }
   ],
   "source": [
    "plt.hist(sample1, alpha=0.5, label='sample 1')\n",
    "plt.hist(sample2, alpha=0.5, label='sample 2')\n",
    "plt.legend(loc='upper right')\n",
    "plt.show()"
   ]
  },
  {
   "cell_type": "code",
   "execution_count": 8,
   "metadata": {
    "collapsed": true
   },
   "outputs": [],
   "source": [
    "sample1 = np.random.choice(pop1, 20, replace=True)\n",
    "sample2 = np.random.choice(pop2, 20, replace=True)"
   ]
  },
  {
   "cell_type": "code",
   "execution_count": 9,
   "metadata": {},
   "outputs": [
    {
     "name": "stdout",
     "output_type": "stream",
     "text": [
      "Sample 1 mean = 2.0\n",
      "Sample 1 standard deviation = 1.0\n",
      "Sample 2 mean = 4.55\n",
      "Sample 2 standard deviation = 1.7168284713389397\n"
     ]
    }
   ],
   "source": [
    "print('Sample 1 mean = {}'.format(sample1.mean()))\n",
    "print('Sample 1 standard deviation = {}'.format(sample1.std()))\n",
    "print('Sample 2 mean = {}'.format(sample2.mean()))\n",
    "print('Sample 2 standard deviation = {}'.format(sample2.std()))"
   ]
  },
  {
   "cell_type": "code",
   "execution_count": 10,
   "metadata": {},
   "outputs": [
    {
     "data": {
      "image/png": "[encoded data removed]",
      "text/plain": [
       "<matplotlib.figure.Figure at 0x109fd20b8>"
      ]
     },
     "metadata": {},
     "output_type": "display_data"
    }
   ],
   "source": [
    "plt.hist(sample1, alpha=0.5, label='sample 1')\n",
    "plt.hist(sample2, alpha=0.5, label='sample 2')\n",
    "plt.legend(loc='upper right')\n",
    "plt.show()"
   ]
  },
  {
   "cell_type": "markdown",
   "metadata": {},
   "source": [
    "### Task 2\n",
    "\n",
    "Change the probability value (p in the [NumPy documentation](https://docs.scipy.org/doc/numpy/reference/generated/numpy.random.binomial.html)) for pop1 to 0.3, then take new samples and compute the t-statistic and p-value. Then change the probability value p for group 1 to 0.4, and do it again. What changes, and why?\n",
    "\n",
    "#### Hypothesis\n",
    "\n",
    "As the probability value increases closer to 0.5, the probability value for population 2, then the two populations will be closer together. Therefore, the t-statistic would decrease while the p-value would increase."
   ]
  },
  {
   "cell_type": "code",
   "execution_count": 2,
   "metadata": {},
   "outputs": [],
   "source": [
    "def compute_tstat(s1, s2):\n",
    "    sample_sizes = np.array([len(s1), len(s2)])\n",
    "    sample_sds = np.array([s1.std(), s2.std()])\n",
    "    diff_se = (sum(sample_sds ** 2 / sample_sizes)) ** 0.5\n",
    "    diff_mean = s2.mean() - s1.mean()\n",
    "    return diff_mean / diff_se"
   ]
  },
  {
   "cell_type": "markdown",
   "metadata": {},
   "source": [
    "**Population 1 probability = 0.2**"
   ]
  },
  {
   "cell_type": "code",
   "execution_count": 3,
   "metadata": {},
   "outputs": [],
   "source": [
    "pop1 = np.random.binomial(10, 0.2, 10000)\n",
    "pop2 = np.random.binomial(10, 0.5, 10000)"
   ]
  },
  {
   "cell_type": "code",
   "execution_count": 4,
   "metadata": {},
   "outputs": [],
   "source": [
    "# sample1 = np.random.choice(pop1, 100, replace=True)\n",
    "sample1 = np.random.choice(pop2, 100, replace=True)\n",
    "sample2 = np.random.choice(pop2, 100, replace=True)"
   ]
  },
  {
   "cell_type": "code",
   "execution_count": 5,
   "metadata": {},
   "outputs": [],
   "source": [
    "tstat = compute_tstat(sample1, sample2)\n",
    "pvalue = ttest_ind(sample1, sample2, equal_var=False).pvalue"
   ]
  },
  {
   "cell_type": "code",
   "execution_count": 7,
   "metadata": {},
   "outputs": [
    {
     "name": "stdout",
     "output_type": "stream",
     "text": [
      "Ttest_indResult(statistic=0.20697487289407715, pvalue=0.8362424409281226)\n"
     ]
    }
   ],
   "source": [
    "print(ttest_ind(sample1, sample2, equal_var=False))"
   ]
  },
  {
   "cell_type": "code",
   "execution_count": 6,
   "metadata": {},
   "outputs": [
    {
     "name": "stdout",
     "output_type": "stream",
     "text": [
      "The t-statistic is -0.2080175740670164.\n",
      "The p-value is 0.8362424409281226.\n"
     ]
    }
   ],
   "source": [
    "print('The t-statistic is {}.'.format(tstat))\n",
    "print('The p-value is {}.'.format(pvalue))"
   ]
  },
  {
   "cell_type": "markdown",
   "metadata": {},
   "source": [
    "**Population 1 probability = 0.3**"
   ]
  },
  {
   "cell_type": "code",
   "execution_count": 16,
   "metadata": {
    "collapsed": true
   },
   "outputs": [],
   "source": [
    "pop1 = np.random.binomial(10, 0.3, 10000)\n",
    "pop2 = np.random.binomial(10, 0.5, 10000)"
   ]
  },
  {
   "cell_type": "code",
   "execution_count": 17,
   "metadata": {
    "collapsed": true
   },
   "outputs": [],
   "source": [
    "sample1 = np.random.choice(pop1, 100, replace=True)\n",
    "sample2 = np.random.choice(pop2, 100, replace=True)"
   ]
  },
  {
   "cell_type": "code",
   "execution_count": 18,
   "metadata": {
    "collapsed": true
   },
   "outputs": [],
   "source": [
    "tstat = compute_tstat(sample1, sample2)\n",
    "pvalue = ttest_ind(sample1, sample2, equal_var=False).pvalue"
   ]
  },
  {
   "cell_type": "code",
   "execution_count": 19,
   "metadata": {},
   "outputs": [
    {
     "name": "stdout",
     "output_type": "stream",
     "text": [
      "The t-statistic is 9.297926767859114.\n",
      "The p-value is 3.838352966223798e-17.\n"
     ]
    }
   ],
   "source": [
    "print('The t-statistic is {}.'.format(tstat))\n",
    "print('The p-value is {}.'.format(pvalue))"
   ]
  },
  {
   "cell_type": "markdown",
   "metadata": {},
   "source": [
    "**Population 1 probability = 0.4**"
   ]
  },
  {
   "cell_type": "code",
   "execution_count": 20,
   "metadata": {
    "collapsed": true
   },
   "outputs": [],
   "source": [
    "pop1 = np.random.binomial(10, 0.4, 10000)\n",
    "pop2 = np.random.binomial(10, 0.5, 10000)"
   ]
  },
  {
   "cell_type": "code",
   "execution_count": 21,
   "metadata": {
    "collapsed": true
   },
   "outputs": [],
   "source": [
    "sample1 = np.random.choice(pop1, 100, replace=True)\n",
    "sample2 = np.random.choice(pop2, 100, replace=True)"
   ]
  },
  {
   "cell_type": "code",
   "execution_count": 22,
   "metadata": {
    "collapsed": true
   },
   "outputs": [],
   "source": [
    "tstat = compute_tstat(sample1, sample2)\n",
    "pvalue = ttest_ind(sample1, sample2, equal_var=False).pvalue"
   ]
  },
  {
   "cell_type": "code",
   "execution_count": 23,
   "metadata": {},
   "outputs": [
    {
     "name": "stdout",
     "output_type": "stream",
     "text": [
      "The t-statistic is 3.3815117170953815.\n",
      "The p-value is 0.0009214566886888742.\n"
     ]
    }
   ],
   "source": [
    "print('The t-statistic is {}.'.format(tstat))\n",
    "print('The p-value is {}.'.format(pvalue))"
   ]
  },
  {
   "cell_type": "markdown",
   "metadata": {},
   "source": [
    "### Task 3\n",
    "\n",
    "Change the distribution of your populations from binomial to a distribution of your choice. Do the sample mean values still accurately represent the population values?"
   ]
  },
  {
   "cell_type": "code",
   "execution_count": 24,
   "metadata": {
    "collapsed": true
   },
   "outputs": [],
   "source": [
    "pop1 = np.random.uniform(0, 7, 10000)\n",
    "pop2 = np.random.uniform(3, 15, 10000)"
   ]
  },
  {
   "cell_type": "code",
   "execution_count": 25,
   "metadata": {},
   "outputs": [
    {
     "name": "stdout",
     "output_type": "stream",
     "text": [
      "Population 1 mean = 3.4837015936857387\n",
      "Population 1 standard deviation = 2.008416321761386\n",
      "Population 2 mean = 8.952545864490578\n",
      "Population 2 standard deviation = 3.45813813134525\n"
     ]
    }
   ],
   "source": [
    "print('Population 1 mean = {}'.format(pop1.mean()))\n",
    "print('Population 1 standard deviation = {}'.format(pop1.std()))\n",
    "print('Population 2 mean = {}'.format(pop2.mean()))\n",
    "print('Population 2 standard deviation = {}'.format(pop2.std()))"
   ]
  },
  {
   "cell_type": "code",
   "execution_count": 26,
   "metadata": {
    "collapsed": true
   },
   "outputs": [],
   "source": [
    "sample1 = np.random.choice(pop1, 100, replace=True)\n",
    "sample2 = np.random.choice(pop2, 100, replace=True)"
   ]
  },
  {
   "cell_type": "code",
   "execution_count": 27,
   "metadata": {},
   "outputs": [
    {
     "name": "stdout",
     "output_type": "stream",
     "text": [
      "Sample 1 mean = 3.773686122220036\n",
      "Sample 1 standard deviation = 1.9799351960282594\n",
      "Sample 2 mean = 8.84279336853601\n",
      "Sample 2 standard deviation = 3.325211552650725\n"
     ]
    }
   ],
   "source": [
    "print('Sample 1 mean = {}'.format(sample1.mean()))\n",
    "print('Sample 1 standard deviation = {}'.format(sample1.std()))\n",
    "print('Sample 2 mean = {}'.format(sample2.mean()))\n",
    "print('Sample 2 standard deviation = {}'.format(sample2.std()))"
   ]
  },
  {
   "cell_type": "code",
   "execution_count": 28,
   "metadata": {},
   "outputs": [
    {
     "data": {
      "image/png": "[encoded data removed]",
      "text/plain": [
       "<matplotlib.figure.Figure at 0x1a12c075f8>"
      ]
     },
     "metadata": {},
     "output_type": "display_data"
    }
   ],
   "source": [
    "plt.hist(sample1, alpha=0.5, label='sample 1')\n",
    "plt.hist(sample2, alpha=0.5, label='sample 2')\n",
    "plt.legend(loc='upper right')\n",
    "plt.show()"
   ]
  },
  {
   "cell_type": "code",
   "execution_count": 29,
   "metadata": {
    "collapsed": true
   },
   "outputs": [],
   "source": [
    "tstat = compute_tstat(sample1, sample2)\n",
    "pvalue = ttest_ind(sample1, sample2, equal_var=False).pvalue"
   ]
  },
  {
   "cell_type": "code",
   "execution_count": 30,
   "metadata": {},
   "outputs": [
    {
     "name": "stdout",
     "output_type": "stream",
     "text": [
      "The t-statistic is 13.098347974431071.\n",
      "The p-value is 5.5310462786271336e-27.\n"
     ]
    }
   ],
   "source": [
    "print('The t-statistic is {}.'.format(tstat))\n",
    "print('The p-value is {}.'.format(pvalue))"
   ]
  },
  {
   "cell_type": "markdown",
   "metadata": {},
   "source": [
    "#### Observations\n",
    "\n",
    "I chose to use a uniform distribution for each population. Each sample has similar means and standard deviations to their respective populations. Therefore, the samples do a good job of representing the population."
   ]
  },
  {
   "cell_type": "code",
   "execution_count": null,
   "metadata": {
    "collapsed": true
   },
   "outputs": [],
   "source": []
  }
 ],
 "metadata": {
  "kernelspec": {
   "display_name": "Python 3",
   "language": "python",
   "name": "python3"
  },
  "language_info": {
   "codemirror_mode": {
    "name": "ipython",
    "version": 3
   },
   "file_extension": ".py",
   "mimetype": "text/x-python",
   "name": "python",
   "nbconvert_exporter": "python",
   "pygments_lexer": "ipython3",
   "version": "3.6.8"
  }
 },
 "nbformat": 4,
 "nbformat_minor": 2
}
