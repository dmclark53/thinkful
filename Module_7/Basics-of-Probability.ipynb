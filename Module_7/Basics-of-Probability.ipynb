{
 "cells": [
  {
   "cell_type": "markdown",
   "metadata": {},
   "source": [
    "# Basics of Probability\n",
    "\n",
    "## Assignments\n",
    "Now it’s time to compute some probabilities. Keep track of your work in a Google document or markdown file that you can share with your mentor.\n",
    "\n",
    "### Drill set 1\n",
    "**1.** Calculate the probability of flipping a balanced coin four times and getting each pattern: HTTH, HHHH and TTHH.\n",
    "\n",
    "**Solution:**\n",
    "\n",
    "Each coin flip is an independent event. The probability of getting heads or tails is always 0.5 or 50%. Therefore, we can compute the probability for each of these outcomes by multiply the probability for each individual outcome."
   ]
  },
  {
   "cell_type": "code",
   "execution_count": 1,
   "metadata": {},
   "outputs": [],
   "source": [
    "p_h = 0.5\n",
    "p_t = 0.5"
   ]
  },
  {
   "cell_type": "code",
   "execution_count": 2,
   "metadata": {},
   "outputs": [
    {
     "name": "stdout",
     "output_type": "stream",
     "text": [
      "The probability of getting HTTH is 0.0625.\n",
      "The probability of getting HHHH is 0.0625.\n",
      "The probability of getting TTHH is 0.0625.\n"
     ]
    }
   ],
   "source": [
    "p_htth = p_h*p_t*p_t*p_h\n",
    "p_hhhh = p_h*p_h*p_h*p_h\n",
    "p_tthh = p_t*p_t*p_h*p_h\n",
    "\n",
    "print('The probability of getting HTTH is {}.'.format(p_htth))\n",
    "print('The probability of getting HHHH is {}.'.format(p_hhhh))\n",
    "print('The probability of getting TTHH is {}.'.format(p_tthh))"
   ]
  },
  {
   "cell_type": "markdown",
   "metadata": {},
   "source": [
    "**2.** If a list of people has 24 women and 21 men, then the probability of choosing a man from the list is 21/45. What is the probability of not choosing a man?\n",
    "\n",
    "**Solution:**\n",
    "\n",
    "The probability of not choosing man is **24/45**.\n",
    "\n",
    "We can compute this by subtracting the probability of choosing a man, 21/45, from 1. 1 is equivalent to 45/45. 45/45 - 21/45 = 24/45.\n"
   ]
  },
  {
   "cell_type": "markdown",
   "metadata": {},
   "source": [
    "**3.** The probability that Bernice will travel by plane sometime in the next year is 10%. The probability of a plane crash at any time is .005%. What is the probability that Bernice will be in a plane crash sometime in the next year?\n",
    "\n",
    "**Solution:**\n",
    "\n",
    "Here we are interested in the probility that Bernice travels and their is a crash. Therefore, we will multiply each probability together to find the chance that Bernice's plane will crash."
   ]
  },
  {
   "cell_type": "code",
   "execution_count": 3,
   "metadata": {},
   "outputs": [
    {
     "name": "stdout",
     "output_type": "stream",
     "text": [
      "The probability that Bernice will be in a plane crash is 5e-06.\n"
     ]
    }
   ],
   "source": [
    "p_travel = 0.10\n",
    "p_crash = 0.00005\n",
    "p_travel_and_crash = p_travel*p_crash\n",
    "\n",
    "print('The probability that Bernice will be in a plane crash is {}.'.format(p_travel_and_crash))"
   ]
  },
  {
   "cell_type": "markdown",
   "metadata": {},
   "source": [
    "**Correction**\n",
    "\n",
    "The answer to this question is 0.0005. I am not sure why this is the probability.\n",
    "\n",
    "**4.** A data scientist wants to study the behavior of users on the company website. Each time a user clicks on a link on the website, there is a 5% chance that the user will be asked to complete a short survey about their behavior on the website. The data scientist uses the survey data to conclude that, on average, users spend 15 minutes surfing the company website before moving on to other things. What is wrong with this conclusion?\n",
    "\n",
    "**Solution:**\n",
    "\n",
    "This conclusion is only based on the results of the 5% of people who actually complete the survey. The other 95% of users who did not complete the survey could exhibit completely different user behavior.\n",
    "\n",
    "**Correction**\n",
    "\n",
    "The longer users surf the internet, the more links they will click on, increasing the likelihood that they will be asked to fill out a survey."
   ]
  },
  {
   "cell_type": "markdown",
   "metadata": {},
   "source": [
    "### Drill set 2\n",
    "\n",
    "Now it's time to use Bayes' rule to compute some conditional probabilities. First look over the numbers and estimate each of the four probabilities, using your intuition. Then, calculate the probabilities using Bayes' rule. Keep track of your work in a Google document or markdown file that you can share with your mentor.\n",
    "\n",
    "A diagnostic test has a 98% probability of giving a positive result when applied to a person suffering from Thripshaw's Disease, and 10% probability of giving a (false) positive when applied to a non-sufferer. It is estimated that 0.5% of the population are sufferers. Suppose that the test is now administered to a person whose disease status is unknown. Calculate the probability that the test will:\n",
    "\n",
    "1. Be positive\n",
    "2. Correctly diagnose a sufferer of Thripshaw's\n",
    "3. Correctly identify a non-sufferer of Thripshaw's\n",
    "4. Misclassify the person"
   ]
  },
  {
   "cell_type": "markdown",
   "metadata": {},
   "source": [
    "#### Intuition\n",
    "First, used intuition to calculate the answers."
   ]
  },
  {
   "cell_type": "markdown",
   "metadata": {},
   "source": [
    "**1.** Be positive\n",
    "\n",
    "Intuition: 0.98 * 0.005 = 0.0049 or 0.49%."
   ]
  },
  {
   "cell_type": "markdown",
   "metadata": {},
   "source": [
    "**2.** Correctly diagnose a sufferer of Thripshaw's\n",
    "\n",
    "Intuition: 98%."
   ]
  },
  {
   "cell_type": "markdown",
   "metadata": {},
   "source": [
    "**3.** Correctly identify a non-sufferer of Thripshaw's\n",
    "\n",
    "Intuition: 90%."
   ]
  },
  {
   "cell_type": "markdown",
   "metadata": {},
   "source": [
    "**4.** Misclassify the person.\n",
    "\n",
    "Intuition: 10%."
   ]
  },
  {
   "cell_type": "markdown",
   "metadata": {},
   "source": [
    "#### Bayes Formula\n",
    "Now, use Bayes formula to compute the answers.\n",
    "\n",
    "First, list given probabilities from assignment and probabilities that can be derived from these quantities."
   ]
  },
  {
   "cell_type": "code",
   "execution_count": 4,
   "metadata": {},
   "outputs": [
    {
     "name": "stdout",
     "output_type": "stream",
     "text": [
      "P(A) = 0.005  [given]\n",
      "P(~A) = 0.995  [derived]\n",
      "P(B|A) = 0.98 [given]\n",
      "P(~B|A) = 0.020000000000000018  [derived]\n",
      "P(B|~A) = 0.1  [given]\n",
      "P(~B|~A) = 0.9  [derived]\n"
     ]
    }
   ],
   "source": [
    "# A = have disease\n",
    "# B = test postive\n",
    "p_A = 0.005\n",
    "p_not_A = 1 - p_A\n",
    "p_B_given_A = 0.98\n",
    "p_not_B_given_A = 1 - 0.98\n",
    "p_B_given_not_A = 0.10\n",
    "p_not_B_given_not_A = 1 - p_B_given_not_A\n",
    "\n",
    "print('P(A) = {}  [given]'.format(p_A))\n",
    "print('P(~A) = {}  [derived]'.format(p_not_A))\n",
    "print('P(B|A) = {} [given]'.format(p_B_given_A))\n",
    "print('P(~B|A) = {}  [derived]'.format(p_not_B_given_A))\n",
    "print('P(B|~A) = {}  [given]'.format(p_B_given_not_A))\n",
    "print('P(~B|~A) = {}  [derived]'.format(p_not_B_given_not_A))"
   ]
  },
  {
   "cell_type": "markdown",
   "metadata": {},
   "source": [
    "**1.** Be positive"
   ]
  },
  {
   "cell_type": "code",
   "execution_count": 5,
   "metadata": {},
   "outputs": [
    {
     "name": "stdout",
     "output_type": "stream",
     "text": [
      "P(B) = 0.1044\n"
     ]
    }
   ],
   "source": [
    "p_B = p_B_given_A*p_A + p_B_given_not_A*p_not_A\n",
    "print('P(B) = {}'.format(p_B))"
   ]
  },
  {
   "cell_type": "markdown",
   "metadata": {},
   "source": [
    "**2.** Correctly diagnose a sufferer of Thripshaw's"
   ]
  },
  {
   "cell_type": "code",
   "execution_count": 6,
   "metadata": {},
   "outputs": [
    {
     "name": "stdout",
     "output_type": "stream",
     "text": [
      "P(A|B) = 0.046934865900383135\n"
     ]
    }
   ],
   "source": [
    "p_A_given_B = (p_A*p_B_given_A)/p_B\n",
    "print('P(A|B) = {}'.format(p_A_given_B))"
   ]
  },
  {
   "cell_type": "markdown",
   "metadata": {},
   "source": [
    "**Correction:**"
   ]
  },
  {
   "cell_type": "code",
   "execution_count": 7,
   "metadata": {},
   "outputs": [
    {
     "name": "stdout",
     "output_type": "stream",
     "text": [
      "P(A|B) = 0.98\n"
     ]
    }
   ],
   "source": [
    "p_A_given_B = 0.98\n",
    "print('P(A|B) = {}'.format(p_A_given_B))"
   ]
  },
  {
   "cell_type": "markdown",
   "metadata": {},
   "source": [
    "**3.** Correctly identify a non-sufferer of Thripshaw's"
   ]
  },
  {
   "cell_type": "code",
   "execution_count": 8,
   "metadata": {},
   "outputs": [
    {
     "name": "stdout",
     "output_type": "stream",
     "text": [
      "P(~B|~A) = 0.9\n"
     ]
    }
   ],
   "source": [
    "print('P(~B|~A) = {}'.format(p_not_B_given_not_A))"
   ]
  },
  {
   "cell_type": "markdown",
   "metadata": {},
   "source": [
    "**4.** Misclassify the person."
   ]
  },
  {
   "cell_type": "code",
   "execution_count": 9,
   "metadata": {},
   "outputs": [
    {
     "name": "stdout",
     "output_type": "stream",
     "text": [
      "P(misclassified) = 0.12000000000000002\n"
     ]
    }
   ],
   "source": [
    "p_misclassified = p_B_given_not_A + p_not_B_given_A\n",
    "print('P(misclassified) = {}'.format(p_misclassified))"
   ]
  },
  {
   "cell_type": "markdown",
   "metadata": {},
   "source": [
    "**Correction:**"
   ]
  },
  {
   "cell_type": "code",
   "execution_count": 10,
   "metadata": {},
   "outputs": [
    {
     "name": "stdout",
     "output_type": "stream",
     "text": [
      "P(misclassified) = 0.09960000000000002\n"
     ]
    }
   ],
   "source": [
    "p_misclassified = 1 - (p_A_given_B*p_A + p_not_B_given_not_A*p_not_A)\n",
    "print('P(misclassified) = {}'.format(p_misclassified))"
   ]
  },
  {
   "cell_type": "code",
   "execution_count": null,
   "metadata": {},
   "outputs": [],
   "source": []
  }
 ],
 "metadata": {
  "kernelspec": {
   "display_name": "Python 3",
   "language": "python",
   "name": "python3"
  },
  "language_info": {
   "codemirror_mode": {
    "name": "ipython",
    "version": 3
   },
   "file_extension": ".py",
   "mimetype": "text/x-python",
   "name": "python",
   "nbconvert_exporter": "python",
   "pygments_lexer": "ipython3",
   "version": "3.6.8"
  }
 },
 "nbformat": 4,
 "nbformat_minor": 2
}
