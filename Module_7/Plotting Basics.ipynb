{
 "cells": [
  {
   "cell_type": "markdown",
   "metadata": {},
   "source": [
    "# Plotting Basics"
   ]
  },
  {
   "cell_type": "code",
   "execution_count": 1,
   "metadata": {},
   "outputs": [],
   "source": [
    "import os\n",
    "import matplotlib.pyplot as plt\n",
    "import pandas as pd\n",
    "\n",
    "%matplotlib inline"
   ]
  },
  {
   "cell_type": "markdown",
   "metadata": {},
   "source": [
    "In this assignment I decided to pick a dataset related to exoplanets. These are planets that are orbiting around other stars. As of May 9th, 2019 there are a total of 3952 confirmed exoplanet discoveries. The dataset came from the [NASA Exoplanet Archive](https://exoplanetarchive.ipac.caltech.edu/index.html). Each column represents different planetary parameters as well as parameters of its parent star.\n",
    "\n",
    "## Load Data\n",
    "Read in the dataset into a Pandas DataFrame."
   ]
  },
  {
   "cell_type": "code",
   "execution_count": 2,
   "metadata": {},
   "outputs": [],
   "source": [
    "df = pd.read_csv('data/exoplanets.csv', header=18)"
   ]
  },
  {
   "cell_type": "markdown",
   "metadata": {},
   "source": [
    "Using the **`info()`** method in Pandas I print out few details about the dataset. Specifically, the column names, number of non-null items per column, the data type per column, and the total length of the DataFrame."
   ]
  },
  {
   "cell_type": "code",
   "execution_count": 3,
   "metadata": {},
   "outputs": [
    {
     "name": "stdout",
     "output_type": "stream",
     "text": [
      "<class 'pandas.core.frame.DataFrame'>\n",
      "RangeIndex: 3952 entries, 0 to 3951\n",
      "Data columns (total 12 columns):\n",
      "pl_name        3952 non-null object\n",
      "pl_pnum        3952 non-null int64\n",
      "pl_orbper      3848 non-null float64\n",
      "pl_orbsmax     2289 non-null float64\n",
      "pl_orbeccen    1301 non-null float64\n",
      "pl_orbincl     776 non-null float64\n",
      "pl_bmassj      1536 non-null float64\n",
      "pl_radj        3085 non-null float64\n",
      "st_dist        3939 non-null float64\n",
      "st_teff        3775 non-null float64\n",
      "st_mass        3184 non-null float64\n",
      "st_rad         3659 non-null float64\n",
      "dtypes: float64(10), int64(1), object(1)\n",
      "memory usage: 370.6+ KB\n"
     ]
    }
   ],
   "source": [
    "df.info()"
   ]
  },
  {
   "cell_type": "markdown",
   "metadata": {},
   "source": [
    "For this exercise, I will only consider a subset of these columns. This subset will include planetary orbital period (`pl_orbper`), planetary mass (`pl_bmassj`), and parent star mass (`st_mass`)."
   ]
  },
  {
   "cell_type": "code",
   "execution_count": 4,
   "metadata": {},
   "outputs": [],
   "source": [
    "columns = ['pl_orbper', 'pl_bmassj', 'st_mass']"
   ]
  },
  {
   "cell_type": "code",
   "execution_count": 5,
   "metadata": {},
   "outputs": [],
   "source": [
    "sub_df = df.loc[:, columns].dropna()  # Remove any row that contains empty values."
   ]
  },
  {
   "cell_type": "markdown",
   "metadata": {},
   "source": [
    "Here I investigate some statistical properties of this subset of data using the **`describe()`** method in Pandas. Notice the large spread in values and that the `50%` value is far from the `max` value."
   ]
  },
  {
   "cell_type": "code",
   "execution_count": 6,
   "metadata": {},
   "outputs": [
    {
     "data": {
      "text/html": [
       "<div>\n",
       "<style scoped>\n",
       "    .dataframe tbody tr th:only-of-type {\n",
       "        vertical-align: middle;\n",
       "    }\n",
       "\n",
       "    .dataframe tbody tr th {\n",
       "        vertical-align: top;\n",
       "    }\n",
       "\n",
       "    .dataframe thead th {\n",
       "        text-align: right;\n",
       "    }\n",
       "</style>\n",
       "<table border=\"1\" class=\"dataframe\">\n",
       "  <thead>\n",
       "    <tr style=\"text-align: right;\">\n",
       "      <th></th>\n",
       "      <th>count</th>\n",
       "      <th>mean</th>\n",
       "      <th>std</th>\n",
       "      <th>min</th>\n",
       "      <th>25%</th>\n",
       "      <th>50%</th>\n",
       "      <th>75%</th>\n",
       "      <th>max</th>\n",
       "    </tr>\n",
       "  </thead>\n",
       "  <tbody>\n",
       "    <tr>\n",
       "      <th>pl_orbper</th>\n",
       "      <td>1392.0</td>\n",
       "      <td>6055.648239</td>\n",
       "      <td>195711.950712</td>\n",
       "      <td>0.090706</td>\n",
       "      <td>4.113785</td>\n",
       "      <td>22.16875</td>\n",
       "      <td>494.785</td>\n",
       "      <td>7300000.00</td>\n",
       "    </tr>\n",
       "    <tr>\n",
       "      <th>pl_bmassj</th>\n",
       "      <td>1392.0</td>\n",
       "      <td>2.348423</td>\n",
       "      <td>4.137280</td>\n",
       "      <td>0.000060</td>\n",
       "      <td>0.108750</td>\n",
       "      <td>0.91000</td>\n",
       "      <td>2.430</td>\n",
       "      <td>55.59</td>\n",
       "    </tr>\n",
       "    <tr>\n",
       "      <th>st_mass</th>\n",
       "      <td>1392.0</td>\n",
       "      <td>1.136272</td>\n",
       "      <td>0.932789</td>\n",
       "      <td>0.020000</td>\n",
       "      <td>0.850000</td>\n",
       "      <td>1.05000</td>\n",
       "      <td>1.270</td>\n",
       "      <td>23.56</td>\n",
       "    </tr>\n",
       "  </tbody>\n",
       "</table>\n",
       "</div>"
      ],
      "text/plain": [
       "            count         mean            std       min       25%       50%  \\\n",
       "pl_orbper  1392.0  6055.648239  195711.950712  0.090706  4.113785  22.16875   \n",
       "pl_bmassj  1392.0     2.348423       4.137280  0.000060  0.108750   0.91000   \n",
       "st_mass    1392.0     1.136272       0.932789  0.020000  0.850000   1.05000   \n",
       "\n",
       "               75%         max  \n",
       "pl_orbper  494.785  7300000.00  \n",
       "pl_bmassj    2.430       55.59  \n",
       "st_mass      1.270       23.56  "
      ]
     },
     "execution_count": 6,
     "metadata": {},
     "output_type": "execute_result"
    }
   ],
   "source": [
    "sub_df.describe().T"
   ]
  },
  {
   "cell_type": "code",
   "execution_count": 31,
   "metadata": {},
   "outputs": [
    {
     "data": {
      "text/html": [
       "<div>\n",
       "<style scoped>\n",
       "    .dataframe tbody tr th:only-of-type {\n",
       "        vertical-align: middle;\n",
       "    }\n",
       "\n",
       "    .dataframe tbody tr th {\n",
       "        vertical-align: top;\n",
       "    }\n",
       "\n",
       "    .dataframe thead th {\n",
       "        text-align: right;\n",
       "    }\n",
       "</style>\n",
       "<table border=\"1\" class=\"dataframe\">\n",
       "  <thead>\n",
       "    <tr style=\"text-align: right;\">\n",
       "      <th></th>\n",
       "      <th>count</th>\n",
       "      <th>mean</th>\n",
       "      <th>std</th>\n",
       "      <th>min</th>\n",
       "      <th>10%</th>\n",
       "      <th>20%</th>\n",
       "      <th>30%</th>\n",
       "      <th>40%</th>\n",
       "      <th>50%</th>\n",
       "      <th>60%</th>\n",
       "      <th>70%</th>\n",
       "      <th>80%</th>\n",
       "      <th>90%</th>\n",
       "      <th>max</th>\n",
       "    </tr>\n",
       "  </thead>\n",
       "  <tbody>\n",
       "    <tr>\n",
       "      <th>pl_orbper</th>\n",
       "      <td>1392.0</td>\n",
       "      <td>6055.648239</td>\n",
       "      <td>195711.950712</td>\n",
       "      <td>0.090706</td>\n",
       "      <td>2.644056</td>\n",
       "      <td>3.577731</td>\n",
       "      <td>4.86813</td>\n",
       "      <td>9.28818</td>\n",
       "      <td>22.16875</td>\n",
       "      <td>92.1636</td>\n",
       "      <td>344.859</td>\n",
       "      <td>702.400</td>\n",
       "      <td>1633.600</td>\n",
       "      <td>7300000.00</td>\n",
       "    </tr>\n",
       "    <tr>\n",
       "      <th>pl_bmassj</th>\n",
       "      <td>1392.0</td>\n",
       "      <td>2.348423</td>\n",
       "      <td>4.137280</td>\n",
       "      <td>0.000060</td>\n",
       "      <td>0.020423</td>\n",
       "      <td>0.052150</td>\n",
       "      <td>0.27590</td>\n",
       "      <td>0.57280</td>\n",
       "      <td>0.91000</td>\n",
       "      <td>1.3400</td>\n",
       "      <td>1.977</td>\n",
       "      <td>3.098</td>\n",
       "      <td>6.781</td>\n",
       "      <td>55.59</td>\n",
       "    </tr>\n",
       "    <tr>\n",
       "      <th>st_mass</th>\n",
       "      <td>1392.0</td>\n",
       "      <td>1.136272</td>\n",
       "      <td>0.932789</td>\n",
       "      <td>0.020000</td>\n",
       "      <td>0.630000</td>\n",
       "      <td>0.800000</td>\n",
       "      <td>0.90000</td>\n",
       "      <td>0.98000</td>\n",
       "      <td>1.05000</td>\n",
       "      <td>1.1200</td>\n",
       "      <td>1.210</td>\n",
       "      <td>1.330</td>\n",
       "      <td>1.540</td>\n",
       "      <td>23.56</td>\n",
       "    </tr>\n",
       "  </tbody>\n",
       "</table>\n",
       "</div>"
      ],
      "text/plain": [
       "            count         mean            std       min       10%       20%  \\\n",
       "pl_orbper  1392.0  6055.648239  195711.950712  0.090706  2.644056  3.577731   \n",
       "pl_bmassj  1392.0     2.348423       4.137280  0.000060  0.020423  0.052150   \n",
       "st_mass    1392.0     1.136272       0.932789  0.020000  0.630000  0.800000   \n",
       "\n",
       "               30%      40%       50%      60%      70%      80%       90%  \\\n",
       "pl_orbper  4.86813  9.28818  22.16875  92.1636  344.859  702.400  1633.600   \n",
       "pl_bmassj  0.27590  0.57280   0.91000   1.3400    1.977    3.098     6.781   \n",
       "st_mass    0.90000  0.98000   1.05000   1.1200    1.210    1.330     1.540   \n",
       "\n",
       "                  max  \n",
       "pl_orbper  7300000.00  \n",
       "pl_bmassj       55.59  \n",
       "st_mass         23.56  "
      ]
     },
     "execution_count": 31,
     "metadata": {},
     "output_type": "execute_result"
    }
   ],
   "source": [
    "sub_df.describe(percentiles=[0.1, 0.2, 0.3, 0.4, 0.5, 0.6, 0.7, 0.8, 0.9]).T"
   ]
  },
  {
   "cell_type": "code",
   "execution_count": null,
   "metadata": {},
   "outputs": [],
   "source": [
    "sub_df['pl_orbper_log'] "
   ]
  },
  {
   "cell_type": "markdown",
   "metadata": {},
   "source": [
    "## Box Plots\n",
    "Box plots are useful for understanding the spread in values for a variable in the dataset."
   ]
  },
  {
   "cell_type": "code",
   "execution_count": 7,
   "metadata": {},
   "outputs": [
    {
     "data": {
      "image/png": "[encoded data removed]",
      "text/plain": [
       "<Figure size 1080x360 with 3 Axes>"
      ]
     },
     "metadata": {
      "needs_background": "light"
     },
     "output_type": "display_data"
    }
   ],
   "source": [
    "plt.figure(figsize=(15, 5))\n",
    "\n",
    "plt.subplot(1, 3, 1)\n",
    "plt.boxplot(sub_df['pl_orbper'])\n",
    "plt.ylabel('Planet orbital period (days)')\n",
    "\n",
    "plt.subplot(1, 3, 2)\n",
    "plt.boxplot(sub_df['pl_bmassj'])\n",
    "plt.ylabel('Planetary mass (Jupiter masses)')\n",
    "\n",
    "plt.subplot(1, 3, 3)\n",
    "plt.boxplot(sub_df['st_mass'])\n",
    "plt.ylabel('Stellar mass (solar masses)')\n",
    "\n",
    "plt.tight_layout()\n",
    "plt.show()"
   ]
  },
  {
   "cell_type": "markdown",
   "metadata": {},
   "source": [
    "**Observations:**\n",
    "\n",
    "These plots show that for orbital period, planet mass, and stellar mass there is a wide range in values, with values clustered mostly to one end.\n",
    "\n",
    "## Histograms\n",
    "We can also view the distributions for planetary orbital period, planetery mass, and stellar mass using histograms. A histogram creates equally spaced bins for a range in values and plots the number of values in each bin."
   ]
  },
  {
   "cell_type": "code",
   "execution_count": 10,
   "metadata": {},
   "outputs": [
    {
     "data": {
      "image/png": "[encoded data removed]",
      "text/plain": [
       "<Figure size 1080x360 with 3 Axes>"
      ]
     },
     "metadata": {
      "needs_background": "light"
     },
     "output_type": "display_data"
    }
   ],
   "source": [
    "plt.figure(figsize=(15, 5))\n",
    "\n",
    "# Filter dataframe to only include values greater than 0\n",
    "\n",
    "plt.subplot(1, 3, 1)\n",
    "plt.hist(sub_df['pl_orbper'], color='red', bins=200)\n",
    "plt.xlabel('Planet orbital period (days)')\n",
    "plt.ylabel('Count')\n",
    "\n",
    "plt.subplot(1, 3, 2)\n",
    "plt.hist(sub_df['pl_bmassj'], color='green')\n",
    "plt.xlabel('Planetary mass (Jupiter masses)')\n",
    "plt.ylabel('Count')\n",
    "\n",
    "plt.subplot(1, 3, 3)\n",
    "plt.hist(sub_df['st_mass'], color='blue')\n",
    "plt.xlabel('Stellar mass (solar masses)')\n",
    "plt.ylabel('Count')\n",
    "\n",
    "plt.tight_layout()\n",
    "plt.show()"
   ]
  },
  {
   "cell_type": "markdown",
   "metadata": {},
   "source": [
    "**Observations:**\n",
    "\n",
    "Each distribution is clearly one-sided, with the majority of values clustered around the lower end.\n",
    "\n",
    "## Thresholding\n",
    "This one-sided nature for these values makes it hard to view the distribution shape for thess values. Therefore, I decided to define thresholds to only include values up to a certain limit"
   ]
  },
  {
   "cell_type": "code",
   "execution_count": 26,
   "metadata": {},
   "outputs": [],
   "source": [
    "orbit_period_thresh = 100\n",
    "planet_mass_thresh = 5\n",
    "stellar_mass_thresh = 5"
   ]
  },
  {
   "cell_type": "code",
   "execution_count": 19,
   "metadata": {},
   "outputs": [],
   "source": [
    "df_thresh = sub_df[(sub_df['pl_orbper'] <= orbit_period_thresh) & \n",
    "                   (sub_df['st_mass'] <= stellar_mass_thresh) & \n",
    "                   (sub_df['pl_bmassj'] <= planet_mass_thresh)]"
   ]
  },
  {
   "cell_type": "code",
   "execution_count": 22,
   "metadata": {},
   "outputs": [
    {
     "data": {
      "text/html": [
       "<div>\n",
       "<style scoped>\n",
       "    .dataframe tbody tr th:only-of-type {\n",
       "        vertical-align: middle;\n",
       "    }\n",
       "\n",
       "    .dataframe tbody tr th {\n",
       "        vertical-align: top;\n",
       "    }\n",
       "\n",
       "    .dataframe thead th {\n",
       "        text-align: right;\n",
       "    }\n",
       "</style>\n",
       "<table border=\"1\" class=\"dataframe\">\n",
       "  <thead>\n",
       "    <tr style=\"text-align: right;\">\n",
       "      <th></th>\n",
       "      <th>count</th>\n",
       "      <th>mean</th>\n",
       "      <th>std</th>\n",
       "      <th>min</th>\n",
       "      <th>25%</th>\n",
       "      <th>50%</th>\n",
       "      <th>75%</th>\n",
       "      <th>max</th>\n",
       "    </tr>\n",
       "  </thead>\n",
       "  <tbody>\n",
       "    <tr>\n",
       "      <th>pl_orbper</th>\n",
       "      <td>799.0</td>\n",
       "      <td>13.105564</td>\n",
       "      <td>18.452703</td>\n",
       "      <td>0.090706</td>\n",
       "      <td>3.127541</td>\n",
       "      <td>4.885489</td>\n",
       "      <td>13.5898</td>\n",
       "      <td>98.2114</td>\n",
       "    </tr>\n",
       "    <tr>\n",
       "      <th>pl_bmassj</th>\n",
       "      <td>799.0</td>\n",
       "      <td>0.730515</td>\n",
       "      <td>0.960480</td>\n",
       "      <td>0.000060</td>\n",
       "      <td>0.031415</td>\n",
       "      <td>0.390000</td>\n",
       "      <td>1.0420</td>\n",
       "      <td>4.8700</td>\n",
       "    </tr>\n",
       "    <tr>\n",
       "      <th>st_mass</th>\n",
       "      <td>799.0</td>\n",
       "      <td>0.999625</td>\n",
       "      <td>0.361494</td>\n",
       "      <td>0.080000</td>\n",
       "      <td>0.810000</td>\n",
       "      <td>1.000000</td>\n",
       "      <td>1.1850</td>\n",
       "      <td>2.7800</td>\n",
       "    </tr>\n",
       "  </tbody>\n",
       "</table>\n",
       "</div>"
      ],
      "text/plain": [
       "           count       mean        std       min       25%       50%      75%  \\\n",
       "pl_orbper  799.0  13.105564  18.452703  0.090706  3.127541  4.885489  13.5898   \n",
       "pl_bmassj  799.0   0.730515   0.960480  0.000060  0.031415  0.390000   1.0420   \n",
       "st_mass    799.0   0.999625   0.361494  0.080000  0.810000  1.000000   1.1850   \n",
       "\n",
       "               max  \n",
       "pl_orbper  98.2114  \n",
       "pl_bmassj   4.8700  \n",
       "st_mass     2.7800  "
      ]
     },
     "execution_count": 22,
     "metadata": {},
     "output_type": "execute_result"
    }
   ],
   "source": [
    "df_thresh.describe().T"
   ]
  },
  {
   "cell_type": "code",
   "execution_count": 30,
   "metadata": {},
   "outputs": [
    {
     "data": {
      "text/html": [
       "<div>\n",
       "<style scoped>\n",
       "    .dataframe tbody tr th:only-of-type {\n",
       "        vertical-align: middle;\n",
       "    }\n",
       "\n",
       "    .dataframe tbody tr th {\n",
       "        vertical-align: top;\n",
       "    }\n",
       "\n",
       "    .dataframe thead th {\n",
       "        text-align: right;\n",
       "    }\n",
       "</style>\n",
       "<table border=\"1\" class=\"dataframe\">\n",
       "  <thead>\n",
       "    <tr style=\"text-align: right;\">\n",
       "      <th></th>\n",
       "      <th>count</th>\n",
       "      <th>mean</th>\n",
       "      <th>std</th>\n",
       "      <th>min</th>\n",
       "      <th>10%</th>\n",
       "      <th>20%</th>\n",
       "      <th>30%</th>\n",
       "      <th>40%</th>\n",
       "      <th>50%</th>\n",
       "      <th>60%</th>\n",
       "      <th>70%</th>\n",
       "      <th>80%</th>\n",
       "      <th>90%</th>\n",
       "      <th>max</th>\n",
       "    </tr>\n",
       "  </thead>\n",
       "  <tbody>\n",
       "    <tr>\n",
       "      <th>pl_orbper</th>\n",
       "      <td>799.0</td>\n",
       "      <td>13.105564</td>\n",
       "      <td>18.452703</td>\n",
       "      <td>0.090706</td>\n",
       "      <td>2.068782</td>\n",
       "      <td>2.834568</td>\n",
       "      <td>3.395002</td>\n",
       "      <td>4.039526</td>\n",
       "      <td>4.885489</td>\n",
       "      <td>6.884338</td>\n",
       "      <td>10.757484</td>\n",
       "      <td>17.996074</td>\n",
       "      <td>38.9332</td>\n",
       "      <td>98.2114</td>\n",
       "    </tr>\n",
       "    <tr>\n",
       "      <th>pl_bmassj</th>\n",
       "      <td>799.0</td>\n",
       "      <td>0.730515</td>\n",
       "      <td>0.960480</td>\n",
       "      <td>0.000060</td>\n",
       "      <td>0.013138</td>\n",
       "      <td>0.023798</td>\n",
       "      <td>0.042452</td>\n",
       "      <td>0.120000</td>\n",
       "      <td>0.390000</td>\n",
       "      <td>0.598200</td>\n",
       "      <td>0.860000</td>\n",
       "      <td>1.267000</td>\n",
       "      <td>2.0622</td>\n",
       "      <td>4.8700</td>\n",
       "    </tr>\n",
       "    <tr>\n",
       "      <th>st_mass</th>\n",
       "      <td>799.0</td>\n",
       "      <td>0.999625</td>\n",
       "      <td>0.361494</td>\n",
       "      <td>0.080000</td>\n",
       "      <td>0.580000</td>\n",
       "      <td>0.770000</td>\n",
       "      <td>0.860000</td>\n",
       "      <td>0.930000</td>\n",
       "      <td>1.000000</td>\n",
       "      <td>1.060000</td>\n",
       "      <td>1.126000</td>\n",
       "      <td>1.224000</td>\n",
       "      <td>1.4000</td>\n",
       "      <td>2.7800</td>\n",
       "    </tr>\n",
       "  </tbody>\n",
       "</table>\n",
       "</div>"
      ],
      "text/plain": [
       "           count       mean        std       min       10%       20%  \\\n",
       "pl_orbper  799.0  13.105564  18.452703  0.090706  2.068782  2.834568   \n",
       "pl_bmassj  799.0   0.730515   0.960480  0.000060  0.013138  0.023798   \n",
       "st_mass    799.0   0.999625   0.361494  0.080000  0.580000  0.770000   \n",
       "\n",
       "                30%       40%       50%       60%        70%        80%  \\\n",
       "pl_orbper  3.395002  4.039526  4.885489  6.884338  10.757484  17.996074   \n",
       "pl_bmassj  0.042452  0.120000  0.390000  0.598200   0.860000   1.267000   \n",
       "st_mass    0.860000  0.930000  1.000000  1.060000   1.126000   1.224000   \n",
       "\n",
       "               90%      max  \n",
       "pl_orbper  38.9332  98.2114  \n",
       "pl_bmassj   2.0622   4.8700  \n",
       "st_mass     1.4000   2.7800  "
      ]
     },
     "execution_count": 30,
     "metadata": {},
     "output_type": "execute_result"
    }
   ],
   "source": [
    "df_thresh.describe(percentiles=[0.1, 0.2, 0.3, 0.4, 0.5, 0.6, 0.7, 0.8, 0.9]).T"
   ]
  },
  {
   "cell_type": "code",
   "execution_count": 11,
   "metadata": {},
   "outputs": [
    {
     "data": {
      "image/png": "[encoded data removed]",
      "text/plain": [
       "<Figure size 1080x360 with 3 Axes>"
      ]
     },
     "metadata": {
      "needs_background": "light"
     },
     "output_type": "display_data"
    }
   ],
   "source": [
    "plt.figure(figsize=(15, 5))\n",
    "\n",
    "plt.subplot(1, 3, 1)\n",
    "plt.hist(df_thresh['pl_orbper'], color='red')\n",
    "plt.xlabel('Planet orbital period (days)')\n",
    "plt.ylabel('Count')\n",
    "\n",
    "plt.subplot(1, 3, 2)\n",
    "plt.hist(df_thresh['pl_bmassj'], color='green')\n",
    "plt.xlabel('Planetary mass (Jupiter masses)')\n",
    "plt.ylabel('Count')\n",
    "\n",
    "plt.subplot(1, 3, 3)\n",
    "plt.hist(df_thresh['st_mass'], color='blue')\n",
    "plt.xlabel('Stellar mass (solar masses)')\n",
    "plt.ylabel('Count')\n",
    "\n",
    "plt.tight_layout()\n",
    "plt.show()"
   ]
  },
  {
   "cell_type": "code",
   "execution_count": 29,
   "metadata": {},
   "outputs": [
    {
     "data": {
      "image/png": "[encoded data removed]",
      "text/plain": [
       "<Figure size 1080x360 with 3 Axes>"
      ]
     },
     "metadata": {
      "needs_background": "light"
     },
     "output_type": "display_data"
    }
   ],
   "source": [
    "plt.figure(figsize=(15, 5))\n",
    "\n",
    "plt.subplot(1, 3, 1)\n",
    "plt.hist(df_thresh_2['pl_orbper'], color='red')\n",
    "plt.xlabel('Planet orbital period (days)')\n",
    "plt.ylabel('Count')\n",
    "\n",
    "plt.subplot(1, 3, 2)\n",
    "plt.hist(df_thresh_2['pl_bmassj'], color='green')\n",
    "plt.xlabel('Planetary mass (Jupiter masses)')\n",
    "plt.ylabel('Count')\n",
    "\n",
    "plt.subplot(1, 3, 3)\n",
    "plt.hist(df_thresh_2['st_mass'], color='blue')\n",
    "plt.xlabel('Stellar mass (solar masses)')\n",
    "plt.ylabel('Count')\n",
    "\n",
    "plt.tight_layout()\n",
    "plt.show()"
   ]
  },
  {
   "cell_type": "markdown",
   "metadata": {},
   "source": [
    "**Obseration:** Notice that stellar mass tends to cluster around 1, while planetary orbital period and planetary mass continue increasing toward the lower end."
   ]
  },
  {
   "cell_type": "markdown",
   "metadata": {},
   "source": [
    "## Scatter Plots\n",
    "We can further study these variables by comparing the relationships between them using scatter plots."
   ]
  },
  {
   "cell_type": "code",
   "execution_count": 12,
   "metadata": {},
   "outputs": [
    {
     "data": {
      "image/png": "[encoded data removed]",
      "text/plain": [
       "<Figure size 1080x360 with 3 Axes>"
      ]
     },
     "metadata": {
      "needs_background": "light"
     },
     "output_type": "display_data"
    }
   ],
   "source": [
    "plt.figure(figsize=(15, 5))\n",
    "\n",
    "plt.subplot(1, 3, 1)\n",
    "plt.scatter(x=df_thresh['pl_orbper'], y=df_thresh['st_mass'])\n",
    "plt.xlabel('Planet orbital period (days)')\n",
    "plt.ylabel('Stellar mass (solar masses)')\n",
    "\n",
    "plt.subplot(1, 3, 2)\n",
    "plt.scatter(x=df_thresh['pl_bmassj'], y=df_thresh['st_mass'])\n",
    "plt.xlabel('Planetary mass (Jupiter masses)')\n",
    "plt.ylabel('Stellar mass (solar masses)')\n",
    "\n",
    "plt.subplot(1, 3, 3)\n",
    "plt.scatter(x=df_thresh['pl_orbper'], y=df_thresh['pl_bmassj'])\n",
    "plt.xlabel('Planet orbital period (days)')\n",
    "plt.ylabel('Planetary mass (Jupiter masses)')\n",
    "\n",
    "plt.tight_layout()\n",
    "plt.show()"
   ]
  },
  {
   "cell_type": "markdown",
   "metadata": {},
   "source": [
    "**Observations:**\n",
    "1. As stellar mass increases, the planetary orbital period also increases.\n",
    "2. As stellar mass increases, planetary mass also increases.\n",
    "3. There is not a relationship between planetary mass and planetar orbital period."
   ]
  },
  {
   "cell_type": "code",
   "execution_count": null,
   "metadata": {},
   "outputs": [],
   "source": []
  }
 ],
 "metadata": {
  "kernelspec": {
   "display_name": "Python 3",
   "language": "python",
   "name": "python3"
  },
  "language_info": {
   "codemirror_mode": {
    "name": "ipython",
    "version": 3
   },
   "file_extension": ".py",
   "mimetype": "text/x-python",
   "name": "python",
   "nbconvert_exporter": "python",
   "pygments_lexer": "ipython3",
   "version": "3.6.8"
  }
 },
 "nbformat": 4,
 "nbformat_minor": 2
}
